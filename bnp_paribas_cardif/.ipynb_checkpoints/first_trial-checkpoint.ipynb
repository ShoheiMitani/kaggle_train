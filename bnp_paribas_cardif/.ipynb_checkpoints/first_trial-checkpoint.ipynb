{
 "cells": [
  {
   "cell_type": "code",
   "execution_count": 17,
   "metadata": {},
   "outputs": [
    {
     "data": {
      "text/html": [
       "<div>\n",
       "<style scoped>\n",
       "    .dataframe tbody tr th:only-of-type {\n",
       "        vertical-align: middle;\n",
       "    }\n",
       "\n",
       "    .dataframe tbody tr th {\n",
       "        vertical-align: top;\n",
       "    }\n",
       "\n",
       "    .dataframe thead th {\n",
       "        text-align: right;\n",
       "    }\n",
       "</style>\n",
       "<table border=\"1\" class=\"dataframe\">\n",
       "  <thead>\n",
       "    <tr style=\"text-align: right;\">\n",
       "      <th></th>\n",
       "      <th>target</th>\n",
       "      <th>v1</th>\n",
       "      <th>v2</th>\n",
       "      <th>v3</th>\n",
       "      <th>v4</th>\n",
       "      <th>v5</th>\n",
       "      <th>v6</th>\n",
       "      <th>v7</th>\n",
       "      <th>v8</th>\n",
       "      <th>v9</th>\n",
       "      <th>v10</th>\n",
       "      <th>v11</th>\n",
       "      <th>v12</th>\n",
       "      <th>v13</th>\n",
       "      <th>v14</th>\n",
       "      <th>v15</th>\n",
       "      <th>v16</th>\n",
       "      <th>v17</th>\n",
       "      <th>v18</th>\n",
       "      <th>v19</th>\n",
       "      <th>v20</th>\n",
       "      <th>v21</th>\n",
       "      <th>v22</th>\n",
       "      <th>v23</th>\n",
       "      <th>v24</th>\n",
       "      <th>v25</th>\n",
       "      <th>v26</th>\n",
       "      <th>v27</th>\n",
       "      <th>v28</th>\n",
       "      <th>v29</th>\n",
       "      <th>v30</th>\n",
       "      <th>v31</th>\n",
       "      <th>v32</th>\n",
       "      <th>v33</th>\n",
       "      <th>v34</th>\n",
       "      <th>v35</th>\n",
       "      <th>v36</th>\n",
       "      <th>v37</th>\n",
       "      <th>v38</th>\n",
       "      <th>v39</th>\n",
       "      <th>v40</th>\n",
       "      <th>v41</th>\n",
       "      <th>v42</th>\n",
       "      <th>v43</th>\n",
       "      <th>v44</th>\n",
       "      <th>v45</th>\n",
       "      <th>v46</th>\n",
       "      <th>v47</th>\n",
       "      <th>v48</th>\n",
       "      <th>v49</th>\n",
       "      <th>v50</th>\n",
       "      <th>v51</th>\n",
       "      <th>v52</th>\n",
       "      <th>v53</th>\n",
       "      <th>v54</th>\n",
       "      <th>v55</th>\n",
       "      <th>v56</th>\n",
       "      <th>v57</th>\n",
       "      <th>v58</th>\n",
       "      <th>v59</th>\n",
       "      <th>v60</th>\n",
       "      <th>v61</th>\n",
       "      <th>v62</th>\n",
       "      <th>v63</th>\n",
       "      <th>v64</th>\n",
       "      <th>v65</th>\n",
       "      <th>v66</th>\n",
       "      <th>v67</th>\n",
       "      <th>v68</th>\n",
       "      <th>v69</th>\n",
       "      <th>v70</th>\n",
       "      <th>v71</th>\n",
       "      <th>v72</th>\n",
       "      <th>v73</th>\n",
       "      <th>v74</th>\n",
       "      <th>v75</th>\n",
       "      <th>v76</th>\n",
       "      <th>v77</th>\n",
       "      <th>v78</th>\n",
       "      <th>v79</th>\n",
       "      <th>v80</th>\n",
       "      <th>v81</th>\n",
       "      <th>v82</th>\n",
       "      <th>v83</th>\n",
       "      <th>v84</th>\n",
       "      <th>v85</th>\n",
       "      <th>v86</th>\n",
       "      <th>v87</th>\n",
       "      <th>v88</th>\n",
       "      <th>v89</th>\n",
       "      <th>v90</th>\n",
       "      <th>v91</th>\n",
       "      <th>v92</th>\n",
       "      <th>v93</th>\n",
       "      <th>v94</th>\n",
       "      <th>v95</th>\n",
       "      <th>v96</th>\n",
       "      <th>v97</th>\n",
       "      <th>v98</th>\n",
       "      <th>v99</th>\n",
       "      <th>v100</th>\n",
       "      <th>v101</th>\n",
       "      <th>v102</th>\n",
       "      <th>v103</th>\n",
       "      <th>v104</th>\n",
       "      <th>v105</th>\n",
       "      <th>v106</th>\n",
       "      <th>v107</th>\n",
       "      <th>v108</th>\n",
       "      <th>v109</th>\n",
       "      <th>v110</th>\n",
       "      <th>v111</th>\n",
       "      <th>v112</th>\n",
       "      <th>v113</th>\n",
       "      <th>v114</th>\n",
       "      <th>v115</th>\n",
       "      <th>v116</th>\n",
       "      <th>v117</th>\n",
       "      <th>v118</th>\n",
       "      <th>v119</th>\n",
       "      <th>v120</th>\n",
       "      <th>v121</th>\n",
       "      <th>v122</th>\n",
       "      <th>v123</th>\n",
       "      <th>v124</th>\n",
       "      <th>v125</th>\n",
       "      <th>v126</th>\n",
       "      <th>v127</th>\n",
       "      <th>v128</th>\n",
       "      <th>v129</th>\n",
       "      <th>v130</th>\n",
       "      <th>v131</th>\n",
       "    </tr>\n",
       "  </thead>\n",
       "  <tbody>\n",
       "    <tr>\n",
       "      <th>76727</th>\n",
       "      <td>1</td>\n",
       "      <td>NaN</td>\n",
       "      <td>NaN</td>\n",
       "      <td>C</td>\n",
       "      <td>NaN</td>\n",
       "      <td>NaN</td>\n",
       "      <td>NaN</td>\n",
       "      <td>NaN</td>\n",
       "      <td>NaN</td>\n",
       "      <td>NaN</td>\n",
       "      <td>1.291028</td>\n",
       "      <td>NaN</td>\n",
       "      <td>6.748169</td>\n",
       "      <td>NaN</td>\n",
       "      <td>11.032517</td>\n",
       "      <td>NaN</td>\n",
       "      <td>NaN</td>\n",
       "      <td>NaN</td>\n",
       "      <td>NaN</td>\n",
       "      <td>NaN</td>\n",
       "      <td>NaN</td>\n",
       "      <td>6.058247</td>\n",
       "      <td>ITF</td>\n",
       "      <td>NaN</td>\n",
       "      <td>C</td>\n",
       "      <td>NaN</td>\n",
       "      <td>NaN</td>\n",
       "      <td>NaN</td>\n",
       "      <td>NaN</td>\n",
       "      <td>NaN</td>\n",
       "      <td>NaN</td>\n",
       "      <td>A</td>\n",
       "      <td>NaN</td>\n",
       "      <td>NaN</td>\n",
       "      <td>7.736754</td>\n",
       "      <td>NaN</td>\n",
       "      <td>NaN</td>\n",
       "      <td>NaN</td>\n",
       "      <td>0</td>\n",
       "      <td>NaN</td>\n",
       "      <td>7.766442</td>\n",
       "      <td>NaN</td>\n",
       "      <td>NaN</td>\n",
       "      <td>NaN</td>\n",
       "      <td>NaN</td>\n",
       "      <td>NaN</td>\n",
       "      <td>NaN</td>\n",
       "      <td>C</td>\n",
       "      <td>NaN</td>\n",
       "      <td>NaN</td>\n",
       "      <td>0.666128</td>\n",
       "      <td>NaN</td>\n",
       "      <td>D</td>\n",
       "      <td>NaN</td>\n",
       "      <td>NaN</td>\n",
       "      <td>NaN</td>\n",
       "      <td>AG</td>\n",
       "      <td>NaN</td>\n",
       "      <td>NaN</td>\n",
       "      <td>NaN</td>\n",
       "      <td>NaN</td>\n",
       "      <td>NaN</td>\n",
       "      <td>3</td>\n",
       "      <td>NaN</td>\n",
       "      <td>NaN</td>\n",
       "      <td>NaN</td>\n",
       "      <td>A</td>\n",
       "      <td>NaN</td>\n",
       "      <td>NaN</td>\n",
       "      <td>NaN</td>\n",
       "      <td>NaN</td>\n",
       "      <td>F</td>\n",
       "      <td>3</td>\n",
       "      <td>NaN</td>\n",
       "      <td>B</td>\n",
       "      <td>D</td>\n",
       "      <td>NaN</td>\n",
       "      <td>NaN</td>\n",
       "      <td>NaN</td>\n",
       "      <td>E</td>\n",
       "      <td>NaN</td>\n",
       "      <td>NaN</td>\n",
       "      <td>NaN</td>\n",
       "      <td>NaN</td>\n",
       "      <td>NaN</td>\n",
       "      <td>NaN</td>\n",
       "      <td>NaN</td>\n",
       "      <td>NaN</td>\n",
       "      <td>NaN</td>\n",
       "      <td>NaN</td>\n",
       "      <td>NaN</td>\n",
       "      <td>C</td>\n",
       "      <td>NaN</td>\n",
       "      <td>NaN</td>\n",
       "      <td>NaN</td>\n",
       "      <td>NaN</td>\n",
       "      <td>NaN</td>\n",
       "      <td>NaN</td>\n",
       "      <td>NaN</td>\n",
       "      <td>NaN</td>\n",
       "      <td>NaN</td>\n",
       "      <td>NaN</td>\n",
       "      <td>NaN</td>\n",
       "      <td>NaN</td>\n",
       "      <td>NaN</td>\n",
       "      <td>NaN</td>\n",
       "      <td>NaN</td>\n",
       "      <td>D</td>\n",
       "      <td>NaN</td>\n",
       "      <td>NaN</td>\n",
       "      <td>B</td>\n",
       "      <td>NaN</td>\n",
       "      <td>D</td>\n",
       "      <td>NaN</td>\n",
       "      <td>15.524113</td>\n",
       "      <td>NaN</td>\n",
       "      <td>NaN</td>\n",
       "      <td>NaN</td>\n",
       "      <td>NaN</td>\n",
       "      <td>NaN</td>\n",
       "      <td>NaN</td>\n",
       "      <td>NaN</td>\n",
       "      <td>NaN</td>\n",
       "      <td>NaN</td>\n",
       "      <td>NaN</td>\n",
       "      <td>X</td>\n",
       "      <td>NaN</td>\n",
       "      <td>NaN</td>\n",
       "      <td>NaN</td>\n",
       "      <td>0</td>\n",
       "      <td>NaN</td>\n",
       "      <td>NaN</td>\n",
       "    </tr>\n",
       "    <tr>\n",
       "      <th>114088</th>\n",
       "      <td>1</td>\n",
       "      <td>3.008130</td>\n",
       "      <td>9.610487</td>\n",
       "      <td>C</td>\n",
       "      <td>5.307094</td>\n",
       "      <td>8.749160</td>\n",
       "      <td>3.252033</td>\n",
       "      <td>2.439024</td>\n",
       "      <td>0.009707</td>\n",
       "      <td>7.000000</td>\n",
       "      <td>1.291029</td>\n",
       "      <td>17.192982</td>\n",
       "      <td>6.712795</td>\n",
       "      <td>3.652847</td>\n",
       "      <td>10.478942</td>\n",
       "      <td>1.031353</td>\n",
       "      <td>3.076924</td>\n",
       "      <td>3.756145</td>\n",
       "      <td>0.074210</td>\n",
       "      <td>0.213615</td>\n",
       "      <td>18.045674</td>\n",
       "      <td>5.567791</td>\n",
       "      <td>GA</td>\n",
       "      <td>1.124447e-07</td>\n",
       "      <td>E</td>\n",
       "      <td>0.146571</td>\n",
       "      <td>1.341463</td>\n",
       "      <td>2.845528</td>\n",
       "      <td>0.523840</td>\n",
       "      <td>8.211382</td>\n",
       "      <td>NaN</td>\n",
       "      <td>A</td>\n",
       "      <td>0.853659</td>\n",
       "      <td>2.113822</td>\n",
       "      <td>4.976633</td>\n",
       "      <td>8.130080</td>\n",
       "      <td>10.577038</td>\n",
       "      <td>1.333333</td>\n",
       "      <td>0</td>\n",
       "      <td>-4.433934e-07</td>\n",
       "      <td>12.130814</td>\n",
       "      <td>7.967479</td>\n",
       "      <td>12.926829</td>\n",
       "      <td>1.578947</td>\n",
       "      <td>10.834968</td>\n",
       "      <td>11.089765</td>\n",
       "      <td>0.111407</td>\n",
       "      <td>C</td>\n",
       "      <td>11.880353</td>\n",
       "      <td>8.780487</td>\n",
       "      <td>0.764435</td>\n",
       "      <td>6.783674</td>\n",
       "      <td>B</td>\n",
       "      <td>17.425742</td>\n",
       "      <td>0.042408</td>\n",
       "      <td>1.463416</td>\n",
       "      <td>AS</td>\n",
       "      <td>3.658537</td>\n",
       "      <td>0.380953</td>\n",
       "      <td>12.022503</td>\n",
       "      <td>1.043360</td>\n",
       "      <td>16.607470</td>\n",
       "      <td>2</td>\n",
       "      <td>0.149287</td>\n",
       "      <td>6.436024</td>\n",
       "      <td>16.091348</td>\n",
       "      <td>A</td>\n",
       "      <td>9.268294</td>\n",
       "      <td>18.857142</td>\n",
       "      <td>9.230769</td>\n",
       "      <td>12.435678</td>\n",
       "      <td>F</td>\n",
       "      <td>2</td>\n",
       "      <td>1.279240</td>\n",
       "      <td>B</td>\n",
       "      <td>D</td>\n",
       "      <td>2.326702</td>\n",
       "      <td>6.585366</td>\n",
       "      <td>13.846153</td>\n",
       "      <td>E</td>\n",
       "      <td>2.000001</td>\n",
       "      <td>6.554763</td>\n",
       "      <td>8.610624</td>\n",
       "      <td>2.195122</td>\n",
       "      <td>0.975611</td>\n",
       "      <td>1.311476</td>\n",
       "      <td>0.609757</td>\n",
       "      <td>10.257636</td>\n",
       "      <td>3.252032</td>\n",
       "      <td>0.066011</td>\n",
       "      <td>1.019932</td>\n",
       "      <td>A</td>\n",
       "      <td>0.552303</td>\n",
       "      <td>4.918771</td>\n",
       "      <td>3.874902</td>\n",
       "      <td>0.626963</td>\n",
       "      <td>7.154471</td>\n",
       "      <td>4.666666</td>\n",
       "      <td>8.201902</td>\n",
       "      <td>1.043361</td>\n",
       "      <td>19.619049</td>\n",
       "      <td>8.962532</td>\n",
       "      <td>1.967642</td>\n",
       "      <td>5.541221</td>\n",
       "      <td>1.772393</td>\n",
       "      <td>0.006858</td>\n",
       "      <td>12.885423</td>\n",
       "      <td>E</td>\n",
       "      <td>2.360249</td>\n",
       "      <td>6.019738</td>\n",
       "      <td>B</td>\n",
       "      <td>3.414634</td>\n",
       "      <td>N</td>\n",
       "      <td>NaN</td>\n",
       "      <td>12.193743</td>\n",
       "      <td>10.769230</td>\n",
       "      <td>1.386139</td>\n",
       "      <td>8.100038</td>\n",
       "      <td>5.999999</td>\n",
       "      <td>0.223131</td>\n",
       "      <td>1.333333</td>\n",
       "      <td>2.500001</td>\n",
       "      <td>5.000001</td>\n",
       "      <td>1.562595</td>\n",
       "      <td>0.018081</td>\n",
       "      <td>BD</td>\n",
       "      <td>1.501524</td>\n",
       "      <td>2.591464</td>\n",
       "      <td>2.540352</td>\n",
       "      <td>0</td>\n",
       "      <td>1.733333</td>\n",
       "      <td>3.076922</td>\n",
       "    </tr>\n",
       "    <tr>\n",
       "      <th>29698</th>\n",
       "      <td>1</td>\n",
       "      <td>1.289841</td>\n",
       "      <td>4.788643</td>\n",
       "      <td>C</td>\n",
       "      <td>4.283418</td>\n",
       "      <td>10.719569</td>\n",
       "      <td>3.107569</td>\n",
       "      <td>1.962151</td>\n",
       "      <td>0.080811</td>\n",
       "      <td>8.604651</td>\n",
       "      <td>1.553610</td>\n",
       "      <td>16.275461</td>\n",
       "      <td>6.933089</td>\n",
       "      <td>3.507230</td>\n",
       "      <td>12.239968</td>\n",
       "      <td>1.730493</td>\n",
       "      <td>6.730770</td>\n",
       "      <td>2.980921</td>\n",
       "      <td>0.540674</td>\n",
       "      <td>0.247952</td>\n",
       "      <td>18.162637</td>\n",
       "      <td>6.908085</td>\n",
       "      <td>YLG</td>\n",
       "      <td>4.549538e-07</td>\n",
       "      <td>E</td>\n",
       "      <td>0.140161</td>\n",
       "      <td>1.479083</td>\n",
       "      <td>1.683267</td>\n",
       "      <td>4.291213</td>\n",
       "      <td>9.233068</td>\n",
       "      <td>NaN</td>\n",
       "      <td>B</td>\n",
       "      <td>1.658367</td>\n",
       "      <td>2.071713</td>\n",
       "      <td>4.623952</td>\n",
       "      <td>10.697211</td>\n",
       "      <td>12.587746</td>\n",
       "      <td>0.710661</td>\n",
       "      <td>0</td>\n",
       "      <td>3.959633e-01</td>\n",
       "      <td>12.952753</td>\n",
       "      <td>8.356574</td>\n",
       "      <td>13.685260</td>\n",
       "      <td>1.571289</td>\n",
       "      <td>8.110800</td>\n",
       "      <td>11.257027</td>\n",
       "      <td>0.133654</td>\n",
       "      <td>C</td>\n",
       "      <td>13.101712</td>\n",
       "      <td>9.153387</td>\n",
       "      <td>0.688136</td>\n",
       "      <td>4.857375</td>\n",
       "      <td>F</td>\n",
       "      <td>16.763754</td>\n",
       "      <td>0.133755</td>\n",
       "      <td>1.494024</td>\n",
       "      <td>BW</td>\n",
       "      <td>4.173307</td>\n",
       "      <td>1.830065</td>\n",
       "      <td>13.452836</td>\n",
       "      <td>1.351262</td>\n",
       "      <td>15.137857</td>\n",
       "      <td>0</td>\n",
       "      <td>0.159213</td>\n",
       "      <td>5.348231</td>\n",
       "      <td>16.738679</td>\n",
       "      <td>A</td>\n",
       "      <td>10.268924</td>\n",
       "      <td>19.137255</td>\n",
       "      <td>9.615384</td>\n",
       "      <td>14.739096</td>\n",
       "      <td>F</td>\n",
       "      <td>2</td>\n",
       "      <td>2.242969</td>\n",
       "      <td>B</td>\n",
       "      <td>D</td>\n",
       "      <td>1.776570</td>\n",
       "      <td>8.097610</td>\n",
       "      <td>11.923077</td>\n",
       "      <td>B</td>\n",
       "      <td>2.713178</td>\n",
       "      <td>4.974123</td>\n",
       "      <td>11.722124</td>\n",
       "      <td>1.852591</td>\n",
       "      <td>2.091633</td>\n",
       "      <td>1.678081</td>\n",
       "      <td>1.150398</td>\n",
       "      <td>9.565966</td>\n",
       "      <td>2.290836</td>\n",
       "      <td>0.113774</td>\n",
       "      <td>1.063355</td>\n",
       "      <td>C</td>\n",
       "      <td>0.810265</td>\n",
       "      <td>5.324644</td>\n",
       "      <td>3.618375</td>\n",
       "      <td>0.899314</td>\n",
       "      <td>7.739044</td>\n",
       "      <td>7.512690</td>\n",
       "      <td>4.809763</td>\n",
       "      <td>1.351261</td>\n",
       "      <td>17.960785</td>\n",
       "      <td>8.091601</td>\n",
       "      <td>4.042366</td>\n",
       "      <td>5.229696</td>\n",
       "      <td>2.801053</td>\n",
       "      <td>0.050819</td>\n",
       "      <td>11.320335</td>\n",
       "      <td>D</td>\n",
       "      <td>2.144041</td>\n",
       "      <td>1.875000</td>\n",
       "      <td>B</td>\n",
       "      <td>3.227092</td>\n",
       "      <td>H</td>\n",
       "      <td>NaN</td>\n",
       "      <td>11.372095</td>\n",
       "      <td>10.384615</td>\n",
       "      <td>1.596549</td>\n",
       "      <td>6.763718</td>\n",
       "      <td>8.223349</td>\n",
       "      <td>0.248266</td>\n",
       "      <td>0.522876</td>\n",
       "      <td>2.023939</td>\n",
       "      <td>5.968992</td>\n",
       "      <td>2.169825</td>\n",
       "      <td>0.004921</td>\n",
       "      <td>CD</td>\n",
       "      <td>1.460793</td>\n",
       "      <td>1.531374</td>\n",
       "      <td>1.964652</td>\n",
       "      <td>2</td>\n",
       "      <td>2.111676</td>\n",
       "      <td>1.346153</td>\n",
       "    </tr>\n",
       "    <tr>\n",
       "      <th>76482</th>\n",
       "      <td>0</td>\n",
       "      <td>NaN</td>\n",
       "      <td>NaN</td>\n",
       "      <td>C</td>\n",
       "      <td>NaN</td>\n",
       "      <td>NaN</td>\n",
       "      <td>NaN</td>\n",
       "      <td>NaN</td>\n",
       "      <td>NaN</td>\n",
       "      <td>NaN</td>\n",
       "      <td>1.312910</td>\n",
       "      <td>NaN</td>\n",
       "      <td>6.828125</td>\n",
       "      <td>NaN</td>\n",
       "      <td>12.148606</td>\n",
       "      <td>NaN</td>\n",
       "      <td>NaN</td>\n",
       "      <td>NaN</td>\n",
       "      <td>NaN</td>\n",
       "      <td>NaN</td>\n",
       "      <td>NaN</td>\n",
       "      <td>7.230163</td>\n",
       "      <td>KCE</td>\n",
       "      <td>NaN</td>\n",
       "      <td>C</td>\n",
       "      <td>NaN</td>\n",
       "      <td>NaN</td>\n",
       "      <td>NaN</td>\n",
       "      <td>NaN</td>\n",
       "      <td>NaN</td>\n",
       "      <td>NaN</td>\n",
       "      <td>A</td>\n",
       "      <td>NaN</td>\n",
       "      <td>NaN</td>\n",
       "      <td>5.508541</td>\n",
       "      <td>NaN</td>\n",
       "      <td>NaN</td>\n",
       "      <td>NaN</td>\n",
       "      <td>0</td>\n",
       "      <td>NaN</td>\n",
       "      <td>11.311772</td>\n",
       "      <td>NaN</td>\n",
       "      <td>NaN</td>\n",
       "      <td>NaN</td>\n",
       "      <td>NaN</td>\n",
       "      <td>NaN</td>\n",
       "      <td>NaN</td>\n",
       "      <td>I</td>\n",
       "      <td>NaN</td>\n",
       "      <td>NaN</td>\n",
       "      <td>0.488592</td>\n",
       "      <td>NaN</td>\n",
       "      <td>K</td>\n",
       "      <td>NaN</td>\n",
       "      <td>NaN</td>\n",
       "      <td>NaN</td>\n",
       "      <td>DO</td>\n",
       "      <td>NaN</td>\n",
       "      <td>NaN</td>\n",
       "      <td>NaN</td>\n",
       "      <td>NaN</td>\n",
       "      <td>NaN</td>\n",
       "      <td>1</td>\n",
       "      <td>NaN</td>\n",
       "      <td>NaN</td>\n",
       "      <td>NaN</td>\n",
       "      <td>A</td>\n",
       "      <td>NaN</td>\n",
       "      <td>NaN</td>\n",
       "      <td>NaN</td>\n",
       "      <td>NaN</td>\n",
       "      <td>B</td>\n",
       "      <td>1</td>\n",
       "      <td>NaN</td>\n",
       "      <td>B</td>\n",
       "      <td>B</td>\n",
       "      <td>NaN</td>\n",
       "      <td>NaN</td>\n",
       "      <td>NaN</td>\n",
       "      <td>C</td>\n",
       "      <td>NaN</td>\n",
       "      <td>NaN</td>\n",
       "      <td>NaN</td>\n",
       "      <td>NaN</td>\n",
       "      <td>NaN</td>\n",
       "      <td>NaN</td>\n",
       "      <td>NaN</td>\n",
       "      <td>NaN</td>\n",
       "      <td>NaN</td>\n",
       "      <td>NaN</td>\n",
       "      <td>NaN</td>\n",
       "      <td>B</td>\n",
       "      <td>NaN</td>\n",
       "      <td>NaN</td>\n",
       "      <td>NaN</td>\n",
       "      <td>NaN</td>\n",
       "      <td>NaN</td>\n",
       "      <td>NaN</td>\n",
       "      <td>NaN</td>\n",
       "      <td>NaN</td>\n",
       "      <td>NaN</td>\n",
       "      <td>NaN</td>\n",
       "      <td>NaN</td>\n",
       "      <td>NaN</td>\n",
       "      <td>NaN</td>\n",
       "      <td>NaN</td>\n",
       "      <td>NaN</td>\n",
       "      <td>B</td>\n",
       "      <td>NaN</td>\n",
       "      <td>NaN</td>\n",
       "      <td>A</td>\n",
       "      <td>NaN</td>\n",
       "      <td>N</td>\n",
       "      <td>W</td>\n",
       "      <td>12.801252</td>\n",
       "      <td>NaN</td>\n",
       "      <td>NaN</td>\n",
       "      <td>NaN</td>\n",
       "      <td>NaN</td>\n",
       "      <td>NaN</td>\n",
       "      <td>NaN</td>\n",
       "      <td>NaN</td>\n",
       "      <td>NaN</td>\n",
       "      <td>NaN</td>\n",
       "      <td>NaN</td>\n",
       "      <td>AK</td>\n",
       "      <td>NaN</td>\n",
       "      <td>NaN</td>\n",
       "      <td>NaN</td>\n",
       "      <td>0</td>\n",
       "      <td>NaN</td>\n",
       "      <td>NaN</td>\n",
       "    </tr>\n",
       "    <tr>\n",
       "      <th>22801</th>\n",
       "      <td>1</td>\n",
       "      <td>1.707035</td>\n",
       "      <td>7.973529</td>\n",
       "      <td>C</td>\n",
       "      <td>3.345923</td>\n",
       "      <td>7.256221</td>\n",
       "      <td>2.583621</td>\n",
       "      <td>2.214533</td>\n",
       "      <td>0.038365</td>\n",
       "      <td>9.904762</td>\n",
       "      <td>1.312910</td>\n",
       "      <td>15.674301</td>\n",
       "      <td>6.820732</td>\n",
       "      <td>3.615514</td>\n",
       "      <td>12.223805</td>\n",
       "      <td>2.513405</td>\n",
       "      <td>7.000001</td>\n",
       "      <td>3.723576</td>\n",
       "      <td>0.338540</td>\n",
       "      <td>0.222515</td>\n",
       "      <td>17.901672</td>\n",
       "      <td>7.406736</td>\n",
       "      <td>ABDN</td>\n",
       "      <td>-6.393184e-07</td>\n",
       "      <td>E</td>\n",
       "      <td>0.229674</td>\n",
       "      <td>1.353325</td>\n",
       "      <td>2.629758</td>\n",
       "      <td>1.851615</td>\n",
       "      <td>8.604383</td>\n",
       "      <td>C</td>\n",
       "      <td>A</td>\n",
       "      <td>1.799309</td>\n",
       "      <td>0.922723</td>\n",
       "      <td>7.676554</td>\n",
       "      <td>8.258362</td>\n",
       "      <td>11.790602</td>\n",
       "      <td>0.833334</td>\n",
       "      <td>0</td>\n",
       "      <td>1.626134e+00</td>\n",
       "      <td>7.883656</td>\n",
       "      <td>7.104959</td>\n",
       "      <td>12.525951</td>\n",
       "      <td>1.628499</td>\n",
       "      <td>10.210684</td>\n",
       "      <td>9.327354</td>\n",
       "      <td>0.122960</td>\n",
       "      <td>J</td>\n",
       "      <td>12.093019</td>\n",
       "      <td>7.889273</td>\n",
       "      <td>0.509133</td>\n",
       "      <td>7.990444</td>\n",
       "      <td>H</td>\n",
       "      <td>16.085792</td>\n",
       "      <td>0.108941</td>\n",
       "      <td>0.484428</td>\n",
       "      <td>DS</td>\n",
       "      <td>3.921568</td>\n",
       "      <td>5.511482</td>\n",
       "      <td>11.831424</td>\n",
       "      <td>1.184159</td>\n",
       "      <td>15.934192</td>\n",
       "      <td>1</td>\n",
       "      <td>0.117456</td>\n",
       "      <td>6.361704</td>\n",
       "      <td>17.407947</td>\n",
       "      <td>A</td>\n",
       "      <td>9.065743</td>\n",
       "      <td>15.407098</td>\n",
       "      <td>6.999999</td>\n",
       "      <td>12.313013</td>\n",
       "      <td>F</td>\n",
       "      <td>1</td>\n",
       "      <td>2.756574</td>\n",
       "      <td>B</td>\n",
       "      <td>D</td>\n",
       "      <td>2.294835</td>\n",
       "      <td>7.335640</td>\n",
       "      <td>8.000000</td>\n",
       "      <td>Q</td>\n",
       "      <td>1.333332</td>\n",
       "      <td>8.224927</td>\n",
       "      <td>8.867483</td>\n",
       "      <td>0.553633</td>\n",
       "      <td>0.968858</td>\n",
       "      <td>2.105264</td>\n",
       "      <td>1.557093</td>\n",
       "      <td>9.849462</td>\n",
       "      <td>2.537486</td>\n",
       "      <td>0.169819</td>\n",
       "      <td>0.925183</td>\n",
       "      <td>A</td>\n",
       "      <td>0.652248</td>\n",
       "      <td>5.599100</td>\n",
       "      <td>3.664843</td>\n",
       "      <td>0.682773</td>\n",
       "      <td>6.920416</td>\n",
       "      <td>5.833333</td>\n",
       "      <td>8.462342</td>\n",
       "      <td>1.353326</td>\n",
       "      <td>14.446764</td>\n",
       "      <td>6.132872</td>\n",
       "      <td>1.882262</td>\n",
       "      <td>5.531989</td>\n",
       "      <td>2.640193</td>\n",
       "      <td>0.021849</td>\n",
       "      <td>12.524367</td>\n",
       "      <td>E</td>\n",
       "      <td>1.921146</td>\n",
       "      <td>2.894737</td>\n",
       "      <td>A</td>\n",
       "      <td>1.799309</td>\n",
       "      <td>A</td>\n",
       "      <td>AJ</td>\n",
       "      <td>15.395748</td>\n",
       "      <td>13.000000</td>\n",
       "      <td>1.501341</td>\n",
       "      <td>5.628966</td>\n",
       "      <td>6.666666</td>\n",
       "      <td>2.893149</td>\n",
       "      <td>3.089770</td>\n",
       "      <td>0.701755</td>\n",
       "      <td>8.571428</td>\n",
       "      <td>2.393184</td>\n",
       "      <td>0.057855</td>\n",
       "      <td>AD</td>\n",
       "      <td>1.378358</td>\n",
       "      <td>3.806228</td>\n",
       "      <td>1.731837</td>\n",
       "      <td>0</td>\n",
       "      <td>0.833333</td>\n",
       "      <td>4.000000</td>\n",
       "    </tr>\n",
       "  </tbody>\n",
       "</table>\n",
       "</div>"
      ],
      "text/plain": [
       "        target        v1        v2 v3        v4         v5        v6  \\\n",
       "76727        1       NaN       NaN  C       NaN        NaN       NaN   \n",
       "114088       1  3.008130  9.610487  C  5.307094   8.749160  3.252033   \n",
       "29698        1  1.289841  4.788643  C  4.283418  10.719569  3.107569   \n",
       "76482        0       NaN       NaN  C       NaN        NaN       NaN   \n",
       "22801        1  1.707035  7.973529  C  3.345923   7.256221  2.583621   \n",
       "\n",
       "              v7        v8        v9       v10        v11       v12       v13  \\\n",
       "76727        NaN       NaN       NaN  1.291028        NaN  6.748169       NaN   \n",
       "114088  2.439024  0.009707  7.000000  1.291029  17.192982  6.712795  3.652847   \n",
       "29698   1.962151  0.080811  8.604651  1.553610  16.275461  6.933089  3.507230   \n",
       "76482        NaN       NaN       NaN  1.312910        NaN  6.828125       NaN   \n",
       "22801   2.214533  0.038365  9.904762  1.312910  15.674301  6.820732  3.615514   \n",
       "\n",
       "              v14       v15       v16       v17       v18       v19  \\\n",
       "76727   11.032517       NaN       NaN       NaN       NaN       NaN   \n",
       "114088  10.478942  1.031353  3.076924  3.756145  0.074210  0.213615   \n",
       "29698   12.239968  1.730493  6.730770  2.980921  0.540674  0.247952   \n",
       "76482   12.148606       NaN       NaN       NaN       NaN       NaN   \n",
       "22801   12.223805  2.513405  7.000001  3.723576  0.338540  0.222515   \n",
       "\n",
       "              v20       v21   v22           v23 v24       v25       v26  \\\n",
       "76727         NaN  6.058247   ITF           NaN   C       NaN       NaN   \n",
       "114088  18.045674  5.567791    GA  1.124447e-07   E  0.146571  1.341463   \n",
       "29698   18.162637  6.908085   YLG  4.549538e-07   E  0.140161  1.479083   \n",
       "76482         NaN  7.230163   KCE           NaN   C       NaN       NaN   \n",
       "22801   17.901672  7.406736  ABDN -6.393184e-07   E  0.229674  1.353325   \n",
       "\n",
       "             v27       v28       v29  v30 v31       v32       v33       v34  \\\n",
       "76727        NaN       NaN       NaN  NaN   A       NaN       NaN  7.736754   \n",
       "114088  2.845528  0.523840  8.211382  NaN   A  0.853659  2.113822  4.976633   \n",
       "29698   1.683267  4.291213  9.233068  NaN   B  1.658367  2.071713  4.623952   \n",
       "76482        NaN       NaN       NaN  NaN   A       NaN       NaN  5.508541   \n",
       "22801   2.629758  1.851615  8.604383    C   A  1.799309  0.922723  7.676554   \n",
       "\n",
       "              v35        v36       v37  v38           v39        v40  \\\n",
       "76727         NaN        NaN       NaN    0           NaN   7.766442   \n",
       "114088   8.130080  10.577038  1.333333    0 -4.433934e-07  12.130814   \n",
       "29698   10.697211  12.587746  0.710661    0  3.959633e-01  12.952753   \n",
       "76482         NaN        NaN       NaN    0           NaN  11.311772   \n",
       "22801    8.258362  11.790602  0.833334    0  1.626134e+00   7.883656   \n",
       "\n",
       "             v41        v42       v43        v44        v45       v46 v47  \\\n",
       "76727        NaN        NaN       NaN        NaN        NaN       NaN   C   \n",
       "114088  7.967479  12.926829  1.578947  10.834968  11.089765  0.111407   C   \n",
       "29698   8.356574  13.685260  1.571289   8.110800  11.257027  0.133654   C   \n",
       "76482        NaN        NaN       NaN        NaN        NaN       NaN   I   \n",
       "22801   7.104959  12.525951  1.628499  10.210684   9.327354  0.122960   J   \n",
       "\n",
       "              v48       v49       v50       v51 v52        v53       v54  \\\n",
       "76727         NaN       NaN  0.666128       NaN   D        NaN       NaN   \n",
       "114088  11.880353  8.780487  0.764435  6.783674   B  17.425742  0.042408   \n",
       "29698   13.101712  9.153387  0.688136  4.857375   F  16.763754  0.133755   \n",
       "76482         NaN       NaN  0.488592       NaN   K        NaN       NaN   \n",
       "22801   12.093019  7.889273  0.509133  7.990444   H  16.085792  0.108941   \n",
       "\n",
       "             v55 v56       v57       v58        v59       v60        v61  v62  \\\n",
       "76727        NaN  AG       NaN       NaN        NaN       NaN        NaN    3   \n",
       "114088  1.463416  AS  3.658537  0.380953  12.022503  1.043360  16.607470    2   \n",
       "29698   1.494024  BW  4.173307  1.830065  13.452836  1.351262  15.137857    0   \n",
       "76482        NaN  DO       NaN       NaN        NaN       NaN        NaN    1   \n",
       "22801   0.484428  DS  3.921568  5.511482  11.831424  1.184159  15.934192    1   \n",
       "\n",
       "             v63       v64        v65 v66        v67        v68       v69  \\\n",
       "76727        NaN       NaN        NaN   A        NaN        NaN       NaN   \n",
       "114088  0.149287  6.436024  16.091348   A   9.268294  18.857142  9.230769   \n",
       "29698   0.159213  5.348231  16.738679   A  10.268924  19.137255  9.615384   \n",
       "76482        NaN       NaN        NaN   A        NaN        NaN       NaN   \n",
       "22801   0.117456  6.361704  17.407947   A   9.065743  15.407098  6.999999   \n",
       "\n",
       "              v70 v71  v72       v73 v74 v75       v76       v77        v78  \\\n",
       "76727         NaN   F    3       NaN   B   D       NaN       NaN        NaN   \n",
       "114088  12.435678   F    2  1.279240   B   D  2.326702  6.585366  13.846153   \n",
       "29698   14.739096   F    2  2.242969   B   D  1.776570  8.097610  11.923077   \n",
       "76482         NaN   B    1       NaN   B   B       NaN       NaN        NaN   \n",
       "22801   12.313013   F    1  2.756574   B   D  2.294835  7.335640   8.000000   \n",
       "\n",
       "       v79       v80       v81        v82       v83       v84       v85  \\\n",
       "76727    E       NaN       NaN        NaN       NaN       NaN       NaN   \n",
       "114088   E  2.000001  6.554763   8.610624  2.195122  0.975611  1.311476   \n",
       "29698    B  2.713178  4.974123  11.722124  1.852591  2.091633  1.678081   \n",
       "76482    C       NaN       NaN        NaN       NaN       NaN       NaN   \n",
       "22801    Q  1.333332  8.224927   8.867483  0.553633  0.968858  2.105264   \n",
       "\n",
       "             v86        v87       v88       v89       v90 v91       v92  \\\n",
       "76727        NaN        NaN       NaN       NaN       NaN   C       NaN   \n",
       "114088  0.609757  10.257636  3.252032  0.066011  1.019932   A  0.552303   \n",
       "29698   1.150398   9.565966  2.290836  0.113774  1.063355   C  0.810265   \n",
       "76482        NaN        NaN       NaN       NaN       NaN   B       NaN   \n",
       "22801   1.557093   9.849462  2.537486  0.169819  0.925183   A  0.652248   \n",
       "\n",
       "             v93       v94       v95       v96       v97       v98       v99  \\\n",
       "76727        NaN       NaN       NaN       NaN       NaN       NaN       NaN   \n",
       "114088  4.918771  3.874902  0.626963  7.154471  4.666666  8.201902  1.043361   \n",
       "29698   5.324644  3.618375  0.899314  7.739044  7.512690  4.809763  1.351261   \n",
       "76482        NaN       NaN       NaN       NaN       NaN       NaN       NaN   \n",
       "22801   5.599100  3.664843  0.682773  6.920416  5.833333  8.462342  1.353326   \n",
       "\n",
       "             v100      v101      v102      v103      v104      v105  \\\n",
       "76727         NaN       NaN       NaN       NaN       NaN       NaN   \n",
       "114088  19.619049  8.962532  1.967642  5.541221  1.772393  0.006858   \n",
       "29698   17.960785  8.091601  4.042366  5.229696  2.801053  0.050819   \n",
       "76482         NaN       NaN       NaN       NaN       NaN       NaN   \n",
       "22801   14.446764  6.132872  1.882262  5.531989  2.640193  0.021849   \n",
       "\n",
       "             v106 v107      v108      v109 v110      v111 v112 v113  \\\n",
       "76727         NaN    D       NaN       NaN    B       NaN    D  NaN   \n",
       "114088  12.885423    E  2.360249  6.019738    B  3.414634    N  NaN   \n",
       "29698   11.320335    D  2.144041  1.875000    B  3.227092    H  NaN   \n",
       "76482         NaN    B       NaN       NaN    A       NaN    N    W   \n",
       "22801   12.524367    E  1.921146  2.894737    A  1.799309    A   AJ   \n",
       "\n",
       "             v114       v115      v116      v117      v118      v119  \\\n",
       "76727   15.524113        NaN       NaN       NaN       NaN       NaN   \n",
       "114088  12.193743  10.769230  1.386139  8.100038  5.999999  0.223131   \n",
       "29698   11.372095  10.384615  1.596549  6.763718  8.223349  0.248266   \n",
       "76482   12.801252        NaN       NaN       NaN       NaN       NaN   \n",
       "22801   15.395748  13.000000  1.501341  5.628966  6.666666  2.893149   \n",
       "\n",
       "            v120      v121      v122      v123      v124 v125      v126  \\\n",
       "76727        NaN       NaN       NaN       NaN       NaN    X       NaN   \n",
       "114088  1.333333  2.500001  5.000001  1.562595  0.018081   BD  1.501524   \n",
       "29698   0.522876  2.023939  5.968992  2.169825  0.004921   CD  1.460793   \n",
       "76482        NaN       NaN       NaN       NaN       NaN   AK       NaN   \n",
       "22801   3.089770  0.701755  8.571428  2.393184  0.057855   AD  1.378358   \n",
       "\n",
       "            v127      v128  v129      v130      v131  \n",
       "76727        NaN       NaN     0       NaN       NaN  \n",
       "114088  2.591464  2.540352     0  1.733333  3.076922  \n",
       "29698   1.531374  1.964652     2  2.111676  1.346153  \n",
       "76482        NaN       NaN     0       NaN       NaN  \n",
       "22801   3.806228  1.731837     0  0.833333  4.000000  "
      ]
     },
     "metadata": {},
     "output_type": "display_data"
    },
    {
     "data": {
      "text/html": [
       "<div>\n",
       "<style scoped>\n",
       "    .dataframe tbody tr th:only-of-type {\n",
       "        vertical-align: middle;\n",
       "    }\n",
       "\n",
       "    .dataframe tbody tr th {\n",
       "        vertical-align: top;\n",
       "    }\n",
       "\n",
       "    .dataframe thead th {\n",
       "        text-align: right;\n",
       "    }\n",
       "</style>\n",
       "<table border=\"1\" class=\"dataframe\">\n",
       "  <thead>\n",
       "    <tr style=\"text-align: right;\">\n",
       "      <th></th>\n",
       "      <th>target</th>\n",
       "      <th>v1</th>\n",
       "      <th>v2</th>\n",
       "      <th>v4</th>\n",
       "      <th>v5</th>\n",
       "      <th>v6</th>\n",
       "      <th>v7</th>\n",
       "      <th>v8</th>\n",
       "      <th>v9</th>\n",
       "      <th>v10</th>\n",
       "      <th>v11</th>\n",
       "      <th>v12</th>\n",
       "      <th>v13</th>\n",
       "      <th>v14</th>\n",
       "      <th>v15</th>\n",
       "      <th>v16</th>\n",
       "      <th>v17</th>\n",
       "      <th>v18</th>\n",
       "      <th>v19</th>\n",
       "      <th>v20</th>\n",
       "      <th>v21</th>\n",
       "      <th>v23</th>\n",
       "      <th>v25</th>\n",
       "      <th>v26</th>\n",
       "      <th>v27</th>\n",
       "      <th>v28</th>\n",
       "      <th>v29</th>\n",
       "      <th>v32</th>\n",
       "      <th>v33</th>\n",
       "      <th>v34</th>\n",
       "      <th>v35</th>\n",
       "      <th>v36</th>\n",
       "      <th>v37</th>\n",
       "      <th>v38</th>\n",
       "      <th>v39</th>\n",
       "      <th>v40</th>\n",
       "      <th>v41</th>\n",
       "      <th>v42</th>\n",
       "      <th>v43</th>\n",
       "      <th>v44</th>\n",
       "      <th>v45</th>\n",
       "      <th>v46</th>\n",
       "      <th>v48</th>\n",
       "      <th>v49</th>\n",
       "      <th>v50</th>\n",
       "      <th>v51</th>\n",
       "      <th>v53</th>\n",
       "      <th>v54</th>\n",
       "      <th>v55</th>\n",
       "      <th>v57</th>\n",
       "      <th>v58</th>\n",
       "      <th>v59</th>\n",
       "      <th>v60</th>\n",
       "      <th>v61</th>\n",
       "      <th>v62</th>\n",
       "      <th>v63</th>\n",
       "      <th>v64</th>\n",
       "      <th>v65</th>\n",
       "      <th>v67</th>\n",
       "      <th>v68</th>\n",
       "      <th>v69</th>\n",
       "      <th>v70</th>\n",
       "      <th>v72</th>\n",
       "      <th>v73</th>\n",
       "      <th>v76</th>\n",
       "      <th>v77</th>\n",
       "      <th>v78</th>\n",
       "      <th>v80</th>\n",
       "      <th>v81</th>\n",
       "      <th>v82</th>\n",
       "      <th>v83</th>\n",
       "      <th>v84</th>\n",
       "      <th>v85</th>\n",
       "      <th>v86</th>\n",
       "      <th>v87</th>\n",
       "      <th>v88</th>\n",
       "      <th>v89</th>\n",
       "      <th>v90</th>\n",
       "      <th>v92</th>\n",
       "      <th>v93</th>\n",
       "      <th>v94</th>\n",
       "      <th>v95</th>\n",
       "      <th>v96</th>\n",
       "      <th>v97</th>\n",
       "      <th>v98</th>\n",
       "      <th>v99</th>\n",
       "      <th>v100</th>\n",
       "      <th>v101</th>\n",
       "      <th>v102</th>\n",
       "      <th>v103</th>\n",
       "      <th>v104</th>\n",
       "      <th>v105</th>\n",
       "      <th>v106</th>\n",
       "      <th>v108</th>\n",
       "      <th>v109</th>\n",
       "      <th>v111</th>\n",
       "      <th>v114</th>\n",
       "      <th>v115</th>\n",
       "      <th>v116</th>\n",
       "      <th>v117</th>\n",
       "      <th>v118</th>\n",
       "      <th>v119</th>\n",
       "      <th>v120</th>\n",
       "      <th>v121</th>\n",
       "      <th>v122</th>\n",
       "      <th>v123</th>\n",
       "      <th>v124</th>\n",
       "      <th>v126</th>\n",
       "      <th>v127</th>\n",
       "      <th>v128</th>\n",
       "      <th>v129</th>\n",
       "      <th>v130</th>\n",
       "      <th>v131</th>\n",
       "    </tr>\n",
       "  </thead>\n",
       "  <tbody>\n",
       "    <tr>\n",
       "      <th>count</th>\n",
       "      <td>20000.00000</td>\n",
       "      <td>1.122700e+04</td>\n",
       "      <td>11233.000000</td>\n",
       "      <td>11233.000000</td>\n",
       "      <td>11428.000000</td>\n",
       "      <td>1.122700e+04</td>\n",
       "      <td>1.122700e+04</td>\n",
       "      <td>1.143000e+04</td>\n",
       "      <td>1.122100e+04</td>\n",
       "      <td>1.998800e+04</td>\n",
       "      <td>11226.000000</td>\n",
       "      <td>19988.000000</td>\n",
       "      <td>1.122700e+04</td>\n",
       "      <td>2.000000e+04</td>\n",
       "      <td>1.122600e+04</td>\n",
       "      <td>1.121500e+04</td>\n",
       "      <td>11233.000000</td>\n",
       "      <td>1.122700e+04</td>\n",
       "      <td>1.122300e+04</td>\n",
       "      <td>11226.000000</td>\n",
       "      <td>19886.000000</td>\n",
       "      <td>1.107000e+04</td>\n",
       "      <td>11430.000000</td>\n",
       "      <td>1.122700e+04</td>\n",
       "      <td>1.122700e+04</td>\n",
       "      <td>1.122700e+04</td>\n",
       "      <td>1.122700e+04</td>\n",
       "      <td>1.122700e+04</td>\n",
       "      <td>1.122700e+04</td>\n",
       "      <td>1.998400e+04</td>\n",
       "      <td>1.122700e+04</td>\n",
       "      <td>11428.000000</td>\n",
       "      <td>1.122300e+04</td>\n",
       "      <td>20000.000000</td>\n",
       "      <td>1.122600e+04</td>\n",
       "      <td>19984.000000</td>\n",
       "      <td>1.122700e+04</td>\n",
       "      <td>1.122700e+04</td>\n",
       "      <td>1.122600e+04</td>\n",
       "      <td>11233.000000</td>\n",
       "      <td>1.122700e+04</td>\n",
       "      <td>11430.000000</td>\n",
       "      <td>11233.000000</td>\n",
       "      <td>1.122700e+04</td>\n",
       "      <td>1.998800e+04</td>\n",
       "      <td>11070.000000</td>\n",
       "      <td>11226.000000</td>\n",
       "      <td>11430.000000</td>\n",
       "      <td>1.122700e+04</td>\n",
       "      <td>1.122700e+04</td>\n",
       "      <td>1.122600e+04</td>\n",
       "      <td>11233.000000</td>\n",
       "      <td>1.122700e+04</td>\n",
       "      <td>11233.000000</td>\n",
       "      <td>20000.000000</td>\n",
       "      <td>11430.000000</td>\n",
       "      <td>11233.000000</td>\n",
       "      <td>11226.000000</td>\n",
       "      <td>1.122700e+04</td>\n",
       "      <td>11226.000000</td>\n",
       "      <td>1.121500e+04</td>\n",
       "      <td>11427.000000</td>\n",
       "      <td>20000.000000</td>\n",
       "      <td>1.122600e+04</td>\n",
       "      <td>11233.000000</td>\n",
       "      <td>1.122700e+04</td>\n",
       "      <td>1.121500e+04</td>\n",
       "      <td>1.122100e+04</td>\n",
       "      <td>11428.000000</td>\n",
       "      <td>11428.000000</td>\n",
       "      <td>1.122700e+04</td>\n",
       "      <td>1.122700e+04</td>\n",
       "      <td>1.106700e+04</td>\n",
       "      <td>1.122700e+04</td>\n",
       "      <td>11424.000000</td>\n",
       "      <td>1.122700e+04</td>\n",
       "      <td>11430.000000</td>\n",
       "      <td>11227.000000</td>\n",
       "      <td>11223.000000</td>\n",
       "      <td>11227.000000</td>\n",
       "      <td>1.122700e+04</td>\n",
       "      <td>11223.000000</td>\n",
       "      <td>1.122700e+04</td>\n",
       "      <td>1.122300e+04</td>\n",
       "      <td>1.142200e+04</td>\n",
       "      <td>1.122700e+04</td>\n",
       "      <td>1.122600e+04</td>\n",
       "      <td>11233.000000</td>\n",
       "      <td>1.095900e+04</td>\n",
       "      <td>1.122700e+04</td>\n",
       "      <td>1.122700e+04</td>\n",
       "      <td>11426.000000</td>\n",
       "      <td>11233.000000</td>\n",
       "      <td>11428.000000</td>\n",
       "      <td>1.142800e+04</td>\n",
       "      <td>1.122700e+04</td>\n",
       "      <td>1.999600e+04</td>\n",
       "      <td>1.121500e+04</td>\n",
       "      <td>1.122600e+04</td>\n",
       "      <td>1.142800e+04</td>\n",
       "      <td>1.122300e+04</td>\n",
       "      <td>1.106900e+04</td>\n",
       "      <td>1.122600e+04</td>\n",
       "      <td>1.122600e+04</td>\n",
       "      <td>1.122100e+04</td>\n",
       "      <td>11070.000000</td>\n",
       "      <td>1.143000e+04</td>\n",
       "      <td>1.122700e+04</td>\n",
       "      <td>1.122700e+04</td>\n",
       "      <td>11428.000000</td>\n",
       "      <td>20000.0000</td>\n",
       "      <td>1.122300e+04</td>\n",
       "      <td>1.121500e+04</td>\n",
       "    </tr>\n",
       "    <tr>\n",
       "      <th>mean</th>\n",
       "      <td>0.76575</td>\n",
       "      <td>1.639710e+00</td>\n",
       "      <td>7.461073</td>\n",
       "      <td>4.145124</td>\n",
       "      <td>8.738936</td>\n",
       "      <td>2.434354e+00</td>\n",
       "      <td>2.481636e+00</td>\n",
       "      <td>1.454340e+00</td>\n",
       "      <td>9.025887e+00</td>\n",
       "      <td>1.887820e+00</td>\n",
       "      <td>15.454926</td>\n",
       "      <td>6.880320</td>\n",
       "      <td>3.792338e+00</td>\n",
       "      <td>1.209776e+01</td>\n",
       "      <td>2.078121e+00</td>\n",
       "      <td>4.941513e+00</td>\n",
       "      <td>3.816240</td>\n",
       "      <td>8.425709e-01</td>\n",
       "      <td>2.213759e-01</td>\n",
       "      <td>17.779888</td>\n",
       "      <td>7.028018</td>\n",
       "      <td>1.134462e+00</td>\n",
       "      <td>1.639556</td>\n",
       "      <td>1.868578e+00</td>\n",
       "      <td>2.745700e+00</td>\n",
       "      <td>5.092795e+00</td>\n",
       "      <td>8.195294e+00</td>\n",
       "      <td>1.621589e+00</td>\n",
       "      <td>2.168658e+00</td>\n",
       "      <td>6.414775e+00</td>\n",
       "      <td>8.118734e+00</td>\n",
       "      <td>13.358600</td>\n",
       "      <td>7.479314e-01</td>\n",
       "      <td>0.085550</td>\n",
       "      <td>1.227430e+00</td>\n",
       "      <td>10.457081</td>\n",
       "      <td>7.179392e+00</td>\n",
       "      <td>1.291681e+01</td>\n",
       "      <td>2.209376e+00</td>\n",
       "      <td>10.781534</td>\n",
       "      <td>9.149241e+00</td>\n",
       "      <td>1.583157</td>\n",
       "      <td>12.545537</td>\n",
       "      <td>8.010955e+00</td>\n",
       "      <td>1.516864e+00</td>\n",
       "      <td>7.208446</td>\n",
       "      <td>15.722184</td>\n",
       "      <td>1.203631</td>\n",
       "      <td>1.570157e+00</td>\n",
       "      <td>4.078634e+00</td>\n",
       "      <td>7.586758e+00</td>\n",
       "      <td>10.584910</td>\n",
       "      <td>1.705853e+00</td>\n",
       "      <td>14.593701</td>\n",
       "      <td>1.035300</td>\n",
       "      <td>1.634369</td>\n",
       "      <td>6.327523</td>\n",
       "      <td>15.847808</td>\n",
       "      <td>9.279762e+00</td>\n",
       "      <td>17.566749</td>\n",
       "      <td>9.494856e+00</td>\n",
       "      <td>12.260169</td>\n",
       "      <td>1.433750</td>\n",
       "      <td>2.432766e+00</td>\n",
       "      <td>2.391914</td>\n",
       "      <td>7.294076e+00</td>\n",
       "      <td>1.330930e+01</td>\n",
       "      <td>2.225580e+00</td>\n",
       "      <td>7.282476</td>\n",
       "      <td>6.269451</td>\n",
       "      <td>2.178299e+00</td>\n",
       "      <td>1.617426e+00</td>\n",
       "      <td>2.809759e+00</td>\n",
       "      <td>1.217368e+00</td>\n",
       "      <td>10.179381</td>\n",
       "      <td>1.927093e+00</td>\n",
       "      <td>1.455307</td>\n",
       "      <td>0.967601</td>\n",
       "      <td>0.581060</td>\n",
       "      <td>5.457541</td>\n",
       "      <td>3.852331e+00</td>\n",
       "      <td>0.664803</td>\n",
       "      <td>6.453177e+00</td>\n",
       "      <td>7.585740e+00</td>\n",
       "      <td>7.704433e+00</td>\n",
       "      <td>1.251447e+00</td>\n",
       "      <td>1.220802e+01</td>\n",
       "      <td>6.852490</td>\n",
       "      <td>2.861148e+00</td>\n",
       "      <td>5.291989e+00</td>\n",
       "      <td>2.642503e+00</td>\n",
       "      <td>1.039457</td>\n",
       "      <td>11.786392</td>\n",
       "      <td>2.147609</td>\n",
       "      <td>4.159625e+00</td>\n",
       "      <td>3.365351e+00</td>\n",
       "      <td>1.358808e+01</td>\n",
       "      <td>1.050357e+01</td>\n",
       "      <td>2.282703e+00</td>\n",
       "      <td>8.262544e+00</td>\n",
       "      <td>8.334702e+00</td>\n",
       "      <td>3.120616e+00</td>\n",
       "      <td>1.297669e+00</td>\n",
       "      <td>2.745827e+00</td>\n",
       "      <td>6.801217e+00</td>\n",
       "      <td>3.548336</td>\n",
       "      <td>8.853553e-01</td>\n",
       "      <td>1.674049e+00</td>\n",
       "      <td>3.241704e+00</td>\n",
       "      <td>2.025718</td>\n",
       "      <td>0.3129</td>\n",
       "      <td>1.932782e+00</td>\n",
       "      <td>1.747322e+00</td>\n",
       "    </tr>\n",
       "    <tr>\n",
       "      <th>std</th>\n",
       "      <td>0.42354</td>\n",
       "      <td>1.089677e+00</td>\n",
       "      <td>2.941570</td>\n",
       "      <td>1.143878</td>\n",
       "      <td>2.052877</td>\n",
       "      <td>6.190939e-01</td>\n",
       "      <td>5.836012e-01</td>\n",
       "      <td>2.711141e+00</td>\n",
       "      <td>1.926247e+00</td>\n",
       "      <td>1.402098e+00</td>\n",
       "      <td>0.768905</td>\n",
       "      <td>0.928378</td>\n",
       "      <td>1.180366e+00</td>\n",
       "      <td>1.441505e+00</td>\n",
       "      <td>7.340021e-01</td>\n",
       "      <td>1.770974e+00</td>\n",
       "      <td>1.882433</td>\n",
       "      <td>6.543735e-01</td>\n",
       "      <td>9.699874e-02</td>\n",
       "      <td>1.168530</td>\n",
       "      <td>1.073531</td>\n",
       "      <td>4.068040e+00</td>\n",
       "      <td>2.848492</td>\n",
       "      <td>5.391563e-01</td>\n",
       "      <td>8.365607e-01</td>\n",
       "      <td>2.698620e+00</td>\n",
       "      <td>1.293501e+00</td>\n",
       "      <td>5.651795e-01</td>\n",
       "      <td>9.962169e-01</td>\n",
       "      <td>2.014036e+00</td>\n",
       "      <td>1.333096e+00</td>\n",
       "      <td>2.342880</td>\n",
       "      <td>6.028701e-01</td>\n",
       "      <td>0.551223</td>\n",
       "      <td>2.331929e+00</td>\n",
       "      <td>3.155790</td>\n",
       "      <td>9.993725e-01</td>\n",
       "      <td>1.004809e+00</td>\n",
       "      <td>6.328250e-01</td>\n",
       "      <td>2.106875</td>\n",
       "      <td>2.059078e+00</td>\n",
       "      <td>2.805923</td>\n",
       "      <td>2.190201</td>\n",
       "      <td>8.964533e-01</td>\n",
       "      <td>1.173460e+00</td>\n",
       "      <td>2.535628</td>\n",
       "      <td>0.783217</td>\n",
       "      <td>2.211538</td>\n",
       "      <td>8.474385e-01</td>\n",
       "      <td>6.781960e-01</td>\n",
       "      <td>6.856512e+00</td>\n",
       "      <td>2.084734</td>\n",
       "      <td>5.271805e-01</td>\n",
       "      <td>2.138724</td>\n",
       "      <td>0.701768</td>\n",
       "      <td>2.876060</td>\n",
       "      <td>2.505105</td>\n",
       "      <td>1.907080</td>\n",
       "      <td>1.127321e+00</td>\n",
       "      <td>2.265608</td>\n",
       "      <td>1.887365e+00</td>\n",
       "      <td>2.294827</td>\n",
       "      <td>0.912388</td>\n",
       "      <td>7.942552e-01</td>\n",
       "      <td>1.353533</td>\n",
       "      <td>1.254576e+00</td>\n",
       "      <td>1.830484e+00</td>\n",
       "      <td>1.072088e+00</td>\n",
       "      <td>2.218848</td>\n",
       "      <td>3.694103</td>\n",
       "      <td>1.076102e+00</td>\n",
       "      <td>9.454727e-01</td>\n",
       "      <td>1.420135e+00</td>\n",
       "      <td>4.701457e-01</td>\n",
       "      <td>2.976769</td>\n",
       "      <td>1.043647e+00</td>\n",
       "      <td>2.690196</td>\n",
       "      <td>0.180160</td>\n",
       "      <td>0.229035</td>\n",
       "      <td>1.613548</td>\n",
       "      <td>8.521329e-01</td>\n",
       "      <td>0.253242</td>\n",
       "      <td>1.121527e+00</td>\n",
       "      <td>1.917140e+00</td>\n",
       "      <td>2.306251e+00</td>\n",
       "      <td>4.611028e-01</td>\n",
       "      <td>6.903306e+00</td>\n",
       "      <td>2.345592</td>\n",
       "      <td>1.776575e+00</td>\n",
       "      <td>1.230602e+00</td>\n",
       "      <td>8.759467e-01</td>\n",
       "      <td>2.159013</td>\n",
       "      <td>2.955745</td>\n",
       "      <td>0.900061</td>\n",
       "      <td>3.693014e+00</td>\n",
       "      <td>1.500561e+00</td>\n",
       "      <td>2.605661e+00</td>\n",
       "      <td>1.889919e+00</td>\n",
       "      <td>6.571903e-01</td>\n",
       "      <td>3.614976e+00</td>\n",
       "      <td>1.988490e+00</td>\n",
       "      <td>4.223845e+00</td>\n",
       "      <td>7.429603e-01</td>\n",
       "      <td>1.378712e+00</td>\n",
       "      <td>1.806785e+00</td>\n",
       "      <td>2.632053</td>\n",
       "      <td>2.037026e+00</td>\n",
       "      <td>5.001049e-01</td>\n",
       "      <td>1.617930e+00</td>\n",
       "      <td>1.052737</td>\n",
       "      <td>0.6924</td>\n",
       "      <td>1.271985e+00</td>\n",
       "      <td>1.128015e+00</td>\n",
       "    </tr>\n",
       "    <tr>\n",
       "      <th>min</th>\n",
       "      <td>0.00000</td>\n",
       "      <td>-9.840557e-07</td>\n",
       "      <td>0.639573</td>\n",
       "      <td>0.747019</td>\n",
       "      <td>1.257565</td>\n",
       "      <td>-6.111700e-07</td>\n",
       "      <td>-9.468765e-07</td>\n",
       "      <td>9.033899e-08</td>\n",
       "      <td>-6.105673e-07</td>\n",
       "      <td>-8.600662e-07</td>\n",
       "      <td>10.575915</td>\n",
       "      <td>1.558715</td>\n",
       "      <td>-8.464889e-07</td>\n",
       "      <td>-9.738831e-07</td>\n",
       "      <td>-6.937842e-07</td>\n",
       "      <td>-9.790926e-07</td>\n",
       "      <td>0.336368</td>\n",
       "      <td>8.387161e-07</td>\n",
       "      <td>-5.178987e-07</td>\n",
       "      <td>3.273921</td>\n",
       "      <td>0.749686</td>\n",
       "      <td>-9.999313e-07</td>\n",
       "      <td>0.043063</td>\n",
       "      <td>-9.346696e-07</td>\n",
       "      <td>-5.742058e-07</td>\n",
       "      <td>5.657719e-07</td>\n",
       "      <td>-3.040753e-07</td>\n",
       "      <td>-7.580349e-07</td>\n",
       "      <td>-9.698838e-07</td>\n",
       "      <td>-6.707670e-07</td>\n",
       "      <td>-9.958327e-07</td>\n",
       "      <td>5.127901</td>\n",
       "      <td>-9.999498e-07</td>\n",
       "      <td>0.000000</td>\n",
       "      <td>-9.981877e-07</td>\n",
       "      <td>1.147529</td>\n",
       "      <td>-2.812009e-07</td>\n",
       "      <td>-4.442592e-07</td>\n",
       "      <td>-7.589414e-07</td>\n",
       "      <td>2.966262</td>\n",
       "      <td>-9.202112e-07</td>\n",
       "      <td>0.069349</td>\n",
       "      <td>4.187333</td>\n",
       "      <td>-4.939036e-07</td>\n",
       "      <td>6.560516e-07</td>\n",
       "      <td>0.536895</td>\n",
       "      <td>10.625001</td>\n",
       "      <td>0.014101</td>\n",
       "      <td>-9.778141e-07</td>\n",
       "      <td>-6.405400e-07</td>\n",
       "      <td>-9.843636e-07</td>\n",
       "      <td>3.327509</td>\n",
       "      <td>-9.970164e-07</td>\n",
       "      <td>4.770385</td>\n",
       "      <td>0.000000</td>\n",
       "      <td>0.054642</td>\n",
       "      <td>0.680036</td>\n",
       "      <td>2.809306</td>\n",
       "      <td>-2.413161e-07</td>\n",
       "      <td>1.501359</td>\n",
       "      <td>-9.544883e-07</td>\n",
       "      <td>0.427095</td>\n",
       "      <td>0.000000</td>\n",
       "      <td>-2.691241e-07</td>\n",
       "      <td>0.190159</td>\n",
       "      <td>-7.729896e-07</td>\n",
       "      <td>-8.422527e-07</td>\n",
       "      <td>-9.992919e-07</td>\n",
       "      <td>0.699398</td>\n",
       "      <td>0.416191</td>\n",
       "      <td>-9.228148e-07</td>\n",
       "      <td>-9.637991e-07</td>\n",
       "      <td>-9.861293e-07</td>\n",
       "      <td>-9.661660e-07</td>\n",
       "      <td>1.533477</td>\n",
       "      <td>-9.519033e-07</td>\n",
       "      <td>0.022365</td>\n",
       "      <td>0.058979</td>\n",
       "      <td>0.072249</td>\n",
       "      <td>0.459604</td>\n",
       "      <td>-9.687809e-07</td>\n",
       "      <td>0.094994</td>\n",
       "      <td>9.045997e-07</td>\n",
       "      <td>-9.059520e-07</td>\n",
       "      <td>-3.297540e-07</td>\n",
       "      <td>-8.128056e-07</td>\n",
       "      <td>-9.980039e-07</td>\n",
       "      <td>0.870955</td>\n",
       "      <td>-1.226758e-07</td>\n",
       "      <td>-9.317228e-07</td>\n",
       "      <td>-8.683169e-07</td>\n",
       "      <td>0.000095</td>\n",
       "      <td>2.134527</td>\n",
       "      <td>0.403768</td>\n",
       "      <td>-9.974998e-07</td>\n",
       "      <td>-9.990270e-07</td>\n",
       "      <td>-9.335327e-10</td>\n",
       "      <td>-9.853189e-07</td>\n",
       "      <td>-8.139408e-07</td>\n",
       "      <td>-9.916232e-07</td>\n",
       "      <td>-1.383729e-07</td>\n",
       "      <td>-9.998183e-07</td>\n",
       "      <td>-9.842093e-07</td>\n",
       "      <td>-9.718290e-07</td>\n",
       "      <td>-6.943998e-07</td>\n",
       "      <td>0.116114</td>\n",
       "      <td>-9.993112e-07</td>\n",
       "      <td>-9.564174e-07</td>\n",
       "      <td>-9.223798e-07</td>\n",
       "      <td>0.100454</td>\n",
       "      <td>0.0000</td>\n",
       "      <td>-6.859452e-07</td>\n",
       "      <td>-9.974798e-07</td>\n",
       "    </tr>\n",
       "    <tr>\n",
       "      <th>25%</th>\n",
       "      <td>1.00000</td>\n",
       "      <td>9.310879e-01</td>\n",
       "      <td>5.323615</td>\n",
       "      <td>3.492876</td>\n",
       "      <td>7.585744</td>\n",
       "      <td>2.058596e+00</td>\n",
       "      <td>2.095159e+00</td>\n",
       "      <td>8.458590e-02</td>\n",
       "      <td>7.860465e+00</td>\n",
       "      <td>1.050328e+00</td>\n",
       "      <td>15.009483</td>\n",
       "      <td>6.322594</td>\n",
       "      <td>3.055454e+00</td>\n",
       "      <td>1.127297e+01</td>\n",
       "      <td>1.605277e+00</td>\n",
       "      <td>3.888889e+00</td>\n",
       "      <td>2.713001</td>\n",
       "      <td>5.102826e-01</td>\n",
       "      <td>1.739157e-01</td>\n",
       "      <td>17.346158</td>\n",
       "      <td>6.418031</td>\n",
       "      <td>-3.943828e-07</td>\n",
       "      <td>0.149084</td>\n",
       "      <td>1.513305e+00</td>\n",
       "      <td>2.203586e+00</td>\n",
       "      <td>3.450929e+00</td>\n",
       "      <td>7.424469e+00</td>\n",
       "      <td>1.262525e+00</td>\n",
       "      <td>1.470399e+00</td>\n",
       "      <td>5.063459e+00</td>\n",
       "      <td>7.255211e+00</td>\n",
       "      <td>11.734409</td>\n",
       "      <td>4.154300e-01</td>\n",
       "      <td>0.000000</td>\n",
       "      <td>1.250670e-01</td>\n",
       "      <td>8.400261</td>\n",
       "      <td>6.553983e+00</td>\n",
       "      <td>1.232404e+01</td>\n",
       "      <td>1.791942e+00</td>\n",
       "      <td>9.595676</td>\n",
       "      <td>7.847857e+00</td>\n",
       "      <td>0.122901</td>\n",
       "      <td>11.226764</td>\n",
       "      <td>7.472794e+00</td>\n",
       "      <td>6.675962e-01</td>\n",
       "      <td>5.601590</td>\n",
       "      <td>15.287429</td>\n",
       "      <td>0.091185</td>\n",
       "      <td>9.908578e-01</td>\n",
       "      <td>3.657813e+00</td>\n",
       "      <td>1.442556e+00</td>\n",
       "      <td>9.031213</td>\n",
       "      <td>1.361526e+00</td>\n",
       "      <td>13.637449</td>\n",
       "      <td>1.000000</td>\n",
       "      <td>0.141202</td>\n",
       "      <td>4.806862</td>\n",
       "      <td>15.043853</td>\n",
       "      <td>8.574577e+00</td>\n",
       "      <td>17.099358</td>\n",
       "      <td>8.421053e+00</td>\n",
       "      <td>10.784618</td>\n",
       "      <td>1.000000</td>\n",
       "      <td>1.893940e+00</td>\n",
       "      <td>1.637705</td>\n",
       "      <td>6.490580e+00</td>\n",
       "      <td>1.228070e+01</td>\n",
       "      <td>1.458733e+00</td>\n",
       "      <td>5.983211</td>\n",
       "      <td>3.388635</td>\n",
       "      <td>1.429569e+00</td>\n",
       "      <td>9.653889e-01</td>\n",
       "      <td>1.818182e+00</td>\n",
       "      <td>9.340520e-01</td>\n",
       "      <td>8.074919</td>\n",
       "      <td>1.177335e+00</td>\n",
       "      <td>0.098771</td>\n",
       "      <td>0.862297</td>\n",
       "      <td>0.434541</td>\n",
       "      <td>4.551378</td>\n",
       "      <td>3.334235e+00</td>\n",
       "      <td>0.502441</td>\n",
       "      <td>5.765199e+00</td>\n",
       "      <td>6.304348e+00</td>\n",
       "      <td>6.193565e+00</td>\n",
       "      <td>9.293933e-01</td>\n",
       "      <td>5.922209e+00</td>\n",
       "      <td>5.251399</td>\n",
       "      <td>1.780248e+00</td>\n",
       "      <td>4.500130e+00</td>\n",
       "      <td>2.138950e+00</td>\n",
       "      <td>0.053850</td>\n",
       "      <td>10.118438</td>\n",
       "      <td>1.528648</td>\n",
       "      <td>1.825199e+00</td>\n",
       "      <td>2.312463e+00</td>\n",
       "      <td>1.203518e+01</td>\n",
       "      <td>9.424686e+00</td>\n",
       "      <td>1.851568e+00</td>\n",
       "      <td>5.711086e+00</td>\n",
       "      <td>6.984127e+00</td>\n",
       "      <td>2.969598e-01</td>\n",
       "      <td>7.753472e-01</td>\n",
       "      <td>1.788714e+00</td>\n",
       "      <td>5.627705e+00</td>\n",
       "      <td>1.957447</td>\n",
       "      <td>2.023770e-02</td>\n",
       "      <td>1.420127e+00</td>\n",
       "      <td>2.099071e+00</td>\n",
       "      <td>1.397730</td>\n",
       "      <td>0.0000</td>\n",
       "      <td>1.111110e+00</td>\n",
       "      <td>1.032258e+00</td>\n",
       "    </tr>\n",
       "    <tr>\n",
       "      <th>50%</th>\n",
       "      <td>1.00000</td>\n",
       "      <td>1.480001e+00</td>\n",
       "      <td>7.014764</td>\n",
       "      <td>4.213119</td>\n",
       "      <td>8.645487</td>\n",
       "      <td>2.415876e+00</td>\n",
       "      <td>2.457420e+00</td>\n",
       "      <td>3.691223e-01</td>\n",
       "      <td>9.062499e+00</td>\n",
       "      <td>1.312910e+00</td>\n",
       "      <td>15.497458</td>\n",
       "      <td>6.608489</td>\n",
       "      <td>3.579602e+00</td>\n",
       "      <td>1.196783e+01</td>\n",
       "      <td>1.977913e+00</td>\n",
       "      <td>4.975124e+00</td>\n",
       "      <td>3.546914</td>\n",
       "      <td>7.682517e-01</td>\n",
       "      <td>1.983468e-01</td>\n",
       "      <td>18.052180</td>\n",
       "      <td>7.042812</td>\n",
       "      <td>1.956953e-07</td>\n",
       "      <td>0.441162</td>\n",
       "      <td>1.823617e+00</td>\n",
       "      <td>2.678488e+00</td>\n",
       "      <td>5.024587e+00</td>\n",
       "      <td>8.289055e+00</td>\n",
       "      <td>1.547311e+00</td>\n",
       "      <td>1.941129e+00</td>\n",
       "      <td>6.553550e+00</td>\n",
       "      <td>8.062856e+00</td>\n",
       "      <td>13.741821</td>\n",
       "      <td>6.489684e-01</td>\n",
       "      <td>0.000000</td>\n",
       "      <td>3.803132e-01</td>\n",
       "      <td>10.315463</td>\n",
       "      <td>7.200811e+00</td>\n",
       "      <td>1.292639e+01</td>\n",
       "      <td>2.152554e+00</td>\n",
       "      <td>10.763255</td>\n",
       "      <td>9.170024e+00</td>\n",
       "      <td>0.418013</td>\n",
       "      <td>12.399336</td>\n",
       "      <td>8.015829e+00</td>\n",
       "      <td>1.220747e+00</td>\n",
       "      <td>7.126868</td>\n",
       "      <td>15.782088</td>\n",
       "      <td>0.301209</td>\n",
       "      <td>1.372548e+00</td>\n",
       "      <td>4.063843e+00</td>\n",
       "      <td>5.063834e+00</td>\n",
       "      <td>10.527298</td>\n",
       "      <td>1.662502e+00</td>\n",
       "      <td>15.075895</td>\n",
       "      <td>1.000000</td>\n",
       "      <td>0.439328</td>\n",
       "      <td>6.103439</td>\n",
       "      <td>16.283264</td>\n",
       "      <td>9.308073e+00</td>\n",
       "      <td>18.247502</td>\n",
       "      <td>9.533334e+00</td>\n",
       "      <td>12.481620</td>\n",
       "      <td>1.000000</td>\n",
       "      <td>2.326642e+00</td>\n",
       "      <td>2.168067</td>\n",
       "      <td>7.361287e+00</td>\n",
       "      <td>1.333333e+01</td>\n",
       "      <td>2.105263e+00</td>\n",
       "      <td>7.508742</td>\n",
       "      <td>3.696869</td>\n",
       "      <td>1.935485e+00</td>\n",
       "      <td>1.427122e+00</td>\n",
       "      <td>2.587209e+00</td>\n",
       "      <td>1.148768e+00</td>\n",
       "      <td>9.993150</td>\n",
       "      <td>1.776392e+00</td>\n",
       "      <td>0.312076</td>\n",
       "      <td>0.971195</td>\n",
       "      <td>0.541950</td>\n",
       "      <td>5.298144</td>\n",
       "      <td>3.740760e+00</td>\n",
       "      <td>0.619181</td>\n",
       "      <td>6.509804e+00</td>\n",
       "      <td>7.394958e+00</td>\n",
       "      <td>7.683546e+00</td>\n",
       "      <td>1.242143e+00</td>\n",
       "      <td>1.473819e+01</td>\n",
       "      <td>6.635124</td>\n",
       "      <td>2.437093e+00</td>\n",
       "      <td>5.130575e+00</td>\n",
       "      <td>2.510474e+00</td>\n",
       "      <td>0.233804</td>\n",
       "      <td>12.089921</td>\n",
       "      <td>1.973002</td>\n",
       "      <td>3.096094e+00</td>\n",
       "      <td>3.087920e+00</td>\n",
       "      <td>1.405182e+01</td>\n",
       "      <td>1.046667e+01</td>\n",
       "      <td>2.222222e+00</td>\n",
       "      <td>8.043796e+00</td>\n",
       "      <td>8.108108e+00</td>\n",
       "      <td>1.434418e+00</td>\n",
       "      <td>1.154019e+00</td>\n",
       "      <td>2.433937e+00</td>\n",
       "      <td>6.713286e+00</td>\n",
       "      <td>2.730495</td>\n",
       "      <td>1.344457e-01</td>\n",
       "      <td>1.613723e+00</td>\n",
       "      <td>2.972689e+00</td>\n",
       "      <td>1.797460</td>\n",
       "      <td>0.0000</td>\n",
       "      <td>1.565217e+00</td>\n",
       "      <td>1.587302e+00</td>\n",
       "    </tr>\n",
       "    <tr>\n",
       "      <th>75%</th>\n",
       "      <td>1.00000</td>\n",
       "      <td>2.125114e+00</td>\n",
       "      <td>9.472703</td>\n",
       "      <td>4.827025</td>\n",
       "      <td>9.761099</td>\n",
       "      <td>2.773784e+00</td>\n",
       "      <td>2.832579e+00</td>\n",
       "      <td>1.570781e+00</td>\n",
       "      <td>1.022727e+01</td>\n",
       "      <td>2.122538e+00</td>\n",
       "      <td>15.955236</td>\n",
       "      <td>7.015457</td>\n",
       "      <td>4.279925e+00</td>\n",
       "      <td>1.270829e+01</td>\n",
       "      <td>2.417453e+00</td>\n",
       "      <td>5.957447e+00</td>\n",
       "      <td>4.500564</td>\n",
       "      <td>1.068273e+00</td>\n",
       "      <td>2.399868e-01</td>\n",
       "      <td>18.545510</td>\n",
       "      <td>7.670202</td>\n",
       "      <td>7.865954e-07</td>\n",
       "      <td>1.941375</td>\n",
       "      <td>2.174882e+00</td>\n",
       "      <td>3.226035e+00</td>\n",
       "      <td>6.568313e+00</td>\n",
       "      <td>9.082387e+00</td>\n",
       "      <td>1.891097e+00</td>\n",
       "      <td>2.622069e+00</td>\n",
       "      <td>7.700438e+00</td>\n",
       "      <td>8.929715e+00</td>\n",
       "      <td>15.286922</td>\n",
       "      <td>9.473693e-01</td>\n",
       "      <td>0.000000</td>\n",
       "      <td>1.207617e+00</td>\n",
       "      <td>12.728638</td>\n",
       "      <td>7.824290e+00</td>\n",
       "      <td>1.347891e+01</td>\n",
       "      <td>2.552719e+00</td>\n",
       "      <td>11.987109</td>\n",
       "      <td>1.040925e+01</td>\n",
       "      <td>1.783074</td>\n",
       "      <td>13.749223</td>\n",
       "      <td>8.549535e+00</td>\n",
       "      <td>2.023329e+00</td>\n",
       "      <td>8.645641</td>\n",
       "      <td>16.231405</td>\n",
       "      <td>1.383508</td>\n",
       "      <td>1.945446e+00</td>\n",
       "      <td>4.492468e+00</td>\n",
       "      <td>1.380309e+01</td>\n",
       "      <td>12.052236</td>\n",
       "      <td>2.007684e+00</td>\n",
       "      <td>16.124657</td>\n",
       "      <td>1.000000</td>\n",
       "      <td>1.835905</td>\n",
       "      <td>7.506908</td>\n",
       "      <td>17.172306</td>\n",
       "      <td>9.984717e+00</td>\n",
       "      <td>18.903718</td>\n",
       "      <td>1.056936e+01</td>\n",
       "      <td>13.969527</td>\n",
       "      <td>2.000000</td>\n",
       "      <td>2.840910e+00</td>\n",
       "      <td>2.791393</td>\n",
       "      <td>8.152582e+00</td>\n",
       "      <td>1.436934e+01</td>\n",
       "      <td>2.857143e+00</td>\n",
       "      <td>8.773255</td>\n",
       "      <td>8.804729</td>\n",
       "      <td>2.664572e+00</td>\n",
       "      <td>2.074927e+00</td>\n",
       "      <td>3.541925e+00</td>\n",
       "      <td>1.409665e+00</td>\n",
       "      <td>12.228386</td>\n",
       "      <td>2.476900e+00</td>\n",
       "      <td>1.691609</td>\n",
       "      <td>1.061746</td>\n",
       "      <td>0.678911</td>\n",
       "      <td>6.202102</td>\n",
       "      <td>4.225202e+00</td>\n",
       "      <td>0.769880</td>\n",
       "      <td>7.222853e+00</td>\n",
       "      <td>8.750001e+00</td>\n",
       "      <td>9.098099e+00</td>\n",
       "      <td>1.553895e+00</td>\n",
       "      <td>1.839106e+01</td>\n",
       "      <td>8.226119</td>\n",
       "      <td>3.387028e+00</td>\n",
       "      <td>5.851823e+00</td>\n",
       "      <td>2.952551e+00</td>\n",
       "      <td>1.006120</td>\n",
       "      <td>13.742622</td>\n",
       "      <td>2.541314</td>\n",
       "      <td>5.125716e+00</td>\n",
       "      <td>4.131646e+00</td>\n",
       "      <td>1.538133e+01</td>\n",
       "      <td>1.157895e+01</td>\n",
       "      <td>2.641729e+00</td>\n",
       "      <td>1.046716e+01</td>\n",
       "      <td>9.532294e+00</td>\n",
       "      <td>4.133615e+00</td>\n",
       "      <td>1.666415e+00</td>\n",
       "      <td>3.368018e+00</td>\n",
       "      <td>7.887323e+00</td>\n",
       "      <td>4.026398</td>\n",
       "      <td>8.526615e-01</td>\n",
       "      <td>1.847202e+00</td>\n",
       "      <td>4.135857e+00</td>\n",
       "      <td>2.396706</td>\n",
       "      <td>0.0000</td>\n",
       "      <td>2.324675e+00</td>\n",
       "      <td>2.268041e+00</td>\n",
       "    </tr>\n",
       "    <tr>\n",
       "      <th>max</th>\n",
       "      <td>1.00000</td>\n",
       "      <td>2.000000e+01</td>\n",
       "      <td>18.871577</td>\n",
       "      <td>11.831778</td>\n",
       "      <td>18.668459</td>\n",
       "      <td>2.000000e+01</td>\n",
       "      <td>5.714286e+00</td>\n",
       "      <td>2.000000e+01</td>\n",
       "      <td>2.000000e+01</td>\n",
       "      <td>1.415755e+01</td>\n",
       "      <td>20.000001</td>\n",
       "      <td>16.303332</td>\n",
       "      <td>1.448568e+01</td>\n",
       "      <td>1.923702e+01</td>\n",
       "      <td>8.190204e+00</td>\n",
       "      <td>2.000000e+01</td>\n",
       "      <td>19.999999</td>\n",
       "      <td>2.000000e+01</td>\n",
       "      <td>2.961388e+00</td>\n",
       "      <td>20.000001</td>\n",
       "      <td>16.189039</td>\n",
       "      <td>2.000000e+01</td>\n",
       "      <td>20.000001</td>\n",
       "      <td>5.144615e+00</td>\n",
       "      <td>1.111111e+01</td>\n",
       "      <td>1.787898e+01</td>\n",
       "      <td>1.353441e+01</td>\n",
       "      <td>7.747385e+00</td>\n",
       "      <td>9.182243e+00</td>\n",
       "      <td>1.632903e+01</td>\n",
       "      <td>2.000000e+01</td>\n",
       "      <td>20.000000</td>\n",
       "      <td>2.000000e+01</td>\n",
       "      <td>12.000000</td>\n",
       "      <td>1.990951e+01</td>\n",
       "      <td>19.999999</td>\n",
       "      <td>1.120066e+01</td>\n",
       "      <td>1.811321e+01</td>\n",
       "      <td>8.448275e+00</td>\n",
       "      <td>19.831681</td>\n",
       "      <td>1.837593e+01</td>\n",
       "      <td>20.000001</td>\n",
       "      <td>19.772722</td>\n",
       "      <td>1.336134e+01</td>\n",
       "      <td>1.406060e+01</td>\n",
       "      <td>19.208278</td>\n",
       "      <td>20.000001</td>\n",
       "      <td>20.000001</td>\n",
       "      <td>9.497664e+00</td>\n",
       "      <td>9.090909e+00</td>\n",
       "      <td>2.000000e+01</td>\n",
       "      <td>19.773852</td>\n",
       "      <td>4.761025e+00</td>\n",
       "      <td>18.725169</td>\n",
       "      <td>7.000000</td>\n",
       "      <td>20.000001</td>\n",
       "      <td>19.999999</td>\n",
       "      <td>20.000000</td>\n",
       "      <td>1.404959e+01</td>\n",
       "      <td>20.000001</td>\n",
       "      <td>2.000000e+01</td>\n",
       "      <td>19.816310</td>\n",
       "      <td>12.000000</td>\n",
       "      <td>7.858403e+00</td>\n",
       "      <td>20.000001</td>\n",
       "      <td>1.290569e+01</td>\n",
       "      <td>2.000000e+01</td>\n",
       "      <td>1.333333e+01</td>\n",
       "      <td>15.426969</td>\n",
       "      <td>20.000000</td>\n",
       "      <td>1.089953e+01</td>\n",
       "      <td>1.490683e+01</td>\n",
       "      <td>2.000000e+01</td>\n",
       "      <td>7.457764e+00</td>\n",
       "      <td>19.080145</td>\n",
       "      <td>9.767441e+00</td>\n",
       "      <td>20.000001</td>\n",
       "      <td>4.113284</td>\n",
       "      <td>3.184914</td>\n",
       "      <td>19.393004</td>\n",
       "      <td>1.408200e+01</td>\n",
       "      <td>3.579432</td>\n",
       "      <td>1.054230e+01</td>\n",
       "      <td>1.666667e+01</td>\n",
       "      <td>1.905880e+01</td>\n",
       "      <td>8.148149e+00</td>\n",
       "      <td>2.000000e+01</td>\n",
       "      <td>18.678818</td>\n",
       "      <td>1.798964e+01</td>\n",
       "      <td>1.622786e+01</td>\n",
       "      <td>1.317921e+01</td>\n",
       "      <td>20.000001</td>\n",
       "      <td>19.526524</td>\n",
       "      <td>13.228094</td>\n",
       "      <td>2.000000e+01</td>\n",
       "      <td>1.573771e+01</td>\n",
       "      <td>1.926147e+01</td>\n",
       "      <td>2.000000e+01</td>\n",
       "      <td>8.909091e+00</td>\n",
       "      <td>1.813363e+01</td>\n",
       "      <td>2.000000e+01</td>\n",
       "      <td>2.000000e+01</td>\n",
       "      <td>8.778626e+00</td>\n",
       "      <td>1.314085e+01</td>\n",
       "      <td>2.000000e+01</td>\n",
       "      <td>18.252445</td>\n",
       "      <td>2.000000e+01</td>\n",
       "      <td>1.247472e+01</td>\n",
       "      <td>1.473711e+01</td>\n",
       "      <td>13.052590</td>\n",
       "      <td>8.0000</td>\n",
       "      <td>2.000000e+01</td>\n",
       "      <td>2.000000e+01</td>\n",
       "    </tr>\n",
       "  </tbody>\n",
       "</table>\n",
       "</div>"
      ],
      "text/plain": [
       "            target            v1            v2            v4            v5  \\\n",
       "count  20000.00000  1.122700e+04  11233.000000  11233.000000  11428.000000   \n",
       "mean       0.76575  1.639710e+00      7.461073      4.145124      8.738936   \n",
       "std        0.42354  1.089677e+00      2.941570      1.143878      2.052877   \n",
       "min        0.00000 -9.840557e-07      0.639573      0.747019      1.257565   \n",
       "25%        1.00000  9.310879e-01      5.323615      3.492876      7.585744   \n",
       "50%        1.00000  1.480001e+00      7.014764      4.213119      8.645487   \n",
       "75%        1.00000  2.125114e+00      9.472703      4.827025      9.761099   \n",
       "max        1.00000  2.000000e+01     18.871577     11.831778     18.668459   \n",
       "\n",
       "                 v6            v7            v8            v9           v10  \\\n",
       "count  1.122700e+04  1.122700e+04  1.143000e+04  1.122100e+04  1.998800e+04   \n",
       "mean   2.434354e+00  2.481636e+00  1.454340e+00  9.025887e+00  1.887820e+00   \n",
       "std    6.190939e-01  5.836012e-01  2.711141e+00  1.926247e+00  1.402098e+00   \n",
       "min   -6.111700e-07 -9.468765e-07  9.033899e-08 -6.105673e-07 -8.600662e-07   \n",
       "25%    2.058596e+00  2.095159e+00  8.458590e-02  7.860465e+00  1.050328e+00   \n",
       "50%    2.415876e+00  2.457420e+00  3.691223e-01  9.062499e+00  1.312910e+00   \n",
       "75%    2.773784e+00  2.832579e+00  1.570781e+00  1.022727e+01  2.122538e+00   \n",
       "max    2.000000e+01  5.714286e+00  2.000000e+01  2.000000e+01  1.415755e+01   \n",
       "\n",
       "                v11           v12           v13           v14           v15  \\\n",
       "count  11226.000000  19988.000000  1.122700e+04  2.000000e+04  1.122600e+04   \n",
       "mean      15.454926      6.880320  3.792338e+00  1.209776e+01  2.078121e+00   \n",
       "std        0.768905      0.928378  1.180366e+00  1.441505e+00  7.340021e-01   \n",
       "min       10.575915      1.558715 -8.464889e-07 -9.738831e-07 -6.937842e-07   \n",
       "25%       15.009483      6.322594  3.055454e+00  1.127297e+01  1.605277e+00   \n",
       "50%       15.497458      6.608489  3.579602e+00  1.196783e+01  1.977913e+00   \n",
       "75%       15.955236      7.015457  4.279925e+00  1.270829e+01  2.417453e+00   \n",
       "max       20.000001     16.303332  1.448568e+01  1.923702e+01  8.190204e+00   \n",
       "\n",
       "                v16           v17           v18           v19           v20  \\\n",
       "count  1.121500e+04  11233.000000  1.122700e+04  1.122300e+04  11226.000000   \n",
       "mean   4.941513e+00      3.816240  8.425709e-01  2.213759e-01     17.779888   \n",
       "std    1.770974e+00      1.882433  6.543735e-01  9.699874e-02      1.168530   \n",
       "min   -9.790926e-07      0.336368  8.387161e-07 -5.178987e-07      3.273921   \n",
       "25%    3.888889e+00      2.713001  5.102826e-01  1.739157e-01     17.346158   \n",
       "50%    4.975124e+00      3.546914  7.682517e-01  1.983468e-01     18.052180   \n",
       "75%    5.957447e+00      4.500564  1.068273e+00  2.399868e-01     18.545510   \n",
       "max    2.000000e+01     19.999999  2.000000e+01  2.961388e+00     20.000001   \n",
       "\n",
       "                v21           v23           v25           v26           v27  \\\n",
       "count  19886.000000  1.107000e+04  11430.000000  1.122700e+04  1.122700e+04   \n",
       "mean       7.028018  1.134462e+00      1.639556  1.868578e+00  2.745700e+00   \n",
       "std        1.073531  4.068040e+00      2.848492  5.391563e-01  8.365607e-01   \n",
       "min        0.749686 -9.999313e-07      0.043063 -9.346696e-07 -5.742058e-07   \n",
       "25%        6.418031 -3.943828e-07      0.149084  1.513305e+00  2.203586e+00   \n",
       "50%        7.042812  1.956953e-07      0.441162  1.823617e+00  2.678488e+00   \n",
       "75%        7.670202  7.865954e-07      1.941375  2.174882e+00  3.226035e+00   \n",
       "max       16.189039  2.000000e+01     20.000001  5.144615e+00  1.111111e+01   \n",
       "\n",
       "                v28           v29           v32           v33           v34  \\\n",
       "count  1.122700e+04  1.122700e+04  1.122700e+04  1.122700e+04  1.998400e+04   \n",
       "mean   5.092795e+00  8.195294e+00  1.621589e+00  2.168658e+00  6.414775e+00   \n",
       "std    2.698620e+00  1.293501e+00  5.651795e-01  9.962169e-01  2.014036e+00   \n",
       "min    5.657719e-07 -3.040753e-07 -7.580349e-07 -9.698838e-07 -6.707670e-07   \n",
       "25%    3.450929e+00  7.424469e+00  1.262525e+00  1.470399e+00  5.063459e+00   \n",
       "50%    5.024587e+00  8.289055e+00  1.547311e+00  1.941129e+00  6.553550e+00   \n",
       "75%    6.568313e+00  9.082387e+00  1.891097e+00  2.622069e+00  7.700438e+00   \n",
       "max    1.787898e+01  1.353441e+01  7.747385e+00  9.182243e+00  1.632903e+01   \n",
       "\n",
       "                v35           v36           v37           v38           v39  \\\n",
       "count  1.122700e+04  11428.000000  1.122300e+04  20000.000000  1.122600e+04   \n",
       "mean   8.118734e+00     13.358600  7.479314e-01      0.085550  1.227430e+00   \n",
       "std    1.333096e+00      2.342880  6.028701e-01      0.551223  2.331929e+00   \n",
       "min   -9.958327e-07      5.127901 -9.999498e-07      0.000000 -9.981877e-07   \n",
       "25%    7.255211e+00     11.734409  4.154300e-01      0.000000  1.250670e-01   \n",
       "50%    8.062856e+00     13.741821  6.489684e-01      0.000000  3.803132e-01   \n",
       "75%    8.929715e+00     15.286922  9.473693e-01      0.000000  1.207617e+00   \n",
       "max    2.000000e+01     20.000000  2.000000e+01     12.000000  1.990951e+01   \n",
       "\n",
       "                v40           v41           v42           v43           v44  \\\n",
       "count  19984.000000  1.122700e+04  1.122700e+04  1.122600e+04  11233.000000   \n",
       "mean      10.457081  7.179392e+00  1.291681e+01  2.209376e+00     10.781534   \n",
       "std        3.155790  9.993725e-01  1.004809e+00  6.328250e-01      2.106875   \n",
       "min        1.147529 -2.812009e-07 -4.442592e-07 -7.589414e-07      2.966262   \n",
       "25%        8.400261  6.553983e+00  1.232404e+01  1.791942e+00      9.595676   \n",
       "50%       10.315463  7.200811e+00  1.292639e+01  2.152554e+00     10.763255   \n",
       "75%       12.728638  7.824290e+00  1.347891e+01  2.552719e+00     11.987109   \n",
       "max       19.999999  1.120066e+01  1.811321e+01  8.448275e+00     19.831681   \n",
       "\n",
       "                v45           v46           v48           v49           v50  \\\n",
       "count  1.122700e+04  11430.000000  11233.000000  1.122700e+04  1.998800e+04   \n",
       "mean   9.149241e+00      1.583157     12.545537  8.010955e+00  1.516864e+00   \n",
       "std    2.059078e+00      2.805923      2.190201  8.964533e-01  1.173460e+00   \n",
       "min   -9.202112e-07      0.069349      4.187333 -4.939036e-07  6.560516e-07   \n",
       "25%    7.847857e+00      0.122901     11.226764  7.472794e+00  6.675962e-01   \n",
       "50%    9.170024e+00      0.418013     12.399336  8.015829e+00  1.220747e+00   \n",
       "75%    1.040925e+01      1.783074     13.749223  8.549535e+00  2.023329e+00   \n",
       "max    1.837593e+01     20.000001     19.772722  1.336134e+01  1.406060e+01   \n",
       "\n",
       "                v51           v53           v54           v55           v57  \\\n",
       "count  11070.000000  11226.000000  11430.000000  1.122700e+04  1.122700e+04   \n",
       "mean       7.208446     15.722184      1.203631  1.570157e+00  4.078634e+00   \n",
       "std        2.535628      0.783217      2.211538  8.474385e-01  6.781960e-01   \n",
       "min        0.536895     10.625001      0.014101 -9.778141e-07 -6.405400e-07   \n",
       "25%        5.601590     15.287429      0.091185  9.908578e-01  3.657813e+00   \n",
       "50%        7.126868     15.782088      0.301209  1.372548e+00  4.063843e+00   \n",
       "75%        8.645641     16.231405      1.383508  1.945446e+00  4.492468e+00   \n",
       "max       19.208278     20.000001     20.000001  9.497664e+00  9.090909e+00   \n",
       "\n",
       "                v58           v59           v60           v61           v62  \\\n",
       "count  1.122600e+04  11233.000000  1.122700e+04  11233.000000  20000.000000   \n",
       "mean   7.586758e+00     10.584910  1.705853e+00     14.593701      1.035300   \n",
       "std    6.856512e+00      2.084734  5.271805e-01      2.138724      0.701768   \n",
       "min   -9.843636e-07      3.327509 -9.970164e-07      4.770385      0.000000   \n",
       "25%    1.442556e+00      9.031213  1.361526e+00     13.637449      1.000000   \n",
       "50%    5.063834e+00     10.527298  1.662502e+00     15.075895      1.000000   \n",
       "75%    1.380309e+01     12.052236  2.007684e+00     16.124657      1.000000   \n",
       "max    2.000000e+01     19.773852  4.761025e+00     18.725169      7.000000   \n",
       "\n",
       "                v63           v64           v65           v67           v68  \\\n",
       "count  11430.000000  11233.000000  11226.000000  1.122700e+04  11226.000000   \n",
       "mean       1.634369      6.327523     15.847808  9.279762e+00     17.566749   \n",
       "std        2.876060      2.505105      1.907080  1.127321e+00      2.265608   \n",
       "min        0.054642      0.680036      2.809306 -2.413161e-07      1.501359   \n",
       "25%        0.141202      4.806862     15.043853  8.574577e+00     17.099358   \n",
       "50%        0.439328      6.103439     16.283264  9.308073e+00     18.247502   \n",
       "75%        1.835905      7.506908     17.172306  9.984717e+00     18.903718   \n",
       "max       20.000001     19.999999     20.000000  1.404959e+01     20.000001   \n",
       "\n",
       "                v69           v70           v72           v73           v76  \\\n",
       "count  1.121500e+04  11427.000000  20000.000000  1.122600e+04  11233.000000   \n",
       "mean   9.494856e+00     12.260169      1.433750  2.432766e+00      2.391914   \n",
       "std    1.887365e+00      2.294827      0.912388  7.942552e-01      1.353533   \n",
       "min   -9.544883e-07      0.427095      0.000000 -2.691241e-07      0.190159   \n",
       "25%    8.421053e+00     10.784618      1.000000  1.893940e+00      1.637705   \n",
       "50%    9.533334e+00     12.481620      1.000000  2.326642e+00      2.168067   \n",
       "75%    1.056936e+01     13.969527      2.000000  2.840910e+00      2.791393   \n",
       "max    2.000000e+01     19.816310     12.000000  7.858403e+00     20.000001   \n",
       "\n",
       "                v77           v78           v80           v81           v82  \\\n",
       "count  1.122700e+04  1.121500e+04  1.122100e+04  11428.000000  11428.000000   \n",
       "mean   7.294076e+00  1.330930e+01  2.225580e+00      7.282476      6.269451   \n",
       "std    1.254576e+00  1.830484e+00  1.072088e+00      2.218848      3.694103   \n",
       "min   -7.729896e-07 -8.422527e-07 -9.992919e-07      0.699398      0.416191   \n",
       "25%    6.490580e+00  1.228070e+01  1.458733e+00      5.983211      3.388635   \n",
       "50%    7.361287e+00  1.333333e+01  2.105263e+00      7.508742      3.696869   \n",
       "75%    8.152582e+00  1.436934e+01  2.857143e+00      8.773255      8.804729   \n",
       "max    1.290569e+01  2.000000e+01  1.333333e+01     15.426969     20.000000   \n",
       "\n",
       "                v83           v84           v85           v86           v87  \\\n",
       "count  1.122700e+04  1.122700e+04  1.106700e+04  1.122700e+04  11424.000000   \n",
       "mean   2.178299e+00  1.617426e+00  2.809759e+00  1.217368e+00     10.179381   \n",
       "std    1.076102e+00  9.454727e-01  1.420135e+00  4.701457e-01      2.976769   \n",
       "min   -9.228148e-07 -9.637991e-07 -9.861293e-07 -9.661660e-07      1.533477   \n",
       "25%    1.429569e+00  9.653889e-01  1.818182e+00  9.340520e-01      8.074919   \n",
       "50%    1.935485e+00  1.427122e+00  2.587209e+00  1.148768e+00      9.993150   \n",
       "75%    2.664572e+00  2.074927e+00  3.541925e+00  1.409665e+00     12.228386   \n",
       "max    1.089953e+01  1.490683e+01  2.000000e+01  7.457764e+00     19.080145   \n",
       "\n",
       "                v88           v89           v90           v92           v93  \\\n",
       "count  1.122700e+04  11430.000000  11227.000000  11223.000000  11227.000000   \n",
       "mean   1.927093e+00      1.455307      0.967601      0.581060      5.457541   \n",
       "std    1.043647e+00      2.690196      0.180160      0.229035      1.613548   \n",
       "min   -9.519033e-07      0.022365      0.058979      0.072249      0.459604   \n",
       "25%    1.177335e+00      0.098771      0.862297      0.434541      4.551378   \n",
       "50%    1.776392e+00      0.312076      0.971195      0.541950      5.298144   \n",
       "75%    2.476900e+00      1.691609      1.061746      0.678911      6.202102   \n",
       "max    9.767441e+00     20.000001      4.113284      3.184914     19.393004   \n",
       "\n",
       "                v94           v95           v96           v97           v98  \\\n",
       "count  1.122700e+04  11223.000000  1.122700e+04  1.122300e+04  1.142200e+04   \n",
       "mean   3.852331e+00      0.664803  6.453177e+00  7.585740e+00  7.704433e+00   \n",
       "std    8.521329e-01      0.253242  1.121527e+00  1.917140e+00  2.306251e+00   \n",
       "min   -9.687809e-07      0.094994  9.045997e-07 -9.059520e-07 -3.297540e-07   \n",
       "25%    3.334235e+00      0.502441  5.765199e+00  6.304348e+00  6.193565e+00   \n",
       "50%    3.740760e+00      0.619181  6.509804e+00  7.394958e+00  7.683546e+00   \n",
       "75%    4.225202e+00      0.769880  7.222853e+00  8.750001e+00  9.098099e+00   \n",
       "max    1.408200e+01      3.579432  1.054230e+01  1.666667e+01  1.905880e+01   \n",
       "\n",
       "                v99          v100          v101          v102          v103  \\\n",
       "count  1.122700e+04  1.122600e+04  11233.000000  1.095900e+04  1.122700e+04   \n",
       "mean   1.251447e+00  1.220802e+01      6.852490  2.861148e+00  5.291989e+00   \n",
       "std    4.611028e-01  6.903306e+00      2.345592  1.776575e+00  1.230602e+00   \n",
       "min   -8.128056e-07 -9.980039e-07      0.870955 -1.226758e-07 -9.317228e-07   \n",
       "25%    9.293933e-01  5.922209e+00      5.251399  1.780248e+00  4.500130e+00   \n",
       "50%    1.242143e+00  1.473819e+01      6.635124  2.437093e+00  5.130575e+00   \n",
       "75%    1.553895e+00  1.839106e+01      8.226119  3.387028e+00  5.851823e+00   \n",
       "max    8.148149e+00  2.000000e+01     18.678818  1.798964e+01  1.622786e+01   \n",
       "\n",
       "               v104          v105          v106          v108          v109  \\\n",
       "count  1.122700e+04  11426.000000  11233.000000  11428.000000  1.142800e+04   \n",
       "mean   2.642503e+00      1.039457     11.786392      2.147609  4.159625e+00   \n",
       "std    8.759467e-01      2.159013      2.955745      0.900061  3.693014e+00   \n",
       "min   -8.683169e-07      0.000095      2.134527      0.403768 -9.974998e-07   \n",
       "25%    2.138950e+00      0.053850     10.118438      1.528648  1.825199e+00   \n",
       "50%    2.510474e+00      0.233804     12.089921      1.973002  3.096094e+00   \n",
       "75%    2.952551e+00      1.006120     13.742622      2.541314  5.125716e+00   \n",
       "max    1.317921e+01     20.000001     19.526524     13.228094  2.000000e+01   \n",
       "\n",
       "               v111          v114          v115          v116          v117  \\\n",
       "count  1.122700e+04  1.999600e+04  1.121500e+04  1.122600e+04  1.142800e+04   \n",
       "mean   3.365351e+00  1.358808e+01  1.050357e+01  2.282703e+00  8.262544e+00   \n",
       "std    1.500561e+00  2.605661e+00  1.889919e+00  6.571903e-01  3.614976e+00   \n",
       "min   -9.990270e-07 -9.335327e-10 -9.853189e-07 -8.139408e-07 -9.916232e-07   \n",
       "25%    2.312463e+00  1.203518e+01  9.424686e+00  1.851568e+00  5.711086e+00   \n",
       "50%    3.087920e+00  1.405182e+01  1.046667e+01  2.222222e+00  8.043796e+00   \n",
       "75%    4.131646e+00  1.538133e+01  1.157895e+01  2.641729e+00  1.046716e+01   \n",
       "max    1.573771e+01  1.926147e+01  2.000000e+01  8.909091e+00  1.813363e+01   \n",
       "\n",
       "               v118          v119          v120          v121          v122  \\\n",
       "count  1.122300e+04  1.106900e+04  1.122600e+04  1.122600e+04  1.122100e+04   \n",
       "mean   8.334702e+00  3.120616e+00  1.297669e+00  2.745827e+00  6.801217e+00   \n",
       "std    1.988490e+00  4.223845e+00  7.429603e-01  1.378712e+00  1.806785e+00   \n",
       "min   -1.383729e-07 -9.998183e-07 -9.842093e-07 -9.718290e-07 -6.943998e-07   \n",
       "25%    6.984127e+00  2.969598e-01  7.753472e-01  1.788714e+00  5.627705e+00   \n",
       "50%    8.108108e+00  1.434418e+00  1.154019e+00  2.433937e+00  6.713286e+00   \n",
       "75%    9.532294e+00  4.133615e+00  1.666415e+00  3.368018e+00  7.887323e+00   \n",
       "max    2.000000e+01  2.000000e+01  8.778626e+00  1.314085e+01  2.000000e+01   \n",
       "\n",
       "               v123          v124          v126          v127          v128  \\\n",
       "count  11070.000000  1.143000e+04  1.122700e+04  1.122700e+04  11428.000000   \n",
       "mean       3.548336  8.853553e-01  1.674049e+00  3.241704e+00      2.025718   \n",
       "std        2.632053  2.037026e+00  5.001049e-01  1.617930e+00      1.052737   \n",
       "min        0.116114 -9.993112e-07 -9.564174e-07 -9.223798e-07      0.100454   \n",
       "25%        1.957447  2.023770e-02  1.420127e+00  2.099071e+00      1.397730   \n",
       "50%        2.730495  1.344457e-01  1.613723e+00  2.972689e+00      1.797460   \n",
       "75%        4.026398  8.526615e-01  1.847202e+00  4.135857e+00      2.396706   \n",
       "max       18.252445  2.000000e+01  1.247472e+01  1.473711e+01     13.052590   \n",
       "\n",
       "             v129          v130          v131  \n",
       "count  20000.0000  1.122300e+04  1.121500e+04  \n",
       "mean       0.3129  1.932782e+00  1.747322e+00  \n",
       "std        0.6924  1.271985e+00  1.128015e+00  \n",
       "min        0.0000 -6.859452e-07 -9.974798e-07  \n",
       "25%        0.0000  1.111110e+00  1.032258e+00  \n",
       "50%        0.0000  1.565217e+00  1.587302e+00  \n",
       "75%        0.0000  2.324675e+00  2.268041e+00  \n",
       "max        8.0000  2.000000e+01  2.000000e+01  "
      ]
     },
     "metadata": {},
     "output_type": "display_data"
    },
    {
     "name": "stdout",
     "output_type": "stream",
     "text": [
      "(20000, 132)\n"
     ]
    },
    {
     "name": "stderr",
     "output_type": "stream",
     "text": [
      "/Users/shohei.mitani/.pyenv/versions/anaconda3-5.3.1/lib/python3.6/site-packages/ipykernel_launcher.py:42: SettingWithCopyWarning: \n",
      "A value is trying to be set on a copy of a slice from a DataFrame.\n",
      "Try using .loc[row_indexer,col_indexer] = value instead\n",
      "\n",
      "See the caveats in the documentation: http://pandas.pydata.org/pandas-docs/stable/indexing.html#indexing-view-versus-copy\n"
     ]
    },
    {
     "data": {
      "text/html": [
       "<div>\n",
       "<style scoped>\n",
       "    .dataframe tbody tr th:only-of-type {\n",
       "        vertical-align: middle;\n",
       "    }\n",
       "\n",
       "    .dataframe tbody tr th {\n",
       "        vertical-align: top;\n",
       "    }\n",
       "\n",
       "    .dataframe thead th {\n",
       "        text-align: right;\n",
       "    }\n",
       "</style>\n",
       "<table border=\"1\" class=\"dataframe\">\n",
       "  <thead>\n",
       "    <tr style=\"text-align: right;\">\n",
       "      <th></th>\n",
       "      <th>v1</th>\n",
       "      <th>v2</th>\n",
       "      <th>v3</th>\n",
       "      <th>v4</th>\n",
       "      <th>v5</th>\n",
       "      <th>v6</th>\n",
       "      <th>v7</th>\n",
       "      <th>v8</th>\n",
       "      <th>v9</th>\n",
       "      <th>v10</th>\n",
       "      <th>v11</th>\n",
       "      <th>v12</th>\n",
       "      <th>v13</th>\n",
       "      <th>v14</th>\n",
       "      <th>v15</th>\n",
       "      <th>v16</th>\n",
       "      <th>v17</th>\n",
       "      <th>v18</th>\n",
       "      <th>v19</th>\n",
       "      <th>v20</th>\n",
       "      <th>v21</th>\n",
       "      <th>v22</th>\n",
       "      <th>v23</th>\n",
       "      <th>v24</th>\n",
       "      <th>v25</th>\n",
       "      <th>v26</th>\n",
       "      <th>v27</th>\n",
       "      <th>v28</th>\n",
       "      <th>v29</th>\n",
       "      <th>v30</th>\n",
       "      <th>v31</th>\n",
       "      <th>v32</th>\n",
       "      <th>v33</th>\n",
       "      <th>v34</th>\n",
       "      <th>v35</th>\n",
       "      <th>v36</th>\n",
       "      <th>v37</th>\n",
       "      <th>v38</th>\n",
       "      <th>v39</th>\n",
       "      <th>v40</th>\n",
       "      <th>v41</th>\n",
       "      <th>v42</th>\n",
       "      <th>v43</th>\n",
       "      <th>v44</th>\n",
       "      <th>v45</th>\n",
       "      <th>v46</th>\n",
       "      <th>v47</th>\n",
       "      <th>v48</th>\n",
       "      <th>v49</th>\n",
       "      <th>v50</th>\n",
       "      <th>v51</th>\n",
       "      <th>v52</th>\n",
       "      <th>v53</th>\n",
       "      <th>v54</th>\n",
       "      <th>v55</th>\n",
       "      <th>v56</th>\n",
       "      <th>v57</th>\n",
       "      <th>v58</th>\n",
       "      <th>v59</th>\n",
       "      <th>v60</th>\n",
       "      <th>v61</th>\n",
       "      <th>v62</th>\n",
       "      <th>v63</th>\n",
       "      <th>v64</th>\n",
       "      <th>v65</th>\n",
       "      <th>v66</th>\n",
       "      <th>v67</th>\n",
       "      <th>v68</th>\n",
       "      <th>v69</th>\n",
       "      <th>v70</th>\n",
       "      <th>v71</th>\n",
       "      <th>v72</th>\n",
       "      <th>v73</th>\n",
       "      <th>v74</th>\n",
       "      <th>v75</th>\n",
       "      <th>v76</th>\n",
       "      <th>v77</th>\n",
       "      <th>v78</th>\n",
       "      <th>v79</th>\n",
       "      <th>v80</th>\n",
       "      <th>v81</th>\n",
       "      <th>v82</th>\n",
       "      <th>v83</th>\n",
       "      <th>v84</th>\n",
       "      <th>v85</th>\n",
       "      <th>v86</th>\n",
       "      <th>v87</th>\n",
       "      <th>v88</th>\n",
       "      <th>v89</th>\n",
       "      <th>v90</th>\n",
       "      <th>v91</th>\n",
       "      <th>v92</th>\n",
       "      <th>v93</th>\n",
       "      <th>v94</th>\n",
       "      <th>v95</th>\n",
       "      <th>v96</th>\n",
       "      <th>v97</th>\n",
       "      <th>v98</th>\n",
       "      <th>v99</th>\n",
       "      <th>v100</th>\n",
       "      <th>v101</th>\n",
       "      <th>v102</th>\n",
       "      <th>v103</th>\n",
       "      <th>v104</th>\n",
       "      <th>v105</th>\n",
       "      <th>v106</th>\n",
       "      <th>v107</th>\n",
       "      <th>v108</th>\n",
       "      <th>v109</th>\n",
       "      <th>v110</th>\n",
       "      <th>v111</th>\n",
       "      <th>v112</th>\n",
       "      <th>v113</th>\n",
       "      <th>v114</th>\n",
       "      <th>v115</th>\n",
       "      <th>v116</th>\n",
       "      <th>v117</th>\n",
       "      <th>v118</th>\n",
       "      <th>v119</th>\n",
       "      <th>v120</th>\n",
       "      <th>v121</th>\n",
       "      <th>v122</th>\n",
       "      <th>v123</th>\n",
       "      <th>v124</th>\n",
       "      <th>v125</th>\n",
       "      <th>v126</th>\n",
       "      <th>v127</th>\n",
       "      <th>v128</th>\n",
       "      <th>v129</th>\n",
       "      <th>v130</th>\n",
       "    </tr>\n",
       "  </thead>\n",
       "  <tbody>\n",
       "    <tr>\n",
       "      <th>76727</th>\n",
       "      <td>NaN</td>\n",
       "      <td>NaN</td>\n",
       "      <td>2</td>\n",
       "      <td>NaN</td>\n",
       "      <td>NaN</td>\n",
       "      <td>NaN</td>\n",
       "      <td>NaN</td>\n",
       "      <td>NaN</td>\n",
       "      <td>NaN</td>\n",
       "      <td>1.291028</td>\n",
       "      <td>NaN</td>\n",
       "      <td>6.748169</td>\n",
       "      <td>NaN</td>\n",
       "      <td>11.032517</td>\n",
       "      <td>NaN</td>\n",
       "      <td>NaN</td>\n",
       "      <td>NaN</td>\n",
       "      <td>NaN</td>\n",
       "      <td>NaN</td>\n",
       "      <td>NaN</td>\n",
       "      <td>6.058247</td>\n",
       "      <td>3684</td>\n",
       "      <td>NaN</td>\n",
       "      <td>2</td>\n",
       "      <td>NaN</td>\n",
       "      <td>NaN</td>\n",
       "      <td>NaN</td>\n",
       "      <td>NaN</td>\n",
       "      <td>NaN</td>\n",
       "      <td>7</td>\n",
       "      <td>0</td>\n",
       "      <td>NaN</td>\n",
       "      <td>NaN</td>\n",
       "      <td>7.736754</td>\n",
       "      <td>NaN</td>\n",
       "      <td>NaN</td>\n",
       "      <td>NaN</td>\n",
       "      <td>0</td>\n",
       "      <td>NaN</td>\n",
       "      <td>7.766442</td>\n",
       "      <td>NaN</td>\n",
       "      <td>NaN</td>\n",
       "      <td>NaN</td>\n",
       "      <td>NaN</td>\n",
       "      <td>NaN</td>\n",
       "      <td>NaN</td>\n",
       "      <td>2</td>\n",
       "      <td>NaN</td>\n",
       "      <td>NaN</td>\n",
       "      <td>0.666128</td>\n",
       "      <td>NaN</td>\n",
       "      <td>3</td>\n",
       "      <td>NaN</td>\n",
       "      <td>NaN</td>\n",
       "      <td>NaN</td>\n",
       "      <td>6</td>\n",
       "      <td>NaN</td>\n",
       "      <td>NaN</td>\n",
       "      <td>NaN</td>\n",
       "      <td>NaN</td>\n",
       "      <td>NaN</td>\n",
       "      <td>3</td>\n",
       "      <td>NaN</td>\n",
       "      <td>NaN</td>\n",
       "      <td>NaN</td>\n",
       "      <td>0</td>\n",
       "      <td>NaN</td>\n",
       "      <td>NaN</td>\n",
       "      <td>NaN</td>\n",
       "      <td>NaN</td>\n",
       "      <td>2</td>\n",
       "      <td>3</td>\n",
       "      <td>NaN</td>\n",
       "      <td>1</td>\n",
       "      <td>3</td>\n",
       "      <td>NaN</td>\n",
       "      <td>NaN</td>\n",
       "      <td>NaN</td>\n",
       "      <td>4</td>\n",
       "      <td>NaN</td>\n",
       "      <td>NaN</td>\n",
       "      <td>NaN</td>\n",
       "      <td>NaN</td>\n",
       "      <td>NaN</td>\n",
       "      <td>NaN</td>\n",
       "      <td>NaN</td>\n",
       "      <td>NaN</td>\n",
       "      <td>NaN</td>\n",
       "      <td>NaN</td>\n",
       "      <td>NaN</td>\n",
       "      <td>2</td>\n",
       "      <td>NaN</td>\n",
       "      <td>NaN</td>\n",
       "      <td>NaN</td>\n",
       "      <td>NaN</td>\n",
       "      <td>NaN</td>\n",
       "      <td>NaN</td>\n",
       "      <td>NaN</td>\n",
       "      <td>NaN</td>\n",
       "      <td>NaN</td>\n",
       "      <td>NaN</td>\n",
       "      <td>NaN</td>\n",
       "      <td>NaN</td>\n",
       "      <td>NaN</td>\n",
       "      <td>NaN</td>\n",
       "      <td>NaN</td>\n",
       "      <td>3</td>\n",
       "      <td>NaN</td>\n",
       "      <td>NaN</td>\n",
       "      <td>1</td>\n",
       "      <td>NaN</td>\n",
       "      <td>3</td>\n",
       "      <td>35</td>\n",
       "      <td>15.524113</td>\n",
       "      <td>NaN</td>\n",
       "      <td>NaN</td>\n",
       "      <td>NaN</td>\n",
       "      <td>NaN</td>\n",
       "      <td>NaN</td>\n",
       "      <td>NaN</td>\n",
       "      <td>NaN</td>\n",
       "      <td>NaN</td>\n",
       "      <td>NaN</td>\n",
       "      <td>NaN</td>\n",
       "      <td>86</td>\n",
       "      <td>NaN</td>\n",
       "      <td>NaN</td>\n",
       "      <td>NaN</td>\n",
       "      <td>0</td>\n",
       "      <td>NaN</td>\n",
       "    </tr>\n",
       "    <tr>\n",
       "      <th>114088</th>\n",
       "      <td>3.008130</td>\n",
       "      <td>9.610487</td>\n",
       "      <td>2</td>\n",
       "      <td>5.307094</td>\n",
       "      <td>8.749160</td>\n",
       "      <td>3.252033</td>\n",
       "      <td>2.439024</td>\n",
       "      <td>0.009707</td>\n",
       "      <td>7.000000</td>\n",
       "      <td>1.291029</td>\n",
       "      <td>17.192982</td>\n",
       "      <td>6.712795</td>\n",
       "      <td>3.652847</td>\n",
       "      <td>10.478942</td>\n",
       "      <td>1.031353</td>\n",
       "      <td>3.076924</td>\n",
       "      <td>3.756145</td>\n",
       "      <td>0.074210</td>\n",
       "      <td>0.213615</td>\n",
       "      <td>18.045674</td>\n",
       "      <td>5.567791</td>\n",
       "      <td>3048</td>\n",
       "      <td>1.124447e-07</td>\n",
       "      <td>4</td>\n",
       "      <td>0.146571</td>\n",
       "      <td>1.341463</td>\n",
       "      <td>2.845528</td>\n",
       "      <td>0.523840</td>\n",
       "      <td>8.211382</td>\n",
       "      <td>7</td>\n",
       "      <td>0</td>\n",
       "      <td>0.853659</td>\n",
       "      <td>2.113822</td>\n",
       "      <td>4.976633</td>\n",
       "      <td>8.130080</td>\n",
       "      <td>10.577038</td>\n",
       "      <td>1.333333</td>\n",
       "      <td>0</td>\n",
       "      <td>-4.433934e-07</td>\n",
       "      <td>12.130814</td>\n",
       "      <td>7.967479</td>\n",
       "      <td>12.926829</td>\n",
       "      <td>1.578947</td>\n",
       "      <td>10.834968</td>\n",
       "      <td>11.089765</td>\n",
       "      <td>0.111407</td>\n",
       "      <td>2</td>\n",
       "      <td>11.880353</td>\n",
       "      <td>8.780487</td>\n",
       "      <td>0.764435</td>\n",
       "      <td>6.783674</td>\n",
       "      <td>1</td>\n",
       "      <td>17.425742</td>\n",
       "      <td>0.042408</td>\n",
       "      <td>1.463416</td>\n",
       "      <td>14</td>\n",
       "      <td>3.658537</td>\n",
       "      <td>0.380953</td>\n",
       "      <td>12.022503</td>\n",
       "      <td>1.043360</td>\n",
       "      <td>16.607470</td>\n",
       "      <td>2</td>\n",
       "      <td>0.149287</td>\n",
       "      <td>6.436024</td>\n",
       "      <td>16.091348</td>\n",
       "      <td>0</td>\n",
       "      <td>9.268294</td>\n",
       "      <td>18.857142</td>\n",
       "      <td>9.230769</td>\n",
       "      <td>12.435678</td>\n",
       "      <td>2</td>\n",
       "      <td>2</td>\n",
       "      <td>1.279240</td>\n",
       "      <td>1</td>\n",
       "      <td>3</td>\n",
       "      <td>2.326702</td>\n",
       "      <td>6.585366</td>\n",
       "      <td>13.846153</td>\n",
       "      <td>4</td>\n",
       "      <td>2.000001</td>\n",
       "      <td>6.554763</td>\n",
       "      <td>8.610624</td>\n",
       "      <td>2.195122</td>\n",
       "      <td>0.975611</td>\n",
       "      <td>1.311476</td>\n",
       "      <td>0.609757</td>\n",
       "      <td>10.257636</td>\n",
       "      <td>3.252032</td>\n",
       "      <td>0.066011</td>\n",
       "      <td>1.019932</td>\n",
       "      <td>0</td>\n",
       "      <td>0.552303</td>\n",
       "      <td>4.918771</td>\n",
       "      <td>3.874902</td>\n",
       "      <td>0.626963</td>\n",
       "      <td>7.154471</td>\n",
       "      <td>4.666666</td>\n",
       "      <td>8.201902</td>\n",
       "      <td>1.043361</td>\n",
       "      <td>19.619049</td>\n",
       "      <td>8.962532</td>\n",
       "      <td>1.967642</td>\n",
       "      <td>5.541221</td>\n",
       "      <td>1.772393</td>\n",
       "      <td>0.006858</td>\n",
       "      <td>12.885423</td>\n",
       "      <td>4</td>\n",
       "      <td>2.360249</td>\n",
       "      <td>6.019738</td>\n",
       "      <td>1</td>\n",
       "      <td>3.414634</td>\n",
       "      <td>13</td>\n",
       "      <td>35</td>\n",
       "      <td>12.193743</td>\n",
       "      <td>10.769230</td>\n",
       "      <td>1.386139</td>\n",
       "      <td>8.100038</td>\n",
       "      <td>5.999999</td>\n",
       "      <td>0.223131</td>\n",
       "      <td>1.333333</td>\n",
       "      <td>2.500001</td>\n",
       "      <td>5.000001</td>\n",
       "      <td>1.562595</td>\n",
       "      <td>0.018081</td>\n",
       "      <td>31</td>\n",
       "      <td>1.501524</td>\n",
       "      <td>2.591464</td>\n",
       "      <td>2.540352</td>\n",
       "      <td>0</td>\n",
       "      <td>1.733333</td>\n",
       "    </tr>\n",
       "    <tr>\n",
       "      <th>29698</th>\n",
       "      <td>1.289841</td>\n",
       "      <td>4.788643</td>\n",
       "      <td>2</td>\n",
       "      <td>4.283418</td>\n",
       "      <td>10.719569</td>\n",
       "      <td>3.107569</td>\n",
       "      <td>1.962151</td>\n",
       "      <td>0.080811</td>\n",
       "      <td>8.604651</td>\n",
       "      <td>1.553610</td>\n",
       "      <td>16.275461</td>\n",
       "      <td>6.933089</td>\n",
       "      <td>3.507230</td>\n",
       "      <td>12.239968</td>\n",
       "      <td>1.730493</td>\n",
       "      <td>6.730770</td>\n",
       "      <td>2.980921</td>\n",
       "      <td>0.540674</td>\n",
       "      <td>0.247952</td>\n",
       "      <td>18.162637</td>\n",
       "      <td>6.908085</td>\n",
       "      <td>7275</td>\n",
       "      <td>4.549538e-07</td>\n",
       "      <td>4</td>\n",
       "      <td>0.140161</td>\n",
       "      <td>1.479083</td>\n",
       "      <td>1.683267</td>\n",
       "      <td>4.291213</td>\n",
       "      <td>9.233068</td>\n",
       "      <td>7</td>\n",
       "      <td>1</td>\n",
       "      <td>1.658367</td>\n",
       "      <td>2.071713</td>\n",
       "      <td>4.623952</td>\n",
       "      <td>10.697211</td>\n",
       "      <td>12.587746</td>\n",
       "      <td>0.710661</td>\n",
       "      <td>0</td>\n",
       "      <td>3.959633e-01</td>\n",
       "      <td>12.952753</td>\n",
       "      <td>8.356574</td>\n",
       "      <td>13.685260</td>\n",
       "      <td>1.571289</td>\n",
       "      <td>8.110800</td>\n",
       "      <td>11.257027</td>\n",
       "      <td>0.133654</td>\n",
       "      <td>2</td>\n",
       "      <td>13.101712</td>\n",
       "      <td>9.153387</td>\n",
       "      <td>0.688136</td>\n",
       "      <td>4.857375</td>\n",
       "      <td>5</td>\n",
       "      <td>16.763754</td>\n",
       "      <td>0.133755</td>\n",
       "      <td>1.494024</td>\n",
       "      <td>39</td>\n",
       "      <td>4.173307</td>\n",
       "      <td>1.830065</td>\n",
       "      <td>13.452836</td>\n",
       "      <td>1.351262</td>\n",
       "      <td>15.137857</td>\n",
       "      <td>0</td>\n",
       "      <td>0.159213</td>\n",
       "      <td>5.348231</td>\n",
       "      <td>16.738679</td>\n",
       "      <td>0</td>\n",
       "      <td>10.268924</td>\n",
       "      <td>19.137255</td>\n",
       "      <td>9.615384</td>\n",
       "      <td>14.739096</td>\n",
       "      <td>2</td>\n",
       "      <td>2</td>\n",
       "      <td>2.242969</td>\n",
       "      <td>1</td>\n",
       "      <td>3</td>\n",
       "      <td>1.776570</td>\n",
       "      <td>8.097610</td>\n",
       "      <td>11.923077</td>\n",
       "      <td>1</td>\n",
       "      <td>2.713178</td>\n",
       "      <td>4.974123</td>\n",
       "      <td>11.722124</td>\n",
       "      <td>1.852591</td>\n",
       "      <td>2.091633</td>\n",
       "      <td>1.678081</td>\n",
       "      <td>1.150398</td>\n",
       "      <td>9.565966</td>\n",
       "      <td>2.290836</td>\n",
       "      <td>0.113774</td>\n",
       "      <td>1.063355</td>\n",
       "      <td>2</td>\n",
       "      <td>0.810265</td>\n",
       "      <td>5.324644</td>\n",
       "      <td>3.618375</td>\n",
       "      <td>0.899314</td>\n",
       "      <td>7.739044</td>\n",
       "      <td>7.512690</td>\n",
       "      <td>4.809763</td>\n",
       "      <td>1.351261</td>\n",
       "      <td>17.960785</td>\n",
       "      <td>8.091601</td>\n",
       "      <td>4.042366</td>\n",
       "      <td>5.229696</td>\n",
       "      <td>2.801053</td>\n",
       "      <td>0.050819</td>\n",
       "      <td>11.320335</td>\n",
       "      <td>3</td>\n",
       "      <td>2.144041</td>\n",
       "      <td>1.875000</td>\n",
       "      <td>1</td>\n",
       "      <td>3.227092</td>\n",
       "      <td>7</td>\n",
       "      <td>35</td>\n",
       "      <td>11.372095</td>\n",
       "      <td>10.384615</td>\n",
       "      <td>1.596549</td>\n",
       "      <td>6.763718</td>\n",
       "      <td>8.223349</td>\n",
       "      <td>0.248266</td>\n",
       "      <td>0.522876</td>\n",
       "      <td>2.023939</td>\n",
       "      <td>5.968992</td>\n",
       "      <td>2.169825</td>\n",
       "      <td>0.004921</td>\n",
       "      <td>57</td>\n",
       "      <td>1.460793</td>\n",
       "      <td>1.531374</td>\n",
       "      <td>1.964652</td>\n",
       "      <td>2</td>\n",
       "      <td>2.111676</td>\n",
       "    </tr>\n",
       "    <tr>\n",
       "      <th>76482</th>\n",
       "      <td>NaN</td>\n",
       "      <td>NaN</td>\n",
       "      <td>2</td>\n",
       "      <td>NaN</td>\n",
       "      <td>NaN</td>\n",
       "      <td>NaN</td>\n",
       "      <td>NaN</td>\n",
       "      <td>NaN</td>\n",
       "      <td>NaN</td>\n",
       "      <td>1.312910</td>\n",
       "      <td>NaN</td>\n",
       "      <td>6.828125</td>\n",
       "      <td>NaN</td>\n",
       "      <td>12.148606</td>\n",
       "      <td>NaN</td>\n",
       "      <td>NaN</td>\n",
       "      <td>NaN</td>\n",
       "      <td>NaN</td>\n",
       "      <td>NaN</td>\n",
       "      <td>NaN</td>\n",
       "      <td>7.230163</td>\n",
       "      <td>3986</td>\n",
       "      <td>NaN</td>\n",
       "      <td>2</td>\n",
       "      <td>NaN</td>\n",
       "      <td>NaN</td>\n",
       "      <td>NaN</td>\n",
       "      <td>NaN</td>\n",
       "      <td>NaN</td>\n",
       "      <td>7</td>\n",
       "      <td>0</td>\n",
       "      <td>NaN</td>\n",
       "      <td>NaN</td>\n",
       "      <td>5.508541</td>\n",
       "      <td>NaN</td>\n",
       "      <td>NaN</td>\n",
       "      <td>NaN</td>\n",
       "      <td>0</td>\n",
       "      <td>NaN</td>\n",
       "      <td>11.311772</td>\n",
       "      <td>NaN</td>\n",
       "      <td>NaN</td>\n",
       "      <td>NaN</td>\n",
       "      <td>NaN</td>\n",
       "      <td>NaN</td>\n",
       "      <td>NaN</td>\n",
       "      <td>7</td>\n",
       "      <td>NaN</td>\n",
       "      <td>NaN</td>\n",
       "      <td>0.488592</td>\n",
       "      <td>NaN</td>\n",
       "      <td>10</td>\n",
       "      <td>NaN</td>\n",
       "      <td>NaN</td>\n",
       "      <td>NaN</td>\n",
       "      <td>72</td>\n",
       "      <td>NaN</td>\n",
       "      <td>NaN</td>\n",
       "      <td>NaN</td>\n",
       "      <td>NaN</td>\n",
       "      <td>NaN</td>\n",
       "      <td>1</td>\n",
       "      <td>NaN</td>\n",
       "      <td>NaN</td>\n",
       "      <td>NaN</td>\n",
       "      <td>0</td>\n",
       "      <td>NaN</td>\n",
       "      <td>NaN</td>\n",
       "      <td>NaN</td>\n",
       "      <td>NaN</td>\n",
       "      <td>0</td>\n",
       "      <td>1</td>\n",
       "      <td>NaN</td>\n",
       "      <td>1</td>\n",
       "      <td>1</td>\n",
       "      <td>NaN</td>\n",
       "      <td>NaN</td>\n",
       "      <td>NaN</td>\n",
       "      <td>2</td>\n",
       "      <td>NaN</td>\n",
       "      <td>NaN</td>\n",
       "      <td>NaN</td>\n",
       "      <td>NaN</td>\n",
       "      <td>NaN</td>\n",
       "      <td>NaN</td>\n",
       "      <td>NaN</td>\n",
       "      <td>NaN</td>\n",
       "      <td>NaN</td>\n",
       "      <td>NaN</td>\n",
       "      <td>NaN</td>\n",
       "      <td>1</td>\n",
       "      <td>NaN</td>\n",
       "      <td>NaN</td>\n",
       "      <td>NaN</td>\n",
       "      <td>NaN</td>\n",
       "      <td>NaN</td>\n",
       "      <td>NaN</td>\n",
       "      <td>NaN</td>\n",
       "      <td>NaN</td>\n",
       "      <td>NaN</td>\n",
       "      <td>NaN</td>\n",
       "      <td>NaN</td>\n",
       "      <td>NaN</td>\n",
       "      <td>NaN</td>\n",
       "      <td>NaN</td>\n",
       "      <td>NaN</td>\n",
       "      <td>1</td>\n",
       "      <td>NaN</td>\n",
       "      <td>NaN</td>\n",
       "      <td>0</td>\n",
       "      <td>NaN</td>\n",
       "      <td>13</td>\n",
       "      <td>31</td>\n",
       "      <td>12.801252</td>\n",
       "      <td>NaN</td>\n",
       "      <td>NaN</td>\n",
       "      <td>NaN</td>\n",
       "      <td>NaN</td>\n",
       "      <td>NaN</td>\n",
       "      <td>NaN</td>\n",
       "      <td>NaN</td>\n",
       "      <td>NaN</td>\n",
       "      <td>NaN</td>\n",
       "      <td>NaN</td>\n",
       "      <td>11</td>\n",
       "      <td>NaN</td>\n",
       "      <td>NaN</td>\n",
       "      <td>NaN</td>\n",
       "      <td>0</td>\n",
       "      <td>NaN</td>\n",
       "    </tr>\n",
       "    <tr>\n",
       "      <th>22801</th>\n",
       "      <td>1.707035</td>\n",
       "      <td>7.973529</td>\n",
       "      <td>2</td>\n",
       "      <td>3.345923</td>\n",
       "      <td>7.256221</td>\n",
       "      <td>2.583621</td>\n",
       "      <td>2.214533</td>\n",
       "      <td>0.038365</td>\n",
       "      <td>9.904762</td>\n",
       "      <td>1.312910</td>\n",
       "      <td>15.674301</td>\n",
       "      <td>6.820732</td>\n",
       "      <td>3.615514</td>\n",
       "      <td>12.223805</td>\n",
       "      <td>2.513405</td>\n",
       "      <td>7.000001</td>\n",
       "      <td>3.723576</td>\n",
       "      <td>0.338540</td>\n",
       "      <td>0.222515</td>\n",
       "      <td>17.901672</td>\n",
       "      <td>7.406736</td>\n",
       "      <td>260</td>\n",
       "      <td>-6.393184e-07</td>\n",
       "      <td>4</td>\n",
       "      <td>0.229674</td>\n",
       "      <td>1.353325</td>\n",
       "      <td>2.629758</td>\n",
       "      <td>1.851615</td>\n",
       "      <td>8.604383</td>\n",
       "      <td>2</td>\n",
       "      <td>0</td>\n",
       "      <td>1.799309</td>\n",
       "      <td>0.922723</td>\n",
       "      <td>7.676554</td>\n",
       "      <td>8.258362</td>\n",
       "      <td>11.790602</td>\n",
       "      <td>0.833334</td>\n",
       "      <td>0</td>\n",
       "      <td>1.626134e+00</td>\n",
       "      <td>7.883656</td>\n",
       "      <td>7.104959</td>\n",
       "      <td>12.525951</td>\n",
       "      <td>1.628499</td>\n",
       "      <td>10.210684</td>\n",
       "      <td>9.327354</td>\n",
       "      <td>0.122960</td>\n",
       "      <td>8</td>\n",
       "      <td>12.093019</td>\n",
       "      <td>7.889273</td>\n",
       "      <td>0.509133</td>\n",
       "      <td>7.990444</td>\n",
       "      <td>7</td>\n",
       "      <td>16.085792</td>\n",
       "      <td>0.108941</td>\n",
       "      <td>0.484428</td>\n",
       "      <td>76</td>\n",
       "      <td>3.921568</td>\n",
       "      <td>5.511482</td>\n",
       "      <td>11.831424</td>\n",
       "      <td>1.184159</td>\n",
       "      <td>15.934192</td>\n",
       "      <td>1</td>\n",
       "      <td>0.117456</td>\n",
       "      <td>6.361704</td>\n",
       "      <td>17.407947</td>\n",
       "      <td>0</td>\n",
       "      <td>9.065743</td>\n",
       "      <td>15.407098</td>\n",
       "      <td>6.999999</td>\n",
       "      <td>12.313013</td>\n",
       "      <td>2</td>\n",
       "      <td>1</td>\n",
       "      <td>2.756574</td>\n",
       "      <td>1</td>\n",
       "      <td>3</td>\n",
       "      <td>2.294835</td>\n",
       "      <td>7.335640</td>\n",
       "      <td>8.000000</td>\n",
       "      <td>15</td>\n",
       "      <td>1.333332</td>\n",
       "      <td>8.224927</td>\n",
       "      <td>8.867483</td>\n",
       "      <td>0.553633</td>\n",
       "      <td>0.968858</td>\n",
       "      <td>2.105264</td>\n",
       "      <td>1.557093</td>\n",
       "      <td>9.849462</td>\n",
       "      <td>2.537486</td>\n",
       "      <td>0.169819</td>\n",
       "      <td>0.925183</td>\n",
       "      <td>0</td>\n",
       "      <td>0.652248</td>\n",
       "      <td>5.599100</td>\n",
       "      <td>3.664843</td>\n",
       "      <td>0.682773</td>\n",
       "      <td>6.920416</td>\n",
       "      <td>5.833333</td>\n",
       "      <td>8.462342</td>\n",
       "      <td>1.353326</td>\n",
       "      <td>14.446764</td>\n",
       "      <td>6.132872</td>\n",
       "      <td>1.882262</td>\n",
       "      <td>5.531989</td>\n",
       "      <td>2.640193</td>\n",
       "      <td>0.021849</td>\n",
       "      <td>12.524367</td>\n",
       "      <td>4</td>\n",
       "      <td>1.921146</td>\n",
       "      <td>2.894737</td>\n",
       "      <td>0</td>\n",
       "      <td>1.799309</td>\n",
       "      <td>0</td>\n",
       "      <td>9</td>\n",
       "      <td>15.395748</td>\n",
       "      <td>13.000000</td>\n",
       "      <td>1.501341</td>\n",
       "      <td>5.628966</td>\n",
       "      <td>6.666666</td>\n",
       "      <td>2.893149</td>\n",
       "      <td>3.089770</td>\n",
       "      <td>0.701755</td>\n",
       "      <td>8.571428</td>\n",
       "      <td>2.393184</td>\n",
       "      <td>0.057855</td>\n",
       "      <td>4</td>\n",
       "      <td>1.378358</td>\n",
       "      <td>3.806228</td>\n",
       "      <td>1.731837</td>\n",
       "      <td>0</td>\n",
       "      <td>0.833333</td>\n",
       "    </tr>\n",
       "  </tbody>\n",
       "</table>\n",
       "</div>"
      ],
      "text/plain": [
       "              v1        v2  v3        v4         v5        v6        v7  \\\n",
       "76727        NaN       NaN   2       NaN        NaN       NaN       NaN   \n",
       "114088  3.008130  9.610487   2  5.307094   8.749160  3.252033  2.439024   \n",
       "29698   1.289841  4.788643   2  4.283418  10.719569  3.107569  1.962151   \n",
       "76482        NaN       NaN   2       NaN        NaN       NaN       NaN   \n",
       "22801   1.707035  7.973529   2  3.345923   7.256221  2.583621  2.214533   \n",
       "\n",
       "              v8        v9       v10        v11       v12       v13  \\\n",
       "76727        NaN       NaN  1.291028        NaN  6.748169       NaN   \n",
       "114088  0.009707  7.000000  1.291029  17.192982  6.712795  3.652847   \n",
       "29698   0.080811  8.604651  1.553610  16.275461  6.933089  3.507230   \n",
       "76482        NaN       NaN  1.312910        NaN  6.828125       NaN   \n",
       "22801   0.038365  9.904762  1.312910  15.674301  6.820732  3.615514   \n",
       "\n",
       "              v14       v15       v16       v17       v18       v19  \\\n",
       "76727   11.032517       NaN       NaN       NaN       NaN       NaN   \n",
       "114088  10.478942  1.031353  3.076924  3.756145  0.074210  0.213615   \n",
       "29698   12.239968  1.730493  6.730770  2.980921  0.540674  0.247952   \n",
       "76482   12.148606       NaN       NaN       NaN       NaN       NaN   \n",
       "22801   12.223805  2.513405  7.000001  3.723576  0.338540  0.222515   \n",
       "\n",
       "              v20       v21   v22           v23  v24       v25       v26  \\\n",
       "76727         NaN  6.058247  3684           NaN    2       NaN       NaN   \n",
       "114088  18.045674  5.567791  3048  1.124447e-07    4  0.146571  1.341463   \n",
       "29698   18.162637  6.908085  7275  4.549538e-07    4  0.140161  1.479083   \n",
       "76482         NaN  7.230163  3986           NaN    2       NaN       NaN   \n",
       "22801   17.901672  7.406736   260 -6.393184e-07    4  0.229674  1.353325   \n",
       "\n",
       "             v27       v28       v29  v30  v31       v32       v33       v34  \\\n",
       "76727        NaN       NaN       NaN    7    0       NaN       NaN  7.736754   \n",
       "114088  2.845528  0.523840  8.211382    7    0  0.853659  2.113822  4.976633   \n",
       "29698   1.683267  4.291213  9.233068    7    1  1.658367  2.071713  4.623952   \n",
       "76482        NaN       NaN       NaN    7    0       NaN       NaN  5.508541   \n",
       "22801   2.629758  1.851615  8.604383    2    0  1.799309  0.922723  7.676554   \n",
       "\n",
       "              v35        v36       v37  v38           v39        v40  \\\n",
       "76727         NaN        NaN       NaN    0           NaN   7.766442   \n",
       "114088   8.130080  10.577038  1.333333    0 -4.433934e-07  12.130814   \n",
       "29698   10.697211  12.587746  0.710661    0  3.959633e-01  12.952753   \n",
       "76482         NaN        NaN       NaN    0           NaN  11.311772   \n",
       "22801    8.258362  11.790602  0.833334    0  1.626134e+00   7.883656   \n",
       "\n",
       "             v41        v42       v43        v44        v45       v46  v47  \\\n",
       "76727        NaN        NaN       NaN        NaN        NaN       NaN    2   \n",
       "114088  7.967479  12.926829  1.578947  10.834968  11.089765  0.111407    2   \n",
       "29698   8.356574  13.685260  1.571289   8.110800  11.257027  0.133654    2   \n",
       "76482        NaN        NaN       NaN        NaN        NaN       NaN    7   \n",
       "22801   7.104959  12.525951  1.628499  10.210684   9.327354  0.122960    8   \n",
       "\n",
       "              v48       v49       v50       v51  v52        v53       v54  \\\n",
       "76727         NaN       NaN  0.666128       NaN    3        NaN       NaN   \n",
       "114088  11.880353  8.780487  0.764435  6.783674    1  17.425742  0.042408   \n",
       "29698   13.101712  9.153387  0.688136  4.857375    5  16.763754  0.133755   \n",
       "76482         NaN       NaN  0.488592       NaN   10        NaN       NaN   \n",
       "22801   12.093019  7.889273  0.509133  7.990444    7  16.085792  0.108941   \n",
       "\n",
       "             v55  v56       v57       v58        v59       v60        v61  \\\n",
       "76727        NaN    6       NaN       NaN        NaN       NaN        NaN   \n",
       "114088  1.463416   14  3.658537  0.380953  12.022503  1.043360  16.607470   \n",
       "29698   1.494024   39  4.173307  1.830065  13.452836  1.351262  15.137857   \n",
       "76482        NaN   72       NaN       NaN        NaN       NaN        NaN   \n",
       "22801   0.484428   76  3.921568  5.511482  11.831424  1.184159  15.934192   \n",
       "\n",
       "        v62       v63       v64        v65  v66        v67        v68  \\\n",
       "76727     3       NaN       NaN        NaN    0        NaN        NaN   \n",
       "114088    2  0.149287  6.436024  16.091348    0   9.268294  18.857142   \n",
       "29698     0  0.159213  5.348231  16.738679    0  10.268924  19.137255   \n",
       "76482     1       NaN       NaN        NaN    0        NaN        NaN   \n",
       "22801     1  0.117456  6.361704  17.407947    0   9.065743  15.407098   \n",
       "\n",
       "             v69        v70  v71  v72       v73  v74  v75       v76       v77  \\\n",
       "76727        NaN        NaN    2    3       NaN    1    3       NaN       NaN   \n",
       "114088  9.230769  12.435678    2    2  1.279240    1    3  2.326702  6.585366   \n",
       "29698   9.615384  14.739096    2    2  2.242969    1    3  1.776570  8.097610   \n",
       "76482        NaN        NaN    0    1       NaN    1    1       NaN       NaN   \n",
       "22801   6.999999  12.313013    2    1  2.756574    1    3  2.294835  7.335640   \n",
       "\n",
       "              v78  v79       v80       v81        v82       v83       v84  \\\n",
       "76727         NaN    4       NaN       NaN        NaN       NaN       NaN   \n",
       "114088  13.846153    4  2.000001  6.554763   8.610624  2.195122  0.975611   \n",
       "29698   11.923077    1  2.713178  4.974123  11.722124  1.852591  2.091633   \n",
       "76482         NaN    2       NaN       NaN        NaN       NaN       NaN   \n",
       "22801    8.000000   15  1.333332  8.224927   8.867483  0.553633  0.968858   \n",
       "\n",
       "             v85       v86        v87       v88       v89       v90  v91  \\\n",
       "76727        NaN       NaN        NaN       NaN       NaN       NaN    2   \n",
       "114088  1.311476  0.609757  10.257636  3.252032  0.066011  1.019932    0   \n",
       "29698   1.678081  1.150398   9.565966  2.290836  0.113774  1.063355    2   \n",
       "76482        NaN       NaN        NaN       NaN       NaN       NaN    1   \n",
       "22801   2.105264  1.557093   9.849462  2.537486  0.169819  0.925183    0   \n",
       "\n",
       "             v92       v93       v94       v95       v96       v97       v98  \\\n",
       "76727        NaN       NaN       NaN       NaN       NaN       NaN       NaN   \n",
       "114088  0.552303  4.918771  3.874902  0.626963  7.154471  4.666666  8.201902   \n",
       "29698   0.810265  5.324644  3.618375  0.899314  7.739044  7.512690  4.809763   \n",
       "76482        NaN       NaN       NaN       NaN       NaN       NaN       NaN   \n",
       "22801   0.652248  5.599100  3.664843  0.682773  6.920416  5.833333  8.462342   \n",
       "\n",
       "             v99       v100      v101      v102      v103      v104      v105  \\\n",
       "76727        NaN        NaN       NaN       NaN       NaN       NaN       NaN   \n",
       "114088  1.043361  19.619049  8.962532  1.967642  5.541221  1.772393  0.006858   \n",
       "29698   1.351261  17.960785  8.091601  4.042366  5.229696  2.801053  0.050819   \n",
       "76482        NaN        NaN       NaN       NaN       NaN       NaN       NaN   \n",
       "22801   1.353326  14.446764  6.132872  1.882262  5.531989  2.640193  0.021849   \n",
       "\n",
       "             v106  v107      v108      v109  v110      v111  v112  v113  \\\n",
       "76727         NaN     3       NaN       NaN     1       NaN     3    35   \n",
       "114088  12.885423     4  2.360249  6.019738     1  3.414634    13    35   \n",
       "29698   11.320335     3  2.144041  1.875000     1  3.227092     7    35   \n",
       "76482         NaN     1       NaN       NaN     0       NaN    13    31   \n",
       "22801   12.524367     4  1.921146  2.894737     0  1.799309     0     9   \n",
       "\n",
       "             v114       v115      v116      v117      v118      v119  \\\n",
       "76727   15.524113        NaN       NaN       NaN       NaN       NaN   \n",
       "114088  12.193743  10.769230  1.386139  8.100038  5.999999  0.223131   \n",
       "29698   11.372095  10.384615  1.596549  6.763718  8.223349  0.248266   \n",
       "76482   12.801252        NaN       NaN       NaN       NaN       NaN   \n",
       "22801   15.395748  13.000000  1.501341  5.628966  6.666666  2.893149   \n",
       "\n",
       "            v120      v121      v122      v123      v124  v125      v126  \\\n",
       "76727        NaN       NaN       NaN       NaN       NaN    86       NaN   \n",
       "114088  1.333333  2.500001  5.000001  1.562595  0.018081    31  1.501524   \n",
       "29698   0.522876  2.023939  5.968992  2.169825  0.004921    57  1.460793   \n",
       "76482        NaN       NaN       NaN       NaN       NaN    11       NaN   \n",
       "22801   3.089770  0.701755  8.571428  2.393184  0.057855     4  1.378358   \n",
       "\n",
       "            v127      v128  v129      v130  \n",
       "76727        NaN       NaN     0       NaN  \n",
       "114088  2.591464  2.540352     0  1.733333  \n",
       "29698   1.531374  1.964652     2  2.111676  \n",
       "76482        NaN       NaN     0       NaN  \n",
       "22801   3.806228  1.731837     0  0.833333  "
      ]
     },
     "metadata": {},
     "output_type": "display_data"
    }
   ],
   "source": [
    "\"\"\"\n",
    "参考: https://www.kaggle.com/wakamezake/neural-networks-product-classification-otto\n",
    "\"\"\"\n",
    "\n",
    "import numpy as np\n",
    "import pandas as pd\n",
    "from IPython.display import display\n",
    "\n",
    "from sklearn.model_selection import train_test_split\n",
    "\n",
    "pd.options.display.max_columns = None\n",
    "pd.options.display.max_rows = None\n",
    "\n",
    "# dataset の読み込み\n",
    "train_df = pd.read_csv('./data/train.csv')\n",
    "\n",
    "# テスト用にデータ数を少なくする\n",
    "\n",
    "train_df = train_df.sample(n=20000)\n",
    "\n",
    "# 不要なデータの削除\n",
    "train_df = train_df.drop(['ID'],axis=1)\n",
    "\n",
    "display(train_df.head())\n",
    "display(train_df.describe())\n",
    "print(train_df.shape)\n",
    "\n",
    "# 特微量の取り出し\n",
    "columns = train_df.columns[1:-1]\n",
    "# print(columns)\n",
    "\n",
    "# 訓練データ\n",
    "X = train_df[columns]\n",
    "y = train_df[['target']]\n",
    "\n",
    "# カテゴリカラムを数値に変更する\n",
    "from sklearn import preprocessing \n",
    "for f in X.columns: \n",
    "    if X[f].dtype=='object': \n",
    "        lbl = preprocessing.LabelEncoder() \n",
    "        lbl.fit(list(X[f].values)) \n",
    "        X[f] = lbl.transform(list(X[f].values))\n",
    "\n",
    "display(X.head())"
   ]
  },
  {
   "cell_type": "code",
   "execution_count": 21,
   "metadata": {},
   "outputs": [
    {
     "name": "stdout",
     "output_type": "stream",
     "text": [
      "X_train_resampled.shape: (9370, 130), y_train_resampled: (9370, 1)\n"
     ]
    },
    {
     "data": {
      "text/plain": [
       "'Train Set Shape: (6277, 130), Test Set Shape: (3093, 130)'"
      ]
     },
     "metadata": {},
     "output_type": "display_data"
    }
   ],
   "source": [
    "from sklearn.impute import SimpleImputer\n",
    "from imblearn.under_sampling import RandomUnderSampler\n",
    "\n",
    "# 欠損値保管\n",
    "imp = SimpleImputer(missing_values=np.nan, strategy='median')\n",
    "imp = imp.fit(X)\n",
    "imputed_train = imp.transform(X)\n",
    "\n",
    "# ダウンサンプリング\n",
    "positive_count_train = len(y[y.target == 0].values)\n",
    "rus = RandomUnderSampler(ratio={0:positive_count_train, 1:positive_count_train}, random_state=0)\n",
    "imputed_train_resampled, y_resampled = rus.fit_sample(imputed_train, y)\n",
    "print('X_train_resampled.shape: {}, y_train_resampled: {}'.format(imputed_train_resampled.shape, y_resampled.shape))\n",
    "\n",
    "# 訓練データとテストデータの分割\n",
    "X_train, X_test, y_train, y_test = train_test_split(imputed_train_resampled, y_resampled, test_size=0.33, random_state=42)\n",
    "display(\"Train Set Shape: {}, Test Set Shape: {}\".format(X_train.shape, X_test.shape))"
   ]
  },
  {
   "cell_type": "code",
   "execution_count": 22,
   "metadata": {},
   "outputs": [
    {
     "name": "stderr",
     "output_type": "stream",
     "text": [
      "/Users/shohei.mitani/.pyenv/versions/anaconda3-5.3.1/lib/python3.6/site-packages/sklearn/preprocessing/label.py:219: DataConversionWarning: A column-vector y was passed when a 1d array was expected. Please change the shape of y to (n_samples, ), for example using ravel().\n",
      "  y = column_or_1d(y, warn=True)\n",
      "/Users/shohei.mitani/.pyenv/versions/anaconda3-5.3.1/lib/python3.6/site-packages/sklearn/preprocessing/label.py:252: DataConversionWarning: A column-vector y was passed when a 1d array was expected. Please change the shape of y to (n_samples, ), for example using ravel().\n",
      "  y = column_or_1d(y, warn=True)\n"
     ]
    },
    {
     "name": "stdout",
     "output_type": "stream",
     "text": [
      "Cross-Validation scores : [0.64599483 0.6744186  0.6873385  0.65374677 0.6873385  0.64248705\n",
      " 0.70466321 0.65284974]\n",
      "\n"
     ]
    }
   ],
   "source": [
    "import xgboost as xgb\n",
    "from sklearn import preprocessing\n",
    "from sklearn.model_selection import cross_val_score, KFold\n",
    "\n",
    "params = {\"objective\": \"multi:softprob\", \"eval_metric\":\"mlogloss\", \"num_class\": 9}\n",
    "\n",
    "xgb_model = xgb.XGBClassifier(**params)\n",
    "xgb_model.fit(X_train, y_train)\n",
    "\n",
    "kfold = KFold(n_splits=8)\n",
    "scores = cross_val_score(estimator=xgb_model, X=X_test, y=y_test, cv=kfold, n_jobs=-1)\n",
    "print(\"Cross-Validation scores : {}\\n\".format(scores))"
   ]
  },
  {
   "cell_type": "code",
   "execution_count": 23,
   "metadata": {},
   "outputs": [
    {
     "data": {
      "image/png": "[encoded data removed]",
      "text/plain": [
       "<Figure size 360x360 with 1 Axes>"
      ]
     },
     "metadata": {
      "needs_background": "light"
     },
     "output_type": "display_data"
    },
    {
     "data": {
      "text/plain": [
       "array([1105,  461,  589,  938])"
      ]
     },
     "execution_count": 23,
     "metadata": {},
     "output_type": "execute_result"
    }
   ],
   "source": [
    "import matplotlib.pyplot as plt\n",
    "from sklearn.model_selection import validation_curve, learning_curve\n",
    "from sklearn.metrics import confusion_matrix\n",
    "\n",
    "def plot_confusion_matrix(estimator, X, y):\n",
    "    y_pred = estimator.predict(X)\n",
    "    confmat = confusion_matrix(y, y_pred)\n",
    "    fig, ax = plt.subplots(figsize=(5, 5))\n",
    "    ax.matshow(confmat, cmap=plt.cm.Blues, alpha=0.3)\n",
    "    for i in range(confmat.shape[0]):\n",
    "        for j in range(confmat.shape[1]):\n",
    "            ax.text(x=j, y=i, s=confmat[i, j], va='center', ha='center')\n",
    "\n",
    "    plt.title('Confusion matrix')\n",
    "    plt.xlabel('predicted label')\n",
    "    plt.ylabel('true label')\n",
    "    plt.tight_layout()\n",
    "    plt.show()\n",
    "    return confmat.ravel()\n",
    "\n",
    "# 混合行列の表示\n",
    "plot_confusion_matrix(xgb_model, X_test, y_test)\n"
   ]
  },
  {
   "cell_type": "code",
   "execution_count": 25,
   "metadata": {},
   "outputs": [
    {
     "name": "stderr",
     "output_type": "stream",
     "text": [
      "/Users/shohei.mitani/.pyenv/versions/anaconda3-5.3.1/lib/python3.6/site-packages/sklearn/utils/validation.py:761: DataConversionWarning: A column-vector y was passed when a 1d array was expected. Please change the shape of y to (n_samples, ), for example using ravel().\n",
      "  y = column_or_1d(y, warn=True)\n",
      "/Users/shohei.mitani/.pyenv/versions/anaconda3-5.3.1/lib/python3.6/site-packages/boruta/boruta_py.py:380: DataConversionWarning: A column-vector y was passed when a 1d array was expected. Please change the shape of y to (n_samples,), for example using ravel().\n",
      "  self.estimator.fit(X, y)\n"
     ]
    },
    {
     "name": "stdout",
     "output_type": "stream",
     "text": [
      "Iteration: \t1 / 500\n",
      "Confirmed: \t0\n",
      "Tentative: \t130\n",
      "Rejected: \t0\n"
     ]
    },
    {
     "name": "stderr",
     "output_type": "stream",
     "text": [
      "/Users/shohei.mitani/.pyenv/versions/anaconda3-5.3.1/lib/python3.6/site-packages/boruta/boruta_py.py:380: DataConversionWarning: A column-vector y was passed when a 1d array was expected. Please change the shape of y to (n_samples,), for example using ravel().\n",
      "  self.estimator.fit(X, y)\n"
     ]
    },
    {
     "name": "stdout",
     "output_type": "stream",
     "text": [
      "Iteration: \t2 / 500\n",
      "Confirmed: \t0\n",
      "Tentative: \t130\n",
      "Rejected: \t0\n"
     ]
    },
    {
     "name": "stderr",
     "output_type": "stream",
     "text": [
      "/Users/shohei.mitani/.pyenv/versions/anaconda3-5.3.1/lib/python3.6/site-packages/boruta/boruta_py.py:380: DataConversionWarning: A column-vector y was passed when a 1d array was expected. Please change the shape of y to (n_samples,), for example using ravel().\n",
      "  self.estimator.fit(X, y)\n"
     ]
    },
    {
     "name": "stdout",
     "output_type": "stream",
     "text": [
      "Iteration: \t3 / 500\n",
      "Confirmed: \t0\n",
      "Tentative: \t130\n",
      "Rejected: \t0\n"
     ]
    },
    {
     "name": "stderr",
     "output_type": "stream",
     "text": [
      "/Users/shohei.mitani/.pyenv/versions/anaconda3-5.3.1/lib/python3.6/site-packages/boruta/boruta_py.py:380: DataConversionWarning: A column-vector y was passed when a 1d array was expected. Please change the shape of y to (n_samples,), for example using ravel().\n",
      "  self.estimator.fit(X, y)\n"
     ]
    },
    {
     "name": "stdout",
     "output_type": "stream",
     "text": [
      "Iteration: \t4 / 500\n",
      "Confirmed: \t0\n",
      "Tentative: \t130\n",
      "Rejected: \t0\n"
     ]
    },
    {
     "name": "stderr",
     "output_type": "stream",
     "text": [
      "/Users/shohei.mitani/.pyenv/versions/anaconda3-5.3.1/lib/python3.6/site-packages/boruta/boruta_py.py:380: DataConversionWarning: A column-vector y was passed when a 1d array was expected. Please change the shape of y to (n_samples,), for example using ravel().\n",
      "  self.estimator.fit(X, y)\n"
     ]
    },
    {
     "name": "stdout",
     "output_type": "stream",
     "text": [
      "Iteration: \t5 / 500\n",
      "Confirmed: \t0\n",
      "Tentative: \t130\n",
      "Rejected: \t0\n"
     ]
    },
    {
     "name": "stderr",
     "output_type": "stream",
     "text": [
      "/Users/shohei.mitani/.pyenv/versions/anaconda3-5.3.1/lib/python3.6/site-packages/boruta/boruta_py.py:380: DataConversionWarning: A column-vector y was passed when a 1d array was expected. Please change the shape of y to (n_samples,), for example using ravel().\n",
      "  self.estimator.fit(X, y)\n"
     ]
    },
    {
     "name": "stdout",
     "output_type": "stream",
     "text": [
      "Iteration: \t6 / 500\n",
      "Confirmed: \t0\n",
      "Tentative: \t130\n",
      "Rejected: \t0\n"
     ]
    },
    {
     "name": "stderr",
     "output_type": "stream",
     "text": [
      "/Users/shohei.mitani/.pyenv/versions/anaconda3-5.3.1/lib/python3.6/site-packages/boruta/boruta_py.py:380: DataConversionWarning: A column-vector y was passed when a 1d array was expected. Please change the shape of y to (n_samples,), for example using ravel().\n",
      "  self.estimator.fit(X, y)\n"
     ]
    },
    {
     "name": "stdout",
     "output_type": "stream",
     "text": [
      "Iteration: \t7 / 500\n",
      "Confirmed: \t0\n",
      "Tentative: \t130\n",
      "Rejected: \t0\n"
     ]
    },
    {
     "name": "stderr",
     "output_type": "stream",
     "text": [
      "/Users/shohei.mitani/.pyenv/versions/anaconda3-5.3.1/lib/python3.6/site-packages/boruta/boruta_py.py:380: DataConversionWarning: A column-vector y was passed when a 1d array was expected. Please change the shape of y to (n_samples,), for example using ravel().\n",
      "  self.estimator.fit(X, y)\n"
     ]
    },
    {
     "name": "stdout",
     "output_type": "stream",
     "text": [
      "Iteration: \t8 / 500\n",
      "Confirmed: \t0\n",
      "Tentative: \t130\n",
      "Rejected: \t0\n"
     ]
    },
    {
     "name": "stderr",
     "output_type": "stream",
     "text": [
      "/Users/shohei.mitani/.pyenv/versions/anaconda3-5.3.1/lib/python3.6/site-packages/boruta/boruta_py.py:380: DataConversionWarning: A column-vector y was passed when a 1d array was expected. Please change the shape of y to (n_samples,), for example using ravel().\n",
      "  self.estimator.fit(X, y)\n"
     ]
    },
    {
     "name": "stdout",
     "output_type": "stream",
     "text": [
      "Iteration: \t9 / 500\n",
      "Confirmed: \t0\n",
      "Tentative: \t130\n",
      "Rejected: \t0\n"
     ]
    },
    {
     "name": "stderr",
     "output_type": "stream",
     "text": [
      "/Users/shohei.mitani/.pyenv/versions/anaconda3-5.3.1/lib/python3.6/site-packages/boruta/boruta_py.py:380: DataConversionWarning: A column-vector y was passed when a 1d array was expected. Please change the shape of y to (n_samples,), for example using ravel().\n",
      "  self.estimator.fit(X, y)\n"
     ]
    },
    {
     "name": "stdout",
     "output_type": "stream",
     "text": [
      "Iteration: \t10 / 500\n",
      "Confirmed: \t0\n",
      "Tentative: \t130\n",
      "Rejected: \t0\n"
     ]
    },
    {
     "name": "stderr",
     "output_type": "stream",
     "text": [
      "/Users/shohei.mitani/.pyenv/versions/anaconda3-5.3.1/lib/python3.6/site-packages/boruta/boruta_py.py:380: DataConversionWarning: A column-vector y was passed when a 1d array was expected. Please change the shape of y to (n_samples,), for example using ravel().\n",
      "  self.estimator.fit(X, y)\n"
     ]
    },
    {
     "name": "stdout",
     "output_type": "stream",
     "text": [
      "Iteration: \t11 / 500\n",
      "Confirmed: \t0\n",
      "Tentative: \t130\n",
      "Rejected: \t0\n"
     ]
    },
    {
     "name": "stderr",
     "output_type": "stream",
     "text": [
      "/Users/shohei.mitani/.pyenv/versions/anaconda3-5.3.1/lib/python3.6/site-packages/boruta/boruta_py.py:380: DataConversionWarning: A column-vector y was passed when a 1d array was expected. Please change the shape of y to (n_samples,), for example using ravel().\n",
      "  self.estimator.fit(X, y)\n"
     ]
    },
    {
     "name": "stdout",
     "output_type": "stream",
     "text": [
      "Iteration: \t12 / 500\n",
      "Confirmed: \t18\n",
      "Tentative: \t43\n",
      "Rejected: \t69\n"
     ]
    },
    {
     "name": "stderr",
     "output_type": "stream",
     "text": [
      "/Users/shohei.mitani/.pyenv/versions/anaconda3-5.3.1/lib/python3.6/site-packages/boruta/boruta_py.py:380: DataConversionWarning: A column-vector y was passed when a 1d array was expected. Please change the shape of y to (n_samples,), for example using ravel().\n",
      "  self.estimator.fit(X, y)\n",
      "/Users/shohei.mitani/.pyenv/versions/anaconda3-5.3.1/lib/python3.6/site-packages/boruta/boruta_py.py:418: RuntimeWarning: invalid value encountered in greater\n",
      "  hits = np.where(cur_imp[0] > imp_sha_max)[0]\n",
      "/Users/shohei.mitani/.pyenv/versions/anaconda3-5.3.1/lib/python3.6/site-packages/boruta/boruta_py.py:380: DataConversionWarning: A column-vector y was passed when a 1d array was expected. Please change the shape of y to (n_samples,), for example using ravel().\n",
      "  self.estimator.fit(X, y)\n"
     ]
    },
    {
     "name": "stdout",
     "output_type": "stream",
     "text": [
      "Iteration: \t13 / 500\n",
      "Confirmed: \t18\n",
      "Tentative: \t43\n",
      "Rejected: \t69\n"
     ]
    },
    {
     "name": "stderr",
     "output_type": "stream",
     "text": [
      "/Users/shohei.mitani/.pyenv/versions/anaconda3-5.3.1/lib/python3.6/site-packages/boruta/boruta_py.py:418: RuntimeWarning: invalid value encountered in greater\n",
      "  hits = np.where(cur_imp[0] > imp_sha_max)[0]\n",
      "/Users/shohei.mitani/.pyenv/versions/anaconda3-5.3.1/lib/python3.6/site-packages/boruta/boruta_py.py:380: DataConversionWarning: A column-vector y was passed when a 1d array was expected. Please change the shape of y to (n_samples,), for example using ravel().\n",
      "  self.estimator.fit(X, y)\n"
     ]
    },
    {
     "name": "stdout",
     "output_type": "stream",
     "text": [
      "Iteration: \t14 / 500\n",
      "Confirmed: \t18\n",
      "Tentative: \t43\n",
      "Rejected: \t69\n"
     ]
    },
    {
     "name": "stderr",
     "output_type": "stream",
     "text": [
      "/Users/shohei.mitani/.pyenv/versions/anaconda3-5.3.1/lib/python3.6/site-packages/boruta/boruta_py.py:418: RuntimeWarning: invalid value encountered in greater\n",
      "  hits = np.where(cur_imp[0] > imp_sha_max)[0]\n",
      "/Users/shohei.mitani/.pyenv/versions/anaconda3-5.3.1/lib/python3.6/site-packages/boruta/boruta_py.py:380: DataConversionWarning: A column-vector y was passed when a 1d array was expected. Please change the shape of y to (n_samples,), for example using ravel().\n",
      "  self.estimator.fit(X, y)\n"
     ]
    },
    {
     "name": "stdout",
     "output_type": "stream",
     "text": [
      "Iteration: \t15 / 500\n",
      "Confirmed: \t18\n",
      "Tentative: \t43\n",
      "Rejected: \t69\n"
     ]
    },
    {
     "name": "stderr",
     "output_type": "stream",
     "text": [
      "/Users/shohei.mitani/.pyenv/versions/anaconda3-5.3.1/lib/python3.6/site-packages/boruta/boruta_py.py:418: RuntimeWarning: invalid value encountered in greater\n",
      "  hits = np.where(cur_imp[0] > imp_sha_max)[0]\n",
      "/Users/shohei.mitani/.pyenv/versions/anaconda3-5.3.1/lib/python3.6/site-packages/boruta/boruta_py.py:380: DataConversionWarning: A column-vector y was passed when a 1d array was expected. Please change the shape of y to (n_samples,), for example using ravel().\n",
      "  self.estimator.fit(X, y)\n"
     ]
    },
    {
     "name": "stdout",
     "output_type": "stream",
     "text": [
      "Iteration: \t16 / 500\n",
      "Confirmed: \t18\n",
      "Tentative: \t29\n",
      "Rejected: \t83\n"
     ]
    },
    {
     "name": "stderr",
     "output_type": "stream",
     "text": [
      "/Users/shohei.mitani/.pyenv/versions/anaconda3-5.3.1/lib/python3.6/site-packages/boruta/boruta_py.py:418: RuntimeWarning: invalid value encountered in greater\n",
      "  hits = np.where(cur_imp[0] > imp_sha_max)[0]\n",
      "/Users/shohei.mitani/.pyenv/versions/anaconda3-5.3.1/lib/python3.6/site-packages/boruta/boruta_py.py:380: DataConversionWarning: A column-vector y was passed when a 1d array was expected. Please change the shape of y to (n_samples,), for example using ravel().\n",
      "  self.estimator.fit(X, y)\n"
     ]
    },
    {
     "name": "stdout",
     "output_type": "stream",
     "text": [
      "Iteration: \t17 / 500\n",
      "Confirmed: \t18\n",
      "Tentative: \t29\n",
      "Rejected: \t83\n"
     ]
    },
    {
     "name": "stderr",
     "output_type": "stream",
     "text": [
      "/Users/shohei.mitani/.pyenv/versions/anaconda3-5.3.1/lib/python3.6/site-packages/boruta/boruta_py.py:418: RuntimeWarning: invalid value encountered in greater\n",
      "  hits = np.where(cur_imp[0] > imp_sha_max)[0]\n",
      "/Users/shohei.mitani/.pyenv/versions/anaconda3-5.3.1/lib/python3.6/site-packages/boruta/boruta_py.py:380: DataConversionWarning: A column-vector y was passed when a 1d array was expected. Please change the shape of y to (n_samples,), for example using ravel().\n",
      "  self.estimator.fit(X, y)\n"
     ]
    },
    {
     "name": "stdout",
     "output_type": "stream",
     "text": [
      "Iteration: \t18 / 500\n",
      "Confirmed: \t18\n",
      "Tentative: \t29\n",
      "Rejected: \t83\n"
     ]
    },
    {
     "name": "stderr",
     "output_type": "stream",
     "text": [
      "/Users/shohei.mitani/.pyenv/versions/anaconda3-5.3.1/lib/python3.6/site-packages/boruta/boruta_py.py:418: RuntimeWarning: invalid value encountered in greater\n",
      "  hits = np.where(cur_imp[0] > imp_sha_max)[0]\n",
      "/Users/shohei.mitani/.pyenv/versions/anaconda3-5.3.1/lib/python3.6/site-packages/boruta/boruta_py.py:380: DataConversionWarning: A column-vector y was passed when a 1d array was expected. Please change the shape of y to (n_samples,), for example using ravel().\n",
      "  self.estimator.fit(X, y)\n"
     ]
    },
    {
     "name": "stdout",
     "output_type": "stream",
     "text": [
      "Iteration: \t19 / 500\n",
      "Confirmed: \t18\n",
      "Tentative: \t23\n",
      "Rejected: \t89\n"
     ]
    },
    {
     "name": "stderr",
     "output_type": "stream",
     "text": [
      "/Users/shohei.mitani/.pyenv/versions/anaconda3-5.3.1/lib/python3.6/site-packages/boruta/boruta_py.py:418: RuntimeWarning: invalid value encountered in greater\n",
      "  hits = np.where(cur_imp[0] > imp_sha_max)[0]\n",
      "/Users/shohei.mitani/.pyenv/versions/anaconda3-5.3.1/lib/python3.6/site-packages/boruta/boruta_py.py:380: DataConversionWarning: A column-vector y was passed when a 1d array was expected. Please change the shape of y to (n_samples,), for example using ravel().\n",
      "  self.estimator.fit(X, y)\n"
     ]
    },
    {
     "name": "stdout",
     "output_type": "stream",
     "text": [
      "Iteration: \t20 / 500\n",
      "Confirmed: \t18\n",
      "Tentative: \t23\n",
      "Rejected: \t89\n"
     ]
    },
    {
     "name": "stderr",
     "output_type": "stream",
     "text": [
      "/Users/shohei.mitani/.pyenv/versions/anaconda3-5.3.1/lib/python3.6/site-packages/boruta/boruta_py.py:418: RuntimeWarning: invalid value encountered in greater\n",
      "  hits = np.where(cur_imp[0] > imp_sha_max)[0]\n",
      "/Users/shohei.mitani/.pyenv/versions/anaconda3-5.3.1/lib/python3.6/site-packages/boruta/boruta_py.py:380: DataConversionWarning: A column-vector y was passed when a 1d array was expected. Please change the shape of y to (n_samples,), for example using ravel().\n",
      "  self.estimator.fit(X, y)\n"
     ]
    },
    {
     "name": "stdout",
     "output_type": "stream",
     "text": [
      "Iteration: \t21 / 500\n",
      "Confirmed: \t18\n",
      "Tentative: \t23\n",
      "Rejected: \t89\n"
     ]
    },
    {
     "name": "stderr",
     "output_type": "stream",
     "text": [
      "/Users/shohei.mitani/.pyenv/versions/anaconda3-5.3.1/lib/python3.6/site-packages/boruta/boruta_py.py:418: RuntimeWarning: invalid value encountered in greater\n",
      "  hits = np.where(cur_imp[0] > imp_sha_max)[0]\n",
      "/Users/shohei.mitani/.pyenv/versions/anaconda3-5.3.1/lib/python3.6/site-packages/boruta/boruta_py.py:380: DataConversionWarning: A column-vector y was passed when a 1d array was expected. Please change the shape of y to (n_samples,), for example using ravel().\n",
      "  self.estimator.fit(X, y)\n"
     ]
    },
    {
     "name": "stdout",
     "output_type": "stream",
     "text": [
      "Iteration: \t22 / 500\n",
      "Confirmed: \t18\n",
      "Tentative: \t23\n",
      "Rejected: \t89\n"
     ]
    },
    {
     "name": "stderr",
     "output_type": "stream",
     "text": [
      "/Users/shohei.mitani/.pyenv/versions/anaconda3-5.3.1/lib/python3.6/site-packages/boruta/boruta_py.py:418: RuntimeWarning: invalid value encountered in greater\n",
      "  hits = np.where(cur_imp[0] > imp_sha_max)[0]\n",
      "/Users/shohei.mitani/.pyenv/versions/anaconda3-5.3.1/lib/python3.6/site-packages/boruta/boruta_py.py:380: DataConversionWarning: A column-vector y was passed when a 1d array was expected. Please change the shape of y to (n_samples,), for example using ravel().\n",
      "  self.estimator.fit(X, y)\n"
     ]
    },
    {
     "name": "stdout",
     "output_type": "stream",
     "text": [
      "Iteration: \t23 / 500\n",
      "Confirmed: \t18\n",
      "Tentative: \t20\n",
      "Rejected: \t92\n"
     ]
    },
    {
     "name": "stderr",
     "output_type": "stream",
     "text": [
      "/Users/shohei.mitani/.pyenv/versions/anaconda3-5.3.1/lib/python3.6/site-packages/boruta/boruta_py.py:418: RuntimeWarning: invalid value encountered in greater\n",
      "  hits = np.where(cur_imp[0] > imp_sha_max)[0]\n",
      "/Users/shohei.mitani/.pyenv/versions/anaconda3-5.3.1/lib/python3.6/site-packages/boruta/boruta_py.py:380: DataConversionWarning: A column-vector y was passed when a 1d array was expected. Please change the shape of y to (n_samples,), for example using ravel().\n",
      "  self.estimator.fit(X, y)\n"
     ]
    },
    {
     "name": "stdout",
     "output_type": "stream",
     "text": [
      "Iteration: \t24 / 500\n",
      "Confirmed: \t18\n",
      "Tentative: \t20\n",
      "Rejected: \t92\n"
     ]
    },
    {
     "name": "stderr",
     "output_type": "stream",
     "text": [
      "/Users/shohei.mitani/.pyenv/versions/anaconda3-5.3.1/lib/python3.6/site-packages/boruta/boruta_py.py:418: RuntimeWarning: invalid value encountered in greater\n",
      "  hits = np.where(cur_imp[0] > imp_sha_max)[0]\n",
      "/Users/shohei.mitani/.pyenv/versions/anaconda3-5.3.1/lib/python3.6/site-packages/boruta/boruta_py.py:380: DataConversionWarning: A column-vector y was passed when a 1d array was expected. Please change the shape of y to (n_samples,), for example using ravel().\n",
      "  self.estimator.fit(X, y)\n"
     ]
    },
    {
     "name": "stdout",
     "output_type": "stream",
     "text": [
      "Iteration: \t25 / 500\n",
      "Confirmed: \t18\n",
      "Tentative: \t20\n",
      "Rejected: \t92\n"
     ]
    },
    {
     "name": "stderr",
     "output_type": "stream",
     "text": [
      "/Users/shohei.mitani/.pyenv/versions/anaconda3-5.3.1/lib/python3.6/site-packages/boruta/boruta_py.py:418: RuntimeWarning: invalid value encountered in greater\n",
      "  hits = np.where(cur_imp[0] > imp_sha_max)[0]\n",
      "/Users/shohei.mitani/.pyenv/versions/anaconda3-5.3.1/lib/python3.6/site-packages/boruta/boruta_py.py:380: DataConversionWarning: A column-vector y was passed when a 1d array was expected. Please change the shape of y to (n_samples,), for example using ravel().\n",
      "  self.estimator.fit(X, y)\n"
     ]
    },
    {
     "name": "stdout",
     "output_type": "stream",
     "text": [
      "Iteration: \t26 / 500\n",
      "Confirmed: \t18\n",
      "Tentative: \t19\n",
      "Rejected: \t93\n"
     ]
    },
    {
     "name": "stderr",
     "output_type": "stream",
     "text": [
      "/Users/shohei.mitani/.pyenv/versions/anaconda3-5.3.1/lib/python3.6/site-packages/boruta/boruta_py.py:418: RuntimeWarning: invalid value encountered in greater\n",
      "  hits = np.where(cur_imp[0] > imp_sha_max)[0]\n",
      "/Users/shohei.mitani/.pyenv/versions/anaconda3-5.3.1/lib/python3.6/site-packages/boruta/boruta_py.py:380: DataConversionWarning: A column-vector y was passed when a 1d array was expected. Please change the shape of y to (n_samples,), for example using ravel().\n",
      "  self.estimator.fit(X, y)\n"
     ]
    },
    {
     "name": "stdout",
     "output_type": "stream",
     "text": [
      "Iteration: \t27 / 500\n",
      "Confirmed: \t18\n",
      "Tentative: \t19\n",
      "Rejected: \t93\n"
     ]
    },
    {
     "name": "stderr",
     "output_type": "stream",
     "text": [
      "/Users/shohei.mitani/.pyenv/versions/anaconda3-5.3.1/lib/python3.6/site-packages/boruta/boruta_py.py:418: RuntimeWarning: invalid value encountered in greater\n",
      "  hits = np.where(cur_imp[0] > imp_sha_max)[0]\n",
      "/Users/shohei.mitani/.pyenv/versions/anaconda3-5.3.1/lib/python3.6/site-packages/boruta/boruta_py.py:380: DataConversionWarning: A column-vector y was passed when a 1d array was expected. Please change the shape of y to (n_samples,), for example using ravel().\n",
      "  self.estimator.fit(X, y)\n"
     ]
    },
    {
     "name": "stdout",
     "output_type": "stream",
     "text": [
      "Iteration: \t28 / 500\n",
      "Confirmed: \t18\n",
      "Tentative: \t19\n",
      "Rejected: \t93\n"
     ]
    },
    {
     "name": "stderr",
     "output_type": "stream",
     "text": [
      "/Users/shohei.mitani/.pyenv/versions/anaconda3-5.3.1/lib/python3.6/site-packages/boruta/boruta_py.py:418: RuntimeWarning: invalid value encountered in greater\n",
      "  hits = np.where(cur_imp[0] > imp_sha_max)[0]\n",
      "/Users/shohei.mitani/.pyenv/versions/anaconda3-5.3.1/lib/python3.6/site-packages/boruta/boruta_py.py:380: DataConversionWarning: A column-vector y was passed when a 1d array was expected. Please change the shape of y to (n_samples,), for example using ravel().\n",
      "  self.estimator.fit(X, y)\n"
     ]
    },
    {
     "name": "stdout",
     "output_type": "stream",
     "text": [
      "Iteration: \t29 / 500\n",
      "Confirmed: \t18\n",
      "Tentative: \t17\n",
      "Rejected: \t95\n"
     ]
    },
    {
     "name": "stderr",
     "output_type": "stream",
     "text": [
      "/Users/shohei.mitani/.pyenv/versions/anaconda3-5.3.1/lib/python3.6/site-packages/boruta/boruta_py.py:418: RuntimeWarning: invalid value encountered in greater\n",
      "  hits = np.where(cur_imp[0] > imp_sha_max)[0]\n",
      "/Users/shohei.mitani/.pyenv/versions/anaconda3-5.3.1/lib/python3.6/site-packages/boruta/boruta_py.py:380: DataConversionWarning: A column-vector y was passed when a 1d array was expected. Please change the shape of y to (n_samples,), for example using ravel().\n",
      "  self.estimator.fit(X, y)\n"
     ]
    },
    {
     "name": "stdout",
     "output_type": "stream",
     "text": [
      "Iteration: \t30 / 500\n",
      "Confirmed: \t18\n",
      "Tentative: \t17\n",
      "Rejected: \t95\n"
     ]
    },
    {
     "name": "stderr",
     "output_type": "stream",
     "text": [
      "/Users/shohei.mitani/.pyenv/versions/anaconda3-5.3.1/lib/python3.6/site-packages/boruta/boruta_py.py:418: RuntimeWarning: invalid value encountered in greater\n",
      "  hits = np.where(cur_imp[0] > imp_sha_max)[0]\n",
      "/Users/shohei.mitani/.pyenv/versions/anaconda3-5.3.1/lib/python3.6/site-packages/boruta/boruta_py.py:380: DataConversionWarning: A column-vector y was passed when a 1d array was expected. Please change the shape of y to (n_samples,), for example using ravel().\n",
      "  self.estimator.fit(X, y)\n"
     ]
    },
    {
     "name": "stdout",
     "output_type": "stream",
     "text": [
      "Iteration: \t31 / 500\n",
      "Confirmed: \t18\n",
      "Tentative: \t17\n",
      "Rejected: \t95\n"
     ]
    },
    {
     "name": "stderr",
     "output_type": "stream",
     "text": [
      "/Users/shohei.mitani/.pyenv/versions/anaconda3-5.3.1/lib/python3.6/site-packages/boruta/boruta_py.py:418: RuntimeWarning: invalid value encountered in greater\n",
      "  hits = np.where(cur_imp[0] > imp_sha_max)[0]\n",
      "/Users/shohei.mitani/.pyenv/versions/anaconda3-5.3.1/lib/python3.6/site-packages/boruta/boruta_py.py:380: DataConversionWarning: A column-vector y was passed when a 1d array was expected. Please change the shape of y to (n_samples,), for example using ravel().\n",
      "  self.estimator.fit(X, y)\n"
     ]
    },
    {
     "name": "stdout",
     "output_type": "stream",
     "text": [
      "Iteration: \t32 / 500\n",
      "Confirmed: \t18\n",
      "Tentative: \t16\n",
      "Rejected: \t96\n"
     ]
    },
    {
     "name": "stderr",
     "output_type": "stream",
     "text": [
      "/Users/shohei.mitani/.pyenv/versions/anaconda3-5.3.1/lib/python3.6/site-packages/boruta/boruta_py.py:418: RuntimeWarning: invalid value encountered in greater\n",
      "  hits = np.where(cur_imp[0] > imp_sha_max)[0]\n",
      "/Users/shohei.mitani/.pyenv/versions/anaconda3-5.3.1/lib/python3.6/site-packages/boruta/boruta_py.py:380: DataConversionWarning: A column-vector y was passed when a 1d array was expected. Please change the shape of y to (n_samples,), for example using ravel().\n",
      "  self.estimator.fit(X, y)\n"
     ]
    },
    {
     "name": "stdout",
     "output_type": "stream",
     "text": [
      "Iteration: \t33 / 500\n",
      "Confirmed: \t18\n",
      "Tentative: \t16\n",
      "Rejected: \t96\n"
     ]
    },
    {
     "name": "stderr",
     "output_type": "stream",
     "text": [
      "/Users/shohei.mitani/.pyenv/versions/anaconda3-5.3.1/lib/python3.6/site-packages/boruta/boruta_py.py:418: RuntimeWarning: invalid value encountered in greater\n",
      "  hits = np.where(cur_imp[0] > imp_sha_max)[0]\n",
      "/Users/shohei.mitani/.pyenv/versions/anaconda3-5.3.1/lib/python3.6/site-packages/boruta/boruta_py.py:380: DataConversionWarning: A column-vector y was passed when a 1d array was expected. Please change the shape of y to (n_samples,), for example using ravel().\n",
      "  self.estimator.fit(X, y)\n"
     ]
    },
    {
     "name": "stdout",
     "output_type": "stream",
     "text": [
      "Iteration: \t34 / 500\n",
      "Confirmed: \t18\n",
      "Tentative: \t16\n",
      "Rejected: \t96\n"
     ]
    },
    {
     "name": "stderr",
     "output_type": "stream",
     "text": [
      "/Users/shohei.mitani/.pyenv/versions/anaconda3-5.3.1/lib/python3.6/site-packages/boruta/boruta_py.py:418: RuntimeWarning: invalid value encountered in greater\n",
      "  hits = np.where(cur_imp[0] > imp_sha_max)[0]\n",
      "/Users/shohei.mitani/.pyenv/versions/anaconda3-5.3.1/lib/python3.6/site-packages/boruta/boruta_py.py:380: DataConversionWarning: A column-vector y was passed when a 1d array was expected. Please change the shape of y to (n_samples,), for example using ravel().\n",
      "  self.estimator.fit(X, y)\n"
     ]
    },
    {
     "name": "stdout",
     "output_type": "stream",
     "text": [
      "Iteration: \t35 / 500\n",
      "Confirmed: \t18\n",
      "Tentative: \t16\n",
      "Rejected: \t96\n"
     ]
    },
    {
     "name": "stderr",
     "output_type": "stream",
     "text": [
      "/Users/shohei.mitani/.pyenv/versions/anaconda3-5.3.1/lib/python3.6/site-packages/boruta/boruta_py.py:418: RuntimeWarning: invalid value encountered in greater\n",
      "  hits = np.where(cur_imp[0] > imp_sha_max)[0]\n",
      "/Users/shohei.mitani/.pyenv/versions/anaconda3-5.3.1/lib/python3.6/site-packages/boruta/boruta_py.py:380: DataConversionWarning: A column-vector y was passed when a 1d array was expected. Please change the shape of y to (n_samples,), for example using ravel().\n",
      "  self.estimator.fit(X, y)\n"
     ]
    },
    {
     "name": "stdout",
     "output_type": "stream",
     "text": [
      "Iteration: \t36 / 500\n",
      "Confirmed: \t18\n",
      "Tentative: \t16\n",
      "Rejected: \t96\n"
     ]
    },
    {
     "name": "stderr",
     "output_type": "stream",
     "text": [
      "/Users/shohei.mitani/.pyenv/versions/anaconda3-5.3.1/lib/python3.6/site-packages/boruta/boruta_py.py:418: RuntimeWarning: invalid value encountered in greater\n",
      "  hits = np.where(cur_imp[0] > imp_sha_max)[0]\n",
      "/Users/shohei.mitani/.pyenv/versions/anaconda3-5.3.1/lib/python3.6/site-packages/boruta/boruta_py.py:380: DataConversionWarning: A column-vector y was passed when a 1d array was expected. Please change the shape of y to (n_samples,), for example using ravel().\n",
      "  self.estimator.fit(X, y)\n"
     ]
    },
    {
     "name": "stdout",
     "output_type": "stream",
     "text": [
      "Iteration: \t37 / 500\n",
      "Confirmed: \t18\n",
      "Tentative: \t16\n",
      "Rejected: \t96\n"
     ]
    },
    {
     "name": "stderr",
     "output_type": "stream",
     "text": [
      "/Users/shohei.mitani/.pyenv/versions/anaconda3-5.3.1/lib/python3.6/site-packages/boruta/boruta_py.py:418: RuntimeWarning: invalid value encountered in greater\n",
      "  hits = np.where(cur_imp[0] > imp_sha_max)[0]\n",
      "/Users/shohei.mitani/.pyenv/versions/anaconda3-5.3.1/lib/python3.6/site-packages/boruta/boruta_py.py:380: DataConversionWarning: A column-vector y was passed when a 1d array was expected. Please change the shape of y to (n_samples,), for example using ravel().\n",
      "  self.estimator.fit(X, y)\n"
     ]
    },
    {
     "name": "stdout",
     "output_type": "stream",
     "text": [
      "Iteration: \t38 / 500\n",
      "Confirmed: \t18\n",
      "Tentative: \t16\n",
      "Rejected: \t96\n"
     ]
    },
    {
     "name": "stderr",
     "output_type": "stream",
     "text": [
      "/Users/shohei.mitani/.pyenv/versions/anaconda3-5.3.1/lib/python3.6/site-packages/boruta/boruta_py.py:418: RuntimeWarning: invalid value encountered in greater\n",
      "  hits = np.where(cur_imp[0] > imp_sha_max)[0]\n",
      "/Users/shohei.mitani/.pyenv/versions/anaconda3-5.3.1/lib/python3.6/site-packages/boruta/boruta_py.py:380: DataConversionWarning: A column-vector y was passed when a 1d array was expected. Please change the shape of y to (n_samples,), for example using ravel().\n",
      "  self.estimator.fit(X, y)\n"
     ]
    },
    {
     "name": "stdout",
     "output_type": "stream",
     "text": [
      "Iteration: \t39 / 500\n",
      "Confirmed: \t18\n",
      "Tentative: \t16\n",
      "Rejected: \t96\n"
     ]
    },
    {
     "name": "stderr",
     "output_type": "stream",
     "text": [
      "/Users/shohei.mitani/.pyenv/versions/anaconda3-5.3.1/lib/python3.6/site-packages/boruta/boruta_py.py:418: RuntimeWarning: invalid value encountered in greater\n",
      "  hits = np.where(cur_imp[0] > imp_sha_max)[0]\n",
      "/Users/shohei.mitani/.pyenv/versions/anaconda3-5.3.1/lib/python3.6/site-packages/boruta/boruta_py.py:380: DataConversionWarning: A column-vector y was passed when a 1d array was expected. Please change the shape of y to (n_samples,), for example using ravel().\n",
      "  self.estimator.fit(X, y)\n"
     ]
    },
    {
     "name": "stdout",
     "output_type": "stream",
     "text": [
      "Iteration: \t40 / 500\n",
      "Confirmed: \t18\n",
      "Tentative: \t14\n",
      "Rejected: \t98\n"
     ]
    },
    {
     "name": "stderr",
     "output_type": "stream",
     "text": [
      "/Users/shohei.mitani/.pyenv/versions/anaconda3-5.3.1/lib/python3.6/site-packages/boruta/boruta_py.py:418: RuntimeWarning: invalid value encountered in greater\n",
      "  hits = np.where(cur_imp[0] > imp_sha_max)[0]\n",
      "/Users/shohei.mitani/.pyenv/versions/anaconda3-5.3.1/lib/python3.6/site-packages/boruta/boruta_py.py:380: DataConversionWarning: A column-vector y was passed when a 1d array was expected. Please change the shape of y to (n_samples,), for example using ravel().\n",
      "  self.estimator.fit(X, y)\n"
     ]
    },
    {
     "name": "stdout",
     "output_type": "stream",
     "text": [
      "Iteration: \t41 / 500\n",
      "Confirmed: \t18\n",
      "Tentative: \t14\n",
      "Rejected: \t98\n"
     ]
    },
    {
     "name": "stderr",
     "output_type": "stream",
     "text": [
      "/Users/shohei.mitani/.pyenv/versions/anaconda3-5.3.1/lib/python3.6/site-packages/boruta/boruta_py.py:418: RuntimeWarning: invalid value encountered in greater\n",
      "  hits = np.where(cur_imp[0] > imp_sha_max)[0]\n",
      "/Users/shohei.mitani/.pyenv/versions/anaconda3-5.3.1/lib/python3.6/site-packages/boruta/boruta_py.py:380: DataConversionWarning: A column-vector y was passed when a 1d array was expected. Please change the shape of y to (n_samples,), for example using ravel().\n",
      "  self.estimator.fit(X, y)\n"
     ]
    },
    {
     "name": "stdout",
     "output_type": "stream",
     "text": [
      "Iteration: \t42 / 500\n",
      "Confirmed: \t18\n",
      "Tentative: \t14\n",
      "Rejected: \t98\n"
     ]
    },
    {
     "name": "stderr",
     "output_type": "stream",
     "text": [
      "/Users/shohei.mitani/.pyenv/versions/anaconda3-5.3.1/lib/python3.6/site-packages/boruta/boruta_py.py:418: RuntimeWarning: invalid value encountered in greater\n",
      "  hits = np.where(cur_imp[0] > imp_sha_max)[0]\n",
      "/Users/shohei.mitani/.pyenv/versions/anaconda3-5.3.1/lib/python3.6/site-packages/boruta/boruta_py.py:380: DataConversionWarning: A column-vector y was passed when a 1d array was expected. Please change the shape of y to (n_samples,), for example using ravel().\n",
      "  self.estimator.fit(X, y)\n"
     ]
    },
    {
     "name": "stdout",
     "output_type": "stream",
     "text": [
      "Iteration: \t43 / 500\n",
      "Confirmed: \t18\n",
      "Tentative: \t14\n",
      "Rejected: \t98\n"
     ]
    },
    {
     "name": "stderr",
     "output_type": "stream",
     "text": [
      "/Users/shohei.mitani/.pyenv/versions/anaconda3-5.3.1/lib/python3.6/site-packages/boruta/boruta_py.py:418: RuntimeWarning: invalid value encountered in greater\n",
      "  hits = np.where(cur_imp[0] > imp_sha_max)[0]\n",
      "/Users/shohei.mitani/.pyenv/versions/anaconda3-5.3.1/lib/python3.6/site-packages/boruta/boruta_py.py:380: DataConversionWarning: A column-vector y was passed when a 1d array was expected. Please change the shape of y to (n_samples,), for example using ravel().\n",
      "  self.estimator.fit(X, y)\n"
     ]
    },
    {
     "name": "stdout",
     "output_type": "stream",
     "text": [
      "Iteration: \t44 / 500\n",
      "Confirmed: \t18\n",
      "Tentative: \t14\n",
      "Rejected: \t98\n"
     ]
    },
    {
     "name": "stderr",
     "output_type": "stream",
     "text": [
      "/Users/shohei.mitani/.pyenv/versions/anaconda3-5.3.1/lib/python3.6/site-packages/boruta/boruta_py.py:418: RuntimeWarning: invalid value encountered in greater\n",
      "  hits = np.where(cur_imp[0] > imp_sha_max)[0]\n",
      "/Users/shohei.mitani/.pyenv/versions/anaconda3-5.3.1/lib/python3.6/site-packages/boruta/boruta_py.py:380: DataConversionWarning: A column-vector y was passed when a 1d array was expected. Please change the shape of y to (n_samples,), for example using ravel().\n",
      "  self.estimator.fit(X, y)\n"
     ]
    },
    {
     "name": "stdout",
     "output_type": "stream",
     "text": [
      "Iteration: \t45 / 500\n",
      "Confirmed: \t18\n",
      "Tentative: \t14\n",
      "Rejected: \t98\n"
     ]
    },
    {
     "name": "stderr",
     "output_type": "stream",
     "text": [
      "/Users/shohei.mitani/.pyenv/versions/anaconda3-5.3.1/lib/python3.6/site-packages/boruta/boruta_py.py:418: RuntimeWarning: invalid value encountered in greater\n",
      "  hits = np.where(cur_imp[0] > imp_sha_max)[0]\n",
      "/Users/shohei.mitani/.pyenv/versions/anaconda3-5.3.1/lib/python3.6/site-packages/boruta/boruta_py.py:380: DataConversionWarning: A column-vector y was passed when a 1d array was expected. Please change the shape of y to (n_samples,), for example using ravel().\n",
      "  self.estimator.fit(X, y)\n"
     ]
    },
    {
     "name": "stdout",
     "output_type": "stream",
     "text": [
      "Iteration: \t46 / 500\n",
      "Confirmed: \t18\n",
      "Tentative: \t12\n",
      "Rejected: \t100\n"
     ]
    },
    {
     "name": "stderr",
     "output_type": "stream",
     "text": [
      "/Users/shohei.mitani/.pyenv/versions/anaconda3-5.3.1/lib/python3.6/site-packages/boruta/boruta_py.py:418: RuntimeWarning: invalid value encountered in greater\n",
      "  hits = np.where(cur_imp[0] > imp_sha_max)[0]\n",
      "/Users/shohei.mitani/.pyenv/versions/anaconda3-5.3.1/lib/python3.6/site-packages/boruta/boruta_py.py:380: DataConversionWarning: A column-vector y was passed when a 1d array was expected. Please change the shape of y to (n_samples,), for example using ravel().\n",
      "  self.estimator.fit(X, y)\n"
     ]
    },
    {
     "name": "stdout",
     "output_type": "stream",
     "text": [
      "Iteration: \t47 / 500\n",
      "Confirmed: \t18\n",
      "Tentative: \t12\n",
      "Rejected: \t100\n"
     ]
    },
    {
     "name": "stderr",
     "output_type": "stream",
     "text": [
      "/Users/shohei.mitani/.pyenv/versions/anaconda3-5.3.1/lib/python3.6/site-packages/boruta/boruta_py.py:418: RuntimeWarning: invalid value encountered in greater\n",
      "  hits = np.where(cur_imp[0] > imp_sha_max)[0]\n",
      "/Users/shohei.mitani/.pyenv/versions/anaconda3-5.3.1/lib/python3.6/site-packages/boruta/boruta_py.py:380: DataConversionWarning: A column-vector y was passed when a 1d array was expected. Please change the shape of y to (n_samples,), for example using ravel().\n",
      "  self.estimator.fit(X, y)\n"
     ]
    },
    {
     "name": "stdout",
     "output_type": "stream",
     "text": [
      "Iteration: \t48 / 500\n",
      "Confirmed: \t18\n",
      "Tentative: \t12\n",
      "Rejected: \t100\n"
     ]
    },
    {
     "name": "stderr",
     "output_type": "stream",
     "text": [
      "/Users/shohei.mitani/.pyenv/versions/anaconda3-5.3.1/lib/python3.6/site-packages/boruta/boruta_py.py:418: RuntimeWarning: invalid value encountered in greater\n",
      "  hits = np.where(cur_imp[0] > imp_sha_max)[0]\n",
      "/Users/shohei.mitani/.pyenv/versions/anaconda3-5.3.1/lib/python3.6/site-packages/boruta/boruta_py.py:380: DataConversionWarning: A column-vector y was passed when a 1d array was expected. Please change the shape of y to (n_samples,), for example using ravel().\n",
      "  self.estimator.fit(X, y)\n"
     ]
    },
    {
     "name": "stdout",
     "output_type": "stream",
     "text": [
      "Iteration: \t49 / 500\n",
      "Confirmed: \t18\n",
      "Tentative: \t12\n",
      "Rejected: \t100\n"
     ]
    },
    {
     "name": "stderr",
     "output_type": "stream",
     "text": [
      "/Users/shohei.mitani/.pyenv/versions/anaconda3-5.3.1/lib/python3.6/site-packages/boruta/boruta_py.py:418: RuntimeWarning: invalid value encountered in greater\n",
      "  hits = np.where(cur_imp[0] > imp_sha_max)[0]\n",
      "/Users/shohei.mitani/.pyenv/versions/anaconda3-5.3.1/lib/python3.6/site-packages/boruta/boruta_py.py:380: DataConversionWarning: A column-vector y was passed when a 1d array was expected. Please change the shape of y to (n_samples,), for example using ravel().\n",
      "  self.estimator.fit(X, y)\n"
     ]
    },
    {
     "name": "stdout",
     "output_type": "stream",
     "text": [
      "Iteration: \t50 / 500\n",
      "Confirmed: \t18\n",
      "Tentative: \t12\n",
      "Rejected: \t100\n"
     ]
    },
    {
     "name": "stderr",
     "output_type": "stream",
     "text": [
      "/Users/shohei.mitani/.pyenv/versions/anaconda3-5.3.1/lib/python3.6/site-packages/boruta/boruta_py.py:418: RuntimeWarning: invalid value encountered in greater\n",
      "  hits = np.where(cur_imp[0] > imp_sha_max)[0]\n",
      "/Users/shohei.mitani/.pyenv/versions/anaconda3-5.3.1/lib/python3.6/site-packages/boruta/boruta_py.py:380: DataConversionWarning: A column-vector y was passed when a 1d array was expected. Please change the shape of y to (n_samples,), for example using ravel().\n",
      "  self.estimator.fit(X, y)\n"
     ]
    },
    {
     "name": "stdout",
     "output_type": "stream",
     "text": [
      "Iteration: \t51 / 500\n",
      "Confirmed: \t18\n",
      "Tentative: \t12\n",
      "Rejected: \t100\n"
     ]
    },
    {
     "name": "stderr",
     "output_type": "stream",
     "text": [
      "/Users/shohei.mitani/.pyenv/versions/anaconda3-5.3.1/lib/python3.6/site-packages/boruta/boruta_py.py:418: RuntimeWarning: invalid value encountered in greater\n",
      "  hits = np.where(cur_imp[0] > imp_sha_max)[0]\n",
      "/Users/shohei.mitani/.pyenv/versions/anaconda3-5.3.1/lib/python3.6/site-packages/boruta/boruta_py.py:380: DataConversionWarning: A column-vector y was passed when a 1d array was expected. Please change the shape of y to (n_samples,), for example using ravel().\n",
      "  self.estimator.fit(X, y)\n"
     ]
    },
    {
     "name": "stdout",
     "output_type": "stream",
     "text": [
      "Iteration: \t52 / 500\n",
      "Confirmed: \t18\n",
      "Tentative: \t12\n",
      "Rejected: \t100\n"
     ]
    },
    {
     "name": "stderr",
     "output_type": "stream",
     "text": [
      "/Users/shohei.mitani/.pyenv/versions/anaconda3-5.3.1/lib/python3.6/site-packages/boruta/boruta_py.py:418: RuntimeWarning: invalid value encountered in greater\n",
      "  hits = np.where(cur_imp[0] > imp_sha_max)[0]\n",
      "/Users/shohei.mitani/.pyenv/versions/anaconda3-5.3.1/lib/python3.6/site-packages/boruta/boruta_py.py:380: DataConversionWarning: A column-vector y was passed when a 1d array was expected. Please change the shape of y to (n_samples,), for example using ravel().\n",
      "  self.estimator.fit(X, y)\n"
     ]
    },
    {
     "name": "stdout",
     "output_type": "stream",
     "text": [
      "Iteration: \t53 / 500\n",
      "Confirmed: \t18\n",
      "Tentative: \t12\n",
      "Rejected: \t100\n"
     ]
    },
    {
     "name": "stderr",
     "output_type": "stream",
     "text": [
      "/Users/shohei.mitani/.pyenv/versions/anaconda3-5.3.1/lib/python3.6/site-packages/boruta/boruta_py.py:418: RuntimeWarning: invalid value encountered in greater\n",
      "  hits = np.where(cur_imp[0] > imp_sha_max)[0]\n",
      "/Users/shohei.mitani/.pyenv/versions/anaconda3-5.3.1/lib/python3.6/site-packages/boruta/boruta_py.py:380: DataConversionWarning: A column-vector y was passed when a 1d array was expected. Please change the shape of y to (n_samples,), for example using ravel().\n",
      "  self.estimator.fit(X, y)\n"
     ]
    },
    {
     "name": "stdout",
     "output_type": "stream",
     "text": [
      "Iteration: \t54 / 500\n",
      "Confirmed: \t18\n",
      "Tentative: \t12\n",
      "Rejected: \t100\n"
     ]
    },
    {
     "name": "stderr",
     "output_type": "stream",
     "text": [
      "/Users/shohei.mitani/.pyenv/versions/anaconda3-5.3.1/lib/python3.6/site-packages/boruta/boruta_py.py:418: RuntimeWarning: invalid value encountered in greater\n",
      "  hits = np.where(cur_imp[0] > imp_sha_max)[0]\n",
      "/Users/shohei.mitani/.pyenv/versions/anaconda3-5.3.1/lib/python3.6/site-packages/boruta/boruta_py.py:380: DataConversionWarning: A column-vector y was passed when a 1d array was expected. Please change the shape of y to (n_samples,), for example using ravel().\n",
      "  self.estimator.fit(X, y)\n"
     ]
    },
    {
     "name": "stdout",
     "output_type": "stream",
     "text": [
      "Iteration: \t55 / 500\n",
      "Confirmed: \t18\n",
      "Tentative: \t12\n",
      "Rejected: \t100\n"
     ]
    },
    {
     "name": "stderr",
     "output_type": "stream",
     "text": [
      "/Users/shohei.mitani/.pyenv/versions/anaconda3-5.3.1/lib/python3.6/site-packages/boruta/boruta_py.py:418: RuntimeWarning: invalid value encountered in greater\n",
      "  hits = np.where(cur_imp[0] > imp_sha_max)[0]\n",
      "/Users/shohei.mitani/.pyenv/versions/anaconda3-5.3.1/lib/python3.6/site-packages/boruta/boruta_py.py:380: DataConversionWarning: A column-vector y was passed when a 1d array was expected. Please change the shape of y to (n_samples,), for example using ravel().\n",
      "  self.estimator.fit(X, y)\n"
     ]
    },
    {
     "name": "stdout",
     "output_type": "stream",
     "text": [
      "Iteration: \t56 / 500\n",
      "Confirmed: \t18\n",
      "Tentative: \t11\n",
      "Rejected: \t101\n"
     ]
    },
    {
     "name": "stderr",
     "output_type": "stream",
     "text": [
      "/Users/shohei.mitani/.pyenv/versions/anaconda3-5.3.1/lib/python3.6/site-packages/boruta/boruta_py.py:418: RuntimeWarning: invalid value encountered in greater\n",
      "  hits = np.where(cur_imp[0] > imp_sha_max)[0]\n",
      "/Users/shohei.mitani/.pyenv/versions/anaconda3-5.3.1/lib/python3.6/site-packages/boruta/boruta_py.py:380: DataConversionWarning: A column-vector y was passed when a 1d array was expected. Please change the shape of y to (n_samples,), for example using ravel().\n",
      "  self.estimator.fit(X, y)\n"
     ]
    },
    {
     "name": "stdout",
     "output_type": "stream",
     "text": [
      "Iteration: \t57 / 500\n",
      "Confirmed: \t18\n",
      "Tentative: \t11\n",
      "Rejected: \t101\n"
     ]
    },
    {
     "name": "stderr",
     "output_type": "stream",
     "text": [
      "/Users/shohei.mitani/.pyenv/versions/anaconda3-5.3.1/lib/python3.6/site-packages/boruta/boruta_py.py:418: RuntimeWarning: invalid value encountered in greater\n",
      "  hits = np.where(cur_imp[0] > imp_sha_max)[0]\n",
      "/Users/shohei.mitani/.pyenv/versions/anaconda3-5.3.1/lib/python3.6/site-packages/boruta/boruta_py.py:380: DataConversionWarning: A column-vector y was passed when a 1d array was expected. Please change the shape of y to (n_samples,), for example using ravel().\n",
      "  self.estimator.fit(X, y)\n"
     ]
    },
    {
     "name": "stdout",
     "output_type": "stream",
     "text": [
      "Iteration: \t58 / 500\n",
      "Confirmed: \t18\n",
      "Tentative: \t11\n",
      "Rejected: \t101\n"
     ]
    },
    {
     "name": "stderr",
     "output_type": "stream",
     "text": [
      "/Users/shohei.mitani/.pyenv/versions/anaconda3-5.3.1/lib/python3.6/site-packages/boruta/boruta_py.py:418: RuntimeWarning: invalid value encountered in greater\n",
      "  hits = np.where(cur_imp[0] > imp_sha_max)[0]\n",
      "/Users/shohei.mitani/.pyenv/versions/anaconda3-5.3.1/lib/python3.6/site-packages/boruta/boruta_py.py:380: DataConversionWarning: A column-vector y was passed when a 1d array was expected. Please change the shape of y to (n_samples,), for example using ravel().\n",
      "  self.estimator.fit(X, y)\n"
     ]
    },
    {
     "name": "stdout",
     "output_type": "stream",
     "text": [
      "Iteration: \t59 / 500\n",
      "Confirmed: \t18\n",
      "Tentative: \t11\n",
      "Rejected: \t101\n"
     ]
    },
    {
     "name": "stderr",
     "output_type": "stream",
     "text": [
      "/Users/shohei.mitani/.pyenv/versions/anaconda3-5.3.1/lib/python3.6/site-packages/boruta/boruta_py.py:418: RuntimeWarning: invalid value encountered in greater\n",
      "  hits = np.where(cur_imp[0] > imp_sha_max)[0]\n",
      "/Users/shohei.mitani/.pyenv/versions/anaconda3-5.3.1/lib/python3.6/site-packages/boruta/boruta_py.py:380: DataConversionWarning: A column-vector y was passed when a 1d array was expected. Please change the shape of y to (n_samples,), for example using ravel().\n",
      "  self.estimator.fit(X, y)\n"
     ]
    },
    {
     "name": "stdout",
     "output_type": "stream",
     "text": [
      "Iteration: \t60 / 500\n",
      "Confirmed: \t18\n",
      "Tentative: \t11\n",
      "Rejected: \t101\n"
     ]
    },
    {
     "name": "stderr",
     "output_type": "stream",
     "text": [
      "/Users/shohei.mitani/.pyenv/versions/anaconda3-5.3.1/lib/python3.6/site-packages/boruta/boruta_py.py:418: RuntimeWarning: invalid value encountered in greater\n",
      "  hits = np.where(cur_imp[0] > imp_sha_max)[0]\n",
      "/Users/shohei.mitani/.pyenv/versions/anaconda3-5.3.1/lib/python3.6/site-packages/boruta/boruta_py.py:380: DataConversionWarning: A column-vector y was passed when a 1d array was expected. Please change the shape of y to (n_samples,), for example using ravel().\n",
      "  self.estimator.fit(X, y)\n"
     ]
    },
    {
     "name": "stdout",
     "output_type": "stream",
     "text": [
      "Iteration: \t61 / 500\n",
      "Confirmed: \t18\n",
      "Tentative: \t10\n",
      "Rejected: \t102\n"
     ]
    },
    {
     "name": "stderr",
     "output_type": "stream",
     "text": [
      "/Users/shohei.mitani/.pyenv/versions/anaconda3-5.3.1/lib/python3.6/site-packages/boruta/boruta_py.py:418: RuntimeWarning: invalid value encountered in greater\n",
      "  hits = np.where(cur_imp[0] > imp_sha_max)[0]\n",
      "/Users/shohei.mitani/.pyenv/versions/anaconda3-5.3.1/lib/python3.6/site-packages/boruta/boruta_py.py:380: DataConversionWarning: A column-vector y was passed when a 1d array was expected. Please change the shape of y to (n_samples,), for example using ravel().\n",
      "  self.estimator.fit(X, y)\n"
     ]
    },
    {
     "name": "stdout",
     "output_type": "stream",
     "text": [
      "Iteration: \t62 / 500\n",
      "Confirmed: \t18\n",
      "Tentative: \t10\n",
      "Rejected: \t102\n"
     ]
    },
    {
     "name": "stderr",
     "output_type": "stream",
     "text": [
      "/Users/shohei.mitani/.pyenv/versions/anaconda3-5.3.1/lib/python3.6/site-packages/boruta/boruta_py.py:418: RuntimeWarning: invalid value encountered in greater\n",
      "  hits = np.where(cur_imp[0] > imp_sha_max)[0]\n",
      "/Users/shohei.mitani/.pyenv/versions/anaconda3-5.3.1/lib/python3.6/site-packages/boruta/boruta_py.py:380: DataConversionWarning: A column-vector y was passed when a 1d array was expected. Please change the shape of y to (n_samples,), for example using ravel().\n",
      "  self.estimator.fit(X, y)\n"
     ]
    },
    {
     "name": "stdout",
     "output_type": "stream",
     "text": [
      "Iteration: \t63 / 500\n",
      "Confirmed: \t18\n",
      "Tentative: \t10\n",
      "Rejected: \t102\n"
     ]
    },
    {
     "name": "stderr",
     "output_type": "stream",
     "text": [
      "/Users/shohei.mitani/.pyenv/versions/anaconda3-5.3.1/lib/python3.6/site-packages/boruta/boruta_py.py:418: RuntimeWarning: invalid value encountered in greater\n",
      "  hits = np.where(cur_imp[0] > imp_sha_max)[0]\n",
      "/Users/shohei.mitani/.pyenv/versions/anaconda3-5.3.1/lib/python3.6/site-packages/boruta/boruta_py.py:380: DataConversionWarning: A column-vector y was passed when a 1d array was expected. Please change the shape of y to (n_samples,), for example using ravel().\n",
      "  self.estimator.fit(X, y)\n"
     ]
    },
    {
     "name": "stdout",
     "output_type": "stream",
     "text": [
      "Iteration: \t64 / 500\n",
      "Confirmed: \t18\n",
      "Tentative: \t9\n",
      "Rejected: \t103\n"
     ]
    },
    {
     "name": "stderr",
     "output_type": "stream",
     "text": [
      "/Users/shohei.mitani/.pyenv/versions/anaconda3-5.3.1/lib/python3.6/site-packages/boruta/boruta_py.py:418: RuntimeWarning: invalid value encountered in greater\n",
      "  hits = np.where(cur_imp[0] > imp_sha_max)[0]\n",
      "/Users/shohei.mitani/.pyenv/versions/anaconda3-5.3.1/lib/python3.6/site-packages/boruta/boruta_py.py:380: DataConversionWarning: A column-vector y was passed when a 1d array was expected. Please change the shape of y to (n_samples,), for example using ravel().\n",
      "  self.estimator.fit(X, y)\n"
     ]
    },
    {
     "name": "stdout",
     "output_type": "stream",
     "text": [
      "Iteration: \t65 / 500\n",
      "Confirmed: \t18\n",
      "Tentative: \t9\n",
      "Rejected: \t103\n"
     ]
    },
    {
     "name": "stderr",
     "output_type": "stream",
     "text": [
      "/Users/shohei.mitani/.pyenv/versions/anaconda3-5.3.1/lib/python3.6/site-packages/boruta/boruta_py.py:418: RuntimeWarning: invalid value encountered in greater\n",
      "  hits = np.where(cur_imp[0] > imp_sha_max)[0]\n",
      "/Users/shohei.mitani/.pyenv/versions/anaconda3-5.3.1/lib/python3.6/site-packages/boruta/boruta_py.py:380: DataConversionWarning: A column-vector y was passed when a 1d array was expected. Please change the shape of y to (n_samples,), for example using ravel().\n",
      "  self.estimator.fit(X, y)\n"
     ]
    },
    {
     "name": "stdout",
     "output_type": "stream",
     "text": [
      "Iteration: \t66 / 500\n",
      "Confirmed: \t18\n",
      "Tentative: \t9\n",
      "Rejected: \t103\n"
     ]
    },
    {
     "name": "stderr",
     "output_type": "stream",
     "text": [
      "/Users/shohei.mitani/.pyenv/versions/anaconda3-5.3.1/lib/python3.6/site-packages/boruta/boruta_py.py:418: RuntimeWarning: invalid value encountered in greater\n",
      "  hits = np.where(cur_imp[0] > imp_sha_max)[0]\n",
      "/Users/shohei.mitani/.pyenv/versions/anaconda3-5.3.1/lib/python3.6/site-packages/boruta/boruta_py.py:380: DataConversionWarning: A column-vector y was passed when a 1d array was expected. Please change the shape of y to (n_samples,), for example using ravel().\n",
      "  self.estimator.fit(X, y)\n"
     ]
    },
    {
     "name": "stdout",
     "output_type": "stream",
     "text": [
      "Iteration: \t67 / 500\n",
      "Confirmed: \t18\n",
      "Tentative: \t9\n",
      "Rejected: \t103\n"
     ]
    },
    {
     "name": "stderr",
     "output_type": "stream",
     "text": [
      "/Users/shohei.mitani/.pyenv/versions/anaconda3-5.3.1/lib/python3.6/site-packages/boruta/boruta_py.py:418: RuntimeWarning: invalid value encountered in greater\n",
      "  hits = np.where(cur_imp[0] > imp_sha_max)[0]\n",
      "/Users/shohei.mitani/.pyenv/versions/anaconda3-5.3.1/lib/python3.6/site-packages/boruta/boruta_py.py:380: DataConversionWarning: A column-vector y was passed when a 1d array was expected. Please change the shape of y to (n_samples,), for example using ravel().\n",
      "  self.estimator.fit(X, y)\n"
     ]
    },
    {
     "name": "stdout",
     "output_type": "stream",
     "text": [
      "Iteration: \t68 / 500\n",
      "Confirmed: \t18\n",
      "Tentative: \t9\n",
      "Rejected: \t103\n"
     ]
    },
    {
     "name": "stderr",
     "output_type": "stream",
     "text": [
      "/Users/shohei.mitani/.pyenv/versions/anaconda3-5.3.1/lib/python3.6/site-packages/boruta/boruta_py.py:418: RuntimeWarning: invalid value encountered in greater\n",
      "  hits = np.where(cur_imp[0] > imp_sha_max)[0]\n",
      "/Users/shohei.mitani/.pyenv/versions/anaconda3-5.3.1/lib/python3.6/site-packages/boruta/boruta_py.py:380: DataConversionWarning: A column-vector y was passed when a 1d array was expected. Please change the shape of y to (n_samples,), for example using ravel().\n",
      "  self.estimator.fit(X, y)\n"
     ]
    },
    {
     "name": "stdout",
     "output_type": "stream",
     "text": [
      "Iteration: \t69 / 500\n",
      "Confirmed: \t18\n",
      "Tentative: \t9\n",
      "Rejected: \t103\n"
     ]
    },
    {
     "name": "stderr",
     "output_type": "stream",
     "text": [
      "/Users/shohei.mitani/.pyenv/versions/anaconda3-5.3.1/lib/python3.6/site-packages/boruta/boruta_py.py:418: RuntimeWarning: invalid value encountered in greater\n",
      "  hits = np.where(cur_imp[0] > imp_sha_max)[0]\n",
      "/Users/shohei.mitani/.pyenv/versions/anaconda3-5.3.1/lib/python3.6/site-packages/boruta/boruta_py.py:380: DataConversionWarning: A column-vector y was passed when a 1d array was expected. Please change the shape of y to (n_samples,), for example using ravel().\n",
      "  self.estimator.fit(X, y)\n"
     ]
    },
    {
     "name": "stdout",
     "output_type": "stream",
     "text": [
      "Iteration: \t70 / 500\n",
      "Confirmed: \t18\n",
      "Tentative: \t9\n",
      "Rejected: \t103\n"
     ]
    },
    {
     "name": "stderr",
     "output_type": "stream",
     "text": [
      "/Users/shohei.mitani/.pyenv/versions/anaconda3-5.3.1/lib/python3.6/site-packages/boruta/boruta_py.py:418: RuntimeWarning: invalid value encountered in greater\n",
      "  hits = np.where(cur_imp[0] > imp_sha_max)[0]\n",
      "/Users/shohei.mitani/.pyenv/versions/anaconda3-5.3.1/lib/python3.6/site-packages/boruta/boruta_py.py:380: DataConversionWarning: A column-vector y was passed when a 1d array was expected. Please change the shape of y to (n_samples,), for example using ravel().\n",
      "  self.estimator.fit(X, y)\n"
     ]
    },
    {
     "name": "stdout",
     "output_type": "stream",
     "text": [
      "Iteration: \t71 / 500\n",
      "Confirmed: \t18\n",
      "Tentative: \t9\n",
      "Rejected: \t103\n"
     ]
    },
    {
     "name": "stderr",
     "output_type": "stream",
     "text": [
      "/Users/shohei.mitani/.pyenv/versions/anaconda3-5.3.1/lib/python3.6/site-packages/boruta/boruta_py.py:418: RuntimeWarning: invalid value encountered in greater\n",
      "  hits = np.where(cur_imp[0] > imp_sha_max)[0]\n",
      "/Users/shohei.mitani/.pyenv/versions/anaconda3-5.3.1/lib/python3.6/site-packages/boruta/boruta_py.py:380: DataConversionWarning: A column-vector y was passed when a 1d array was expected. Please change the shape of y to (n_samples,), for example using ravel().\n",
      "  self.estimator.fit(X, y)\n"
     ]
    },
    {
     "name": "stdout",
     "output_type": "stream",
     "text": [
      "Iteration: \t72 / 500\n",
      "Confirmed: \t18\n",
      "Tentative: \t9\n",
      "Rejected: \t103\n"
     ]
    },
    {
     "name": "stderr",
     "output_type": "stream",
     "text": [
      "/Users/shohei.mitani/.pyenv/versions/anaconda3-5.3.1/lib/python3.6/site-packages/boruta/boruta_py.py:418: RuntimeWarning: invalid value encountered in greater\n",
      "  hits = np.where(cur_imp[0] > imp_sha_max)[0]\n",
      "/Users/shohei.mitani/.pyenv/versions/anaconda3-5.3.1/lib/python3.6/site-packages/boruta/boruta_py.py:380: DataConversionWarning: A column-vector y was passed when a 1d array was expected. Please change the shape of y to (n_samples,), for example using ravel().\n",
      "  self.estimator.fit(X, y)\n"
     ]
    },
    {
     "name": "stdout",
     "output_type": "stream",
     "text": [
      "Iteration: \t73 / 500\n",
      "Confirmed: \t18\n",
      "Tentative: \t9\n",
      "Rejected: \t103\n"
     ]
    },
    {
     "name": "stderr",
     "output_type": "stream",
     "text": [
      "/Users/shohei.mitani/.pyenv/versions/anaconda3-5.3.1/lib/python3.6/site-packages/boruta/boruta_py.py:418: RuntimeWarning: invalid value encountered in greater\n",
      "  hits = np.where(cur_imp[0] > imp_sha_max)[0]\n",
      "/Users/shohei.mitani/.pyenv/versions/anaconda3-5.3.1/lib/python3.6/site-packages/boruta/boruta_py.py:380: DataConversionWarning: A column-vector y was passed when a 1d array was expected. Please change the shape of y to (n_samples,), for example using ravel().\n",
      "  self.estimator.fit(X, y)\n"
     ]
    },
    {
     "name": "stdout",
     "output_type": "stream",
     "text": [
      "Iteration: \t74 / 500\n",
      "Confirmed: \t18\n",
      "Tentative: \t9\n",
      "Rejected: \t103\n"
     ]
    },
    {
     "name": "stderr",
     "output_type": "stream",
     "text": [
      "/Users/shohei.mitani/.pyenv/versions/anaconda3-5.3.1/lib/python3.6/site-packages/boruta/boruta_py.py:418: RuntimeWarning: invalid value encountered in greater\n",
      "  hits = np.where(cur_imp[0] > imp_sha_max)[0]\n",
      "/Users/shohei.mitani/.pyenv/versions/anaconda3-5.3.1/lib/python3.6/site-packages/boruta/boruta_py.py:380: DataConversionWarning: A column-vector y was passed when a 1d array was expected. Please change the shape of y to (n_samples,), for example using ravel().\n",
      "  self.estimator.fit(X, y)\n"
     ]
    },
    {
     "name": "stdout",
     "output_type": "stream",
     "text": [
      "Iteration: \t75 / 500\n",
      "Confirmed: \t18\n",
      "Tentative: \t9\n",
      "Rejected: \t103\n"
     ]
    },
    {
     "name": "stderr",
     "output_type": "stream",
     "text": [
      "/Users/shohei.mitani/.pyenv/versions/anaconda3-5.3.1/lib/python3.6/site-packages/boruta/boruta_py.py:418: RuntimeWarning: invalid value encountered in greater\n",
      "  hits = np.where(cur_imp[0] > imp_sha_max)[0]\n",
      "/Users/shohei.mitani/.pyenv/versions/anaconda3-5.3.1/lib/python3.6/site-packages/boruta/boruta_py.py:380: DataConversionWarning: A column-vector y was passed when a 1d array was expected. Please change the shape of y to (n_samples,), for example using ravel().\n",
      "  self.estimator.fit(X, y)\n"
     ]
    },
    {
     "name": "stdout",
     "output_type": "stream",
     "text": [
      "Iteration: \t76 / 500\n",
      "Confirmed: \t18\n",
      "Tentative: \t9\n",
      "Rejected: \t103\n"
     ]
    },
    {
     "name": "stderr",
     "output_type": "stream",
     "text": [
      "/Users/shohei.mitani/.pyenv/versions/anaconda3-5.3.1/lib/python3.6/site-packages/boruta/boruta_py.py:418: RuntimeWarning: invalid value encountered in greater\n",
      "  hits = np.where(cur_imp[0] > imp_sha_max)[0]\n",
      "/Users/shohei.mitani/.pyenv/versions/anaconda3-5.3.1/lib/python3.6/site-packages/boruta/boruta_py.py:380: DataConversionWarning: A column-vector y was passed when a 1d array was expected. Please change the shape of y to (n_samples,), for example using ravel().\n",
      "  self.estimator.fit(X, y)\n"
     ]
    },
    {
     "name": "stdout",
     "output_type": "stream",
     "text": [
      "Iteration: \t77 / 500\n",
      "Confirmed: \t18\n",
      "Tentative: \t9\n",
      "Rejected: \t103\n"
     ]
    },
    {
     "name": "stderr",
     "output_type": "stream",
     "text": [
      "/Users/shohei.mitani/.pyenv/versions/anaconda3-5.3.1/lib/python3.6/site-packages/boruta/boruta_py.py:418: RuntimeWarning: invalid value encountered in greater\n",
      "  hits = np.where(cur_imp[0] > imp_sha_max)[0]\n",
      "/Users/shohei.mitani/.pyenv/versions/anaconda3-5.3.1/lib/python3.6/site-packages/boruta/boruta_py.py:380: DataConversionWarning: A column-vector y was passed when a 1d array was expected. Please change the shape of y to (n_samples,), for example using ravel().\n",
      "  self.estimator.fit(X, y)\n"
     ]
    },
    {
     "name": "stdout",
     "output_type": "stream",
     "text": [
      "Iteration: \t78 / 500\n",
      "Confirmed: \t18\n",
      "Tentative: \t9\n",
      "Rejected: \t103\n"
     ]
    },
    {
     "name": "stderr",
     "output_type": "stream",
     "text": [
      "/Users/shohei.mitani/.pyenv/versions/anaconda3-5.3.1/lib/python3.6/site-packages/boruta/boruta_py.py:418: RuntimeWarning: invalid value encountered in greater\n",
      "  hits = np.where(cur_imp[0] > imp_sha_max)[0]\n",
      "/Users/shohei.mitani/.pyenv/versions/anaconda3-5.3.1/lib/python3.6/site-packages/boruta/boruta_py.py:380: DataConversionWarning: A column-vector y was passed when a 1d array was expected. Please change the shape of y to (n_samples,), for example using ravel().\n",
      "  self.estimator.fit(X, y)\n"
     ]
    },
    {
     "name": "stdout",
     "output_type": "stream",
     "text": [
      "Iteration: \t79 / 500\n",
      "Confirmed: \t18\n",
      "Tentative: \t9\n",
      "Rejected: \t103\n"
     ]
    },
    {
     "name": "stderr",
     "output_type": "stream",
     "text": [
      "/Users/shohei.mitani/.pyenv/versions/anaconda3-5.3.1/lib/python3.6/site-packages/boruta/boruta_py.py:418: RuntimeWarning: invalid value encountered in greater\n",
      "  hits = np.where(cur_imp[0] > imp_sha_max)[0]\n",
      "/Users/shohei.mitani/.pyenv/versions/anaconda3-5.3.1/lib/python3.6/site-packages/boruta/boruta_py.py:380: DataConversionWarning: A column-vector y was passed when a 1d array was expected. Please change the shape of y to (n_samples,), for example using ravel().\n",
      "  self.estimator.fit(X, y)\n"
     ]
    },
    {
     "name": "stdout",
     "output_type": "stream",
     "text": [
      "Iteration: \t80 / 500\n",
      "Confirmed: \t18\n",
      "Tentative: \t9\n",
      "Rejected: \t103\n"
     ]
    },
    {
     "name": "stderr",
     "output_type": "stream",
     "text": [
      "/Users/shohei.mitani/.pyenv/versions/anaconda3-5.3.1/lib/python3.6/site-packages/boruta/boruta_py.py:418: RuntimeWarning: invalid value encountered in greater\n",
      "  hits = np.where(cur_imp[0] > imp_sha_max)[0]\n",
      "/Users/shohei.mitani/.pyenv/versions/anaconda3-5.3.1/lib/python3.6/site-packages/boruta/boruta_py.py:380: DataConversionWarning: A column-vector y was passed when a 1d array was expected. Please change the shape of y to (n_samples,), for example using ravel().\n",
      "  self.estimator.fit(X, y)\n"
     ]
    },
    {
     "name": "stdout",
     "output_type": "stream",
     "text": [
      "Iteration: \t81 / 500\n",
      "Confirmed: \t18\n",
      "Tentative: \t9\n",
      "Rejected: \t103\n"
     ]
    },
    {
     "name": "stderr",
     "output_type": "stream",
     "text": [
      "/Users/shohei.mitani/.pyenv/versions/anaconda3-5.3.1/lib/python3.6/site-packages/boruta/boruta_py.py:418: RuntimeWarning: invalid value encountered in greater\n",
      "  hits = np.where(cur_imp[0] > imp_sha_max)[0]\n",
      "/Users/shohei.mitani/.pyenv/versions/anaconda3-5.3.1/lib/python3.6/site-packages/boruta/boruta_py.py:380: DataConversionWarning: A column-vector y was passed when a 1d array was expected. Please change the shape of y to (n_samples,), for example using ravel().\n",
      "  self.estimator.fit(X, y)\n"
     ]
    },
    {
     "name": "stdout",
     "output_type": "stream",
     "text": [
      "Iteration: \t82 / 500\n",
      "Confirmed: \t18\n",
      "Tentative: \t9\n",
      "Rejected: \t103\n"
     ]
    },
    {
     "name": "stderr",
     "output_type": "stream",
     "text": [
      "/Users/shohei.mitani/.pyenv/versions/anaconda3-5.3.1/lib/python3.6/site-packages/boruta/boruta_py.py:418: RuntimeWarning: invalid value encountered in greater\n",
      "  hits = np.where(cur_imp[0] > imp_sha_max)[0]\n",
      "/Users/shohei.mitani/.pyenv/versions/anaconda3-5.3.1/lib/python3.6/site-packages/boruta/boruta_py.py:380: DataConversionWarning: A column-vector y was passed when a 1d array was expected. Please change the shape of y to (n_samples,), for example using ravel().\n",
      "  self.estimator.fit(X, y)\n"
     ]
    },
    {
     "name": "stdout",
     "output_type": "stream",
     "text": [
      "Iteration: \t83 / 500\n",
      "Confirmed: \t18\n",
      "Tentative: \t9\n",
      "Rejected: \t103\n"
     ]
    },
    {
     "name": "stderr",
     "output_type": "stream",
     "text": [
      "/Users/shohei.mitani/.pyenv/versions/anaconda3-5.3.1/lib/python3.6/site-packages/boruta/boruta_py.py:418: RuntimeWarning: invalid value encountered in greater\n",
      "  hits = np.where(cur_imp[0] > imp_sha_max)[0]\n",
      "/Users/shohei.mitani/.pyenv/versions/anaconda3-5.3.1/lib/python3.6/site-packages/boruta/boruta_py.py:380: DataConversionWarning: A column-vector y was passed when a 1d array was expected. Please change the shape of y to (n_samples,), for example using ravel().\n",
      "  self.estimator.fit(X, y)\n"
     ]
    },
    {
     "name": "stdout",
     "output_type": "stream",
     "text": [
      "Iteration: \t84 / 500\n",
      "Confirmed: \t18\n",
      "Tentative: \t9\n",
      "Rejected: \t103\n"
     ]
    },
    {
     "name": "stderr",
     "output_type": "stream",
     "text": [
      "/Users/shohei.mitani/.pyenv/versions/anaconda3-5.3.1/lib/python3.6/site-packages/boruta/boruta_py.py:418: RuntimeWarning: invalid value encountered in greater\n",
      "  hits = np.where(cur_imp[0] > imp_sha_max)[0]\n",
      "/Users/shohei.mitani/.pyenv/versions/anaconda3-5.3.1/lib/python3.6/site-packages/boruta/boruta_py.py:380: DataConversionWarning: A column-vector y was passed when a 1d array was expected. Please change the shape of y to (n_samples,), for example using ravel().\n",
      "  self.estimator.fit(X, y)\n"
     ]
    },
    {
     "name": "stdout",
     "output_type": "stream",
     "text": [
      "Iteration: \t85 / 500\n",
      "Confirmed: \t18\n",
      "Tentative: \t9\n",
      "Rejected: \t103\n"
     ]
    },
    {
     "name": "stderr",
     "output_type": "stream",
     "text": [
      "/Users/shohei.mitani/.pyenv/versions/anaconda3-5.3.1/lib/python3.6/site-packages/boruta/boruta_py.py:418: RuntimeWarning: invalid value encountered in greater\n",
      "  hits = np.where(cur_imp[0] > imp_sha_max)[0]\n",
      "/Users/shohei.mitani/.pyenv/versions/anaconda3-5.3.1/lib/python3.6/site-packages/boruta/boruta_py.py:380: DataConversionWarning: A column-vector y was passed when a 1d array was expected. Please change the shape of y to (n_samples,), for example using ravel().\n",
      "  self.estimator.fit(X, y)\n"
     ]
    },
    {
     "name": "stdout",
     "output_type": "stream",
     "text": [
      "Iteration: \t86 / 500\n",
      "Confirmed: \t18\n",
      "Tentative: \t8\n",
      "Rejected: \t104\n"
     ]
    },
    {
     "name": "stderr",
     "output_type": "stream",
     "text": [
      "/Users/shohei.mitani/.pyenv/versions/anaconda3-5.3.1/lib/python3.6/site-packages/boruta/boruta_py.py:418: RuntimeWarning: invalid value encountered in greater\n",
      "  hits = np.where(cur_imp[0] > imp_sha_max)[0]\n",
      "/Users/shohei.mitani/.pyenv/versions/anaconda3-5.3.1/lib/python3.6/site-packages/boruta/boruta_py.py:380: DataConversionWarning: A column-vector y was passed when a 1d array was expected. Please change the shape of y to (n_samples,), for example using ravel().\n",
      "  self.estimator.fit(X, y)\n"
     ]
    },
    {
     "name": "stdout",
     "output_type": "stream",
     "text": [
      "Iteration: \t87 / 500\n",
      "Confirmed: \t18\n",
      "Tentative: \t8\n",
      "Rejected: \t104\n"
     ]
    },
    {
     "name": "stderr",
     "output_type": "stream",
     "text": [
      "/Users/shohei.mitani/.pyenv/versions/anaconda3-5.3.1/lib/python3.6/site-packages/boruta/boruta_py.py:418: RuntimeWarning: invalid value encountered in greater\n",
      "  hits = np.where(cur_imp[0] > imp_sha_max)[0]\n",
      "/Users/shohei.mitani/.pyenv/versions/anaconda3-5.3.1/lib/python3.6/site-packages/boruta/boruta_py.py:380: DataConversionWarning: A column-vector y was passed when a 1d array was expected. Please change the shape of y to (n_samples,), for example using ravel().\n",
      "  self.estimator.fit(X, y)\n"
     ]
    },
    {
     "name": "stdout",
     "output_type": "stream",
     "text": [
      "Iteration: \t88 / 500\n",
      "Confirmed: \t18\n",
      "Tentative: \t8\n",
      "Rejected: \t104\n"
     ]
    },
    {
     "name": "stderr",
     "output_type": "stream",
     "text": [
      "/Users/shohei.mitani/.pyenv/versions/anaconda3-5.3.1/lib/python3.6/site-packages/boruta/boruta_py.py:418: RuntimeWarning: invalid value encountered in greater\n",
      "  hits = np.where(cur_imp[0] > imp_sha_max)[0]\n",
      "/Users/shohei.mitani/.pyenv/versions/anaconda3-5.3.1/lib/python3.6/site-packages/boruta/boruta_py.py:380: DataConversionWarning: A column-vector y was passed when a 1d array was expected. Please change the shape of y to (n_samples,), for example using ravel().\n",
      "  self.estimator.fit(X, y)\n"
     ]
    },
    {
     "name": "stdout",
     "output_type": "stream",
     "text": [
      "Iteration: \t89 / 500\n",
      "Confirmed: \t18\n",
      "Tentative: \t8\n",
      "Rejected: \t104\n"
     ]
    },
    {
     "name": "stderr",
     "output_type": "stream",
     "text": [
      "/Users/shohei.mitani/.pyenv/versions/anaconda3-5.3.1/lib/python3.6/site-packages/boruta/boruta_py.py:418: RuntimeWarning: invalid value encountered in greater\n",
      "  hits = np.where(cur_imp[0] > imp_sha_max)[0]\n",
      "/Users/shohei.mitani/.pyenv/versions/anaconda3-5.3.1/lib/python3.6/site-packages/boruta/boruta_py.py:380: DataConversionWarning: A column-vector y was passed when a 1d array was expected. Please change the shape of y to (n_samples,), for example using ravel().\n",
      "  self.estimator.fit(X, y)\n"
     ]
    },
    {
     "name": "stdout",
     "output_type": "stream",
     "text": [
      "Iteration: \t90 / 500\n",
      "Confirmed: \t18\n",
      "Tentative: \t8\n",
      "Rejected: \t104\n"
     ]
    },
    {
     "name": "stderr",
     "output_type": "stream",
     "text": [
      "/Users/shohei.mitani/.pyenv/versions/anaconda3-5.3.1/lib/python3.6/site-packages/boruta/boruta_py.py:418: RuntimeWarning: invalid value encountered in greater\n",
      "  hits = np.where(cur_imp[0] > imp_sha_max)[0]\n",
      "/Users/shohei.mitani/.pyenv/versions/anaconda3-5.3.1/lib/python3.6/site-packages/boruta/boruta_py.py:380: DataConversionWarning: A column-vector y was passed when a 1d array was expected. Please change the shape of y to (n_samples,), for example using ravel().\n",
      "  self.estimator.fit(X, y)\n"
     ]
    },
    {
     "name": "stdout",
     "output_type": "stream",
     "text": [
      "Iteration: \t91 / 500\n",
      "Confirmed: \t18\n",
      "Tentative: \t8\n",
      "Rejected: \t104\n"
     ]
    },
    {
     "name": "stderr",
     "output_type": "stream",
     "text": [
      "/Users/shohei.mitani/.pyenv/versions/anaconda3-5.3.1/lib/python3.6/site-packages/boruta/boruta_py.py:418: RuntimeWarning: invalid value encountered in greater\n",
      "  hits = np.where(cur_imp[0] > imp_sha_max)[0]\n",
      "/Users/shohei.mitani/.pyenv/versions/anaconda3-5.3.1/lib/python3.6/site-packages/boruta/boruta_py.py:380: DataConversionWarning: A column-vector y was passed when a 1d array was expected. Please change the shape of y to (n_samples,), for example using ravel().\n",
      "  self.estimator.fit(X, y)\n"
     ]
    },
    {
     "name": "stdout",
     "output_type": "stream",
     "text": [
      "Iteration: \t92 / 500\n",
      "Confirmed: \t18\n",
      "Tentative: \t8\n",
      "Rejected: \t104\n"
     ]
    },
    {
     "name": "stderr",
     "output_type": "stream",
     "text": [
      "/Users/shohei.mitani/.pyenv/versions/anaconda3-5.3.1/lib/python3.6/site-packages/boruta/boruta_py.py:418: RuntimeWarning: invalid value encountered in greater\n",
      "  hits = np.where(cur_imp[0] > imp_sha_max)[0]\n",
      "/Users/shohei.mitani/.pyenv/versions/anaconda3-5.3.1/lib/python3.6/site-packages/boruta/boruta_py.py:380: DataConversionWarning: A column-vector y was passed when a 1d array was expected. Please change the shape of y to (n_samples,), for example using ravel().\n",
      "  self.estimator.fit(X, y)\n"
     ]
    },
    {
     "name": "stdout",
     "output_type": "stream",
     "text": [
      "Iteration: \t93 / 500\n",
      "Confirmed: \t18\n",
      "Tentative: \t8\n",
      "Rejected: \t104\n"
     ]
    },
    {
     "name": "stderr",
     "output_type": "stream",
     "text": [
      "/Users/shohei.mitani/.pyenv/versions/anaconda3-5.3.1/lib/python3.6/site-packages/boruta/boruta_py.py:418: RuntimeWarning: invalid value encountered in greater\n",
      "  hits = np.where(cur_imp[0] > imp_sha_max)[0]\n",
      "/Users/shohei.mitani/.pyenv/versions/anaconda3-5.3.1/lib/python3.6/site-packages/boruta/boruta_py.py:380: DataConversionWarning: A column-vector y was passed when a 1d array was expected. Please change the shape of y to (n_samples,), for example using ravel().\n",
      "  self.estimator.fit(X, y)\n"
     ]
    },
    {
     "name": "stdout",
     "output_type": "stream",
     "text": [
      "Iteration: \t94 / 500\n",
      "Confirmed: \t18\n",
      "Tentative: \t8\n",
      "Rejected: \t104\n"
     ]
    },
    {
     "name": "stderr",
     "output_type": "stream",
     "text": [
      "/Users/shohei.mitani/.pyenv/versions/anaconda3-5.3.1/lib/python3.6/site-packages/boruta/boruta_py.py:418: RuntimeWarning: invalid value encountered in greater\n",
      "  hits = np.where(cur_imp[0] > imp_sha_max)[0]\n",
      "/Users/shohei.mitani/.pyenv/versions/anaconda3-5.3.1/lib/python3.6/site-packages/boruta/boruta_py.py:380: DataConversionWarning: A column-vector y was passed when a 1d array was expected. Please change the shape of y to (n_samples,), for example using ravel().\n",
      "  self.estimator.fit(X, y)\n"
     ]
    },
    {
     "name": "stdout",
     "output_type": "stream",
     "text": [
      "Iteration: \t95 / 500\n",
      "Confirmed: \t18\n",
      "Tentative: \t8\n",
      "Rejected: \t104\n"
     ]
    },
    {
     "name": "stderr",
     "output_type": "stream",
     "text": [
      "/Users/shohei.mitani/.pyenv/versions/anaconda3-5.3.1/lib/python3.6/site-packages/boruta/boruta_py.py:418: RuntimeWarning: invalid value encountered in greater\n",
      "  hits = np.where(cur_imp[0] > imp_sha_max)[0]\n",
      "/Users/shohei.mitani/.pyenv/versions/anaconda3-5.3.1/lib/python3.6/site-packages/boruta/boruta_py.py:380: DataConversionWarning: A column-vector y was passed when a 1d array was expected. Please change the shape of y to (n_samples,), for example using ravel().\n",
      "  self.estimator.fit(X, y)\n"
     ]
    },
    {
     "name": "stdout",
     "output_type": "stream",
     "text": [
      "Iteration: \t96 / 500\n",
      "Confirmed: \t18\n",
      "Tentative: \t8\n",
      "Rejected: \t104\n"
     ]
    },
    {
     "name": "stderr",
     "output_type": "stream",
     "text": [
      "/Users/shohei.mitani/.pyenv/versions/anaconda3-5.3.1/lib/python3.6/site-packages/boruta/boruta_py.py:418: RuntimeWarning: invalid value encountered in greater\n",
      "  hits = np.where(cur_imp[0] > imp_sha_max)[0]\n",
      "/Users/shohei.mitani/.pyenv/versions/anaconda3-5.3.1/lib/python3.6/site-packages/boruta/boruta_py.py:380: DataConversionWarning: A column-vector y was passed when a 1d array was expected. Please change the shape of y to (n_samples,), for example using ravel().\n",
      "  self.estimator.fit(X, y)\n"
     ]
    },
    {
     "name": "stdout",
     "output_type": "stream",
     "text": [
      "Iteration: \t97 / 500\n",
      "Confirmed: \t18\n",
      "Tentative: \t8\n",
      "Rejected: \t104\n"
     ]
    },
    {
     "name": "stderr",
     "output_type": "stream",
     "text": [
      "/Users/shohei.mitani/.pyenv/versions/anaconda3-5.3.1/lib/python3.6/site-packages/boruta/boruta_py.py:418: RuntimeWarning: invalid value encountered in greater\n",
      "  hits = np.where(cur_imp[0] > imp_sha_max)[0]\n",
      "/Users/shohei.mitani/.pyenv/versions/anaconda3-5.3.1/lib/python3.6/site-packages/boruta/boruta_py.py:380: DataConversionWarning: A column-vector y was passed when a 1d array was expected. Please change the shape of y to (n_samples,), for example using ravel().\n",
      "  self.estimator.fit(X, y)\n"
     ]
    },
    {
     "name": "stdout",
     "output_type": "stream",
     "text": [
      "Iteration: \t98 / 500\n",
      "Confirmed: \t18\n",
      "Tentative: \t8\n",
      "Rejected: \t104\n"
     ]
    },
    {
     "name": "stderr",
     "output_type": "stream",
     "text": [
      "/Users/shohei.mitani/.pyenv/versions/anaconda3-5.3.1/lib/python3.6/site-packages/boruta/boruta_py.py:418: RuntimeWarning: invalid value encountered in greater\n",
      "  hits = np.where(cur_imp[0] > imp_sha_max)[0]\n",
      "/Users/shohei.mitani/.pyenv/versions/anaconda3-5.3.1/lib/python3.6/site-packages/boruta/boruta_py.py:380: DataConversionWarning: A column-vector y was passed when a 1d array was expected. Please change the shape of y to (n_samples,), for example using ravel().\n",
      "  self.estimator.fit(X, y)\n"
     ]
    },
    {
     "name": "stdout",
     "output_type": "stream",
     "text": [
      "Iteration: \t99 / 500\n",
      "Confirmed: \t18\n",
      "Tentative: \t8\n",
      "Rejected: \t104\n"
     ]
    },
    {
     "name": "stderr",
     "output_type": "stream",
     "text": [
      "/Users/shohei.mitani/.pyenv/versions/anaconda3-5.3.1/lib/python3.6/site-packages/boruta/boruta_py.py:418: RuntimeWarning: invalid value encountered in greater\n",
      "  hits = np.where(cur_imp[0] > imp_sha_max)[0]\n",
      "/Users/shohei.mitani/.pyenv/versions/anaconda3-5.3.1/lib/python3.6/site-packages/boruta/boruta_py.py:380: DataConversionWarning: A column-vector y was passed when a 1d array was expected. Please change the shape of y to (n_samples,), for example using ravel().\n",
      "  self.estimator.fit(X, y)\n"
     ]
    },
    {
     "name": "stdout",
     "output_type": "stream",
     "text": [
      "Iteration: \t100 / 500\n",
      "Confirmed: \t18\n",
      "Tentative: \t8\n",
      "Rejected: \t104\n"
     ]
    },
    {
     "name": "stderr",
     "output_type": "stream",
     "text": [
      "/Users/shohei.mitani/.pyenv/versions/anaconda3-5.3.1/lib/python3.6/site-packages/boruta/boruta_py.py:418: RuntimeWarning: invalid value encountered in greater\n",
      "  hits = np.where(cur_imp[0] > imp_sha_max)[0]\n",
      "/Users/shohei.mitani/.pyenv/versions/anaconda3-5.3.1/lib/python3.6/site-packages/boruta/boruta_py.py:380: DataConversionWarning: A column-vector y was passed when a 1d array was expected. Please change the shape of y to (n_samples,), for example using ravel().\n",
      "  self.estimator.fit(X, y)\n"
     ]
    },
    {
     "name": "stdout",
     "output_type": "stream",
     "text": [
      "Iteration: \t101 / 500\n",
      "Confirmed: \t18\n",
      "Tentative: \t8\n",
      "Rejected: \t104\n"
     ]
    },
    {
     "name": "stderr",
     "output_type": "stream",
     "text": [
      "/Users/shohei.mitani/.pyenv/versions/anaconda3-5.3.1/lib/python3.6/site-packages/boruta/boruta_py.py:418: RuntimeWarning: invalid value encountered in greater\n",
      "  hits = np.where(cur_imp[0] > imp_sha_max)[0]\n",
      "/Users/shohei.mitani/.pyenv/versions/anaconda3-5.3.1/lib/python3.6/site-packages/boruta/boruta_py.py:380: DataConversionWarning: A column-vector y was passed when a 1d array was expected. Please change the shape of y to (n_samples,), for example using ravel().\n",
      "  self.estimator.fit(X, y)\n"
     ]
    },
    {
     "name": "stdout",
     "output_type": "stream",
     "text": [
      "Iteration: \t102 / 500\n",
      "Confirmed: \t18\n",
      "Tentative: \t8\n",
      "Rejected: \t104\n"
     ]
    },
    {
     "name": "stderr",
     "output_type": "stream",
     "text": [
      "/Users/shohei.mitani/.pyenv/versions/anaconda3-5.3.1/lib/python3.6/site-packages/boruta/boruta_py.py:418: RuntimeWarning: invalid value encountered in greater\n",
      "  hits = np.where(cur_imp[0] > imp_sha_max)[0]\n",
      "/Users/shohei.mitani/.pyenv/versions/anaconda3-5.3.1/lib/python3.6/site-packages/boruta/boruta_py.py:380: DataConversionWarning: A column-vector y was passed when a 1d array was expected. Please change the shape of y to (n_samples,), for example using ravel().\n",
      "  self.estimator.fit(X, y)\n"
     ]
    },
    {
     "name": "stdout",
     "output_type": "stream",
     "text": [
      "Iteration: \t103 / 500\n",
      "Confirmed: \t18\n",
      "Tentative: \t8\n",
      "Rejected: \t104\n"
     ]
    },
    {
     "name": "stderr",
     "output_type": "stream",
     "text": [
      "/Users/shohei.mitani/.pyenv/versions/anaconda3-5.3.1/lib/python3.6/site-packages/boruta/boruta_py.py:418: RuntimeWarning: invalid value encountered in greater\n",
      "  hits = np.where(cur_imp[0] > imp_sha_max)[0]\n",
      "/Users/shohei.mitani/.pyenv/versions/anaconda3-5.3.1/lib/python3.6/site-packages/boruta/boruta_py.py:380: DataConversionWarning: A column-vector y was passed when a 1d array was expected. Please change the shape of y to (n_samples,), for example using ravel().\n",
      "  self.estimator.fit(X, y)\n"
     ]
    },
    {
     "name": "stdout",
     "output_type": "stream",
     "text": [
      "Iteration: \t104 / 500\n",
      "Confirmed: \t18\n",
      "Tentative: \t8\n",
      "Rejected: \t104\n"
     ]
    },
    {
     "name": "stderr",
     "output_type": "stream",
     "text": [
      "/Users/shohei.mitani/.pyenv/versions/anaconda3-5.3.1/lib/python3.6/site-packages/boruta/boruta_py.py:418: RuntimeWarning: invalid value encountered in greater\n",
      "  hits = np.where(cur_imp[0] > imp_sha_max)[0]\n",
      "/Users/shohei.mitani/.pyenv/versions/anaconda3-5.3.1/lib/python3.6/site-packages/boruta/boruta_py.py:380: DataConversionWarning: A column-vector y was passed when a 1d array was expected. Please change the shape of y to (n_samples,), for example using ravel().\n",
      "  self.estimator.fit(X, y)\n"
     ]
    },
    {
     "name": "stdout",
     "output_type": "stream",
     "text": [
      "Iteration: \t105 / 500\n",
      "Confirmed: \t18\n",
      "Tentative: \t8\n",
      "Rejected: \t104\n"
     ]
    },
    {
     "name": "stderr",
     "output_type": "stream",
     "text": [
      "/Users/shohei.mitani/.pyenv/versions/anaconda3-5.3.1/lib/python3.6/site-packages/boruta/boruta_py.py:418: RuntimeWarning: invalid value encountered in greater\n",
      "  hits = np.where(cur_imp[0] > imp_sha_max)[0]\n",
      "/Users/shohei.mitani/.pyenv/versions/anaconda3-5.3.1/lib/python3.6/site-packages/boruta/boruta_py.py:380: DataConversionWarning: A column-vector y was passed when a 1d array was expected. Please change the shape of y to (n_samples,), for example using ravel().\n",
      "  self.estimator.fit(X, y)\n"
     ]
    },
    {
     "name": "stdout",
     "output_type": "stream",
     "text": [
      "Iteration: \t106 / 500\n",
      "Confirmed: \t19\n",
      "Tentative: \t7\n",
      "Rejected: \t104\n"
     ]
    },
    {
     "name": "stderr",
     "output_type": "stream",
     "text": [
      "/Users/shohei.mitani/.pyenv/versions/anaconda3-5.3.1/lib/python3.6/site-packages/boruta/boruta_py.py:418: RuntimeWarning: invalid value encountered in greater\n",
      "  hits = np.where(cur_imp[0] > imp_sha_max)[0]\n",
      "/Users/shohei.mitani/.pyenv/versions/anaconda3-5.3.1/lib/python3.6/site-packages/boruta/boruta_py.py:380: DataConversionWarning: A column-vector y was passed when a 1d array was expected. Please change the shape of y to (n_samples,), for example using ravel().\n",
      "  self.estimator.fit(X, y)\n"
     ]
    },
    {
     "name": "stdout",
     "output_type": "stream",
     "text": [
      "Iteration: \t107 / 500\n",
      "Confirmed: \t19\n",
      "Tentative: \t7\n",
      "Rejected: \t104\n"
     ]
    },
    {
     "name": "stderr",
     "output_type": "stream",
     "text": [
      "/Users/shohei.mitani/.pyenv/versions/anaconda3-5.3.1/lib/python3.6/site-packages/boruta/boruta_py.py:418: RuntimeWarning: invalid value encountered in greater\n",
      "  hits = np.where(cur_imp[0] > imp_sha_max)[0]\n",
      "/Users/shohei.mitani/.pyenv/versions/anaconda3-5.3.1/lib/python3.6/site-packages/boruta/boruta_py.py:380: DataConversionWarning: A column-vector y was passed when a 1d array was expected. Please change the shape of y to (n_samples,), for example using ravel().\n",
      "  self.estimator.fit(X, y)\n"
     ]
    },
    {
     "name": "stdout",
     "output_type": "stream",
     "text": [
      "Iteration: \t108 / 500\n",
      "Confirmed: \t19\n",
      "Tentative: \t7\n",
      "Rejected: \t104\n"
     ]
    },
    {
     "name": "stderr",
     "output_type": "stream",
     "text": [
      "/Users/shohei.mitani/.pyenv/versions/anaconda3-5.3.1/lib/python3.6/site-packages/boruta/boruta_py.py:418: RuntimeWarning: invalid value encountered in greater\n",
      "  hits = np.where(cur_imp[0] > imp_sha_max)[0]\n",
      "/Users/shohei.mitani/.pyenv/versions/anaconda3-5.3.1/lib/python3.6/site-packages/boruta/boruta_py.py:380: DataConversionWarning: A column-vector y was passed when a 1d array was expected. Please change the shape of y to (n_samples,), for example using ravel().\n",
      "  self.estimator.fit(X, y)\n"
     ]
    },
    {
     "name": "stdout",
     "output_type": "stream",
     "text": [
      "Iteration: \t109 / 500\n",
      "Confirmed: \t19\n",
      "Tentative: \t7\n",
      "Rejected: \t104\n"
     ]
    },
    {
     "name": "stderr",
     "output_type": "stream",
     "text": [
      "/Users/shohei.mitani/.pyenv/versions/anaconda3-5.3.1/lib/python3.6/site-packages/boruta/boruta_py.py:418: RuntimeWarning: invalid value encountered in greater\n",
      "  hits = np.where(cur_imp[0] > imp_sha_max)[0]\n",
      "/Users/shohei.mitani/.pyenv/versions/anaconda3-5.3.1/lib/python3.6/site-packages/boruta/boruta_py.py:380: DataConversionWarning: A column-vector y was passed when a 1d array was expected. Please change the shape of y to (n_samples,), for example using ravel().\n",
      "  self.estimator.fit(X, y)\n"
     ]
    },
    {
     "name": "stdout",
     "output_type": "stream",
     "text": [
      "Iteration: \t110 / 500\n",
      "Confirmed: \t19\n",
      "Tentative: \t7\n",
      "Rejected: \t104\n"
     ]
    },
    {
     "name": "stderr",
     "output_type": "stream",
     "text": [
      "/Users/shohei.mitani/.pyenv/versions/anaconda3-5.3.1/lib/python3.6/site-packages/boruta/boruta_py.py:418: RuntimeWarning: invalid value encountered in greater\n",
      "  hits = np.where(cur_imp[0] > imp_sha_max)[0]\n",
      "/Users/shohei.mitani/.pyenv/versions/anaconda3-5.3.1/lib/python3.6/site-packages/boruta/boruta_py.py:380: DataConversionWarning: A column-vector y was passed when a 1d array was expected. Please change the shape of y to (n_samples,), for example using ravel().\n",
      "  self.estimator.fit(X, y)\n"
     ]
    },
    {
     "name": "stdout",
     "output_type": "stream",
     "text": [
      "Iteration: \t111 / 500\n",
      "Confirmed: \t19\n",
      "Tentative: \t7\n",
      "Rejected: \t104\n"
     ]
    },
    {
     "name": "stderr",
     "output_type": "stream",
     "text": [
      "/Users/shohei.mitani/.pyenv/versions/anaconda3-5.3.1/lib/python3.6/site-packages/boruta/boruta_py.py:418: RuntimeWarning: invalid value encountered in greater\n",
      "  hits = np.where(cur_imp[0] > imp_sha_max)[0]\n",
      "/Users/shohei.mitani/.pyenv/versions/anaconda3-5.3.1/lib/python3.6/site-packages/boruta/boruta_py.py:380: DataConversionWarning: A column-vector y was passed when a 1d array was expected. Please change the shape of y to (n_samples,), for example using ravel().\n",
      "  self.estimator.fit(X, y)\n"
     ]
    },
    {
     "name": "stdout",
     "output_type": "stream",
     "text": [
      "Iteration: \t112 / 500\n",
      "Confirmed: \t19\n",
      "Tentative: \t7\n",
      "Rejected: \t104\n"
     ]
    },
    {
     "name": "stderr",
     "output_type": "stream",
     "text": [
      "/Users/shohei.mitani/.pyenv/versions/anaconda3-5.3.1/lib/python3.6/site-packages/boruta/boruta_py.py:418: RuntimeWarning: invalid value encountered in greater\n",
      "  hits = np.where(cur_imp[0] > imp_sha_max)[0]\n",
      "/Users/shohei.mitani/.pyenv/versions/anaconda3-5.3.1/lib/python3.6/site-packages/boruta/boruta_py.py:380: DataConversionWarning: A column-vector y was passed when a 1d array was expected. Please change the shape of y to (n_samples,), for example using ravel().\n",
      "  self.estimator.fit(X, y)\n"
     ]
    },
    {
     "name": "stdout",
     "output_type": "stream",
     "text": [
      "Iteration: \t113 / 500\n",
      "Confirmed: \t19\n",
      "Tentative: \t7\n",
      "Rejected: \t104\n"
     ]
    },
    {
     "name": "stderr",
     "output_type": "stream",
     "text": [
      "/Users/shohei.mitani/.pyenv/versions/anaconda3-5.3.1/lib/python3.6/site-packages/boruta/boruta_py.py:418: RuntimeWarning: invalid value encountered in greater\n",
      "  hits = np.where(cur_imp[0] > imp_sha_max)[0]\n",
      "/Users/shohei.mitani/.pyenv/versions/anaconda3-5.3.1/lib/python3.6/site-packages/boruta/boruta_py.py:380: DataConversionWarning: A column-vector y was passed when a 1d array was expected. Please change the shape of y to (n_samples,), for example using ravel().\n",
      "  self.estimator.fit(X, y)\n"
     ]
    },
    {
     "name": "stdout",
     "output_type": "stream",
     "text": [
      "Iteration: \t114 / 500\n",
      "Confirmed: \t19\n",
      "Tentative: \t7\n",
      "Rejected: \t104\n"
     ]
    },
    {
     "name": "stderr",
     "output_type": "stream",
     "text": [
      "/Users/shohei.mitani/.pyenv/versions/anaconda3-5.3.1/lib/python3.6/site-packages/boruta/boruta_py.py:418: RuntimeWarning: invalid value encountered in greater\n",
      "  hits = np.where(cur_imp[0] > imp_sha_max)[0]\n",
      "/Users/shohei.mitani/.pyenv/versions/anaconda3-5.3.1/lib/python3.6/site-packages/boruta/boruta_py.py:380: DataConversionWarning: A column-vector y was passed when a 1d array was expected. Please change the shape of y to (n_samples,), for example using ravel().\n",
      "  self.estimator.fit(X, y)\n"
     ]
    },
    {
     "name": "stdout",
     "output_type": "stream",
     "text": [
      "Iteration: \t115 / 500\n",
      "Confirmed: \t19\n",
      "Tentative: \t7\n",
      "Rejected: \t104\n"
     ]
    },
    {
     "name": "stderr",
     "output_type": "stream",
     "text": [
      "/Users/shohei.mitani/.pyenv/versions/anaconda3-5.3.1/lib/python3.6/site-packages/boruta/boruta_py.py:418: RuntimeWarning: invalid value encountered in greater\n",
      "  hits = np.where(cur_imp[0] > imp_sha_max)[0]\n",
      "/Users/shohei.mitani/.pyenv/versions/anaconda3-5.3.1/lib/python3.6/site-packages/boruta/boruta_py.py:380: DataConversionWarning: A column-vector y was passed when a 1d array was expected. Please change the shape of y to (n_samples,), for example using ravel().\n",
      "  self.estimator.fit(X, y)\n"
     ]
    },
    {
     "name": "stdout",
     "output_type": "stream",
     "text": [
      "Iteration: \t116 / 500\n",
      "Confirmed: \t19\n",
      "Tentative: \t7\n",
      "Rejected: \t104\n"
     ]
    },
    {
     "name": "stderr",
     "output_type": "stream",
     "text": [
      "/Users/shohei.mitani/.pyenv/versions/anaconda3-5.3.1/lib/python3.6/site-packages/boruta/boruta_py.py:418: RuntimeWarning: invalid value encountered in greater\n",
      "  hits = np.where(cur_imp[0] > imp_sha_max)[0]\n",
      "/Users/shohei.mitani/.pyenv/versions/anaconda3-5.3.1/lib/python3.6/site-packages/boruta/boruta_py.py:380: DataConversionWarning: A column-vector y was passed when a 1d array was expected. Please change the shape of y to (n_samples,), for example using ravel().\n",
      "  self.estimator.fit(X, y)\n"
     ]
    },
    {
     "name": "stdout",
     "output_type": "stream",
     "text": [
      "Iteration: \t117 / 500\n",
      "Confirmed: \t19\n",
      "Tentative: \t7\n",
      "Rejected: \t104\n"
     ]
    },
    {
     "name": "stderr",
     "output_type": "stream",
     "text": [
      "/Users/shohei.mitani/.pyenv/versions/anaconda3-5.3.1/lib/python3.6/site-packages/boruta/boruta_py.py:418: RuntimeWarning: invalid value encountered in greater\n",
      "  hits = np.where(cur_imp[0] > imp_sha_max)[0]\n",
      "/Users/shohei.mitani/.pyenv/versions/anaconda3-5.3.1/lib/python3.6/site-packages/boruta/boruta_py.py:380: DataConversionWarning: A column-vector y was passed when a 1d array was expected. Please change the shape of y to (n_samples,), for example using ravel().\n",
      "  self.estimator.fit(X, y)\n"
     ]
    },
    {
     "name": "stdout",
     "output_type": "stream",
     "text": [
      "Iteration: \t118 / 500\n",
      "Confirmed: \t19\n",
      "Tentative: \t7\n",
      "Rejected: \t104\n"
     ]
    },
    {
     "name": "stderr",
     "output_type": "stream",
     "text": [
      "/Users/shohei.mitani/.pyenv/versions/anaconda3-5.3.1/lib/python3.6/site-packages/boruta/boruta_py.py:418: RuntimeWarning: invalid value encountered in greater\n",
      "  hits = np.where(cur_imp[0] > imp_sha_max)[0]\n",
      "/Users/shohei.mitani/.pyenv/versions/anaconda3-5.3.1/lib/python3.6/site-packages/boruta/boruta_py.py:380: DataConversionWarning: A column-vector y was passed when a 1d array was expected. Please change the shape of y to (n_samples,), for example using ravel().\n",
      "  self.estimator.fit(X, y)\n"
     ]
    },
    {
     "name": "stdout",
     "output_type": "stream",
     "text": [
      "Iteration: \t119 / 500\n",
      "Confirmed: \t19\n",
      "Tentative: \t7\n",
      "Rejected: \t104\n"
     ]
    },
    {
     "name": "stderr",
     "output_type": "stream",
     "text": [
      "/Users/shohei.mitani/.pyenv/versions/anaconda3-5.3.1/lib/python3.6/site-packages/boruta/boruta_py.py:418: RuntimeWarning: invalid value encountered in greater\n",
      "  hits = np.where(cur_imp[0] > imp_sha_max)[0]\n",
      "/Users/shohei.mitani/.pyenv/versions/anaconda3-5.3.1/lib/python3.6/site-packages/boruta/boruta_py.py:380: DataConversionWarning: A column-vector y was passed when a 1d array was expected. Please change the shape of y to (n_samples,), for example using ravel().\n",
      "  self.estimator.fit(X, y)\n"
     ]
    },
    {
     "name": "stdout",
     "output_type": "stream",
     "text": [
      "Iteration: \t120 / 500\n",
      "Confirmed: \t19\n",
      "Tentative: \t7\n",
      "Rejected: \t104\n"
     ]
    },
    {
     "name": "stderr",
     "output_type": "stream",
     "text": [
      "/Users/shohei.mitani/.pyenv/versions/anaconda3-5.3.1/lib/python3.6/site-packages/boruta/boruta_py.py:418: RuntimeWarning: invalid value encountered in greater\n",
      "  hits = np.where(cur_imp[0] > imp_sha_max)[0]\n",
      "/Users/shohei.mitani/.pyenv/versions/anaconda3-5.3.1/lib/python3.6/site-packages/boruta/boruta_py.py:380: DataConversionWarning: A column-vector y was passed when a 1d array was expected. Please change the shape of y to (n_samples,), for example using ravel().\n",
      "  self.estimator.fit(X, y)\n"
     ]
    },
    {
     "name": "stdout",
     "output_type": "stream",
     "text": [
      "Iteration: \t121 / 500\n",
      "Confirmed: \t19\n",
      "Tentative: \t7\n",
      "Rejected: \t104\n"
     ]
    },
    {
     "name": "stderr",
     "output_type": "stream",
     "text": [
      "/Users/shohei.mitani/.pyenv/versions/anaconda3-5.3.1/lib/python3.6/site-packages/boruta/boruta_py.py:418: RuntimeWarning: invalid value encountered in greater\n",
      "  hits = np.where(cur_imp[0] > imp_sha_max)[0]\n",
      "/Users/shohei.mitani/.pyenv/versions/anaconda3-5.3.1/lib/python3.6/site-packages/boruta/boruta_py.py:380: DataConversionWarning: A column-vector y was passed when a 1d array was expected. Please change the shape of y to (n_samples,), for example using ravel().\n",
      "  self.estimator.fit(X, y)\n"
     ]
    },
    {
     "name": "stdout",
     "output_type": "stream",
     "text": [
      "Iteration: \t122 / 500\n",
      "Confirmed: \t19\n",
      "Tentative: \t6\n",
      "Rejected: \t105\n"
     ]
    },
    {
     "name": "stderr",
     "output_type": "stream",
     "text": [
      "/Users/shohei.mitani/.pyenv/versions/anaconda3-5.3.1/lib/python3.6/site-packages/boruta/boruta_py.py:418: RuntimeWarning: invalid value encountered in greater\n",
      "  hits = np.where(cur_imp[0] > imp_sha_max)[0]\n",
      "/Users/shohei.mitani/.pyenv/versions/anaconda3-5.3.1/lib/python3.6/site-packages/boruta/boruta_py.py:380: DataConversionWarning: A column-vector y was passed when a 1d array was expected. Please change the shape of y to (n_samples,), for example using ravel().\n",
      "  self.estimator.fit(X, y)\n"
     ]
    },
    {
     "name": "stdout",
     "output_type": "stream",
     "text": [
      "Iteration: \t123 / 500\n",
      "Confirmed: \t19\n",
      "Tentative: \t6\n",
      "Rejected: \t105\n"
     ]
    },
    {
     "name": "stderr",
     "output_type": "stream",
     "text": [
      "/Users/shohei.mitani/.pyenv/versions/anaconda3-5.3.1/lib/python3.6/site-packages/boruta/boruta_py.py:418: RuntimeWarning: invalid value encountered in greater\n",
      "  hits = np.where(cur_imp[0] > imp_sha_max)[0]\n",
      "/Users/shohei.mitani/.pyenv/versions/anaconda3-5.3.1/lib/python3.6/site-packages/boruta/boruta_py.py:380: DataConversionWarning: A column-vector y was passed when a 1d array was expected. Please change the shape of y to (n_samples,), for example using ravel().\n",
      "  self.estimator.fit(X, y)\n"
     ]
    },
    {
     "name": "stdout",
     "output_type": "stream",
     "text": [
      "Iteration: \t124 / 500\n",
      "Confirmed: \t19\n",
      "Tentative: \t6\n",
      "Rejected: \t105\n"
     ]
    },
    {
     "name": "stderr",
     "output_type": "stream",
     "text": [
      "/Users/shohei.mitani/.pyenv/versions/anaconda3-5.3.1/lib/python3.6/site-packages/boruta/boruta_py.py:418: RuntimeWarning: invalid value encountered in greater\n",
      "  hits = np.where(cur_imp[0] > imp_sha_max)[0]\n",
      "/Users/shohei.mitani/.pyenv/versions/anaconda3-5.3.1/lib/python3.6/site-packages/boruta/boruta_py.py:380: DataConversionWarning: A column-vector y was passed when a 1d array was expected. Please change the shape of y to (n_samples,), for example using ravel().\n",
      "  self.estimator.fit(X, y)\n"
     ]
    },
    {
     "name": "stdout",
     "output_type": "stream",
     "text": [
      "Iteration: \t125 / 500\n",
      "Confirmed: \t19\n",
      "Tentative: \t6\n",
      "Rejected: \t105\n"
     ]
    },
    {
     "name": "stderr",
     "output_type": "stream",
     "text": [
      "/Users/shohei.mitani/.pyenv/versions/anaconda3-5.3.1/lib/python3.6/site-packages/boruta/boruta_py.py:418: RuntimeWarning: invalid value encountered in greater\n",
      "  hits = np.where(cur_imp[0] > imp_sha_max)[0]\n",
      "/Users/shohei.mitani/.pyenv/versions/anaconda3-5.3.1/lib/python3.6/site-packages/boruta/boruta_py.py:380: DataConversionWarning: A column-vector y was passed when a 1d array was expected. Please change the shape of y to (n_samples,), for example using ravel().\n",
      "  self.estimator.fit(X, y)\n"
     ]
    },
    {
     "name": "stdout",
     "output_type": "stream",
     "text": [
      "Iteration: \t126 / 500\n",
      "Confirmed: \t19\n",
      "Tentative: \t6\n",
      "Rejected: \t105\n"
     ]
    },
    {
     "name": "stderr",
     "output_type": "stream",
     "text": [
      "/Users/shohei.mitani/.pyenv/versions/anaconda3-5.3.1/lib/python3.6/site-packages/boruta/boruta_py.py:418: RuntimeWarning: invalid value encountered in greater\n",
      "  hits = np.where(cur_imp[0] > imp_sha_max)[0]\n",
      "/Users/shohei.mitani/.pyenv/versions/anaconda3-5.3.1/lib/python3.6/site-packages/boruta/boruta_py.py:380: DataConversionWarning: A column-vector y was passed when a 1d array was expected. Please change the shape of y to (n_samples,), for example using ravel().\n",
      "  self.estimator.fit(X, y)\n"
     ]
    },
    {
     "name": "stdout",
     "output_type": "stream",
     "text": [
      "Iteration: \t127 / 500\n",
      "Confirmed: \t19\n",
      "Tentative: \t6\n",
      "Rejected: \t105\n"
     ]
    },
    {
     "name": "stderr",
     "output_type": "stream",
     "text": [
      "/Users/shohei.mitani/.pyenv/versions/anaconda3-5.3.1/lib/python3.6/site-packages/boruta/boruta_py.py:418: RuntimeWarning: invalid value encountered in greater\n",
      "  hits = np.where(cur_imp[0] > imp_sha_max)[0]\n",
      "/Users/shohei.mitani/.pyenv/versions/anaconda3-5.3.1/lib/python3.6/site-packages/boruta/boruta_py.py:380: DataConversionWarning: A column-vector y was passed when a 1d array was expected. Please change the shape of y to (n_samples,), for example using ravel().\n",
      "  self.estimator.fit(X, y)\n"
     ]
    },
    {
     "name": "stdout",
     "output_type": "stream",
     "text": [
      "Iteration: \t128 / 500\n",
      "Confirmed: \t19\n",
      "Tentative: \t6\n",
      "Rejected: \t105\n"
     ]
    },
    {
     "name": "stderr",
     "output_type": "stream",
     "text": [
      "/Users/shohei.mitani/.pyenv/versions/anaconda3-5.3.1/lib/python3.6/site-packages/boruta/boruta_py.py:418: RuntimeWarning: invalid value encountered in greater\n",
      "  hits = np.where(cur_imp[0] > imp_sha_max)[0]\n",
      "/Users/shohei.mitani/.pyenv/versions/anaconda3-5.3.1/lib/python3.6/site-packages/boruta/boruta_py.py:380: DataConversionWarning: A column-vector y was passed when a 1d array was expected. Please change the shape of y to (n_samples,), for example using ravel().\n",
      "  self.estimator.fit(X, y)\n"
     ]
    },
    {
     "name": "stdout",
     "output_type": "stream",
     "text": [
      "Iteration: \t129 / 500\n",
      "Confirmed: \t19\n",
      "Tentative: \t6\n",
      "Rejected: \t105\n"
     ]
    },
    {
     "name": "stderr",
     "output_type": "stream",
     "text": [
      "/Users/shohei.mitani/.pyenv/versions/anaconda3-5.3.1/lib/python3.6/site-packages/boruta/boruta_py.py:418: RuntimeWarning: invalid value encountered in greater\n",
      "  hits = np.where(cur_imp[0] > imp_sha_max)[0]\n",
      "/Users/shohei.mitani/.pyenv/versions/anaconda3-5.3.1/lib/python3.6/site-packages/boruta/boruta_py.py:380: DataConversionWarning: A column-vector y was passed when a 1d array was expected. Please change the shape of y to (n_samples,), for example using ravel().\n",
      "  self.estimator.fit(X, y)\n"
     ]
    },
    {
     "name": "stdout",
     "output_type": "stream",
     "text": [
      "Iteration: \t130 / 500\n",
      "Confirmed: \t19\n",
      "Tentative: \t6\n",
      "Rejected: \t105\n"
     ]
    },
    {
     "name": "stderr",
     "output_type": "stream",
     "text": [
      "/Users/shohei.mitani/.pyenv/versions/anaconda3-5.3.1/lib/python3.6/site-packages/boruta/boruta_py.py:418: RuntimeWarning: invalid value encountered in greater\n",
      "  hits = np.where(cur_imp[0] > imp_sha_max)[0]\n",
      "/Users/shohei.mitani/.pyenv/versions/anaconda3-5.3.1/lib/python3.6/site-packages/boruta/boruta_py.py:380: DataConversionWarning: A column-vector y was passed when a 1d array was expected. Please change the shape of y to (n_samples,), for example using ravel().\n",
      "  self.estimator.fit(X, y)\n"
     ]
    },
    {
     "name": "stdout",
     "output_type": "stream",
     "text": [
      "Iteration: \t131 / 500\n",
      "Confirmed: \t19\n",
      "Tentative: \t6\n",
      "Rejected: \t105\n"
     ]
    },
    {
     "name": "stderr",
     "output_type": "stream",
     "text": [
      "/Users/shohei.mitani/.pyenv/versions/anaconda3-5.3.1/lib/python3.6/site-packages/boruta/boruta_py.py:418: RuntimeWarning: invalid value encountered in greater\n",
      "  hits = np.where(cur_imp[0] > imp_sha_max)[0]\n",
      "/Users/shohei.mitani/.pyenv/versions/anaconda3-5.3.1/lib/python3.6/site-packages/boruta/boruta_py.py:380: DataConversionWarning: A column-vector y was passed when a 1d array was expected. Please change the shape of y to (n_samples,), for example using ravel().\n",
      "  self.estimator.fit(X, y)\n"
     ]
    },
    {
     "name": "stdout",
     "output_type": "stream",
     "text": [
      "Iteration: \t132 / 500\n",
      "Confirmed: \t19\n",
      "Tentative: \t6\n",
      "Rejected: \t105\n"
     ]
    },
    {
     "name": "stderr",
     "output_type": "stream",
     "text": [
      "/Users/shohei.mitani/.pyenv/versions/anaconda3-5.3.1/lib/python3.6/site-packages/boruta/boruta_py.py:418: RuntimeWarning: invalid value encountered in greater\n",
      "  hits = np.where(cur_imp[0] > imp_sha_max)[0]\n",
      "/Users/shohei.mitani/.pyenv/versions/anaconda3-5.3.1/lib/python3.6/site-packages/boruta/boruta_py.py:380: DataConversionWarning: A column-vector y was passed when a 1d array was expected. Please change the shape of y to (n_samples,), for example using ravel().\n",
      "  self.estimator.fit(X, y)\n"
     ]
    },
    {
     "name": "stdout",
     "output_type": "stream",
     "text": [
      "Iteration: \t133 / 500\n",
      "Confirmed: \t19\n",
      "Tentative: \t6\n",
      "Rejected: \t105\n"
     ]
    },
    {
     "name": "stderr",
     "output_type": "stream",
     "text": [
      "/Users/shohei.mitani/.pyenv/versions/anaconda3-5.3.1/lib/python3.6/site-packages/boruta/boruta_py.py:418: RuntimeWarning: invalid value encountered in greater\n",
      "  hits = np.where(cur_imp[0] > imp_sha_max)[0]\n",
      "/Users/shohei.mitani/.pyenv/versions/anaconda3-5.3.1/lib/python3.6/site-packages/boruta/boruta_py.py:380: DataConversionWarning: A column-vector y was passed when a 1d array was expected. Please change the shape of y to (n_samples,), for example using ravel().\n",
      "  self.estimator.fit(X, y)\n"
     ]
    },
    {
     "name": "stdout",
     "output_type": "stream",
     "text": [
      "Iteration: \t134 / 500\n",
      "Confirmed: \t19\n",
      "Tentative: \t6\n",
      "Rejected: \t105\n"
     ]
    },
    {
     "name": "stderr",
     "output_type": "stream",
     "text": [
      "/Users/shohei.mitani/.pyenv/versions/anaconda3-5.3.1/lib/python3.6/site-packages/boruta/boruta_py.py:418: RuntimeWarning: invalid value encountered in greater\n",
      "  hits = np.where(cur_imp[0] > imp_sha_max)[0]\n",
      "/Users/shohei.mitani/.pyenv/versions/anaconda3-5.3.1/lib/python3.6/site-packages/boruta/boruta_py.py:380: DataConversionWarning: A column-vector y was passed when a 1d array was expected. Please change the shape of y to (n_samples,), for example using ravel().\n",
      "  self.estimator.fit(X, y)\n"
     ]
    },
    {
     "name": "stdout",
     "output_type": "stream",
     "text": [
      "Iteration: \t135 / 500\n",
      "Confirmed: \t19\n",
      "Tentative: \t6\n",
      "Rejected: \t105\n"
     ]
    },
    {
     "name": "stderr",
     "output_type": "stream",
     "text": [
      "/Users/shohei.mitani/.pyenv/versions/anaconda3-5.3.1/lib/python3.6/site-packages/boruta/boruta_py.py:418: RuntimeWarning: invalid value encountered in greater\n",
      "  hits = np.where(cur_imp[0] > imp_sha_max)[0]\n",
      "/Users/shohei.mitani/.pyenv/versions/anaconda3-5.3.1/lib/python3.6/site-packages/boruta/boruta_py.py:380: DataConversionWarning: A column-vector y was passed when a 1d array was expected. Please change the shape of y to (n_samples,), for example using ravel().\n",
      "  self.estimator.fit(X, y)\n"
     ]
    },
    {
     "name": "stdout",
     "output_type": "stream",
     "text": [
      "Iteration: \t136 / 500\n",
      "Confirmed: \t19\n",
      "Tentative: \t6\n",
      "Rejected: \t105\n"
     ]
    },
    {
     "name": "stderr",
     "output_type": "stream",
     "text": [
      "/Users/shohei.mitani/.pyenv/versions/anaconda3-5.3.1/lib/python3.6/site-packages/boruta/boruta_py.py:418: RuntimeWarning: invalid value encountered in greater\n",
      "  hits = np.where(cur_imp[0] > imp_sha_max)[0]\n",
      "/Users/shohei.mitani/.pyenv/versions/anaconda3-5.3.1/lib/python3.6/site-packages/boruta/boruta_py.py:380: DataConversionWarning: A column-vector y was passed when a 1d array was expected. Please change the shape of y to (n_samples,), for example using ravel().\n",
      "  self.estimator.fit(X, y)\n"
     ]
    },
    {
     "name": "stdout",
     "output_type": "stream",
     "text": [
      "Iteration: \t137 / 500\n",
      "Confirmed: \t19\n",
      "Tentative: \t6\n",
      "Rejected: \t105\n"
     ]
    },
    {
     "name": "stderr",
     "output_type": "stream",
     "text": [
      "/Users/shohei.mitani/.pyenv/versions/anaconda3-5.3.1/lib/python3.6/site-packages/boruta/boruta_py.py:418: RuntimeWarning: invalid value encountered in greater\n",
      "  hits = np.where(cur_imp[0] > imp_sha_max)[0]\n",
      "/Users/shohei.mitani/.pyenv/versions/anaconda3-5.3.1/lib/python3.6/site-packages/boruta/boruta_py.py:380: DataConversionWarning: A column-vector y was passed when a 1d array was expected. Please change the shape of y to (n_samples,), for example using ravel().\n",
      "  self.estimator.fit(X, y)\n"
     ]
    },
    {
     "name": "stdout",
     "output_type": "stream",
     "text": [
      "Iteration: \t138 / 500\n",
      "Confirmed: \t19\n",
      "Tentative: \t6\n",
      "Rejected: \t105\n"
     ]
    },
    {
     "name": "stderr",
     "output_type": "stream",
     "text": [
      "/Users/shohei.mitani/.pyenv/versions/anaconda3-5.3.1/lib/python3.6/site-packages/boruta/boruta_py.py:418: RuntimeWarning: invalid value encountered in greater\n",
      "  hits = np.where(cur_imp[0] > imp_sha_max)[0]\n",
      "/Users/shohei.mitani/.pyenv/versions/anaconda3-5.3.1/lib/python3.6/site-packages/boruta/boruta_py.py:380: DataConversionWarning: A column-vector y was passed when a 1d array was expected. Please change the shape of y to (n_samples,), for example using ravel().\n",
      "  self.estimator.fit(X, y)\n"
     ]
    },
    {
     "name": "stdout",
     "output_type": "stream",
     "text": [
      "Iteration: \t139 / 500\n",
      "Confirmed: \t19\n",
      "Tentative: \t6\n",
      "Rejected: \t105\n"
     ]
    },
    {
     "name": "stderr",
     "output_type": "stream",
     "text": [
      "/Users/shohei.mitani/.pyenv/versions/anaconda3-5.3.1/lib/python3.6/site-packages/boruta/boruta_py.py:418: RuntimeWarning: invalid value encountered in greater\n",
      "  hits = np.where(cur_imp[0] > imp_sha_max)[0]\n",
      "/Users/shohei.mitani/.pyenv/versions/anaconda3-5.3.1/lib/python3.6/site-packages/boruta/boruta_py.py:380: DataConversionWarning: A column-vector y was passed when a 1d array was expected. Please change the shape of y to (n_samples,), for example using ravel().\n",
      "  self.estimator.fit(X, y)\n"
     ]
    },
    {
     "name": "stdout",
     "output_type": "stream",
     "text": [
      "Iteration: \t140 / 500\n",
      "Confirmed: \t19\n",
      "Tentative: \t6\n",
      "Rejected: \t105\n"
     ]
    },
    {
     "name": "stderr",
     "output_type": "stream",
     "text": [
      "/Users/shohei.mitani/.pyenv/versions/anaconda3-5.3.1/lib/python3.6/site-packages/boruta/boruta_py.py:418: RuntimeWarning: invalid value encountered in greater\n",
      "  hits = np.where(cur_imp[0] > imp_sha_max)[0]\n",
      "/Users/shohei.mitani/.pyenv/versions/anaconda3-5.3.1/lib/python3.6/site-packages/boruta/boruta_py.py:380: DataConversionWarning: A column-vector y was passed when a 1d array was expected. Please change the shape of y to (n_samples,), for example using ravel().\n",
      "  self.estimator.fit(X, y)\n"
     ]
    },
    {
     "name": "stdout",
     "output_type": "stream",
     "text": [
      "Iteration: \t141 / 500\n",
      "Confirmed: \t19\n",
      "Tentative: \t6\n",
      "Rejected: \t105\n"
     ]
    },
    {
     "name": "stderr",
     "output_type": "stream",
     "text": [
      "/Users/shohei.mitani/.pyenv/versions/anaconda3-5.3.1/lib/python3.6/site-packages/boruta/boruta_py.py:418: RuntimeWarning: invalid value encountered in greater\n",
      "  hits = np.where(cur_imp[0] > imp_sha_max)[0]\n",
      "/Users/shohei.mitani/.pyenv/versions/anaconda3-5.3.1/lib/python3.6/site-packages/boruta/boruta_py.py:380: DataConversionWarning: A column-vector y was passed when a 1d array was expected. Please change the shape of y to (n_samples,), for example using ravel().\n",
      "  self.estimator.fit(X, y)\n"
     ]
    },
    {
     "name": "stdout",
     "output_type": "stream",
     "text": [
      "Iteration: \t142 / 500\n",
      "Confirmed: \t19\n",
      "Tentative: \t6\n",
      "Rejected: \t105\n"
     ]
    },
    {
     "name": "stderr",
     "output_type": "stream",
     "text": [
      "/Users/shohei.mitani/.pyenv/versions/anaconda3-5.3.1/lib/python3.6/site-packages/boruta/boruta_py.py:418: RuntimeWarning: invalid value encountered in greater\n",
      "  hits = np.where(cur_imp[0] > imp_sha_max)[0]\n",
      "/Users/shohei.mitani/.pyenv/versions/anaconda3-5.3.1/lib/python3.6/site-packages/boruta/boruta_py.py:380: DataConversionWarning: A column-vector y was passed when a 1d array was expected. Please change the shape of y to (n_samples,), for example using ravel().\n",
      "  self.estimator.fit(X, y)\n"
     ]
    },
    {
     "name": "stdout",
     "output_type": "stream",
     "text": [
      "Iteration: \t143 / 500\n",
      "Confirmed: \t19\n",
      "Tentative: \t6\n",
      "Rejected: \t105\n"
     ]
    },
    {
     "name": "stderr",
     "output_type": "stream",
     "text": [
      "/Users/shohei.mitani/.pyenv/versions/anaconda3-5.3.1/lib/python3.6/site-packages/boruta/boruta_py.py:418: RuntimeWarning: invalid value encountered in greater\n",
      "  hits = np.where(cur_imp[0] > imp_sha_max)[0]\n",
      "/Users/shohei.mitani/.pyenv/versions/anaconda3-5.3.1/lib/python3.6/site-packages/boruta/boruta_py.py:380: DataConversionWarning: A column-vector y was passed when a 1d array was expected. Please change the shape of y to (n_samples,), for example using ravel().\n",
      "  self.estimator.fit(X, y)\n"
     ]
    },
    {
     "name": "stdout",
     "output_type": "stream",
     "text": [
      "Iteration: \t144 / 500\n",
      "Confirmed: \t19\n",
      "Tentative: \t6\n",
      "Rejected: \t105\n"
     ]
    },
    {
     "name": "stderr",
     "output_type": "stream",
     "text": [
      "/Users/shohei.mitani/.pyenv/versions/anaconda3-5.3.1/lib/python3.6/site-packages/boruta/boruta_py.py:418: RuntimeWarning: invalid value encountered in greater\n",
      "  hits = np.where(cur_imp[0] > imp_sha_max)[0]\n",
      "/Users/shohei.mitani/.pyenv/versions/anaconda3-5.3.1/lib/python3.6/site-packages/boruta/boruta_py.py:380: DataConversionWarning: A column-vector y was passed when a 1d array was expected. Please change the shape of y to (n_samples,), for example using ravel().\n",
      "  self.estimator.fit(X, y)\n"
     ]
    },
    {
     "name": "stdout",
     "output_type": "stream",
     "text": [
      "Iteration: \t145 / 500\n",
      "Confirmed: \t19\n",
      "Tentative: \t6\n",
      "Rejected: \t105\n"
     ]
    },
    {
     "name": "stderr",
     "output_type": "stream",
     "text": [
      "/Users/shohei.mitani/.pyenv/versions/anaconda3-5.3.1/lib/python3.6/site-packages/boruta/boruta_py.py:418: RuntimeWarning: invalid value encountered in greater\n",
      "  hits = np.where(cur_imp[0] > imp_sha_max)[0]\n",
      "/Users/shohei.mitani/.pyenv/versions/anaconda3-5.3.1/lib/python3.6/site-packages/boruta/boruta_py.py:380: DataConversionWarning: A column-vector y was passed when a 1d array was expected. Please change the shape of y to (n_samples,), for example using ravel().\n",
      "  self.estimator.fit(X, y)\n"
     ]
    },
    {
     "name": "stdout",
     "output_type": "stream",
     "text": [
      "Iteration: \t146 / 500\n",
      "Confirmed: \t19\n",
      "Tentative: \t6\n",
      "Rejected: \t105\n"
     ]
    },
    {
     "name": "stderr",
     "output_type": "stream",
     "text": [
      "/Users/shohei.mitani/.pyenv/versions/anaconda3-5.3.1/lib/python3.6/site-packages/boruta/boruta_py.py:418: RuntimeWarning: invalid value encountered in greater\n",
      "  hits = np.where(cur_imp[0] > imp_sha_max)[0]\n",
      "/Users/shohei.mitani/.pyenv/versions/anaconda3-5.3.1/lib/python3.6/site-packages/boruta/boruta_py.py:380: DataConversionWarning: A column-vector y was passed when a 1d array was expected. Please change the shape of y to (n_samples,), for example using ravel().\n",
      "  self.estimator.fit(X, y)\n"
     ]
    },
    {
     "name": "stdout",
     "output_type": "stream",
     "text": [
      "Iteration: \t147 / 500\n",
      "Confirmed: \t19\n",
      "Tentative: \t6\n",
      "Rejected: \t105\n"
     ]
    },
    {
     "name": "stderr",
     "output_type": "stream",
     "text": [
      "/Users/shohei.mitani/.pyenv/versions/anaconda3-5.3.1/lib/python3.6/site-packages/boruta/boruta_py.py:418: RuntimeWarning: invalid value encountered in greater\n",
      "  hits = np.where(cur_imp[0] > imp_sha_max)[0]\n",
      "/Users/shohei.mitani/.pyenv/versions/anaconda3-5.3.1/lib/python3.6/site-packages/boruta/boruta_py.py:380: DataConversionWarning: A column-vector y was passed when a 1d array was expected. Please change the shape of y to (n_samples,), for example using ravel().\n",
      "  self.estimator.fit(X, y)\n"
     ]
    },
    {
     "name": "stdout",
     "output_type": "stream",
     "text": [
      "Iteration: \t148 / 500\n",
      "Confirmed: \t19\n",
      "Tentative: \t6\n",
      "Rejected: \t105\n"
     ]
    },
    {
     "name": "stderr",
     "output_type": "stream",
     "text": [
      "/Users/shohei.mitani/.pyenv/versions/anaconda3-5.3.1/lib/python3.6/site-packages/boruta/boruta_py.py:418: RuntimeWarning: invalid value encountered in greater\n",
      "  hits = np.where(cur_imp[0] > imp_sha_max)[0]\n",
      "/Users/shohei.mitani/.pyenv/versions/anaconda3-5.3.1/lib/python3.6/site-packages/boruta/boruta_py.py:380: DataConversionWarning: A column-vector y was passed when a 1d array was expected. Please change the shape of y to (n_samples,), for example using ravel().\n",
      "  self.estimator.fit(X, y)\n"
     ]
    },
    {
     "name": "stdout",
     "output_type": "stream",
     "text": [
      "Iteration: \t149 / 500\n",
      "Confirmed: \t19\n",
      "Tentative: \t6\n",
      "Rejected: \t105\n"
     ]
    },
    {
     "name": "stderr",
     "output_type": "stream",
     "text": [
      "/Users/shohei.mitani/.pyenv/versions/anaconda3-5.3.1/lib/python3.6/site-packages/boruta/boruta_py.py:418: RuntimeWarning: invalid value encountered in greater\n",
      "  hits = np.where(cur_imp[0] > imp_sha_max)[0]\n",
      "/Users/shohei.mitani/.pyenv/versions/anaconda3-5.3.1/lib/python3.6/site-packages/boruta/boruta_py.py:380: DataConversionWarning: A column-vector y was passed when a 1d array was expected. Please change the shape of y to (n_samples,), for example using ravel().\n",
      "  self.estimator.fit(X, y)\n"
     ]
    },
    {
     "name": "stdout",
     "output_type": "stream",
     "text": [
      "Iteration: \t150 / 500\n",
      "Confirmed: \t19\n",
      "Tentative: \t6\n",
      "Rejected: \t105\n"
     ]
    },
    {
     "name": "stderr",
     "output_type": "stream",
     "text": [
      "/Users/shohei.mitani/.pyenv/versions/anaconda3-5.3.1/lib/python3.6/site-packages/boruta/boruta_py.py:418: RuntimeWarning: invalid value encountered in greater\n",
      "  hits = np.where(cur_imp[0] > imp_sha_max)[0]\n",
      "/Users/shohei.mitani/.pyenv/versions/anaconda3-5.3.1/lib/python3.6/site-packages/boruta/boruta_py.py:380: DataConversionWarning: A column-vector y was passed when a 1d array was expected. Please change the shape of y to (n_samples,), for example using ravel().\n",
      "  self.estimator.fit(X, y)\n"
     ]
    },
    {
     "name": "stdout",
     "output_type": "stream",
     "text": [
      "Iteration: \t151 / 500\n",
      "Confirmed: \t19\n",
      "Tentative: \t6\n",
      "Rejected: \t105\n"
     ]
    },
    {
     "name": "stderr",
     "output_type": "stream",
     "text": [
      "/Users/shohei.mitani/.pyenv/versions/anaconda3-5.3.1/lib/python3.6/site-packages/boruta/boruta_py.py:418: RuntimeWarning: invalid value encountered in greater\n",
      "  hits = np.where(cur_imp[0] > imp_sha_max)[0]\n",
      "/Users/shohei.mitani/.pyenv/versions/anaconda3-5.3.1/lib/python3.6/site-packages/boruta/boruta_py.py:380: DataConversionWarning: A column-vector y was passed when a 1d array was expected. Please change the shape of y to (n_samples,), for example using ravel().\n",
      "  self.estimator.fit(X, y)\n"
     ]
    },
    {
     "name": "stdout",
     "output_type": "stream",
     "text": [
      "Iteration: \t152 / 500\n",
      "Confirmed: \t19\n",
      "Tentative: \t6\n",
      "Rejected: \t105\n"
     ]
    },
    {
     "name": "stderr",
     "output_type": "stream",
     "text": [
      "/Users/shohei.mitani/.pyenv/versions/anaconda3-5.3.1/lib/python3.6/site-packages/boruta/boruta_py.py:418: RuntimeWarning: invalid value encountered in greater\n",
      "  hits = np.where(cur_imp[0] > imp_sha_max)[0]\n",
      "/Users/shohei.mitani/.pyenv/versions/anaconda3-5.3.1/lib/python3.6/site-packages/boruta/boruta_py.py:380: DataConversionWarning: A column-vector y was passed when a 1d array was expected. Please change the shape of y to (n_samples,), for example using ravel().\n",
      "  self.estimator.fit(X, y)\n"
     ]
    },
    {
     "name": "stdout",
     "output_type": "stream",
     "text": [
      "Iteration: \t153 / 500\n",
      "Confirmed: \t19\n",
      "Tentative: \t6\n",
      "Rejected: \t105\n"
     ]
    },
    {
     "name": "stderr",
     "output_type": "stream",
     "text": [
      "/Users/shohei.mitani/.pyenv/versions/anaconda3-5.3.1/lib/python3.6/site-packages/boruta/boruta_py.py:418: RuntimeWarning: invalid value encountered in greater\n",
      "  hits = np.where(cur_imp[0] > imp_sha_max)[0]\n",
      "/Users/shohei.mitani/.pyenv/versions/anaconda3-5.3.1/lib/python3.6/site-packages/boruta/boruta_py.py:380: DataConversionWarning: A column-vector y was passed when a 1d array was expected. Please change the shape of y to (n_samples,), for example using ravel().\n",
      "  self.estimator.fit(X, y)\n"
     ]
    },
    {
     "name": "stdout",
     "output_type": "stream",
     "text": [
      "Iteration: \t154 / 500\n",
      "Confirmed: \t19\n",
      "Tentative: \t6\n",
      "Rejected: \t105\n"
     ]
    },
    {
     "name": "stderr",
     "output_type": "stream",
     "text": [
      "/Users/shohei.mitani/.pyenv/versions/anaconda3-5.3.1/lib/python3.6/site-packages/boruta/boruta_py.py:418: RuntimeWarning: invalid value encountered in greater\n",
      "  hits = np.where(cur_imp[0] > imp_sha_max)[0]\n",
      "/Users/shohei.mitani/.pyenv/versions/anaconda3-5.3.1/lib/python3.6/site-packages/boruta/boruta_py.py:380: DataConversionWarning: A column-vector y was passed when a 1d array was expected. Please change the shape of y to (n_samples,), for example using ravel().\n",
      "  self.estimator.fit(X, y)\n"
     ]
    },
    {
     "name": "stdout",
     "output_type": "stream",
     "text": [
      "Iteration: \t155 / 500\n",
      "Confirmed: \t19\n",
      "Tentative: \t6\n",
      "Rejected: \t105\n"
     ]
    },
    {
     "name": "stderr",
     "output_type": "stream",
     "text": [
      "/Users/shohei.mitani/.pyenv/versions/anaconda3-5.3.1/lib/python3.6/site-packages/boruta/boruta_py.py:418: RuntimeWarning: invalid value encountered in greater\n",
      "  hits = np.where(cur_imp[0] > imp_sha_max)[0]\n",
      "/Users/shohei.mitani/.pyenv/versions/anaconda3-5.3.1/lib/python3.6/site-packages/boruta/boruta_py.py:380: DataConversionWarning: A column-vector y was passed when a 1d array was expected. Please change the shape of y to (n_samples,), for example using ravel().\n",
      "  self.estimator.fit(X, y)\n"
     ]
    },
    {
     "name": "stdout",
     "output_type": "stream",
     "text": [
      "Iteration: \t156 / 500\n",
      "Confirmed: \t19\n",
      "Tentative: \t6\n",
      "Rejected: \t105\n"
     ]
    },
    {
     "name": "stderr",
     "output_type": "stream",
     "text": [
      "/Users/shohei.mitani/.pyenv/versions/anaconda3-5.3.1/lib/python3.6/site-packages/boruta/boruta_py.py:418: RuntimeWarning: invalid value encountered in greater\n",
      "  hits = np.where(cur_imp[0] > imp_sha_max)[0]\n",
      "/Users/shohei.mitani/.pyenv/versions/anaconda3-5.3.1/lib/python3.6/site-packages/boruta/boruta_py.py:380: DataConversionWarning: A column-vector y was passed when a 1d array was expected. Please change the shape of y to (n_samples,), for example using ravel().\n",
      "  self.estimator.fit(X, y)\n"
     ]
    },
    {
     "name": "stdout",
     "output_type": "stream",
     "text": [
      "Iteration: \t157 / 500\n",
      "Confirmed: \t19\n",
      "Tentative: \t6\n",
      "Rejected: \t105\n"
     ]
    },
    {
     "name": "stderr",
     "output_type": "stream",
     "text": [
      "/Users/shohei.mitani/.pyenv/versions/anaconda3-5.3.1/lib/python3.6/site-packages/boruta/boruta_py.py:418: RuntimeWarning: invalid value encountered in greater\n",
      "  hits = np.where(cur_imp[0] > imp_sha_max)[0]\n",
      "/Users/shohei.mitani/.pyenv/versions/anaconda3-5.3.1/lib/python3.6/site-packages/boruta/boruta_py.py:380: DataConversionWarning: A column-vector y was passed when a 1d array was expected. Please change the shape of y to (n_samples,), for example using ravel().\n",
      "  self.estimator.fit(X, y)\n"
     ]
    },
    {
     "name": "stdout",
     "output_type": "stream",
     "text": [
      "Iteration: \t158 / 500\n",
      "Confirmed: \t19\n",
      "Tentative: \t6\n",
      "Rejected: \t105\n"
     ]
    },
    {
     "name": "stderr",
     "output_type": "stream",
     "text": [
      "/Users/shohei.mitani/.pyenv/versions/anaconda3-5.3.1/lib/python3.6/site-packages/boruta/boruta_py.py:418: RuntimeWarning: invalid value encountered in greater\n",
      "  hits = np.where(cur_imp[0] > imp_sha_max)[0]\n",
      "/Users/shohei.mitani/.pyenv/versions/anaconda3-5.3.1/lib/python3.6/site-packages/boruta/boruta_py.py:380: DataConversionWarning: A column-vector y was passed when a 1d array was expected. Please change the shape of y to (n_samples,), for example using ravel().\n",
      "  self.estimator.fit(X, y)\n"
     ]
    },
    {
     "name": "stdout",
     "output_type": "stream",
     "text": [
      "Iteration: \t159 / 500\n",
      "Confirmed: \t19\n",
      "Tentative: \t6\n",
      "Rejected: \t105\n"
     ]
    },
    {
     "name": "stderr",
     "output_type": "stream",
     "text": [
      "/Users/shohei.mitani/.pyenv/versions/anaconda3-5.3.1/lib/python3.6/site-packages/boruta/boruta_py.py:418: RuntimeWarning: invalid value encountered in greater\n",
      "  hits = np.where(cur_imp[0] > imp_sha_max)[0]\n",
      "/Users/shohei.mitani/.pyenv/versions/anaconda3-5.3.1/lib/python3.6/site-packages/boruta/boruta_py.py:380: DataConversionWarning: A column-vector y was passed when a 1d array was expected. Please change the shape of y to (n_samples,), for example using ravel().\n",
      "  self.estimator.fit(X, y)\n"
     ]
    },
    {
     "name": "stdout",
     "output_type": "stream",
     "text": [
      "Iteration: \t160 / 500\n",
      "Confirmed: \t19\n",
      "Tentative: \t6\n",
      "Rejected: \t105\n"
     ]
    },
    {
     "name": "stderr",
     "output_type": "stream",
     "text": [
      "/Users/shohei.mitani/.pyenv/versions/anaconda3-5.3.1/lib/python3.6/site-packages/boruta/boruta_py.py:418: RuntimeWarning: invalid value encountered in greater\n",
      "  hits = np.where(cur_imp[0] > imp_sha_max)[0]\n",
      "/Users/shohei.mitani/.pyenv/versions/anaconda3-5.3.1/lib/python3.6/site-packages/boruta/boruta_py.py:380: DataConversionWarning: A column-vector y was passed when a 1d array was expected. Please change the shape of y to (n_samples,), for example using ravel().\n",
      "  self.estimator.fit(X, y)\n"
     ]
    },
    {
     "name": "stdout",
     "output_type": "stream",
     "text": [
      "Iteration: \t161 / 500\n",
      "Confirmed: \t19\n",
      "Tentative: \t6\n",
      "Rejected: \t105\n"
     ]
    },
    {
     "name": "stderr",
     "output_type": "stream",
     "text": [
      "/Users/shohei.mitani/.pyenv/versions/anaconda3-5.3.1/lib/python3.6/site-packages/boruta/boruta_py.py:418: RuntimeWarning: invalid value encountered in greater\n",
      "  hits = np.where(cur_imp[0] > imp_sha_max)[0]\n",
      "/Users/shohei.mitani/.pyenv/versions/anaconda3-5.3.1/lib/python3.6/site-packages/boruta/boruta_py.py:380: DataConversionWarning: A column-vector y was passed when a 1d array was expected. Please change the shape of y to (n_samples,), for example using ravel().\n",
      "  self.estimator.fit(X, y)\n"
     ]
    },
    {
     "name": "stdout",
     "output_type": "stream",
     "text": [
      "Iteration: \t162 / 500\n",
      "Confirmed: \t19\n",
      "Tentative: \t6\n",
      "Rejected: \t105\n"
     ]
    },
    {
     "name": "stderr",
     "output_type": "stream",
     "text": [
      "/Users/shohei.mitani/.pyenv/versions/anaconda3-5.3.1/lib/python3.6/site-packages/boruta/boruta_py.py:418: RuntimeWarning: invalid value encountered in greater\n",
      "  hits = np.where(cur_imp[0] > imp_sha_max)[0]\n",
      "/Users/shohei.mitani/.pyenv/versions/anaconda3-5.3.1/lib/python3.6/site-packages/boruta/boruta_py.py:380: DataConversionWarning: A column-vector y was passed when a 1d array was expected. Please change the shape of y to (n_samples,), for example using ravel().\n",
      "  self.estimator.fit(X, y)\n"
     ]
    },
    {
     "name": "stdout",
     "output_type": "stream",
     "text": [
      "Iteration: \t163 / 500\n",
      "Confirmed: \t19\n",
      "Tentative: \t6\n",
      "Rejected: \t105\n"
     ]
    },
    {
     "name": "stderr",
     "output_type": "stream",
     "text": [
      "/Users/shohei.mitani/.pyenv/versions/anaconda3-5.3.1/lib/python3.6/site-packages/boruta/boruta_py.py:418: RuntimeWarning: invalid value encountered in greater\n",
      "  hits = np.where(cur_imp[0] > imp_sha_max)[0]\n",
      "/Users/shohei.mitani/.pyenv/versions/anaconda3-5.3.1/lib/python3.6/site-packages/boruta/boruta_py.py:380: DataConversionWarning: A column-vector y was passed when a 1d array was expected. Please change the shape of y to (n_samples,), for example using ravel().\n",
      "  self.estimator.fit(X, y)\n"
     ]
    },
    {
     "name": "stdout",
     "output_type": "stream",
     "text": [
      "Iteration: \t164 / 500\n",
      "Confirmed: \t19\n",
      "Tentative: \t6\n",
      "Rejected: \t105\n"
     ]
    },
    {
     "name": "stderr",
     "output_type": "stream",
     "text": [
      "/Users/shohei.mitani/.pyenv/versions/anaconda3-5.3.1/lib/python3.6/site-packages/boruta/boruta_py.py:418: RuntimeWarning: invalid value encountered in greater\n",
      "  hits = np.where(cur_imp[0] > imp_sha_max)[0]\n",
      "/Users/shohei.mitani/.pyenv/versions/anaconda3-5.3.1/lib/python3.6/site-packages/boruta/boruta_py.py:380: DataConversionWarning: A column-vector y was passed when a 1d array was expected. Please change the shape of y to (n_samples,), for example using ravel().\n",
      "  self.estimator.fit(X, y)\n"
     ]
    },
    {
     "name": "stdout",
     "output_type": "stream",
     "text": [
      "Iteration: \t165 / 500\n",
      "Confirmed: \t19\n",
      "Tentative: \t6\n",
      "Rejected: \t105\n"
     ]
    },
    {
     "name": "stderr",
     "output_type": "stream",
     "text": [
      "/Users/shohei.mitani/.pyenv/versions/anaconda3-5.3.1/lib/python3.6/site-packages/boruta/boruta_py.py:418: RuntimeWarning: invalid value encountered in greater\n",
      "  hits = np.where(cur_imp[0] > imp_sha_max)[0]\n",
      "/Users/shohei.mitani/.pyenv/versions/anaconda3-5.3.1/lib/python3.6/site-packages/boruta/boruta_py.py:380: DataConversionWarning: A column-vector y was passed when a 1d array was expected. Please change the shape of y to (n_samples,), for example using ravel().\n",
      "  self.estimator.fit(X, y)\n"
     ]
    },
    {
     "name": "stdout",
     "output_type": "stream",
     "text": [
      "Iteration: \t166 / 500\n",
      "Confirmed: \t19\n",
      "Tentative: \t6\n",
      "Rejected: \t105\n"
     ]
    },
    {
     "name": "stderr",
     "output_type": "stream",
     "text": [
      "/Users/shohei.mitani/.pyenv/versions/anaconda3-5.3.1/lib/python3.6/site-packages/boruta/boruta_py.py:418: RuntimeWarning: invalid value encountered in greater\n",
      "  hits = np.where(cur_imp[0] > imp_sha_max)[0]\n",
      "/Users/shohei.mitani/.pyenv/versions/anaconda3-5.3.1/lib/python3.6/site-packages/boruta/boruta_py.py:380: DataConversionWarning: A column-vector y was passed when a 1d array was expected. Please change the shape of y to (n_samples,), for example using ravel().\n",
      "  self.estimator.fit(X, y)\n"
     ]
    },
    {
     "name": "stdout",
     "output_type": "stream",
     "text": [
      "Iteration: \t167 / 500\n",
      "Confirmed: \t19\n",
      "Tentative: \t6\n",
      "Rejected: \t105\n"
     ]
    },
    {
     "name": "stderr",
     "output_type": "stream",
     "text": [
      "/Users/shohei.mitani/.pyenv/versions/anaconda3-5.3.1/lib/python3.6/site-packages/boruta/boruta_py.py:418: RuntimeWarning: invalid value encountered in greater\n",
      "  hits = np.where(cur_imp[0] > imp_sha_max)[0]\n",
      "/Users/shohei.mitani/.pyenv/versions/anaconda3-5.3.1/lib/python3.6/site-packages/boruta/boruta_py.py:380: DataConversionWarning: A column-vector y was passed when a 1d array was expected. Please change the shape of y to (n_samples,), for example using ravel().\n",
      "  self.estimator.fit(X, y)\n"
     ]
    },
    {
     "name": "stdout",
     "output_type": "stream",
     "text": [
      "Iteration: \t168 / 500\n",
      "Confirmed: \t19\n",
      "Tentative: \t6\n",
      "Rejected: \t105\n"
     ]
    },
    {
     "name": "stderr",
     "output_type": "stream",
     "text": [
      "/Users/shohei.mitani/.pyenv/versions/anaconda3-5.3.1/lib/python3.6/site-packages/boruta/boruta_py.py:418: RuntimeWarning: invalid value encountered in greater\n",
      "  hits = np.where(cur_imp[0] > imp_sha_max)[0]\n",
      "/Users/shohei.mitani/.pyenv/versions/anaconda3-5.3.1/lib/python3.6/site-packages/boruta/boruta_py.py:380: DataConversionWarning: A column-vector y was passed when a 1d array was expected. Please change the shape of y to (n_samples,), for example using ravel().\n",
      "  self.estimator.fit(X, y)\n"
     ]
    },
    {
     "name": "stdout",
     "output_type": "stream",
     "text": [
      "Iteration: \t169 / 500\n",
      "Confirmed: \t19\n",
      "Tentative: \t6\n",
      "Rejected: \t105\n"
     ]
    },
    {
     "name": "stderr",
     "output_type": "stream",
     "text": [
      "/Users/shohei.mitani/.pyenv/versions/anaconda3-5.3.1/lib/python3.6/site-packages/boruta/boruta_py.py:418: RuntimeWarning: invalid value encountered in greater\n",
      "  hits = np.where(cur_imp[0] > imp_sha_max)[0]\n",
      "/Users/shohei.mitani/.pyenv/versions/anaconda3-5.3.1/lib/python3.6/site-packages/boruta/boruta_py.py:380: DataConversionWarning: A column-vector y was passed when a 1d array was expected. Please change the shape of y to (n_samples,), for example using ravel().\n",
      "  self.estimator.fit(X, y)\n"
     ]
    },
    {
     "name": "stdout",
     "output_type": "stream",
     "text": [
      "Iteration: \t170 / 500\n",
      "Confirmed: \t19\n",
      "Tentative: \t6\n",
      "Rejected: \t105\n"
     ]
    },
    {
     "name": "stderr",
     "output_type": "stream",
     "text": [
      "/Users/shohei.mitani/.pyenv/versions/anaconda3-5.3.1/lib/python3.6/site-packages/boruta/boruta_py.py:418: RuntimeWarning: invalid value encountered in greater\n",
      "  hits = np.where(cur_imp[0] > imp_sha_max)[0]\n",
      "/Users/shohei.mitani/.pyenv/versions/anaconda3-5.3.1/lib/python3.6/site-packages/boruta/boruta_py.py:380: DataConversionWarning: A column-vector y was passed when a 1d array was expected. Please change the shape of y to (n_samples,), for example using ravel().\n",
      "  self.estimator.fit(X, y)\n"
     ]
    },
    {
     "name": "stdout",
     "output_type": "stream",
     "text": [
      "Iteration: \t171 / 500\n",
      "Confirmed: \t19\n",
      "Tentative: \t6\n",
      "Rejected: \t105\n"
     ]
    },
    {
     "name": "stderr",
     "output_type": "stream",
     "text": [
      "/Users/shohei.mitani/.pyenv/versions/anaconda3-5.3.1/lib/python3.6/site-packages/boruta/boruta_py.py:418: RuntimeWarning: invalid value encountered in greater\n",
      "  hits = np.where(cur_imp[0] > imp_sha_max)[0]\n",
      "/Users/shohei.mitani/.pyenv/versions/anaconda3-5.3.1/lib/python3.6/site-packages/boruta/boruta_py.py:380: DataConversionWarning: A column-vector y was passed when a 1d array was expected. Please change the shape of y to (n_samples,), for example using ravel().\n",
      "  self.estimator.fit(X, y)\n"
     ]
    },
    {
     "name": "stdout",
     "output_type": "stream",
     "text": [
      "Iteration: \t172 / 500\n",
      "Confirmed: \t19\n",
      "Tentative: \t6\n",
      "Rejected: \t105\n"
     ]
    },
    {
     "name": "stderr",
     "output_type": "stream",
     "text": [
      "/Users/shohei.mitani/.pyenv/versions/anaconda3-5.3.1/lib/python3.6/site-packages/boruta/boruta_py.py:418: RuntimeWarning: invalid value encountered in greater\n",
      "  hits = np.where(cur_imp[0] > imp_sha_max)[0]\n",
      "/Users/shohei.mitani/.pyenv/versions/anaconda3-5.3.1/lib/python3.6/site-packages/boruta/boruta_py.py:380: DataConversionWarning: A column-vector y was passed when a 1d array was expected. Please change the shape of y to (n_samples,), for example using ravel().\n",
      "  self.estimator.fit(X, y)\n"
     ]
    },
    {
     "name": "stdout",
     "output_type": "stream",
     "text": [
      "Iteration: \t173 / 500\n",
      "Confirmed: \t19\n",
      "Tentative: \t6\n",
      "Rejected: \t105\n"
     ]
    },
    {
     "name": "stderr",
     "output_type": "stream",
     "text": [
      "/Users/shohei.mitani/.pyenv/versions/anaconda3-5.3.1/lib/python3.6/site-packages/boruta/boruta_py.py:418: RuntimeWarning: invalid value encountered in greater\n",
      "  hits = np.where(cur_imp[0] > imp_sha_max)[0]\n",
      "/Users/shohei.mitani/.pyenv/versions/anaconda3-5.3.1/lib/python3.6/site-packages/boruta/boruta_py.py:380: DataConversionWarning: A column-vector y was passed when a 1d array was expected. Please change the shape of y to (n_samples,), for example using ravel().\n",
      "  self.estimator.fit(X, y)\n"
     ]
    },
    {
     "name": "stdout",
     "output_type": "stream",
     "text": [
      "Iteration: \t174 / 500\n",
      "Confirmed: \t19\n",
      "Tentative: \t6\n",
      "Rejected: \t105\n"
     ]
    },
    {
     "name": "stderr",
     "output_type": "stream",
     "text": [
      "/Users/shohei.mitani/.pyenv/versions/anaconda3-5.3.1/lib/python3.6/site-packages/boruta/boruta_py.py:418: RuntimeWarning: invalid value encountered in greater\n",
      "  hits = np.where(cur_imp[0] > imp_sha_max)[0]\n",
      "/Users/shohei.mitani/.pyenv/versions/anaconda3-5.3.1/lib/python3.6/site-packages/boruta/boruta_py.py:380: DataConversionWarning: A column-vector y was passed when a 1d array was expected. Please change the shape of y to (n_samples,), for example using ravel().\n",
      "  self.estimator.fit(X, y)\n"
     ]
    },
    {
     "name": "stdout",
     "output_type": "stream",
     "text": [
      "Iteration: \t175 / 500\n",
      "Confirmed: \t19\n",
      "Tentative: \t6\n",
      "Rejected: \t105\n"
     ]
    },
    {
     "name": "stderr",
     "output_type": "stream",
     "text": [
      "/Users/shohei.mitani/.pyenv/versions/anaconda3-5.3.1/lib/python3.6/site-packages/boruta/boruta_py.py:418: RuntimeWarning: invalid value encountered in greater\n",
      "  hits = np.where(cur_imp[0] > imp_sha_max)[0]\n",
      "/Users/shohei.mitani/.pyenv/versions/anaconda3-5.3.1/lib/python3.6/site-packages/boruta/boruta_py.py:380: DataConversionWarning: A column-vector y was passed when a 1d array was expected. Please change the shape of y to (n_samples,), for example using ravel().\n",
      "  self.estimator.fit(X, y)\n"
     ]
    },
    {
     "name": "stdout",
     "output_type": "stream",
     "text": [
      "Iteration: \t176 / 500\n",
      "Confirmed: \t19\n",
      "Tentative: \t6\n",
      "Rejected: \t105\n"
     ]
    },
    {
     "name": "stderr",
     "output_type": "stream",
     "text": [
      "/Users/shohei.mitani/.pyenv/versions/anaconda3-5.3.1/lib/python3.6/site-packages/boruta/boruta_py.py:418: RuntimeWarning: invalid value encountered in greater\n",
      "  hits = np.where(cur_imp[0] > imp_sha_max)[0]\n",
      "/Users/shohei.mitani/.pyenv/versions/anaconda3-5.3.1/lib/python3.6/site-packages/boruta/boruta_py.py:380: DataConversionWarning: A column-vector y was passed when a 1d array was expected. Please change the shape of y to (n_samples,), for example using ravel().\n",
      "  self.estimator.fit(X, y)\n"
     ]
    },
    {
     "name": "stdout",
     "output_type": "stream",
     "text": [
      "Iteration: \t177 / 500\n",
      "Confirmed: \t19\n",
      "Tentative: \t6\n",
      "Rejected: \t105\n"
     ]
    },
    {
     "name": "stderr",
     "output_type": "stream",
     "text": [
      "/Users/shohei.mitani/.pyenv/versions/anaconda3-5.3.1/lib/python3.6/site-packages/boruta/boruta_py.py:418: RuntimeWarning: invalid value encountered in greater\n",
      "  hits = np.where(cur_imp[0] > imp_sha_max)[0]\n",
      "/Users/shohei.mitani/.pyenv/versions/anaconda3-5.3.1/lib/python3.6/site-packages/boruta/boruta_py.py:380: DataConversionWarning: A column-vector y was passed when a 1d array was expected. Please change the shape of y to (n_samples,), for example using ravel().\n",
      "  self.estimator.fit(X, y)\n"
     ]
    },
    {
     "name": "stdout",
     "output_type": "stream",
     "text": [
      "Iteration: \t178 / 500\n",
      "Confirmed: \t19\n",
      "Tentative: \t6\n",
      "Rejected: \t105\n"
     ]
    },
    {
     "name": "stderr",
     "output_type": "stream",
     "text": [
      "/Users/shohei.mitani/.pyenv/versions/anaconda3-5.3.1/lib/python3.6/site-packages/boruta/boruta_py.py:418: RuntimeWarning: invalid value encountered in greater\n",
      "  hits = np.where(cur_imp[0] > imp_sha_max)[0]\n",
      "/Users/shohei.mitani/.pyenv/versions/anaconda3-5.3.1/lib/python3.6/site-packages/boruta/boruta_py.py:380: DataConversionWarning: A column-vector y was passed when a 1d array was expected. Please change the shape of y to (n_samples,), for example using ravel().\n",
      "  self.estimator.fit(X, y)\n"
     ]
    },
    {
     "name": "stdout",
     "output_type": "stream",
     "text": [
      "Iteration: \t179 / 500\n",
      "Confirmed: \t19\n",
      "Tentative: \t6\n",
      "Rejected: \t105\n"
     ]
    },
    {
     "name": "stderr",
     "output_type": "stream",
     "text": [
      "/Users/shohei.mitani/.pyenv/versions/anaconda3-5.3.1/lib/python3.6/site-packages/boruta/boruta_py.py:418: RuntimeWarning: invalid value encountered in greater\n",
      "  hits = np.where(cur_imp[0] > imp_sha_max)[0]\n",
      "/Users/shohei.mitani/.pyenv/versions/anaconda3-5.3.1/lib/python3.6/site-packages/boruta/boruta_py.py:380: DataConversionWarning: A column-vector y was passed when a 1d array was expected. Please change the shape of y to (n_samples,), for example using ravel().\n",
      "  self.estimator.fit(X, y)\n"
     ]
    },
    {
     "name": "stdout",
     "output_type": "stream",
     "text": [
      "Iteration: \t180 / 500\n",
      "Confirmed: \t19\n",
      "Tentative: \t6\n",
      "Rejected: \t105\n"
     ]
    },
    {
     "name": "stderr",
     "output_type": "stream",
     "text": [
      "/Users/shohei.mitani/.pyenv/versions/anaconda3-5.3.1/lib/python3.6/site-packages/boruta/boruta_py.py:418: RuntimeWarning: invalid value encountered in greater\n",
      "  hits = np.where(cur_imp[0] > imp_sha_max)[0]\n",
      "/Users/shohei.mitani/.pyenv/versions/anaconda3-5.3.1/lib/python3.6/site-packages/boruta/boruta_py.py:380: DataConversionWarning: A column-vector y was passed when a 1d array was expected. Please change the shape of y to (n_samples,), for example using ravel().\n",
      "  self.estimator.fit(X, y)\n"
     ]
    },
    {
     "name": "stdout",
     "output_type": "stream",
     "text": [
      "Iteration: \t181 / 500\n",
      "Confirmed: \t19\n",
      "Tentative: \t6\n",
      "Rejected: \t105\n"
     ]
    },
    {
     "name": "stderr",
     "output_type": "stream",
     "text": [
      "/Users/shohei.mitani/.pyenv/versions/anaconda3-5.3.1/lib/python3.6/site-packages/boruta/boruta_py.py:418: RuntimeWarning: invalid value encountered in greater\n",
      "  hits = np.where(cur_imp[0] > imp_sha_max)[0]\n",
      "/Users/shohei.mitani/.pyenv/versions/anaconda3-5.3.1/lib/python3.6/site-packages/boruta/boruta_py.py:380: DataConversionWarning: A column-vector y was passed when a 1d array was expected. Please change the shape of y to (n_samples,), for example using ravel().\n",
      "  self.estimator.fit(X, y)\n"
     ]
    },
    {
     "name": "stdout",
     "output_type": "stream",
     "text": [
      "Iteration: \t182 / 500\n",
      "Confirmed: \t19\n",
      "Tentative: \t6\n",
      "Rejected: \t105\n"
     ]
    },
    {
     "name": "stderr",
     "output_type": "stream",
     "text": [
      "/Users/shohei.mitani/.pyenv/versions/anaconda3-5.3.1/lib/python3.6/site-packages/boruta/boruta_py.py:418: RuntimeWarning: invalid value encountered in greater\n",
      "  hits = np.where(cur_imp[0] > imp_sha_max)[0]\n",
      "/Users/shohei.mitani/.pyenv/versions/anaconda3-5.3.1/lib/python3.6/site-packages/boruta/boruta_py.py:380: DataConversionWarning: A column-vector y was passed when a 1d array was expected. Please change the shape of y to (n_samples,), for example using ravel().\n",
      "  self.estimator.fit(X, y)\n"
     ]
    },
    {
     "name": "stdout",
     "output_type": "stream",
     "text": [
      "Iteration: \t183 / 500\n",
      "Confirmed: \t19\n",
      "Tentative: \t6\n",
      "Rejected: \t105\n"
     ]
    },
    {
     "name": "stderr",
     "output_type": "stream",
     "text": [
      "/Users/shohei.mitani/.pyenv/versions/anaconda3-5.3.1/lib/python3.6/site-packages/boruta/boruta_py.py:418: RuntimeWarning: invalid value encountered in greater\n",
      "  hits = np.where(cur_imp[0] > imp_sha_max)[0]\n",
      "/Users/shohei.mitani/.pyenv/versions/anaconda3-5.3.1/lib/python3.6/site-packages/boruta/boruta_py.py:380: DataConversionWarning: A column-vector y was passed when a 1d array was expected. Please change the shape of y to (n_samples,), for example using ravel().\n",
      "  self.estimator.fit(X, y)\n"
     ]
    },
    {
     "name": "stdout",
     "output_type": "stream",
     "text": [
      "Iteration: \t184 / 500\n",
      "Confirmed: \t19\n",
      "Tentative: \t6\n",
      "Rejected: \t105\n"
     ]
    },
    {
     "name": "stderr",
     "output_type": "stream",
     "text": [
      "/Users/shohei.mitani/.pyenv/versions/anaconda3-5.3.1/lib/python3.6/site-packages/boruta/boruta_py.py:418: RuntimeWarning: invalid value encountered in greater\n",
      "  hits = np.where(cur_imp[0] > imp_sha_max)[0]\n",
      "/Users/shohei.mitani/.pyenv/versions/anaconda3-5.3.1/lib/python3.6/site-packages/boruta/boruta_py.py:380: DataConversionWarning: A column-vector y was passed when a 1d array was expected. Please change the shape of y to (n_samples,), for example using ravel().\n",
      "  self.estimator.fit(X, y)\n"
     ]
    },
    {
     "name": "stdout",
     "output_type": "stream",
     "text": [
      "Iteration: \t185 / 500\n",
      "Confirmed: \t19\n",
      "Tentative: \t6\n",
      "Rejected: \t105\n"
     ]
    },
    {
     "name": "stderr",
     "output_type": "stream",
     "text": [
      "/Users/shohei.mitani/.pyenv/versions/anaconda3-5.3.1/lib/python3.6/site-packages/boruta/boruta_py.py:418: RuntimeWarning: invalid value encountered in greater\n",
      "  hits = np.where(cur_imp[0] > imp_sha_max)[0]\n",
      "/Users/shohei.mitani/.pyenv/versions/anaconda3-5.3.1/lib/python3.6/site-packages/boruta/boruta_py.py:380: DataConversionWarning: A column-vector y was passed when a 1d array was expected. Please change the shape of y to (n_samples,), for example using ravel().\n",
      "  self.estimator.fit(X, y)\n"
     ]
    },
    {
     "name": "stdout",
     "output_type": "stream",
     "text": [
      "Iteration: \t186 / 500\n",
      "Confirmed: \t19\n",
      "Tentative: \t6\n",
      "Rejected: \t105\n"
     ]
    },
    {
     "name": "stderr",
     "output_type": "stream",
     "text": [
      "/Users/shohei.mitani/.pyenv/versions/anaconda3-5.3.1/lib/python3.6/site-packages/boruta/boruta_py.py:418: RuntimeWarning: invalid value encountered in greater\n",
      "  hits = np.where(cur_imp[0] > imp_sha_max)[0]\n",
      "/Users/shohei.mitani/.pyenv/versions/anaconda3-5.3.1/lib/python3.6/site-packages/boruta/boruta_py.py:380: DataConversionWarning: A column-vector y was passed when a 1d array was expected. Please change the shape of y to (n_samples,), for example using ravel().\n",
      "  self.estimator.fit(X, y)\n"
     ]
    },
    {
     "name": "stdout",
     "output_type": "stream",
     "text": [
      "Iteration: \t187 / 500\n",
      "Confirmed: \t19\n",
      "Tentative: \t6\n",
      "Rejected: \t105\n"
     ]
    },
    {
     "name": "stderr",
     "output_type": "stream",
     "text": [
      "/Users/shohei.mitani/.pyenv/versions/anaconda3-5.3.1/lib/python3.6/site-packages/boruta/boruta_py.py:418: RuntimeWarning: invalid value encountered in greater\n",
      "  hits = np.where(cur_imp[0] > imp_sha_max)[0]\n",
      "/Users/shohei.mitani/.pyenv/versions/anaconda3-5.3.1/lib/python3.6/site-packages/boruta/boruta_py.py:380: DataConversionWarning: A column-vector y was passed when a 1d array was expected. Please change the shape of y to (n_samples,), for example using ravel().\n",
      "  self.estimator.fit(X, y)\n"
     ]
    },
    {
     "name": "stdout",
     "output_type": "stream",
     "text": [
      "Iteration: \t188 / 500\n",
      "Confirmed: \t19\n",
      "Tentative: \t6\n",
      "Rejected: \t105\n"
     ]
    },
    {
     "name": "stderr",
     "output_type": "stream",
     "text": [
      "/Users/shohei.mitani/.pyenv/versions/anaconda3-5.3.1/lib/python3.6/site-packages/boruta/boruta_py.py:418: RuntimeWarning: invalid value encountered in greater\n",
      "  hits = np.where(cur_imp[0] > imp_sha_max)[0]\n",
      "/Users/shohei.mitani/.pyenv/versions/anaconda3-5.3.1/lib/python3.6/site-packages/boruta/boruta_py.py:380: DataConversionWarning: A column-vector y was passed when a 1d array was expected. Please change the shape of y to (n_samples,), for example using ravel().\n",
      "  self.estimator.fit(X, y)\n"
     ]
    },
    {
     "name": "stdout",
     "output_type": "stream",
     "text": [
      "Iteration: \t189 / 500\n",
      "Confirmed: \t19\n",
      "Tentative: \t6\n",
      "Rejected: \t105\n"
     ]
    },
    {
     "name": "stderr",
     "output_type": "stream",
     "text": [
      "/Users/shohei.mitani/.pyenv/versions/anaconda3-5.3.1/lib/python3.6/site-packages/boruta/boruta_py.py:418: RuntimeWarning: invalid value encountered in greater\n",
      "  hits = np.where(cur_imp[0] > imp_sha_max)[0]\n",
      "/Users/shohei.mitani/.pyenv/versions/anaconda3-5.3.1/lib/python3.6/site-packages/boruta/boruta_py.py:380: DataConversionWarning: A column-vector y was passed when a 1d array was expected. Please change the shape of y to (n_samples,), for example using ravel().\n",
      "  self.estimator.fit(X, y)\n"
     ]
    },
    {
     "name": "stdout",
     "output_type": "stream",
     "text": [
      "Iteration: \t190 / 500\n",
      "Confirmed: \t19\n",
      "Tentative: \t6\n",
      "Rejected: \t105\n"
     ]
    },
    {
     "name": "stderr",
     "output_type": "stream",
     "text": [
      "/Users/shohei.mitani/.pyenv/versions/anaconda3-5.3.1/lib/python3.6/site-packages/boruta/boruta_py.py:418: RuntimeWarning: invalid value encountered in greater\n",
      "  hits = np.where(cur_imp[0] > imp_sha_max)[0]\n",
      "/Users/shohei.mitani/.pyenv/versions/anaconda3-5.3.1/lib/python3.6/site-packages/boruta/boruta_py.py:380: DataConversionWarning: A column-vector y was passed when a 1d array was expected. Please change the shape of y to (n_samples,), for example using ravel().\n",
      "  self.estimator.fit(X, y)\n"
     ]
    },
    {
     "name": "stdout",
     "output_type": "stream",
     "text": [
      "Iteration: \t191 / 500\n",
      "Confirmed: \t19\n",
      "Tentative: \t6\n",
      "Rejected: \t105\n"
     ]
    },
    {
     "name": "stderr",
     "output_type": "stream",
     "text": [
      "/Users/shohei.mitani/.pyenv/versions/anaconda3-5.3.1/lib/python3.6/site-packages/boruta/boruta_py.py:418: RuntimeWarning: invalid value encountered in greater\n",
      "  hits = np.where(cur_imp[0] > imp_sha_max)[0]\n",
      "/Users/shohei.mitani/.pyenv/versions/anaconda3-5.3.1/lib/python3.6/site-packages/boruta/boruta_py.py:380: DataConversionWarning: A column-vector y was passed when a 1d array was expected. Please change the shape of y to (n_samples,), for example using ravel().\n",
      "  self.estimator.fit(X, y)\n"
     ]
    },
    {
     "name": "stdout",
     "output_type": "stream",
     "text": [
      "Iteration: \t192 / 500\n",
      "Confirmed: \t19\n",
      "Tentative: \t6\n",
      "Rejected: \t105\n"
     ]
    },
    {
     "name": "stderr",
     "output_type": "stream",
     "text": [
      "/Users/shohei.mitani/.pyenv/versions/anaconda3-5.3.1/lib/python3.6/site-packages/boruta/boruta_py.py:418: RuntimeWarning: invalid value encountered in greater\n",
      "  hits = np.where(cur_imp[0] > imp_sha_max)[0]\n",
      "/Users/shohei.mitani/.pyenv/versions/anaconda3-5.3.1/lib/python3.6/site-packages/boruta/boruta_py.py:380: DataConversionWarning: A column-vector y was passed when a 1d array was expected. Please change the shape of y to (n_samples,), for example using ravel().\n",
      "  self.estimator.fit(X, y)\n"
     ]
    },
    {
     "name": "stdout",
     "output_type": "stream",
     "text": [
      "Iteration: \t193 / 500\n",
      "Confirmed: \t19\n",
      "Tentative: \t6\n",
      "Rejected: \t105\n"
     ]
    },
    {
     "name": "stderr",
     "output_type": "stream",
     "text": [
      "/Users/shohei.mitani/.pyenv/versions/anaconda3-5.3.1/lib/python3.6/site-packages/boruta/boruta_py.py:418: RuntimeWarning: invalid value encountered in greater\n",
      "  hits = np.where(cur_imp[0] > imp_sha_max)[0]\n",
      "/Users/shohei.mitani/.pyenv/versions/anaconda3-5.3.1/lib/python3.6/site-packages/boruta/boruta_py.py:380: DataConversionWarning: A column-vector y was passed when a 1d array was expected. Please change the shape of y to (n_samples,), for example using ravel().\n",
      "  self.estimator.fit(X, y)\n"
     ]
    },
    {
     "name": "stdout",
     "output_type": "stream",
     "text": [
      "Iteration: \t194 / 500\n",
      "Confirmed: \t19\n",
      "Tentative: \t6\n",
      "Rejected: \t105\n"
     ]
    },
    {
     "name": "stderr",
     "output_type": "stream",
     "text": [
      "/Users/shohei.mitani/.pyenv/versions/anaconda3-5.3.1/lib/python3.6/site-packages/boruta/boruta_py.py:418: RuntimeWarning: invalid value encountered in greater\n",
      "  hits = np.where(cur_imp[0] > imp_sha_max)[0]\n",
      "/Users/shohei.mitani/.pyenv/versions/anaconda3-5.3.1/lib/python3.6/site-packages/boruta/boruta_py.py:380: DataConversionWarning: A column-vector y was passed when a 1d array was expected. Please change the shape of y to (n_samples,), for example using ravel().\n",
      "  self.estimator.fit(X, y)\n"
     ]
    },
    {
     "name": "stdout",
     "output_type": "stream",
     "text": [
      "Iteration: \t195 / 500\n",
      "Confirmed: \t19\n",
      "Tentative: \t6\n",
      "Rejected: \t105\n"
     ]
    },
    {
     "name": "stderr",
     "output_type": "stream",
     "text": [
      "/Users/shohei.mitani/.pyenv/versions/anaconda3-5.3.1/lib/python3.6/site-packages/boruta/boruta_py.py:418: RuntimeWarning: invalid value encountered in greater\n",
      "  hits = np.where(cur_imp[0] > imp_sha_max)[0]\n",
      "/Users/shohei.mitani/.pyenv/versions/anaconda3-5.3.1/lib/python3.6/site-packages/boruta/boruta_py.py:380: DataConversionWarning: A column-vector y was passed when a 1d array was expected. Please change the shape of y to (n_samples,), for example using ravel().\n",
      "  self.estimator.fit(X, y)\n"
     ]
    },
    {
     "name": "stdout",
     "output_type": "stream",
     "text": [
      "Iteration: \t196 / 500\n",
      "Confirmed: \t19\n",
      "Tentative: \t6\n",
      "Rejected: \t105\n"
     ]
    },
    {
     "name": "stderr",
     "output_type": "stream",
     "text": [
      "/Users/shohei.mitani/.pyenv/versions/anaconda3-5.3.1/lib/python3.6/site-packages/boruta/boruta_py.py:418: RuntimeWarning: invalid value encountered in greater\n",
      "  hits = np.where(cur_imp[0] > imp_sha_max)[0]\n",
      "/Users/shohei.mitani/.pyenv/versions/anaconda3-5.3.1/lib/python3.6/site-packages/boruta/boruta_py.py:380: DataConversionWarning: A column-vector y was passed when a 1d array was expected. Please change the shape of y to (n_samples,), for example using ravel().\n",
      "  self.estimator.fit(X, y)\n"
     ]
    },
    {
     "name": "stdout",
     "output_type": "stream",
     "text": [
      "Iteration: \t197 / 500\n",
      "Confirmed: \t19\n",
      "Tentative: \t6\n",
      "Rejected: \t105\n"
     ]
    },
    {
     "name": "stderr",
     "output_type": "stream",
     "text": [
      "/Users/shohei.mitani/.pyenv/versions/anaconda3-5.3.1/lib/python3.6/site-packages/boruta/boruta_py.py:418: RuntimeWarning: invalid value encountered in greater\n",
      "  hits = np.where(cur_imp[0] > imp_sha_max)[0]\n",
      "/Users/shohei.mitani/.pyenv/versions/anaconda3-5.3.1/lib/python3.6/site-packages/boruta/boruta_py.py:380: DataConversionWarning: A column-vector y was passed when a 1d array was expected. Please change the shape of y to (n_samples,), for example using ravel().\n",
      "  self.estimator.fit(X, y)\n"
     ]
    },
    {
     "name": "stdout",
     "output_type": "stream",
     "text": [
      "Iteration: \t198 / 500\n",
      "Confirmed: \t19\n",
      "Tentative: \t6\n",
      "Rejected: \t105\n"
     ]
    },
    {
     "name": "stderr",
     "output_type": "stream",
     "text": [
      "/Users/shohei.mitani/.pyenv/versions/anaconda3-5.3.1/lib/python3.6/site-packages/boruta/boruta_py.py:418: RuntimeWarning: invalid value encountered in greater\n",
      "  hits = np.where(cur_imp[0] > imp_sha_max)[0]\n",
      "/Users/shohei.mitani/.pyenv/versions/anaconda3-5.3.1/lib/python3.6/site-packages/boruta/boruta_py.py:380: DataConversionWarning: A column-vector y was passed when a 1d array was expected. Please change the shape of y to (n_samples,), for example using ravel().\n",
      "  self.estimator.fit(X, y)\n"
     ]
    },
    {
     "name": "stdout",
     "output_type": "stream",
     "text": [
      "Iteration: \t199 / 500\n",
      "Confirmed: \t19\n",
      "Tentative: \t6\n",
      "Rejected: \t105\n"
     ]
    },
    {
     "name": "stderr",
     "output_type": "stream",
     "text": [
      "/Users/shohei.mitani/.pyenv/versions/anaconda3-5.3.1/lib/python3.6/site-packages/boruta/boruta_py.py:418: RuntimeWarning: invalid value encountered in greater\n",
      "  hits = np.where(cur_imp[0] > imp_sha_max)[0]\n",
      "/Users/shohei.mitani/.pyenv/versions/anaconda3-5.3.1/lib/python3.6/site-packages/boruta/boruta_py.py:380: DataConversionWarning: A column-vector y was passed when a 1d array was expected. Please change the shape of y to (n_samples,), for example using ravel().\n",
      "  self.estimator.fit(X, y)\n"
     ]
    },
    {
     "name": "stdout",
     "output_type": "stream",
     "text": [
      "Iteration: \t200 / 500\n",
      "Confirmed: \t19\n",
      "Tentative: \t6\n",
      "Rejected: \t105\n"
     ]
    },
    {
     "name": "stderr",
     "output_type": "stream",
     "text": [
      "/Users/shohei.mitani/.pyenv/versions/anaconda3-5.3.1/lib/python3.6/site-packages/boruta/boruta_py.py:418: RuntimeWarning: invalid value encountered in greater\n",
      "  hits = np.where(cur_imp[0] > imp_sha_max)[0]\n",
      "/Users/shohei.mitani/.pyenv/versions/anaconda3-5.3.1/lib/python3.6/site-packages/boruta/boruta_py.py:380: DataConversionWarning: A column-vector y was passed when a 1d array was expected. Please change the shape of y to (n_samples,), for example using ravel().\n",
      "  self.estimator.fit(X, y)\n"
     ]
    },
    {
     "name": "stdout",
     "output_type": "stream",
     "text": [
      "Iteration: \t201 / 500\n",
      "Confirmed: \t19\n",
      "Tentative: \t6\n",
      "Rejected: \t105\n"
     ]
    },
    {
     "name": "stderr",
     "output_type": "stream",
     "text": [
      "/Users/shohei.mitani/.pyenv/versions/anaconda3-5.3.1/lib/python3.6/site-packages/boruta/boruta_py.py:418: RuntimeWarning: invalid value encountered in greater\n",
      "  hits = np.where(cur_imp[0] > imp_sha_max)[0]\n",
      "/Users/shohei.mitani/.pyenv/versions/anaconda3-5.3.1/lib/python3.6/site-packages/boruta/boruta_py.py:380: DataConversionWarning: A column-vector y was passed when a 1d array was expected. Please change the shape of y to (n_samples,), for example using ravel().\n",
      "  self.estimator.fit(X, y)\n"
     ]
    },
    {
     "name": "stdout",
     "output_type": "stream",
     "text": [
      "Iteration: \t202 / 500\n",
      "Confirmed: \t19\n",
      "Tentative: \t6\n",
      "Rejected: \t105\n"
     ]
    },
    {
     "name": "stderr",
     "output_type": "stream",
     "text": [
      "/Users/shohei.mitani/.pyenv/versions/anaconda3-5.3.1/lib/python3.6/site-packages/boruta/boruta_py.py:418: RuntimeWarning: invalid value encountered in greater\n",
      "  hits = np.where(cur_imp[0] > imp_sha_max)[0]\n",
      "/Users/shohei.mitani/.pyenv/versions/anaconda3-5.3.1/lib/python3.6/site-packages/boruta/boruta_py.py:380: DataConversionWarning: A column-vector y was passed when a 1d array was expected. Please change the shape of y to (n_samples,), for example using ravel().\n",
      "  self.estimator.fit(X, y)\n"
     ]
    },
    {
     "name": "stdout",
     "output_type": "stream",
     "text": [
      "Iteration: \t203 / 500\n",
      "Confirmed: \t19\n",
      "Tentative: \t6\n",
      "Rejected: \t105\n"
     ]
    },
    {
     "name": "stderr",
     "output_type": "stream",
     "text": [
      "/Users/shohei.mitani/.pyenv/versions/anaconda3-5.3.1/lib/python3.6/site-packages/boruta/boruta_py.py:418: RuntimeWarning: invalid value encountered in greater\n",
      "  hits = np.where(cur_imp[0] > imp_sha_max)[0]\n",
      "/Users/shohei.mitani/.pyenv/versions/anaconda3-5.3.1/lib/python3.6/site-packages/boruta/boruta_py.py:380: DataConversionWarning: A column-vector y was passed when a 1d array was expected. Please change the shape of y to (n_samples,), for example using ravel().\n",
      "  self.estimator.fit(X, y)\n"
     ]
    },
    {
     "name": "stdout",
     "output_type": "stream",
     "text": [
      "Iteration: \t204 / 500\n",
      "Confirmed: \t19\n",
      "Tentative: \t6\n",
      "Rejected: \t105\n"
     ]
    },
    {
     "name": "stderr",
     "output_type": "stream",
     "text": [
      "/Users/shohei.mitani/.pyenv/versions/anaconda3-5.3.1/lib/python3.6/site-packages/boruta/boruta_py.py:418: RuntimeWarning: invalid value encountered in greater\n",
      "  hits = np.where(cur_imp[0] > imp_sha_max)[0]\n",
      "/Users/shohei.mitani/.pyenv/versions/anaconda3-5.3.1/lib/python3.6/site-packages/boruta/boruta_py.py:380: DataConversionWarning: A column-vector y was passed when a 1d array was expected. Please change the shape of y to (n_samples,), for example using ravel().\n",
      "  self.estimator.fit(X, y)\n"
     ]
    },
    {
     "name": "stdout",
     "output_type": "stream",
     "text": [
      "Iteration: \t205 / 500\n",
      "Confirmed: \t19\n",
      "Tentative: \t6\n",
      "Rejected: \t105\n"
     ]
    },
    {
     "name": "stderr",
     "output_type": "stream",
     "text": [
      "/Users/shohei.mitani/.pyenv/versions/anaconda3-5.3.1/lib/python3.6/site-packages/boruta/boruta_py.py:418: RuntimeWarning: invalid value encountered in greater\n",
      "  hits = np.where(cur_imp[0] > imp_sha_max)[0]\n",
      "/Users/shohei.mitani/.pyenv/versions/anaconda3-5.3.1/lib/python3.6/site-packages/boruta/boruta_py.py:380: DataConversionWarning: A column-vector y was passed when a 1d array was expected. Please change the shape of y to (n_samples,), for example using ravel().\n",
      "  self.estimator.fit(X, y)\n"
     ]
    },
    {
     "name": "stdout",
     "output_type": "stream",
     "text": [
      "Iteration: \t206 / 500\n",
      "Confirmed: \t19\n",
      "Tentative: \t6\n",
      "Rejected: \t105\n"
     ]
    },
    {
     "name": "stderr",
     "output_type": "stream",
     "text": [
      "/Users/shohei.mitani/.pyenv/versions/anaconda3-5.3.1/lib/python3.6/site-packages/boruta/boruta_py.py:418: RuntimeWarning: invalid value encountered in greater\n",
      "  hits = np.where(cur_imp[0] > imp_sha_max)[0]\n",
      "/Users/shohei.mitani/.pyenv/versions/anaconda3-5.3.1/lib/python3.6/site-packages/boruta/boruta_py.py:380: DataConversionWarning: A column-vector y was passed when a 1d array was expected. Please change the shape of y to (n_samples,), for example using ravel().\n",
      "  self.estimator.fit(X, y)\n"
     ]
    },
    {
     "name": "stdout",
     "output_type": "stream",
     "text": [
      "Iteration: \t207 / 500\n",
      "Confirmed: \t19\n",
      "Tentative: \t6\n",
      "Rejected: \t105\n"
     ]
    },
    {
     "name": "stderr",
     "output_type": "stream",
     "text": [
      "/Users/shohei.mitani/.pyenv/versions/anaconda3-5.3.1/lib/python3.6/site-packages/boruta/boruta_py.py:418: RuntimeWarning: invalid value encountered in greater\n",
      "  hits = np.where(cur_imp[0] > imp_sha_max)[0]\n",
      "/Users/shohei.mitani/.pyenv/versions/anaconda3-5.3.1/lib/python3.6/site-packages/boruta/boruta_py.py:380: DataConversionWarning: A column-vector y was passed when a 1d array was expected. Please change the shape of y to (n_samples,), for example using ravel().\n",
      "  self.estimator.fit(X, y)\n"
     ]
    },
    {
     "name": "stdout",
     "output_type": "stream",
     "text": [
      "Iteration: \t208 / 500\n",
      "Confirmed: \t19\n",
      "Tentative: \t6\n",
      "Rejected: \t105\n"
     ]
    },
    {
     "name": "stderr",
     "output_type": "stream",
     "text": [
      "/Users/shohei.mitani/.pyenv/versions/anaconda3-5.3.1/lib/python3.6/site-packages/boruta/boruta_py.py:418: RuntimeWarning: invalid value encountered in greater\n",
      "  hits = np.where(cur_imp[0] > imp_sha_max)[0]\n",
      "/Users/shohei.mitani/.pyenv/versions/anaconda3-5.3.1/lib/python3.6/site-packages/boruta/boruta_py.py:380: DataConversionWarning: A column-vector y was passed when a 1d array was expected. Please change the shape of y to (n_samples,), for example using ravel().\n",
      "  self.estimator.fit(X, y)\n"
     ]
    },
    {
     "name": "stdout",
     "output_type": "stream",
     "text": [
      "Iteration: \t209 / 500\n",
      "Confirmed: \t19\n",
      "Tentative: \t6\n",
      "Rejected: \t105\n"
     ]
    },
    {
     "name": "stderr",
     "output_type": "stream",
     "text": [
      "/Users/shohei.mitani/.pyenv/versions/anaconda3-5.3.1/lib/python3.6/site-packages/boruta/boruta_py.py:418: RuntimeWarning: invalid value encountered in greater\n",
      "  hits = np.where(cur_imp[0] > imp_sha_max)[0]\n",
      "/Users/shohei.mitani/.pyenv/versions/anaconda3-5.3.1/lib/python3.6/site-packages/boruta/boruta_py.py:380: DataConversionWarning: A column-vector y was passed when a 1d array was expected. Please change the shape of y to (n_samples,), for example using ravel().\n",
      "  self.estimator.fit(X, y)\n"
     ]
    },
    {
     "name": "stdout",
     "output_type": "stream",
     "text": [
      "Iteration: \t210 / 500\n",
      "Confirmed: \t19\n",
      "Tentative: \t6\n",
      "Rejected: \t105\n"
     ]
    },
    {
     "name": "stderr",
     "output_type": "stream",
     "text": [
      "/Users/shohei.mitani/.pyenv/versions/anaconda3-5.3.1/lib/python3.6/site-packages/boruta/boruta_py.py:418: RuntimeWarning: invalid value encountered in greater\n",
      "  hits = np.where(cur_imp[0] > imp_sha_max)[0]\n",
      "/Users/shohei.mitani/.pyenv/versions/anaconda3-5.3.1/lib/python3.6/site-packages/boruta/boruta_py.py:380: DataConversionWarning: A column-vector y was passed when a 1d array was expected. Please change the shape of y to (n_samples,), for example using ravel().\n",
      "  self.estimator.fit(X, y)\n"
     ]
    },
    {
     "name": "stdout",
     "output_type": "stream",
     "text": [
      "Iteration: \t211 / 500\n",
      "Confirmed: \t19\n",
      "Tentative: \t6\n",
      "Rejected: \t105\n"
     ]
    },
    {
     "name": "stderr",
     "output_type": "stream",
     "text": [
      "/Users/shohei.mitani/.pyenv/versions/anaconda3-5.3.1/lib/python3.6/site-packages/boruta/boruta_py.py:418: RuntimeWarning: invalid value encountered in greater\n",
      "  hits = np.where(cur_imp[0] > imp_sha_max)[0]\n",
      "/Users/shohei.mitani/.pyenv/versions/anaconda3-5.3.1/lib/python3.6/site-packages/boruta/boruta_py.py:380: DataConversionWarning: A column-vector y was passed when a 1d array was expected. Please change the shape of y to (n_samples,), for example using ravel().\n",
      "  self.estimator.fit(X, y)\n"
     ]
    },
    {
     "name": "stdout",
     "output_type": "stream",
     "text": [
      "Iteration: \t212 / 500\n",
      "Confirmed: \t19\n",
      "Tentative: \t6\n",
      "Rejected: \t105\n"
     ]
    },
    {
     "name": "stderr",
     "output_type": "stream",
     "text": [
      "/Users/shohei.mitani/.pyenv/versions/anaconda3-5.3.1/lib/python3.6/site-packages/boruta/boruta_py.py:418: RuntimeWarning: invalid value encountered in greater\n",
      "  hits = np.where(cur_imp[0] > imp_sha_max)[0]\n",
      "/Users/shohei.mitani/.pyenv/versions/anaconda3-5.3.1/lib/python3.6/site-packages/boruta/boruta_py.py:380: DataConversionWarning: A column-vector y was passed when a 1d array was expected. Please change the shape of y to (n_samples,), for example using ravel().\n",
      "  self.estimator.fit(X, y)\n"
     ]
    },
    {
     "name": "stdout",
     "output_type": "stream",
     "text": [
      "Iteration: \t213 / 500\n",
      "Confirmed: \t19\n",
      "Tentative: \t6\n",
      "Rejected: \t105\n"
     ]
    },
    {
     "name": "stderr",
     "output_type": "stream",
     "text": [
      "/Users/shohei.mitani/.pyenv/versions/anaconda3-5.3.1/lib/python3.6/site-packages/boruta/boruta_py.py:418: RuntimeWarning: invalid value encountered in greater\n",
      "  hits = np.where(cur_imp[0] > imp_sha_max)[0]\n",
      "/Users/shohei.mitani/.pyenv/versions/anaconda3-5.3.1/lib/python3.6/site-packages/boruta/boruta_py.py:380: DataConversionWarning: A column-vector y was passed when a 1d array was expected. Please change the shape of y to (n_samples,), for example using ravel().\n",
      "  self.estimator.fit(X, y)\n"
     ]
    },
    {
     "name": "stdout",
     "output_type": "stream",
     "text": [
      "Iteration: \t214 / 500\n",
      "Confirmed: \t19\n",
      "Tentative: \t6\n",
      "Rejected: \t105\n"
     ]
    },
    {
     "name": "stderr",
     "output_type": "stream",
     "text": [
      "/Users/shohei.mitani/.pyenv/versions/anaconda3-5.3.1/lib/python3.6/site-packages/boruta/boruta_py.py:418: RuntimeWarning: invalid value encountered in greater\n",
      "  hits = np.where(cur_imp[0] > imp_sha_max)[0]\n",
      "/Users/shohei.mitani/.pyenv/versions/anaconda3-5.3.1/lib/python3.6/site-packages/boruta/boruta_py.py:380: DataConversionWarning: A column-vector y was passed when a 1d array was expected. Please change the shape of y to (n_samples,), for example using ravel().\n",
      "  self.estimator.fit(X, y)\n"
     ]
    },
    {
     "name": "stdout",
     "output_type": "stream",
     "text": [
      "Iteration: \t215 / 500\n",
      "Confirmed: \t19\n",
      "Tentative: \t6\n",
      "Rejected: \t105\n"
     ]
    },
    {
     "name": "stderr",
     "output_type": "stream",
     "text": [
      "/Users/shohei.mitani/.pyenv/versions/anaconda3-5.3.1/lib/python3.6/site-packages/boruta/boruta_py.py:418: RuntimeWarning: invalid value encountered in greater\n",
      "  hits = np.where(cur_imp[0] > imp_sha_max)[0]\n",
      "/Users/shohei.mitani/.pyenv/versions/anaconda3-5.3.1/lib/python3.6/site-packages/boruta/boruta_py.py:380: DataConversionWarning: A column-vector y was passed when a 1d array was expected. Please change the shape of y to (n_samples,), for example using ravel().\n",
      "  self.estimator.fit(X, y)\n"
     ]
    },
    {
     "name": "stdout",
     "output_type": "stream",
     "text": [
      "Iteration: \t216 / 500\n",
      "Confirmed: \t19\n",
      "Tentative: \t6\n",
      "Rejected: \t105\n"
     ]
    },
    {
     "name": "stderr",
     "output_type": "stream",
     "text": [
      "/Users/shohei.mitani/.pyenv/versions/anaconda3-5.3.1/lib/python3.6/site-packages/boruta/boruta_py.py:418: RuntimeWarning: invalid value encountered in greater\n",
      "  hits = np.where(cur_imp[0] > imp_sha_max)[0]\n",
      "/Users/shohei.mitani/.pyenv/versions/anaconda3-5.3.1/lib/python3.6/site-packages/boruta/boruta_py.py:380: DataConversionWarning: A column-vector y was passed when a 1d array was expected. Please change the shape of y to (n_samples,), for example using ravel().\n",
      "  self.estimator.fit(X, y)\n"
     ]
    },
    {
     "name": "stdout",
     "output_type": "stream",
     "text": [
      "Iteration: \t217 / 500\n",
      "Confirmed: \t19\n",
      "Tentative: \t6\n",
      "Rejected: \t105\n"
     ]
    },
    {
     "name": "stderr",
     "output_type": "stream",
     "text": [
      "/Users/shohei.mitani/.pyenv/versions/anaconda3-5.3.1/lib/python3.6/site-packages/boruta/boruta_py.py:418: RuntimeWarning: invalid value encountered in greater\n",
      "  hits = np.where(cur_imp[0] > imp_sha_max)[0]\n",
      "/Users/shohei.mitani/.pyenv/versions/anaconda3-5.3.1/lib/python3.6/site-packages/boruta/boruta_py.py:380: DataConversionWarning: A column-vector y was passed when a 1d array was expected. Please change the shape of y to (n_samples,), for example using ravel().\n",
      "  self.estimator.fit(X, y)\n"
     ]
    },
    {
     "name": "stdout",
     "output_type": "stream",
     "text": [
      "Iteration: \t218 / 500\n",
      "Confirmed: \t19\n",
      "Tentative: \t6\n",
      "Rejected: \t105\n"
     ]
    },
    {
     "name": "stderr",
     "output_type": "stream",
     "text": [
      "/Users/shohei.mitani/.pyenv/versions/anaconda3-5.3.1/lib/python3.6/site-packages/boruta/boruta_py.py:418: RuntimeWarning: invalid value encountered in greater\n",
      "  hits = np.where(cur_imp[0] > imp_sha_max)[0]\n",
      "/Users/shohei.mitani/.pyenv/versions/anaconda3-5.3.1/lib/python3.6/site-packages/boruta/boruta_py.py:380: DataConversionWarning: A column-vector y was passed when a 1d array was expected. Please change the shape of y to (n_samples,), for example using ravel().\n",
      "  self.estimator.fit(X, y)\n"
     ]
    },
    {
     "name": "stdout",
     "output_type": "stream",
     "text": [
      "Iteration: \t219 / 500\n",
      "Confirmed: \t19\n",
      "Tentative: \t6\n",
      "Rejected: \t105\n"
     ]
    },
    {
     "name": "stderr",
     "output_type": "stream",
     "text": [
      "/Users/shohei.mitani/.pyenv/versions/anaconda3-5.3.1/lib/python3.6/site-packages/boruta/boruta_py.py:418: RuntimeWarning: invalid value encountered in greater\n",
      "  hits = np.where(cur_imp[0] > imp_sha_max)[0]\n",
      "/Users/shohei.mitani/.pyenv/versions/anaconda3-5.3.1/lib/python3.6/site-packages/boruta/boruta_py.py:380: DataConversionWarning: A column-vector y was passed when a 1d array was expected. Please change the shape of y to (n_samples,), for example using ravel().\n",
      "  self.estimator.fit(X, y)\n"
     ]
    },
    {
     "name": "stdout",
     "output_type": "stream",
     "text": [
      "Iteration: \t220 / 500\n",
      "Confirmed: \t19\n",
      "Tentative: \t6\n",
      "Rejected: \t105\n"
     ]
    },
    {
     "name": "stderr",
     "output_type": "stream",
     "text": [
      "/Users/shohei.mitani/.pyenv/versions/anaconda3-5.3.1/lib/python3.6/site-packages/boruta/boruta_py.py:418: RuntimeWarning: invalid value encountered in greater\n",
      "  hits = np.where(cur_imp[0] > imp_sha_max)[0]\n",
      "/Users/shohei.mitani/.pyenv/versions/anaconda3-5.3.1/lib/python3.6/site-packages/boruta/boruta_py.py:380: DataConversionWarning: A column-vector y was passed when a 1d array was expected. Please change the shape of y to (n_samples,), for example using ravel().\n",
      "  self.estimator.fit(X, y)\n"
     ]
    },
    {
     "name": "stdout",
     "output_type": "stream",
     "text": [
      "Iteration: \t221 / 500\n",
      "Confirmed: \t19\n",
      "Tentative: \t6\n",
      "Rejected: \t105\n"
     ]
    },
    {
     "name": "stderr",
     "output_type": "stream",
     "text": [
      "/Users/shohei.mitani/.pyenv/versions/anaconda3-5.3.1/lib/python3.6/site-packages/boruta/boruta_py.py:418: RuntimeWarning: invalid value encountered in greater\n",
      "  hits = np.where(cur_imp[0] > imp_sha_max)[0]\n",
      "/Users/shohei.mitani/.pyenv/versions/anaconda3-5.3.1/lib/python3.6/site-packages/boruta/boruta_py.py:380: DataConversionWarning: A column-vector y was passed when a 1d array was expected. Please change the shape of y to (n_samples,), for example using ravel().\n",
      "  self.estimator.fit(X, y)\n"
     ]
    },
    {
     "name": "stdout",
     "output_type": "stream",
     "text": [
      "Iteration: \t222 / 500\n",
      "Confirmed: \t19\n",
      "Tentative: \t6\n",
      "Rejected: \t105\n"
     ]
    },
    {
     "name": "stderr",
     "output_type": "stream",
     "text": [
      "/Users/shohei.mitani/.pyenv/versions/anaconda3-5.3.1/lib/python3.6/site-packages/boruta/boruta_py.py:418: RuntimeWarning: invalid value encountered in greater\n",
      "  hits = np.where(cur_imp[0] > imp_sha_max)[0]\n",
      "/Users/shohei.mitani/.pyenv/versions/anaconda3-5.3.1/lib/python3.6/site-packages/boruta/boruta_py.py:380: DataConversionWarning: A column-vector y was passed when a 1d array was expected. Please change the shape of y to (n_samples,), for example using ravel().\n",
      "  self.estimator.fit(X, y)\n"
     ]
    },
    {
     "name": "stdout",
     "output_type": "stream",
     "text": [
      "Iteration: \t223 / 500\n",
      "Confirmed: \t19\n",
      "Tentative: \t6\n",
      "Rejected: \t105\n"
     ]
    },
    {
     "name": "stderr",
     "output_type": "stream",
     "text": [
      "/Users/shohei.mitani/.pyenv/versions/anaconda3-5.3.1/lib/python3.6/site-packages/boruta/boruta_py.py:418: RuntimeWarning: invalid value encountered in greater\n",
      "  hits = np.where(cur_imp[0] > imp_sha_max)[0]\n",
      "/Users/shohei.mitani/.pyenv/versions/anaconda3-5.3.1/lib/python3.6/site-packages/boruta/boruta_py.py:380: DataConversionWarning: A column-vector y was passed when a 1d array was expected. Please change the shape of y to (n_samples,), for example using ravel().\n",
      "  self.estimator.fit(X, y)\n"
     ]
    },
    {
     "name": "stdout",
     "output_type": "stream",
     "text": [
      "Iteration: \t224 / 500\n",
      "Confirmed: \t19\n",
      "Tentative: \t6\n",
      "Rejected: \t105\n"
     ]
    },
    {
     "name": "stderr",
     "output_type": "stream",
     "text": [
      "/Users/shohei.mitani/.pyenv/versions/anaconda3-5.3.1/lib/python3.6/site-packages/boruta/boruta_py.py:418: RuntimeWarning: invalid value encountered in greater\n",
      "  hits = np.where(cur_imp[0] > imp_sha_max)[0]\n",
      "/Users/shohei.mitani/.pyenv/versions/anaconda3-5.3.1/lib/python3.6/site-packages/boruta/boruta_py.py:380: DataConversionWarning: A column-vector y was passed when a 1d array was expected. Please change the shape of y to (n_samples,), for example using ravel().\n",
      "  self.estimator.fit(X, y)\n"
     ]
    },
    {
     "name": "stdout",
     "output_type": "stream",
     "text": [
      "Iteration: \t225 / 500\n",
      "Confirmed: \t19\n",
      "Tentative: \t6\n",
      "Rejected: \t105\n"
     ]
    },
    {
     "name": "stderr",
     "output_type": "stream",
     "text": [
      "/Users/shohei.mitani/.pyenv/versions/anaconda3-5.3.1/lib/python3.6/site-packages/boruta/boruta_py.py:418: RuntimeWarning: invalid value encountered in greater\n",
      "  hits = np.where(cur_imp[0] > imp_sha_max)[0]\n",
      "/Users/shohei.mitani/.pyenv/versions/anaconda3-5.3.1/lib/python3.6/site-packages/boruta/boruta_py.py:380: DataConversionWarning: A column-vector y was passed when a 1d array was expected. Please change the shape of y to (n_samples,), for example using ravel().\n",
      "  self.estimator.fit(X, y)\n"
     ]
    },
    {
     "name": "stdout",
     "output_type": "stream",
     "text": [
      "Iteration: \t226 / 500\n",
      "Confirmed: \t19\n",
      "Tentative: \t6\n",
      "Rejected: \t105\n"
     ]
    },
    {
     "name": "stderr",
     "output_type": "stream",
     "text": [
      "/Users/shohei.mitani/.pyenv/versions/anaconda3-5.3.1/lib/python3.6/site-packages/boruta/boruta_py.py:418: RuntimeWarning: invalid value encountered in greater\n",
      "  hits = np.where(cur_imp[0] > imp_sha_max)[0]\n",
      "/Users/shohei.mitani/.pyenv/versions/anaconda3-5.3.1/lib/python3.6/site-packages/boruta/boruta_py.py:380: DataConversionWarning: A column-vector y was passed when a 1d array was expected. Please change the shape of y to (n_samples,), for example using ravel().\n",
      "  self.estimator.fit(X, y)\n"
     ]
    },
    {
     "name": "stdout",
     "output_type": "stream",
     "text": [
      "Iteration: \t227 / 500\n",
      "Confirmed: \t19\n",
      "Tentative: \t6\n",
      "Rejected: \t105\n"
     ]
    },
    {
     "name": "stderr",
     "output_type": "stream",
     "text": [
      "/Users/shohei.mitani/.pyenv/versions/anaconda3-5.3.1/lib/python3.6/site-packages/boruta/boruta_py.py:418: RuntimeWarning: invalid value encountered in greater\n",
      "  hits = np.where(cur_imp[0] > imp_sha_max)[0]\n",
      "/Users/shohei.mitani/.pyenv/versions/anaconda3-5.3.1/lib/python3.6/site-packages/boruta/boruta_py.py:380: DataConversionWarning: A column-vector y was passed when a 1d array was expected. Please change the shape of y to (n_samples,), for example using ravel().\n",
      "  self.estimator.fit(X, y)\n"
     ]
    },
    {
     "name": "stdout",
     "output_type": "stream",
     "text": [
      "Iteration: \t228 / 500\n",
      "Confirmed: \t20\n",
      "Tentative: \t5\n",
      "Rejected: \t105\n"
     ]
    },
    {
     "name": "stderr",
     "output_type": "stream",
     "text": [
      "/Users/shohei.mitani/.pyenv/versions/anaconda3-5.3.1/lib/python3.6/site-packages/boruta/boruta_py.py:418: RuntimeWarning: invalid value encountered in greater\n",
      "  hits = np.where(cur_imp[0] > imp_sha_max)[0]\n",
      "/Users/shohei.mitani/.pyenv/versions/anaconda3-5.3.1/lib/python3.6/site-packages/boruta/boruta_py.py:380: DataConversionWarning: A column-vector y was passed when a 1d array was expected. Please change the shape of y to (n_samples,), for example using ravel().\n",
      "  self.estimator.fit(X, y)\n"
     ]
    },
    {
     "name": "stdout",
     "output_type": "stream",
     "text": [
      "Iteration: \t229 / 500\n",
      "Confirmed: \t20\n",
      "Tentative: \t5\n",
      "Rejected: \t105\n"
     ]
    },
    {
     "name": "stderr",
     "output_type": "stream",
     "text": [
      "/Users/shohei.mitani/.pyenv/versions/anaconda3-5.3.1/lib/python3.6/site-packages/boruta/boruta_py.py:418: RuntimeWarning: invalid value encountered in greater\n",
      "  hits = np.where(cur_imp[0] > imp_sha_max)[0]\n",
      "/Users/shohei.mitani/.pyenv/versions/anaconda3-5.3.1/lib/python3.6/site-packages/boruta/boruta_py.py:380: DataConversionWarning: A column-vector y was passed when a 1d array was expected. Please change the shape of y to (n_samples,), for example using ravel().\n",
      "  self.estimator.fit(X, y)\n"
     ]
    },
    {
     "name": "stdout",
     "output_type": "stream",
     "text": [
      "Iteration: \t230 / 500\n",
      "Confirmed: \t20\n",
      "Tentative: \t5\n",
      "Rejected: \t105\n"
     ]
    },
    {
     "name": "stderr",
     "output_type": "stream",
     "text": [
      "/Users/shohei.mitani/.pyenv/versions/anaconda3-5.3.1/lib/python3.6/site-packages/boruta/boruta_py.py:418: RuntimeWarning: invalid value encountered in greater\n",
      "  hits = np.where(cur_imp[0] > imp_sha_max)[0]\n",
      "/Users/shohei.mitani/.pyenv/versions/anaconda3-5.3.1/lib/python3.6/site-packages/boruta/boruta_py.py:380: DataConversionWarning: A column-vector y was passed when a 1d array was expected. Please change the shape of y to (n_samples,), for example using ravel().\n",
      "  self.estimator.fit(X, y)\n"
     ]
    },
    {
     "name": "stdout",
     "output_type": "stream",
     "text": [
      "Iteration: \t231 / 500\n",
      "Confirmed: \t20\n",
      "Tentative: \t5\n",
      "Rejected: \t105\n"
     ]
    },
    {
     "name": "stderr",
     "output_type": "stream",
     "text": [
      "/Users/shohei.mitani/.pyenv/versions/anaconda3-5.3.1/lib/python3.6/site-packages/boruta/boruta_py.py:418: RuntimeWarning: invalid value encountered in greater\n",
      "  hits = np.where(cur_imp[0] > imp_sha_max)[0]\n",
      "/Users/shohei.mitani/.pyenv/versions/anaconda3-5.3.1/lib/python3.6/site-packages/boruta/boruta_py.py:380: DataConversionWarning: A column-vector y was passed when a 1d array was expected. Please change the shape of y to (n_samples,), for example using ravel().\n",
      "  self.estimator.fit(X, y)\n"
     ]
    },
    {
     "name": "stdout",
     "output_type": "stream",
     "text": [
      "Iteration: \t232 / 500\n",
      "Confirmed: \t20\n",
      "Tentative: \t5\n",
      "Rejected: \t105\n"
     ]
    },
    {
     "name": "stderr",
     "output_type": "stream",
     "text": [
      "/Users/shohei.mitani/.pyenv/versions/anaconda3-5.3.1/lib/python3.6/site-packages/boruta/boruta_py.py:418: RuntimeWarning: invalid value encountered in greater\n",
      "  hits = np.where(cur_imp[0] > imp_sha_max)[0]\n",
      "/Users/shohei.mitani/.pyenv/versions/anaconda3-5.3.1/lib/python3.6/site-packages/boruta/boruta_py.py:380: DataConversionWarning: A column-vector y was passed when a 1d array was expected. Please change the shape of y to (n_samples,), for example using ravel().\n",
      "  self.estimator.fit(X, y)\n"
     ]
    },
    {
     "name": "stdout",
     "output_type": "stream",
     "text": [
      "Iteration: \t233 / 500\n",
      "Confirmed: \t20\n",
      "Tentative: \t5\n",
      "Rejected: \t105\n"
     ]
    },
    {
     "name": "stderr",
     "output_type": "stream",
     "text": [
      "/Users/shohei.mitani/.pyenv/versions/anaconda3-5.3.1/lib/python3.6/site-packages/boruta/boruta_py.py:418: RuntimeWarning: invalid value encountered in greater\n",
      "  hits = np.where(cur_imp[0] > imp_sha_max)[0]\n",
      "/Users/shohei.mitani/.pyenv/versions/anaconda3-5.3.1/lib/python3.6/site-packages/boruta/boruta_py.py:380: DataConversionWarning: A column-vector y was passed when a 1d array was expected. Please change the shape of y to (n_samples,), for example using ravel().\n",
      "  self.estimator.fit(X, y)\n"
     ]
    },
    {
     "name": "stdout",
     "output_type": "stream",
     "text": [
      "Iteration: \t234 / 500\n",
      "Confirmed: \t20\n",
      "Tentative: \t5\n",
      "Rejected: \t105\n"
     ]
    },
    {
     "name": "stderr",
     "output_type": "stream",
     "text": [
      "/Users/shohei.mitani/.pyenv/versions/anaconda3-5.3.1/lib/python3.6/site-packages/boruta/boruta_py.py:418: RuntimeWarning: invalid value encountered in greater\n",
      "  hits = np.where(cur_imp[0] > imp_sha_max)[0]\n",
      "/Users/shohei.mitani/.pyenv/versions/anaconda3-5.3.1/lib/python3.6/site-packages/boruta/boruta_py.py:380: DataConversionWarning: A column-vector y was passed when a 1d array was expected. Please change the shape of y to (n_samples,), for example using ravel().\n",
      "  self.estimator.fit(X, y)\n"
     ]
    },
    {
     "name": "stdout",
     "output_type": "stream",
     "text": [
      "Iteration: \t235 / 500\n",
      "Confirmed: \t20\n",
      "Tentative: \t5\n",
      "Rejected: \t105\n"
     ]
    },
    {
     "name": "stderr",
     "output_type": "stream",
     "text": [
      "/Users/shohei.mitani/.pyenv/versions/anaconda3-5.3.1/lib/python3.6/site-packages/boruta/boruta_py.py:418: RuntimeWarning: invalid value encountered in greater\n",
      "  hits = np.where(cur_imp[0] > imp_sha_max)[0]\n",
      "/Users/shohei.mitani/.pyenv/versions/anaconda3-5.3.1/lib/python3.6/site-packages/boruta/boruta_py.py:380: DataConversionWarning: A column-vector y was passed when a 1d array was expected. Please change the shape of y to (n_samples,), for example using ravel().\n",
      "  self.estimator.fit(X, y)\n"
     ]
    },
    {
     "name": "stdout",
     "output_type": "stream",
     "text": [
      "Iteration: \t236 / 500\n",
      "Confirmed: \t20\n",
      "Tentative: \t5\n",
      "Rejected: \t105\n"
     ]
    },
    {
     "name": "stderr",
     "output_type": "stream",
     "text": [
      "/Users/shohei.mitani/.pyenv/versions/anaconda3-5.3.1/lib/python3.6/site-packages/boruta/boruta_py.py:418: RuntimeWarning: invalid value encountered in greater\n",
      "  hits = np.where(cur_imp[0] > imp_sha_max)[0]\n",
      "/Users/shohei.mitani/.pyenv/versions/anaconda3-5.3.1/lib/python3.6/site-packages/boruta/boruta_py.py:380: DataConversionWarning: A column-vector y was passed when a 1d array was expected. Please change the shape of y to (n_samples,), for example using ravel().\n",
      "  self.estimator.fit(X, y)\n"
     ]
    },
    {
     "name": "stdout",
     "output_type": "stream",
     "text": [
      "Iteration: \t237 / 500\n",
      "Confirmed: \t20\n",
      "Tentative: \t5\n",
      "Rejected: \t105\n"
     ]
    },
    {
     "name": "stderr",
     "output_type": "stream",
     "text": [
      "/Users/shohei.mitani/.pyenv/versions/anaconda3-5.3.1/lib/python3.6/site-packages/boruta/boruta_py.py:418: RuntimeWarning: invalid value encountered in greater\n",
      "  hits = np.where(cur_imp[0] > imp_sha_max)[0]\n",
      "/Users/shohei.mitani/.pyenv/versions/anaconda3-5.3.1/lib/python3.6/site-packages/boruta/boruta_py.py:380: DataConversionWarning: A column-vector y was passed when a 1d array was expected. Please change the shape of y to (n_samples,), for example using ravel().\n",
      "  self.estimator.fit(X, y)\n"
     ]
    },
    {
     "name": "stdout",
     "output_type": "stream",
     "text": [
      "Iteration: \t238 / 500\n",
      "Confirmed: \t20\n",
      "Tentative: \t5\n",
      "Rejected: \t105\n"
     ]
    },
    {
     "name": "stderr",
     "output_type": "stream",
     "text": [
      "/Users/shohei.mitani/.pyenv/versions/anaconda3-5.3.1/lib/python3.6/site-packages/boruta/boruta_py.py:418: RuntimeWarning: invalid value encountered in greater\n",
      "  hits = np.where(cur_imp[0] > imp_sha_max)[0]\n",
      "/Users/shohei.mitani/.pyenv/versions/anaconda3-5.3.1/lib/python3.6/site-packages/boruta/boruta_py.py:380: DataConversionWarning: A column-vector y was passed when a 1d array was expected. Please change the shape of y to (n_samples,), for example using ravel().\n",
      "  self.estimator.fit(X, y)\n"
     ]
    },
    {
     "name": "stdout",
     "output_type": "stream",
     "text": [
      "Iteration: \t239 / 500\n",
      "Confirmed: \t20\n",
      "Tentative: \t5\n",
      "Rejected: \t105\n"
     ]
    },
    {
     "name": "stderr",
     "output_type": "stream",
     "text": [
      "/Users/shohei.mitani/.pyenv/versions/anaconda3-5.3.1/lib/python3.6/site-packages/boruta/boruta_py.py:418: RuntimeWarning: invalid value encountered in greater\n",
      "  hits = np.where(cur_imp[0] > imp_sha_max)[0]\n",
      "/Users/shohei.mitani/.pyenv/versions/anaconda3-5.3.1/lib/python3.6/site-packages/boruta/boruta_py.py:380: DataConversionWarning: A column-vector y was passed when a 1d array was expected. Please change the shape of y to (n_samples,), for example using ravel().\n",
      "  self.estimator.fit(X, y)\n"
     ]
    },
    {
     "name": "stdout",
     "output_type": "stream",
     "text": [
      "Iteration: \t240 / 500\n",
      "Confirmed: \t20\n",
      "Tentative: \t5\n",
      "Rejected: \t105\n"
     ]
    },
    {
     "name": "stderr",
     "output_type": "stream",
     "text": [
      "/Users/shohei.mitani/.pyenv/versions/anaconda3-5.3.1/lib/python3.6/site-packages/boruta/boruta_py.py:418: RuntimeWarning: invalid value encountered in greater\n",
      "  hits = np.where(cur_imp[0] > imp_sha_max)[0]\n",
      "/Users/shohei.mitani/.pyenv/versions/anaconda3-5.3.1/lib/python3.6/site-packages/boruta/boruta_py.py:380: DataConversionWarning: A column-vector y was passed when a 1d array was expected. Please change the shape of y to (n_samples,), for example using ravel().\n",
      "  self.estimator.fit(X, y)\n"
     ]
    },
    {
     "name": "stdout",
     "output_type": "stream",
     "text": [
      "Iteration: \t241 / 500\n",
      "Confirmed: \t20\n",
      "Tentative: \t5\n",
      "Rejected: \t105\n"
     ]
    },
    {
     "name": "stderr",
     "output_type": "stream",
     "text": [
      "/Users/shohei.mitani/.pyenv/versions/anaconda3-5.3.1/lib/python3.6/site-packages/boruta/boruta_py.py:418: RuntimeWarning: invalid value encountered in greater\n",
      "  hits = np.where(cur_imp[0] > imp_sha_max)[0]\n",
      "/Users/shohei.mitani/.pyenv/versions/anaconda3-5.3.1/lib/python3.6/site-packages/boruta/boruta_py.py:380: DataConversionWarning: A column-vector y was passed when a 1d array was expected. Please change the shape of y to (n_samples,), for example using ravel().\n",
      "  self.estimator.fit(X, y)\n"
     ]
    },
    {
     "name": "stdout",
     "output_type": "stream",
     "text": [
      "Iteration: \t242 / 500\n",
      "Confirmed: \t20\n",
      "Tentative: \t5\n",
      "Rejected: \t105\n"
     ]
    },
    {
     "name": "stderr",
     "output_type": "stream",
     "text": [
      "/Users/shohei.mitani/.pyenv/versions/anaconda3-5.3.1/lib/python3.6/site-packages/boruta/boruta_py.py:418: RuntimeWarning: invalid value encountered in greater\n",
      "  hits = np.where(cur_imp[0] > imp_sha_max)[0]\n",
      "/Users/shohei.mitani/.pyenv/versions/anaconda3-5.3.1/lib/python3.6/site-packages/boruta/boruta_py.py:380: DataConversionWarning: A column-vector y was passed when a 1d array was expected. Please change the shape of y to (n_samples,), for example using ravel().\n",
      "  self.estimator.fit(X, y)\n"
     ]
    },
    {
     "name": "stdout",
     "output_type": "stream",
     "text": [
      "Iteration: \t243 / 500\n",
      "Confirmed: \t20\n",
      "Tentative: \t5\n",
      "Rejected: \t105\n"
     ]
    },
    {
     "name": "stderr",
     "output_type": "stream",
     "text": [
      "/Users/shohei.mitani/.pyenv/versions/anaconda3-5.3.1/lib/python3.6/site-packages/boruta/boruta_py.py:418: RuntimeWarning: invalid value encountered in greater\n",
      "  hits = np.where(cur_imp[0] > imp_sha_max)[0]\n",
      "/Users/shohei.mitani/.pyenv/versions/anaconda3-5.3.1/lib/python3.6/site-packages/boruta/boruta_py.py:380: DataConversionWarning: A column-vector y was passed when a 1d array was expected. Please change the shape of y to (n_samples,), for example using ravel().\n",
      "  self.estimator.fit(X, y)\n"
     ]
    },
    {
     "name": "stdout",
     "output_type": "stream",
     "text": [
      "Iteration: \t244 / 500\n",
      "Confirmed: \t20\n",
      "Tentative: \t5\n",
      "Rejected: \t105\n"
     ]
    },
    {
     "name": "stderr",
     "output_type": "stream",
     "text": [
      "/Users/shohei.mitani/.pyenv/versions/anaconda3-5.3.1/lib/python3.6/site-packages/boruta/boruta_py.py:418: RuntimeWarning: invalid value encountered in greater\n",
      "  hits = np.where(cur_imp[0] > imp_sha_max)[0]\n",
      "/Users/shohei.mitani/.pyenv/versions/anaconda3-5.3.1/lib/python3.6/site-packages/boruta/boruta_py.py:380: DataConversionWarning: A column-vector y was passed when a 1d array was expected. Please change the shape of y to (n_samples,), for example using ravel().\n",
      "  self.estimator.fit(X, y)\n"
     ]
    },
    {
     "name": "stdout",
     "output_type": "stream",
     "text": [
      "Iteration: \t245 / 500\n",
      "Confirmed: \t20\n",
      "Tentative: \t5\n",
      "Rejected: \t105\n"
     ]
    },
    {
     "name": "stderr",
     "output_type": "stream",
     "text": [
      "/Users/shohei.mitani/.pyenv/versions/anaconda3-5.3.1/lib/python3.6/site-packages/boruta/boruta_py.py:418: RuntimeWarning: invalid value encountered in greater\n",
      "  hits = np.where(cur_imp[0] > imp_sha_max)[0]\n",
      "/Users/shohei.mitani/.pyenv/versions/anaconda3-5.3.1/lib/python3.6/site-packages/boruta/boruta_py.py:380: DataConversionWarning: A column-vector y was passed when a 1d array was expected. Please change the shape of y to (n_samples,), for example using ravel().\n",
      "  self.estimator.fit(X, y)\n"
     ]
    },
    {
     "name": "stdout",
     "output_type": "stream",
     "text": [
      "Iteration: \t246 / 500\n",
      "Confirmed: \t20\n",
      "Tentative: \t5\n",
      "Rejected: \t105\n"
     ]
    },
    {
     "name": "stderr",
     "output_type": "stream",
     "text": [
      "/Users/shohei.mitani/.pyenv/versions/anaconda3-5.3.1/lib/python3.6/site-packages/boruta/boruta_py.py:418: RuntimeWarning: invalid value encountered in greater\n",
      "  hits = np.where(cur_imp[0] > imp_sha_max)[0]\n",
      "/Users/shohei.mitani/.pyenv/versions/anaconda3-5.3.1/lib/python3.6/site-packages/boruta/boruta_py.py:380: DataConversionWarning: A column-vector y was passed when a 1d array was expected. Please change the shape of y to (n_samples,), for example using ravel().\n",
      "  self.estimator.fit(X, y)\n"
     ]
    },
    {
     "name": "stdout",
     "output_type": "stream",
     "text": [
      "Iteration: \t247 / 500\n",
      "Confirmed: \t20\n",
      "Tentative: \t5\n",
      "Rejected: \t105\n"
     ]
    },
    {
     "name": "stderr",
     "output_type": "stream",
     "text": [
      "/Users/shohei.mitani/.pyenv/versions/anaconda3-5.3.1/lib/python3.6/site-packages/boruta/boruta_py.py:418: RuntimeWarning: invalid value encountered in greater\n",
      "  hits = np.where(cur_imp[0] > imp_sha_max)[0]\n",
      "/Users/shohei.mitani/.pyenv/versions/anaconda3-5.3.1/lib/python3.6/site-packages/boruta/boruta_py.py:380: DataConversionWarning: A column-vector y was passed when a 1d array was expected. Please change the shape of y to (n_samples,), for example using ravel().\n",
      "  self.estimator.fit(X, y)\n"
     ]
    },
    {
     "name": "stdout",
     "output_type": "stream",
     "text": [
      "Iteration: \t248 / 500\n",
      "Confirmed: \t20\n",
      "Tentative: \t5\n",
      "Rejected: \t105\n"
     ]
    },
    {
     "name": "stderr",
     "output_type": "stream",
     "text": [
      "/Users/shohei.mitani/.pyenv/versions/anaconda3-5.3.1/lib/python3.6/site-packages/boruta/boruta_py.py:418: RuntimeWarning: invalid value encountered in greater\n",
      "  hits = np.where(cur_imp[0] > imp_sha_max)[0]\n",
      "/Users/shohei.mitani/.pyenv/versions/anaconda3-5.3.1/lib/python3.6/site-packages/boruta/boruta_py.py:380: DataConversionWarning: A column-vector y was passed when a 1d array was expected. Please change the shape of y to (n_samples,), for example using ravel().\n",
      "  self.estimator.fit(X, y)\n"
     ]
    },
    {
     "name": "stdout",
     "output_type": "stream",
     "text": [
      "Iteration: \t249 / 500\n",
      "Confirmed: \t20\n",
      "Tentative: \t5\n",
      "Rejected: \t105\n"
     ]
    },
    {
     "name": "stderr",
     "output_type": "stream",
     "text": [
      "/Users/shohei.mitani/.pyenv/versions/anaconda3-5.3.1/lib/python3.6/site-packages/boruta/boruta_py.py:418: RuntimeWarning: invalid value encountered in greater\n",
      "  hits = np.where(cur_imp[0] > imp_sha_max)[0]\n",
      "/Users/shohei.mitani/.pyenv/versions/anaconda3-5.3.1/lib/python3.6/site-packages/boruta/boruta_py.py:380: DataConversionWarning: A column-vector y was passed when a 1d array was expected. Please change the shape of y to (n_samples,), for example using ravel().\n",
      "  self.estimator.fit(X, y)\n"
     ]
    },
    {
     "name": "stdout",
     "output_type": "stream",
     "text": [
      "Iteration: \t250 / 500\n",
      "Confirmed: \t20\n",
      "Tentative: \t4\n",
      "Rejected: \t106\n"
     ]
    },
    {
     "name": "stderr",
     "output_type": "stream",
     "text": [
      "/Users/shohei.mitani/.pyenv/versions/anaconda3-5.3.1/lib/python3.6/site-packages/boruta/boruta_py.py:418: RuntimeWarning: invalid value encountered in greater\n",
      "  hits = np.where(cur_imp[0] > imp_sha_max)[0]\n",
      "/Users/shohei.mitani/.pyenv/versions/anaconda3-5.3.1/lib/python3.6/site-packages/boruta/boruta_py.py:380: DataConversionWarning: A column-vector y was passed when a 1d array was expected. Please change the shape of y to (n_samples,), for example using ravel().\n",
      "  self.estimator.fit(X, y)\n"
     ]
    },
    {
     "name": "stdout",
     "output_type": "stream",
     "text": [
      "Iteration: \t251 / 500\n",
      "Confirmed: \t20\n",
      "Tentative: \t4\n",
      "Rejected: \t106\n"
     ]
    },
    {
     "name": "stderr",
     "output_type": "stream",
     "text": [
      "/Users/shohei.mitani/.pyenv/versions/anaconda3-5.3.1/lib/python3.6/site-packages/boruta/boruta_py.py:418: RuntimeWarning: invalid value encountered in greater\n",
      "  hits = np.where(cur_imp[0] > imp_sha_max)[0]\n",
      "/Users/shohei.mitani/.pyenv/versions/anaconda3-5.3.1/lib/python3.6/site-packages/boruta/boruta_py.py:380: DataConversionWarning: A column-vector y was passed when a 1d array was expected. Please change the shape of y to (n_samples,), for example using ravel().\n",
      "  self.estimator.fit(X, y)\n"
     ]
    },
    {
     "name": "stdout",
     "output_type": "stream",
     "text": [
      "Iteration: \t252 / 500\n",
      "Confirmed: \t20\n",
      "Tentative: \t4\n",
      "Rejected: \t106\n"
     ]
    },
    {
     "name": "stderr",
     "output_type": "stream",
     "text": [
      "/Users/shohei.mitani/.pyenv/versions/anaconda3-5.3.1/lib/python3.6/site-packages/boruta/boruta_py.py:418: RuntimeWarning: invalid value encountered in greater\n",
      "  hits = np.where(cur_imp[0] > imp_sha_max)[0]\n",
      "/Users/shohei.mitani/.pyenv/versions/anaconda3-5.3.1/lib/python3.6/site-packages/boruta/boruta_py.py:380: DataConversionWarning: A column-vector y was passed when a 1d array was expected. Please change the shape of y to (n_samples,), for example using ravel().\n",
      "  self.estimator.fit(X, y)\n"
     ]
    },
    {
     "name": "stdout",
     "output_type": "stream",
     "text": [
      "Iteration: \t253 / 500\n",
      "Confirmed: \t20\n",
      "Tentative: \t4\n",
      "Rejected: \t106\n"
     ]
    },
    {
     "name": "stderr",
     "output_type": "stream",
     "text": [
      "/Users/shohei.mitani/.pyenv/versions/anaconda3-5.3.1/lib/python3.6/site-packages/boruta/boruta_py.py:418: RuntimeWarning: invalid value encountered in greater\n",
      "  hits = np.where(cur_imp[0] > imp_sha_max)[0]\n",
      "/Users/shohei.mitani/.pyenv/versions/anaconda3-5.3.1/lib/python3.6/site-packages/boruta/boruta_py.py:380: DataConversionWarning: A column-vector y was passed when a 1d array was expected. Please change the shape of y to (n_samples,), for example using ravel().\n",
      "  self.estimator.fit(X, y)\n"
     ]
    },
    {
     "name": "stdout",
     "output_type": "stream",
     "text": [
      "Iteration: \t254 / 500\n",
      "Confirmed: \t20\n",
      "Tentative: \t4\n",
      "Rejected: \t106\n"
     ]
    },
    {
     "name": "stderr",
     "output_type": "stream",
     "text": [
      "/Users/shohei.mitani/.pyenv/versions/anaconda3-5.3.1/lib/python3.6/site-packages/boruta/boruta_py.py:418: RuntimeWarning: invalid value encountered in greater\n",
      "  hits = np.where(cur_imp[0] > imp_sha_max)[0]\n",
      "/Users/shohei.mitani/.pyenv/versions/anaconda3-5.3.1/lib/python3.6/site-packages/boruta/boruta_py.py:380: DataConversionWarning: A column-vector y was passed when a 1d array was expected. Please change the shape of y to (n_samples,), for example using ravel().\n",
      "  self.estimator.fit(X, y)\n"
     ]
    },
    {
     "name": "stdout",
     "output_type": "stream",
     "text": [
      "Iteration: \t255 / 500\n",
      "Confirmed: \t20\n",
      "Tentative: \t4\n",
      "Rejected: \t106\n"
     ]
    },
    {
     "name": "stderr",
     "output_type": "stream",
     "text": [
      "/Users/shohei.mitani/.pyenv/versions/anaconda3-5.3.1/lib/python3.6/site-packages/boruta/boruta_py.py:418: RuntimeWarning: invalid value encountered in greater\n",
      "  hits = np.where(cur_imp[0] > imp_sha_max)[0]\n",
      "/Users/shohei.mitani/.pyenv/versions/anaconda3-5.3.1/lib/python3.6/site-packages/boruta/boruta_py.py:380: DataConversionWarning: A column-vector y was passed when a 1d array was expected. Please change the shape of y to (n_samples,), for example using ravel().\n",
      "  self.estimator.fit(X, y)\n"
     ]
    },
    {
     "name": "stdout",
     "output_type": "stream",
     "text": [
      "Iteration: \t256 / 500\n",
      "Confirmed: \t20\n",
      "Tentative: \t4\n",
      "Rejected: \t106\n"
     ]
    },
    {
     "name": "stderr",
     "output_type": "stream",
     "text": [
      "/Users/shohei.mitani/.pyenv/versions/anaconda3-5.3.1/lib/python3.6/site-packages/boruta/boruta_py.py:418: RuntimeWarning: invalid value encountered in greater\n",
      "  hits = np.where(cur_imp[0] > imp_sha_max)[0]\n",
      "/Users/shohei.mitani/.pyenv/versions/anaconda3-5.3.1/lib/python3.6/site-packages/boruta/boruta_py.py:380: DataConversionWarning: A column-vector y was passed when a 1d array was expected. Please change the shape of y to (n_samples,), for example using ravel().\n",
      "  self.estimator.fit(X, y)\n"
     ]
    },
    {
     "name": "stdout",
     "output_type": "stream",
     "text": [
      "Iteration: \t257 / 500\n",
      "Confirmed: \t20\n",
      "Tentative: \t4\n",
      "Rejected: \t106\n"
     ]
    },
    {
     "name": "stderr",
     "output_type": "stream",
     "text": [
      "/Users/shohei.mitani/.pyenv/versions/anaconda3-5.3.1/lib/python3.6/site-packages/boruta/boruta_py.py:418: RuntimeWarning: invalid value encountered in greater\n",
      "  hits = np.where(cur_imp[0] > imp_sha_max)[0]\n",
      "/Users/shohei.mitani/.pyenv/versions/anaconda3-5.3.1/lib/python3.6/site-packages/boruta/boruta_py.py:380: DataConversionWarning: A column-vector y was passed when a 1d array was expected. Please change the shape of y to (n_samples,), for example using ravel().\n",
      "  self.estimator.fit(X, y)\n"
     ]
    },
    {
     "name": "stdout",
     "output_type": "stream",
     "text": [
      "Iteration: \t258 / 500\n",
      "Confirmed: \t20\n",
      "Tentative: \t4\n",
      "Rejected: \t106\n"
     ]
    },
    {
     "name": "stderr",
     "output_type": "stream",
     "text": [
      "/Users/shohei.mitani/.pyenv/versions/anaconda3-5.3.1/lib/python3.6/site-packages/boruta/boruta_py.py:418: RuntimeWarning: invalid value encountered in greater\n",
      "  hits = np.where(cur_imp[0] > imp_sha_max)[0]\n",
      "/Users/shohei.mitani/.pyenv/versions/anaconda3-5.3.1/lib/python3.6/site-packages/boruta/boruta_py.py:380: DataConversionWarning: A column-vector y was passed when a 1d array was expected. Please change the shape of y to (n_samples,), for example using ravel().\n",
      "  self.estimator.fit(X, y)\n"
     ]
    },
    {
     "name": "stdout",
     "output_type": "stream",
     "text": [
      "Iteration: \t259 / 500\n",
      "Confirmed: \t20\n",
      "Tentative: \t4\n",
      "Rejected: \t106\n"
     ]
    },
    {
     "name": "stderr",
     "output_type": "stream",
     "text": [
      "/Users/shohei.mitani/.pyenv/versions/anaconda3-5.3.1/lib/python3.6/site-packages/boruta/boruta_py.py:418: RuntimeWarning: invalid value encountered in greater\n",
      "  hits = np.where(cur_imp[0] > imp_sha_max)[0]\n",
      "/Users/shohei.mitani/.pyenv/versions/anaconda3-5.3.1/lib/python3.6/site-packages/boruta/boruta_py.py:380: DataConversionWarning: A column-vector y was passed when a 1d array was expected. Please change the shape of y to (n_samples,), for example using ravel().\n",
      "  self.estimator.fit(X, y)\n"
     ]
    },
    {
     "name": "stdout",
     "output_type": "stream",
     "text": [
      "Iteration: \t260 / 500\n",
      "Confirmed: \t20\n",
      "Tentative: \t4\n",
      "Rejected: \t106\n"
     ]
    },
    {
     "name": "stderr",
     "output_type": "stream",
     "text": [
      "/Users/shohei.mitani/.pyenv/versions/anaconda3-5.3.1/lib/python3.6/site-packages/boruta/boruta_py.py:418: RuntimeWarning: invalid value encountered in greater\n",
      "  hits = np.where(cur_imp[0] > imp_sha_max)[0]\n",
      "/Users/shohei.mitani/.pyenv/versions/anaconda3-5.3.1/lib/python3.6/site-packages/boruta/boruta_py.py:380: DataConversionWarning: A column-vector y was passed when a 1d array was expected. Please change the shape of y to (n_samples,), for example using ravel().\n",
      "  self.estimator.fit(X, y)\n"
     ]
    },
    {
     "name": "stdout",
     "output_type": "stream",
     "text": [
      "Iteration: \t261 / 500\n",
      "Confirmed: \t20\n",
      "Tentative: \t4\n",
      "Rejected: \t106\n"
     ]
    },
    {
     "name": "stderr",
     "output_type": "stream",
     "text": [
      "/Users/shohei.mitani/.pyenv/versions/anaconda3-5.3.1/lib/python3.6/site-packages/boruta/boruta_py.py:418: RuntimeWarning: invalid value encountered in greater\n",
      "  hits = np.where(cur_imp[0] > imp_sha_max)[0]\n",
      "/Users/shohei.mitani/.pyenv/versions/anaconda3-5.3.1/lib/python3.6/site-packages/boruta/boruta_py.py:380: DataConversionWarning: A column-vector y was passed when a 1d array was expected. Please change the shape of y to (n_samples,), for example using ravel().\n",
      "  self.estimator.fit(X, y)\n"
     ]
    },
    {
     "name": "stdout",
     "output_type": "stream",
     "text": [
      "Iteration: \t262 / 500\n",
      "Confirmed: \t20\n",
      "Tentative: \t4\n",
      "Rejected: \t106\n"
     ]
    },
    {
     "name": "stderr",
     "output_type": "stream",
     "text": [
      "/Users/shohei.mitani/.pyenv/versions/anaconda3-5.3.1/lib/python3.6/site-packages/boruta/boruta_py.py:418: RuntimeWarning: invalid value encountered in greater\n",
      "  hits = np.where(cur_imp[0] > imp_sha_max)[0]\n",
      "/Users/shohei.mitani/.pyenv/versions/anaconda3-5.3.1/lib/python3.6/site-packages/boruta/boruta_py.py:380: DataConversionWarning: A column-vector y was passed when a 1d array was expected. Please change the shape of y to (n_samples,), for example using ravel().\n",
      "  self.estimator.fit(X, y)\n"
     ]
    },
    {
     "name": "stdout",
     "output_type": "stream",
     "text": [
      "Iteration: \t263 / 500\n",
      "Confirmed: \t20\n",
      "Tentative: \t4\n",
      "Rejected: \t106\n"
     ]
    },
    {
     "name": "stderr",
     "output_type": "stream",
     "text": [
      "/Users/shohei.mitani/.pyenv/versions/anaconda3-5.3.1/lib/python3.6/site-packages/boruta/boruta_py.py:418: RuntimeWarning: invalid value encountered in greater\n",
      "  hits = np.where(cur_imp[0] > imp_sha_max)[0]\n",
      "/Users/shohei.mitani/.pyenv/versions/anaconda3-5.3.1/lib/python3.6/site-packages/boruta/boruta_py.py:380: DataConversionWarning: A column-vector y was passed when a 1d array was expected. Please change the shape of y to (n_samples,), for example using ravel().\n",
      "  self.estimator.fit(X, y)\n"
     ]
    },
    {
     "name": "stdout",
     "output_type": "stream",
     "text": [
      "Iteration: \t264 / 500\n",
      "Confirmed: \t20\n",
      "Tentative: \t4\n",
      "Rejected: \t106\n"
     ]
    },
    {
     "name": "stderr",
     "output_type": "stream",
     "text": [
      "/Users/shohei.mitani/.pyenv/versions/anaconda3-5.3.1/lib/python3.6/site-packages/boruta/boruta_py.py:418: RuntimeWarning: invalid value encountered in greater\n",
      "  hits = np.where(cur_imp[0] > imp_sha_max)[0]\n",
      "/Users/shohei.mitani/.pyenv/versions/anaconda3-5.3.1/lib/python3.6/site-packages/boruta/boruta_py.py:380: DataConversionWarning: A column-vector y was passed when a 1d array was expected. Please change the shape of y to (n_samples,), for example using ravel().\n",
      "  self.estimator.fit(X, y)\n"
     ]
    },
    {
     "name": "stdout",
     "output_type": "stream",
     "text": [
      "Iteration: \t265 / 500\n",
      "Confirmed: \t20\n",
      "Tentative: \t4\n",
      "Rejected: \t106\n"
     ]
    },
    {
     "name": "stderr",
     "output_type": "stream",
     "text": [
      "/Users/shohei.mitani/.pyenv/versions/anaconda3-5.3.1/lib/python3.6/site-packages/boruta/boruta_py.py:418: RuntimeWarning: invalid value encountered in greater\n",
      "  hits = np.where(cur_imp[0] > imp_sha_max)[0]\n",
      "/Users/shohei.mitani/.pyenv/versions/anaconda3-5.3.1/lib/python3.6/site-packages/boruta/boruta_py.py:380: DataConversionWarning: A column-vector y was passed when a 1d array was expected. Please change the shape of y to (n_samples,), for example using ravel().\n",
      "  self.estimator.fit(X, y)\n"
     ]
    },
    {
     "name": "stdout",
     "output_type": "stream",
     "text": [
      "Iteration: \t266 / 500\n",
      "Confirmed: \t20\n",
      "Tentative: \t4\n",
      "Rejected: \t106\n"
     ]
    },
    {
     "name": "stderr",
     "output_type": "stream",
     "text": [
      "/Users/shohei.mitani/.pyenv/versions/anaconda3-5.3.1/lib/python3.6/site-packages/boruta/boruta_py.py:418: RuntimeWarning: invalid value encountered in greater\n",
      "  hits = np.where(cur_imp[0] > imp_sha_max)[0]\n",
      "/Users/shohei.mitani/.pyenv/versions/anaconda3-5.3.1/lib/python3.6/site-packages/boruta/boruta_py.py:380: DataConversionWarning: A column-vector y was passed when a 1d array was expected. Please change the shape of y to (n_samples,), for example using ravel().\n",
      "  self.estimator.fit(X, y)\n"
     ]
    },
    {
     "name": "stdout",
     "output_type": "stream",
     "text": [
      "Iteration: \t267 / 500\n",
      "Confirmed: \t20\n",
      "Tentative: \t4\n",
      "Rejected: \t106\n"
     ]
    },
    {
     "name": "stderr",
     "output_type": "stream",
     "text": [
      "/Users/shohei.mitani/.pyenv/versions/anaconda3-5.3.1/lib/python3.6/site-packages/boruta/boruta_py.py:418: RuntimeWarning: invalid value encountered in greater\n",
      "  hits = np.where(cur_imp[0] > imp_sha_max)[0]\n",
      "/Users/shohei.mitani/.pyenv/versions/anaconda3-5.3.1/lib/python3.6/site-packages/boruta/boruta_py.py:380: DataConversionWarning: A column-vector y was passed when a 1d array was expected. Please change the shape of y to (n_samples,), for example using ravel().\n",
      "  self.estimator.fit(X, y)\n"
     ]
    },
    {
     "name": "stdout",
     "output_type": "stream",
     "text": [
      "Iteration: \t268 / 500\n",
      "Confirmed: \t20\n",
      "Tentative: \t4\n",
      "Rejected: \t106\n"
     ]
    },
    {
     "name": "stderr",
     "output_type": "stream",
     "text": [
      "/Users/shohei.mitani/.pyenv/versions/anaconda3-5.3.1/lib/python3.6/site-packages/boruta/boruta_py.py:418: RuntimeWarning: invalid value encountered in greater\n",
      "  hits = np.where(cur_imp[0] > imp_sha_max)[0]\n",
      "/Users/shohei.mitani/.pyenv/versions/anaconda3-5.3.1/lib/python3.6/site-packages/boruta/boruta_py.py:380: DataConversionWarning: A column-vector y was passed when a 1d array was expected. Please change the shape of y to (n_samples,), for example using ravel().\n",
      "  self.estimator.fit(X, y)\n"
     ]
    },
    {
     "name": "stdout",
     "output_type": "stream",
     "text": [
      "Iteration: \t269 / 500\n",
      "Confirmed: \t20\n",
      "Tentative: \t4\n",
      "Rejected: \t106\n"
     ]
    },
    {
     "name": "stderr",
     "output_type": "stream",
     "text": [
      "/Users/shohei.mitani/.pyenv/versions/anaconda3-5.3.1/lib/python3.6/site-packages/boruta/boruta_py.py:418: RuntimeWarning: invalid value encountered in greater\n",
      "  hits = np.where(cur_imp[0] > imp_sha_max)[0]\n",
      "/Users/shohei.mitani/.pyenv/versions/anaconda3-5.3.1/lib/python3.6/site-packages/boruta/boruta_py.py:380: DataConversionWarning: A column-vector y was passed when a 1d array was expected. Please change the shape of y to (n_samples,), for example using ravel().\n",
      "  self.estimator.fit(X, y)\n"
     ]
    },
    {
     "name": "stdout",
     "output_type": "stream",
     "text": [
      "Iteration: \t270 / 500\n",
      "Confirmed: \t20\n",
      "Tentative: \t4\n",
      "Rejected: \t106\n"
     ]
    },
    {
     "name": "stderr",
     "output_type": "stream",
     "text": [
      "/Users/shohei.mitani/.pyenv/versions/anaconda3-5.3.1/lib/python3.6/site-packages/boruta/boruta_py.py:418: RuntimeWarning: invalid value encountered in greater\n",
      "  hits = np.where(cur_imp[0] > imp_sha_max)[0]\n",
      "/Users/shohei.mitani/.pyenv/versions/anaconda3-5.3.1/lib/python3.6/site-packages/boruta/boruta_py.py:380: DataConversionWarning: A column-vector y was passed when a 1d array was expected. Please change the shape of y to (n_samples,), for example using ravel().\n",
      "  self.estimator.fit(X, y)\n"
     ]
    },
    {
     "name": "stdout",
     "output_type": "stream",
     "text": [
      "Iteration: \t271 / 500\n",
      "Confirmed: \t20\n",
      "Tentative: \t4\n",
      "Rejected: \t106\n"
     ]
    },
    {
     "name": "stderr",
     "output_type": "stream",
     "text": [
      "/Users/shohei.mitani/.pyenv/versions/anaconda3-5.3.1/lib/python3.6/site-packages/boruta/boruta_py.py:418: RuntimeWarning: invalid value encountered in greater\n",
      "  hits = np.where(cur_imp[0] > imp_sha_max)[0]\n",
      "/Users/shohei.mitani/.pyenv/versions/anaconda3-5.3.1/lib/python3.6/site-packages/boruta/boruta_py.py:380: DataConversionWarning: A column-vector y was passed when a 1d array was expected. Please change the shape of y to (n_samples,), for example using ravel().\n",
      "  self.estimator.fit(X, y)\n"
     ]
    },
    {
     "name": "stdout",
     "output_type": "stream",
     "text": [
      "Iteration: \t272 / 500\n",
      "Confirmed: \t20\n",
      "Tentative: \t4\n",
      "Rejected: \t106\n"
     ]
    },
    {
     "name": "stderr",
     "output_type": "stream",
     "text": [
      "/Users/shohei.mitani/.pyenv/versions/anaconda3-5.3.1/lib/python3.6/site-packages/boruta/boruta_py.py:418: RuntimeWarning: invalid value encountered in greater\n",
      "  hits = np.where(cur_imp[0] > imp_sha_max)[0]\n",
      "/Users/shohei.mitani/.pyenv/versions/anaconda3-5.3.1/lib/python3.6/site-packages/boruta/boruta_py.py:380: DataConversionWarning: A column-vector y was passed when a 1d array was expected. Please change the shape of y to (n_samples,), for example using ravel().\n",
      "  self.estimator.fit(X, y)\n"
     ]
    },
    {
     "name": "stdout",
     "output_type": "stream",
     "text": [
      "Iteration: \t273 / 500\n",
      "Confirmed: \t20\n",
      "Tentative: \t4\n",
      "Rejected: \t106\n"
     ]
    },
    {
     "name": "stderr",
     "output_type": "stream",
     "text": [
      "/Users/shohei.mitani/.pyenv/versions/anaconda3-5.3.1/lib/python3.6/site-packages/boruta/boruta_py.py:418: RuntimeWarning: invalid value encountered in greater\n",
      "  hits = np.where(cur_imp[0] > imp_sha_max)[0]\n",
      "/Users/shohei.mitani/.pyenv/versions/anaconda3-5.3.1/lib/python3.6/site-packages/boruta/boruta_py.py:380: DataConversionWarning: A column-vector y was passed when a 1d array was expected. Please change the shape of y to (n_samples,), for example using ravel().\n",
      "  self.estimator.fit(X, y)\n"
     ]
    },
    {
     "name": "stdout",
     "output_type": "stream",
     "text": [
      "Iteration: \t274 / 500\n",
      "Confirmed: \t20\n",
      "Tentative: \t4\n",
      "Rejected: \t106\n"
     ]
    },
    {
     "name": "stderr",
     "output_type": "stream",
     "text": [
      "/Users/shohei.mitani/.pyenv/versions/anaconda3-5.3.1/lib/python3.6/site-packages/boruta/boruta_py.py:418: RuntimeWarning: invalid value encountered in greater\n",
      "  hits = np.where(cur_imp[0] > imp_sha_max)[0]\n",
      "/Users/shohei.mitani/.pyenv/versions/anaconda3-5.3.1/lib/python3.6/site-packages/boruta/boruta_py.py:380: DataConversionWarning: A column-vector y was passed when a 1d array was expected. Please change the shape of y to (n_samples,), for example using ravel().\n",
      "  self.estimator.fit(X, y)\n"
     ]
    },
    {
     "name": "stdout",
     "output_type": "stream",
     "text": [
      "Iteration: \t275 / 500\n",
      "Confirmed: \t20\n",
      "Tentative: \t4\n",
      "Rejected: \t106\n"
     ]
    },
    {
     "name": "stderr",
     "output_type": "stream",
     "text": [
      "/Users/shohei.mitani/.pyenv/versions/anaconda3-5.3.1/lib/python3.6/site-packages/boruta/boruta_py.py:418: RuntimeWarning: invalid value encountered in greater\n",
      "  hits = np.where(cur_imp[0] > imp_sha_max)[0]\n",
      "/Users/shohei.mitani/.pyenv/versions/anaconda3-5.3.1/lib/python3.6/site-packages/boruta/boruta_py.py:380: DataConversionWarning: A column-vector y was passed when a 1d array was expected. Please change the shape of y to (n_samples,), for example using ravel().\n",
      "  self.estimator.fit(X, y)\n"
     ]
    },
    {
     "name": "stdout",
     "output_type": "stream",
     "text": [
      "Iteration: \t276 / 500\n",
      "Confirmed: \t20\n",
      "Tentative: \t4\n",
      "Rejected: \t106\n"
     ]
    },
    {
     "name": "stderr",
     "output_type": "stream",
     "text": [
      "/Users/shohei.mitani/.pyenv/versions/anaconda3-5.3.1/lib/python3.6/site-packages/boruta/boruta_py.py:418: RuntimeWarning: invalid value encountered in greater\n",
      "  hits = np.where(cur_imp[0] > imp_sha_max)[0]\n",
      "/Users/shohei.mitani/.pyenv/versions/anaconda3-5.3.1/lib/python3.6/site-packages/boruta/boruta_py.py:380: DataConversionWarning: A column-vector y was passed when a 1d array was expected. Please change the shape of y to (n_samples,), for example using ravel().\n",
      "  self.estimator.fit(X, y)\n"
     ]
    },
    {
     "name": "stdout",
     "output_type": "stream",
     "text": [
      "Iteration: \t277 / 500\n",
      "Confirmed: \t20\n",
      "Tentative: \t4\n",
      "Rejected: \t106\n"
     ]
    },
    {
     "name": "stderr",
     "output_type": "stream",
     "text": [
      "/Users/shohei.mitani/.pyenv/versions/anaconda3-5.3.1/lib/python3.6/site-packages/boruta/boruta_py.py:418: RuntimeWarning: invalid value encountered in greater\n",
      "  hits = np.where(cur_imp[0] > imp_sha_max)[0]\n",
      "/Users/shohei.mitani/.pyenv/versions/anaconda3-5.3.1/lib/python3.6/site-packages/boruta/boruta_py.py:380: DataConversionWarning: A column-vector y was passed when a 1d array was expected. Please change the shape of y to (n_samples,), for example using ravel().\n",
      "  self.estimator.fit(X, y)\n"
     ]
    },
    {
     "name": "stdout",
     "output_type": "stream",
     "text": [
      "Iteration: \t278 / 500\n",
      "Confirmed: \t20\n",
      "Tentative: \t4\n",
      "Rejected: \t106\n"
     ]
    },
    {
     "name": "stderr",
     "output_type": "stream",
     "text": [
      "/Users/shohei.mitani/.pyenv/versions/anaconda3-5.3.1/lib/python3.6/site-packages/boruta/boruta_py.py:418: RuntimeWarning: invalid value encountered in greater\n",
      "  hits = np.where(cur_imp[0] > imp_sha_max)[0]\n",
      "/Users/shohei.mitani/.pyenv/versions/anaconda3-5.3.1/lib/python3.6/site-packages/boruta/boruta_py.py:380: DataConversionWarning: A column-vector y was passed when a 1d array was expected. Please change the shape of y to (n_samples,), for example using ravel().\n",
      "  self.estimator.fit(X, y)\n"
     ]
    },
    {
     "name": "stdout",
     "output_type": "stream",
     "text": [
      "Iteration: \t279 / 500\n",
      "Confirmed: \t20\n",
      "Tentative: \t4\n",
      "Rejected: \t106\n"
     ]
    },
    {
     "name": "stderr",
     "output_type": "stream",
     "text": [
      "/Users/shohei.mitani/.pyenv/versions/anaconda3-5.3.1/lib/python3.6/site-packages/boruta/boruta_py.py:418: RuntimeWarning: invalid value encountered in greater\n",
      "  hits = np.where(cur_imp[0] > imp_sha_max)[0]\n",
      "/Users/shohei.mitani/.pyenv/versions/anaconda3-5.3.1/lib/python3.6/site-packages/boruta/boruta_py.py:380: DataConversionWarning: A column-vector y was passed when a 1d array was expected. Please change the shape of y to (n_samples,), for example using ravel().\n",
      "  self.estimator.fit(X, y)\n"
     ]
    },
    {
     "name": "stdout",
     "output_type": "stream",
     "text": [
      "Iteration: \t280 / 500\n",
      "Confirmed: \t20\n",
      "Tentative: \t4\n",
      "Rejected: \t106\n"
     ]
    },
    {
     "name": "stderr",
     "output_type": "stream",
     "text": [
      "/Users/shohei.mitani/.pyenv/versions/anaconda3-5.3.1/lib/python3.6/site-packages/boruta/boruta_py.py:418: RuntimeWarning: invalid value encountered in greater\n",
      "  hits = np.where(cur_imp[0] > imp_sha_max)[0]\n",
      "/Users/shohei.mitani/.pyenv/versions/anaconda3-5.3.1/lib/python3.6/site-packages/boruta/boruta_py.py:380: DataConversionWarning: A column-vector y was passed when a 1d array was expected. Please change the shape of y to (n_samples,), for example using ravel().\n",
      "  self.estimator.fit(X, y)\n"
     ]
    },
    {
     "name": "stdout",
     "output_type": "stream",
     "text": [
      "Iteration: \t281 / 500\n",
      "Confirmed: \t20\n",
      "Tentative: \t4\n",
      "Rejected: \t106\n"
     ]
    },
    {
     "name": "stderr",
     "output_type": "stream",
     "text": [
      "/Users/shohei.mitani/.pyenv/versions/anaconda3-5.3.1/lib/python3.6/site-packages/boruta/boruta_py.py:418: RuntimeWarning: invalid value encountered in greater\n",
      "  hits = np.where(cur_imp[0] > imp_sha_max)[0]\n",
      "/Users/shohei.mitani/.pyenv/versions/anaconda3-5.3.1/lib/python3.6/site-packages/boruta/boruta_py.py:380: DataConversionWarning: A column-vector y was passed when a 1d array was expected. Please change the shape of y to (n_samples,), for example using ravel().\n",
      "  self.estimator.fit(X, y)\n"
     ]
    },
    {
     "name": "stdout",
     "output_type": "stream",
     "text": [
      "Iteration: \t282 / 500\n",
      "Confirmed: \t20\n",
      "Tentative: \t4\n",
      "Rejected: \t106\n"
     ]
    },
    {
     "name": "stderr",
     "output_type": "stream",
     "text": [
      "/Users/shohei.mitani/.pyenv/versions/anaconda3-5.3.1/lib/python3.6/site-packages/boruta/boruta_py.py:418: RuntimeWarning: invalid value encountered in greater\n",
      "  hits = np.where(cur_imp[0] > imp_sha_max)[0]\n",
      "/Users/shohei.mitani/.pyenv/versions/anaconda3-5.3.1/lib/python3.6/site-packages/boruta/boruta_py.py:380: DataConversionWarning: A column-vector y was passed when a 1d array was expected. Please change the shape of y to (n_samples,), for example using ravel().\n",
      "  self.estimator.fit(X, y)\n"
     ]
    },
    {
     "name": "stdout",
     "output_type": "stream",
     "text": [
      "Iteration: \t283 / 500\n",
      "Confirmed: \t20\n",
      "Tentative: \t4\n",
      "Rejected: \t106\n"
     ]
    },
    {
     "name": "stderr",
     "output_type": "stream",
     "text": [
      "/Users/shohei.mitani/.pyenv/versions/anaconda3-5.3.1/lib/python3.6/site-packages/boruta/boruta_py.py:418: RuntimeWarning: invalid value encountered in greater\n",
      "  hits = np.where(cur_imp[0] > imp_sha_max)[0]\n",
      "/Users/shohei.mitani/.pyenv/versions/anaconda3-5.3.1/lib/python3.6/site-packages/boruta/boruta_py.py:380: DataConversionWarning: A column-vector y was passed when a 1d array was expected. Please change the shape of y to (n_samples,), for example using ravel().\n",
      "  self.estimator.fit(X, y)\n"
     ]
    },
    {
     "name": "stdout",
     "output_type": "stream",
     "text": [
      "Iteration: \t284 / 500\n",
      "Confirmed: \t20\n",
      "Tentative: \t4\n",
      "Rejected: \t106\n"
     ]
    },
    {
     "name": "stderr",
     "output_type": "stream",
     "text": [
      "/Users/shohei.mitani/.pyenv/versions/anaconda3-5.3.1/lib/python3.6/site-packages/boruta/boruta_py.py:418: RuntimeWarning: invalid value encountered in greater\n",
      "  hits = np.where(cur_imp[0] > imp_sha_max)[0]\n",
      "/Users/shohei.mitani/.pyenv/versions/anaconda3-5.3.1/lib/python3.6/site-packages/boruta/boruta_py.py:380: DataConversionWarning: A column-vector y was passed when a 1d array was expected. Please change the shape of y to (n_samples,), for example using ravel().\n",
      "  self.estimator.fit(X, y)\n"
     ]
    },
    {
     "name": "stdout",
     "output_type": "stream",
     "text": [
      "Iteration: \t285 / 500\n",
      "Confirmed: \t20\n",
      "Tentative: \t4\n",
      "Rejected: \t106\n"
     ]
    },
    {
     "name": "stderr",
     "output_type": "stream",
     "text": [
      "/Users/shohei.mitani/.pyenv/versions/anaconda3-5.3.1/lib/python3.6/site-packages/boruta/boruta_py.py:418: RuntimeWarning: invalid value encountered in greater\n",
      "  hits = np.where(cur_imp[0] > imp_sha_max)[0]\n",
      "/Users/shohei.mitani/.pyenv/versions/anaconda3-5.3.1/lib/python3.6/site-packages/boruta/boruta_py.py:380: DataConversionWarning: A column-vector y was passed when a 1d array was expected. Please change the shape of y to (n_samples,), for example using ravel().\n",
      "  self.estimator.fit(X, y)\n"
     ]
    },
    {
     "name": "stdout",
     "output_type": "stream",
     "text": [
      "Iteration: \t286 / 500\n",
      "Confirmed: \t20\n",
      "Tentative: \t4\n",
      "Rejected: \t106\n"
     ]
    },
    {
     "name": "stderr",
     "output_type": "stream",
     "text": [
      "/Users/shohei.mitani/.pyenv/versions/anaconda3-5.3.1/lib/python3.6/site-packages/boruta/boruta_py.py:418: RuntimeWarning: invalid value encountered in greater\n",
      "  hits = np.where(cur_imp[0] > imp_sha_max)[0]\n",
      "/Users/shohei.mitani/.pyenv/versions/anaconda3-5.3.1/lib/python3.6/site-packages/boruta/boruta_py.py:380: DataConversionWarning: A column-vector y was passed when a 1d array was expected. Please change the shape of y to (n_samples,), for example using ravel().\n",
      "  self.estimator.fit(X, y)\n"
     ]
    },
    {
     "name": "stdout",
     "output_type": "stream",
     "text": [
      "Iteration: \t287 / 500\n",
      "Confirmed: \t20\n",
      "Tentative: \t4\n",
      "Rejected: \t106\n"
     ]
    },
    {
     "name": "stderr",
     "output_type": "stream",
     "text": [
      "/Users/shohei.mitani/.pyenv/versions/anaconda3-5.3.1/lib/python3.6/site-packages/boruta/boruta_py.py:418: RuntimeWarning: invalid value encountered in greater\n",
      "  hits = np.where(cur_imp[0] > imp_sha_max)[0]\n",
      "/Users/shohei.mitani/.pyenv/versions/anaconda3-5.3.1/lib/python3.6/site-packages/boruta/boruta_py.py:380: DataConversionWarning: A column-vector y was passed when a 1d array was expected. Please change the shape of y to (n_samples,), for example using ravel().\n",
      "  self.estimator.fit(X, y)\n"
     ]
    },
    {
     "name": "stdout",
     "output_type": "stream",
     "text": [
      "Iteration: \t288 / 500\n",
      "Confirmed: \t20\n",
      "Tentative: \t4\n",
      "Rejected: \t106\n"
     ]
    },
    {
     "name": "stderr",
     "output_type": "stream",
     "text": [
      "/Users/shohei.mitani/.pyenv/versions/anaconda3-5.3.1/lib/python3.6/site-packages/boruta/boruta_py.py:418: RuntimeWarning: invalid value encountered in greater\n",
      "  hits = np.where(cur_imp[0] > imp_sha_max)[0]\n",
      "/Users/shohei.mitani/.pyenv/versions/anaconda3-5.3.1/lib/python3.6/site-packages/boruta/boruta_py.py:380: DataConversionWarning: A column-vector y was passed when a 1d array was expected. Please change the shape of y to (n_samples,), for example using ravel().\n",
      "  self.estimator.fit(X, y)\n"
     ]
    },
    {
     "name": "stdout",
     "output_type": "stream",
     "text": [
      "Iteration: \t289 / 500\n",
      "Confirmed: \t20\n",
      "Tentative: \t4\n",
      "Rejected: \t106\n"
     ]
    },
    {
     "name": "stderr",
     "output_type": "stream",
     "text": [
      "/Users/shohei.mitani/.pyenv/versions/anaconda3-5.3.1/lib/python3.6/site-packages/boruta/boruta_py.py:418: RuntimeWarning: invalid value encountered in greater\n",
      "  hits = np.where(cur_imp[0] > imp_sha_max)[0]\n",
      "/Users/shohei.mitani/.pyenv/versions/anaconda3-5.3.1/lib/python3.6/site-packages/boruta/boruta_py.py:380: DataConversionWarning: A column-vector y was passed when a 1d array was expected. Please change the shape of y to (n_samples,), for example using ravel().\n",
      "  self.estimator.fit(X, y)\n"
     ]
    },
    {
     "name": "stdout",
     "output_type": "stream",
     "text": [
      "Iteration: \t290 / 500\n",
      "Confirmed: \t20\n",
      "Tentative: \t4\n",
      "Rejected: \t106\n"
     ]
    },
    {
     "name": "stderr",
     "output_type": "stream",
     "text": [
      "/Users/shohei.mitani/.pyenv/versions/anaconda3-5.3.1/lib/python3.6/site-packages/boruta/boruta_py.py:418: RuntimeWarning: invalid value encountered in greater\n",
      "  hits = np.where(cur_imp[0] > imp_sha_max)[0]\n",
      "/Users/shohei.mitani/.pyenv/versions/anaconda3-5.3.1/lib/python3.6/site-packages/boruta/boruta_py.py:380: DataConversionWarning: A column-vector y was passed when a 1d array was expected. Please change the shape of y to (n_samples,), for example using ravel().\n",
      "  self.estimator.fit(X, y)\n"
     ]
    },
    {
     "name": "stdout",
     "output_type": "stream",
     "text": [
      "Iteration: \t291 / 500\n",
      "Confirmed: \t20\n",
      "Tentative: \t4\n",
      "Rejected: \t106\n"
     ]
    },
    {
     "name": "stderr",
     "output_type": "stream",
     "text": [
      "/Users/shohei.mitani/.pyenv/versions/anaconda3-5.3.1/lib/python3.6/site-packages/boruta/boruta_py.py:418: RuntimeWarning: invalid value encountered in greater\n",
      "  hits = np.where(cur_imp[0] > imp_sha_max)[0]\n",
      "/Users/shohei.mitani/.pyenv/versions/anaconda3-5.3.1/lib/python3.6/site-packages/boruta/boruta_py.py:380: DataConversionWarning: A column-vector y was passed when a 1d array was expected. Please change the shape of y to (n_samples,), for example using ravel().\n",
      "  self.estimator.fit(X, y)\n"
     ]
    },
    {
     "name": "stdout",
     "output_type": "stream",
     "text": [
      "Iteration: \t292 / 500\n",
      "Confirmed: \t20\n",
      "Tentative: \t4\n",
      "Rejected: \t106\n"
     ]
    },
    {
     "name": "stderr",
     "output_type": "stream",
     "text": [
      "/Users/shohei.mitani/.pyenv/versions/anaconda3-5.3.1/lib/python3.6/site-packages/boruta/boruta_py.py:418: RuntimeWarning: invalid value encountered in greater\n",
      "  hits = np.where(cur_imp[0] > imp_sha_max)[0]\n",
      "/Users/shohei.mitani/.pyenv/versions/anaconda3-5.3.1/lib/python3.6/site-packages/boruta/boruta_py.py:380: DataConversionWarning: A column-vector y was passed when a 1d array was expected. Please change the shape of y to (n_samples,), for example using ravel().\n",
      "  self.estimator.fit(X, y)\n"
     ]
    },
    {
     "name": "stdout",
     "output_type": "stream",
     "text": [
      "Iteration: \t293 / 500\n",
      "Confirmed: \t20\n",
      "Tentative: \t4\n",
      "Rejected: \t106\n"
     ]
    },
    {
     "name": "stderr",
     "output_type": "stream",
     "text": [
      "/Users/shohei.mitani/.pyenv/versions/anaconda3-5.3.1/lib/python3.6/site-packages/boruta/boruta_py.py:418: RuntimeWarning: invalid value encountered in greater\n",
      "  hits = np.where(cur_imp[0] > imp_sha_max)[0]\n",
      "/Users/shohei.mitani/.pyenv/versions/anaconda3-5.3.1/lib/python3.6/site-packages/boruta/boruta_py.py:380: DataConversionWarning: A column-vector y was passed when a 1d array was expected. Please change the shape of y to (n_samples,), for example using ravel().\n",
      "  self.estimator.fit(X, y)\n"
     ]
    },
    {
     "name": "stdout",
     "output_type": "stream",
     "text": [
      "Iteration: \t294 / 500\n",
      "Confirmed: \t20\n",
      "Tentative: \t4\n",
      "Rejected: \t106\n"
     ]
    },
    {
     "name": "stderr",
     "output_type": "stream",
     "text": [
      "/Users/shohei.mitani/.pyenv/versions/anaconda3-5.3.1/lib/python3.6/site-packages/boruta/boruta_py.py:418: RuntimeWarning: invalid value encountered in greater\n",
      "  hits = np.where(cur_imp[0] > imp_sha_max)[0]\n",
      "/Users/shohei.mitani/.pyenv/versions/anaconda3-5.3.1/lib/python3.6/site-packages/boruta/boruta_py.py:380: DataConversionWarning: A column-vector y was passed when a 1d array was expected. Please change the shape of y to (n_samples,), for example using ravel().\n",
      "  self.estimator.fit(X, y)\n"
     ]
    },
    {
     "name": "stdout",
     "output_type": "stream",
     "text": [
      "Iteration: \t295 / 500\n",
      "Confirmed: \t20\n",
      "Tentative: \t4\n",
      "Rejected: \t106\n"
     ]
    },
    {
     "name": "stderr",
     "output_type": "stream",
     "text": [
      "/Users/shohei.mitani/.pyenv/versions/anaconda3-5.3.1/lib/python3.6/site-packages/boruta/boruta_py.py:418: RuntimeWarning: invalid value encountered in greater\n",
      "  hits = np.where(cur_imp[0] > imp_sha_max)[0]\n",
      "/Users/shohei.mitani/.pyenv/versions/anaconda3-5.3.1/lib/python3.6/site-packages/boruta/boruta_py.py:380: DataConversionWarning: A column-vector y was passed when a 1d array was expected. Please change the shape of y to (n_samples,), for example using ravel().\n",
      "  self.estimator.fit(X, y)\n"
     ]
    },
    {
     "name": "stdout",
     "output_type": "stream",
     "text": [
      "Iteration: \t296 / 500\n",
      "Confirmed: \t20\n",
      "Tentative: \t4\n",
      "Rejected: \t106\n"
     ]
    },
    {
     "name": "stderr",
     "output_type": "stream",
     "text": [
      "/Users/shohei.mitani/.pyenv/versions/anaconda3-5.3.1/lib/python3.6/site-packages/boruta/boruta_py.py:418: RuntimeWarning: invalid value encountered in greater\n",
      "  hits = np.where(cur_imp[0] > imp_sha_max)[0]\n",
      "/Users/shohei.mitani/.pyenv/versions/anaconda3-5.3.1/lib/python3.6/site-packages/boruta/boruta_py.py:380: DataConversionWarning: A column-vector y was passed when a 1d array was expected. Please change the shape of y to (n_samples,), for example using ravel().\n",
      "  self.estimator.fit(X, y)\n"
     ]
    },
    {
     "name": "stdout",
     "output_type": "stream",
     "text": [
      "Iteration: \t297 / 500\n",
      "Confirmed: \t20\n",
      "Tentative: \t4\n",
      "Rejected: \t106\n"
     ]
    },
    {
     "name": "stderr",
     "output_type": "stream",
     "text": [
      "/Users/shohei.mitani/.pyenv/versions/anaconda3-5.3.1/lib/python3.6/site-packages/boruta/boruta_py.py:418: RuntimeWarning: invalid value encountered in greater\n",
      "  hits = np.where(cur_imp[0] > imp_sha_max)[0]\n",
      "/Users/shohei.mitani/.pyenv/versions/anaconda3-5.3.1/lib/python3.6/site-packages/boruta/boruta_py.py:380: DataConversionWarning: A column-vector y was passed when a 1d array was expected. Please change the shape of y to (n_samples,), for example using ravel().\n",
      "  self.estimator.fit(X, y)\n"
     ]
    },
    {
     "name": "stdout",
     "output_type": "stream",
     "text": [
      "Iteration: \t298 / 500\n",
      "Confirmed: \t20\n",
      "Tentative: \t4\n",
      "Rejected: \t106\n"
     ]
    },
    {
     "name": "stderr",
     "output_type": "stream",
     "text": [
      "/Users/shohei.mitani/.pyenv/versions/anaconda3-5.3.1/lib/python3.6/site-packages/boruta/boruta_py.py:418: RuntimeWarning: invalid value encountered in greater\n",
      "  hits = np.where(cur_imp[0] > imp_sha_max)[0]\n",
      "/Users/shohei.mitani/.pyenv/versions/anaconda3-5.3.1/lib/python3.6/site-packages/boruta/boruta_py.py:380: DataConversionWarning: A column-vector y was passed when a 1d array was expected. Please change the shape of y to (n_samples,), for example using ravel().\n",
      "  self.estimator.fit(X, y)\n"
     ]
    },
    {
     "name": "stdout",
     "output_type": "stream",
     "text": [
      "Iteration: \t299 / 500\n",
      "Confirmed: \t20\n",
      "Tentative: \t4\n",
      "Rejected: \t106\n"
     ]
    },
    {
     "name": "stderr",
     "output_type": "stream",
     "text": [
      "/Users/shohei.mitani/.pyenv/versions/anaconda3-5.3.1/lib/python3.6/site-packages/boruta/boruta_py.py:418: RuntimeWarning: invalid value encountered in greater\n",
      "  hits = np.where(cur_imp[0] > imp_sha_max)[0]\n",
      "/Users/shohei.mitani/.pyenv/versions/anaconda3-5.3.1/lib/python3.6/site-packages/boruta/boruta_py.py:380: DataConversionWarning: A column-vector y was passed when a 1d array was expected. Please change the shape of y to (n_samples,), for example using ravel().\n",
      "  self.estimator.fit(X, y)\n"
     ]
    },
    {
     "name": "stdout",
     "output_type": "stream",
     "text": [
      "Iteration: \t300 / 500\n",
      "Confirmed: \t20\n",
      "Tentative: \t4\n",
      "Rejected: \t106\n"
     ]
    },
    {
     "name": "stderr",
     "output_type": "stream",
     "text": [
      "/Users/shohei.mitani/.pyenv/versions/anaconda3-5.3.1/lib/python3.6/site-packages/boruta/boruta_py.py:418: RuntimeWarning: invalid value encountered in greater\n",
      "  hits = np.where(cur_imp[0] > imp_sha_max)[0]\n",
      "/Users/shohei.mitani/.pyenv/versions/anaconda3-5.3.1/lib/python3.6/site-packages/boruta/boruta_py.py:380: DataConversionWarning: A column-vector y was passed when a 1d array was expected. Please change the shape of y to (n_samples,), for example using ravel().\n",
      "  self.estimator.fit(X, y)\n"
     ]
    },
    {
     "name": "stdout",
     "output_type": "stream",
     "text": [
      "Iteration: \t301 / 500\n",
      "Confirmed: \t20\n",
      "Tentative: \t4\n",
      "Rejected: \t106\n"
     ]
    },
    {
     "name": "stderr",
     "output_type": "stream",
     "text": [
      "/Users/shohei.mitani/.pyenv/versions/anaconda3-5.3.1/lib/python3.6/site-packages/boruta/boruta_py.py:418: RuntimeWarning: invalid value encountered in greater\n",
      "  hits = np.where(cur_imp[0] > imp_sha_max)[0]\n",
      "/Users/shohei.mitani/.pyenv/versions/anaconda3-5.3.1/lib/python3.6/site-packages/boruta/boruta_py.py:380: DataConversionWarning: A column-vector y was passed when a 1d array was expected. Please change the shape of y to (n_samples,), for example using ravel().\n",
      "  self.estimator.fit(X, y)\n"
     ]
    },
    {
     "name": "stdout",
     "output_type": "stream",
     "text": [
      "Iteration: \t302 / 500\n",
      "Confirmed: \t20\n",
      "Tentative: \t4\n",
      "Rejected: \t106\n"
     ]
    },
    {
     "name": "stderr",
     "output_type": "stream",
     "text": [
      "/Users/shohei.mitani/.pyenv/versions/anaconda3-5.3.1/lib/python3.6/site-packages/boruta/boruta_py.py:418: RuntimeWarning: invalid value encountered in greater\n",
      "  hits = np.where(cur_imp[0] > imp_sha_max)[0]\n",
      "/Users/shohei.mitani/.pyenv/versions/anaconda3-5.3.1/lib/python3.6/site-packages/boruta/boruta_py.py:380: DataConversionWarning: A column-vector y was passed when a 1d array was expected. Please change the shape of y to (n_samples,), for example using ravel().\n",
      "  self.estimator.fit(X, y)\n"
     ]
    },
    {
     "name": "stdout",
     "output_type": "stream",
     "text": [
      "Iteration: \t303 / 500\n",
      "Confirmed: \t20\n",
      "Tentative: \t4\n",
      "Rejected: \t106\n"
     ]
    },
    {
     "name": "stderr",
     "output_type": "stream",
     "text": [
      "/Users/shohei.mitani/.pyenv/versions/anaconda3-5.3.1/lib/python3.6/site-packages/boruta/boruta_py.py:418: RuntimeWarning: invalid value encountered in greater\n",
      "  hits = np.where(cur_imp[0] > imp_sha_max)[0]\n",
      "/Users/shohei.mitani/.pyenv/versions/anaconda3-5.3.1/lib/python3.6/site-packages/boruta/boruta_py.py:380: DataConversionWarning: A column-vector y was passed when a 1d array was expected. Please change the shape of y to (n_samples,), for example using ravel().\n",
      "  self.estimator.fit(X, y)\n"
     ]
    },
    {
     "name": "stdout",
     "output_type": "stream",
     "text": [
      "Iteration: \t304 / 500\n",
      "Confirmed: \t20\n",
      "Tentative: \t4\n",
      "Rejected: \t106\n"
     ]
    },
    {
     "name": "stderr",
     "output_type": "stream",
     "text": [
      "/Users/shohei.mitani/.pyenv/versions/anaconda3-5.3.1/lib/python3.6/site-packages/boruta/boruta_py.py:418: RuntimeWarning: invalid value encountered in greater\n",
      "  hits = np.where(cur_imp[0] > imp_sha_max)[0]\n",
      "/Users/shohei.mitani/.pyenv/versions/anaconda3-5.3.1/lib/python3.6/site-packages/boruta/boruta_py.py:380: DataConversionWarning: A column-vector y was passed when a 1d array was expected. Please change the shape of y to (n_samples,), for example using ravel().\n",
      "  self.estimator.fit(X, y)\n"
     ]
    },
    {
     "name": "stdout",
     "output_type": "stream",
     "text": [
      "Iteration: \t305 / 500\n",
      "Confirmed: \t20\n",
      "Tentative: \t4\n",
      "Rejected: \t106\n"
     ]
    },
    {
     "name": "stderr",
     "output_type": "stream",
     "text": [
      "/Users/shohei.mitani/.pyenv/versions/anaconda3-5.3.1/lib/python3.6/site-packages/boruta/boruta_py.py:418: RuntimeWarning: invalid value encountered in greater\n",
      "  hits = np.where(cur_imp[0] > imp_sha_max)[0]\n",
      "/Users/shohei.mitani/.pyenv/versions/anaconda3-5.3.1/lib/python3.6/site-packages/boruta/boruta_py.py:380: DataConversionWarning: A column-vector y was passed when a 1d array was expected. Please change the shape of y to (n_samples,), for example using ravel().\n",
      "  self.estimator.fit(X, y)\n"
     ]
    },
    {
     "name": "stdout",
     "output_type": "stream",
     "text": [
      "Iteration: \t306 / 500\n",
      "Confirmed: \t20\n",
      "Tentative: \t4\n",
      "Rejected: \t106\n"
     ]
    },
    {
     "name": "stderr",
     "output_type": "stream",
     "text": [
      "/Users/shohei.mitani/.pyenv/versions/anaconda3-5.3.1/lib/python3.6/site-packages/boruta/boruta_py.py:418: RuntimeWarning: invalid value encountered in greater\n",
      "  hits = np.where(cur_imp[0] > imp_sha_max)[0]\n",
      "/Users/shohei.mitani/.pyenv/versions/anaconda3-5.3.1/lib/python3.6/site-packages/boruta/boruta_py.py:380: DataConversionWarning: A column-vector y was passed when a 1d array was expected. Please change the shape of y to (n_samples,), for example using ravel().\n",
      "  self.estimator.fit(X, y)\n"
     ]
    },
    {
     "name": "stdout",
     "output_type": "stream",
     "text": [
      "Iteration: \t307 / 500\n",
      "Confirmed: \t20\n",
      "Tentative: \t4\n",
      "Rejected: \t106\n"
     ]
    },
    {
     "name": "stderr",
     "output_type": "stream",
     "text": [
      "/Users/shohei.mitani/.pyenv/versions/anaconda3-5.3.1/lib/python3.6/site-packages/boruta/boruta_py.py:418: RuntimeWarning: invalid value encountered in greater\n",
      "  hits = np.where(cur_imp[0] > imp_sha_max)[0]\n",
      "/Users/shohei.mitani/.pyenv/versions/anaconda3-5.3.1/lib/python3.6/site-packages/boruta/boruta_py.py:380: DataConversionWarning: A column-vector y was passed when a 1d array was expected. Please change the shape of y to (n_samples,), for example using ravel().\n",
      "  self.estimator.fit(X, y)\n"
     ]
    },
    {
     "name": "stdout",
     "output_type": "stream",
     "text": [
      "Iteration: \t308 / 500\n",
      "Confirmed: \t20\n",
      "Tentative: \t4\n",
      "Rejected: \t106\n"
     ]
    },
    {
     "name": "stderr",
     "output_type": "stream",
     "text": [
      "/Users/shohei.mitani/.pyenv/versions/anaconda3-5.3.1/lib/python3.6/site-packages/boruta/boruta_py.py:418: RuntimeWarning: invalid value encountered in greater\n",
      "  hits = np.where(cur_imp[0] > imp_sha_max)[0]\n",
      "/Users/shohei.mitani/.pyenv/versions/anaconda3-5.3.1/lib/python3.6/site-packages/boruta/boruta_py.py:380: DataConversionWarning: A column-vector y was passed when a 1d array was expected. Please change the shape of y to (n_samples,), for example using ravel().\n",
      "  self.estimator.fit(X, y)\n"
     ]
    },
    {
     "name": "stdout",
     "output_type": "stream",
     "text": [
      "Iteration: \t309 / 500\n",
      "Confirmed: \t20\n",
      "Tentative: \t4\n",
      "Rejected: \t106\n"
     ]
    },
    {
     "name": "stderr",
     "output_type": "stream",
     "text": [
      "/Users/shohei.mitani/.pyenv/versions/anaconda3-5.3.1/lib/python3.6/site-packages/boruta/boruta_py.py:418: RuntimeWarning: invalid value encountered in greater\n",
      "  hits = np.where(cur_imp[0] > imp_sha_max)[0]\n",
      "/Users/shohei.mitani/.pyenv/versions/anaconda3-5.3.1/lib/python3.6/site-packages/boruta/boruta_py.py:380: DataConversionWarning: A column-vector y was passed when a 1d array was expected. Please change the shape of y to (n_samples,), for example using ravel().\n",
      "  self.estimator.fit(X, y)\n"
     ]
    },
    {
     "name": "stdout",
     "output_type": "stream",
     "text": [
      "Iteration: \t310 / 500\n",
      "Confirmed: \t20\n",
      "Tentative: \t4\n",
      "Rejected: \t106\n"
     ]
    },
    {
     "name": "stderr",
     "output_type": "stream",
     "text": [
      "/Users/shohei.mitani/.pyenv/versions/anaconda3-5.3.1/lib/python3.6/site-packages/boruta/boruta_py.py:418: RuntimeWarning: invalid value encountered in greater\n",
      "  hits = np.where(cur_imp[0] > imp_sha_max)[0]\n",
      "/Users/shohei.mitani/.pyenv/versions/anaconda3-5.3.1/lib/python3.6/site-packages/boruta/boruta_py.py:380: DataConversionWarning: A column-vector y was passed when a 1d array was expected. Please change the shape of y to (n_samples,), for example using ravel().\n",
      "  self.estimator.fit(X, y)\n"
     ]
    },
    {
     "name": "stdout",
     "output_type": "stream",
     "text": [
      "Iteration: \t311 / 500\n",
      "Confirmed: \t20\n",
      "Tentative: \t4\n",
      "Rejected: \t106\n"
     ]
    },
    {
     "name": "stderr",
     "output_type": "stream",
     "text": [
      "/Users/shohei.mitani/.pyenv/versions/anaconda3-5.3.1/lib/python3.6/site-packages/boruta/boruta_py.py:418: RuntimeWarning: invalid value encountered in greater\n",
      "  hits = np.where(cur_imp[0] > imp_sha_max)[0]\n",
      "/Users/shohei.mitani/.pyenv/versions/anaconda3-5.3.1/lib/python3.6/site-packages/boruta/boruta_py.py:380: DataConversionWarning: A column-vector y was passed when a 1d array was expected. Please change the shape of y to (n_samples,), for example using ravel().\n",
      "  self.estimator.fit(X, y)\n"
     ]
    },
    {
     "name": "stdout",
     "output_type": "stream",
     "text": [
      "Iteration: \t312 / 500\n",
      "Confirmed: \t20\n",
      "Tentative: \t4\n",
      "Rejected: \t106\n"
     ]
    },
    {
     "name": "stderr",
     "output_type": "stream",
     "text": [
      "/Users/shohei.mitani/.pyenv/versions/anaconda3-5.3.1/lib/python3.6/site-packages/boruta/boruta_py.py:418: RuntimeWarning: invalid value encountered in greater\n",
      "  hits = np.where(cur_imp[0] > imp_sha_max)[0]\n",
      "/Users/shohei.mitani/.pyenv/versions/anaconda3-5.3.1/lib/python3.6/site-packages/boruta/boruta_py.py:380: DataConversionWarning: A column-vector y was passed when a 1d array was expected. Please change the shape of y to (n_samples,), for example using ravel().\n",
      "  self.estimator.fit(X, y)\n"
     ]
    },
    {
     "name": "stdout",
     "output_type": "stream",
     "text": [
      "Iteration: \t313 / 500\n",
      "Confirmed: \t20\n",
      "Tentative: \t4\n",
      "Rejected: \t106\n"
     ]
    },
    {
     "name": "stderr",
     "output_type": "stream",
     "text": [
      "/Users/shohei.mitani/.pyenv/versions/anaconda3-5.3.1/lib/python3.6/site-packages/boruta/boruta_py.py:418: RuntimeWarning: invalid value encountered in greater\n",
      "  hits = np.where(cur_imp[0] > imp_sha_max)[0]\n",
      "/Users/shohei.mitani/.pyenv/versions/anaconda3-5.3.1/lib/python3.6/site-packages/boruta/boruta_py.py:380: DataConversionWarning: A column-vector y was passed when a 1d array was expected. Please change the shape of y to (n_samples,), for example using ravel().\n",
      "  self.estimator.fit(X, y)\n"
     ]
    },
    {
     "name": "stdout",
     "output_type": "stream",
     "text": [
      "Iteration: \t314 / 500\n",
      "Confirmed: \t20\n",
      "Tentative: \t4\n",
      "Rejected: \t106\n"
     ]
    },
    {
     "name": "stderr",
     "output_type": "stream",
     "text": [
      "/Users/shohei.mitani/.pyenv/versions/anaconda3-5.3.1/lib/python3.6/site-packages/boruta/boruta_py.py:418: RuntimeWarning: invalid value encountered in greater\n",
      "  hits = np.where(cur_imp[0] > imp_sha_max)[0]\n",
      "/Users/shohei.mitani/.pyenv/versions/anaconda3-5.3.1/lib/python3.6/site-packages/boruta/boruta_py.py:380: DataConversionWarning: A column-vector y was passed when a 1d array was expected. Please change the shape of y to (n_samples,), for example using ravel().\n",
      "  self.estimator.fit(X, y)\n"
     ]
    },
    {
     "name": "stdout",
     "output_type": "stream",
     "text": [
      "Iteration: \t315 / 500\n",
      "Confirmed: \t20\n",
      "Tentative: \t4\n",
      "Rejected: \t106\n"
     ]
    },
    {
     "name": "stderr",
     "output_type": "stream",
     "text": [
      "/Users/shohei.mitani/.pyenv/versions/anaconda3-5.3.1/lib/python3.6/site-packages/boruta/boruta_py.py:418: RuntimeWarning: invalid value encountered in greater\n",
      "  hits = np.where(cur_imp[0] > imp_sha_max)[0]\n",
      "/Users/shohei.mitani/.pyenv/versions/anaconda3-5.3.1/lib/python3.6/site-packages/boruta/boruta_py.py:380: DataConversionWarning: A column-vector y was passed when a 1d array was expected. Please change the shape of y to (n_samples,), for example using ravel().\n",
      "  self.estimator.fit(X, y)\n"
     ]
    },
    {
     "name": "stdout",
     "output_type": "stream",
     "text": [
      "Iteration: \t316 / 500\n",
      "Confirmed: \t20\n",
      "Tentative: \t4\n",
      "Rejected: \t106\n"
     ]
    },
    {
     "name": "stderr",
     "output_type": "stream",
     "text": [
      "/Users/shohei.mitani/.pyenv/versions/anaconda3-5.3.1/lib/python3.6/site-packages/boruta/boruta_py.py:418: RuntimeWarning: invalid value encountered in greater\n",
      "  hits = np.where(cur_imp[0] > imp_sha_max)[0]\n",
      "/Users/shohei.mitani/.pyenv/versions/anaconda3-5.3.1/lib/python3.6/site-packages/boruta/boruta_py.py:380: DataConversionWarning: A column-vector y was passed when a 1d array was expected. Please change the shape of y to (n_samples,), for example using ravel().\n",
      "  self.estimator.fit(X, y)\n"
     ]
    },
    {
     "name": "stdout",
     "output_type": "stream",
     "text": [
      "Iteration: \t317 / 500\n",
      "Confirmed: \t20\n",
      "Tentative: \t4\n",
      "Rejected: \t106\n"
     ]
    },
    {
     "name": "stderr",
     "output_type": "stream",
     "text": [
      "/Users/shohei.mitani/.pyenv/versions/anaconda3-5.3.1/lib/python3.6/site-packages/boruta/boruta_py.py:418: RuntimeWarning: invalid value encountered in greater\n",
      "  hits = np.where(cur_imp[0] > imp_sha_max)[0]\n",
      "/Users/shohei.mitani/.pyenv/versions/anaconda3-5.3.1/lib/python3.6/site-packages/boruta/boruta_py.py:380: DataConversionWarning: A column-vector y was passed when a 1d array was expected. Please change the shape of y to (n_samples,), for example using ravel().\n",
      "  self.estimator.fit(X, y)\n"
     ]
    },
    {
     "name": "stdout",
     "output_type": "stream",
     "text": [
      "Iteration: \t318 / 500\n",
      "Confirmed: \t20\n",
      "Tentative: \t4\n",
      "Rejected: \t106\n"
     ]
    },
    {
     "name": "stderr",
     "output_type": "stream",
     "text": [
      "/Users/shohei.mitani/.pyenv/versions/anaconda3-5.3.1/lib/python3.6/site-packages/boruta/boruta_py.py:418: RuntimeWarning: invalid value encountered in greater\n",
      "  hits = np.where(cur_imp[0] > imp_sha_max)[0]\n",
      "/Users/shohei.mitani/.pyenv/versions/anaconda3-5.3.1/lib/python3.6/site-packages/boruta/boruta_py.py:380: DataConversionWarning: A column-vector y was passed when a 1d array was expected. Please change the shape of y to (n_samples,), for example using ravel().\n",
      "  self.estimator.fit(X, y)\n"
     ]
    },
    {
     "name": "stdout",
     "output_type": "stream",
     "text": [
      "Iteration: \t319 / 500\n",
      "Confirmed: \t20\n",
      "Tentative: \t4\n",
      "Rejected: \t106\n"
     ]
    },
    {
     "name": "stderr",
     "output_type": "stream",
     "text": [
      "/Users/shohei.mitani/.pyenv/versions/anaconda3-5.3.1/lib/python3.6/site-packages/boruta/boruta_py.py:418: RuntimeWarning: invalid value encountered in greater\n",
      "  hits = np.where(cur_imp[0] > imp_sha_max)[0]\n",
      "/Users/shohei.mitani/.pyenv/versions/anaconda3-5.3.1/lib/python3.6/site-packages/boruta/boruta_py.py:380: DataConversionWarning: A column-vector y was passed when a 1d array was expected. Please change the shape of y to (n_samples,), for example using ravel().\n",
      "  self.estimator.fit(X, y)\n"
     ]
    },
    {
     "name": "stdout",
     "output_type": "stream",
     "text": [
      "Iteration: \t320 / 500\n",
      "Confirmed: \t20\n",
      "Tentative: \t4\n",
      "Rejected: \t106\n"
     ]
    },
    {
     "name": "stderr",
     "output_type": "stream",
     "text": [
      "/Users/shohei.mitani/.pyenv/versions/anaconda3-5.3.1/lib/python3.6/site-packages/boruta/boruta_py.py:418: RuntimeWarning: invalid value encountered in greater\n",
      "  hits = np.where(cur_imp[0] > imp_sha_max)[0]\n",
      "/Users/shohei.mitani/.pyenv/versions/anaconda3-5.3.1/lib/python3.6/site-packages/boruta/boruta_py.py:380: DataConversionWarning: A column-vector y was passed when a 1d array was expected. Please change the shape of y to (n_samples,), for example using ravel().\n",
      "  self.estimator.fit(X, y)\n"
     ]
    },
    {
     "name": "stdout",
     "output_type": "stream",
     "text": [
      "Iteration: \t321 / 500\n",
      "Confirmed: \t20\n",
      "Tentative: \t4\n",
      "Rejected: \t106\n"
     ]
    },
    {
     "name": "stderr",
     "output_type": "stream",
     "text": [
      "/Users/shohei.mitani/.pyenv/versions/anaconda3-5.3.1/lib/python3.6/site-packages/boruta/boruta_py.py:418: RuntimeWarning: invalid value encountered in greater\n",
      "  hits = np.where(cur_imp[0] > imp_sha_max)[0]\n",
      "/Users/shohei.mitani/.pyenv/versions/anaconda3-5.3.1/lib/python3.6/site-packages/boruta/boruta_py.py:380: DataConversionWarning: A column-vector y was passed when a 1d array was expected. Please change the shape of y to (n_samples,), for example using ravel().\n",
      "  self.estimator.fit(X, y)\n"
     ]
    },
    {
     "name": "stdout",
     "output_type": "stream",
     "text": [
      "Iteration: \t322 / 500\n",
      "Confirmed: \t20\n",
      "Tentative: \t4\n",
      "Rejected: \t106\n"
     ]
    },
    {
     "name": "stderr",
     "output_type": "stream",
     "text": [
      "/Users/shohei.mitani/.pyenv/versions/anaconda3-5.3.1/lib/python3.6/site-packages/boruta/boruta_py.py:418: RuntimeWarning: invalid value encountered in greater\n",
      "  hits = np.where(cur_imp[0] > imp_sha_max)[0]\n",
      "/Users/shohei.mitani/.pyenv/versions/anaconda3-5.3.1/lib/python3.6/site-packages/boruta/boruta_py.py:380: DataConversionWarning: A column-vector y was passed when a 1d array was expected. Please change the shape of y to (n_samples,), for example using ravel().\n",
      "  self.estimator.fit(X, y)\n"
     ]
    },
    {
     "name": "stdout",
     "output_type": "stream",
     "text": [
      "Iteration: \t323 / 500\n",
      "Confirmed: \t20\n",
      "Tentative: \t4\n",
      "Rejected: \t106\n"
     ]
    },
    {
     "name": "stderr",
     "output_type": "stream",
     "text": [
      "/Users/shohei.mitani/.pyenv/versions/anaconda3-5.3.1/lib/python3.6/site-packages/boruta/boruta_py.py:418: RuntimeWarning: invalid value encountered in greater\n",
      "  hits = np.where(cur_imp[0] > imp_sha_max)[0]\n",
      "/Users/shohei.mitani/.pyenv/versions/anaconda3-5.3.1/lib/python3.6/site-packages/boruta/boruta_py.py:380: DataConversionWarning: A column-vector y was passed when a 1d array was expected. Please change the shape of y to (n_samples,), for example using ravel().\n",
      "  self.estimator.fit(X, y)\n"
     ]
    },
    {
     "name": "stdout",
     "output_type": "stream",
     "text": [
      "Iteration: \t324 / 500\n",
      "Confirmed: \t20\n",
      "Tentative: \t4\n",
      "Rejected: \t106\n"
     ]
    },
    {
     "name": "stderr",
     "output_type": "stream",
     "text": [
      "/Users/shohei.mitani/.pyenv/versions/anaconda3-5.3.1/lib/python3.6/site-packages/boruta/boruta_py.py:418: RuntimeWarning: invalid value encountered in greater\n",
      "  hits = np.where(cur_imp[0] > imp_sha_max)[0]\n",
      "/Users/shohei.mitani/.pyenv/versions/anaconda3-5.3.1/lib/python3.6/site-packages/boruta/boruta_py.py:380: DataConversionWarning: A column-vector y was passed when a 1d array was expected. Please change the shape of y to (n_samples,), for example using ravel().\n",
      "  self.estimator.fit(X, y)\n"
     ]
    },
    {
     "name": "stdout",
     "output_type": "stream",
     "text": [
      "Iteration: \t325 / 500\n",
      "Confirmed: \t20\n",
      "Tentative: \t4\n",
      "Rejected: \t106\n"
     ]
    },
    {
     "name": "stderr",
     "output_type": "stream",
     "text": [
      "/Users/shohei.mitani/.pyenv/versions/anaconda3-5.3.1/lib/python3.6/site-packages/boruta/boruta_py.py:418: RuntimeWarning: invalid value encountered in greater\n",
      "  hits = np.where(cur_imp[0] > imp_sha_max)[0]\n",
      "/Users/shohei.mitani/.pyenv/versions/anaconda3-5.3.1/lib/python3.6/site-packages/boruta/boruta_py.py:380: DataConversionWarning: A column-vector y was passed when a 1d array was expected. Please change the shape of y to (n_samples,), for example using ravel().\n",
      "  self.estimator.fit(X, y)\n"
     ]
    },
    {
     "name": "stdout",
     "output_type": "stream",
     "text": [
      "Iteration: \t326 / 500\n",
      "Confirmed: \t20\n",
      "Tentative: \t4\n",
      "Rejected: \t106\n"
     ]
    },
    {
     "name": "stderr",
     "output_type": "stream",
     "text": [
      "/Users/shohei.mitani/.pyenv/versions/anaconda3-5.3.1/lib/python3.6/site-packages/boruta/boruta_py.py:418: RuntimeWarning: invalid value encountered in greater\n",
      "  hits = np.where(cur_imp[0] > imp_sha_max)[0]\n",
      "/Users/shohei.mitani/.pyenv/versions/anaconda3-5.3.1/lib/python3.6/site-packages/boruta/boruta_py.py:380: DataConversionWarning: A column-vector y was passed when a 1d array was expected. Please change the shape of y to (n_samples,), for example using ravel().\n",
      "  self.estimator.fit(X, y)\n"
     ]
    },
    {
     "name": "stdout",
     "output_type": "stream",
     "text": [
      "Iteration: \t327 / 500\n",
      "Confirmed: \t20\n",
      "Tentative: \t4\n",
      "Rejected: \t106\n"
     ]
    },
    {
     "name": "stderr",
     "output_type": "stream",
     "text": [
      "/Users/shohei.mitani/.pyenv/versions/anaconda3-5.3.1/lib/python3.6/site-packages/boruta/boruta_py.py:418: RuntimeWarning: invalid value encountered in greater\n",
      "  hits = np.where(cur_imp[0] > imp_sha_max)[0]\n",
      "/Users/shohei.mitani/.pyenv/versions/anaconda3-5.3.1/lib/python3.6/site-packages/boruta/boruta_py.py:380: DataConversionWarning: A column-vector y was passed when a 1d array was expected. Please change the shape of y to (n_samples,), for example using ravel().\n",
      "  self.estimator.fit(X, y)\n"
     ]
    },
    {
     "name": "stdout",
     "output_type": "stream",
     "text": [
      "Iteration: \t328 / 500\n",
      "Confirmed: \t20\n",
      "Tentative: \t4\n",
      "Rejected: \t106\n"
     ]
    },
    {
     "name": "stderr",
     "output_type": "stream",
     "text": [
      "/Users/shohei.mitani/.pyenv/versions/anaconda3-5.3.1/lib/python3.6/site-packages/boruta/boruta_py.py:418: RuntimeWarning: invalid value encountered in greater\n",
      "  hits = np.where(cur_imp[0] > imp_sha_max)[0]\n",
      "/Users/shohei.mitani/.pyenv/versions/anaconda3-5.3.1/lib/python3.6/site-packages/boruta/boruta_py.py:380: DataConversionWarning: A column-vector y was passed when a 1d array was expected. Please change the shape of y to (n_samples,), for example using ravel().\n",
      "  self.estimator.fit(X, y)\n"
     ]
    },
    {
     "name": "stdout",
     "output_type": "stream",
     "text": [
      "Iteration: \t329 / 500\n",
      "Confirmed: \t20\n",
      "Tentative: \t4\n",
      "Rejected: \t106\n"
     ]
    },
    {
     "name": "stderr",
     "output_type": "stream",
     "text": [
      "/Users/shohei.mitani/.pyenv/versions/anaconda3-5.3.1/lib/python3.6/site-packages/boruta/boruta_py.py:418: RuntimeWarning: invalid value encountered in greater\n",
      "  hits = np.where(cur_imp[0] > imp_sha_max)[0]\n",
      "/Users/shohei.mitani/.pyenv/versions/anaconda3-5.3.1/lib/python3.6/site-packages/boruta/boruta_py.py:380: DataConversionWarning: A column-vector y was passed when a 1d array was expected. Please change the shape of y to (n_samples,), for example using ravel().\n",
      "  self.estimator.fit(X, y)\n"
     ]
    },
    {
     "name": "stdout",
     "output_type": "stream",
     "text": [
      "Iteration: \t330 / 500\n",
      "Confirmed: \t20\n",
      "Tentative: \t4\n",
      "Rejected: \t106\n"
     ]
    },
    {
     "name": "stderr",
     "output_type": "stream",
     "text": [
      "/Users/shohei.mitani/.pyenv/versions/anaconda3-5.3.1/lib/python3.6/site-packages/boruta/boruta_py.py:418: RuntimeWarning: invalid value encountered in greater\n",
      "  hits = np.where(cur_imp[0] > imp_sha_max)[0]\n",
      "/Users/shohei.mitani/.pyenv/versions/anaconda3-5.3.1/lib/python3.6/site-packages/boruta/boruta_py.py:380: DataConversionWarning: A column-vector y was passed when a 1d array was expected. Please change the shape of y to (n_samples,), for example using ravel().\n",
      "  self.estimator.fit(X, y)\n"
     ]
    },
    {
     "name": "stdout",
     "output_type": "stream",
     "text": [
      "Iteration: \t331 / 500\n",
      "Confirmed: \t20\n",
      "Tentative: \t4\n",
      "Rejected: \t106\n"
     ]
    },
    {
     "name": "stderr",
     "output_type": "stream",
     "text": [
      "/Users/shohei.mitani/.pyenv/versions/anaconda3-5.3.1/lib/python3.6/site-packages/boruta/boruta_py.py:418: RuntimeWarning: invalid value encountered in greater\n",
      "  hits = np.where(cur_imp[0] > imp_sha_max)[0]\n",
      "/Users/shohei.mitani/.pyenv/versions/anaconda3-5.3.1/lib/python3.6/site-packages/boruta/boruta_py.py:380: DataConversionWarning: A column-vector y was passed when a 1d array was expected. Please change the shape of y to (n_samples,), for example using ravel().\n",
      "  self.estimator.fit(X, y)\n"
     ]
    },
    {
     "name": "stdout",
     "output_type": "stream",
     "text": [
      "Iteration: \t332 / 500\n",
      "Confirmed: \t20\n",
      "Tentative: \t4\n",
      "Rejected: \t106\n"
     ]
    },
    {
     "name": "stderr",
     "output_type": "stream",
     "text": [
      "/Users/shohei.mitani/.pyenv/versions/anaconda3-5.3.1/lib/python3.6/site-packages/boruta/boruta_py.py:418: RuntimeWarning: invalid value encountered in greater\n",
      "  hits = np.where(cur_imp[0] > imp_sha_max)[0]\n",
      "/Users/shohei.mitani/.pyenv/versions/anaconda3-5.3.1/lib/python3.6/site-packages/boruta/boruta_py.py:380: DataConversionWarning: A column-vector y was passed when a 1d array was expected. Please change the shape of y to (n_samples,), for example using ravel().\n",
      "  self.estimator.fit(X, y)\n"
     ]
    },
    {
     "name": "stdout",
     "output_type": "stream",
     "text": [
      "Iteration: \t333 / 500\n",
      "Confirmed: \t20\n",
      "Tentative: \t4\n",
      "Rejected: \t106\n"
     ]
    },
    {
     "name": "stderr",
     "output_type": "stream",
     "text": [
      "/Users/shohei.mitani/.pyenv/versions/anaconda3-5.3.1/lib/python3.6/site-packages/boruta/boruta_py.py:418: RuntimeWarning: invalid value encountered in greater\n",
      "  hits = np.where(cur_imp[0] > imp_sha_max)[0]\n",
      "/Users/shohei.mitani/.pyenv/versions/anaconda3-5.3.1/lib/python3.6/site-packages/boruta/boruta_py.py:380: DataConversionWarning: A column-vector y was passed when a 1d array was expected. Please change the shape of y to (n_samples,), for example using ravel().\n",
      "  self.estimator.fit(X, y)\n"
     ]
    },
    {
     "name": "stdout",
     "output_type": "stream",
     "text": [
      "Iteration: \t334 / 500\n",
      "Confirmed: \t20\n",
      "Tentative: \t4\n",
      "Rejected: \t106\n"
     ]
    },
    {
     "name": "stderr",
     "output_type": "stream",
     "text": [
      "/Users/shohei.mitani/.pyenv/versions/anaconda3-5.3.1/lib/python3.6/site-packages/boruta/boruta_py.py:418: RuntimeWarning: invalid value encountered in greater\n",
      "  hits = np.where(cur_imp[0] > imp_sha_max)[0]\n",
      "/Users/shohei.mitani/.pyenv/versions/anaconda3-5.3.1/lib/python3.6/site-packages/boruta/boruta_py.py:380: DataConversionWarning: A column-vector y was passed when a 1d array was expected. Please change the shape of y to (n_samples,), for example using ravel().\n",
      "  self.estimator.fit(X, y)\n"
     ]
    },
    {
     "name": "stdout",
     "output_type": "stream",
     "text": [
      "Iteration: \t335 / 500\n",
      "Confirmed: \t20\n",
      "Tentative: \t4\n",
      "Rejected: \t106\n"
     ]
    },
    {
     "name": "stderr",
     "output_type": "stream",
     "text": [
      "/Users/shohei.mitani/.pyenv/versions/anaconda3-5.3.1/lib/python3.6/site-packages/boruta/boruta_py.py:418: RuntimeWarning: invalid value encountered in greater\n",
      "  hits = np.where(cur_imp[0] > imp_sha_max)[0]\n",
      "/Users/shohei.mitani/.pyenv/versions/anaconda3-5.3.1/lib/python3.6/site-packages/boruta/boruta_py.py:380: DataConversionWarning: A column-vector y was passed when a 1d array was expected. Please change the shape of y to (n_samples,), for example using ravel().\n",
      "  self.estimator.fit(X, y)\n"
     ]
    },
    {
     "name": "stdout",
     "output_type": "stream",
     "text": [
      "Iteration: \t336 / 500\n",
      "Confirmed: \t20\n",
      "Tentative: \t4\n",
      "Rejected: \t106\n"
     ]
    },
    {
     "name": "stderr",
     "output_type": "stream",
     "text": [
      "/Users/shohei.mitani/.pyenv/versions/anaconda3-5.3.1/lib/python3.6/site-packages/boruta/boruta_py.py:418: RuntimeWarning: invalid value encountered in greater\n",
      "  hits = np.where(cur_imp[0] > imp_sha_max)[0]\n",
      "/Users/shohei.mitani/.pyenv/versions/anaconda3-5.3.1/lib/python3.6/site-packages/boruta/boruta_py.py:380: DataConversionWarning: A column-vector y was passed when a 1d array was expected. Please change the shape of y to (n_samples,), for example using ravel().\n",
      "  self.estimator.fit(X, y)\n"
     ]
    },
    {
     "name": "stdout",
     "output_type": "stream",
     "text": [
      "Iteration: \t337 / 500\n",
      "Confirmed: \t20\n",
      "Tentative: \t4\n",
      "Rejected: \t106\n"
     ]
    },
    {
     "name": "stderr",
     "output_type": "stream",
     "text": [
      "/Users/shohei.mitani/.pyenv/versions/anaconda3-5.3.1/lib/python3.6/site-packages/boruta/boruta_py.py:418: RuntimeWarning: invalid value encountered in greater\n",
      "  hits = np.where(cur_imp[0] > imp_sha_max)[0]\n",
      "/Users/shohei.mitani/.pyenv/versions/anaconda3-5.3.1/lib/python3.6/site-packages/boruta/boruta_py.py:380: DataConversionWarning: A column-vector y was passed when a 1d array was expected. Please change the shape of y to (n_samples,), for example using ravel().\n",
      "  self.estimator.fit(X, y)\n"
     ]
    },
    {
     "name": "stdout",
     "output_type": "stream",
     "text": [
      "Iteration: \t338 / 500\n",
      "Confirmed: \t20\n",
      "Tentative: \t4\n",
      "Rejected: \t106\n"
     ]
    },
    {
     "name": "stderr",
     "output_type": "stream",
     "text": [
      "/Users/shohei.mitani/.pyenv/versions/anaconda3-5.3.1/lib/python3.6/site-packages/boruta/boruta_py.py:418: RuntimeWarning: invalid value encountered in greater\n",
      "  hits = np.where(cur_imp[0] > imp_sha_max)[0]\n",
      "/Users/shohei.mitani/.pyenv/versions/anaconda3-5.3.1/lib/python3.6/site-packages/boruta/boruta_py.py:380: DataConversionWarning: A column-vector y was passed when a 1d array was expected. Please change the shape of y to (n_samples,), for example using ravel().\n",
      "  self.estimator.fit(X, y)\n"
     ]
    },
    {
     "name": "stdout",
     "output_type": "stream",
     "text": [
      "Iteration: \t339 / 500\n",
      "Confirmed: \t20\n",
      "Tentative: \t4\n",
      "Rejected: \t106\n"
     ]
    },
    {
     "name": "stderr",
     "output_type": "stream",
     "text": [
      "/Users/shohei.mitani/.pyenv/versions/anaconda3-5.3.1/lib/python3.6/site-packages/boruta/boruta_py.py:418: RuntimeWarning: invalid value encountered in greater\n",
      "  hits = np.where(cur_imp[0] > imp_sha_max)[0]\n",
      "/Users/shohei.mitani/.pyenv/versions/anaconda3-5.3.1/lib/python3.6/site-packages/boruta/boruta_py.py:380: DataConversionWarning: A column-vector y was passed when a 1d array was expected. Please change the shape of y to (n_samples,), for example using ravel().\n",
      "  self.estimator.fit(X, y)\n"
     ]
    },
    {
     "name": "stdout",
     "output_type": "stream",
     "text": [
      "Iteration: \t340 / 500\n",
      "Confirmed: \t20\n",
      "Tentative: \t4\n",
      "Rejected: \t106\n"
     ]
    },
    {
     "name": "stderr",
     "output_type": "stream",
     "text": [
      "/Users/shohei.mitani/.pyenv/versions/anaconda3-5.3.1/lib/python3.6/site-packages/boruta/boruta_py.py:418: RuntimeWarning: invalid value encountered in greater\n",
      "  hits = np.where(cur_imp[0] > imp_sha_max)[0]\n",
      "/Users/shohei.mitani/.pyenv/versions/anaconda3-5.3.1/lib/python3.6/site-packages/boruta/boruta_py.py:380: DataConversionWarning: A column-vector y was passed when a 1d array was expected. Please change the shape of y to (n_samples,), for example using ravel().\n",
      "  self.estimator.fit(X, y)\n"
     ]
    },
    {
     "name": "stdout",
     "output_type": "stream",
     "text": [
      "Iteration: \t341 / 500\n",
      "Confirmed: \t20\n",
      "Tentative: \t4\n",
      "Rejected: \t106\n"
     ]
    },
    {
     "name": "stderr",
     "output_type": "stream",
     "text": [
      "/Users/shohei.mitani/.pyenv/versions/anaconda3-5.3.1/lib/python3.6/site-packages/boruta/boruta_py.py:418: RuntimeWarning: invalid value encountered in greater\n",
      "  hits = np.where(cur_imp[0] > imp_sha_max)[0]\n",
      "/Users/shohei.mitani/.pyenv/versions/anaconda3-5.3.1/lib/python3.6/site-packages/boruta/boruta_py.py:380: DataConversionWarning: A column-vector y was passed when a 1d array was expected. Please change the shape of y to (n_samples,), for example using ravel().\n",
      "  self.estimator.fit(X, y)\n"
     ]
    },
    {
     "name": "stdout",
     "output_type": "stream",
     "text": [
      "Iteration: \t342 / 500\n",
      "Confirmed: \t20\n",
      "Tentative: \t4\n",
      "Rejected: \t106\n"
     ]
    },
    {
     "name": "stderr",
     "output_type": "stream",
     "text": [
      "/Users/shohei.mitani/.pyenv/versions/anaconda3-5.3.1/lib/python3.6/site-packages/boruta/boruta_py.py:418: RuntimeWarning: invalid value encountered in greater\n",
      "  hits = np.where(cur_imp[0] > imp_sha_max)[0]\n",
      "/Users/shohei.mitani/.pyenv/versions/anaconda3-5.3.1/lib/python3.6/site-packages/boruta/boruta_py.py:380: DataConversionWarning: A column-vector y was passed when a 1d array was expected. Please change the shape of y to (n_samples,), for example using ravel().\n",
      "  self.estimator.fit(X, y)\n"
     ]
    },
    {
     "name": "stdout",
     "output_type": "stream",
     "text": [
      "Iteration: \t343 / 500\n",
      "Confirmed: \t20\n",
      "Tentative: \t4\n",
      "Rejected: \t106\n"
     ]
    },
    {
     "name": "stderr",
     "output_type": "stream",
     "text": [
      "/Users/shohei.mitani/.pyenv/versions/anaconda3-5.3.1/lib/python3.6/site-packages/boruta/boruta_py.py:418: RuntimeWarning: invalid value encountered in greater\n",
      "  hits = np.where(cur_imp[0] > imp_sha_max)[0]\n",
      "/Users/shohei.mitani/.pyenv/versions/anaconda3-5.3.1/lib/python3.6/site-packages/boruta/boruta_py.py:380: DataConversionWarning: A column-vector y was passed when a 1d array was expected. Please change the shape of y to (n_samples,), for example using ravel().\n",
      "  self.estimator.fit(X, y)\n"
     ]
    },
    {
     "name": "stdout",
     "output_type": "stream",
     "text": [
      "Iteration: \t344 / 500\n",
      "Confirmed: \t20\n",
      "Tentative: \t4\n",
      "Rejected: \t106\n"
     ]
    },
    {
     "name": "stderr",
     "output_type": "stream",
     "text": [
      "/Users/shohei.mitani/.pyenv/versions/anaconda3-5.3.1/lib/python3.6/site-packages/boruta/boruta_py.py:418: RuntimeWarning: invalid value encountered in greater\n",
      "  hits = np.where(cur_imp[0] > imp_sha_max)[0]\n",
      "/Users/shohei.mitani/.pyenv/versions/anaconda3-5.3.1/lib/python3.6/site-packages/boruta/boruta_py.py:380: DataConversionWarning: A column-vector y was passed when a 1d array was expected. Please change the shape of y to (n_samples,), for example using ravel().\n",
      "  self.estimator.fit(X, y)\n"
     ]
    },
    {
     "name": "stdout",
     "output_type": "stream",
     "text": [
      "Iteration: \t345 / 500\n",
      "Confirmed: \t20\n",
      "Tentative: \t4\n",
      "Rejected: \t106\n"
     ]
    },
    {
     "name": "stderr",
     "output_type": "stream",
     "text": [
      "/Users/shohei.mitani/.pyenv/versions/anaconda3-5.3.1/lib/python3.6/site-packages/boruta/boruta_py.py:418: RuntimeWarning: invalid value encountered in greater\n",
      "  hits = np.where(cur_imp[0] > imp_sha_max)[0]\n",
      "/Users/shohei.mitani/.pyenv/versions/anaconda3-5.3.1/lib/python3.6/site-packages/boruta/boruta_py.py:380: DataConversionWarning: A column-vector y was passed when a 1d array was expected. Please change the shape of y to (n_samples,), for example using ravel().\n",
      "  self.estimator.fit(X, y)\n"
     ]
    },
    {
     "name": "stdout",
     "output_type": "stream",
     "text": [
      "Iteration: \t346 / 500\n",
      "Confirmed: \t20\n",
      "Tentative: \t4\n",
      "Rejected: \t106\n"
     ]
    },
    {
     "name": "stderr",
     "output_type": "stream",
     "text": [
      "/Users/shohei.mitani/.pyenv/versions/anaconda3-5.3.1/lib/python3.6/site-packages/boruta/boruta_py.py:418: RuntimeWarning: invalid value encountered in greater\n",
      "  hits = np.where(cur_imp[0] > imp_sha_max)[0]\n",
      "/Users/shohei.mitani/.pyenv/versions/anaconda3-5.3.1/lib/python3.6/site-packages/boruta/boruta_py.py:380: DataConversionWarning: A column-vector y was passed when a 1d array was expected. Please change the shape of y to (n_samples,), for example using ravel().\n",
      "  self.estimator.fit(X, y)\n"
     ]
    },
    {
     "name": "stdout",
     "output_type": "stream",
     "text": [
      "Iteration: \t347 / 500\n",
      "Confirmed: \t20\n",
      "Tentative: \t4\n",
      "Rejected: \t106\n"
     ]
    },
    {
     "name": "stderr",
     "output_type": "stream",
     "text": [
      "/Users/shohei.mitani/.pyenv/versions/anaconda3-5.3.1/lib/python3.6/site-packages/boruta/boruta_py.py:418: RuntimeWarning: invalid value encountered in greater\n",
      "  hits = np.where(cur_imp[0] > imp_sha_max)[0]\n",
      "/Users/shohei.mitani/.pyenv/versions/anaconda3-5.3.1/lib/python3.6/site-packages/boruta/boruta_py.py:380: DataConversionWarning: A column-vector y was passed when a 1d array was expected. Please change the shape of y to (n_samples,), for example using ravel().\n",
      "  self.estimator.fit(X, y)\n"
     ]
    },
    {
     "name": "stdout",
     "output_type": "stream",
     "text": [
      "Iteration: \t348 / 500\n",
      "Confirmed: \t20\n",
      "Tentative: \t4\n",
      "Rejected: \t106\n"
     ]
    },
    {
     "name": "stderr",
     "output_type": "stream",
     "text": [
      "/Users/shohei.mitani/.pyenv/versions/anaconda3-5.3.1/lib/python3.6/site-packages/boruta/boruta_py.py:418: RuntimeWarning: invalid value encountered in greater\n",
      "  hits = np.where(cur_imp[0] > imp_sha_max)[0]\n",
      "/Users/shohei.mitani/.pyenv/versions/anaconda3-5.3.1/lib/python3.6/site-packages/boruta/boruta_py.py:380: DataConversionWarning: A column-vector y was passed when a 1d array was expected. Please change the shape of y to (n_samples,), for example using ravel().\n",
      "  self.estimator.fit(X, y)\n"
     ]
    },
    {
     "name": "stdout",
     "output_type": "stream",
     "text": [
      "Iteration: \t349 / 500\n",
      "Confirmed: \t20\n",
      "Tentative: \t4\n",
      "Rejected: \t106\n"
     ]
    },
    {
     "name": "stderr",
     "output_type": "stream",
     "text": [
      "/Users/shohei.mitani/.pyenv/versions/anaconda3-5.3.1/lib/python3.6/site-packages/boruta/boruta_py.py:418: RuntimeWarning: invalid value encountered in greater\n",
      "  hits = np.where(cur_imp[0] > imp_sha_max)[0]\n",
      "/Users/shohei.mitani/.pyenv/versions/anaconda3-5.3.1/lib/python3.6/site-packages/boruta/boruta_py.py:380: DataConversionWarning: A column-vector y was passed when a 1d array was expected. Please change the shape of y to (n_samples,), for example using ravel().\n",
      "  self.estimator.fit(X, y)\n"
     ]
    },
    {
     "name": "stdout",
     "output_type": "stream",
     "text": [
      "Iteration: \t350 / 500\n",
      "Confirmed: \t20\n",
      "Tentative: \t4\n",
      "Rejected: \t106\n"
     ]
    },
    {
     "name": "stderr",
     "output_type": "stream",
     "text": [
      "/Users/shohei.mitani/.pyenv/versions/anaconda3-5.3.1/lib/python3.6/site-packages/boruta/boruta_py.py:418: RuntimeWarning: invalid value encountered in greater\n",
      "  hits = np.where(cur_imp[0] > imp_sha_max)[0]\n",
      "/Users/shohei.mitani/.pyenv/versions/anaconda3-5.3.1/lib/python3.6/site-packages/boruta/boruta_py.py:380: DataConversionWarning: A column-vector y was passed when a 1d array was expected. Please change the shape of y to (n_samples,), for example using ravel().\n",
      "  self.estimator.fit(X, y)\n"
     ]
    },
    {
     "name": "stdout",
     "output_type": "stream",
     "text": [
      "Iteration: \t351 / 500\n",
      "Confirmed: \t20\n",
      "Tentative: \t4\n",
      "Rejected: \t106\n"
     ]
    },
    {
     "name": "stderr",
     "output_type": "stream",
     "text": [
      "/Users/shohei.mitani/.pyenv/versions/anaconda3-5.3.1/lib/python3.6/site-packages/boruta/boruta_py.py:418: RuntimeWarning: invalid value encountered in greater\n",
      "  hits = np.where(cur_imp[0] > imp_sha_max)[0]\n",
      "/Users/shohei.mitani/.pyenv/versions/anaconda3-5.3.1/lib/python3.6/site-packages/boruta/boruta_py.py:380: DataConversionWarning: A column-vector y was passed when a 1d array was expected. Please change the shape of y to (n_samples,), for example using ravel().\n",
      "  self.estimator.fit(X, y)\n"
     ]
    },
    {
     "name": "stdout",
     "output_type": "stream",
     "text": [
      "Iteration: \t352 / 500\n",
      "Confirmed: \t20\n",
      "Tentative: \t4\n",
      "Rejected: \t106\n"
     ]
    },
    {
     "name": "stderr",
     "output_type": "stream",
     "text": [
      "/Users/shohei.mitani/.pyenv/versions/anaconda3-5.3.1/lib/python3.6/site-packages/boruta/boruta_py.py:418: RuntimeWarning: invalid value encountered in greater\n",
      "  hits = np.where(cur_imp[0] > imp_sha_max)[0]\n",
      "/Users/shohei.mitani/.pyenv/versions/anaconda3-5.3.1/lib/python3.6/site-packages/boruta/boruta_py.py:380: DataConversionWarning: A column-vector y was passed when a 1d array was expected. Please change the shape of y to (n_samples,), for example using ravel().\n",
      "  self.estimator.fit(X, y)\n"
     ]
    },
    {
     "name": "stdout",
     "output_type": "stream",
     "text": [
      "Iteration: \t353 / 500\n",
      "Confirmed: \t20\n",
      "Tentative: \t4\n",
      "Rejected: \t106\n"
     ]
    },
    {
     "name": "stderr",
     "output_type": "stream",
     "text": [
      "/Users/shohei.mitani/.pyenv/versions/anaconda3-5.3.1/lib/python3.6/site-packages/boruta/boruta_py.py:418: RuntimeWarning: invalid value encountered in greater\n",
      "  hits = np.where(cur_imp[0] > imp_sha_max)[0]\n",
      "/Users/shohei.mitani/.pyenv/versions/anaconda3-5.3.1/lib/python3.6/site-packages/boruta/boruta_py.py:380: DataConversionWarning: A column-vector y was passed when a 1d array was expected. Please change the shape of y to (n_samples,), for example using ravel().\n",
      "  self.estimator.fit(X, y)\n"
     ]
    },
    {
     "name": "stdout",
     "output_type": "stream",
     "text": [
      "Iteration: \t354 / 500\n",
      "Confirmed: \t20\n",
      "Tentative: \t4\n",
      "Rejected: \t106\n"
     ]
    },
    {
     "name": "stderr",
     "output_type": "stream",
     "text": [
      "/Users/shohei.mitani/.pyenv/versions/anaconda3-5.3.1/lib/python3.6/site-packages/boruta/boruta_py.py:418: RuntimeWarning: invalid value encountered in greater\n",
      "  hits = np.where(cur_imp[0] > imp_sha_max)[0]\n",
      "/Users/shohei.mitani/.pyenv/versions/anaconda3-5.3.1/lib/python3.6/site-packages/boruta/boruta_py.py:380: DataConversionWarning: A column-vector y was passed when a 1d array was expected. Please change the shape of y to (n_samples,), for example using ravel().\n",
      "  self.estimator.fit(X, y)\n"
     ]
    },
    {
     "name": "stdout",
     "output_type": "stream",
     "text": [
      "Iteration: \t355 / 500\n",
      "Confirmed: \t20\n",
      "Tentative: \t4\n",
      "Rejected: \t106\n"
     ]
    },
    {
     "name": "stderr",
     "output_type": "stream",
     "text": [
      "/Users/shohei.mitani/.pyenv/versions/anaconda3-5.3.1/lib/python3.6/site-packages/boruta/boruta_py.py:418: RuntimeWarning: invalid value encountered in greater\n",
      "  hits = np.where(cur_imp[0] > imp_sha_max)[0]\n",
      "/Users/shohei.mitani/.pyenv/versions/anaconda3-5.3.1/lib/python3.6/site-packages/boruta/boruta_py.py:380: DataConversionWarning: A column-vector y was passed when a 1d array was expected. Please change the shape of y to (n_samples,), for example using ravel().\n",
      "  self.estimator.fit(X, y)\n"
     ]
    },
    {
     "name": "stdout",
     "output_type": "stream",
     "text": [
      "Iteration: \t356 / 500\n",
      "Confirmed: \t20\n",
      "Tentative: \t4\n",
      "Rejected: \t106\n"
     ]
    },
    {
     "name": "stderr",
     "output_type": "stream",
     "text": [
      "/Users/shohei.mitani/.pyenv/versions/anaconda3-5.3.1/lib/python3.6/site-packages/boruta/boruta_py.py:418: RuntimeWarning: invalid value encountered in greater\n",
      "  hits = np.where(cur_imp[0] > imp_sha_max)[0]\n",
      "/Users/shohei.mitani/.pyenv/versions/anaconda3-5.3.1/lib/python3.6/site-packages/boruta/boruta_py.py:380: DataConversionWarning: A column-vector y was passed when a 1d array was expected. Please change the shape of y to (n_samples,), for example using ravel().\n",
      "  self.estimator.fit(X, y)\n"
     ]
    },
    {
     "name": "stdout",
     "output_type": "stream",
     "text": [
      "Iteration: \t357 / 500\n",
      "Confirmed: \t20\n",
      "Tentative: \t4\n",
      "Rejected: \t106\n"
     ]
    },
    {
     "name": "stderr",
     "output_type": "stream",
     "text": [
      "/Users/shohei.mitani/.pyenv/versions/anaconda3-5.3.1/lib/python3.6/site-packages/boruta/boruta_py.py:418: RuntimeWarning: invalid value encountered in greater\n",
      "  hits = np.where(cur_imp[0] > imp_sha_max)[0]\n",
      "/Users/shohei.mitani/.pyenv/versions/anaconda3-5.3.1/lib/python3.6/site-packages/boruta/boruta_py.py:380: DataConversionWarning: A column-vector y was passed when a 1d array was expected. Please change the shape of y to (n_samples,), for example using ravel().\n",
      "  self.estimator.fit(X, y)\n"
     ]
    },
    {
     "name": "stdout",
     "output_type": "stream",
     "text": [
      "Iteration: \t358 / 500\n",
      "Confirmed: \t20\n",
      "Tentative: \t4\n",
      "Rejected: \t106\n"
     ]
    },
    {
     "name": "stderr",
     "output_type": "stream",
     "text": [
      "/Users/shohei.mitani/.pyenv/versions/anaconda3-5.3.1/lib/python3.6/site-packages/boruta/boruta_py.py:418: RuntimeWarning: invalid value encountered in greater\n",
      "  hits = np.where(cur_imp[0] > imp_sha_max)[0]\n",
      "/Users/shohei.mitani/.pyenv/versions/anaconda3-5.3.1/lib/python3.6/site-packages/boruta/boruta_py.py:380: DataConversionWarning: A column-vector y was passed when a 1d array was expected. Please change the shape of y to (n_samples,), for example using ravel().\n",
      "  self.estimator.fit(X, y)\n"
     ]
    },
    {
     "name": "stdout",
     "output_type": "stream",
     "text": [
      "Iteration: \t359 / 500\n",
      "Confirmed: \t20\n",
      "Tentative: \t4\n",
      "Rejected: \t106\n"
     ]
    },
    {
     "name": "stderr",
     "output_type": "stream",
     "text": [
      "/Users/shohei.mitani/.pyenv/versions/anaconda3-5.3.1/lib/python3.6/site-packages/boruta/boruta_py.py:418: RuntimeWarning: invalid value encountered in greater\n",
      "  hits = np.where(cur_imp[0] > imp_sha_max)[0]\n",
      "/Users/shohei.mitani/.pyenv/versions/anaconda3-5.3.1/lib/python3.6/site-packages/boruta/boruta_py.py:380: DataConversionWarning: A column-vector y was passed when a 1d array was expected. Please change the shape of y to (n_samples,), for example using ravel().\n",
      "  self.estimator.fit(X, y)\n"
     ]
    },
    {
     "name": "stdout",
     "output_type": "stream",
     "text": [
      "Iteration: \t360 / 500\n",
      "Confirmed: \t20\n",
      "Tentative: \t4\n",
      "Rejected: \t106\n"
     ]
    },
    {
     "name": "stderr",
     "output_type": "stream",
     "text": [
      "/Users/shohei.mitani/.pyenv/versions/anaconda3-5.3.1/lib/python3.6/site-packages/boruta/boruta_py.py:418: RuntimeWarning: invalid value encountered in greater\n",
      "  hits = np.where(cur_imp[0] > imp_sha_max)[0]\n",
      "/Users/shohei.mitani/.pyenv/versions/anaconda3-5.3.1/lib/python3.6/site-packages/boruta/boruta_py.py:380: DataConversionWarning: A column-vector y was passed when a 1d array was expected. Please change the shape of y to (n_samples,), for example using ravel().\n",
      "  self.estimator.fit(X, y)\n"
     ]
    },
    {
     "name": "stdout",
     "output_type": "stream",
     "text": [
      "Iteration: \t361 / 500\n",
      "Confirmed: \t20\n",
      "Tentative: \t4\n",
      "Rejected: \t106\n"
     ]
    },
    {
     "name": "stderr",
     "output_type": "stream",
     "text": [
      "/Users/shohei.mitani/.pyenv/versions/anaconda3-5.3.1/lib/python3.6/site-packages/boruta/boruta_py.py:418: RuntimeWarning: invalid value encountered in greater\n",
      "  hits = np.where(cur_imp[0] > imp_sha_max)[0]\n",
      "/Users/shohei.mitani/.pyenv/versions/anaconda3-5.3.1/lib/python3.6/site-packages/boruta/boruta_py.py:380: DataConversionWarning: A column-vector y was passed when a 1d array was expected. Please change the shape of y to (n_samples,), for example using ravel().\n",
      "  self.estimator.fit(X, y)\n"
     ]
    },
    {
     "name": "stdout",
     "output_type": "stream",
     "text": [
      "Iteration: \t362 / 500\n",
      "Confirmed: \t20\n",
      "Tentative: \t4\n",
      "Rejected: \t106\n"
     ]
    },
    {
     "name": "stderr",
     "output_type": "stream",
     "text": [
      "/Users/shohei.mitani/.pyenv/versions/anaconda3-5.3.1/lib/python3.6/site-packages/boruta/boruta_py.py:418: RuntimeWarning: invalid value encountered in greater\n",
      "  hits = np.where(cur_imp[0] > imp_sha_max)[0]\n",
      "/Users/shohei.mitani/.pyenv/versions/anaconda3-5.3.1/lib/python3.6/site-packages/boruta/boruta_py.py:380: DataConversionWarning: A column-vector y was passed when a 1d array was expected. Please change the shape of y to (n_samples,), for example using ravel().\n",
      "  self.estimator.fit(X, y)\n"
     ]
    },
    {
     "name": "stdout",
     "output_type": "stream",
     "text": [
      "Iteration: \t363 / 500\n",
      "Confirmed: \t20\n",
      "Tentative: \t4\n",
      "Rejected: \t106\n"
     ]
    },
    {
     "name": "stderr",
     "output_type": "stream",
     "text": [
      "/Users/shohei.mitani/.pyenv/versions/anaconda3-5.3.1/lib/python3.6/site-packages/boruta/boruta_py.py:418: RuntimeWarning: invalid value encountered in greater\n",
      "  hits = np.where(cur_imp[0] > imp_sha_max)[0]\n",
      "/Users/shohei.mitani/.pyenv/versions/anaconda3-5.3.1/lib/python3.6/site-packages/boruta/boruta_py.py:380: DataConversionWarning: A column-vector y was passed when a 1d array was expected. Please change the shape of y to (n_samples,), for example using ravel().\n",
      "  self.estimator.fit(X, y)\n"
     ]
    },
    {
     "name": "stdout",
     "output_type": "stream",
     "text": [
      "Iteration: \t364 / 500\n",
      "Confirmed: \t20\n",
      "Tentative: \t4\n",
      "Rejected: \t106\n"
     ]
    },
    {
     "name": "stderr",
     "output_type": "stream",
     "text": [
      "/Users/shohei.mitani/.pyenv/versions/anaconda3-5.3.1/lib/python3.6/site-packages/boruta/boruta_py.py:418: RuntimeWarning: invalid value encountered in greater\n",
      "  hits = np.where(cur_imp[0] > imp_sha_max)[0]\n",
      "/Users/shohei.mitani/.pyenv/versions/anaconda3-5.3.1/lib/python3.6/site-packages/boruta/boruta_py.py:380: DataConversionWarning: A column-vector y was passed when a 1d array was expected. Please change the shape of y to (n_samples,), for example using ravel().\n",
      "  self.estimator.fit(X, y)\n"
     ]
    },
    {
     "name": "stdout",
     "output_type": "stream",
     "text": [
      "Iteration: \t365 / 500\n",
      "Confirmed: \t20\n",
      "Tentative: \t4\n",
      "Rejected: \t106\n"
     ]
    },
    {
     "name": "stderr",
     "output_type": "stream",
     "text": [
      "/Users/shohei.mitani/.pyenv/versions/anaconda3-5.3.1/lib/python3.6/site-packages/boruta/boruta_py.py:418: RuntimeWarning: invalid value encountered in greater\n",
      "  hits = np.where(cur_imp[0] > imp_sha_max)[0]\n",
      "/Users/shohei.mitani/.pyenv/versions/anaconda3-5.3.1/lib/python3.6/site-packages/boruta/boruta_py.py:380: DataConversionWarning: A column-vector y was passed when a 1d array was expected. Please change the shape of y to (n_samples,), for example using ravel().\n",
      "  self.estimator.fit(X, y)\n"
     ]
    },
    {
     "name": "stdout",
     "output_type": "stream",
     "text": [
      "Iteration: \t366 / 500\n",
      "Confirmed: \t20\n",
      "Tentative: \t4\n",
      "Rejected: \t106\n"
     ]
    },
    {
     "name": "stderr",
     "output_type": "stream",
     "text": [
      "/Users/shohei.mitani/.pyenv/versions/anaconda3-5.3.1/lib/python3.6/site-packages/boruta/boruta_py.py:418: RuntimeWarning: invalid value encountered in greater\n",
      "  hits = np.where(cur_imp[0] > imp_sha_max)[0]\n",
      "/Users/shohei.mitani/.pyenv/versions/anaconda3-5.3.1/lib/python3.6/site-packages/boruta/boruta_py.py:380: DataConversionWarning: A column-vector y was passed when a 1d array was expected. Please change the shape of y to (n_samples,), for example using ravel().\n",
      "  self.estimator.fit(X, y)\n"
     ]
    },
    {
     "name": "stdout",
     "output_type": "stream",
     "text": [
      "Iteration: \t367 / 500\n",
      "Confirmed: \t20\n",
      "Tentative: \t4\n",
      "Rejected: \t106\n"
     ]
    },
    {
     "name": "stderr",
     "output_type": "stream",
     "text": [
      "/Users/shohei.mitani/.pyenv/versions/anaconda3-5.3.1/lib/python3.6/site-packages/boruta/boruta_py.py:418: RuntimeWarning: invalid value encountered in greater\n",
      "  hits = np.where(cur_imp[0] > imp_sha_max)[0]\n",
      "/Users/shohei.mitani/.pyenv/versions/anaconda3-5.3.1/lib/python3.6/site-packages/boruta/boruta_py.py:380: DataConversionWarning: A column-vector y was passed when a 1d array was expected. Please change the shape of y to (n_samples,), for example using ravel().\n",
      "  self.estimator.fit(X, y)\n"
     ]
    },
    {
     "name": "stdout",
     "output_type": "stream",
     "text": [
      "Iteration: \t368 / 500\n",
      "Confirmed: \t20\n",
      "Tentative: \t3\n",
      "Rejected: \t107\n"
     ]
    },
    {
     "name": "stderr",
     "output_type": "stream",
     "text": [
      "/Users/shohei.mitani/.pyenv/versions/anaconda3-5.3.1/lib/python3.6/site-packages/boruta/boruta_py.py:418: RuntimeWarning: invalid value encountered in greater\n",
      "  hits = np.where(cur_imp[0] > imp_sha_max)[0]\n",
      "/Users/shohei.mitani/.pyenv/versions/anaconda3-5.3.1/lib/python3.6/site-packages/boruta/boruta_py.py:380: DataConversionWarning: A column-vector y was passed when a 1d array was expected. Please change the shape of y to (n_samples,), for example using ravel().\n",
      "  self.estimator.fit(X, y)\n"
     ]
    },
    {
     "name": "stdout",
     "output_type": "stream",
     "text": [
      "Iteration: \t369 / 500\n",
      "Confirmed: \t20\n",
      "Tentative: \t3\n",
      "Rejected: \t107\n"
     ]
    },
    {
     "name": "stderr",
     "output_type": "stream",
     "text": [
      "/Users/shohei.mitani/.pyenv/versions/anaconda3-5.3.1/lib/python3.6/site-packages/boruta/boruta_py.py:418: RuntimeWarning: invalid value encountered in greater\n",
      "  hits = np.where(cur_imp[0] > imp_sha_max)[0]\n",
      "/Users/shohei.mitani/.pyenv/versions/anaconda3-5.3.1/lib/python3.6/site-packages/boruta/boruta_py.py:380: DataConversionWarning: A column-vector y was passed when a 1d array was expected. Please change the shape of y to (n_samples,), for example using ravel().\n",
      "  self.estimator.fit(X, y)\n"
     ]
    },
    {
     "name": "stdout",
     "output_type": "stream",
     "text": [
      "Iteration: \t370 / 500\n",
      "Confirmed: \t20\n",
      "Tentative: \t3\n",
      "Rejected: \t107\n"
     ]
    },
    {
     "name": "stderr",
     "output_type": "stream",
     "text": [
      "/Users/shohei.mitani/.pyenv/versions/anaconda3-5.3.1/lib/python3.6/site-packages/boruta/boruta_py.py:418: RuntimeWarning: invalid value encountered in greater\n",
      "  hits = np.where(cur_imp[0] > imp_sha_max)[0]\n",
      "/Users/shohei.mitani/.pyenv/versions/anaconda3-5.3.1/lib/python3.6/site-packages/boruta/boruta_py.py:380: DataConversionWarning: A column-vector y was passed when a 1d array was expected. Please change the shape of y to (n_samples,), for example using ravel().\n",
      "  self.estimator.fit(X, y)\n"
     ]
    },
    {
     "name": "stdout",
     "output_type": "stream",
     "text": [
      "Iteration: \t371 / 500\n",
      "Confirmed: \t20\n",
      "Tentative: \t3\n",
      "Rejected: \t107\n"
     ]
    },
    {
     "name": "stderr",
     "output_type": "stream",
     "text": [
      "/Users/shohei.mitani/.pyenv/versions/anaconda3-5.3.1/lib/python3.6/site-packages/boruta/boruta_py.py:418: RuntimeWarning: invalid value encountered in greater\n",
      "  hits = np.where(cur_imp[0] > imp_sha_max)[0]\n",
      "/Users/shohei.mitani/.pyenv/versions/anaconda3-5.3.1/lib/python3.6/site-packages/boruta/boruta_py.py:380: DataConversionWarning: A column-vector y was passed when a 1d array was expected. Please change the shape of y to (n_samples,), for example using ravel().\n",
      "  self.estimator.fit(X, y)\n"
     ]
    },
    {
     "name": "stdout",
     "output_type": "stream",
     "text": [
      "Iteration: \t372 / 500\n",
      "Confirmed: \t20\n",
      "Tentative: \t3\n",
      "Rejected: \t107\n"
     ]
    },
    {
     "name": "stderr",
     "output_type": "stream",
     "text": [
      "/Users/shohei.mitani/.pyenv/versions/anaconda3-5.3.1/lib/python3.6/site-packages/boruta/boruta_py.py:418: RuntimeWarning: invalid value encountered in greater\n",
      "  hits = np.where(cur_imp[0] > imp_sha_max)[0]\n",
      "/Users/shohei.mitani/.pyenv/versions/anaconda3-5.3.1/lib/python3.6/site-packages/boruta/boruta_py.py:380: DataConversionWarning: A column-vector y was passed when a 1d array was expected. Please change the shape of y to (n_samples,), for example using ravel().\n",
      "  self.estimator.fit(X, y)\n"
     ]
    },
    {
     "name": "stdout",
     "output_type": "stream",
     "text": [
      "Iteration: \t373 / 500\n",
      "Confirmed: \t20\n",
      "Tentative: \t3\n",
      "Rejected: \t107\n"
     ]
    },
    {
     "name": "stderr",
     "output_type": "stream",
     "text": [
      "/Users/shohei.mitani/.pyenv/versions/anaconda3-5.3.1/lib/python3.6/site-packages/boruta/boruta_py.py:418: RuntimeWarning: invalid value encountered in greater\n",
      "  hits = np.where(cur_imp[0] > imp_sha_max)[0]\n",
      "/Users/shohei.mitani/.pyenv/versions/anaconda3-5.3.1/lib/python3.6/site-packages/boruta/boruta_py.py:380: DataConversionWarning: A column-vector y was passed when a 1d array was expected. Please change the shape of y to (n_samples,), for example using ravel().\n",
      "  self.estimator.fit(X, y)\n"
     ]
    },
    {
     "name": "stdout",
     "output_type": "stream",
     "text": [
      "Iteration: \t374 / 500\n",
      "Confirmed: \t20\n",
      "Tentative: \t3\n",
      "Rejected: \t107\n"
     ]
    },
    {
     "name": "stderr",
     "output_type": "stream",
     "text": [
      "/Users/shohei.mitani/.pyenv/versions/anaconda3-5.3.1/lib/python3.6/site-packages/boruta/boruta_py.py:418: RuntimeWarning: invalid value encountered in greater\n",
      "  hits = np.where(cur_imp[0] > imp_sha_max)[0]\n",
      "/Users/shohei.mitani/.pyenv/versions/anaconda3-5.3.1/lib/python3.6/site-packages/boruta/boruta_py.py:380: DataConversionWarning: A column-vector y was passed when a 1d array was expected. Please change the shape of y to (n_samples,), for example using ravel().\n",
      "  self.estimator.fit(X, y)\n"
     ]
    },
    {
     "name": "stdout",
     "output_type": "stream",
     "text": [
      "Iteration: \t375 / 500\n",
      "Confirmed: \t20\n",
      "Tentative: \t3\n",
      "Rejected: \t107\n"
     ]
    },
    {
     "name": "stderr",
     "output_type": "stream",
     "text": [
      "/Users/shohei.mitani/.pyenv/versions/anaconda3-5.3.1/lib/python3.6/site-packages/boruta/boruta_py.py:418: RuntimeWarning: invalid value encountered in greater\n",
      "  hits = np.where(cur_imp[0] > imp_sha_max)[0]\n",
      "/Users/shohei.mitani/.pyenv/versions/anaconda3-5.3.1/lib/python3.6/site-packages/boruta/boruta_py.py:380: DataConversionWarning: A column-vector y was passed when a 1d array was expected. Please change the shape of y to (n_samples,), for example using ravel().\n",
      "  self.estimator.fit(X, y)\n"
     ]
    },
    {
     "name": "stdout",
     "output_type": "stream",
     "text": [
      "Iteration: \t376 / 500\n",
      "Confirmed: \t20\n",
      "Tentative: \t3\n",
      "Rejected: \t107\n"
     ]
    },
    {
     "name": "stderr",
     "output_type": "stream",
     "text": [
      "/Users/shohei.mitani/.pyenv/versions/anaconda3-5.3.1/lib/python3.6/site-packages/boruta/boruta_py.py:418: RuntimeWarning: invalid value encountered in greater\n",
      "  hits = np.where(cur_imp[0] > imp_sha_max)[0]\n",
      "/Users/shohei.mitani/.pyenv/versions/anaconda3-5.3.1/lib/python3.6/site-packages/boruta/boruta_py.py:380: DataConversionWarning: A column-vector y was passed when a 1d array was expected. Please change the shape of y to (n_samples,), for example using ravel().\n",
      "  self.estimator.fit(X, y)\n"
     ]
    },
    {
     "name": "stdout",
     "output_type": "stream",
     "text": [
      "Iteration: \t377 / 500\n",
      "Confirmed: \t20\n",
      "Tentative: \t3\n",
      "Rejected: \t107\n"
     ]
    },
    {
     "name": "stderr",
     "output_type": "stream",
     "text": [
      "/Users/shohei.mitani/.pyenv/versions/anaconda3-5.3.1/lib/python3.6/site-packages/boruta/boruta_py.py:418: RuntimeWarning: invalid value encountered in greater\n",
      "  hits = np.where(cur_imp[0] > imp_sha_max)[0]\n",
      "/Users/shohei.mitani/.pyenv/versions/anaconda3-5.3.1/lib/python3.6/site-packages/boruta/boruta_py.py:380: DataConversionWarning: A column-vector y was passed when a 1d array was expected. Please change the shape of y to (n_samples,), for example using ravel().\n",
      "  self.estimator.fit(X, y)\n"
     ]
    },
    {
     "name": "stdout",
     "output_type": "stream",
     "text": [
      "Iteration: \t378 / 500\n",
      "Confirmed: \t20\n",
      "Tentative: \t3\n",
      "Rejected: \t107\n"
     ]
    },
    {
     "name": "stderr",
     "output_type": "stream",
     "text": [
      "/Users/shohei.mitani/.pyenv/versions/anaconda3-5.3.1/lib/python3.6/site-packages/boruta/boruta_py.py:418: RuntimeWarning: invalid value encountered in greater\n",
      "  hits = np.where(cur_imp[0] > imp_sha_max)[0]\n",
      "/Users/shohei.mitani/.pyenv/versions/anaconda3-5.3.1/lib/python3.6/site-packages/boruta/boruta_py.py:380: DataConversionWarning: A column-vector y was passed when a 1d array was expected. Please change the shape of y to (n_samples,), for example using ravel().\n",
      "  self.estimator.fit(X, y)\n"
     ]
    },
    {
     "name": "stdout",
     "output_type": "stream",
     "text": [
      "Iteration: \t379 / 500\n",
      "Confirmed: \t20\n",
      "Tentative: \t3\n",
      "Rejected: \t107\n"
     ]
    },
    {
     "name": "stderr",
     "output_type": "stream",
     "text": [
      "/Users/shohei.mitani/.pyenv/versions/anaconda3-5.3.1/lib/python3.6/site-packages/boruta/boruta_py.py:418: RuntimeWarning: invalid value encountered in greater\n",
      "  hits = np.where(cur_imp[0] > imp_sha_max)[0]\n",
      "/Users/shohei.mitani/.pyenv/versions/anaconda3-5.3.1/lib/python3.6/site-packages/boruta/boruta_py.py:380: DataConversionWarning: A column-vector y was passed when a 1d array was expected. Please change the shape of y to (n_samples,), for example using ravel().\n",
      "  self.estimator.fit(X, y)\n"
     ]
    },
    {
     "name": "stdout",
     "output_type": "stream",
     "text": [
      "Iteration: \t380 / 500\n",
      "Confirmed: \t20\n",
      "Tentative: \t3\n",
      "Rejected: \t107\n"
     ]
    },
    {
     "name": "stderr",
     "output_type": "stream",
     "text": [
      "/Users/shohei.mitani/.pyenv/versions/anaconda3-5.3.1/lib/python3.6/site-packages/boruta/boruta_py.py:418: RuntimeWarning: invalid value encountered in greater\n",
      "  hits = np.where(cur_imp[0] > imp_sha_max)[0]\n",
      "/Users/shohei.mitani/.pyenv/versions/anaconda3-5.3.1/lib/python3.6/site-packages/boruta/boruta_py.py:380: DataConversionWarning: A column-vector y was passed when a 1d array was expected. Please change the shape of y to (n_samples,), for example using ravel().\n",
      "  self.estimator.fit(X, y)\n"
     ]
    },
    {
     "name": "stdout",
     "output_type": "stream",
     "text": [
      "Iteration: \t381 / 500\n",
      "Confirmed: \t20\n",
      "Tentative: \t3\n",
      "Rejected: \t107\n"
     ]
    },
    {
     "name": "stderr",
     "output_type": "stream",
     "text": [
      "/Users/shohei.mitani/.pyenv/versions/anaconda3-5.3.1/lib/python3.6/site-packages/boruta/boruta_py.py:418: RuntimeWarning: invalid value encountered in greater\n",
      "  hits = np.where(cur_imp[0] > imp_sha_max)[0]\n",
      "/Users/shohei.mitani/.pyenv/versions/anaconda3-5.3.1/lib/python3.6/site-packages/boruta/boruta_py.py:380: DataConversionWarning: A column-vector y was passed when a 1d array was expected. Please change the shape of y to (n_samples,), for example using ravel().\n",
      "  self.estimator.fit(X, y)\n"
     ]
    },
    {
     "name": "stdout",
     "output_type": "stream",
     "text": [
      "Iteration: \t382 / 500\n",
      "Confirmed: \t20\n",
      "Tentative: \t3\n",
      "Rejected: \t107\n"
     ]
    },
    {
     "name": "stderr",
     "output_type": "stream",
     "text": [
      "/Users/shohei.mitani/.pyenv/versions/anaconda3-5.3.1/lib/python3.6/site-packages/boruta/boruta_py.py:418: RuntimeWarning: invalid value encountered in greater\n",
      "  hits = np.where(cur_imp[0] > imp_sha_max)[0]\n",
      "/Users/shohei.mitani/.pyenv/versions/anaconda3-5.3.1/lib/python3.6/site-packages/boruta/boruta_py.py:380: DataConversionWarning: A column-vector y was passed when a 1d array was expected. Please change the shape of y to (n_samples,), for example using ravel().\n",
      "  self.estimator.fit(X, y)\n"
     ]
    },
    {
     "name": "stdout",
     "output_type": "stream",
     "text": [
      "Iteration: \t383 / 500\n",
      "Confirmed: \t20\n",
      "Tentative: \t3\n",
      "Rejected: \t107\n"
     ]
    },
    {
     "name": "stderr",
     "output_type": "stream",
     "text": [
      "/Users/shohei.mitani/.pyenv/versions/anaconda3-5.3.1/lib/python3.6/site-packages/boruta/boruta_py.py:418: RuntimeWarning: invalid value encountered in greater\n",
      "  hits = np.where(cur_imp[0] > imp_sha_max)[0]\n",
      "/Users/shohei.mitani/.pyenv/versions/anaconda3-5.3.1/lib/python3.6/site-packages/boruta/boruta_py.py:380: DataConversionWarning: A column-vector y was passed when a 1d array was expected. Please change the shape of y to (n_samples,), for example using ravel().\n",
      "  self.estimator.fit(X, y)\n"
     ]
    },
    {
     "name": "stdout",
     "output_type": "stream",
     "text": [
      "Iteration: \t384 / 500\n",
      "Confirmed: \t20\n",
      "Tentative: \t3\n",
      "Rejected: \t107\n"
     ]
    },
    {
     "name": "stderr",
     "output_type": "stream",
     "text": [
      "/Users/shohei.mitani/.pyenv/versions/anaconda3-5.3.1/lib/python3.6/site-packages/boruta/boruta_py.py:418: RuntimeWarning: invalid value encountered in greater\n",
      "  hits = np.where(cur_imp[0] > imp_sha_max)[0]\n",
      "/Users/shohei.mitani/.pyenv/versions/anaconda3-5.3.1/lib/python3.6/site-packages/boruta/boruta_py.py:380: DataConversionWarning: A column-vector y was passed when a 1d array was expected. Please change the shape of y to (n_samples,), for example using ravel().\n",
      "  self.estimator.fit(X, y)\n"
     ]
    },
    {
     "name": "stdout",
     "output_type": "stream",
     "text": [
      "Iteration: \t385 / 500\n",
      "Confirmed: \t20\n",
      "Tentative: \t3\n",
      "Rejected: \t107\n"
     ]
    },
    {
     "name": "stderr",
     "output_type": "stream",
     "text": [
      "/Users/shohei.mitani/.pyenv/versions/anaconda3-5.3.1/lib/python3.6/site-packages/boruta/boruta_py.py:418: RuntimeWarning: invalid value encountered in greater\n",
      "  hits = np.where(cur_imp[0] > imp_sha_max)[0]\n",
      "/Users/shohei.mitani/.pyenv/versions/anaconda3-5.3.1/lib/python3.6/site-packages/boruta/boruta_py.py:380: DataConversionWarning: A column-vector y was passed when a 1d array was expected. Please change the shape of y to (n_samples,), for example using ravel().\n",
      "  self.estimator.fit(X, y)\n"
     ]
    },
    {
     "name": "stdout",
     "output_type": "stream",
     "text": [
      "Iteration: \t386 / 500\n",
      "Confirmed: \t20\n",
      "Tentative: \t3\n",
      "Rejected: \t107\n"
     ]
    },
    {
     "name": "stderr",
     "output_type": "stream",
     "text": [
      "/Users/shohei.mitani/.pyenv/versions/anaconda3-5.3.1/lib/python3.6/site-packages/boruta/boruta_py.py:418: RuntimeWarning: invalid value encountered in greater\n",
      "  hits = np.where(cur_imp[0] > imp_sha_max)[0]\n",
      "/Users/shohei.mitani/.pyenv/versions/anaconda3-5.3.1/lib/python3.6/site-packages/boruta/boruta_py.py:380: DataConversionWarning: A column-vector y was passed when a 1d array was expected. Please change the shape of y to (n_samples,), for example using ravel().\n",
      "  self.estimator.fit(X, y)\n"
     ]
    },
    {
     "name": "stdout",
     "output_type": "stream",
     "text": [
      "Iteration: \t387 / 500\n",
      "Confirmed: \t20\n",
      "Tentative: \t3\n",
      "Rejected: \t107\n"
     ]
    },
    {
     "name": "stderr",
     "output_type": "stream",
     "text": [
      "/Users/shohei.mitani/.pyenv/versions/anaconda3-5.3.1/lib/python3.6/site-packages/boruta/boruta_py.py:418: RuntimeWarning: invalid value encountered in greater\n",
      "  hits = np.where(cur_imp[0] > imp_sha_max)[0]\n",
      "/Users/shohei.mitani/.pyenv/versions/anaconda3-5.3.1/lib/python3.6/site-packages/boruta/boruta_py.py:380: DataConversionWarning: A column-vector y was passed when a 1d array was expected. Please change the shape of y to (n_samples,), for example using ravel().\n",
      "  self.estimator.fit(X, y)\n"
     ]
    },
    {
     "name": "stdout",
     "output_type": "stream",
     "text": [
      "Iteration: \t388 / 500\n",
      "Confirmed: \t20\n",
      "Tentative: \t3\n",
      "Rejected: \t107\n"
     ]
    },
    {
     "name": "stderr",
     "output_type": "stream",
     "text": [
      "/Users/shohei.mitani/.pyenv/versions/anaconda3-5.3.1/lib/python3.6/site-packages/boruta/boruta_py.py:418: RuntimeWarning: invalid value encountered in greater\n",
      "  hits = np.where(cur_imp[0] > imp_sha_max)[0]\n",
      "/Users/shohei.mitani/.pyenv/versions/anaconda3-5.3.1/lib/python3.6/site-packages/boruta/boruta_py.py:380: DataConversionWarning: A column-vector y was passed when a 1d array was expected. Please change the shape of y to (n_samples,), for example using ravel().\n",
      "  self.estimator.fit(X, y)\n"
     ]
    },
    {
     "name": "stdout",
     "output_type": "stream",
     "text": [
      "Iteration: \t389 / 500\n",
      "Confirmed: \t20\n",
      "Tentative: \t3\n",
      "Rejected: \t107\n"
     ]
    },
    {
     "name": "stderr",
     "output_type": "stream",
     "text": [
      "/Users/shohei.mitani/.pyenv/versions/anaconda3-5.3.1/lib/python3.6/site-packages/boruta/boruta_py.py:418: RuntimeWarning: invalid value encountered in greater\n",
      "  hits = np.where(cur_imp[0] > imp_sha_max)[0]\n",
      "/Users/shohei.mitani/.pyenv/versions/anaconda3-5.3.1/lib/python3.6/site-packages/boruta/boruta_py.py:380: DataConversionWarning: A column-vector y was passed when a 1d array was expected. Please change the shape of y to (n_samples,), for example using ravel().\n",
      "  self.estimator.fit(X, y)\n"
     ]
    },
    {
     "name": "stdout",
     "output_type": "stream",
     "text": [
      "Iteration: \t390 / 500\n",
      "Confirmed: \t20\n",
      "Tentative: \t3\n",
      "Rejected: \t107\n"
     ]
    },
    {
     "name": "stderr",
     "output_type": "stream",
     "text": [
      "/Users/shohei.mitani/.pyenv/versions/anaconda3-5.3.1/lib/python3.6/site-packages/boruta/boruta_py.py:418: RuntimeWarning: invalid value encountered in greater\n",
      "  hits = np.where(cur_imp[0] > imp_sha_max)[0]\n",
      "/Users/shohei.mitani/.pyenv/versions/anaconda3-5.3.1/lib/python3.6/site-packages/boruta/boruta_py.py:380: DataConversionWarning: A column-vector y was passed when a 1d array was expected. Please change the shape of y to (n_samples,), for example using ravel().\n",
      "  self.estimator.fit(X, y)\n"
     ]
    },
    {
     "name": "stdout",
     "output_type": "stream",
     "text": [
      "Iteration: \t391 / 500\n",
      "Confirmed: \t20\n",
      "Tentative: \t3\n",
      "Rejected: \t107\n"
     ]
    },
    {
     "name": "stderr",
     "output_type": "stream",
     "text": [
      "/Users/shohei.mitani/.pyenv/versions/anaconda3-5.3.1/lib/python3.6/site-packages/boruta/boruta_py.py:418: RuntimeWarning: invalid value encountered in greater\n",
      "  hits = np.where(cur_imp[0] > imp_sha_max)[0]\n",
      "/Users/shohei.mitani/.pyenv/versions/anaconda3-5.3.1/lib/python3.6/site-packages/boruta/boruta_py.py:380: DataConversionWarning: A column-vector y was passed when a 1d array was expected. Please change the shape of y to (n_samples,), for example using ravel().\n",
      "  self.estimator.fit(X, y)\n"
     ]
    },
    {
     "name": "stdout",
     "output_type": "stream",
     "text": [
      "Iteration: \t392 / 500\n",
      "Confirmed: \t20\n",
      "Tentative: \t3\n",
      "Rejected: \t107\n"
     ]
    },
    {
     "name": "stderr",
     "output_type": "stream",
     "text": [
      "/Users/shohei.mitani/.pyenv/versions/anaconda3-5.3.1/lib/python3.6/site-packages/boruta/boruta_py.py:418: RuntimeWarning: invalid value encountered in greater\n",
      "  hits = np.where(cur_imp[0] > imp_sha_max)[0]\n",
      "/Users/shohei.mitani/.pyenv/versions/anaconda3-5.3.1/lib/python3.6/site-packages/boruta/boruta_py.py:380: DataConversionWarning: A column-vector y was passed when a 1d array was expected. Please change the shape of y to (n_samples,), for example using ravel().\n",
      "  self.estimator.fit(X, y)\n"
     ]
    },
    {
     "name": "stdout",
     "output_type": "stream",
     "text": [
      "Iteration: \t393 / 500\n",
      "Confirmed: \t20\n",
      "Tentative: \t3\n",
      "Rejected: \t107\n"
     ]
    },
    {
     "name": "stderr",
     "output_type": "stream",
     "text": [
      "/Users/shohei.mitani/.pyenv/versions/anaconda3-5.3.1/lib/python3.6/site-packages/boruta/boruta_py.py:418: RuntimeWarning: invalid value encountered in greater\n",
      "  hits = np.where(cur_imp[0] > imp_sha_max)[0]\n",
      "/Users/shohei.mitani/.pyenv/versions/anaconda3-5.3.1/lib/python3.6/site-packages/boruta/boruta_py.py:380: DataConversionWarning: A column-vector y was passed when a 1d array was expected. Please change the shape of y to (n_samples,), for example using ravel().\n",
      "  self.estimator.fit(X, y)\n"
     ]
    },
    {
     "name": "stdout",
     "output_type": "stream",
     "text": [
      "Iteration: \t394 / 500\n",
      "Confirmed: \t20\n",
      "Tentative: \t3\n",
      "Rejected: \t107\n"
     ]
    },
    {
     "name": "stderr",
     "output_type": "stream",
     "text": [
      "/Users/shohei.mitani/.pyenv/versions/anaconda3-5.3.1/lib/python3.6/site-packages/boruta/boruta_py.py:418: RuntimeWarning: invalid value encountered in greater\n",
      "  hits = np.where(cur_imp[0] > imp_sha_max)[0]\n",
      "/Users/shohei.mitani/.pyenv/versions/anaconda3-5.3.1/lib/python3.6/site-packages/boruta/boruta_py.py:380: DataConversionWarning: A column-vector y was passed when a 1d array was expected. Please change the shape of y to (n_samples,), for example using ravel().\n",
      "  self.estimator.fit(X, y)\n"
     ]
    },
    {
     "name": "stdout",
     "output_type": "stream",
     "text": [
      "Iteration: \t395 / 500\n",
      "Confirmed: \t20\n",
      "Tentative: \t3\n",
      "Rejected: \t107\n"
     ]
    },
    {
     "name": "stderr",
     "output_type": "stream",
     "text": [
      "/Users/shohei.mitani/.pyenv/versions/anaconda3-5.3.1/lib/python3.6/site-packages/boruta/boruta_py.py:418: RuntimeWarning: invalid value encountered in greater\n",
      "  hits = np.where(cur_imp[0] > imp_sha_max)[0]\n",
      "/Users/shohei.mitani/.pyenv/versions/anaconda3-5.3.1/lib/python3.6/site-packages/boruta/boruta_py.py:380: DataConversionWarning: A column-vector y was passed when a 1d array was expected. Please change the shape of y to (n_samples,), for example using ravel().\n",
      "  self.estimator.fit(X, y)\n"
     ]
    },
    {
     "name": "stdout",
     "output_type": "stream",
     "text": [
      "Iteration: \t396 / 500\n",
      "Confirmed: \t20\n",
      "Tentative: \t3\n",
      "Rejected: \t107\n"
     ]
    },
    {
     "name": "stderr",
     "output_type": "stream",
     "text": [
      "/Users/shohei.mitani/.pyenv/versions/anaconda3-5.3.1/lib/python3.6/site-packages/boruta/boruta_py.py:418: RuntimeWarning: invalid value encountered in greater\n",
      "  hits = np.where(cur_imp[0] > imp_sha_max)[0]\n",
      "/Users/shohei.mitani/.pyenv/versions/anaconda3-5.3.1/lib/python3.6/site-packages/boruta/boruta_py.py:380: DataConversionWarning: A column-vector y was passed when a 1d array was expected. Please change the shape of y to (n_samples,), for example using ravel().\n",
      "  self.estimator.fit(X, y)\n"
     ]
    },
    {
     "name": "stdout",
     "output_type": "stream",
     "text": [
      "Iteration: \t397 / 500\n",
      "Confirmed: \t20\n",
      "Tentative: \t3\n",
      "Rejected: \t107\n"
     ]
    },
    {
     "name": "stderr",
     "output_type": "stream",
     "text": [
      "/Users/shohei.mitani/.pyenv/versions/anaconda3-5.3.1/lib/python3.6/site-packages/boruta/boruta_py.py:418: RuntimeWarning: invalid value encountered in greater\n",
      "  hits = np.where(cur_imp[0] > imp_sha_max)[0]\n",
      "/Users/shohei.mitani/.pyenv/versions/anaconda3-5.3.1/lib/python3.6/site-packages/boruta/boruta_py.py:380: DataConversionWarning: A column-vector y was passed when a 1d array was expected. Please change the shape of y to (n_samples,), for example using ravel().\n",
      "  self.estimator.fit(X, y)\n"
     ]
    },
    {
     "name": "stdout",
     "output_type": "stream",
     "text": [
      "Iteration: \t398 / 500\n",
      "Confirmed: \t20\n",
      "Tentative: \t3\n",
      "Rejected: \t107\n"
     ]
    },
    {
     "name": "stderr",
     "output_type": "stream",
     "text": [
      "/Users/shohei.mitani/.pyenv/versions/anaconda3-5.3.1/lib/python3.6/site-packages/boruta/boruta_py.py:418: RuntimeWarning: invalid value encountered in greater\n",
      "  hits = np.where(cur_imp[0] > imp_sha_max)[0]\n",
      "/Users/shohei.mitani/.pyenv/versions/anaconda3-5.3.1/lib/python3.6/site-packages/boruta/boruta_py.py:380: DataConversionWarning: A column-vector y was passed when a 1d array was expected. Please change the shape of y to (n_samples,), for example using ravel().\n",
      "  self.estimator.fit(X, y)\n"
     ]
    },
    {
     "name": "stdout",
     "output_type": "stream",
     "text": [
      "Iteration: \t399 / 500\n",
      "Confirmed: \t20\n",
      "Tentative: \t3\n",
      "Rejected: \t107\n"
     ]
    },
    {
     "name": "stderr",
     "output_type": "stream",
     "text": [
      "/Users/shohei.mitani/.pyenv/versions/anaconda3-5.3.1/lib/python3.6/site-packages/boruta/boruta_py.py:418: RuntimeWarning: invalid value encountered in greater\n",
      "  hits = np.where(cur_imp[0] > imp_sha_max)[0]\n",
      "/Users/shohei.mitani/.pyenv/versions/anaconda3-5.3.1/lib/python3.6/site-packages/boruta/boruta_py.py:380: DataConversionWarning: A column-vector y was passed when a 1d array was expected. Please change the shape of y to (n_samples,), for example using ravel().\n",
      "  self.estimator.fit(X, y)\n"
     ]
    },
    {
     "name": "stdout",
     "output_type": "stream",
     "text": [
      "Iteration: \t400 / 500\n",
      "Confirmed: \t20\n",
      "Tentative: \t3\n",
      "Rejected: \t107\n"
     ]
    },
    {
     "name": "stderr",
     "output_type": "stream",
     "text": [
      "/Users/shohei.mitani/.pyenv/versions/anaconda3-5.3.1/lib/python3.6/site-packages/boruta/boruta_py.py:418: RuntimeWarning: invalid value encountered in greater\n",
      "  hits = np.where(cur_imp[0] > imp_sha_max)[0]\n",
      "/Users/shohei.mitani/.pyenv/versions/anaconda3-5.3.1/lib/python3.6/site-packages/boruta/boruta_py.py:380: DataConversionWarning: A column-vector y was passed when a 1d array was expected. Please change the shape of y to (n_samples,), for example using ravel().\n",
      "  self.estimator.fit(X, y)\n"
     ]
    },
    {
     "name": "stdout",
     "output_type": "stream",
     "text": [
      "Iteration: \t401 / 500\n",
      "Confirmed: \t20\n",
      "Tentative: \t3\n",
      "Rejected: \t107\n"
     ]
    },
    {
     "name": "stderr",
     "output_type": "stream",
     "text": [
      "/Users/shohei.mitani/.pyenv/versions/anaconda3-5.3.1/lib/python3.6/site-packages/boruta/boruta_py.py:418: RuntimeWarning: invalid value encountered in greater\n",
      "  hits = np.where(cur_imp[0] > imp_sha_max)[0]\n",
      "/Users/shohei.mitani/.pyenv/versions/anaconda3-5.3.1/lib/python3.6/site-packages/boruta/boruta_py.py:380: DataConversionWarning: A column-vector y was passed when a 1d array was expected. Please change the shape of y to (n_samples,), for example using ravel().\n",
      "  self.estimator.fit(X, y)\n"
     ]
    },
    {
     "name": "stdout",
     "output_type": "stream",
     "text": [
      "Iteration: \t402 / 500\n",
      "Confirmed: \t20\n",
      "Tentative: \t3\n",
      "Rejected: \t107\n"
     ]
    },
    {
     "name": "stderr",
     "output_type": "stream",
     "text": [
      "/Users/shohei.mitani/.pyenv/versions/anaconda3-5.3.1/lib/python3.6/site-packages/boruta/boruta_py.py:418: RuntimeWarning: invalid value encountered in greater\n",
      "  hits = np.where(cur_imp[0] > imp_sha_max)[0]\n",
      "/Users/shohei.mitani/.pyenv/versions/anaconda3-5.3.1/lib/python3.6/site-packages/boruta/boruta_py.py:380: DataConversionWarning: A column-vector y was passed when a 1d array was expected. Please change the shape of y to (n_samples,), for example using ravel().\n",
      "  self.estimator.fit(X, y)\n"
     ]
    },
    {
     "name": "stdout",
     "output_type": "stream",
     "text": [
      "Iteration: \t403 / 500\n",
      "Confirmed: \t20\n",
      "Tentative: \t3\n",
      "Rejected: \t107\n"
     ]
    },
    {
     "name": "stderr",
     "output_type": "stream",
     "text": [
      "/Users/shohei.mitani/.pyenv/versions/anaconda3-5.3.1/lib/python3.6/site-packages/boruta/boruta_py.py:418: RuntimeWarning: invalid value encountered in greater\n",
      "  hits = np.where(cur_imp[0] > imp_sha_max)[0]\n",
      "/Users/shohei.mitani/.pyenv/versions/anaconda3-5.3.1/lib/python3.6/site-packages/boruta/boruta_py.py:380: DataConversionWarning: A column-vector y was passed when a 1d array was expected. Please change the shape of y to (n_samples,), for example using ravel().\n",
      "  self.estimator.fit(X, y)\n"
     ]
    },
    {
     "name": "stdout",
     "output_type": "stream",
     "text": [
      "Iteration: \t404 / 500\n",
      "Confirmed: \t20\n",
      "Tentative: \t3\n",
      "Rejected: \t107\n"
     ]
    },
    {
     "name": "stderr",
     "output_type": "stream",
     "text": [
      "/Users/shohei.mitani/.pyenv/versions/anaconda3-5.3.1/lib/python3.6/site-packages/boruta/boruta_py.py:418: RuntimeWarning: invalid value encountered in greater\n",
      "  hits = np.where(cur_imp[0] > imp_sha_max)[0]\n",
      "/Users/shohei.mitani/.pyenv/versions/anaconda3-5.3.1/lib/python3.6/site-packages/boruta/boruta_py.py:380: DataConversionWarning: A column-vector y was passed when a 1d array was expected. Please change the shape of y to (n_samples,), for example using ravel().\n",
      "  self.estimator.fit(X, y)\n"
     ]
    },
    {
     "name": "stdout",
     "output_type": "stream",
     "text": [
      "Iteration: \t405 / 500\n",
      "Confirmed: \t21\n",
      "Tentative: \t2\n",
      "Rejected: \t107\n"
     ]
    },
    {
     "name": "stderr",
     "output_type": "stream",
     "text": [
      "/Users/shohei.mitani/.pyenv/versions/anaconda3-5.3.1/lib/python3.6/site-packages/boruta/boruta_py.py:418: RuntimeWarning: invalid value encountered in greater\n",
      "  hits = np.where(cur_imp[0] > imp_sha_max)[0]\n",
      "/Users/shohei.mitani/.pyenv/versions/anaconda3-5.3.1/lib/python3.6/site-packages/boruta/boruta_py.py:380: DataConversionWarning: A column-vector y was passed when a 1d array was expected. Please change the shape of y to (n_samples,), for example using ravel().\n",
      "  self.estimator.fit(X, y)\n"
     ]
    },
    {
     "name": "stdout",
     "output_type": "stream",
     "text": [
      "Iteration: \t406 / 500\n",
      "Confirmed: \t21\n",
      "Tentative: \t2\n",
      "Rejected: \t107\n"
     ]
    },
    {
     "name": "stderr",
     "output_type": "stream",
     "text": [
      "/Users/shohei.mitani/.pyenv/versions/anaconda3-5.3.1/lib/python3.6/site-packages/boruta/boruta_py.py:418: RuntimeWarning: invalid value encountered in greater\n",
      "  hits = np.where(cur_imp[0] > imp_sha_max)[0]\n",
      "/Users/shohei.mitani/.pyenv/versions/anaconda3-5.3.1/lib/python3.6/site-packages/boruta/boruta_py.py:380: DataConversionWarning: A column-vector y was passed when a 1d array was expected. Please change the shape of y to (n_samples,), for example using ravel().\n",
      "  self.estimator.fit(X, y)\n"
     ]
    },
    {
     "name": "stdout",
     "output_type": "stream",
     "text": [
      "Iteration: \t407 / 500\n",
      "Confirmed: \t21\n",
      "Tentative: \t2\n",
      "Rejected: \t107\n"
     ]
    },
    {
     "name": "stderr",
     "output_type": "stream",
     "text": [
      "/Users/shohei.mitani/.pyenv/versions/anaconda3-5.3.1/lib/python3.6/site-packages/boruta/boruta_py.py:418: RuntimeWarning: invalid value encountered in greater\n",
      "  hits = np.where(cur_imp[0] > imp_sha_max)[0]\n",
      "/Users/shohei.mitani/.pyenv/versions/anaconda3-5.3.1/lib/python3.6/site-packages/boruta/boruta_py.py:380: DataConversionWarning: A column-vector y was passed when a 1d array was expected. Please change the shape of y to (n_samples,), for example using ravel().\n",
      "  self.estimator.fit(X, y)\n"
     ]
    },
    {
     "name": "stdout",
     "output_type": "stream",
     "text": [
      "Iteration: \t408 / 500\n",
      "Confirmed: \t21\n",
      "Tentative: \t2\n",
      "Rejected: \t107\n"
     ]
    },
    {
     "name": "stderr",
     "output_type": "stream",
     "text": [
      "/Users/shohei.mitani/.pyenv/versions/anaconda3-5.3.1/lib/python3.6/site-packages/boruta/boruta_py.py:418: RuntimeWarning: invalid value encountered in greater\n",
      "  hits = np.where(cur_imp[0] > imp_sha_max)[0]\n",
      "/Users/shohei.mitani/.pyenv/versions/anaconda3-5.3.1/lib/python3.6/site-packages/boruta/boruta_py.py:380: DataConversionWarning: A column-vector y was passed when a 1d array was expected. Please change the shape of y to (n_samples,), for example using ravel().\n",
      "  self.estimator.fit(X, y)\n"
     ]
    },
    {
     "name": "stdout",
     "output_type": "stream",
     "text": [
      "Iteration: \t409 / 500\n",
      "Confirmed: \t21\n",
      "Tentative: \t2\n",
      "Rejected: \t107\n"
     ]
    },
    {
     "name": "stderr",
     "output_type": "stream",
     "text": [
      "/Users/shohei.mitani/.pyenv/versions/anaconda3-5.3.1/lib/python3.6/site-packages/boruta/boruta_py.py:418: RuntimeWarning: invalid value encountered in greater\n",
      "  hits = np.where(cur_imp[0] > imp_sha_max)[0]\n",
      "/Users/shohei.mitani/.pyenv/versions/anaconda3-5.3.1/lib/python3.6/site-packages/boruta/boruta_py.py:380: DataConversionWarning: A column-vector y was passed when a 1d array was expected. Please change the shape of y to (n_samples,), for example using ravel().\n",
      "  self.estimator.fit(X, y)\n"
     ]
    },
    {
     "name": "stdout",
     "output_type": "stream",
     "text": [
      "Iteration: \t410 / 500\n",
      "Confirmed: \t21\n",
      "Tentative: \t2\n",
      "Rejected: \t107\n"
     ]
    },
    {
     "name": "stderr",
     "output_type": "stream",
     "text": [
      "/Users/shohei.mitani/.pyenv/versions/anaconda3-5.3.1/lib/python3.6/site-packages/boruta/boruta_py.py:418: RuntimeWarning: invalid value encountered in greater\n",
      "  hits = np.where(cur_imp[0] > imp_sha_max)[0]\n",
      "/Users/shohei.mitani/.pyenv/versions/anaconda3-5.3.1/lib/python3.6/site-packages/boruta/boruta_py.py:380: DataConversionWarning: A column-vector y was passed when a 1d array was expected. Please change the shape of y to (n_samples,), for example using ravel().\n",
      "  self.estimator.fit(X, y)\n"
     ]
    },
    {
     "name": "stdout",
     "output_type": "stream",
     "text": [
      "Iteration: \t411 / 500\n",
      "Confirmed: \t21\n",
      "Tentative: \t2\n",
      "Rejected: \t107\n"
     ]
    },
    {
     "name": "stderr",
     "output_type": "stream",
     "text": [
      "/Users/shohei.mitani/.pyenv/versions/anaconda3-5.3.1/lib/python3.6/site-packages/boruta/boruta_py.py:418: RuntimeWarning: invalid value encountered in greater\n",
      "  hits = np.where(cur_imp[0] > imp_sha_max)[0]\n",
      "/Users/shohei.mitani/.pyenv/versions/anaconda3-5.3.1/lib/python3.6/site-packages/boruta/boruta_py.py:380: DataConversionWarning: A column-vector y was passed when a 1d array was expected. Please change the shape of y to (n_samples,), for example using ravel().\n",
      "  self.estimator.fit(X, y)\n"
     ]
    },
    {
     "name": "stdout",
     "output_type": "stream",
     "text": [
      "Iteration: \t412 / 500\n",
      "Confirmed: \t21\n",
      "Tentative: \t2\n",
      "Rejected: \t107\n"
     ]
    },
    {
     "name": "stderr",
     "output_type": "stream",
     "text": [
      "/Users/shohei.mitani/.pyenv/versions/anaconda3-5.3.1/lib/python3.6/site-packages/boruta/boruta_py.py:418: RuntimeWarning: invalid value encountered in greater\n",
      "  hits = np.where(cur_imp[0] > imp_sha_max)[0]\n",
      "/Users/shohei.mitani/.pyenv/versions/anaconda3-5.3.1/lib/python3.6/site-packages/boruta/boruta_py.py:380: DataConversionWarning: A column-vector y was passed when a 1d array was expected. Please change the shape of y to (n_samples,), for example using ravel().\n",
      "  self.estimator.fit(X, y)\n"
     ]
    },
    {
     "name": "stdout",
     "output_type": "stream",
     "text": [
      "Iteration: \t413 / 500\n",
      "Confirmed: \t21\n",
      "Tentative: \t2\n",
      "Rejected: \t107\n"
     ]
    },
    {
     "name": "stderr",
     "output_type": "stream",
     "text": [
      "/Users/shohei.mitani/.pyenv/versions/anaconda3-5.3.1/lib/python3.6/site-packages/boruta/boruta_py.py:418: RuntimeWarning: invalid value encountered in greater\n",
      "  hits = np.where(cur_imp[0] > imp_sha_max)[0]\n",
      "/Users/shohei.mitani/.pyenv/versions/anaconda3-5.3.1/lib/python3.6/site-packages/boruta/boruta_py.py:380: DataConversionWarning: A column-vector y was passed when a 1d array was expected. Please change the shape of y to (n_samples,), for example using ravel().\n",
      "  self.estimator.fit(X, y)\n"
     ]
    },
    {
     "name": "stdout",
     "output_type": "stream",
     "text": [
      "Iteration: \t414 / 500\n",
      "Confirmed: \t22\n",
      "Tentative: \t1\n",
      "Rejected: \t107\n"
     ]
    },
    {
     "name": "stderr",
     "output_type": "stream",
     "text": [
      "/Users/shohei.mitani/.pyenv/versions/anaconda3-5.3.1/lib/python3.6/site-packages/boruta/boruta_py.py:418: RuntimeWarning: invalid value encountered in greater\n",
      "  hits = np.where(cur_imp[0] > imp_sha_max)[0]\n",
      "/Users/shohei.mitani/.pyenv/versions/anaconda3-5.3.1/lib/python3.6/site-packages/boruta/boruta_py.py:380: DataConversionWarning: A column-vector y was passed when a 1d array was expected. Please change the shape of y to (n_samples,), for example using ravel().\n",
      "  self.estimator.fit(X, y)\n"
     ]
    },
    {
     "name": "stdout",
     "output_type": "stream",
     "text": [
      "Iteration: \t415 / 500\n",
      "Confirmed: \t22\n",
      "Tentative: \t1\n",
      "Rejected: \t107\n"
     ]
    },
    {
     "name": "stderr",
     "output_type": "stream",
     "text": [
      "/Users/shohei.mitani/.pyenv/versions/anaconda3-5.3.1/lib/python3.6/site-packages/boruta/boruta_py.py:418: RuntimeWarning: invalid value encountered in greater\n",
      "  hits = np.where(cur_imp[0] > imp_sha_max)[0]\n",
      "/Users/shohei.mitani/.pyenv/versions/anaconda3-5.3.1/lib/python3.6/site-packages/boruta/boruta_py.py:380: DataConversionWarning: A column-vector y was passed when a 1d array was expected. Please change the shape of y to (n_samples,), for example using ravel().\n",
      "  self.estimator.fit(X, y)\n"
     ]
    },
    {
     "name": "stdout",
     "output_type": "stream",
     "text": [
      "Iteration: \t416 / 500\n",
      "Confirmed: \t22\n",
      "Tentative: \t1\n",
      "Rejected: \t107\n"
     ]
    },
    {
     "name": "stderr",
     "output_type": "stream",
     "text": [
      "/Users/shohei.mitani/.pyenv/versions/anaconda3-5.3.1/lib/python3.6/site-packages/boruta/boruta_py.py:418: RuntimeWarning: invalid value encountered in greater\n",
      "  hits = np.where(cur_imp[0] > imp_sha_max)[0]\n",
      "/Users/shohei.mitani/.pyenv/versions/anaconda3-5.3.1/lib/python3.6/site-packages/boruta/boruta_py.py:380: DataConversionWarning: A column-vector y was passed when a 1d array was expected. Please change the shape of y to (n_samples,), for example using ravel().\n",
      "  self.estimator.fit(X, y)\n"
     ]
    },
    {
     "name": "stdout",
     "output_type": "stream",
     "text": [
      "Iteration: \t417 / 500\n",
      "Confirmed: \t22\n",
      "Tentative: \t1\n",
      "Rejected: \t107\n"
     ]
    },
    {
     "name": "stderr",
     "output_type": "stream",
     "text": [
      "/Users/shohei.mitani/.pyenv/versions/anaconda3-5.3.1/lib/python3.6/site-packages/boruta/boruta_py.py:418: RuntimeWarning: invalid value encountered in greater\n",
      "  hits = np.where(cur_imp[0] > imp_sha_max)[0]\n",
      "/Users/shohei.mitani/.pyenv/versions/anaconda3-5.3.1/lib/python3.6/site-packages/boruta/boruta_py.py:380: DataConversionWarning: A column-vector y was passed when a 1d array was expected. Please change the shape of y to (n_samples,), for example using ravel().\n",
      "  self.estimator.fit(X, y)\n"
     ]
    },
    {
     "name": "stdout",
     "output_type": "stream",
     "text": [
      "Iteration: \t418 / 500\n",
      "Confirmed: \t22\n",
      "Tentative: \t1\n",
      "Rejected: \t107\n"
     ]
    },
    {
     "name": "stderr",
     "output_type": "stream",
     "text": [
      "/Users/shohei.mitani/.pyenv/versions/anaconda3-5.3.1/lib/python3.6/site-packages/boruta/boruta_py.py:418: RuntimeWarning: invalid value encountered in greater\n",
      "  hits = np.where(cur_imp[0] > imp_sha_max)[0]\n",
      "/Users/shohei.mitani/.pyenv/versions/anaconda3-5.3.1/lib/python3.6/site-packages/boruta/boruta_py.py:380: DataConversionWarning: A column-vector y was passed when a 1d array was expected. Please change the shape of y to (n_samples,), for example using ravel().\n",
      "  self.estimator.fit(X, y)\n"
     ]
    },
    {
     "name": "stdout",
     "output_type": "stream",
     "text": [
      "Iteration: \t419 / 500\n",
      "Confirmed: \t22\n",
      "Tentative: \t1\n",
      "Rejected: \t107\n"
     ]
    },
    {
     "name": "stderr",
     "output_type": "stream",
     "text": [
      "/Users/shohei.mitani/.pyenv/versions/anaconda3-5.3.1/lib/python3.6/site-packages/boruta/boruta_py.py:418: RuntimeWarning: invalid value encountered in greater\n",
      "  hits = np.where(cur_imp[0] > imp_sha_max)[0]\n",
      "/Users/shohei.mitani/.pyenv/versions/anaconda3-5.3.1/lib/python3.6/site-packages/boruta/boruta_py.py:380: DataConversionWarning: A column-vector y was passed when a 1d array was expected. Please change the shape of y to (n_samples,), for example using ravel().\n",
      "  self.estimator.fit(X, y)\n"
     ]
    },
    {
     "name": "stdout",
     "output_type": "stream",
     "text": [
      "Iteration: \t420 / 500\n",
      "Confirmed: \t22\n",
      "Tentative: \t1\n",
      "Rejected: \t107\n"
     ]
    },
    {
     "name": "stderr",
     "output_type": "stream",
     "text": [
      "/Users/shohei.mitani/.pyenv/versions/anaconda3-5.3.1/lib/python3.6/site-packages/boruta/boruta_py.py:418: RuntimeWarning: invalid value encountered in greater\n",
      "  hits = np.where(cur_imp[0] > imp_sha_max)[0]\n",
      "/Users/shohei.mitani/.pyenv/versions/anaconda3-5.3.1/lib/python3.6/site-packages/boruta/boruta_py.py:380: DataConversionWarning: A column-vector y was passed when a 1d array was expected. Please change the shape of y to (n_samples,), for example using ravel().\n",
      "  self.estimator.fit(X, y)\n"
     ]
    },
    {
     "name": "stdout",
     "output_type": "stream",
     "text": [
      "Iteration: \t421 / 500\n",
      "Confirmed: \t22\n",
      "Tentative: \t1\n",
      "Rejected: \t107\n"
     ]
    },
    {
     "name": "stderr",
     "output_type": "stream",
     "text": [
      "/Users/shohei.mitani/.pyenv/versions/anaconda3-5.3.1/lib/python3.6/site-packages/boruta/boruta_py.py:418: RuntimeWarning: invalid value encountered in greater\n",
      "  hits = np.where(cur_imp[0] > imp_sha_max)[0]\n",
      "/Users/shohei.mitani/.pyenv/versions/anaconda3-5.3.1/lib/python3.6/site-packages/boruta/boruta_py.py:380: DataConversionWarning: A column-vector y was passed when a 1d array was expected. Please change the shape of y to (n_samples,), for example using ravel().\n",
      "  self.estimator.fit(X, y)\n"
     ]
    },
    {
     "name": "stdout",
     "output_type": "stream",
     "text": [
      "Iteration: \t422 / 500\n",
      "Confirmed: \t22\n",
      "Tentative: \t1\n",
      "Rejected: \t107\n"
     ]
    },
    {
     "name": "stderr",
     "output_type": "stream",
     "text": [
      "/Users/shohei.mitani/.pyenv/versions/anaconda3-5.3.1/lib/python3.6/site-packages/boruta/boruta_py.py:418: RuntimeWarning: invalid value encountered in greater\n",
      "  hits = np.where(cur_imp[0] > imp_sha_max)[0]\n",
      "/Users/shohei.mitani/.pyenv/versions/anaconda3-5.3.1/lib/python3.6/site-packages/boruta/boruta_py.py:380: DataConversionWarning: A column-vector y was passed when a 1d array was expected. Please change the shape of y to (n_samples,), for example using ravel().\n",
      "  self.estimator.fit(X, y)\n"
     ]
    },
    {
     "name": "stdout",
     "output_type": "stream",
     "text": [
      "Iteration: \t423 / 500\n",
      "Confirmed: \t22\n",
      "Tentative: \t1\n",
      "Rejected: \t107\n"
     ]
    },
    {
     "name": "stderr",
     "output_type": "stream",
     "text": [
      "/Users/shohei.mitani/.pyenv/versions/anaconda3-5.3.1/lib/python3.6/site-packages/boruta/boruta_py.py:418: RuntimeWarning: invalid value encountered in greater\n",
      "  hits = np.where(cur_imp[0] > imp_sha_max)[0]\n",
      "/Users/shohei.mitani/.pyenv/versions/anaconda3-5.3.1/lib/python3.6/site-packages/boruta/boruta_py.py:380: DataConversionWarning: A column-vector y was passed when a 1d array was expected. Please change the shape of y to (n_samples,), for example using ravel().\n",
      "  self.estimator.fit(X, y)\n"
     ]
    },
    {
     "name": "stdout",
     "output_type": "stream",
     "text": [
      "Iteration: \t424 / 500\n",
      "Confirmed: \t22\n",
      "Tentative: \t1\n",
      "Rejected: \t107\n"
     ]
    },
    {
     "name": "stderr",
     "output_type": "stream",
     "text": [
      "/Users/shohei.mitani/.pyenv/versions/anaconda3-5.3.1/lib/python3.6/site-packages/boruta/boruta_py.py:418: RuntimeWarning: invalid value encountered in greater\n",
      "  hits = np.where(cur_imp[0] > imp_sha_max)[0]\n",
      "/Users/shohei.mitani/.pyenv/versions/anaconda3-5.3.1/lib/python3.6/site-packages/boruta/boruta_py.py:380: DataConversionWarning: A column-vector y was passed when a 1d array was expected. Please change the shape of y to (n_samples,), for example using ravel().\n",
      "  self.estimator.fit(X, y)\n"
     ]
    },
    {
     "name": "stdout",
     "output_type": "stream",
     "text": [
      "Iteration: \t425 / 500\n",
      "Confirmed: \t22\n",
      "Tentative: \t1\n",
      "Rejected: \t107\n"
     ]
    },
    {
     "name": "stderr",
     "output_type": "stream",
     "text": [
      "/Users/shohei.mitani/.pyenv/versions/anaconda3-5.3.1/lib/python3.6/site-packages/boruta/boruta_py.py:418: RuntimeWarning: invalid value encountered in greater\n",
      "  hits = np.where(cur_imp[0] > imp_sha_max)[0]\n",
      "/Users/shohei.mitani/.pyenv/versions/anaconda3-5.3.1/lib/python3.6/site-packages/boruta/boruta_py.py:380: DataConversionWarning: A column-vector y was passed when a 1d array was expected. Please change the shape of y to (n_samples,), for example using ravel().\n",
      "  self.estimator.fit(X, y)\n"
     ]
    },
    {
     "name": "stdout",
     "output_type": "stream",
     "text": [
      "Iteration: \t426 / 500\n",
      "Confirmed: \t22\n",
      "Tentative: \t1\n",
      "Rejected: \t107\n"
     ]
    },
    {
     "name": "stderr",
     "output_type": "stream",
     "text": [
      "/Users/shohei.mitani/.pyenv/versions/anaconda3-5.3.1/lib/python3.6/site-packages/boruta/boruta_py.py:418: RuntimeWarning: invalid value encountered in greater\n",
      "  hits = np.where(cur_imp[0] > imp_sha_max)[0]\n",
      "/Users/shohei.mitani/.pyenv/versions/anaconda3-5.3.1/lib/python3.6/site-packages/boruta/boruta_py.py:380: DataConversionWarning: A column-vector y was passed when a 1d array was expected. Please change the shape of y to (n_samples,), for example using ravel().\n",
      "  self.estimator.fit(X, y)\n"
     ]
    },
    {
     "name": "stdout",
     "output_type": "stream",
     "text": [
      "Iteration: \t427 / 500\n",
      "Confirmed: \t22\n",
      "Tentative: \t1\n",
      "Rejected: \t107\n"
     ]
    },
    {
     "name": "stderr",
     "output_type": "stream",
     "text": [
      "/Users/shohei.mitani/.pyenv/versions/anaconda3-5.3.1/lib/python3.6/site-packages/boruta/boruta_py.py:418: RuntimeWarning: invalid value encountered in greater\n",
      "  hits = np.where(cur_imp[0] > imp_sha_max)[0]\n",
      "/Users/shohei.mitani/.pyenv/versions/anaconda3-5.3.1/lib/python3.6/site-packages/boruta/boruta_py.py:380: DataConversionWarning: A column-vector y was passed when a 1d array was expected. Please change the shape of y to (n_samples,), for example using ravel().\n",
      "  self.estimator.fit(X, y)\n"
     ]
    },
    {
     "name": "stdout",
     "output_type": "stream",
     "text": [
      "Iteration: \t428 / 500\n",
      "Confirmed: \t22\n",
      "Tentative: \t1\n",
      "Rejected: \t107\n"
     ]
    },
    {
     "name": "stderr",
     "output_type": "stream",
     "text": [
      "/Users/shohei.mitani/.pyenv/versions/anaconda3-5.3.1/lib/python3.6/site-packages/boruta/boruta_py.py:418: RuntimeWarning: invalid value encountered in greater\n",
      "  hits = np.where(cur_imp[0] > imp_sha_max)[0]\n",
      "/Users/shohei.mitani/.pyenv/versions/anaconda3-5.3.1/lib/python3.6/site-packages/boruta/boruta_py.py:380: DataConversionWarning: A column-vector y was passed when a 1d array was expected. Please change the shape of y to (n_samples,), for example using ravel().\n",
      "  self.estimator.fit(X, y)\n"
     ]
    },
    {
     "name": "stdout",
     "output_type": "stream",
     "text": [
      "Iteration: \t429 / 500\n",
      "Confirmed: \t22\n",
      "Tentative: \t1\n",
      "Rejected: \t107\n"
     ]
    },
    {
     "name": "stderr",
     "output_type": "stream",
     "text": [
      "/Users/shohei.mitani/.pyenv/versions/anaconda3-5.3.1/lib/python3.6/site-packages/boruta/boruta_py.py:418: RuntimeWarning: invalid value encountered in greater\n",
      "  hits = np.where(cur_imp[0] > imp_sha_max)[0]\n",
      "/Users/shohei.mitani/.pyenv/versions/anaconda3-5.3.1/lib/python3.6/site-packages/boruta/boruta_py.py:380: DataConversionWarning: A column-vector y was passed when a 1d array was expected. Please change the shape of y to (n_samples,), for example using ravel().\n",
      "  self.estimator.fit(X, y)\n"
     ]
    },
    {
     "name": "stdout",
     "output_type": "stream",
     "text": [
      "Iteration: \t430 / 500\n",
      "Confirmed: \t22\n",
      "Tentative: \t1\n",
      "Rejected: \t107\n"
     ]
    },
    {
     "name": "stderr",
     "output_type": "stream",
     "text": [
      "/Users/shohei.mitani/.pyenv/versions/anaconda3-5.3.1/lib/python3.6/site-packages/boruta/boruta_py.py:418: RuntimeWarning: invalid value encountered in greater\n",
      "  hits = np.where(cur_imp[0] > imp_sha_max)[0]\n",
      "/Users/shohei.mitani/.pyenv/versions/anaconda3-5.3.1/lib/python3.6/site-packages/boruta/boruta_py.py:380: DataConversionWarning: A column-vector y was passed when a 1d array was expected. Please change the shape of y to (n_samples,), for example using ravel().\n",
      "  self.estimator.fit(X, y)\n"
     ]
    },
    {
     "name": "stdout",
     "output_type": "stream",
     "text": [
      "Iteration: \t431 / 500\n",
      "Confirmed: \t22\n",
      "Tentative: \t1\n",
      "Rejected: \t107\n"
     ]
    },
    {
     "name": "stderr",
     "output_type": "stream",
     "text": [
      "/Users/shohei.mitani/.pyenv/versions/anaconda3-5.3.1/lib/python3.6/site-packages/boruta/boruta_py.py:418: RuntimeWarning: invalid value encountered in greater\n",
      "  hits = np.where(cur_imp[0] > imp_sha_max)[0]\n",
      "/Users/shohei.mitani/.pyenv/versions/anaconda3-5.3.1/lib/python3.6/site-packages/boruta/boruta_py.py:380: DataConversionWarning: A column-vector y was passed when a 1d array was expected. Please change the shape of y to (n_samples,), for example using ravel().\n",
      "  self.estimator.fit(X, y)\n"
     ]
    },
    {
     "name": "stdout",
     "output_type": "stream",
     "text": [
      "Iteration: \t432 / 500\n",
      "Confirmed: \t22\n",
      "Tentative: \t1\n",
      "Rejected: \t107\n"
     ]
    },
    {
     "name": "stderr",
     "output_type": "stream",
     "text": [
      "/Users/shohei.mitani/.pyenv/versions/anaconda3-5.3.1/lib/python3.6/site-packages/boruta/boruta_py.py:418: RuntimeWarning: invalid value encountered in greater\n",
      "  hits = np.where(cur_imp[0] > imp_sha_max)[0]\n",
      "/Users/shohei.mitani/.pyenv/versions/anaconda3-5.3.1/lib/python3.6/site-packages/boruta/boruta_py.py:380: DataConversionWarning: A column-vector y was passed when a 1d array was expected. Please change the shape of y to (n_samples,), for example using ravel().\n",
      "  self.estimator.fit(X, y)\n"
     ]
    },
    {
     "name": "stdout",
     "output_type": "stream",
     "text": [
      "Iteration: \t433 / 500\n",
      "Confirmed: \t22\n",
      "Tentative: \t1\n",
      "Rejected: \t107\n"
     ]
    },
    {
     "name": "stderr",
     "output_type": "stream",
     "text": [
      "/Users/shohei.mitani/.pyenv/versions/anaconda3-5.3.1/lib/python3.6/site-packages/boruta/boruta_py.py:418: RuntimeWarning: invalid value encountered in greater\n",
      "  hits = np.where(cur_imp[0] > imp_sha_max)[0]\n",
      "/Users/shohei.mitani/.pyenv/versions/anaconda3-5.3.1/lib/python3.6/site-packages/boruta/boruta_py.py:380: DataConversionWarning: A column-vector y was passed when a 1d array was expected. Please change the shape of y to (n_samples,), for example using ravel().\n",
      "  self.estimator.fit(X, y)\n"
     ]
    },
    {
     "name": "stdout",
     "output_type": "stream",
     "text": [
      "Iteration: \t434 / 500\n",
      "Confirmed: \t22\n",
      "Tentative: \t1\n",
      "Rejected: \t107\n"
     ]
    },
    {
     "name": "stderr",
     "output_type": "stream",
     "text": [
      "/Users/shohei.mitani/.pyenv/versions/anaconda3-5.3.1/lib/python3.6/site-packages/boruta/boruta_py.py:418: RuntimeWarning: invalid value encountered in greater\n",
      "  hits = np.where(cur_imp[0] > imp_sha_max)[0]\n",
      "/Users/shohei.mitani/.pyenv/versions/anaconda3-5.3.1/lib/python3.6/site-packages/boruta/boruta_py.py:380: DataConversionWarning: A column-vector y was passed when a 1d array was expected. Please change the shape of y to (n_samples,), for example using ravel().\n",
      "  self.estimator.fit(X, y)\n"
     ]
    },
    {
     "name": "stdout",
     "output_type": "stream",
     "text": [
      "Iteration: \t435 / 500\n",
      "Confirmed: \t22\n",
      "Tentative: \t1\n",
      "Rejected: \t107\n"
     ]
    },
    {
     "name": "stderr",
     "output_type": "stream",
     "text": [
      "/Users/shohei.mitani/.pyenv/versions/anaconda3-5.3.1/lib/python3.6/site-packages/boruta/boruta_py.py:418: RuntimeWarning: invalid value encountered in greater\n",
      "  hits = np.where(cur_imp[0] > imp_sha_max)[0]\n",
      "/Users/shohei.mitani/.pyenv/versions/anaconda3-5.3.1/lib/python3.6/site-packages/boruta/boruta_py.py:380: DataConversionWarning: A column-vector y was passed when a 1d array was expected. Please change the shape of y to (n_samples,), for example using ravel().\n",
      "  self.estimator.fit(X, y)\n"
     ]
    },
    {
     "name": "stdout",
     "output_type": "stream",
     "text": [
      "Iteration: \t436 / 500\n",
      "Confirmed: \t22\n",
      "Tentative: \t1\n",
      "Rejected: \t107\n"
     ]
    },
    {
     "name": "stderr",
     "output_type": "stream",
     "text": [
      "/Users/shohei.mitani/.pyenv/versions/anaconda3-5.3.1/lib/python3.6/site-packages/boruta/boruta_py.py:418: RuntimeWarning: invalid value encountered in greater\n",
      "  hits = np.where(cur_imp[0] > imp_sha_max)[0]\n",
      "/Users/shohei.mitani/.pyenv/versions/anaconda3-5.3.1/lib/python3.6/site-packages/boruta/boruta_py.py:380: DataConversionWarning: A column-vector y was passed when a 1d array was expected. Please change the shape of y to (n_samples,), for example using ravel().\n",
      "  self.estimator.fit(X, y)\n"
     ]
    },
    {
     "name": "stdout",
     "output_type": "stream",
     "text": [
      "Iteration: \t437 / 500\n",
      "Confirmed: \t22\n",
      "Tentative: \t1\n",
      "Rejected: \t107\n"
     ]
    },
    {
     "name": "stderr",
     "output_type": "stream",
     "text": [
      "/Users/shohei.mitani/.pyenv/versions/anaconda3-5.3.1/lib/python3.6/site-packages/boruta/boruta_py.py:418: RuntimeWarning: invalid value encountered in greater\n",
      "  hits = np.where(cur_imp[0] > imp_sha_max)[0]\n",
      "/Users/shohei.mitani/.pyenv/versions/anaconda3-5.3.1/lib/python3.6/site-packages/boruta/boruta_py.py:380: DataConversionWarning: A column-vector y was passed when a 1d array was expected. Please change the shape of y to (n_samples,), for example using ravel().\n",
      "  self.estimator.fit(X, y)\n"
     ]
    },
    {
     "name": "stdout",
     "output_type": "stream",
     "text": [
      "Iteration: \t438 / 500\n",
      "Confirmed: \t22\n",
      "Tentative: \t1\n",
      "Rejected: \t107\n"
     ]
    },
    {
     "name": "stderr",
     "output_type": "stream",
     "text": [
      "/Users/shohei.mitani/.pyenv/versions/anaconda3-5.3.1/lib/python3.6/site-packages/boruta/boruta_py.py:418: RuntimeWarning: invalid value encountered in greater\n",
      "  hits = np.where(cur_imp[0] > imp_sha_max)[0]\n",
      "/Users/shohei.mitani/.pyenv/versions/anaconda3-5.3.1/lib/python3.6/site-packages/boruta/boruta_py.py:380: DataConversionWarning: A column-vector y was passed when a 1d array was expected. Please change the shape of y to (n_samples,), for example using ravel().\n",
      "  self.estimator.fit(X, y)\n"
     ]
    },
    {
     "name": "stdout",
     "output_type": "stream",
     "text": [
      "Iteration: \t439 / 500\n",
      "Confirmed: \t22\n",
      "Tentative: \t1\n",
      "Rejected: \t107\n"
     ]
    },
    {
     "name": "stderr",
     "output_type": "stream",
     "text": [
      "/Users/shohei.mitani/.pyenv/versions/anaconda3-5.3.1/lib/python3.6/site-packages/boruta/boruta_py.py:418: RuntimeWarning: invalid value encountered in greater\n",
      "  hits = np.where(cur_imp[0] > imp_sha_max)[0]\n",
      "/Users/shohei.mitani/.pyenv/versions/anaconda3-5.3.1/lib/python3.6/site-packages/boruta/boruta_py.py:380: DataConversionWarning: A column-vector y was passed when a 1d array was expected. Please change the shape of y to (n_samples,), for example using ravel().\n",
      "  self.estimator.fit(X, y)\n"
     ]
    },
    {
     "name": "stdout",
     "output_type": "stream",
     "text": [
      "Iteration: \t440 / 500\n",
      "Confirmed: \t22\n",
      "Tentative: \t1\n",
      "Rejected: \t107\n"
     ]
    },
    {
     "name": "stderr",
     "output_type": "stream",
     "text": [
      "/Users/shohei.mitani/.pyenv/versions/anaconda3-5.3.1/lib/python3.6/site-packages/boruta/boruta_py.py:418: RuntimeWarning: invalid value encountered in greater\n",
      "  hits = np.where(cur_imp[0] > imp_sha_max)[0]\n",
      "/Users/shohei.mitani/.pyenv/versions/anaconda3-5.3.1/lib/python3.6/site-packages/boruta/boruta_py.py:380: DataConversionWarning: A column-vector y was passed when a 1d array was expected. Please change the shape of y to (n_samples,), for example using ravel().\n",
      "  self.estimator.fit(X, y)\n"
     ]
    },
    {
     "name": "stdout",
     "output_type": "stream",
     "text": [
      "Iteration: \t441 / 500\n",
      "Confirmed: \t22\n",
      "Tentative: \t1\n",
      "Rejected: \t107\n"
     ]
    },
    {
     "name": "stderr",
     "output_type": "stream",
     "text": [
      "/Users/shohei.mitani/.pyenv/versions/anaconda3-5.3.1/lib/python3.6/site-packages/boruta/boruta_py.py:418: RuntimeWarning: invalid value encountered in greater\n",
      "  hits = np.where(cur_imp[0] > imp_sha_max)[0]\n",
      "/Users/shohei.mitani/.pyenv/versions/anaconda3-5.3.1/lib/python3.6/site-packages/boruta/boruta_py.py:380: DataConversionWarning: A column-vector y was passed when a 1d array was expected. Please change the shape of y to (n_samples,), for example using ravel().\n",
      "  self.estimator.fit(X, y)\n"
     ]
    },
    {
     "name": "stdout",
     "output_type": "stream",
     "text": [
      "Iteration: \t442 / 500\n",
      "Confirmed: \t22\n",
      "Tentative: \t1\n",
      "Rejected: \t107\n"
     ]
    },
    {
     "name": "stderr",
     "output_type": "stream",
     "text": [
      "/Users/shohei.mitani/.pyenv/versions/anaconda3-5.3.1/lib/python3.6/site-packages/boruta/boruta_py.py:418: RuntimeWarning: invalid value encountered in greater\n",
      "  hits = np.where(cur_imp[0] > imp_sha_max)[0]\n",
      "/Users/shohei.mitani/.pyenv/versions/anaconda3-5.3.1/lib/python3.6/site-packages/boruta/boruta_py.py:380: DataConversionWarning: A column-vector y was passed when a 1d array was expected. Please change the shape of y to (n_samples,), for example using ravel().\n",
      "  self.estimator.fit(X, y)\n"
     ]
    },
    {
     "name": "stdout",
     "output_type": "stream",
     "text": [
      "Iteration: \t443 / 500\n",
      "Confirmed: \t22\n",
      "Tentative: \t1\n",
      "Rejected: \t107\n"
     ]
    },
    {
     "name": "stderr",
     "output_type": "stream",
     "text": [
      "/Users/shohei.mitani/.pyenv/versions/anaconda3-5.3.1/lib/python3.6/site-packages/boruta/boruta_py.py:418: RuntimeWarning: invalid value encountered in greater\n",
      "  hits = np.where(cur_imp[0] > imp_sha_max)[0]\n",
      "/Users/shohei.mitani/.pyenv/versions/anaconda3-5.3.1/lib/python3.6/site-packages/boruta/boruta_py.py:380: DataConversionWarning: A column-vector y was passed when a 1d array was expected. Please change the shape of y to (n_samples,), for example using ravel().\n",
      "  self.estimator.fit(X, y)\n"
     ]
    },
    {
     "name": "stdout",
     "output_type": "stream",
     "text": [
      "Iteration: \t444 / 500\n",
      "Confirmed: \t22\n",
      "Tentative: \t1\n",
      "Rejected: \t107\n"
     ]
    },
    {
     "name": "stderr",
     "output_type": "stream",
     "text": [
      "/Users/shohei.mitani/.pyenv/versions/anaconda3-5.3.1/lib/python3.6/site-packages/boruta/boruta_py.py:418: RuntimeWarning: invalid value encountered in greater\n",
      "  hits = np.where(cur_imp[0] > imp_sha_max)[0]\n",
      "/Users/shohei.mitani/.pyenv/versions/anaconda3-5.3.1/lib/python3.6/site-packages/boruta/boruta_py.py:380: DataConversionWarning: A column-vector y was passed when a 1d array was expected. Please change the shape of y to (n_samples,), for example using ravel().\n",
      "  self.estimator.fit(X, y)\n"
     ]
    },
    {
     "name": "stdout",
     "output_type": "stream",
     "text": [
      "Iteration: \t445 / 500\n",
      "Confirmed: \t22\n",
      "Tentative: \t1\n",
      "Rejected: \t107\n"
     ]
    },
    {
     "name": "stderr",
     "output_type": "stream",
     "text": [
      "/Users/shohei.mitani/.pyenv/versions/anaconda3-5.3.1/lib/python3.6/site-packages/boruta/boruta_py.py:418: RuntimeWarning: invalid value encountered in greater\n",
      "  hits = np.where(cur_imp[0] > imp_sha_max)[0]\n",
      "/Users/shohei.mitani/.pyenv/versions/anaconda3-5.3.1/lib/python3.6/site-packages/boruta/boruta_py.py:380: DataConversionWarning: A column-vector y was passed when a 1d array was expected. Please change the shape of y to (n_samples,), for example using ravel().\n",
      "  self.estimator.fit(X, y)\n"
     ]
    },
    {
     "name": "stdout",
     "output_type": "stream",
     "text": [
      "Iteration: \t446 / 500\n",
      "Confirmed: \t22\n",
      "Tentative: \t1\n",
      "Rejected: \t107\n"
     ]
    },
    {
     "name": "stderr",
     "output_type": "stream",
     "text": [
      "/Users/shohei.mitani/.pyenv/versions/anaconda3-5.3.1/lib/python3.6/site-packages/boruta/boruta_py.py:418: RuntimeWarning: invalid value encountered in greater\n",
      "  hits = np.where(cur_imp[0] > imp_sha_max)[0]\n",
      "/Users/shohei.mitani/.pyenv/versions/anaconda3-5.3.1/lib/python3.6/site-packages/boruta/boruta_py.py:380: DataConversionWarning: A column-vector y was passed when a 1d array was expected. Please change the shape of y to (n_samples,), for example using ravel().\n",
      "  self.estimator.fit(X, y)\n"
     ]
    },
    {
     "name": "stdout",
     "output_type": "stream",
     "text": [
      "Iteration: \t447 / 500\n",
      "Confirmed: \t22\n",
      "Tentative: \t1\n",
      "Rejected: \t107\n"
     ]
    },
    {
     "name": "stderr",
     "output_type": "stream",
     "text": [
      "/Users/shohei.mitani/.pyenv/versions/anaconda3-5.3.1/lib/python3.6/site-packages/boruta/boruta_py.py:418: RuntimeWarning: invalid value encountered in greater\n",
      "  hits = np.where(cur_imp[0] > imp_sha_max)[0]\n",
      "/Users/shohei.mitani/.pyenv/versions/anaconda3-5.3.1/lib/python3.6/site-packages/boruta/boruta_py.py:380: DataConversionWarning: A column-vector y was passed when a 1d array was expected. Please change the shape of y to (n_samples,), for example using ravel().\n",
      "  self.estimator.fit(X, y)\n"
     ]
    },
    {
     "name": "stdout",
     "output_type": "stream",
     "text": [
      "Iteration: \t448 / 500\n",
      "Confirmed: \t22\n",
      "Tentative: \t1\n",
      "Rejected: \t107\n"
     ]
    },
    {
     "name": "stderr",
     "output_type": "stream",
     "text": [
      "/Users/shohei.mitani/.pyenv/versions/anaconda3-5.3.1/lib/python3.6/site-packages/boruta/boruta_py.py:418: RuntimeWarning: invalid value encountered in greater\n",
      "  hits = np.where(cur_imp[0] > imp_sha_max)[0]\n",
      "/Users/shohei.mitani/.pyenv/versions/anaconda3-5.3.1/lib/python3.6/site-packages/boruta/boruta_py.py:380: DataConversionWarning: A column-vector y was passed when a 1d array was expected. Please change the shape of y to (n_samples,), for example using ravel().\n",
      "  self.estimator.fit(X, y)\n"
     ]
    },
    {
     "name": "stdout",
     "output_type": "stream",
     "text": [
      "Iteration: \t449 / 500\n",
      "Confirmed: \t22\n",
      "Tentative: \t1\n",
      "Rejected: \t107\n"
     ]
    },
    {
     "name": "stderr",
     "output_type": "stream",
     "text": [
      "/Users/shohei.mitani/.pyenv/versions/anaconda3-5.3.1/lib/python3.6/site-packages/boruta/boruta_py.py:418: RuntimeWarning: invalid value encountered in greater\n",
      "  hits = np.where(cur_imp[0] > imp_sha_max)[0]\n",
      "/Users/shohei.mitani/.pyenv/versions/anaconda3-5.3.1/lib/python3.6/site-packages/boruta/boruta_py.py:380: DataConversionWarning: A column-vector y was passed when a 1d array was expected. Please change the shape of y to (n_samples,), for example using ravel().\n",
      "  self.estimator.fit(X, y)\n"
     ]
    },
    {
     "name": "stdout",
     "output_type": "stream",
     "text": [
      "Iteration: \t450 / 500\n",
      "Confirmed: \t22\n",
      "Tentative: \t1\n",
      "Rejected: \t107\n"
     ]
    },
    {
     "name": "stderr",
     "output_type": "stream",
     "text": [
      "/Users/shohei.mitani/.pyenv/versions/anaconda3-5.3.1/lib/python3.6/site-packages/boruta/boruta_py.py:418: RuntimeWarning: invalid value encountered in greater\n",
      "  hits = np.where(cur_imp[0] > imp_sha_max)[0]\n",
      "/Users/shohei.mitani/.pyenv/versions/anaconda3-5.3.1/lib/python3.6/site-packages/boruta/boruta_py.py:380: DataConversionWarning: A column-vector y was passed when a 1d array was expected. Please change the shape of y to (n_samples,), for example using ravel().\n",
      "  self.estimator.fit(X, y)\n"
     ]
    },
    {
     "name": "stdout",
     "output_type": "stream",
     "text": [
      "Iteration: \t451 / 500\n",
      "Confirmed: \t22\n",
      "Tentative: \t1\n",
      "Rejected: \t107\n"
     ]
    },
    {
     "name": "stderr",
     "output_type": "stream",
     "text": [
      "/Users/shohei.mitani/.pyenv/versions/anaconda3-5.3.1/lib/python3.6/site-packages/boruta/boruta_py.py:418: RuntimeWarning: invalid value encountered in greater\n",
      "  hits = np.where(cur_imp[0] > imp_sha_max)[0]\n",
      "/Users/shohei.mitani/.pyenv/versions/anaconda3-5.3.1/lib/python3.6/site-packages/boruta/boruta_py.py:380: DataConversionWarning: A column-vector y was passed when a 1d array was expected. Please change the shape of y to (n_samples,), for example using ravel().\n",
      "  self.estimator.fit(X, y)\n"
     ]
    },
    {
     "name": "stdout",
     "output_type": "stream",
     "text": [
      "Iteration: \t452 / 500\n",
      "Confirmed: \t22\n",
      "Tentative: \t1\n",
      "Rejected: \t107\n"
     ]
    },
    {
     "name": "stderr",
     "output_type": "stream",
     "text": [
      "/Users/shohei.mitani/.pyenv/versions/anaconda3-5.3.1/lib/python3.6/site-packages/boruta/boruta_py.py:418: RuntimeWarning: invalid value encountered in greater\n",
      "  hits = np.where(cur_imp[0] > imp_sha_max)[0]\n",
      "/Users/shohei.mitani/.pyenv/versions/anaconda3-5.3.1/lib/python3.6/site-packages/boruta/boruta_py.py:380: DataConversionWarning: A column-vector y was passed when a 1d array was expected. Please change the shape of y to (n_samples,), for example using ravel().\n",
      "  self.estimator.fit(X, y)\n"
     ]
    },
    {
     "name": "stdout",
     "output_type": "stream",
     "text": [
      "Iteration: \t453 / 500\n",
      "Confirmed: \t22\n",
      "Tentative: \t1\n",
      "Rejected: \t107\n"
     ]
    },
    {
     "name": "stderr",
     "output_type": "stream",
     "text": [
      "/Users/shohei.mitani/.pyenv/versions/anaconda3-5.3.1/lib/python3.6/site-packages/boruta/boruta_py.py:418: RuntimeWarning: invalid value encountered in greater\n",
      "  hits = np.where(cur_imp[0] > imp_sha_max)[0]\n",
      "/Users/shohei.mitani/.pyenv/versions/anaconda3-5.3.1/lib/python3.6/site-packages/boruta/boruta_py.py:380: DataConversionWarning: A column-vector y was passed when a 1d array was expected. Please change the shape of y to (n_samples,), for example using ravel().\n",
      "  self.estimator.fit(X, y)\n"
     ]
    },
    {
     "name": "stdout",
     "output_type": "stream",
     "text": [
      "Iteration: \t454 / 500\n",
      "Confirmed: \t22\n",
      "Tentative: \t1\n",
      "Rejected: \t107\n"
     ]
    },
    {
     "name": "stderr",
     "output_type": "stream",
     "text": [
      "/Users/shohei.mitani/.pyenv/versions/anaconda3-5.3.1/lib/python3.6/site-packages/boruta/boruta_py.py:418: RuntimeWarning: invalid value encountered in greater\n",
      "  hits = np.where(cur_imp[0] > imp_sha_max)[0]\n",
      "/Users/shohei.mitani/.pyenv/versions/anaconda3-5.3.1/lib/python3.6/site-packages/boruta/boruta_py.py:380: DataConversionWarning: A column-vector y was passed when a 1d array was expected. Please change the shape of y to (n_samples,), for example using ravel().\n",
      "  self.estimator.fit(X, y)\n"
     ]
    },
    {
     "name": "stdout",
     "output_type": "stream",
     "text": [
      "Iteration: \t455 / 500\n",
      "Confirmed: \t22\n",
      "Tentative: \t1\n",
      "Rejected: \t107\n"
     ]
    },
    {
     "name": "stderr",
     "output_type": "stream",
     "text": [
      "/Users/shohei.mitani/.pyenv/versions/anaconda3-5.3.1/lib/python3.6/site-packages/boruta/boruta_py.py:418: RuntimeWarning: invalid value encountered in greater\n",
      "  hits = np.where(cur_imp[0] > imp_sha_max)[0]\n",
      "/Users/shohei.mitani/.pyenv/versions/anaconda3-5.3.1/lib/python3.6/site-packages/boruta/boruta_py.py:380: DataConversionWarning: A column-vector y was passed when a 1d array was expected. Please change the shape of y to (n_samples,), for example using ravel().\n",
      "  self.estimator.fit(X, y)\n"
     ]
    },
    {
     "name": "stdout",
     "output_type": "stream",
     "text": [
      "Iteration: \t456 / 500\n",
      "Confirmed: \t22\n",
      "Tentative: \t1\n",
      "Rejected: \t107\n"
     ]
    },
    {
     "name": "stderr",
     "output_type": "stream",
     "text": [
      "/Users/shohei.mitani/.pyenv/versions/anaconda3-5.3.1/lib/python3.6/site-packages/boruta/boruta_py.py:418: RuntimeWarning: invalid value encountered in greater\n",
      "  hits = np.where(cur_imp[0] > imp_sha_max)[0]\n",
      "/Users/shohei.mitani/.pyenv/versions/anaconda3-5.3.1/lib/python3.6/site-packages/boruta/boruta_py.py:380: DataConversionWarning: A column-vector y was passed when a 1d array was expected. Please change the shape of y to (n_samples,), for example using ravel().\n",
      "  self.estimator.fit(X, y)\n"
     ]
    },
    {
     "name": "stdout",
     "output_type": "stream",
     "text": [
      "Iteration: \t457 / 500\n",
      "Confirmed: \t22\n",
      "Tentative: \t1\n",
      "Rejected: \t107\n"
     ]
    },
    {
     "name": "stderr",
     "output_type": "stream",
     "text": [
      "/Users/shohei.mitani/.pyenv/versions/anaconda3-5.3.1/lib/python3.6/site-packages/boruta/boruta_py.py:418: RuntimeWarning: invalid value encountered in greater\n",
      "  hits = np.where(cur_imp[0] > imp_sha_max)[0]\n",
      "/Users/shohei.mitani/.pyenv/versions/anaconda3-5.3.1/lib/python3.6/site-packages/boruta/boruta_py.py:380: DataConversionWarning: A column-vector y was passed when a 1d array was expected. Please change the shape of y to (n_samples,), for example using ravel().\n",
      "  self.estimator.fit(X, y)\n"
     ]
    },
    {
     "name": "stdout",
     "output_type": "stream",
     "text": [
      "Iteration: \t458 / 500\n",
      "Confirmed: \t22\n",
      "Tentative: \t1\n",
      "Rejected: \t107\n"
     ]
    },
    {
     "name": "stderr",
     "output_type": "stream",
     "text": [
      "/Users/shohei.mitani/.pyenv/versions/anaconda3-5.3.1/lib/python3.6/site-packages/boruta/boruta_py.py:418: RuntimeWarning: invalid value encountered in greater\n",
      "  hits = np.where(cur_imp[0] > imp_sha_max)[0]\n",
      "/Users/shohei.mitani/.pyenv/versions/anaconda3-5.3.1/lib/python3.6/site-packages/boruta/boruta_py.py:380: DataConversionWarning: A column-vector y was passed when a 1d array was expected. Please change the shape of y to (n_samples,), for example using ravel().\n",
      "  self.estimator.fit(X, y)\n"
     ]
    },
    {
     "name": "stdout",
     "output_type": "stream",
     "text": [
      "Iteration: \t459 / 500\n",
      "Confirmed: \t22\n",
      "Tentative: \t1\n",
      "Rejected: \t107\n"
     ]
    },
    {
     "name": "stderr",
     "output_type": "stream",
     "text": [
      "/Users/shohei.mitani/.pyenv/versions/anaconda3-5.3.1/lib/python3.6/site-packages/boruta/boruta_py.py:418: RuntimeWarning: invalid value encountered in greater\n",
      "  hits = np.where(cur_imp[0] > imp_sha_max)[0]\n",
      "/Users/shohei.mitani/.pyenv/versions/anaconda3-5.3.1/lib/python3.6/site-packages/boruta/boruta_py.py:380: DataConversionWarning: A column-vector y was passed when a 1d array was expected. Please change the shape of y to (n_samples,), for example using ravel().\n",
      "  self.estimator.fit(X, y)\n"
     ]
    },
    {
     "name": "stdout",
     "output_type": "stream",
     "text": [
      "Iteration: \t460 / 500\n",
      "Confirmed: \t22\n",
      "Tentative: \t1\n",
      "Rejected: \t107\n"
     ]
    },
    {
     "name": "stderr",
     "output_type": "stream",
     "text": [
      "/Users/shohei.mitani/.pyenv/versions/anaconda3-5.3.1/lib/python3.6/site-packages/boruta/boruta_py.py:418: RuntimeWarning: invalid value encountered in greater\n",
      "  hits = np.where(cur_imp[0] > imp_sha_max)[0]\n",
      "/Users/shohei.mitani/.pyenv/versions/anaconda3-5.3.1/lib/python3.6/site-packages/boruta/boruta_py.py:380: DataConversionWarning: A column-vector y was passed when a 1d array was expected. Please change the shape of y to (n_samples,), for example using ravel().\n",
      "  self.estimator.fit(X, y)\n"
     ]
    },
    {
     "name": "stdout",
     "output_type": "stream",
     "text": [
      "Iteration: \t461 / 500\n",
      "Confirmed: \t22\n",
      "Tentative: \t1\n",
      "Rejected: \t107\n"
     ]
    },
    {
     "name": "stderr",
     "output_type": "stream",
     "text": [
      "/Users/shohei.mitani/.pyenv/versions/anaconda3-5.3.1/lib/python3.6/site-packages/boruta/boruta_py.py:418: RuntimeWarning: invalid value encountered in greater\n",
      "  hits = np.where(cur_imp[0] > imp_sha_max)[0]\n",
      "/Users/shohei.mitani/.pyenv/versions/anaconda3-5.3.1/lib/python3.6/site-packages/boruta/boruta_py.py:380: DataConversionWarning: A column-vector y was passed when a 1d array was expected. Please change the shape of y to (n_samples,), for example using ravel().\n",
      "  self.estimator.fit(X, y)\n"
     ]
    },
    {
     "name": "stdout",
     "output_type": "stream",
     "text": [
      "Iteration: \t462 / 500\n",
      "Confirmed: \t22\n",
      "Tentative: \t1\n",
      "Rejected: \t107\n"
     ]
    },
    {
     "name": "stderr",
     "output_type": "stream",
     "text": [
      "/Users/shohei.mitani/.pyenv/versions/anaconda3-5.3.1/lib/python3.6/site-packages/boruta/boruta_py.py:418: RuntimeWarning: invalid value encountered in greater\n",
      "  hits = np.where(cur_imp[0] > imp_sha_max)[0]\n",
      "/Users/shohei.mitani/.pyenv/versions/anaconda3-5.3.1/lib/python3.6/site-packages/boruta/boruta_py.py:380: DataConversionWarning: A column-vector y was passed when a 1d array was expected. Please change the shape of y to (n_samples,), for example using ravel().\n",
      "  self.estimator.fit(X, y)\n"
     ]
    },
    {
     "name": "stdout",
     "output_type": "stream",
     "text": [
      "Iteration: \t463 / 500\n",
      "Confirmed: \t22\n",
      "Tentative: \t1\n",
      "Rejected: \t107\n"
     ]
    },
    {
     "name": "stderr",
     "output_type": "stream",
     "text": [
      "/Users/shohei.mitani/.pyenv/versions/anaconda3-5.3.1/lib/python3.6/site-packages/boruta/boruta_py.py:418: RuntimeWarning: invalid value encountered in greater\n",
      "  hits = np.where(cur_imp[0] > imp_sha_max)[0]\n",
      "/Users/shohei.mitani/.pyenv/versions/anaconda3-5.3.1/lib/python3.6/site-packages/boruta/boruta_py.py:380: DataConversionWarning: A column-vector y was passed when a 1d array was expected. Please change the shape of y to (n_samples,), for example using ravel().\n",
      "  self.estimator.fit(X, y)\n"
     ]
    },
    {
     "name": "stdout",
     "output_type": "stream",
     "text": [
      "Iteration: \t464 / 500\n",
      "Confirmed: \t22\n",
      "Tentative: \t1\n",
      "Rejected: \t107\n"
     ]
    },
    {
     "name": "stderr",
     "output_type": "stream",
     "text": [
      "/Users/shohei.mitani/.pyenv/versions/anaconda3-5.3.1/lib/python3.6/site-packages/boruta/boruta_py.py:418: RuntimeWarning: invalid value encountered in greater\n",
      "  hits = np.where(cur_imp[0] > imp_sha_max)[0]\n",
      "/Users/shohei.mitani/.pyenv/versions/anaconda3-5.3.1/lib/python3.6/site-packages/boruta/boruta_py.py:380: DataConversionWarning: A column-vector y was passed when a 1d array was expected. Please change the shape of y to (n_samples,), for example using ravel().\n",
      "  self.estimator.fit(X, y)\n"
     ]
    },
    {
     "name": "stdout",
     "output_type": "stream",
     "text": [
      "Iteration: \t465 / 500\n",
      "Confirmed: \t22\n",
      "Tentative: \t1\n",
      "Rejected: \t107\n"
     ]
    },
    {
     "name": "stderr",
     "output_type": "stream",
     "text": [
      "/Users/shohei.mitani/.pyenv/versions/anaconda3-5.3.1/lib/python3.6/site-packages/boruta/boruta_py.py:418: RuntimeWarning: invalid value encountered in greater\n",
      "  hits = np.where(cur_imp[0] > imp_sha_max)[0]\n",
      "/Users/shohei.mitani/.pyenv/versions/anaconda3-5.3.1/lib/python3.6/site-packages/boruta/boruta_py.py:380: DataConversionWarning: A column-vector y was passed when a 1d array was expected. Please change the shape of y to (n_samples,), for example using ravel().\n",
      "  self.estimator.fit(X, y)\n"
     ]
    },
    {
     "name": "stdout",
     "output_type": "stream",
     "text": [
      "Iteration: \t466 / 500\n",
      "Confirmed: \t22\n",
      "Tentative: \t1\n",
      "Rejected: \t107\n"
     ]
    },
    {
     "name": "stderr",
     "output_type": "stream",
     "text": [
      "/Users/shohei.mitani/.pyenv/versions/anaconda3-5.3.1/lib/python3.6/site-packages/boruta/boruta_py.py:418: RuntimeWarning: invalid value encountered in greater\n",
      "  hits = np.where(cur_imp[0] > imp_sha_max)[0]\n",
      "/Users/shohei.mitani/.pyenv/versions/anaconda3-5.3.1/lib/python3.6/site-packages/boruta/boruta_py.py:380: DataConversionWarning: A column-vector y was passed when a 1d array was expected. Please change the shape of y to (n_samples,), for example using ravel().\n",
      "  self.estimator.fit(X, y)\n"
     ]
    },
    {
     "name": "stdout",
     "output_type": "stream",
     "text": [
      "Iteration: \t467 / 500\n",
      "Confirmed: \t22\n",
      "Tentative: \t1\n",
      "Rejected: \t107\n"
     ]
    },
    {
     "name": "stderr",
     "output_type": "stream",
     "text": [
      "/Users/shohei.mitani/.pyenv/versions/anaconda3-5.3.1/lib/python3.6/site-packages/boruta/boruta_py.py:418: RuntimeWarning: invalid value encountered in greater\n",
      "  hits = np.where(cur_imp[0] > imp_sha_max)[0]\n",
      "/Users/shohei.mitani/.pyenv/versions/anaconda3-5.3.1/lib/python3.6/site-packages/boruta/boruta_py.py:380: DataConversionWarning: A column-vector y was passed when a 1d array was expected. Please change the shape of y to (n_samples,), for example using ravel().\n",
      "  self.estimator.fit(X, y)\n"
     ]
    },
    {
     "name": "stdout",
     "output_type": "stream",
     "text": [
      "Iteration: \t468 / 500\n",
      "Confirmed: \t22\n",
      "Tentative: \t1\n",
      "Rejected: \t107\n"
     ]
    },
    {
     "name": "stderr",
     "output_type": "stream",
     "text": [
      "/Users/shohei.mitani/.pyenv/versions/anaconda3-5.3.1/lib/python3.6/site-packages/boruta/boruta_py.py:418: RuntimeWarning: invalid value encountered in greater\n",
      "  hits = np.where(cur_imp[0] > imp_sha_max)[0]\n",
      "/Users/shohei.mitani/.pyenv/versions/anaconda3-5.3.1/lib/python3.6/site-packages/boruta/boruta_py.py:380: DataConversionWarning: A column-vector y was passed when a 1d array was expected. Please change the shape of y to (n_samples,), for example using ravel().\n",
      "  self.estimator.fit(X, y)\n"
     ]
    },
    {
     "name": "stdout",
     "output_type": "stream",
     "text": [
      "Iteration: \t469 / 500\n",
      "Confirmed: \t22\n",
      "Tentative: \t1\n",
      "Rejected: \t107\n"
     ]
    },
    {
     "name": "stderr",
     "output_type": "stream",
     "text": [
      "/Users/shohei.mitani/.pyenv/versions/anaconda3-5.3.1/lib/python3.6/site-packages/boruta/boruta_py.py:418: RuntimeWarning: invalid value encountered in greater\n",
      "  hits = np.where(cur_imp[0] > imp_sha_max)[0]\n",
      "/Users/shohei.mitani/.pyenv/versions/anaconda3-5.3.1/lib/python3.6/site-packages/boruta/boruta_py.py:380: DataConversionWarning: A column-vector y was passed when a 1d array was expected. Please change the shape of y to (n_samples,), for example using ravel().\n",
      "  self.estimator.fit(X, y)\n"
     ]
    },
    {
     "name": "stdout",
     "output_type": "stream",
     "text": [
      "Iteration: \t470 / 500\n",
      "Confirmed: \t22\n",
      "Tentative: \t1\n",
      "Rejected: \t107\n"
     ]
    },
    {
     "name": "stderr",
     "output_type": "stream",
     "text": [
      "/Users/shohei.mitani/.pyenv/versions/anaconda3-5.3.1/lib/python3.6/site-packages/boruta/boruta_py.py:418: RuntimeWarning: invalid value encountered in greater\n",
      "  hits = np.where(cur_imp[0] > imp_sha_max)[0]\n",
      "/Users/shohei.mitani/.pyenv/versions/anaconda3-5.3.1/lib/python3.6/site-packages/boruta/boruta_py.py:380: DataConversionWarning: A column-vector y was passed when a 1d array was expected. Please change the shape of y to (n_samples,), for example using ravel().\n",
      "  self.estimator.fit(X, y)\n"
     ]
    },
    {
     "name": "stdout",
     "output_type": "stream",
     "text": [
      "Iteration: \t471 / 500\n",
      "Confirmed: \t22\n",
      "Tentative: \t1\n",
      "Rejected: \t107\n"
     ]
    },
    {
     "name": "stderr",
     "output_type": "stream",
     "text": [
      "/Users/shohei.mitani/.pyenv/versions/anaconda3-5.3.1/lib/python3.6/site-packages/boruta/boruta_py.py:418: RuntimeWarning: invalid value encountered in greater\n",
      "  hits = np.where(cur_imp[0] > imp_sha_max)[0]\n",
      "/Users/shohei.mitani/.pyenv/versions/anaconda3-5.3.1/lib/python3.6/site-packages/boruta/boruta_py.py:380: DataConversionWarning: A column-vector y was passed when a 1d array was expected. Please change the shape of y to (n_samples,), for example using ravel().\n",
      "  self.estimator.fit(X, y)\n"
     ]
    },
    {
     "name": "stdout",
     "output_type": "stream",
     "text": [
      "Iteration: \t472 / 500\n",
      "Confirmed: \t22\n",
      "Tentative: \t1\n",
      "Rejected: \t107\n"
     ]
    },
    {
     "name": "stderr",
     "output_type": "stream",
     "text": [
      "/Users/shohei.mitani/.pyenv/versions/anaconda3-5.3.1/lib/python3.6/site-packages/boruta/boruta_py.py:418: RuntimeWarning: invalid value encountered in greater\n",
      "  hits = np.where(cur_imp[0] > imp_sha_max)[0]\n",
      "/Users/shohei.mitani/.pyenv/versions/anaconda3-5.3.1/lib/python3.6/site-packages/boruta/boruta_py.py:380: DataConversionWarning: A column-vector y was passed when a 1d array was expected. Please change the shape of y to (n_samples,), for example using ravel().\n",
      "  self.estimator.fit(X, y)\n"
     ]
    },
    {
     "name": "stdout",
     "output_type": "stream",
     "text": [
      "Iteration: \t473 / 500\n",
      "Confirmed: \t22\n",
      "Tentative: \t1\n",
      "Rejected: \t107\n"
     ]
    },
    {
     "name": "stderr",
     "output_type": "stream",
     "text": [
      "/Users/shohei.mitani/.pyenv/versions/anaconda3-5.3.1/lib/python3.6/site-packages/boruta/boruta_py.py:418: RuntimeWarning: invalid value encountered in greater\n",
      "  hits = np.where(cur_imp[0] > imp_sha_max)[0]\n",
      "/Users/shohei.mitani/.pyenv/versions/anaconda3-5.3.1/lib/python3.6/site-packages/boruta/boruta_py.py:380: DataConversionWarning: A column-vector y was passed when a 1d array was expected. Please change the shape of y to (n_samples,), for example using ravel().\n",
      "  self.estimator.fit(X, y)\n"
     ]
    },
    {
     "name": "stdout",
     "output_type": "stream",
     "text": [
      "Iteration: \t474 / 500\n",
      "Confirmed: \t22\n",
      "Tentative: \t1\n",
      "Rejected: \t107\n"
     ]
    },
    {
     "name": "stderr",
     "output_type": "stream",
     "text": [
      "/Users/shohei.mitani/.pyenv/versions/anaconda3-5.3.1/lib/python3.6/site-packages/boruta/boruta_py.py:418: RuntimeWarning: invalid value encountered in greater\n",
      "  hits = np.where(cur_imp[0] > imp_sha_max)[0]\n",
      "/Users/shohei.mitani/.pyenv/versions/anaconda3-5.3.1/lib/python3.6/site-packages/boruta/boruta_py.py:380: DataConversionWarning: A column-vector y was passed when a 1d array was expected. Please change the shape of y to (n_samples,), for example using ravel().\n",
      "  self.estimator.fit(X, y)\n"
     ]
    },
    {
     "name": "stdout",
     "output_type": "stream",
     "text": [
      "Iteration: \t475 / 500\n",
      "Confirmed: \t22\n",
      "Tentative: \t1\n",
      "Rejected: \t107\n"
     ]
    },
    {
     "name": "stderr",
     "output_type": "stream",
     "text": [
      "/Users/shohei.mitani/.pyenv/versions/anaconda3-5.3.1/lib/python3.6/site-packages/boruta/boruta_py.py:418: RuntimeWarning: invalid value encountered in greater\n",
      "  hits = np.where(cur_imp[0] > imp_sha_max)[0]\n",
      "/Users/shohei.mitani/.pyenv/versions/anaconda3-5.3.1/lib/python3.6/site-packages/boruta/boruta_py.py:380: DataConversionWarning: A column-vector y was passed when a 1d array was expected. Please change the shape of y to (n_samples,), for example using ravel().\n",
      "  self.estimator.fit(X, y)\n"
     ]
    },
    {
     "name": "stdout",
     "output_type": "stream",
     "text": [
      "Iteration: \t476 / 500\n",
      "Confirmed: \t22\n",
      "Tentative: \t1\n",
      "Rejected: \t107\n"
     ]
    },
    {
     "name": "stderr",
     "output_type": "stream",
     "text": [
      "/Users/shohei.mitani/.pyenv/versions/anaconda3-5.3.1/lib/python3.6/site-packages/boruta/boruta_py.py:418: RuntimeWarning: invalid value encountered in greater\n",
      "  hits = np.where(cur_imp[0] > imp_sha_max)[0]\n",
      "/Users/shohei.mitani/.pyenv/versions/anaconda3-5.3.1/lib/python3.6/site-packages/boruta/boruta_py.py:380: DataConversionWarning: A column-vector y was passed when a 1d array was expected. Please change the shape of y to (n_samples,), for example using ravel().\n",
      "  self.estimator.fit(X, y)\n"
     ]
    },
    {
     "name": "stdout",
     "output_type": "stream",
     "text": [
      "Iteration: \t477 / 500\n",
      "Confirmed: \t22\n",
      "Tentative: \t1\n",
      "Rejected: \t107\n"
     ]
    },
    {
     "name": "stderr",
     "output_type": "stream",
     "text": [
      "/Users/shohei.mitani/.pyenv/versions/anaconda3-5.3.1/lib/python3.6/site-packages/boruta/boruta_py.py:418: RuntimeWarning: invalid value encountered in greater\n",
      "  hits = np.where(cur_imp[0] > imp_sha_max)[0]\n",
      "/Users/shohei.mitani/.pyenv/versions/anaconda3-5.3.1/lib/python3.6/site-packages/boruta/boruta_py.py:380: DataConversionWarning: A column-vector y was passed when a 1d array was expected. Please change the shape of y to (n_samples,), for example using ravel().\n",
      "  self.estimator.fit(X, y)\n"
     ]
    },
    {
     "name": "stdout",
     "output_type": "stream",
     "text": [
      "Iteration: \t478 / 500\n",
      "Confirmed: \t22\n",
      "Tentative: \t1\n",
      "Rejected: \t107\n"
     ]
    },
    {
     "name": "stderr",
     "output_type": "stream",
     "text": [
      "/Users/shohei.mitani/.pyenv/versions/anaconda3-5.3.1/lib/python3.6/site-packages/boruta/boruta_py.py:418: RuntimeWarning: invalid value encountered in greater\n",
      "  hits = np.where(cur_imp[0] > imp_sha_max)[0]\n",
      "/Users/shohei.mitani/.pyenv/versions/anaconda3-5.3.1/lib/python3.6/site-packages/boruta/boruta_py.py:380: DataConversionWarning: A column-vector y was passed when a 1d array was expected. Please change the shape of y to (n_samples,), for example using ravel().\n",
      "  self.estimator.fit(X, y)\n"
     ]
    },
    {
     "name": "stdout",
     "output_type": "stream",
     "text": [
      "Iteration: \t479 / 500\n",
      "Confirmed: \t22\n",
      "Tentative: \t1\n",
      "Rejected: \t107\n"
     ]
    },
    {
     "name": "stderr",
     "output_type": "stream",
     "text": [
      "/Users/shohei.mitani/.pyenv/versions/anaconda3-5.3.1/lib/python3.6/site-packages/boruta/boruta_py.py:418: RuntimeWarning: invalid value encountered in greater\n",
      "  hits = np.where(cur_imp[0] > imp_sha_max)[0]\n",
      "/Users/shohei.mitani/.pyenv/versions/anaconda3-5.3.1/lib/python3.6/site-packages/boruta/boruta_py.py:380: DataConversionWarning: A column-vector y was passed when a 1d array was expected. Please change the shape of y to (n_samples,), for example using ravel().\n",
      "  self.estimator.fit(X, y)\n"
     ]
    },
    {
     "name": "stdout",
     "output_type": "stream",
     "text": [
      "Iteration: \t480 / 500\n",
      "Confirmed: \t22\n",
      "Tentative: \t1\n",
      "Rejected: \t107\n"
     ]
    },
    {
     "name": "stderr",
     "output_type": "stream",
     "text": [
      "/Users/shohei.mitani/.pyenv/versions/anaconda3-5.3.1/lib/python3.6/site-packages/boruta/boruta_py.py:418: RuntimeWarning: invalid value encountered in greater\n",
      "  hits = np.where(cur_imp[0] > imp_sha_max)[0]\n",
      "/Users/shohei.mitani/.pyenv/versions/anaconda3-5.3.1/lib/python3.6/site-packages/boruta/boruta_py.py:380: DataConversionWarning: A column-vector y was passed when a 1d array was expected. Please change the shape of y to (n_samples,), for example using ravel().\n",
      "  self.estimator.fit(X, y)\n"
     ]
    },
    {
     "name": "stdout",
     "output_type": "stream",
     "text": [
      "Iteration: \t481 / 500\n",
      "Confirmed: \t22\n",
      "Tentative: \t1\n",
      "Rejected: \t107\n"
     ]
    },
    {
     "name": "stderr",
     "output_type": "stream",
     "text": [
      "/Users/shohei.mitani/.pyenv/versions/anaconda3-5.3.1/lib/python3.6/site-packages/boruta/boruta_py.py:418: RuntimeWarning: invalid value encountered in greater\n",
      "  hits = np.where(cur_imp[0] > imp_sha_max)[0]\n",
      "/Users/shohei.mitani/.pyenv/versions/anaconda3-5.3.1/lib/python3.6/site-packages/boruta/boruta_py.py:380: DataConversionWarning: A column-vector y was passed when a 1d array was expected. Please change the shape of y to (n_samples,), for example using ravel().\n",
      "  self.estimator.fit(X, y)\n"
     ]
    },
    {
     "name": "stdout",
     "output_type": "stream",
     "text": [
      "Iteration: \t482 / 500\n",
      "Confirmed: \t22\n",
      "Tentative: \t1\n",
      "Rejected: \t107\n"
     ]
    },
    {
     "name": "stderr",
     "output_type": "stream",
     "text": [
      "/Users/shohei.mitani/.pyenv/versions/anaconda3-5.3.1/lib/python3.6/site-packages/boruta/boruta_py.py:418: RuntimeWarning: invalid value encountered in greater\n",
      "  hits = np.where(cur_imp[0] > imp_sha_max)[0]\n",
      "/Users/shohei.mitani/.pyenv/versions/anaconda3-5.3.1/lib/python3.6/site-packages/boruta/boruta_py.py:380: DataConversionWarning: A column-vector y was passed when a 1d array was expected. Please change the shape of y to (n_samples,), for example using ravel().\n",
      "  self.estimator.fit(X, y)\n"
     ]
    },
    {
     "name": "stdout",
     "output_type": "stream",
     "text": [
      "Iteration: \t483 / 500\n",
      "Confirmed: \t22\n",
      "Tentative: \t1\n",
      "Rejected: \t107\n"
     ]
    },
    {
     "name": "stderr",
     "output_type": "stream",
     "text": [
      "/Users/shohei.mitani/.pyenv/versions/anaconda3-5.3.1/lib/python3.6/site-packages/boruta/boruta_py.py:418: RuntimeWarning: invalid value encountered in greater\n",
      "  hits = np.where(cur_imp[0] > imp_sha_max)[0]\n",
      "/Users/shohei.mitani/.pyenv/versions/anaconda3-5.3.1/lib/python3.6/site-packages/boruta/boruta_py.py:380: DataConversionWarning: A column-vector y was passed when a 1d array was expected. Please change the shape of y to (n_samples,), for example using ravel().\n",
      "  self.estimator.fit(X, y)\n"
     ]
    },
    {
     "name": "stdout",
     "output_type": "stream",
     "text": [
      "Iteration: \t484 / 500\n",
      "Confirmed: \t22\n",
      "Tentative: \t1\n",
      "Rejected: \t107\n"
     ]
    },
    {
     "name": "stderr",
     "output_type": "stream",
     "text": [
      "/Users/shohei.mitani/.pyenv/versions/anaconda3-5.3.1/lib/python3.6/site-packages/boruta/boruta_py.py:418: RuntimeWarning: invalid value encountered in greater\n",
      "  hits = np.where(cur_imp[0] > imp_sha_max)[0]\n",
      "/Users/shohei.mitani/.pyenv/versions/anaconda3-5.3.1/lib/python3.6/site-packages/boruta/boruta_py.py:380: DataConversionWarning: A column-vector y was passed when a 1d array was expected. Please change the shape of y to (n_samples,), for example using ravel().\n",
      "  self.estimator.fit(X, y)\n"
     ]
    },
    {
     "name": "stdout",
     "output_type": "stream",
     "text": [
      "Iteration: \t485 / 500\n",
      "Confirmed: \t22\n",
      "Tentative: \t1\n",
      "Rejected: \t107\n"
     ]
    },
    {
     "name": "stderr",
     "output_type": "stream",
     "text": [
      "/Users/shohei.mitani/.pyenv/versions/anaconda3-5.3.1/lib/python3.6/site-packages/boruta/boruta_py.py:418: RuntimeWarning: invalid value encountered in greater\n",
      "  hits = np.where(cur_imp[0] > imp_sha_max)[0]\n",
      "/Users/shohei.mitani/.pyenv/versions/anaconda3-5.3.1/lib/python3.6/site-packages/boruta/boruta_py.py:380: DataConversionWarning: A column-vector y was passed when a 1d array was expected. Please change the shape of y to (n_samples,), for example using ravel().\n",
      "  self.estimator.fit(X, y)\n"
     ]
    },
    {
     "name": "stdout",
     "output_type": "stream",
     "text": [
      "Iteration: \t486 / 500\n",
      "Confirmed: \t22\n",
      "Tentative: \t1\n",
      "Rejected: \t107\n"
     ]
    },
    {
     "name": "stderr",
     "output_type": "stream",
     "text": [
      "/Users/shohei.mitani/.pyenv/versions/anaconda3-5.3.1/lib/python3.6/site-packages/boruta/boruta_py.py:418: RuntimeWarning: invalid value encountered in greater\n",
      "  hits = np.where(cur_imp[0] > imp_sha_max)[0]\n",
      "/Users/shohei.mitani/.pyenv/versions/anaconda3-5.3.1/lib/python3.6/site-packages/boruta/boruta_py.py:380: DataConversionWarning: A column-vector y was passed when a 1d array was expected. Please change the shape of y to (n_samples,), for example using ravel().\n",
      "  self.estimator.fit(X, y)\n"
     ]
    },
    {
     "name": "stdout",
     "output_type": "stream",
     "text": [
      "Iteration: \t487 / 500\n",
      "Confirmed: \t22\n",
      "Tentative: \t1\n",
      "Rejected: \t107\n"
     ]
    },
    {
     "name": "stderr",
     "output_type": "stream",
     "text": [
      "/Users/shohei.mitani/.pyenv/versions/anaconda3-5.3.1/lib/python3.6/site-packages/boruta/boruta_py.py:418: RuntimeWarning: invalid value encountered in greater\n",
      "  hits = np.where(cur_imp[0] > imp_sha_max)[0]\n",
      "/Users/shohei.mitani/.pyenv/versions/anaconda3-5.3.1/lib/python3.6/site-packages/boruta/boruta_py.py:380: DataConversionWarning: A column-vector y was passed when a 1d array was expected. Please change the shape of y to (n_samples,), for example using ravel().\n",
      "  self.estimator.fit(X, y)\n"
     ]
    },
    {
     "name": "stdout",
     "output_type": "stream",
     "text": [
      "Iteration: \t488 / 500\n",
      "Confirmed: \t22\n",
      "Tentative: \t1\n",
      "Rejected: \t107\n"
     ]
    },
    {
     "name": "stderr",
     "output_type": "stream",
     "text": [
      "/Users/shohei.mitani/.pyenv/versions/anaconda3-5.3.1/lib/python3.6/site-packages/boruta/boruta_py.py:418: RuntimeWarning: invalid value encountered in greater\n",
      "  hits = np.where(cur_imp[0] > imp_sha_max)[0]\n",
      "/Users/shohei.mitani/.pyenv/versions/anaconda3-5.3.1/lib/python3.6/site-packages/boruta/boruta_py.py:380: DataConversionWarning: A column-vector y was passed when a 1d array was expected. Please change the shape of y to (n_samples,), for example using ravel().\n",
      "  self.estimator.fit(X, y)\n"
     ]
    },
    {
     "name": "stdout",
     "output_type": "stream",
     "text": [
      "Iteration: \t489 / 500\n",
      "Confirmed: \t22\n",
      "Tentative: \t1\n",
      "Rejected: \t107\n"
     ]
    },
    {
     "name": "stderr",
     "output_type": "stream",
     "text": [
      "/Users/shohei.mitani/.pyenv/versions/anaconda3-5.3.1/lib/python3.6/site-packages/boruta/boruta_py.py:418: RuntimeWarning: invalid value encountered in greater\n",
      "  hits = np.where(cur_imp[0] > imp_sha_max)[0]\n",
      "/Users/shohei.mitani/.pyenv/versions/anaconda3-5.3.1/lib/python3.6/site-packages/boruta/boruta_py.py:380: DataConversionWarning: A column-vector y was passed when a 1d array was expected. Please change the shape of y to (n_samples,), for example using ravel().\n",
      "  self.estimator.fit(X, y)\n"
     ]
    },
    {
     "name": "stdout",
     "output_type": "stream",
     "text": [
      "Iteration: \t490 / 500\n",
      "Confirmed: \t22\n",
      "Tentative: \t1\n",
      "Rejected: \t107\n"
     ]
    },
    {
     "name": "stderr",
     "output_type": "stream",
     "text": [
      "/Users/shohei.mitani/.pyenv/versions/anaconda3-5.3.1/lib/python3.6/site-packages/boruta/boruta_py.py:418: RuntimeWarning: invalid value encountered in greater\n",
      "  hits = np.where(cur_imp[0] > imp_sha_max)[0]\n",
      "/Users/shohei.mitani/.pyenv/versions/anaconda3-5.3.1/lib/python3.6/site-packages/boruta/boruta_py.py:380: DataConversionWarning: A column-vector y was passed when a 1d array was expected. Please change the shape of y to (n_samples,), for example using ravel().\n",
      "  self.estimator.fit(X, y)\n"
     ]
    },
    {
     "name": "stdout",
     "output_type": "stream",
     "text": [
      "Iteration: \t491 / 500\n",
      "Confirmed: \t22\n",
      "Tentative: \t1\n",
      "Rejected: \t107\n"
     ]
    },
    {
     "name": "stderr",
     "output_type": "stream",
     "text": [
      "/Users/shohei.mitani/.pyenv/versions/anaconda3-5.3.1/lib/python3.6/site-packages/boruta/boruta_py.py:418: RuntimeWarning: invalid value encountered in greater\n",
      "  hits = np.where(cur_imp[0] > imp_sha_max)[0]\n",
      "/Users/shohei.mitani/.pyenv/versions/anaconda3-5.3.1/lib/python3.6/site-packages/boruta/boruta_py.py:380: DataConversionWarning: A column-vector y was passed when a 1d array was expected. Please change the shape of y to (n_samples,), for example using ravel().\n",
      "  self.estimator.fit(X, y)\n"
     ]
    },
    {
     "name": "stdout",
     "output_type": "stream",
     "text": [
      "Iteration: \t492 / 500\n",
      "Confirmed: \t22\n",
      "Tentative: \t1\n",
      "Rejected: \t107\n"
     ]
    },
    {
     "name": "stderr",
     "output_type": "stream",
     "text": [
      "/Users/shohei.mitani/.pyenv/versions/anaconda3-5.3.1/lib/python3.6/site-packages/boruta/boruta_py.py:418: RuntimeWarning: invalid value encountered in greater\n",
      "  hits = np.where(cur_imp[0] > imp_sha_max)[0]\n",
      "/Users/shohei.mitani/.pyenv/versions/anaconda3-5.3.1/lib/python3.6/site-packages/boruta/boruta_py.py:380: DataConversionWarning: A column-vector y was passed when a 1d array was expected. Please change the shape of y to (n_samples,), for example using ravel().\n",
      "  self.estimator.fit(X, y)\n"
     ]
    },
    {
     "name": "stdout",
     "output_type": "stream",
     "text": [
      "Iteration: \t493 / 500\n",
      "Confirmed: \t22\n",
      "Tentative: \t1\n",
      "Rejected: \t107\n"
     ]
    },
    {
     "name": "stderr",
     "output_type": "stream",
     "text": [
      "/Users/shohei.mitani/.pyenv/versions/anaconda3-5.3.1/lib/python3.6/site-packages/boruta/boruta_py.py:418: RuntimeWarning: invalid value encountered in greater\n",
      "  hits = np.where(cur_imp[0] > imp_sha_max)[0]\n",
      "/Users/shohei.mitani/.pyenv/versions/anaconda3-5.3.1/lib/python3.6/site-packages/boruta/boruta_py.py:380: DataConversionWarning: A column-vector y was passed when a 1d array was expected. Please change the shape of y to (n_samples,), for example using ravel().\n",
      "  self.estimator.fit(X, y)\n"
     ]
    },
    {
     "name": "stdout",
     "output_type": "stream",
     "text": [
      "Iteration: \t494 / 500\n",
      "Confirmed: \t22\n",
      "Tentative: \t1\n",
      "Rejected: \t107\n"
     ]
    },
    {
     "name": "stderr",
     "output_type": "stream",
     "text": [
      "/Users/shohei.mitani/.pyenv/versions/anaconda3-5.3.1/lib/python3.6/site-packages/boruta/boruta_py.py:418: RuntimeWarning: invalid value encountered in greater\n",
      "  hits = np.where(cur_imp[0] > imp_sha_max)[0]\n",
      "/Users/shohei.mitani/.pyenv/versions/anaconda3-5.3.1/lib/python3.6/site-packages/boruta/boruta_py.py:380: DataConversionWarning: A column-vector y was passed when a 1d array was expected. Please change the shape of y to (n_samples,), for example using ravel().\n",
      "  self.estimator.fit(X, y)\n"
     ]
    },
    {
     "name": "stdout",
     "output_type": "stream",
     "text": [
      "Iteration: \t495 / 500\n",
      "Confirmed: \t22\n",
      "Tentative: \t1\n",
      "Rejected: \t107\n"
     ]
    },
    {
     "name": "stderr",
     "output_type": "stream",
     "text": [
      "/Users/shohei.mitani/.pyenv/versions/anaconda3-5.3.1/lib/python3.6/site-packages/boruta/boruta_py.py:418: RuntimeWarning: invalid value encountered in greater\n",
      "  hits = np.where(cur_imp[0] > imp_sha_max)[0]\n",
      "/Users/shohei.mitani/.pyenv/versions/anaconda3-5.3.1/lib/python3.6/site-packages/boruta/boruta_py.py:380: DataConversionWarning: A column-vector y was passed when a 1d array was expected. Please change the shape of y to (n_samples,), for example using ravel().\n",
      "  self.estimator.fit(X, y)\n"
     ]
    },
    {
     "name": "stdout",
     "output_type": "stream",
     "text": [
      "Iteration: \t496 / 500\n",
      "Confirmed: \t22\n",
      "Tentative: \t1\n",
      "Rejected: \t107\n"
     ]
    },
    {
     "name": "stderr",
     "output_type": "stream",
     "text": [
      "/Users/shohei.mitani/.pyenv/versions/anaconda3-5.3.1/lib/python3.6/site-packages/boruta/boruta_py.py:418: RuntimeWarning: invalid value encountered in greater\n",
      "  hits = np.where(cur_imp[0] > imp_sha_max)[0]\n",
      "/Users/shohei.mitani/.pyenv/versions/anaconda3-5.3.1/lib/python3.6/site-packages/boruta/boruta_py.py:380: DataConversionWarning: A column-vector y was passed when a 1d array was expected. Please change the shape of y to (n_samples,), for example using ravel().\n",
      "  self.estimator.fit(X, y)\n"
     ]
    },
    {
     "name": "stdout",
     "output_type": "stream",
     "text": [
      "Iteration: \t497 / 500\n",
      "Confirmed: \t22\n",
      "Tentative: \t1\n",
      "Rejected: \t107\n"
     ]
    },
    {
     "name": "stderr",
     "output_type": "stream",
     "text": [
      "/Users/shohei.mitani/.pyenv/versions/anaconda3-5.3.1/lib/python3.6/site-packages/boruta/boruta_py.py:418: RuntimeWarning: invalid value encountered in greater\n",
      "  hits = np.where(cur_imp[0] > imp_sha_max)[0]\n",
      "/Users/shohei.mitani/.pyenv/versions/anaconda3-5.3.1/lib/python3.6/site-packages/boruta/boruta_py.py:380: DataConversionWarning: A column-vector y was passed when a 1d array was expected. Please change the shape of y to (n_samples,), for example using ravel().\n",
      "  self.estimator.fit(X, y)\n"
     ]
    },
    {
     "name": "stdout",
     "output_type": "stream",
     "text": [
      "Iteration: \t498 / 500\n",
      "Confirmed: \t22\n",
      "Tentative: \t1\n",
      "Rejected: \t107\n",
      "Iteration: \t499 / 500\n",
      "Confirmed: \t22\n",
      "Tentative: \t1\n",
      "Rejected: \t107\n",
      "\n",
      "\n",
      "BorutaPy finished running.\n",
      "\n",
      "Iteration: \t500 / 500\n",
      "Confirmed: \t22\n",
      "Tentative: \t1\n",
      "Rejected: \t107\n"
     ]
    },
    {
     "name": "stderr",
     "output_type": "stream",
     "text": [
      "/Users/shohei.mitani/.pyenv/versions/anaconda3-5.3.1/lib/python3.6/site-packages/boruta/boruta_py.py:418: RuntimeWarning: invalid value encountered in greater\n",
      "  hits = np.where(cur_imp[0] > imp_sha_max)[0]\n"
     ]
    },
    {
     "data": {
      "text/plain": [
       "BorutaPy(alpha=0.05,\n",
       "     estimator=RandomForestClassifier(bootstrap=True, class_weight=None, criterion='gini',\n",
       "            max_depth=7, max_features='auto', max_leaf_nodes=None,\n",
       "            min_impurity_decrease=0.0, min_impurity_split=None,\n",
       "            min_samples_leaf=1, min_samples_split=2,\n",
       "            min_weight_fraction_leaf=0.0, n_estimators=96, n_jobs=-1,\n",
       "            oob_score=False,\n",
       "            random_state=<mtrand.RandomState object at 0x1a20d23d38>,\n",
       "            verbose=0, warm_start=False),\n",
       "     max_iter=500, n_estimators='auto', perc=80,\n",
       "     random_state=<mtrand.RandomState object at 0x1a20d23d38>,\n",
       "     two_step=False, verbose=2)"
      ]
     },
     "execution_count": 25,
     "metadata": {},
     "output_type": "execute_result"
    }
   ],
   "source": [
    "from boruta import BorutaPy\n",
    "from sklearn.ensemble import RandomForestClassifier\n",
    "\n",
    "rf = RandomForestClassifier(n_jobs=-1, max_depth=7)\n",
    "\n",
    "feat_selector = BorutaPy(rf, n_estimators='auto', perc = 80, max_iter=500, two_step=False,verbose=2, random_state=42)\n",
    "# two_stepがない方、つまりBonferroniを用いたほうがうまくいく\n",
    "\n",
    "# データの二度漬けになるので特徴量選択する際にもtestを含めてはいけない\n",
    "feat_selector.fit(X_train, y_train)"
   ]
  },
  {
   "cell_type": "code",
   "execution_count": 33,
   "metadata": {},
   "outputs": [
    {
     "name": "stderr",
     "output_type": "stream",
     "text": [
      "/Users/shohei.mitani/.pyenv/versions/anaconda3-5.3.1/lib/python3.6/site-packages/sklearn/preprocessing/label.py:219: DataConversionWarning: A column-vector y was passed when a 1d array was expected. Please change the shape of y to (n_samples, ), for example using ravel().\n",
      "  y = column_or_1d(y, warn=True)\n",
      "/Users/shohei.mitani/.pyenv/versions/anaconda3-5.3.1/lib/python3.6/site-packages/sklearn/preprocessing/label.py:252: DataConversionWarning: A column-vector y was passed when a 1d array was expected. Please change the shape of y to (n_samples, ), for example using ravel().\n",
      "  y = column_or_1d(y, warn=True)\n"
     ]
    },
    {
     "name": "stdout",
     "output_type": "stream",
     "text": [
      "Cross-Validation scores : [0.64857881 0.68475452 0.68992248 0.63824289 0.6873385  0.63471503\n",
      " 0.69430052 0.6373057 ]\n",
      "\n"
     ]
    }
   ],
   "source": [
    "X_train_selected = pd.DataFrame(X_train).iloc[:,feat_selector.support_]\n",
    "X_test_selected = pd.DataFrame(X_test).iloc[:,feat_selector.support_]\n",
    "\n",
    "xgb_model = xgb.XGBClassifier(**params)\n",
    "xgb_model.fit(X_train_selected, y_train)\n",
    "\n",
    "kfold = KFold(n_splits=8)\n",
    "scores = cross_val_score(estimator=xgb_model, X=X_test_selected, y=y_test, cv=kfold, n_jobs=-1)\n",
    "print(\"Cross-Validation scores : {}\\n\".format(scores))\n"
   ]
  },
  {
   "cell_type": "code",
   "execution_count": null,
   "metadata": {},
   "outputs": [],
   "source": []
  }
 ],
 "metadata": {
  "kernelspec": {
   "display_name": "Python 3",
   "language": "python",
   "name": "python3"
  },
  "language_info": {
   "codemirror_mode": {
    "name": "ipython",
    "version": 3
   },
   "file_extension": ".py",
   "mimetype": "text/x-python",
   "name": "python",
   "nbconvert_exporter": "python",
   "pygments_lexer": "ipython3",
   "version": "3.6.8"
  }
 },
 "nbformat": 4,
 "nbformat_minor": 2
}
