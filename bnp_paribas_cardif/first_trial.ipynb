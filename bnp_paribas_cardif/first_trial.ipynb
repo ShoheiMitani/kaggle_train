{
 "cells": [
  {
   "cell_type": "code",
   "execution_count": 45,
   "metadata": {},
   "outputs": [
    {
     "data": {
      "text/html": [
       "<div>\n",
       "<style scoped>\n",
       "    .dataframe tbody tr th:only-of-type {\n",
       "        vertical-align: middle;\n",
       "    }\n",
       "\n",
       "    .dataframe tbody tr th {\n",
       "        vertical-align: top;\n",
       "    }\n",
       "\n",
       "    .dataframe thead th {\n",
       "        text-align: right;\n",
       "    }\n",
       "</style>\n",
       "<table border=\"1\" class=\"dataframe\">\n",
       "  <thead>\n",
       "    <tr style=\"text-align: right;\">\n",
       "      <th></th>\n",
       "      <th>target</th>\n",
       "      <th>v1</th>\n",
       "      <th>v2</th>\n",
       "      <th>v3</th>\n",
       "      <th>v4</th>\n",
       "      <th>v5</th>\n",
       "      <th>v6</th>\n",
       "      <th>v7</th>\n",
       "      <th>v8</th>\n",
       "      <th>v9</th>\n",
       "      <th>v10</th>\n",
       "      <th>v11</th>\n",
       "      <th>v12</th>\n",
       "      <th>v13</th>\n",
       "      <th>v14</th>\n",
       "      <th>v15</th>\n",
       "      <th>v16</th>\n",
       "      <th>v17</th>\n",
       "      <th>v18</th>\n",
       "      <th>v19</th>\n",
       "      <th>v20</th>\n",
       "      <th>v21</th>\n",
       "      <th>v22</th>\n",
       "      <th>v23</th>\n",
       "      <th>v24</th>\n",
       "      <th>v25</th>\n",
       "      <th>v26</th>\n",
       "      <th>v27</th>\n",
       "      <th>v28</th>\n",
       "      <th>v29</th>\n",
       "      <th>v30</th>\n",
       "      <th>v31</th>\n",
       "      <th>v32</th>\n",
       "      <th>v33</th>\n",
       "      <th>v34</th>\n",
       "      <th>v35</th>\n",
       "      <th>v36</th>\n",
       "      <th>v37</th>\n",
       "      <th>v38</th>\n",
       "      <th>v39</th>\n",
       "      <th>v40</th>\n",
       "      <th>v41</th>\n",
       "      <th>v42</th>\n",
       "      <th>v43</th>\n",
       "      <th>v44</th>\n",
       "      <th>v45</th>\n",
       "      <th>v46</th>\n",
       "      <th>v47</th>\n",
       "      <th>v48</th>\n",
       "      <th>v49</th>\n",
       "      <th>v50</th>\n",
       "      <th>v51</th>\n",
       "      <th>v52</th>\n",
       "      <th>v53</th>\n",
       "      <th>v54</th>\n",
       "      <th>v55</th>\n",
       "      <th>v56</th>\n",
       "      <th>v57</th>\n",
       "      <th>v58</th>\n",
       "      <th>v59</th>\n",
       "      <th>v60</th>\n",
       "      <th>v61</th>\n",
       "      <th>v62</th>\n",
       "      <th>v63</th>\n",
       "      <th>v64</th>\n",
       "      <th>v65</th>\n",
       "      <th>v66</th>\n",
       "      <th>v67</th>\n",
       "      <th>v68</th>\n",
       "      <th>v69</th>\n",
       "      <th>v70</th>\n",
       "      <th>v71</th>\n",
       "      <th>v72</th>\n",
       "      <th>v73</th>\n",
       "      <th>v74</th>\n",
       "      <th>v75</th>\n",
       "      <th>v76</th>\n",
       "      <th>v77</th>\n",
       "      <th>v78</th>\n",
       "      <th>v79</th>\n",
       "      <th>v80</th>\n",
       "      <th>v81</th>\n",
       "      <th>v82</th>\n",
       "      <th>v83</th>\n",
       "      <th>v84</th>\n",
       "      <th>v85</th>\n",
       "      <th>v86</th>\n",
       "      <th>v87</th>\n",
       "      <th>v88</th>\n",
       "      <th>v89</th>\n",
       "      <th>v90</th>\n",
       "      <th>v91</th>\n",
       "      <th>v92</th>\n",
       "      <th>v93</th>\n",
       "      <th>v94</th>\n",
       "      <th>v95</th>\n",
       "      <th>v96</th>\n",
       "      <th>v97</th>\n",
       "      <th>v98</th>\n",
       "      <th>v99</th>\n",
       "      <th>v100</th>\n",
       "      <th>v101</th>\n",
       "      <th>v102</th>\n",
       "      <th>v103</th>\n",
       "      <th>v104</th>\n",
       "      <th>v105</th>\n",
       "      <th>v106</th>\n",
       "      <th>v107</th>\n",
       "      <th>v108</th>\n",
       "      <th>v109</th>\n",
       "      <th>v110</th>\n",
       "      <th>v111</th>\n",
       "      <th>v112</th>\n",
       "      <th>v113</th>\n",
       "      <th>v114</th>\n",
       "      <th>v115</th>\n",
       "      <th>v116</th>\n",
       "      <th>v117</th>\n",
       "      <th>v118</th>\n",
       "      <th>v119</th>\n",
       "      <th>v120</th>\n",
       "      <th>v121</th>\n",
       "      <th>v122</th>\n",
       "      <th>v123</th>\n",
       "      <th>v124</th>\n",
       "      <th>v125</th>\n",
       "      <th>v126</th>\n",
       "      <th>v127</th>\n",
       "      <th>v128</th>\n",
       "      <th>v129</th>\n",
       "      <th>v130</th>\n",
       "      <th>v131</th>\n",
       "    </tr>\n",
       "  </thead>\n",
       "  <tbody>\n",
       "    <tr>\n",
       "      <th>25187</th>\n",
       "      <td>1</td>\n",
       "      <td>NaN</td>\n",
       "      <td>NaN</td>\n",
       "      <td>C</td>\n",
       "      <td>NaN</td>\n",
       "      <td>NaN</td>\n",
       "      <td>NaN</td>\n",
       "      <td>NaN</td>\n",
       "      <td>NaN</td>\n",
       "      <td>NaN</td>\n",
       "      <td>3.916848</td>\n",
       "      <td>NaN</td>\n",
       "      <td>8.245722</td>\n",
       "      <td>NaN</td>\n",
       "      <td>14.263424</td>\n",
       "      <td>NaN</td>\n",
       "      <td>NaN</td>\n",
       "      <td>NaN</td>\n",
       "      <td>NaN</td>\n",
       "      <td>NaN</td>\n",
       "      <td>NaN</td>\n",
       "      <td>8.193488</td>\n",
       "      <td>YGJ</td>\n",
       "      <td>NaN</td>\n",
       "      <td>A</td>\n",
       "      <td>NaN</td>\n",
       "      <td>NaN</td>\n",
       "      <td>NaN</td>\n",
       "      <td>NaN</td>\n",
       "      <td>NaN</td>\n",
       "      <td>NaN</td>\n",
       "      <td>B</td>\n",
       "      <td>NaN</td>\n",
       "      <td>NaN</td>\n",
       "      <td>4.393416</td>\n",
       "      <td>NaN</td>\n",
       "      <td>NaN</td>\n",
       "      <td>NaN</td>\n",
       "      <td>0</td>\n",
       "      <td>NaN</td>\n",
       "      <td>15.695680</td>\n",
       "      <td>NaN</td>\n",
       "      <td>NaN</td>\n",
       "      <td>NaN</td>\n",
       "      <td>NaN</td>\n",
       "      <td>NaN</td>\n",
       "      <td>NaN</td>\n",
       "      <td>C</td>\n",
       "      <td>NaN</td>\n",
       "      <td>NaN</td>\n",
       "      <td>1.863399</td>\n",
       "      <td>NaN</td>\n",
       "      <td>H</td>\n",
       "      <td>NaN</td>\n",
       "      <td>NaN</td>\n",
       "      <td>NaN</td>\n",
       "      <td>AZ</td>\n",
       "      <td>NaN</td>\n",
       "      <td>NaN</td>\n",
       "      <td>NaN</td>\n",
       "      <td>NaN</td>\n",
       "      <td>NaN</td>\n",
       "      <td>0</td>\n",
       "      <td>NaN</td>\n",
       "      <td>NaN</td>\n",
       "      <td>NaN</td>\n",
       "      <td>C</td>\n",
       "      <td>NaN</td>\n",
       "      <td>NaN</td>\n",
       "      <td>NaN</td>\n",
       "      <td>NaN</td>\n",
       "      <td>C</td>\n",
       "      <td>1</td>\n",
       "      <td>NaN</td>\n",
       "      <td>B</td>\n",
       "      <td>B</td>\n",
       "      <td>NaN</td>\n",
       "      <td>NaN</td>\n",
       "      <td>NaN</td>\n",
       "      <td>B</td>\n",
       "      <td>NaN</td>\n",
       "      <td>NaN</td>\n",
       "      <td>NaN</td>\n",
       "      <td>NaN</td>\n",
       "      <td>NaN</td>\n",
       "      <td>NaN</td>\n",
       "      <td>NaN</td>\n",
       "      <td>NaN</td>\n",
       "      <td>NaN</td>\n",
       "      <td>NaN</td>\n",
       "      <td>NaN</td>\n",
       "      <td>B</td>\n",
       "      <td>NaN</td>\n",
       "      <td>NaN</td>\n",
       "      <td>NaN</td>\n",
       "      <td>NaN</td>\n",
       "      <td>NaN</td>\n",
       "      <td>NaN</td>\n",
       "      <td>NaN</td>\n",
       "      <td>NaN</td>\n",
       "      <td>NaN</td>\n",
       "      <td>NaN</td>\n",
       "      <td>NaN</td>\n",
       "      <td>NaN</td>\n",
       "      <td>NaN</td>\n",
       "      <td>NaN</td>\n",
       "      <td>NaN</td>\n",
       "      <td>B</td>\n",
       "      <td>NaN</td>\n",
       "      <td>NaN</td>\n",
       "      <td>B</td>\n",
       "      <td>NaN</td>\n",
       "      <td>N</td>\n",
       "      <td>NaN</td>\n",
       "      <td>8.940264</td>\n",
       "      <td>NaN</td>\n",
       "      <td>NaN</td>\n",
       "      <td>NaN</td>\n",
       "      <td>NaN</td>\n",
       "      <td>NaN</td>\n",
       "      <td>NaN</td>\n",
       "      <td>NaN</td>\n",
       "      <td>NaN</td>\n",
       "      <td>NaN</td>\n",
       "      <td>NaN</td>\n",
       "      <td>AK</td>\n",
       "      <td>NaN</td>\n",
       "      <td>NaN</td>\n",
       "      <td>NaN</td>\n",
       "      <td>1</td>\n",
       "      <td>NaN</td>\n",
       "      <td>NaN</td>\n",
       "    </tr>\n",
       "    <tr>\n",
       "      <th>49725</th>\n",
       "      <td>0</td>\n",
       "      <td>2.825865</td>\n",
       "      <td>6.577360</td>\n",
       "      <td>C</td>\n",
       "      <td>5.116358</td>\n",
       "      <td>8.706349</td>\n",
       "      <td>2.912424</td>\n",
       "      <td>4.144602</td>\n",
       "      <td>1.385509</td>\n",
       "      <td>7.922705</td>\n",
       "      <td>1.312910</td>\n",
       "      <td>14.450402</td>\n",
       "      <td>6.787999</td>\n",
       "      <td>2.830338</td>\n",
       "      <td>12.148604</td>\n",
       "      <td>2.151800</td>\n",
       "      <td>3.148148</td>\n",
       "      <td>4.995224</td>\n",
       "      <td>0.702524</td>\n",
       "      <td>0.180899</td>\n",
       "      <td>16.395621</td>\n",
       "      <td>7.288215</td>\n",
       "      <td>AEK</td>\n",
       "      <td>-2.975980e-07</td>\n",
       "      <td>B</td>\n",
       "      <td>1.365399</td>\n",
       "      <td>2.333673</td>\n",
       "      <td>4.826884</td>\n",
       "      <td>4.197134</td>\n",
       "      <td>6.507129</td>\n",
       "      <td>C</td>\n",
       "      <td>A</td>\n",
       "      <td>1.252545</td>\n",
       "      <td>2.199592</td>\n",
       "      <td>6.630984</td>\n",
       "      <td>5.315681</td>\n",
       "      <td>15.279962</td>\n",
       "      <td>0.737100</td>\n",
       "      <td>0</td>\n",
       "      <td>0.522413</td>\n",
       "      <td>9.536937</td>\n",
       "      <td>5.488798</td>\n",
       "      <td>12.871691</td>\n",
       "      <td>3.351206</td>\n",
       "      <td>12.900823</td>\n",
       "      <td>6.052262</td>\n",
       "      <td>1.522021</td>\n",
       "      <td>G</td>\n",
       "      <td>10.918199</td>\n",
       "      <td>6.619144</td>\n",
       "      <td>0.600103</td>\n",
       "      <td>6.925277</td>\n",
       "      <td>G</td>\n",
       "      <td>14.491394</td>\n",
       "      <td>0.575708</td>\n",
       "      <td>1.344195</td>\n",
       "      <td>DP</td>\n",
       "      <td>5.234216</td>\n",
       "      <td>4.265593</td>\n",
       "      <td>8.699616</td>\n",
       "      <td>2.053631</td>\n",
       "      <td>15.756046</td>\n",
       "      <td>1</td>\n",
       "      <td>1.556873</td>\n",
       "      <td>8.233014</td>\n",
       "      <td>13.927760</td>\n",
       "      <td>B</td>\n",
       "      <td>7.596741</td>\n",
       "      <td>18.350100</td>\n",
       "      <td>8.148149</td>\n",
       "      <td>11.808217</td>\n",
       "      <td>F</td>\n",
       "      <td>1</td>\n",
       "      <td>2.289991</td>\n",
       "      <td>B</td>\n",
       "      <td>D</td>\n",
       "      <td>3.113825</td>\n",
       "      <td>6.079431</td>\n",
       "      <td>14.074074</td>\n",
       "      <td>M</td>\n",
       "      <td>1.642512</td>\n",
       "      <td>7.975447</td>\n",
       "      <td>3.592984</td>\n",
       "      <td>2.321792</td>\n",
       "      <td>1.038697</td>\n",
       "      <td>2.012987</td>\n",
       "      <td>1.008146</td>\n",
       "      <td>10.340520</td>\n",
       "      <td>1.120163</td>\n",
       "      <td>0.634189</td>\n",
       "      <td>0.844925</td>\n",
       "      <td>C</td>\n",
       "      <td>0.206155</td>\n",
       "      <td>6.137845</td>\n",
       "      <td>5.576123</td>\n",
       "      <td>0.253241</td>\n",
       "      <td>4.714867</td>\n",
       "      <td>5.405405</td>\n",
       "      <td>8.336216</td>\n",
       "      <td>1.586897</td>\n",
       "      <td>1.573441e+01</td>\n",
       "      <td>7.100506</td>\n",
       "      <td>2.047954</td>\n",
       "      <td>8.097404</td>\n",
       "      <td>2.297705</td>\n",
       "      <td>0.846749</td>\n",
       "      <td>14.330532</td>\n",
       "      <td>D</td>\n",
       "      <td>1.625292</td>\n",
       "      <td>3.112685</td>\n",
       "      <td>A</td>\n",
       "      <td>3.849286</td>\n",
       "      <td>D</td>\n",
       "      <td>AE</td>\n",
       "      <td>14.265961</td>\n",
       "      <td>11.666666</td>\n",
       "      <td>3.442879</td>\n",
       "      <td>9.136719</td>\n",
       "      <td>6.142507</td>\n",
       "      <td>1.523002e+00</td>\n",
       "      <td>1.146881</td>\n",
       "      <td>3.507692</td>\n",
       "      <td>6.376811</td>\n",
       "      <td>4.182293</td>\n",
       "      <td>1.377853</td>\n",
       "      <td>X</td>\n",
       "      <td>2.234748</td>\n",
       "      <td>3.914206</td>\n",
       "      <td>1.649634</td>\n",
       "      <td>0</td>\n",
       "      <td>1.061426</td>\n",
       "      <td>2.777777</td>\n",
       "    </tr>\n",
       "    <tr>\n",
       "      <th>43263</th>\n",
       "      <td>0</td>\n",
       "      <td>1.145834</td>\n",
       "      <td>2.189949</td>\n",
       "      <td>C</td>\n",
       "      <td>1.713692</td>\n",
       "      <td>7.096395</td>\n",
       "      <td>0.945946</td>\n",
       "      <td>1.013514</td>\n",
       "      <td>3.734515</td>\n",
       "      <td>5.551724</td>\n",
       "      <td>1.291028</td>\n",
       "      <td>16.011289</td>\n",
       "      <td>6.545430</td>\n",
       "      <td>4.418399</td>\n",
       "      <td>10.810339</td>\n",
       "      <td>2.003816</td>\n",
       "      <td>4.803922</td>\n",
       "      <td>1.158742</td>\n",
       "      <td>0.824087</td>\n",
       "      <td>0.685940</td>\n",
       "      <td>14.245262</td>\n",
       "      <td>5.940311</td>\n",
       "      <td>YGJ</td>\n",
       "      <td>1.982078e+01</td>\n",
       "      <td>E</td>\n",
       "      <td>3.841368</td>\n",
       "      <td>0.526465</td>\n",
       "      <td>1.525901</td>\n",
       "      <td>7.592473</td>\n",
       "      <td>3.688064</td>\n",
       "      <td>NaN</td>\n",
       "      <td>A</td>\n",
       "      <td>1.359796</td>\n",
       "      <td>4.594595</td>\n",
       "      <td>5.269484</td>\n",
       "      <td>6.959459</td>\n",
       "      <td>15.180575</td>\n",
       "      <td>1.222222</td>\n",
       "      <td>0</td>\n",
       "      <td>0.074225</td>\n",
       "      <td>11.667753</td>\n",
       "      <td>4.791666</td>\n",
       "      <td>10.867118</td>\n",
       "      <td>0.959548</td>\n",
       "      <td>5.538127</td>\n",
       "      <td>16.677464</td>\n",
       "      <td>4.376515</td>\n",
       "      <td>C</td>\n",
       "      <td>17.894271</td>\n",
       "      <td>6.587838</td>\n",
       "      <td>1.229550</td>\n",
       "      <td>13.675419</td>\n",
       "      <td>A</td>\n",
       "      <td>16.824428</td>\n",
       "      <td>2.467520</td>\n",
       "      <td>3.243244</td>\n",
       "      <td>AS</td>\n",
       "      <td>2.894145</td>\n",
       "      <td>19.914237</td>\n",
       "      <td>6.684546</td>\n",
       "      <td>0.412914</td>\n",
       "      <td>7.550922</td>\n",
       "      <td>1</td>\n",
       "      <td>4.323699</td>\n",
       "      <td>2.073609</td>\n",
       "      <td>8.833283</td>\n",
       "      <td>A</td>\n",
       "      <td>5.985361</td>\n",
       "      <td>18.662092</td>\n",
       "      <td>9.411764</td>\n",
       "      <td>11.193605</td>\n",
       "      <td>F</td>\n",
       "      <td>1</td>\n",
       "      <td>3.155379</td>\n",
       "      <td>B</td>\n",
       "      <td>D</td>\n",
       "      <td>0.696516</td>\n",
       "      <td>3.614864</td>\n",
       "      <td>14.705883</td>\n",
       "      <td>E</td>\n",
       "      <td>3.379311</td>\n",
       "      <td>9.868184</td>\n",
       "      <td>2.612931</td>\n",
       "      <td>5.067567</td>\n",
       "      <td>3.310810</td>\n",
       "      <td>7.372354</td>\n",
       "      <td>0.532095</td>\n",
       "      <td>7.646101</td>\n",
       "      <td>0.146396</td>\n",
       "      <td>4.302225</td>\n",
       "      <td>1.399488</td>\n",
       "      <td>F</td>\n",
       "      <td>0.604750</td>\n",
       "      <td>2.050426</td>\n",
       "      <td>5.170463</td>\n",
       "      <td>1.026995</td>\n",
       "      <td>3.102477</td>\n",
       "      <td>4.444445</td>\n",
       "      <td>7.152940</td>\n",
       "      <td>0.175487</td>\n",
       "      <td>-9.206215e-07</td>\n",
       "      <td>2.276132</td>\n",
       "      <td>3.451085</td>\n",
       "      <td>7.959612</td>\n",
       "      <td>3.559757</td>\n",
       "      <td>1.935775</td>\n",
       "      <td>4.698264</td>\n",
       "      <td>A</td>\n",
       "      <td>1.564364</td>\n",
       "      <td>2.643341</td>\n",
       "      <td>B</td>\n",
       "      <td>7.297296</td>\n",
       "      <td>N</td>\n",
       "      <td>NaN</td>\n",
       "      <td>12.809363</td>\n",
       "      <td>10.588236</td>\n",
       "      <td>1.221374</td>\n",
       "      <td>7.405999</td>\n",
       "      <td>5.666666</td>\n",
       "      <td>8.520679e+00</td>\n",
       "      <td>1.269298</td>\n",
       "      <td>7.692307</td>\n",
       "      <td>2.172414</td>\n",
       "      <td>13.627365</td>\n",
       "      <td>1.059518</td>\n",
       "      <td>AK</td>\n",
       "      <td>1.877951</td>\n",
       "      <td>1.921452</td>\n",
       "      <td>1.317061</td>\n",
       "      <td>0</td>\n",
       "      <td>9.066668</td>\n",
       "      <td>0.539217</td>\n",
       "    </tr>\n",
       "    <tr>\n",
       "      <th>10047</th>\n",
       "      <td>0</td>\n",
       "      <td>NaN</td>\n",
       "      <td>NaN</td>\n",
       "      <td>C</td>\n",
       "      <td>NaN</td>\n",
       "      <td>NaN</td>\n",
       "      <td>NaN</td>\n",
       "      <td>NaN</td>\n",
       "      <td>NaN</td>\n",
       "      <td>NaN</td>\n",
       "      <td>0.787746</td>\n",
       "      <td>NaN</td>\n",
       "      <td>6.534844</td>\n",
       "      <td>NaN</td>\n",
       "      <td>10.760797</td>\n",
       "      <td>NaN</td>\n",
       "      <td>NaN</td>\n",
       "      <td>NaN</td>\n",
       "      <td>NaN</td>\n",
       "      <td>NaN</td>\n",
       "      <td>NaN</td>\n",
       "      <td>6.462235</td>\n",
       "      <td>RZS</td>\n",
       "      <td>NaN</td>\n",
       "      <td>E</td>\n",
       "      <td>NaN</td>\n",
       "      <td>NaN</td>\n",
       "      <td>NaN</td>\n",
       "      <td>NaN</td>\n",
       "      <td>NaN</td>\n",
       "      <td>NaN</td>\n",
       "      <td>A</td>\n",
       "      <td>NaN</td>\n",
       "      <td>NaN</td>\n",
       "      <td>4.905688</td>\n",
       "      <td>NaN</td>\n",
       "      <td>NaN</td>\n",
       "      <td>NaN</td>\n",
       "      <td>0</td>\n",
       "      <td>NaN</td>\n",
       "      <td>11.736488</td>\n",
       "      <td>NaN</td>\n",
       "      <td>NaN</td>\n",
       "      <td>NaN</td>\n",
       "      <td>NaN</td>\n",
       "      <td>NaN</td>\n",
       "      <td>NaN</td>\n",
       "      <td>J</td>\n",
       "      <td>NaN</td>\n",
       "      <td>NaN</td>\n",
       "      <td>0.231825</td>\n",
       "      <td>NaN</td>\n",
       "      <td>H</td>\n",
       "      <td>NaN</td>\n",
       "      <td>NaN</td>\n",
       "      <td>NaN</td>\n",
       "      <td>CC</td>\n",
       "      <td>NaN</td>\n",
       "      <td>NaN</td>\n",
       "      <td>NaN</td>\n",
       "      <td>NaN</td>\n",
       "      <td>NaN</td>\n",
       "      <td>1</td>\n",
       "      <td>NaN</td>\n",
       "      <td>NaN</td>\n",
       "      <td>NaN</td>\n",
       "      <td>A</td>\n",
       "      <td>NaN</td>\n",
       "      <td>NaN</td>\n",
       "      <td>NaN</td>\n",
       "      <td>NaN</td>\n",
       "      <td>F</td>\n",
       "      <td>1</td>\n",
       "      <td>NaN</td>\n",
       "      <td>B</td>\n",
       "      <td>D</td>\n",
       "      <td>NaN</td>\n",
       "      <td>NaN</td>\n",
       "      <td>NaN</td>\n",
       "      <td>H</td>\n",
       "      <td>NaN</td>\n",
       "      <td>NaN</td>\n",
       "      <td>NaN</td>\n",
       "      <td>NaN</td>\n",
       "      <td>NaN</td>\n",
       "      <td>NaN</td>\n",
       "      <td>NaN</td>\n",
       "      <td>NaN</td>\n",
       "      <td>NaN</td>\n",
       "      <td>NaN</td>\n",
       "      <td>NaN</td>\n",
       "      <td>A</td>\n",
       "      <td>NaN</td>\n",
       "      <td>NaN</td>\n",
       "      <td>NaN</td>\n",
       "      <td>NaN</td>\n",
       "      <td>NaN</td>\n",
       "      <td>NaN</td>\n",
       "      <td>NaN</td>\n",
       "      <td>NaN</td>\n",
       "      <td>NaN</td>\n",
       "      <td>NaN</td>\n",
       "      <td>NaN</td>\n",
       "      <td>NaN</td>\n",
       "      <td>NaN</td>\n",
       "      <td>NaN</td>\n",
       "      <td>NaN</td>\n",
       "      <td>E</td>\n",
       "      <td>NaN</td>\n",
       "      <td>NaN</td>\n",
       "      <td>A</td>\n",
       "      <td>NaN</td>\n",
       "      <td>D</td>\n",
       "      <td>C</td>\n",
       "      <td>12.313805</td>\n",
       "      <td>NaN</td>\n",
       "      <td>NaN</td>\n",
       "      <td>NaN</td>\n",
       "      <td>NaN</td>\n",
       "      <td>NaN</td>\n",
       "      <td>NaN</td>\n",
       "      <td>NaN</td>\n",
       "      <td>NaN</td>\n",
       "      <td>NaN</td>\n",
       "      <td>NaN</td>\n",
       "      <td>BE</td>\n",
       "      <td>NaN</td>\n",
       "      <td>NaN</td>\n",
       "      <td>NaN</td>\n",
       "      <td>0</td>\n",
       "      <td>NaN</td>\n",
       "      <td>NaN</td>\n",
       "    </tr>\n",
       "    <tr>\n",
       "      <th>72228</th>\n",
       "      <td>0</td>\n",
       "      <td>0.700758</td>\n",
       "      <td>10.800212</td>\n",
       "      <td>C</td>\n",
       "      <td>5.266391</td>\n",
       "      <td>9.576327</td>\n",
       "      <td>2.727272</td>\n",
       "      <td>2.803030</td>\n",
       "      <td>0.022802</td>\n",
       "      <td>9.122807</td>\n",
       "      <td>1.312910</td>\n",
       "      <td>15.918368</td>\n",
       "      <td>6.586313</td>\n",
       "      <td>3.680840</td>\n",
       "      <td>11.636387</td>\n",
       "      <td>1.748252</td>\n",
       "      <td>5.000000</td>\n",
       "      <td>6.198846</td>\n",
       "      <td>0.151955</td>\n",
       "      <td>0.159729</td>\n",
       "      <td>18.970405</td>\n",
       "      <td>6.774524</td>\n",
       "      <td>CNF</td>\n",
       "      <td>-1.716029e-07</td>\n",
       "      <td>E</td>\n",
       "      <td>0.141336</td>\n",
       "      <td>2.361112</td>\n",
       "      <td>2.234849</td>\n",
       "      <td>1.126791</td>\n",
       "      <td>10.833333</td>\n",
       "      <td>E</td>\n",
       "      <td>A</td>\n",
       "      <td>1.477272</td>\n",
       "      <td>0.606061</td>\n",
       "      <td>4.190255</td>\n",
       "      <td>7.954546</td>\n",
       "      <td>9.411064</td>\n",
       "      <td>0.270271</td>\n",
       "      <td>0</td>\n",
       "      <td>0.704449</td>\n",
       "      <td>13.396280</td>\n",
       "      <td>8.863637</td>\n",
       "      <td>14.280303</td>\n",
       "      <td>2.312925</td>\n",
       "      <td>10.140576</td>\n",
       "      <td>9.041939</td>\n",
       "      <td>0.135016</td>\n",
       "      <td>I</td>\n",
       "      <td>9.155966</td>\n",
       "      <td>9.318181</td>\n",
       "      <td>1.160589</td>\n",
       "      <td>4.776586</td>\n",
       "      <td>K</td>\n",
       "      <td>16.083916</td>\n",
       "      <td>0.153661</td>\n",
       "      <td>0.568181</td>\n",
       "      <td>BW</td>\n",
       "      <td>5.909092</td>\n",
       "      <td>0.558140</td>\n",
       "      <td>13.356618</td>\n",
       "      <td>2.291667</td>\n",
       "      <td>17.490280</td>\n",
       "      <td>1</td>\n",
       "      <td>0.183141</td>\n",
       "      <td>10.006428</td>\n",
       "      <td>18.627206</td>\n",
       "      <td>A</td>\n",
       "      <td>11.136365</td>\n",
       "      <td>17.767441</td>\n",
       "      <td>12.500000</td>\n",
       "      <td>16.569633</td>\n",
       "      <td>C</td>\n",
       "      <td>1</td>\n",
       "      <td>1.842404</td>\n",
       "      <td>B</td>\n",
       "      <td>B</td>\n",
       "      <td>3.911597</td>\n",
       "      <td>9.772728</td>\n",
       "      <td>10.000000</td>\n",
       "      <td>C</td>\n",
       "      <td>0.701754</td>\n",
       "      <td>5.293048</td>\n",
       "      <td>7.810858</td>\n",
       "      <td>0.454545</td>\n",
       "      <td>0.454545</td>\n",
       "      <td>1.000000</td>\n",
       "      <td>1.363636</td>\n",
       "      <td>16.061417</td>\n",
       "      <td>2.121213</td>\n",
       "      <td>0.137451</td>\n",
       "      <td>1.114340</td>\n",
       "      <td>G</td>\n",
       "      <td>0.648287</td>\n",
       "      <td>7.675301</td>\n",
       "      <td>3.329872</td>\n",
       "      <td>0.659828</td>\n",
       "      <td>8.712121</td>\n",
       "      <td>8.918919</td>\n",
       "      <td>6.103996</td>\n",
       "      <td>1.319443</td>\n",
       "      <td>1.944186e+01</td>\n",
       "      <td>8.609722</td>\n",
       "      <td>3.495719</td>\n",
       "      <td>4.207224</td>\n",
       "      <td>2.353457</td>\n",
       "      <td>0.025101</td>\n",
       "      <td>16.657143</td>\n",
       "      <td>C</td>\n",
       "      <td>3.777067</td>\n",
       "      <td>10.460527</td>\n",
       "      <td>A</td>\n",
       "      <td>0.454546</td>\n",
       "      <td>F</td>\n",
       "      <td>G</td>\n",
       "      <td>11.159989</td>\n",
       "      <td>4.999999</td>\n",
       "      <td>2.307692</td>\n",
       "      <td>10.294886</td>\n",
       "      <td>9.189188</td>\n",
       "      <td>-7.285926e-07</td>\n",
       "      <td>1.674418</td>\n",
       "      <td>0.487804</td>\n",
       "      <td>8.421054</td>\n",
       "      <td>0.850855</td>\n",
       "      <td>0.109740</td>\n",
       "      <td>BY</td>\n",
       "      <td>1.604905</td>\n",
       "      <td>1.207387</td>\n",
       "      <td>3.514110</td>\n",
       "      <td>0</td>\n",
       "      <td>0.432433</td>\n",
       "      <td>2.500000</td>\n",
       "    </tr>\n",
       "  </tbody>\n",
       "</table>\n",
       "</div>"
      ],
      "text/plain": [
       "       target        v1         v2 v3        v4        v5        v6        v7  \\\n",
       "25187       1       NaN        NaN  C       NaN       NaN       NaN       NaN   \n",
       "49725       0  2.825865   6.577360  C  5.116358  8.706349  2.912424  4.144602   \n",
       "43263       0  1.145834   2.189949  C  1.713692  7.096395  0.945946  1.013514   \n",
       "10047       0       NaN        NaN  C       NaN       NaN       NaN       NaN   \n",
       "72228       0  0.700758  10.800212  C  5.266391  9.576327  2.727272  2.803030   \n",
       "\n",
       "             v8        v9       v10        v11       v12       v13        v14  \\\n",
       "25187       NaN       NaN  3.916848        NaN  8.245722       NaN  14.263424   \n",
       "49725  1.385509  7.922705  1.312910  14.450402  6.787999  2.830338  12.148604   \n",
       "43263  3.734515  5.551724  1.291028  16.011289  6.545430  4.418399  10.810339   \n",
       "10047       NaN       NaN  0.787746        NaN  6.534844       NaN  10.760797   \n",
       "72228  0.022802  9.122807  1.312910  15.918368  6.586313  3.680840  11.636387   \n",
       "\n",
       "            v15       v16       v17       v18       v19        v20       v21  \\\n",
       "25187       NaN       NaN       NaN       NaN       NaN        NaN  8.193488   \n",
       "49725  2.151800  3.148148  4.995224  0.702524  0.180899  16.395621  7.288215   \n",
       "43263  2.003816  4.803922  1.158742  0.824087  0.685940  14.245262  5.940311   \n",
       "10047       NaN       NaN       NaN       NaN       NaN        NaN  6.462235   \n",
       "72228  1.748252  5.000000  6.198846  0.151955  0.159729  18.970405  6.774524   \n",
       "\n",
       "       v22           v23 v24       v25       v26       v27       v28  \\\n",
       "25187  YGJ           NaN   A       NaN       NaN       NaN       NaN   \n",
       "49725  AEK -2.975980e-07   B  1.365399  2.333673  4.826884  4.197134   \n",
       "43263  YGJ  1.982078e+01   E  3.841368  0.526465  1.525901  7.592473   \n",
       "10047  RZS           NaN   E       NaN       NaN       NaN       NaN   \n",
       "72228  CNF -1.716029e-07   E  0.141336  2.361112  2.234849  1.126791   \n",
       "\n",
       "             v29  v30 v31       v32       v33       v34       v35        v36  \\\n",
       "25187        NaN  NaN   B       NaN       NaN  4.393416       NaN        NaN   \n",
       "49725   6.507129    C   A  1.252545  2.199592  6.630984  5.315681  15.279962   \n",
       "43263   3.688064  NaN   A  1.359796  4.594595  5.269484  6.959459  15.180575   \n",
       "10047        NaN  NaN   A       NaN       NaN  4.905688       NaN        NaN   \n",
       "72228  10.833333    E   A  1.477272  0.606061  4.190255  7.954546   9.411064   \n",
       "\n",
       "            v37  v38       v39        v40       v41        v42       v43  \\\n",
       "25187       NaN    0       NaN  15.695680       NaN        NaN       NaN   \n",
       "49725  0.737100    0  0.522413   9.536937  5.488798  12.871691  3.351206   \n",
       "43263  1.222222    0  0.074225  11.667753  4.791666  10.867118  0.959548   \n",
       "10047       NaN    0       NaN  11.736488       NaN        NaN       NaN   \n",
       "72228  0.270271    0  0.704449  13.396280  8.863637  14.280303  2.312925   \n",
       "\n",
       "             v44        v45       v46 v47        v48       v49       v50  \\\n",
       "25187        NaN        NaN       NaN   C        NaN       NaN  1.863399   \n",
       "49725  12.900823   6.052262  1.522021   G  10.918199  6.619144  0.600103   \n",
       "43263   5.538127  16.677464  4.376515   C  17.894271  6.587838  1.229550   \n",
       "10047        NaN        NaN       NaN   J        NaN       NaN  0.231825   \n",
       "72228  10.140576   9.041939  0.135016   I   9.155966  9.318181  1.160589   \n",
       "\n",
       "             v51 v52        v53       v54       v55 v56       v57        v58  \\\n",
       "25187        NaN   H        NaN       NaN       NaN  AZ       NaN        NaN   \n",
       "49725   6.925277   G  14.491394  0.575708  1.344195  DP  5.234216   4.265593   \n",
       "43263  13.675419   A  16.824428  2.467520  3.243244  AS  2.894145  19.914237   \n",
       "10047        NaN   H        NaN       NaN       NaN  CC       NaN        NaN   \n",
       "72228   4.776586   K  16.083916  0.153661  0.568181  BW  5.909092   0.558140   \n",
       "\n",
       "             v59       v60        v61  v62       v63        v64        v65  \\\n",
       "25187        NaN       NaN        NaN    0       NaN        NaN        NaN   \n",
       "49725   8.699616  2.053631  15.756046    1  1.556873   8.233014  13.927760   \n",
       "43263   6.684546  0.412914   7.550922    1  4.323699   2.073609   8.833283   \n",
       "10047        NaN       NaN        NaN    1       NaN        NaN        NaN   \n",
       "72228  13.356618  2.291667  17.490280    1  0.183141  10.006428  18.627206   \n",
       "\n",
       "      v66        v67        v68        v69        v70 v71  v72       v73 v74  \\\n",
       "25187   C        NaN        NaN        NaN        NaN   C    1       NaN   B   \n",
       "49725   B   7.596741  18.350100   8.148149  11.808217   F    1  2.289991   B   \n",
       "43263   A   5.985361  18.662092   9.411764  11.193605   F    1  3.155379   B   \n",
       "10047   A        NaN        NaN        NaN        NaN   F    1       NaN   B   \n",
       "72228   A  11.136365  17.767441  12.500000  16.569633   C    1  1.842404   B   \n",
       "\n",
       "      v75       v76       v77        v78 v79       v80       v81       v82  \\\n",
       "25187   B       NaN       NaN        NaN   B       NaN       NaN       NaN   \n",
       "49725   D  3.113825  6.079431  14.074074   M  1.642512  7.975447  3.592984   \n",
       "43263   D  0.696516  3.614864  14.705883   E  3.379311  9.868184  2.612931   \n",
       "10047   D       NaN       NaN        NaN   H       NaN       NaN       NaN   \n",
       "72228   B  3.911597  9.772728  10.000000   C  0.701754  5.293048  7.810858   \n",
       "\n",
       "            v83       v84       v85       v86        v87       v88       v89  \\\n",
       "25187       NaN       NaN       NaN       NaN        NaN       NaN       NaN   \n",
       "49725  2.321792  1.038697  2.012987  1.008146  10.340520  1.120163  0.634189   \n",
       "43263  5.067567  3.310810  7.372354  0.532095   7.646101  0.146396  4.302225   \n",
       "10047       NaN       NaN       NaN       NaN        NaN       NaN       NaN   \n",
       "72228  0.454545  0.454545  1.000000  1.363636  16.061417  2.121213  0.137451   \n",
       "\n",
       "            v90 v91       v92       v93       v94       v95       v96  \\\n",
       "25187       NaN   B       NaN       NaN       NaN       NaN       NaN   \n",
       "49725  0.844925   C  0.206155  6.137845  5.576123  0.253241  4.714867   \n",
       "43263  1.399488   F  0.604750  2.050426  5.170463  1.026995  3.102477   \n",
       "10047       NaN   A       NaN       NaN       NaN       NaN       NaN   \n",
       "72228  1.114340   G  0.648287  7.675301  3.329872  0.659828  8.712121   \n",
       "\n",
       "            v97       v98       v99          v100      v101      v102  \\\n",
       "25187       NaN       NaN       NaN           NaN       NaN       NaN   \n",
       "49725  5.405405  8.336216  1.586897  1.573441e+01  7.100506  2.047954   \n",
       "43263  4.444445  7.152940  0.175487 -9.206215e-07  2.276132  3.451085   \n",
       "10047       NaN       NaN       NaN           NaN       NaN       NaN   \n",
       "72228  8.918919  6.103996  1.319443  1.944186e+01  8.609722  3.495719   \n",
       "\n",
       "           v103      v104      v105       v106 v107      v108       v109 v110  \\\n",
       "25187       NaN       NaN       NaN        NaN    B       NaN        NaN    B   \n",
       "49725  8.097404  2.297705  0.846749  14.330532    D  1.625292   3.112685    A   \n",
       "43263  7.959612  3.559757  1.935775   4.698264    A  1.564364   2.643341    B   \n",
       "10047       NaN       NaN       NaN        NaN    E       NaN        NaN    A   \n",
       "72228  4.207224  2.353457  0.025101  16.657143    C  3.777067  10.460527    A   \n",
       "\n",
       "           v111 v112 v113       v114       v115      v116       v117  \\\n",
       "25187       NaN    N  NaN   8.940264        NaN       NaN        NaN   \n",
       "49725  3.849286    D   AE  14.265961  11.666666  3.442879   9.136719   \n",
       "43263  7.297296    N  NaN  12.809363  10.588236  1.221374   7.405999   \n",
       "10047       NaN    D    C  12.313805        NaN       NaN        NaN   \n",
       "72228  0.454546    F    G  11.159989   4.999999  2.307692  10.294886   \n",
       "\n",
       "           v118          v119      v120      v121      v122       v123  \\\n",
       "25187       NaN           NaN       NaN       NaN       NaN        NaN   \n",
       "49725  6.142507  1.523002e+00  1.146881  3.507692  6.376811   4.182293   \n",
       "43263  5.666666  8.520679e+00  1.269298  7.692307  2.172414  13.627365   \n",
       "10047       NaN           NaN       NaN       NaN       NaN        NaN   \n",
       "72228  9.189188 -7.285926e-07  1.674418  0.487804  8.421054   0.850855   \n",
       "\n",
       "           v124 v125      v126      v127      v128  v129      v130      v131  \n",
       "25187       NaN   AK       NaN       NaN       NaN     1       NaN       NaN  \n",
       "49725  1.377853    X  2.234748  3.914206  1.649634     0  1.061426  2.777777  \n",
       "43263  1.059518   AK  1.877951  1.921452  1.317061     0  9.066668  0.539217  \n",
       "10047       NaN   BE       NaN       NaN       NaN     0       NaN       NaN  \n",
       "72228  0.109740   BY  1.604905  1.207387  3.514110     0  0.432433  2.500000  "
      ]
     },
     "metadata": {},
     "output_type": "display_data"
    },
    {
     "data": {
      "text/html": [
       "<div>\n",
       "<style scoped>\n",
       "    .dataframe tbody tr th:only-of-type {\n",
       "        vertical-align: middle;\n",
       "    }\n",
       "\n",
       "    .dataframe tbody tr th {\n",
       "        vertical-align: top;\n",
       "    }\n",
       "\n",
       "    .dataframe thead th {\n",
       "        text-align: right;\n",
       "    }\n",
       "</style>\n",
       "<table border=\"1\" class=\"dataframe\">\n",
       "  <thead>\n",
       "    <tr style=\"text-align: right;\">\n",
       "      <th></th>\n",
       "      <th>target</th>\n",
       "      <th>v1</th>\n",
       "      <th>v2</th>\n",
       "      <th>v4</th>\n",
       "      <th>v5</th>\n",
       "      <th>v6</th>\n",
       "      <th>v7</th>\n",
       "      <th>v8</th>\n",
       "      <th>v9</th>\n",
       "      <th>v10</th>\n",
       "      <th>v11</th>\n",
       "      <th>v12</th>\n",
       "      <th>v13</th>\n",
       "      <th>v14</th>\n",
       "      <th>v15</th>\n",
       "      <th>v16</th>\n",
       "      <th>v17</th>\n",
       "      <th>v18</th>\n",
       "      <th>v19</th>\n",
       "      <th>v20</th>\n",
       "      <th>v21</th>\n",
       "      <th>v23</th>\n",
       "      <th>v25</th>\n",
       "      <th>v26</th>\n",
       "      <th>v27</th>\n",
       "      <th>v28</th>\n",
       "      <th>v29</th>\n",
       "      <th>v32</th>\n",
       "      <th>v33</th>\n",
       "      <th>v34</th>\n",
       "      <th>v35</th>\n",
       "      <th>v36</th>\n",
       "      <th>v37</th>\n",
       "      <th>v38</th>\n",
       "      <th>v39</th>\n",
       "      <th>v40</th>\n",
       "      <th>v41</th>\n",
       "      <th>v42</th>\n",
       "      <th>v43</th>\n",
       "      <th>v44</th>\n",
       "      <th>v45</th>\n",
       "      <th>v46</th>\n",
       "      <th>v48</th>\n",
       "      <th>v49</th>\n",
       "      <th>v50</th>\n",
       "      <th>v51</th>\n",
       "      <th>v53</th>\n",
       "      <th>v54</th>\n",
       "      <th>v55</th>\n",
       "      <th>v57</th>\n",
       "      <th>v58</th>\n",
       "      <th>v59</th>\n",
       "      <th>v60</th>\n",
       "      <th>v61</th>\n",
       "      <th>v62</th>\n",
       "      <th>v63</th>\n",
       "      <th>v64</th>\n",
       "      <th>v65</th>\n",
       "      <th>v67</th>\n",
       "      <th>v68</th>\n",
       "      <th>v69</th>\n",
       "      <th>v70</th>\n",
       "      <th>v72</th>\n",
       "      <th>v73</th>\n",
       "      <th>v76</th>\n",
       "      <th>v77</th>\n",
       "      <th>v78</th>\n",
       "      <th>v80</th>\n",
       "      <th>v81</th>\n",
       "      <th>v82</th>\n",
       "      <th>v83</th>\n",
       "      <th>v84</th>\n",
       "      <th>v85</th>\n",
       "      <th>v86</th>\n",
       "      <th>v87</th>\n",
       "      <th>v88</th>\n",
       "      <th>v89</th>\n",
       "      <th>v90</th>\n",
       "      <th>v92</th>\n",
       "      <th>v93</th>\n",
       "      <th>v94</th>\n",
       "      <th>v95</th>\n",
       "      <th>v96</th>\n",
       "      <th>v97</th>\n",
       "      <th>v98</th>\n",
       "      <th>v99</th>\n",
       "      <th>v100</th>\n",
       "      <th>v101</th>\n",
       "      <th>v102</th>\n",
       "      <th>v103</th>\n",
       "      <th>v104</th>\n",
       "      <th>v105</th>\n",
       "      <th>v106</th>\n",
       "      <th>v108</th>\n",
       "      <th>v109</th>\n",
       "      <th>v111</th>\n",
       "      <th>v114</th>\n",
       "      <th>v115</th>\n",
       "      <th>v116</th>\n",
       "      <th>v117</th>\n",
       "      <th>v118</th>\n",
       "      <th>v119</th>\n",
       "      <th>v120</th>\n",
       "      <th>v121</th>\n",
       "      <th>v122</th>\n",
       "      <th>v123</th>\n",
       "      <th>v124</th>\n",
       "      <th>v126</th>\n",
       "      <th>v127</th>\n",
       "      <th>v128</th>\n",
       "      <th>v129</th>\n",
       "      <th>v130</th>\n",
       "      <th>v131</th>\n",
       "    </tr>\n",
       "  </thead>\n",
       "  <tbody>\n",
       "    <tr>\n",
       "      <th>count</th>\n",
       "      <td>20000.00000</td>\n",
       "      <td>1.131100e+04</td>\n",
       "      <td>1.131600e+04</td>\n",
       "      <td>1.131600e+04</td>\n",
       "      <td>11531.000000</td>\n",
       "      <td>1.131100e+04</td>\n",
       "      <td>1.131100e+04</td>\n",
       "      <td>1.153400e+04</td>\n",
       "      <td>1.130800e+04</td>\n",
       "      <td>1.998300e+04</td>\n",
       "      <td>1.131100e+04</td>\n",
       "      <td>19983.000000</td>\n",
       "      <td>1.131100e+04</td>\n",
       "      <td>1.999900e+04</td>\n",
       "      <td>1.131100e+04</td>\n",
       "      <td>1.130300e+04</td>\n",
       "      <td>1.131600e+04</td>\n",
       "      <td>11311.000000</td>\n",
       "      <td>11310.000000</td>\n",
       "      <td>11310.000000</td>\n",
       "      <td>19890.000000</td>\n",
       "      <td>1.114400e+04</td>\n",
       "      <td>11534.000000</td>\n",
       "      <td>1.131100e+04</td>\n",
       "      <td>1.131100e+04</td>\n",
       "      <td>11311.000000</td>\n",
       "      <td>11311.000000</td>\n",
       "      <td>1.131100e+04</td>\n",
       "      <td>1.131100e+04</td>\n",
       "      <td>19978.000000</td>\n",
       "      <td>1.131100e+04</td>\n",
       "      <td>1.153100e+04</td>\n",
       "      <td>1.131000e+04</td>\n",
       "      <td>20000.000000</td>\n",
       "      <td>1.131100e+04</td>\n",
       "      <td>1.997800e+04</td>\n",
       "      <td>1.131100e+04</td>\n",
       "      <td>11311.000000</td>\n",
       "      <td>1.131100e+04</td>\n",
       "      <td>1.131600e+04</td>\n",
       "      <td>1.131100e+04</td>\n",
       "      <td>11534.000000</td>\n",
       "      <td>1.131600e+04</td>\n",
       "      <td>1.131100e+04</td>\n",
       "      <td>1.998300e+04</td>\n",
       "      <td>1.114400e+04</td>\n",
       "      <td>1.131100e+04</td>\n",
       "      <td>11534.000000</td>\n",
       "      <td>1.131100e+04</td>\n",
       "      <td>1.131100e+04</td>\n",
       "      <td>1.131100e+04</td>\n",
       "      <td>1.131600e+04</td>\n",
       "      <td>1.131100e+04</td>\n",
       "      <td>1.131600e+04</td>\n",
       "      <td>20000.000000</td>\n",
       "      <td>11534.000000</td>\n",
       "      <td>1.131600e+04</td>\n",
       "      <td>11310.000000</td>\n",
       "      <td>11311.000000</td>\n",
       "      <td>11311.000000</td>\n",
       "      <td>1.130300e+04</td>\n",
       "      <td>11531.000000</td>\n",
       "      <td>20000.000000</td>\n",
       "      <td>1.131100e+04</td>\n",
       "      <td>1.131600e+04</td>\n",
       "      <td>11311.000000</td>\n",
       "      <td>1.130300e+04</td>\n",
       "      <td>1.130800e+04</td>\n",
       "      <td>11531.000000</td>\n",
       "      <td>1.153100e+04</td>\n",
       "      <td>1.131100e+04</td>\n",
       "      <td>1.131100e+04</td>\n",
       "      <td>1.114400e+04</td>\n",
       "      <td>1.131100e+04</td>\n",
       "      <td>11528.000000</td>\n",
       "      <td>1.131100e+04</td>\n",
       "      <td>11534.000000</td>\n",
       "      <td>11310.000000</td>\n",
       "      <td>11310.000000</td>\n",
       "      <td>11311.000000</td>\n",
       "      <td>1.131100e+04</td>\n",
       "      <td>11310.000000</td>\n",
       "      <td>1.131100e+04</td>\n",
       "      <td>1.131000e+04</td>\n",
       "      <td>1.152700e+04</td>\n",
       "      <td>1.131100e+04</td>\n",
       "      <td>1.131100e+04</td>\n",
       "      <td>1.131600e+04</td>\n",
       "      <td>1.102000e+04</td>\n",
       "      <td>1.131100e+04</td>\n",
       "      <td>1.131100e+04</td>\n",
       "      <td>11531.000000</td>\n",
       "      <td>1.131600e+04</td>\n",
       "      <td>11531.000000</td>\n",
       "      <td>1.153100e+04</td>\n",
       "      <td>1.131100e+04</td>\n",
       "      <td>19994.000000</td>\n",
       "      <td>1.130300e+04</td>\n",
       "      <td>1.131100e+04</td>\n",
       "      <td>1.153100e+04</td>\n",
       "      <td>1.131000e+04</td>\n",
       "      <td>1.114400e+04</td>\n",
       "      <td>1.131100e+04</td>\n",
       "      <td>1.131000e+04</td>\n",
       "      <td>1.130800e+04</td>\n",
       "      <td>11144.000000</td>\n",
       "      <td>1.153400e+04</td>\n",
       "      <td>1.131100e+04</td>\n",
       "      <td>1.131100e+04</td>\n",
       "      <td>11531.000000</td>\n",
       "      <td>20000.000000</td>\n",
       "      <td>1.131000e+04</td>\n",
       "      <td>1.130300e+04</td>\n",
       "    </tr>\n",
       "    <tr>\n",
       "      <th>mean</th>\n",
       "      <td>0.75915</td>\n",
       "      <td>1.629888e+00</td>\n",
       "      <td>7.446466e+00</td>\n",
       "      <td>4.129610e+00</td>\n",
       "      <td>8.727802</td>\n",
       "      <td>2.440140e+00</td>\n",
       "      <td>2.478220e+00</td>\n",
       "      <td>1.498797e+00</td>\n",
       "      <td>9.039658e+00</td>\n",
       "      <td>1.885875e+00</td>\n",
       "      <td>1.545112e+01</td>\n",
       "      <td>6.880851</td>\n",
       "      <td>3.806531e+00</td>\n",
       "      <td>1.209429e+01</td>\n",
       "      <td>2.082157e+00</td>\n",
       "      <td>4.915545e+00</td>\n",
       "      <td>3.838380e+00</td>\n",
       "      <td>0.841833</td>\n",
       "      <td>0.221054</td>\n",
       "      <td>17.783228</td>\n",
       "      <td>7.029315</td>\n",
       "      <td>1.121657e+00</td>\n",
       "      <td>1.694518</td>\n",
       "      <td>1.874624e+00</td>\n",
       "      <td>2.731178e+00</td>\n",
       "      <td>5.106623</td>\n",
       "      <td>8.219220</td>\n",
       "      <td>1.626769e+00</td>\n",
       "      <td>2.170414e+00</td>\n",
       "      <td>6.397281</td>\n",
       "      <td>8.139363e+00</td>\n",
       "      <td>1.339659e+01</td>\n",
       "      <td>7.425857e-01</td>\n",
       "      <td>0.091800</td>\n",
       "      <td>1.213672e+00</td>\n",
       "      <td>1.048293e+01</td>\n",
       "      <td>7.197519e+00</td>\n",
       "      <td>12.934970</td>\n",
       "      <td>2.209688e+00</td>\n",
       "      <td>1.080449e+01</td>\n",
       "      <td>9.170493e+00</td>\n",
       "      <td>1.630577</td>\n",
       "      <td>1.253745e+01</td>\n",
       "      <td>8.028424e+00</td>\n",
       "      <td>1.511420e+00</td>\n",
       "      <td>7.221520e+00</td>\n",
       "      <td>1.571590e+01</td>\n",
       "      <td>1.250798</td>\n",
       "      <td>1.566866e+00</td>\n",
       "      <td>4.075040e+00</td>\n",
       "      <td>7.785992e+00</td>\n",
       "      <td>1.059826e+01</td>\n",
       "      <td>1.712924e+00</td>\n",
       "      <td>1.457049e+01</td>\n",
       "      <td>1.035150</td>\n",
       "      <td>1.685254</td>\n",
       "      <td>6.350227e+00</td>\n",
       "      <td>15.850467</td>\n",
       "      <td>9.304560</td>\n",
       "      <td>17.592838</td>\n",
       "      <td>9.444465e+00</td>\n",
       "      <td>12.312523</td>\n",
       "      <td>1.431800</td>\n",
       "      <td>2.436556e+00</td>\n",
       "      <td>2.409717e+00</td>\n",
       "      <td>7.324900</td>\n",
       "      <td>1.335656e+01</td>\n",
       "      <td>2.211844e+00</td>\n",
       "      <td>7.305923</td>\n",
       "      <td>6.168009e+00</td>\n",
       "      <td>2.183130e+00</td>\n",
       "      <td>1.615945e+00</td>\n",
       "      <td>2.848192e+00</td>\n",
       "      <td>1.222672e+00</td>\n",
       "      <td>10.175781</td>\n",
       "      <td>1.913802e+00</td>\n",
       "      <td>1.516365</td>\n",
       "      <td>0.967706</td>\n",
       "      <td>0.585280</td>\n",
       "      <td>5.467969</td>\n",
       "      <td>3.845486e+00</td>\n",
       "      <td>0.669102</td>\n",
       "      <td>6.469771e+00</td>\n",
       "      <td>7.637089e+00</td>\n",
       "      <td>7.617862e+00</td>\n",
       "      <td>1.252953e+00</td>\n",
       "      <td>1.200752e+01</td>\n",
       "      <td>6.850192e+00</td>\n",
       "      <td>2.896804e+00</td>\n",
       "      <td>5.292816e+00</td>\n",
       "      <td>2.647158e+00</td>\n",
       "      <td>1.075240</td>\n",
       "      <td>1.179024e+01</td>\n",
       "      <td>2.152780</td>\n",
       "      <td>4.180253e+00</td>\n",
       "      <td>3.377102e+00</td>\n",
       "      <td>13.560648</td>\n",
       "      <td>1.055283e+01</td>\n",
       "      <td>2.285198e+00</td>\n",
       "      <td>8.308865e+00</td>\n",
       "      <td>8.380374e+00</td>\n",
       "      <td>3.217492e+00</td>\n",
       "      <td>1.284128e+00</td>\n",
       "      <td>2.747052e+00</td>\n",
       "      <td>6.827618e+00</td>\n",
       "      <td>3.577867</td>\n",
       "      <td>9.236192e-01</td>\n",
       "      <td>1.666629e+00</td>\n",
       "      <td>3.217845e+00</td>\n",
       "      <td>2.026753</td>\n",
       "      <td>0.304850</td>\n",
       "      <td>1.935580e+00</td>\n",
       "      <td>1.725100e+00</td>\n",
       "    </tr>\n",
       "    <tr>\n",
       "      <th>std</th>\n",
       "      <td>0.42761</td>\n",
       "      <td>1.094446e+00</td>\n",
       "      <td>2.946705e+00</td>\n",
       "      <td>1.146411e+00</td>\n",
       "      <td>2.030773</td>\n",
       "      <td>6.123324e-01</td>\n",
       "      <td>6.031799e-01</td>\n",
       "      <td>2.785363e+00</td>\n",
       "      <td>1.925530e+00</td>\n",
       "      <td>1.396200e+00</td>\n",
       "      <td>7.843269e-01</td>\n",
       "      <td>0.930010</td>\n",
       "      <td>1.150289e+00</td>\n",
       "      <td>1.458232e+00</td>\n",
       "      <td>7.093412e-01</td>\n",
       "      <td>1.780649e+00</td>\n",
       "      <td>1.917506e+00</td>\n",
       "      <td>0.644885</td>\n",
       "      <td>0.094122</td>\n",
       "      <td>1.138142</td>\n",
       "      <td>1.074528</td>\n",
       "      <td>4.056792e+00</td>\n",
       "      <td>2.944052</td>\n",
       "      <td>5.667732e-01</td>\n",
       "      <td>8.415661e-01</td>\n",
       "      <td>2.675781</td>\n",
       "      <td>1.288717</td>\n",
       "      <td>5.524713e-01</td>\n",
       "      <td>9.861848e-01</td>\n",
       "      <td>2.037274</td>\n",
       "      <td>1.319234e+00</td>\n",
       "      <td>2.363890e+00</td>\n",
       "      <td>5.352977e-01</td>\n",
       "      <td>0.589568</td>\n",
       "      <td>2.329223e+00</td>\n",
       "      <td>3.188221e+00</td>\n",
       "      <td>1.002576e+00</td>\n",
       "      <td>0.980049</td>\n",
       "      <td>6.505127e-01</td>\n",
       "      <td>2.121567e+00</td>\n",
       "      <td>2.046322e+00</td>\n",
       "      <td>2.898334</td>\n",
       "      <td>2.209466e+00</td>\n",
       "      <td>8.963356e-01</td>\n",
       "      <td>1.177269e+00</td>\n",
       "      <td>2.519526e+00</td>\n",
       "      <td>7.875605e-01</td>\n",
       "      <td>2.296086</td>\n",
       "      <td>8.348054e-01</td>\n",
       "      <td>6.860126e-01</td>\n",
       "      <td>6.865432e+00</td>\n",
       "      <td>2.079062e+00</td>\n",
       "      <td>5.530415e-01</td>\n",
       "      <td>2.136675e+00</td>\n",
       "      <td>0.695441</td>\n",
       "      <td>2.956988</td>\n",
       "      <td>2.536431e+00</td>\n",
       "      <td>1.877562</td>\n",
       "      <td>1.116450</td>\n",
       "      <td>2.267651</td>\n",
       "      <td>1.900556e+00</td>\n",
       "      <td>2.310846</td>\n",
       "      <td>0.914106</td>\n",
       "      <td>7.856379e-01</td>\n",
       "      <td>1.386254e+00</td>\n",
       "      <td>1.252831</td>\n",
       "      <td>1.837786e+00</td>\n",
       "      <td>1.076454e+00</td>\n",
       "      <td>2.229174</td>\n",
       "      <td>3.663495e+00</td>\n",
       "      <td>1.055693e+00</td>\n",
       "      <td>9.556701e-01</td>\n",
       "      <td>1.434563e+00</td>\n",
       "      <td>4.530774e-01</td>\n",
       "      <td>3.016789</td>\n",
       "      <td>1.052560e+00</td>\n",
       "      <td>2.801028</td>\n",
       "      <td>0.173441</td>\n",
       "      <td>0.247324</td>\n",
       "      <td>1.636744</td>\n",
       "      <td>8.276224e-01</td>\n",
       "      <td>0.269852</td>\n",
       "      <td>1.124274e+00</td>\n",
       "      <td>1.935806e+00</td>\n",
       "      <td>2.336149e+00</td>\n",
       "      <td>4.863167e-01</td>\n",
       "      <td>6.915526e+00</td>\n",
       "      <td>2.362304e+00</td>\n",
       "      <td>1.807798e+00</td>\n",
       "      <td>1.225165e+00</td>\n",
       "      <td>8.580366e-01</td>\n",
       "      <td>2.229966</td>\n",
       "      <td>2.970881e+00</td>\n",
       "      <td>0.912493</td>\n",
       "      <td>3.716269e+00</td>\n",
       "      <td>1.483604e+00</td>\n",
       "      <td>2.627135</td>\n",
       "      <td>1.899330e+00</td>\n",
       "      <td>6.713006e-01</td>\n",
       "      <td>3.625563e+00</td>\n",
       "      <td>2.017547e+00</td>\n",
       "      <td>4.287666e+00</td>\n",
       "      <td>7.276782e-01</td>\n",
       "      <td>1.355896e+00</td>\n",
       "      <td>1.793064e+00</td>\n",
       "      <td>2.640174</td>\n",
       "      <td>2.096707e+00</td>\n",
       "      <td>4.675862e-01</td>\n",
       "      <td>1.611668e+00</td>\n",
       "      <td>1.076101</td>\n",
       "      <td>0.679808</td>\n",
       "      <td>1.255583e+00</td>\n",
       "      <td>1.117242e+00</td>\n",
       "    </tr>\n",
       "    <tr>\n",
       "      <th>min</th>\n",
       "      <td>0.00000</td>\n",
       "      <td>-9.996497e-07</td>\n",
       "      <td>-9.817614e-07</td>\n",
       "      <td>-3.630168e-07</td>\n",
       "      <td>1.129791</td>\n",
       "      <td>-7.892985e-07</td>\n",
       "      <td>-6.313068e-07</td>\n",
       "      <td>-7.783778e-07</td>\n",
       "      <td>-2.776081e-07</td>\n",
       "      <td>-8.823555e-07</td>\n",
       "      <td>4.667930e-07</td>\n",
       "      <td>1.511070</td>\n",
       "      <td>-7.100968e-07</td>\n",
       "      <td>-8.006760e-07</td>\n",
       "      <td>-5.448264e-07</td>\n",
       "      <td>-9.911444e-07</td>\n",
       "      <td>-9.066455e-07</td>\n",
       "      <td>0.002827</td>\n",
       "      <td>0.077678</td>\n",
       "      <td>7.214199</td>\n",
       "      <td>0.117768</td>\n",
       "      <td>-9.999058e-07</td>\n",
       "      <td>0.043063</td>\n",
       "      <td>-6.083660e-07</td>\n",
       "      <td>-7.424218e-08</td>\n",
       "      <td>0.014967</td>\n",
       "      <td>2.707301</td>\n",
       "      <td>-9.548141e-07</td>\n",
       "      <td>-9.713108e-07</td>\n",
       "      <td>0.947202</td>\n",
       "      <td>-9.731489e-07</td>\n",
       "      <td>6.673650e-07</td>\n",
       "      <td>-9.949850e-07</td>\n",
       "      <td>0.000000</td>\n",
       "      <td>-9.999435e-07</td>\n",
       "      <td>1.238996e-07</td>\n",
       "      <td>5.334145e-07</td>\n",
       "      <td>8.608435</td>\n",
       "      <td>-8.738851e-07</td>\n",
       "      <td>1.397982e-07</td>\n",
       "      <td>4.520426e-07</td>\n",
       "      <td>0.073569</td>\n",
       "      <td>-9.924422e-07</td>\n",
       "      <td>-6.697975e-07</td>\n",
       "      <td>6.560516e-07</td>\n",
       "      <td>4.897823e-07</td>\n",
       "      <td>8.008819e-08</td>\n",
       "      <td>0.013062</td>\n",
       "      <td>-9.188663e-07</td>\n",
       "      <td>5.558231e-07</td>\n",
       "      <td>-9.976841e-07</td>\n",
       "      <td>8.597086e-07</td>\n",
       "      <td>-8.732578e-07</td>\n",
       "      <td>-6.113428e-07</td>\n",
       "      <td>0.000000</td>\n",
       "      <td>0.055719</td>\n",
       "      <td>3.000762e-07</td>\n",
       "      <td>4.533869</td>\n",
       "      <td>4.705882</td>\n",
       "      <td>1.549225</td>\n",
       "      <td>-9.543812e-07</td>\n",
       "      <td>0.574333</td>\n",
       "      <td>0.000000</td>\n",
       "      <td>-9.838592e-07</td>\n",
       "      <td>-6.171967e-07</td>\n",
       "      <td>2.558140</td>\n",
       "      <td>-9.902572e-07</td>\n",
       "      <td>-9.992919e-07</td>\n",
       "      <td>0.573506</td>\n",
       "      <td>2.159115e-07</td>\n",
       "      <td>-8.920936e-07</td>\n",
       "      <td>-9.994245e-07</td>\n",
       "      <td>-9.894433e-07</td>\n",
       "      <td>-9.123631e-07</td>\n",
       "      <td>1.517369</td>\n",
       "      <td>-5.313010e-07</td>\n",
       "      <td>0.024055</td>\n",
       "      <td>0.369584</td>\n",
       "      <td>0.008758</td>\n",
       "      <td>0.319472</td>\n",
       "      <td>-8.380740e-07</td>\n",
       "      <td>0.008636</td>\n",
       "      <td>-9.589021e-08</td>\n",
       "      <td>-7.633509e-07</td>\n",
       "      <td>-9.423276e-08</td>\n",
       "      <td>-8.410461e-07</td>\n",
       "      <td>-9.935583e-07</td>\n",
       "      <td>2.102118e-09</td>\n",
       "      <td>-2.006615e-07</td>\n",
       "      <td>-9.757743e-07</td>\n",
       "      <td>-3.779397e-07</td>\n",
       "      <td>0.000216</td>\n",
       "      <td>-5.467029e-07</td>\n",
       "      <td>0.291461</td>\n",
       "      <td>-9.971220e-07</td>\n",
       "      <td>-8.438321e-07</td>\n",
       "      <td>4.556394</td>\n",
       "      <td>-7.242980e-07</td>\n",
       "      <td>-4.804141e-07</td>\n",
       "      <td>-9.991992e-07</td>\n",
       "      <td>9.277003e-08</td>\n",
       "      <td>-9.998183e-07</td>\n",
       "      <td>-9.222678e-07</td>\n",
       "      <td>-8.057372e-07</td>\n",
       "      <td>-7.666224e-07</td>\n",
       "      <td>0.019139</td>\n",
       "      <td>-9.925241e-07</td>\n",
       "      <td>-7.748186e-07</td>\n",
       "      <td>-7.906729e-07</td>\n",
       "      <td>0.100454</td>\n",
       "      <td>0.000000</td>\n",
       "      <td>-4.749634e-07</td>\n",
       "      <td>-9.997049e-07</td>\n",
       "    </tr>\n",
       "    <tr>\n",
       "      <th>25%</th>\n",
       "      <td>1.00000</td>\n",
       "      <td>9.020356e-01</td>\n",
       "      <td>5.296559e+00</td>\n",
       "      <td>3.471691e+00</td>\n",
       "      <td>7.592469</td>\n",
       "      <td>2.060862e+00</td>\n",
       "      <td>2.098884e+00</td>\n",
       "      <td>8.797629e-02</td>\n",
       "      <td>7.848700e+00</td>\n",
       "      <td>1.050328e+00</td>\n",
       "      <td>1.500453e+01</td>\n",
       "      <td>6.319561</td>\n",
       "      <td>3.089170e+00</td>\n",
       "      <td>1.124775e+01</td>\n",
       "      <td>1.613604e+00</td>\n",
       "      <td>3.865700e+00</td>\n",
       "      <td>2.714826e+00</td>\n",
       "      <td>0.513817</td>\n",
       "      <td>0.174151</td>\n",
       "      <td>17.345705</td>\n",
       "      <td>6.408621</td>\n",
       "      <td>-3.941812e-07</td>\n",
       "      <td>0.149906</td>\n",
       "      <td>1.510201e+00</td>\n",
       "      <td>2.188880e+00</td>\n",
       "      <td>3.493692</td>\n",
       "      <td>7.442669</td>\n",
       "      <td>1.268705e+00</td>\n",
       "      <td>1.474382e+00</td>\n",
       "      <td>5.021668</td>\n",
       "      <td>7.272727e+00</td>\n",
       "      <td>1.181440e+01</td>\n",
       "      <td>4.006009e-01</td>\n",
       "      <td>0.000000</td>\n",
       "      <td>1.250155e-01</td>\n",
       "      <td>8.387237e+00</td>\n",
       "      <td>6.570985e+00</td>\n",
       "      <td>12.355709</td>\n",
       "      <td>1.784310e+00</td>\n",
       "      <td>9.579754e+00</td>\n",
       "      <td>7.875103e+00</td>\n",
       "      <td>0.124340</td>\n",
       "      <td>1.119580e+01</td>\n",
       "      <td>7.490326e+00</td>\n",
       "      <td>6.690639e-01</td>\n",
       "      <td>5.617175e+00</td>\n",
       "      <td>1.528419e+01</td>\n",
       "      <td>0.095125</td>\n",
       "      <td>9.832223e-01</td>\n",
       "      <td>3.643684e+00</td>\n",
       "      <td>1.561867e+00</td>\n",
       "      <td>9.035754e+00</td>\n",
       "      <td>1.359703e+00</td>\n",
       "      <td>1.358978e+01</td>\n",
       "      <td>1.000000</td>\n",
       "      <td>0.143091</td>\n",
       "      <td>4.805576e+00</td>\n",
       "      <td>15.034000</td>\n",
       "      <td>8.590664</td>\n",
       "      <td>17.091471</td>\n",
       "      <td>8.392157e+00</td>\n",
       "      <td>10.804817</td>\n",
       "      <td>1.000000</td>\n",
       "      <td>1.907057e+00</td>\n",
       "      <td>1.639591e+00</td>\n",
       "      <td>6.537806</td>\n",
       "      <td>1.234568e+01</td>\n",
       "      <td>1.444867e+00</td>\n",
       "      <td>6.006133</td>\n",
       "      <td>3.381020e+00</td>\n",
       "      <td>1.446801e+00</td>\n",
       "      <td>9.631727e-01</td>\n",
       "      <td>1.863355e+00</td>\n",
       "      <td>9.401956e-01</td>\n",
       "      <td>8.074920</td>\n",
       "      <td>1.173402e+00</td>\n",
       "      <td>0.101071</td>\n",
       "      <td>0.862605</td>\n",
       "      <td>0.438845</td>\n",
       "      <td>4.543573</td>\n",
       "      <td>3.333241e+00</td>\n",
       "      <td>0.507575</td>\n",
       "      <td>5.782745e+00</td>\n",
       "      <td>6.306307e+00</td>\n",
       "      <td>6.046961e+00</td>\n",
       "      <td>9.360326e-01</td>\n",
       "      <td>5.572999e+00</td>\n",
       "      <td>5.228029e+00</td>\n",
       "      <td>1.793633e+00</td>\n",
       "      <td>4.494839e+00</td>\n",
       "      <td>2.149696e+00</td>\n",
       "      <td>0.056742</td>\n",
       "      <td>1.006020e+01</td>\n",
       "      <td>1.525878</td>\n",
       "      <td>1.842105e+00</td>\n",
       "      <td>2.332317e+00</td>\n",
       "      <td>11.956300</td>\n",
       "      <td>9.451682e+00</td>\n",
       "      <td>1.847680e+00</td>\n",
       "      <td>5.748414e+00</td>\n",
       "      <td>6.963563e+00</td>\n",
       "      <td>3.151131e-01</td>\n",
       "      <td>7.757891e-01</td>\n",
       "      <td>1.798656e+00</td>\n",
       "      <td>5.650097e+00</td>\n",
       "      <td>1.974701</td>\n",
       "      <td>2.139596e-02</td>\n",
       "      <td>1.418887e+00</td>\n",
       "      <td>2.091440e+00</td>\n",
       "      <td>1.394526</td>\n",
       "      <td>0.000000</td>\n",
       "      <td>1.111112e+00</td>\n",
       "      <td>9.999998e-01</td>\n",
       "    </tr>\n",
       "    <tr>\n",
       "      <th>50%</th>\n",
       "      <td>1.00000</td>\n",
       "      <td>1.463502e+00</td>\n",
       "      <td>7.032221e+00</td>\n",
       "      <td>4.190085e+00</td>\n",
       "      <td>8.674653</td>\n",
       "      <td>2.414113e+00</td>\n",
       "      <td>2.449953e+00</td>\n",
       "      <td>3.919247e-01</td>\n",
       "      <td>9.046979e+00</td>\n",
       "      <td>1.312910e+00</td>\n",
       "      <td>1.550000e+01</td>\n",
       "      <td>6.613112</td>\n",
       "      <td>3.596472e+00</td>\n",
       "      <td>1.196783e+01</td>\n",
       "      <td>1.992852e+00</td>\n",
       "      <td>4.931506e+00</td>\n",
       "      <td>3.555088e+00</td>\n",
       "      <td>0.774613</td>\n",
       "      <td>0.199031</td>\n",
       "      <td>18.036584</td>\n",
       "      <td>7.044950</td>\n",
       "      <td>1.916913e-07</td>\n",
       "      <td>0.483511</td>\n",
       "      <td>1.822485e+00</td>\n",
       "      <td>2.666666e+00</td>\n",
       "      <td>5.050246</td>\n",
       "      <td>8.324302</td>\n",
       "      <td>1.557479e+00</td>\n",
       "      <td>1.950591e+00</td>\n",
       "      <td>6.542734</td>\n",
       "      <td>8.085837e+00</td>\n",
       "      <td>1.379512e+01</td>\n",
       "      <td>6.393276e-01</td>\n",
       "      <td>0.000000</td>\n",
       "      <td>3.756358e-01</td>\n",
       "      <td>1.035345e+01</td>\n",
       "      <td>7.232266e+00</td>\n",
       "      <td>12.941177</td>\n",
       "      <td>2.148338e+00</td>\n",
       "      <td>1.081354e+01</td>\n",
       "      <td>9.168415e+00</td>\n",
       "      <td>0.454376</td>\n",
       "      <td>1.241546e+01</td>\n",
       "      <td>8.037974e+00</td>\n",
       "      <td>1.220746e+00</td>\n",
       "      <td>7.156782e+00</td>\n",
       "      <td>1.577465e+01</td>\n",
       "      <td>0.322003</td>\n",
       "      <td>1.374920e+00</td>\n",
       "      <td>4.056399e+00</td>\n",
       "      <td>5.410498e+00</td>\n",
       "      <td>1.054791e+01</td>\n",
       "      <td>1.664424e+00</td>\n",
       "      <td>1.506451e+01</td>\n",
       "      <td>1.000000</td>\n",
       "      <td>0.472516</td>\n",
       "      <td>6.103759e+00</td>\n",
       "      <td>16.264868</td>\n",
       "      <td>9.351853</td>\n",
       "      <td>18.294243</td>\n",
       "      <td>9.517240e+00</td>\n",
       "      <td>12.522136</td>\n",
       "      <td>1.000000</td>\n",
       "      <td>2.337648e+00</td>\n",
       "      <td>2.168428e+00</td>\n",
       "      <td>7.402540</td>\n",
       "      <td>1.333333e+01</td>\n",
       "      <td>2.084138e+00</td>\n",
       "      <td>7.531122</td>\n",
       "      <td>3.685532e+00</td>\n",
       "      <td>1.952311e+00</td>\n",
       "      <td>1.420988e+00</td>\n",
       "      <td>2.627275e+00</td>\n",
       "      <td>1.158599e+00</td>\n",
       "      <td>9.997127</td>\n",
       "      <td>1.749623e+00</td>\n",
       "      <td>0.340984</td>\n",
       "      <td>0.969941</td>\n",
       "      <td>0.544424</td>\n",
       "      <td>5.294875</td>\n",
       "      <td>3.740558e+00</td>\n",
       "      <td>0.622299</td>\n",
       "      <td>6.528190e+00</td>\n",
       "      <td>7.458322e+00</td>\n",
       "      <td>7.614126e+00</td>\n",
       "      <td>1.236190e+00</td>\n",
       "      <td>1.439078e+01</td>\n",
       "      <td>6.601950e+00</td>\n",
       "      <td>2.476284e+00</td>\n",
       "      <td>5.126428e+00</td>\n",
       "      <td>2.524812e+00</td>\n",
       "      <td>0.246206</td>\n",
       "      <td>1.208200e+01</td>\n",
       "      <td>1.979400</td>\n",
       "      <td>3.102560e+00</td>\n",
       "      <td>3.117548e+00</td>\n",
       "      <td>14.041083</td>\n",
       "      <td>1.047619e+01</td>\n",
       "      <td>2.211205e+00</td>\n",
       "      <td>8.144348e+00</td>\n",
       "      <td>8.156135e+00</td>\n",
       "      <td>1.496348e+00</td>\n",
       "      <td>1.145374e+00</td>\n",
       "      <td>2.454418e+00</td>\n",
       "      <td>6.708463e+00</td>\n",
       "      <td>2.756212</td>\n",
       "      <td>1.458122e-01</td>\n",
       "      <td>1.618283e+00</td>\n",
       "      <td>2.949051e+00</td>\n",
       "      <td>1.796207</td>\n",
       "      <td>0.000000</td>\n",
       "      <td>1.567567e+00</td>\n",
       "      <td>1.583333e+00</td>\n",
       "    </tr>\n",
       "    <tr>\n",
       "      <th>75%</th>\n",
       "      <td>1.00000</td>\n",
       "      <td>2.131240e+00</td>\n",
       "      <td>9.453766e+00</td>\n",
       "      <td>4.826942e+00</td>\n",
       "      <td>9.751711</td>\n",
       "      <td>2.775978e+00</td>\n",
       "      <td>2.817004e+00</td>\n",
       "      <td>1.621858e+00</td>\n",
       "      <td>1.021378e+01</td>\n",
       "      <td>2.166301e+00</td>\n",
       "      <td>1.594067e+01</td>\n",
       "      <td>7.019319</td>\n",
       "      <td>4.303187e+00</td>\n",
       "      <td>1.274237e+01</td>\n",
       "      <td>2.431299e+00</td>\n",
       "      <td>5.962030e+00</td>\n",
       "      <td>4.530742e+00</td>\n",
       "      <td>1.068627</td>\n",
       "      <td>0.239273</td>\n",
       "      <td>18.549920</td>\n",
       "      <td>7.672900</td>\n",
       "      <td>7.910147e-07</td>\n",
       "      <td>1.957544</td>\n",
       "      <td>2.178995e+00</td>\n",
       "      <td>3.204536e+00</td>\n",
       "      <td>6.600386</td>\n",
       "      <td>9.096059</td>\n",
       "      <td>1.904626e+00</td>\n",
       "      <td>2.635773e+00</td>\n",
       "      <td>7.726051</td>\n",
       "      <td>8.952422e+00</td>\n",
       "      <td>1.532983e+01</td>\n",
       "      <td>9.523805e-01</td>\n",
       "      <td>0.000000</td>\n",
       "      <td>1.162764e+00</td>\n",
       "      <td>1.280588e+01</td>\n",
       "      <td>7.831281e+00</td>\n",
       "      <td>13.503054</td>\n",
       "      <td>2.549276e+00</td>\n",
       "      <td>1.203927e+01</td>\n",
       "      <td>1.043369e+01</td>\n",
       "      <td>1.827895</td>\n",
       "      <td>1.377035e+01</td>\n",
       "      <td>8.563155e+00</td>\n",
       "      <td>1.998385e+00</td>\n",
       "      <td>8.663279e+00</td>\n",
       "      <td>1.621114e+01</td>\n",
       "      <td>1.425755</td>\n",
       "      <td>1.956139e+00</td>\n",
       "      <td>4.479768e+00</td>\n",
       "      <td>1.420350e+01</td>\n",
       "      <td>1.204215e+01</td>\n",
       "      <td>2.009851e+00</td>\n",
       "      <td>1.608412e+01</td>\n",
       "      <td>1.000000</td>\n",
       "      <td>1.847314</td>\n",
       "      <td>7.543226e+00</td>\n",
       "      <td>17.171183</td>\n",
       "      <td>10.008158</td>\n",
       "      <td>18.912324</td>\n",
       "      <td>1.054264e+01</td>\n",
       "      <td>14.019264</td>\n",
       "      <td>2.000000</td>\n",
       "      <td>2.864383e+00</td>\n",
       "      <td>2.817579e+00</td>\n",
       "      <td>8.173317</td>\n",
       "      <td>1.440000e+01</td>\n",
       "      <td>2.857142e+00</td>\n",
       "      <td>8.778953</td>\n",
       "      <td>8.779918e+00</td>\n",
       "      <td>2.675893e+00</td>\n",
       "      <td>2.075149e+00</td>\n",
       "      <td>3.601996e+00</td>\n",
       "      <td>1.425877e+00</td>\n",
       "      <td>12.285658</td>\n",
       "      <td>2.456258e+00</td>\n",
       "      <td>1.766778</td>\n",
       "      <td>1.063043</td>\n",
       "      <td>0.677467</td>\n",
       "      <td>6.218075</td>\n",
       "      <td>4.217761e+00</td>\n",
       "      <td>0.769867</td>\n",
       "      <td>7.242864e+00</td>\n",
       "      <td>8.835096e+00</td>\n",
       "      <td>8.989104e+00</td>\n",
       "      <td>1.552322e+00</td>\n",
       "      <td>1.826087e+01</td>\n",
       "      <td>8.235039e+00</td>\n",
       "      <td>3.413256e+00</td>\n",
       "      <td>5.865719e+00</td>\n",
       "      <td>2.952347e+00</td>\n",
       "      <td>1.021830</td>\n",
       "      <td>1.376848e+01</td>\n",
       "      <td>2.556834</td>\n",
       "      <td>5.151942e+00</td>\n",
       "      <td>4.134254e+00</td>\n",
       "      <td>15.396108</td>\n",
       "      <td>1.161290e+01</td>\n",
       "      <td>2.643770e+00</td>\n",
       "      <td>1.049445e+01</td>\n",
       "      <td>9.642005e+00</td>\n",
       "      <td>4.197389e+00</td>\n",
       "      <td>1.641274e+00</td>\n",
       "      <td>3.389347e+00</td>\n",
       "      <td>7.916667e+00</td>\n",
       "      <td>4.099003</td>\n",
       "      <td>8.718337e-01</td>\n",
       "      <td>1.836652e+00</td>\n",
       "      <td>4.077470e+00</td>\n",
       "      <td>2.396079</td>\n",
       "      <td>0.000000</td>\n",
       "      <td>2.345983e+00</td>\n",
       "      <td>2.250000e+00</td>\n",
       "    </tr>\n",
       "    <tr>\n",
       "      <th>max</th>\n",
       "      <td>1.00000</td>\n",
       "      <td>1.436893e+01</td>\n",
       "      <td>1.947259e+01</td>\n",
       "      <td>1.183178e+01</td>\n",
       "      <td>20.000000</td>\n",
       "      <td>2.000000e+01</td>\n",
       "      <td>2.000000e+01</td>\n",
       "      <td>2.000000e+01</td>\n",
       "      <td>2.000000e+01</td>\n",
       "      <td>1.415755e+01</td>\n",
       "      <td>2.000000e+01</td>\n",
       "      <td>16.303332</td>\n",
       "      <td>1.609028e+01</td>\n",
       "      <td>1.806388e+01</td>\n",
       "      <td>8.487655e+00</td>\n",
       "      <td>2.000000e+01</td>\n",
       "      <td>2.000000e+01</td>\n",
       "      <td>20.000001</td>\n",
       "      <td>3.157777</td>\n",
       "      <td>20.000001</td>\n",
       "      <td>19.296052</td>\n",
       "      <td>2.000000e+01</td>\n",
       "      <td>20.000001</td>\n",
       "      <td>2.000000e+01</td>\n",
       "      <td>2.000000e+01</td>\n",
       "      <td>19.848194</td>\n",
       "      <td>20.000000</td>\n",
       "      <td>7.747385e+00</td>\n",
       "      <td>7.745505e+00</td>\n",
       "      <td>15.526990</td>\n",
       "      <td>1.436364e+01</td>\n",
       "      <td>2.000000e+01</td>\n",
       "      <td>6.666666e+00</td>\n",
       "      <td>12.000000</td>\n",
       "      <td>1.937035e+01</td>\n",
       "      <td>1.788727e+01</td>\n",
       "      <td>2.000000e+01</td>\n",
       "      <td>20.000000</td>\n",
       "      <td>2.000000e+01</td>\n",
       "      <td>1.837915e+01</td>\n",
       "      <td>1.837593e+01</td>\n",
       "      <td>20.000001</td>\n",
       "      <td>1.997658e+01</td>\n",
       "      <td>2.000000e+01</td>\n",
       "      <td>1.365711e+01</td>\n",
       "      <td>1.966808e+01</td>\n",
       "      <td>2.000000e+01</td>\n",
       "      <td>20.000001</td>\n",
       "      <td>6.811820e+00</td>\n",
       "      <td>2.000000e+01</td>\n",
       "      <td>2.000000e+01</td>\n",
       "      <td>1.928215e+01</td>\n",
       "      <td>2.000000e+01</td>\n",
       "      <td>1.872517e+01</td>\n",
       "      <td>7.000000</td>\n",
       "      <td>20.000001</td>\n",
       "      <td>1.924264e+01</td>\n",
       "      <td>19.999999</td>\n",
       "      <td>20.000001</td>\n",
       "      <td>20.000001</td>\n",
       "      <td>2.000000e+01</td>\n",
       "      <td>19.816311</td>\n",
       "      <td>12.000000</td>\n",
       "      <td>8.622296e+00</td>\n",
       "      <td>2.000000e+01</td>\n",
       "      <td>13.053735</td>\n",
       "      <td>2.000000e+01</td>\n",
       "      <td>1.000000e+01</td>\n",
       "      <td>20.000000</td>\n",
       "      <td>2.000000e+01</td>\n",
       "      <td>8.052095e+00</td>\n",
       "      <td>1.490683e+01</td>\n",
       "      <td>1.019465e+01</td>\n",
       "      <td>7.457764e+00</td>\n",
       "      <td>19.842754</td>\n",
       "      <td>2.000000e+01</td>\n",
       "      <td>20.000001</td>\n",
       "      <td>4.154173</td>\n",
       "      <td>8.923843</td>\n",
       "      <td>19.393004</td>\n",
       "      <td>1.425093e+01</td>\n",
       "      <td>9.070538</td>\n",
       "      <td>2.000000e+01</td>\n",
       "      <td>1.878788e+01</td>\n",
       "      <td>1.905880e+01</td>\n",
       "      <td>2.000000e+01</td>\n",
       "      <td>2.000000e+01</td>\n",
       "      <td>2.000000e+01</td>\n",
       "      <td>1.798964e+01</td>\n",
       "      <td>1.717402e+01</td>\n",
       "      <td>1.451095e+01</td>\n",
       "      <td>20.000001</td>\n",
       "      <td>1.952652e+01</td>\n",
       "      <td>13.228095</td>\n",
       "      <td>2.000000e+01</td>\n",
       "      <td>1.177823e+01</td>\n",
       "      <td>20.000000</td>\n",
       "      <td>2.000000e+01</td>\n",
       "      <td>2.000000e+01</td>\n",
       "      <td>2.000000e+01</td>\n",
       "      <td>1.878788e+01</td>\n",
       "      <td>2.000000e+01</td>\n",
       "      <td>7.912568e+00</td>\n",
       "      <td>1.053269e+01</td>\n",
       "      <td>2.000000e+01</td>\n",
       "      <td>18.252446</td>\n",
       "      <td>2.000000e+01</td>\n",
       "      <td>1.185160e+01</td>\n",
       "      <td>1.317669e+01</td>\n",
       "      <td>13.052588</td>\n",
       "      <td>11.000000</td>\n",
       "      <td>1.465517e+01</td>\n",
       "      <td>2.000000e+01</td>\n",
       "    </tr>\n",
       "  </tbody>\n",
       "</table>\n",
       "</div>"
      ],
      "text/plain": [
       "            target            v1            v2            v4            v5  \\\n",
       "count  20000.00000  1.131100e+04  1.131600e+04  1.131600e+04  11531.000000   \n",
       "mean       0.75915  1.629888e+00  7.446466e+00  4.129610e+00      8.727802   \n",
       "std        0.42761  1.094446e+00  2.946705e+00  1.146411e+00      2.030773   \n",
       "min        0.00000 -9.996497e-07 -9.817614e-07 -3.630168e-07      1.129791   \n",
       "25%        1.00000  9.020356e-01  5.296559e+00  3.471691e+00      7.592469   \n",
       "50%        1.00000  1.463502e+00  7.032221e+00  4.190085e+00      8.674653   \n",
       "75%        1.00000  2.131240e+00  9.453766e+00  4.826942e+00      9.751711   \n",
       "max        1.00000  1.436893e+01  1.947259e+01  1.183178e+01     20.000000   \n",
       "\n",
       "                 v6            v7            v8            v9           v10  \\\n",
       "count  1.131100e+04  1.131100e+04  1.153400e+04  1.130800e+04  1.998300e+04   \n",
       "mean   2.440140e+00  2.478220e+00  1.498797e+00  9.039658e+00  1.885875e+00   \n",
       "std    6.123324e-01  6.031799e-01  2.785363e+00  1.925530e+00  1.396200e+00   \n",
       "min   -7.892985e-07 -6.313068e-07 -7.783778e-07 -2.776081e-07 -8.823555e-07   \n",
       "25%    2.060862e+00  2.098884e+00  8.797629e-02  7.848700e+00  1.050328e+00   \n",
       "50%    2.414113e+00  2.449953e+00  3.919247e-01  9.046979e+00  1.312910e+00   \n",
       "75%    2.775978e+00  2.817004e+00  1.621858e+00  1.021378e+01  2.166301e+00   \n",
       "max    2.000000e+01  2.000000e+01  2.000000e+01  2.000000e+01  1.415755e+01   \n",
       "\n",
       "                v11           v12           v13           v14           v15  \\\n",
       "count  1.131100e+04  19983.000000  1.131100e+04  1.999900e+04  1.131100e+04   \n",
       "mean   1.545112e+01      6.880851  3.806531e+00  1.209429e+01  2.082157e+00   \n",
       "std    7.843269e-01      0.930010  1.150289e+00  1.458232e+00  7.093412e-01   \n",
       "min    4.667930e-07      1.511070 -7.100968e-07 -8.006760e-07 -5.448264e-07   \n",
       "25%    1.500453e+01      6.319561  3.089170e+00  1.124775e+01  1.613604e+00   \n",
       "50%    1.550000e+01      6.613112  3.596472e+00  1.196783e+01  1.992852e+00   \n",
       "75%    1.594067e+01      7.019319  4.303187e+00  1.274237e+01  2.431299e+00   \n",
       "max    2.000000e+01     16.303332  1.609028e+01  1.806388e+01  8.487655e+00   \n",
       "\n",
       "                v16           v17           v18           v19           v20  \\\n",
       "count  1.130300e+04  1.131600e+04  11311.000000  11310.000000  11310.000000   \n",
       "mean   4.915545e+00  3.838380e+00      0.841833      0.221054     17.783228   \n",
       "std    1.780649e+00  1.917506e+00      0.644885      0.094122      1.138142   \n",
       "min   -9.911444e-07 -9.066455e-07      0.002827      0.077678      7.214199   \n",
       "25%    3.865700e+00  2.714826e+00      0.513817      0.174151     17.345705   \n",
       "50%    4.931506e+00  3.555088e+00      0.774613      0.199031     18.036584   \n",
       "75%    5.962030e+00  4.530742e+00      1.068627      0.239273     18.549920   \n",
       "max    2.000000e+01  2.000000e+01     20.000001      3.157777     20.000001   \n",
       "\n",
       "                v21           v23           v25           v26           v27  \\\n",
       "count  19890.000000  1.114400e+04  11534.000000  1.131100e+04  1.131100e+04   \n",
       "mean       7.029315  1.121657e+00      1.694518  1.874624e+00  2.731178e+00   \n",
       "std        1.074528  4.056792e+00      2.944052  5.667732e-01  8.415661e-01   \n",
       "min        0.117768 -9.999058e-07      0.043063 -6.083660e-07 -7.424218e-08   \n",
       "25%        6.408621 -3.941812e-07      0.149906  1.510201e+00  2.188880e+00   \n",
       "50%        7.044950  1.916913e-07      0.483511  1.822485e+00  2.666666e+00   \n",
       "75%        7.672900  7.910147e-07      1.957544  2.178995e+00  3.204536e+00   \n",
       "max       19.296052  2.000000e+01     20.000001  2.000000e+01  2.000000e+01   \n",
       "\n",
       "                v28           v29           v32           v33           v34  \\\n",
       "count  11311.000000  11311.000000  1.131100e+04  1.131100e+04  19978.000000   \n",
       "mean       5.106623      8.219220  1.626769e+00  2.170414e+00      6.397281   \n",
       "std        2.675781      1.288717  5.524713e-01  9.861848e-01      2.037274   \n",
       "min        0.014967      2.707301 -9.548141e-07 -9.713108e-07      0.947202   \n",
       "25%        3.493692      7.442669  1.268705e+00  1.474382e+00      5.021668   \n",
       "50%        5.050246      8.324302  1.557479e+00  1.950591e+00      6.542734   \n",
       "75%        6.600386      9.096059  1.904626e+00  2.635773e+00      7.726051   \n",
       "max       19.848194     20.000000  7.747385e+00  7.745505e+00     15.526990   \n",
       "\n",
       "                v35           v36           v37           v38           v39  \\\n",
       "count  1.131100e+04  1.153100e+04  1.131000e+04  20000.000000  1.131100e+04   \n",
       "mean   8.139363e+00  1.339659e+01  7.425857e-01      0.091800  1.213672e+00   \n",
       "std    1.319234e+00  2.363890e+00  5.352977e-01      0.589568  2.329223e+00   \n",
       "min   -9.731489e-07  6.673650e-07 -9.949850e-07      0.000000 -9.999435e-07   \n",
       "25%    7.272727e+00  1.181440e+01  4.006009e-01      0.000000  1.250155e-01   \n",
       "50%    8.085837e+00  1.379512e+01  6.393276e-01      0.000000  3.756358e-01   \n",
       "75%    8.952422e+00  1.532983e+01  9.523805e-01      0.000000  1.162764e+00   \n",
       "max    1.436364e+01  2.000000e+01  6.666666e+00     12.000000  1.937035e+01   \n",
       "\n",
       "                v40           v41           v42           v43           v44  \\\n",
       "count  1.997800e+04  1.131100e+04  11311.000000  1.131100e+04  1.131600e+04   \n",
       "mean   1.048293e+01  7.197519e+00     12.934970  2.209688e+00  1.080449e+01   \n",
       "std    3.188221e+00  1.002576e+00      0.980049  6.505127e-01  2.121567e+00   \n",
       "min    1.238996e-07  5.334145e-07      8.608435 -8.738851e-07  1.397982e-07   \n",
       "25%    8.387237e+00  6.570985e+00     12.355709  1.784310e+00  9.579754e+00   \n",
       "50%    1.035345e+01  7.232266e+00     12.941177  2.148338e+00  1.081354e+01   \n",
       "75%    1.280588e+01  7.831281e+00     13.503054  2.549276e+00  1.203927e+01   \n",
       "max    1.788727e+01  2.000000e+01     20.000000  2.000000e+01  1.837915e+01   \n",
       "\n",
       "                v45           v46           v48           v49           v50  \\\n",
       "count  1.131100e+04  11534.000000  1.131600e+04  1.131100e+04  1.998300e+04   \n",
       "mean   9.170493e+00      1.630577  1.253745e+01  8.028424e+00  1.511420e+00   \n",
       "std    2.046322e+00      2.898334  2.209466e+00  8.963356e-01  1.177269e+00   \n",
       "min    4.520426e-07      0.073569 -9.924422e-07 -6.697975e-07  6.560516e-07   \n",
       "25%    7.875103e+00      0.124340  1.119580e+01  7.490326e+00  6.690639e-01   \n",
       "50%    9.168415e+00      0.454376  1.241546e+01  8.037974e+00  1.220746e+00   \n",
       "75%    1.043369e+01      1.827895  1.377035e+01  8.563155e+00  1.998385e+00   \n",
       "max    1.837593e+01     20.000001  1.997658e+01  2.000000e+01  1.365711e+01   \n",
       "\n",
       "                v51           v53           v54           v55           v57  \\\n",
       "count  1.114400e+04  1.131100e+04  11534.000000  1.131100e+04  1.131100e+04   \n",
       "mean   7.221520e+00  1.571590e+01      1.250798  1.566866e+00  4.075040e+00   \n",
       "std    2.519526e+00  7.875605e-01      2.296086  8.348054e-01  6.860126e-01   \n",
       "min    4.897823e-07  8.008819e-08      0.013062 -9.188663e-07  5.558231e-07   \n",
       "25%    5.617175e+00  1.528419e+01      0.095125  9.832223e-01  3.643684e+00   \n",
       "50%    7.156782e+00  1.577465e+01      0.322003  1.374920e+00  4.056399e+00   \n",
       "75%    8.663279e+00  1.621114e+01      1.425755  1.956139e+00  4.479768e+00   \n",
       "max    1.966808e+01  2.000000e+01     20.000001  6.811820e+00  2.000000e+01   \n",
       "\n",
       "                v58           v59           v60           v61           v62  \\\n",
       "count  1.131100e+04  1.131600e+04  1.131100e+04  1.131600e+04  20000.000000   \n",
       "mean   7.785992e+00  1.059826e+01  1.712924e+00  1.457049e+01      1.035150   \n",
       "std    6.865432e+00  2.079062e+00  5.530415e-01  2.136675e+00      0.695441   \n",
       "min   -9.976841e-07  8.597086e-07 -8.732578e-07 -6.113428e-07      0.000000   \n",
       "25%    1.561867e+00  9.035754e+00  1.359703e+00  1.358978e+01      1.000000   \n",
       "50%    5.410498e+00  1.054791e+01  1.664424e+00  1.506451e+01      1.000000   \n",
       "75%    1.420350e+01  1.204215e+01  2.009851e+00  1.608412e+01      1.000000   \n",
       "max    2.000000e+01  1.928215e+01  2.000000e+01  1.872517e+01      7.000000   \n",
       "\n",
       "                v63           v64           v65           v67           v68  \\\n",
       "count  11534.000000  1.131600e+04  11310.000000  11311.000000  11311.000000   \n",
       "mean       1.685254  6.350227e+00     15.850467      9.304560     17.592838   \n",
       "std        2.956988  2.536431e+00      1.877562      1.116450      2.267651   \n",
       "min        0.055719  3.000762e-07      4.533869      4.705882      1.549225   \n",
       "25%        0.143091  4.805576e+00     15.034000      8.590664     17.091471   \n",
       "50%        0.472516  6.103759e+00     16.264868      9.351853     18.294243   \n",
       "75%        1.847314  7.543226e+00     17.171183     10.008158     18.912324   \n",
       "max       20.000001  1.924264e+01     19.999999     20.000001     20.000001   \n",
       "\n",
       "                v69           v70           v72           v73           v76  \\\n",
       "count  1.130300e+04  11531.000000  20000.000000  1.131100e+04  1.131600e+04   \n",
       "mean   9.444465e+00     12.312523      1.431800  2.436556e+00  2.409717e+00   \n",
       "std    1.900556e+00      2.310846      0.914106  7.856379e-01  1.386254e+00   \n",
       "min   -9.543812e-07      0.574333      0.000000 -9.838592e-07 -6.171967e-07   \n",
       "25%    8.392157e+00     10.804817      1.000000  1.907057e+00  1.639591e+00   \n",
       "50%    9.517240e+00     12.522136      1.000000  2.337648e+00  2.168428e+00   \n",
       "75%    1.054264e+01     14.019264      2.000000  2.864383e+00  2.817579e+00   \n",
       "max    2.000000e+01     19.816311     12.000000  8.622296e+00  2.000000e+01   \n",
       "\n",
       "                v77           v78           v80           v81           v82  \\\n",
       "count  11311.000000  1.130300e+04  1.130800e+04  11531.000000  1.153100e+04   \n",
       "mean       7.324900  1.335656e+01  2.211844e+00      7.305923  6.168009e+00   \n",
       "std        1.252831  1.837786e+00  1.076454e+00      2.229174  3.663495e+00   \n",
       "min        2.558140 -9.902572e-07 -9.992919e-07      0.573506  2.159115e-07   \n",
       "25%        6.537806  1.234568e+01  1.444867e+00      6.006133  3.381020e+00   \n",
       "50%        7.402540  1.333333e+01  2.084138e+00      7.531122  3.685532e+00   \n",
       "75%        8.173317  1.440000e+01  2.857142e+00      8.778953  8.779918e+00   \n",
       "max       13.053735  2.000000e+01  1.000000e+01     20.000000  2.000000e+01   \n",
       "\n",
       "                v83           v84           v85           v86           v87  \\\n",
       "count  1.131100e+04  1.131100e+04  1.114400e+04  1.131100e+04  11528.000000   \n",
       "mean   2.183130e+00  1.615945e+00  2.848192e+00  1.222672e+00     10.175781   \n",
       "std    1.055693e+00  9.556701e-01  1.434563e+00  4.530774e-01      3.016789   \n",
       "min   -8.920936e-07 -9.994245e-07 -9.894433e-07 -9.123631e-07      1.517369   \n",
       "25%    1.446801e+00  9.631727e-01  1.863355e+00  9.401956e-01      8.074920   \n",
       "50%    1.952311e+00  1.420988e+00  2.627275e+00  1.158599e+00      9.997127   \n",
       "75%    2.675893e+00  2.075149e+00  3.601996e+00  1.425877e+00     12.285658   \n",
       "max    8.052095e+00  1.490683e+01  1.019465e+01  7.457764e+00     19.842754   \n",
       "\n",
       "                v88           v89           v90           v92           v93  \\\n",
       "count  1.131100e+04  11534.000000  11310.000000  11310.000000  11311.000000   \n",
       "mean   1.913802e+00      1.516365      0.967706      0.585280      5.467969   \n",
       "std    1.052560e+00      2.801028      0.173441      0.247324      1.636744   \n",
       "min   -5.313010e-07      0.024055      0.369584      0.008758      0.319472   \n",
       "25%    1.173402e+00      0.101071      0.862605      0.438845      4.543573   \n",
       "50%    1.749623e+00      0.340984      0.969941      0.544424      5.294875   \n",
       "75%    2.456258e+00      1.766778      1.063043      0.677467      6.218075   \n",
       "max    2.000000e+01     20.000001      4.154173      8.923843     19.393004   \n",
       "\n",
       "                v94           v95           v96           v97           v98  \\\n",
       "count  1.131100e+04  11310.000000  1.131100e+04  1.131000e+04  1.152700e+04   \n",
       "mean   3.845486e+00      0.669102  6.469771e+00  7.637089e+00  7.617862e+00   \n",
       "std    8.276224e-01      0.269852  1.124274e+00  1.935806e+00  2.336149e+00   \n",
       "min   -8.380740e-07      0.008636 -9.589021e-08 -7.633509e-07 -9.423276e-08   \n",
       "25%    3.333241e+00      0.507575  5.782745e+00  6.306307e+00  6.046961e+00   \n",
       "50%    3.740558e+00      0.622299  6.528190e+00  7.458322e+00  7.614126e+00   \n",
       "75%    4.217761e+00      0.769867  7.242864e+00  8.835096e+00  8.989104e+00   \n",
       "max    1.425093e+01      9.070538  2.000000e+01  1.878788e+01  1.905880e+01   \n",
       "\n",
       "                v99          v100          v101          v102          v103  \\\n",
       "count  1.131100e+04  1.131100e+04  1.131600e+04  1.102000e+04  1.131100e+04   \n",
       "mean   1.252953e+00  1.200752e+01  6.850192e+00  2.896804e+00  5.292816e+00   \n",
       "std    4.863167e-01  6.915526e+00  2.362304e+00  1.807798e+00  1.225165e+00   \n",
       "min   -8.410461e-07 -9.935583e-07  2.102118e-09 -2.006615e-07 -9.757743e-07   \n",
       "25%    9.360326e-01  5.572999e+00  5.228029e+00  1.793633e+00  4.494839e+00   \n",
       "50%    1.236190e+00  1.439078e+01  6.601950e+00  2.476284e+00  5.126428e+00   \n",
       "75%    1.552322e+00  1.826087e+01  8.235039e+00  3.413256e+00  5.865719e+00   \n",
       "max    2.000000e+01  2.000000e+01  2.000000e+01  1.798964e+01  1.717402e+01   \n",
       "\n",
       "               v104          v105          v106          v108          v109  \\\n",
       "count  1.131100e+04  11531.000000  1.131600e+04  11531.000000  1.153100e+04   \n",
       "mean   2.647158e+00      1.075240  1.179024e+01      2.152780  4.180253e+00   \n",
       "std    8.580366e-01      2.229966  2.970881e+00      0.912493  3.716269e+00   \n",
       "min   -3.779397e-07      0.000216 -5.467029e-07      0.291461 -9.971220e-07   \n",
       "25%    2.149696e+00      0.056742  1.006020e+01      1.525878  1.842105e+00   \n",
       "50%    2.524812e+00      0.246206  1.208200e+01      1.979400  3.102560e+00   \n",
       "75%    2.952347e+00      1.021830  1.376848e+01      2.556834  5.151942e+00   \n",
       "max    1.451095e+01     20.000001  1.952652e+01     13.228095  2.000000e+01   \n",
       "\n",
       "               v111          v114          v115          v116          v117  \\\n",
       "count  1.131100e+04  19994.000000  1.130300e+04  1.131100e+04  1.153100e+04   \n",
       "mean   3.377102e+00     13.560648  1.055283e+01  2.285198e+00  8.308865e+00   \n",
       "std    1.483604e+00      2.627135  1.899330e+00  6.713006e-01  3.625563e+00   \n",
       "min   -8.438321e-07      4.556394 -7.242980e-07 -4.804141e-07 -9.991992e-07   \n",
       "25%    2.332317e+00     11.956300  9.451682e+00  1.847680e+00  5.748414e+00   \n",
       "50%    3.117548e+00     14.041083  1.047619e+01  2.211205e+00  8.144348e+00   \n",
       "75%    4.134254e+00     15.396108  1.161290e+01  2.643770e+00  1.049445e+01   \n",
       "max    1.177823e+01     20.000000  2.000000e+01  2.000000e+01  2.000000e+01   \n",
       "\n",
       "               v118          v119          v120          v121          v122  \\\n",
       "count  1.131000e+04  1.114400e+04  1.131100e+04  1.131000e+04  1.130800e+04   \n",
       "mean   8.380374e+00  3.217492e+00  1.284128e+00  2.747052e+00  6.827618e+00   \n",
       "std    2.017547e+00  4.287666e+00  7.276782e-01  1.355896e+00  1.793064e+00   \n",
       "min    9.277003e-08 -9.998183e-07 -9.222678e-07 -8.057372e-07 -7.666224e-07   \n",
       "25%    6.963563e+00  3.151131e-01  7.757891e-01  1.798656e+00  5.650097e+00   \n",
       "50%    8.156135e+00  1.496348e+00  1.145374e+00  2.454418e+00  6.708463e+00   \n",
       "75%    9.642005e+00  4.197389e+00  1.641274e+00  3.389347e+00  7.916667e+00   \n",
       "max    1.878788e+01  2.000000e+01  7.912568e+00  1.053269e+01  2.000000e+01   \n",
       "\n",
       "               v123          v124          v126          v127          v128  \\\n",
       "count  11144.000000  1.153400e+04  1.131100e+04  1.131100e+04  11531.000000   \n",
       "mean       3.577867  9.236192e-01  1.666629e+00  3.217845e+00      2.026753   \n",
       "std        2.640174  2.096707e+00  4.675862e-01  1.611668e+00      1.076101   \n",
       "min        0.019139 -9.925241e-07 -7.748186e-07 -7.906729e-07      0.100454   \n",
       "25%        1.974701  2.139596e-02  1.418887e+00  2.091440e+00      1.394526   \n",
       "50%        2.756212  1.458122e-01  1.618283e+00  2.949051e+00      1.796207   \n",
       "75%        4.099003  8.718337e-01  1.836652e+00  4.077470e+00      2.396079   \n",
       "max       18.252446  2.000000e+01  1.185160e+01  1.317669e+01     13.052588   \n",
       "\n",
       "               v129          v130          v131  \n",
       "count  20000.000000  1.131000e+04  1.130300e+04  \n",
       "mean       0.304850  1.935580e+00  1.725100e+00  \n",
       "std        0.679808  1.255583e+00  1.117242e+00  \n",
       "min        0.000000 -4.749634e-07 -9.997049e-07  \n",
       "25%        0.000000  1.111112e+00  9.999998e-01  \n",
       "50%        0.000000  1.567567e+00  1.583333e+00  \n",
       "75%        0.000000  2.345983e+00  2.250000e+00  \n",
       "max       11.000000  1.465517e+01  2.000000e+01  "
      ]
     },
     "metadata": {},
     "output_type": "display_data"
    },
    {
     "name": "stdout",
     "output_type": "stream",
     "text": [
      "(20000, 132)\n",
      "Index(['v1', 'v2', 'v3', 'v4', 'v5', 'v6', 'v7', 'v8', 'v9', 'v10',\n",
      "       ...\n",
      "       'v122', 'v123', 'v124', 'v125', 'v126', 'v127', 'v128', 'v129', 'v130',\n",
      "       'v131'],\n",
      "      dtype='object', length=131)\n"
     ]
    },
    {
     "name": "stderr",
     "output_type": "stream",
     "text": [
      "/Users/shohei.mitani/.pyenv/versions/anaconda3-5.3.1/lib/python3.6/site-packages/ipykernel_launcher.py:42: SettingWithCopyWarning: \n",
      "A value is trying to be set on a copy of a slice from a DataFrame.\n",
      "Try using .loc[row_indexer,col_indexer] = value instead\n",
      "\n",
      "See the caveats in the documentation: http://pandas.pydata.org/pandas-docs/stable/indexing.html#indexing-view-versus-copy\n"
     ]
    },
    {
     "data": {
      "text/html": [
       "<div>\n",
       "<style scoped>\n",
       "    .dataframe tbody tr th:only-of-type {\n",
       "        vertical-align: middle;\n",
       "    }\n",
       "\n",
       "    .dataframe tbody tr th {\n",
       "        vertical-align: top;\n",
       "    }\n",
       "\n",
       "    .dataframe thead th {\n",
       "        text-align: right;\n",
       "    }\n",
       "</style>\n",
       "<table border=\"1\" class=\"dataframe\">\n",
       "  <thead>\n",
       "    <tr style=\"text-align: right;\">\n",
       "      <th></th>\n",
       "      <th>v1</th>\n",
       "      <th>v2</th>\n",
       "      <th>v3</th>\n",
       "      <th>v4</th>\n",
       "      <th>v5</th>\n",
       "      <th>v6</th>\n",
       "      <th>v7</th>\n",
       "      <th>v8</th>\n",
       "      <th>v9</th>\n",
       "      <th>v10</th>\n",
       "      <th>v11</th>\n",
       "      <th>v12</th>\n",
       "      <th>v13</th>\n",
       "      <th>v14</th>\n",
       "      <th>v15</th>\n",
       "      <th>v16</th>\n",
       "      <th>v17</th>\n",
       "      <th>v18</th>\n",
       "      <th>v19</th>\n",
       "      <th>v20</th>\n",
       "      <th>v21</th>\n",
       "      <th>v22</th>\n",
       "      <th>v23</th>\n",
       "      <th>v24</th>\n",
       "      <th>v25</th>\n",
       "      <th>v26</th>\n",
       "      <th>v27</th>\n",
       "      <th>v28</th>\n",
       "      <th>v29</th>\n",
       "      <th>v30</th>\n",
       "      <th>v31</th>\n",
       "      <th>v32</th>\n",
       "      <th>v33</th>\n",
       "      <th>v34</th>\n",
       "      <th>v35</th>\n",
       "      <th>v36</th>\n",
       "      <th>v37</th>\n",
       "      <th>v38</th>\n",
       "      <th>v39</th>\n",
       "      <th>v40</th>\n",
       "      <th>v41</th>\n",
       "      <th>v42</th>\n",
       "      <th>v43</th>\n",
       "      <th>v44</th>\n",
       "      <th>v45</th>\n",
       "      <th>v46</th>\n",
       "      <th>v47</th>\n",
       "      <th>v48</th>\n",
       "      <th>v49</th>\n",
       "      <th>v50</th>\n",
       "      <th>v51</th>\n",
       "      <th>v52</th>\n",
       "      <th>v53</th>\n",
       "      <th>v54</th>\n",
       "      <th>v55</th>\n",
       "      <th>v56</th>\n",
       "      <th>v57</th>\n",
       "      <th>v58</th>\n",
       "      <th>v59</th>\n",
       "      <th>v60</th>\n",
       "      <th>v61</th>\n",
       "      <th>v62</th>\n",
       "      <th>v63</th>\n",
       "      <th>v64</th>\n",
       "      <th>v65</th>\n",
       "      <th>v66</th>\n",
       "      <th>v67</th>\n",
       "      <th>v68</th>\n",
       "      <th>v69</th>\n",
       "      <th>v70</th>\n",
       "      <th>v71</th>\n",
       "      <th>v72</th>\n",
       "      <th>v73</th>\n",
       "      <th>v74</th>\n",
       "      <th>v75</th>\n",
       "      <th>v76</th>\n",
       "      <th>v77</th>\n",
       "      <th>v78</th>\n",
       "      <th>v79</th>\n",
       "      <th>v80</th>\n",
       "      <th>v81</th>\n",
       "      <th>v82</th>\n",
       "      <th>v83</th>\n",
       "      <th>v84</th>\n",
       "      <th>v85</th>\n",
       "      <th>v86</th>\n",
       "      <th>v87</th>\n",
       "      <th>v88</th>\n",
       "      <th>v89</th>\n",
       "      <th>v90</th>\n",
       "      <th>v91</th>\n",
       "      <th>v92</th>\n",
       "      <th>v93</th>\n",
       "      <th>v94</th>\n",
       "      <th>v95</th>\n",
       "      <th>v96</th>\n",
       "      <th>v97</th>\n",
       "      <th>v98</th>\n",
       "      <th>v99</th>\n",
       "      <th>v100</th>\n",
       "      <th>v101</th>\n",
       "      <th>v102</th>\n",
       "      <th>v103</th>\n",
       "      <th>v104</th>\n",
       "      <th>v105</th>\n",
       "      <th>v106</th>\n",
       "      <th>v107</th>\n",
       "      <th>v108</th>\n",
       "      <th>v109</th>\n",
       "      <th>v110</th>\n",
       "      <th>v111</th>\n",
       "      <th>v112</th>\n",
       "      <th>v113</th>\n",
       "      <th>v114</th>\n",
       "      <th>v115</th>\n",
       "      <th>v116</th>\n",
       "      <th>v117</th>\n",
       "      <th>v118</th>\n",
       "      <th>v119</th>\n",
       "      <th>v120</th>\n",
       "      <th>v121</th>\n",
       "      <th>v122</th>\n",
       "      <th>v123</th>\n",
       "      <th>v124</th>\n",
       "      <th>v125</th>\n",
       "      <th>v126</th>\n",
       "      <th>v127</th>\n",
       "      <th>v128</th>\n",
       "      <th>v129</th>\n",
       "      <th>v130</th>\n",
       "      <th>v131</th>\n",
       "    </tr>\n",
       "  </thead>\n",
       "  <tbody>\n",
       "    <tr>\n",
       "      <th>25187</th>\n",
       "      <td>NaN</td>\n",
       "      <td>NaN</td>\n",
       "      <td>2</td>\n",
       "      <td>NaN</td>\n",
       "      <td>NaN</td>\n",
       "      <td>NaN</td>\n",
       "      <td>NaN</td>\n",
       "      <td>NaN</td>\n",
       "      <td>NaN</td>\n",
       "      <td>3.916848</td>\n",
       "      <td>NaN</td>\n",
       "      <td>8.245722</td>\n",
       "      <td>NaN</td>\n",
       "      <td>14.263424</td>\n",
       "      <td>NaN</td>\n",
       "      <td>NaN</td>\n",
       "      <td>NaN</td>\n",
       "      <td>NaN</td>\n",
       "      <td>NaN</td>\n",
       "      <td>NaN</td>\n",
       "      <td>8.193488</td>\n",
       "      <td>7211</td>\n",
       "      <td>NaN</td>\n",
       "      <td>0</td>\n",
       "      <td>NaN</td>\n",
       "      <td>NaN</td>\n",
       "      <td>NaN</td>\n",
       "      <td>NaN</td>\n",
       "      <td>NaN</td>\n",
       "      <td>7</td>\n",
       "      <td>1</td>\n",
       "      <td>NaN</td>\n",
       "      <td>NaN</td>\n",
       "      <td>4.393416</td>\n",
       "      <td>NaN</td>\n",
       "      <td>NaN</td>\n",
       "      <td>NaN</td>\n",
       "      <td>0</td>\n",
       "      <td>NaN</td>\n",
       "      <td>15.695680</td>\n",
       "      <td>NaN</td>\n",
       "      <td>NaN</td>\n",
       "      <td>NaN</td>\n",
       "      <td>NaN</td>\n",
       "      <td>NaN</td>\n",
       "      <td>NaN</td>\n",
       "      <td>2</td>\n",
       "      <td>NaN</td>\n",
       "      <td>NaN</td>\n",
       "      <td>1.863399</td>\n",
       "      <td>NaN</td>\n",
       "      <td>7</td>\n",
       "      <td>NaN</td>\n",
       "      <td>NaN</td>\n",
       "      <td>NaN</td>\n",
       "      <td>21</td>\n",
       "      <td>NaN</td>\n",
       "      <td>NaN</td>\n",
       "      <td>NaN</td>\n",
       "      <td>NaN</td>\n",
       "      <td>NaN</td>\n",
       "      <td>0</td>\n",
       "      <td>NaN</td>\n",
       "      <td>NaN</td>\n",
       "      <td>NaN</td>\n",
       "      <td>2</td>\n",
       "      <td>NaN</td>\n",
       "      <td>NaN</td>\n",
       "      <td>NaN</td>\n",
       "      <td>NaN</td>\n",
       "      <td>1</td>\n",
       "      <td>1</td>\n",
       "      <td>NaN</td>\n",
       "      <td>1</td>\n",
       "      <td>1</td>\n",
       "      <td>NaN</td>\n",
       "      <td>NaN</td>\n",
       "      <td>NaN</td>\n",
       "      <td>1</td>\n",
       "      <td>NaN</td>\n",
       "      <td>NaN</td>\n",
       "      <td>NaN</td>\n",
       "      <td>NaN</td>\n",
       "      <td>NaN</td>\n",
       "      <td>NaN</td>\n",
       "      <td>NaN</td>\n",
       "      <td>NaN</td>\n",
       "      <td>NaN</td>\n",
       "      <td>NaN</td>\n",
       "      <td>NaN</td>\n",
       "      <td>1</td>\n",
       "      <td>NaN</td>\n",
       "      <td>NaN</td>\n",
       "      <td>NaN</td>\n",
       "      <td>NaN</td>\n",
       "      <td>NaN</td>\n",
       "      <td>NaN</td>\n",
       "      <td>NaN</td>\n",
       "      <td>NaN</td>\n",
       "      <td>NaN</td>\n",
       "      <td>NaN</td>\n",
       "      <td>NaN</td>\n",
       "      <td>NaN</td>\n",
       "      <td>NaN</td>\n",
       "      <td>NaN</td>\n",
       "      <td>NaN</td>\n",
       "      <td>1</td>\n",
       "      <td>NaN</td>\n",
       "      <td>NaN</td>\n",
       "      <td>1</td>\n",
       "      <td>NaN</td>\n",
       "      <td>13</td>\n",
       "      <td>34</td>\n",
       "      <td>8.940264</td>\n",
       "      <td>NaN</td>\n",
       "      <td>NaN</td>\n",
       "      <td>NaN</td>\n",
       "      <td>NaN</td>\n",
       "      <td>NaN</td>\n",
       "      <td>NaN</td>\n",
       "      <td>NaN</td>\n",
       "      <td>NaN</td>\n",
       "      <td>NaN</td>\n",
       "      <td>NaN</td>\n",
       "      <td>11</td>\n",
       "      <td>NaN</td>\n",
       "      <td>NaN</td>\n",
       "      <td>NaN</td>\n",
       "      <td>1</td>\n",
       "      <td>NaN</td>\n",
       "      <td>NaN</td>\n",
       "    </tr>\n",
       "    <tr>\n",
       "      <th>49725</th>\n",
       "      <td>2.825865</td>\n",
       "      <td>6.577360</td>\n",
       "      <td>2</td>\n",
       "      <td>5.116358</td>\n",
       "      <td>8.706349</td>\n",
       "      <td>2.912424</td>\n",
       "      <td>4.144602</td>\n",
       "      <td>1.385509</td>\n",
       "      <td>7.922705</td>\n",
       "      <td>1.312910</td>\n",
       "      <td>14.450402</td>\n",
       "      <td>6.787999</td>\n",
       "      <td>2.830338</td>\n",
       "      <td>12.148604</td>\n",
       "      <td>2.151800</td>\n",
       "      <td>3.148148</td>\n",
       "      <td>4.995224</td>\n",
       "      <td>0.702524</td>\n",
       "      <td>0.180899</td>\n",
       "      <td>16.395621</td>\n",
       "      <td>7.288215</td>\n",
       "      <td>1021</td>\n",
       "      <td>-2.975980e-07</td>\n",
       "      <td>1</td>\n",
       "      <td>1.365399</td>\n",
       "      <td>2.333673</td>\n",
       "      <td>4.826884</td>\n",
       "      <td>4.197134</td>\n",
       "      <td>6.507129</td>\n",
       "      <td>2</td>\n",
       "      <td>0</td>\n",
       "      <td>1.252545</td>\n",
       "      <td>2.199592</td>\n",
       "      <td>6.630984</td>\n",
       "      <td>5.315681</td>\n",
       "      <td>15.279962</td>\n",
       "      <td>0.737100</td>\n",
       "      <td>0</td>\n",
       "      <td>0.522413</td>\n",
       "      <td>9.536937</td>\n",
       "      <td>5.488798</td>\n",
       "      <td>12.871691</td>\n",
       "      <td>3.351206</td>\n",
       "      <td>12.900823</td>\n",
       "      <td>6.052262</td>\n",
       "      <td>1.522021</td>\n",
       "      <td>6</td>\n",
       "      <td>10.918199</td>\n",
       "      <td>6.619144</td>\n",
       "      <td>0.600103</td>\n",
       "      <td>6.925277</td>\n",
       "      <td>6</td>\n",
       "      <td>14.491394</td>\n",
       "      <td>0.575708</td>\n",
       "      <td>1.344195</td>\n",
       "      <td>75</td>\n",
       "      <td>5.234216</td>\n",
       "      <td>4.265593</td>\n",
       "      <td>8.699616</td>\n",
       "      <td>2.053631</td>\n",
       "      <td>15.756046</td>\n",
       "      <td>1</td>\n",
       "      <td>1.556873</td>\n",
       "      <td>8.233014</td>\n",
       "      <td>13.927760</td>\n",
       "      <td>1</td>\n",
       "      <td>7.596741</td>\n",
       "      <td>18.350100</td>\n",
       "      <td>8.148149</td>\n",
       "      <td>11.808217</td>\n",
       "      <td>3</td>\n",
       "      <td>1</td>\n",
       "      <td>2.289991</td>\n",
       "      <td>1</td>\n",
       "      <td>3</td>\n",
       "      <td>3.113825</td>\n",
       "      <td>6.079431</td>\n",
       "      <td>14.074074</td>\n",
       "      <td>11</td>\n",
       "      <td>1.642512</td>\n",
       "      <td>7.975447</td>\n",
       "      <td>3.592984</td>\n",
       "      <td>2.321792</td>\n",
       "      <td>1.038697</td>\n",
       "      <td>2.012987</td>\n",
       "      <td>1.008146</td>\n",
       "      <td>10.340520</td>\n",
       "      <td>1.120163</td>\n",
       "      <td>0.634189</td>\n",
       "      <td>0.844925</td>\n",
       "      <td>2</td>\n",
       "      <td>0.206155</td>\n",
       "      <td>6.137845</td>\n",
       "      <td>5.576123</td>\n",
       "      <td>0.253241</td>\n",
       "      <td>4.714867</td>\n",
       "      <td>5.405405</td>\n",
       "      <td>8.336216</td>\n",
       "      <td>1.586897</td>\n",
       "      <td>1.573441e+01</td>\n",
       "      <td>7.100506</td>\n",
       "      <td>2.047954</td>\n",
       "      <td>8.097404</td>\n",
       "      <td>2.297705</td>\n",
       "      <td>0.846749</td>\n",
       "      <td>14.330532</td>\n",
       "      <td>3</td>\n",
       "      <td>1.625292</td>\n",
       "      <td>3.112685</td>\n",
       "      <td>0</td>\n",
       "      <td>3.849286</td>\n",
       "      <td>3</td>\n",
       "      <td>4</td>\n",
       "      <td>14.265961</td>\n",
       "      <td>11.666666</td>\n",
       "      <td>3.442879</td>\n",
       "      <td>9.136719</td>\n",
       "      <td>6.142507</td>\n",
       "      <td>1.523002e+00</td>\n",
       "      <td>1.146881</td>\n",
       "      <td>3.507692</td>\n",
       "      <td>6.376811</td>\n",
       "      <td>4.182293</td>\n",
       "      <td>1.377853</td>\n",
       "      <td>86</td>\n",
       "      <td>2.234748</td>\n",
       "      <td>3.914206</td>\n",
       "      <td>1.649634</td>\n",
       "      <td>0</td>\n",
       "      <td>1.061426</td>\n",
       "      <td>2.777777</td>\n",
       "    </tr>\n",
       "    <tr>\n",
       "      <th>43263</th>\n",
       "      <td>1.145834</td>\n",
       "      <td>2.189949</td>\n",
       "      <td>2</td>\n",
       "      <td>1.713692</td>\n",
       "      <td>7.096395</td>\n",
       "      <td>0.945946</td>\n",
       "      <td>1.013514</td>\n",
       "      <td>3.734515</td>\n",
       "      <td>5.551724</td>\n",
       "      <td>1.291028</td>\n",
       "      <td>16.011289</td>\n",
       "      <td>6.545430</td>\n",
       "      <td>4.418399</td>\n",
       "      <td>10.810339</td>\n",
       "      <td>2.003816</td>\n",
       "      <td>4.803922</td>\n",
       "      <td>1.158742</td>\n",
       "      <td>0.824087</td>\n",
       "      <td>0.685940</td>\n",
       "      <td>14.245262</td>\n",
       "      <td>5.940311</td>\n",
       "      <td>7211</td>\n",
       "      <td>1.982078e+01</td>\n",
       "      <td>4</td>\n",
       "      <td>3.841368</td>\n",
       "      <td>0.526465</td>\n",
       "      <td>1.525901</td>\n",
       "      <td>7.592473</td>\n",
       "      <td>3.688064</td>\n",
       "      <td>7</td>\n",
       "      <td>0</td>\n",
       "      <td>1.359796</td>\n",
       "      <td>4.594595</td>\n",
       "      <td>5.269484</td>\n",
       "      <td>6.959459</td>\n",
       "      <td>15.180575</td>\n",
       "      <td>1.222222</td>\n",
       "      <td>0</td>\n",
       "      <td>0.074225</td>\n",
       "      <td>11.667753</td>\n",
       "      <td>4.791666</td>\n",
       "      <td>10.867118</td>\n",
       "      <td>0.959548</td>\n",
       "      <td>5.538127</td>\n",
       "      <td>16.677464</td>\n",
       "      <td>4.376515</td>\n",
       "      <td>2</td>\n",
       "      <td>17.894271</td>\n",
       "      <td>6.587838</td>\n",
       "      <td>1.229550</td>\n",
       "      <td>13.675419</td>\n",
       "      <td>0</td>\n",
       "      <td>16.824428</td>\n",
       "      <td>2.467520</td>\n",
       "      <td>3.243244</td>\n",
       "      <td>14</td>\n",
       "      <td>2.894145</td>\n",
       "      <td>19.914237</td>\n",
       "      <td>6.684546</td>\n",
       "      <td>0.412914</td>\n",
       "      <td>7.550922</td>\n",
       "      <td>1</td>\n",
       "      <td>4.323699</td>\n",
       "      <td>2.073609</td>\n",
       "      <td>8.833283</td>\n",
       "      <td>0</td>\n",
       "      <td>5.985361</td>\n",
       "      <td>18.662092</td>\n",
       "      <td>9.411764</td>\n",
       "      <td>11.193605</td>\n",
       "      <td>3</td>\n",
       "      <td>1</td>\n",
       "      <td>3.155379</td>\n",
       "      <td>1</td>\n",
       "      <td>3</td>\n",
       "      <td>0.696516</td>\n",
       "      <td>3.614864</td>\n",
       "      <td>14.705883</td>\n",
       "      <td>4</td>\n",
       "      <td>3.379311</td>\n",
       "      <td>9.868184</td>\n",
       "      <td>2.612931</td>\n",
       "      <td>5.067567</td>\n",
       "      <td>3.310810</td>\n",
       "      <td>7.372354</td>\n",
       "      <td>0.532095</td>\n",
       "      <td>7.646101</td>\n",
       "      <td>0.146396</td>\n",
       "      <td>4.302225</td>\n",
       "      <td>1.399488</td>\n",
       "      <td>5</td>\n",
       "      <td>0.604750</td>\n",
       "      <td>2.050426</td>\n",
       "      <td>5.170463</td>\n",
       "      <td>1.026995</td>\n",
       "      <td>3.102477</td>\n",
       "      <td>4.444445</td>\n",
       "      <td>7.152940</td>\n",
       "      <td>0.175487</td>\n",
       "      <td>-9.206215e-07</td>\n",
       "      <td>2.276132</td>\n",
       "      <td>3.451085</td>\n",
       "      <td>7.959612</td>\n",
       "      <td>3.559757</td>\n",
       "      <td>1.935775</td>\n",
       "      <td>4.698264</td>\n",
       "      <td>0</td>\n",
       "      <td>1.564364</td>\n",
       "      <td>2.643341</td>\n",
       "      <td>1</td>\n",
       "      <td>7.297296</td>\n",
       "      <td>13</td>\n",
       "      <td>34</td>\n",
       "      <td>12.809363</td>\n",
       "      <td>10.588236</td>\n",
       "      <td>1.221374</td>\n",
       "      <td>7.405999</td>\n",
       "      <td>5.666666</td>\n",
       "      <td>8.520679e+00</td>\n",
       "      <td>1.269298</td>\n",
       "      <td>7.692307</td>\n",
       "      <td>2.172414</td>\n",
       "      <td>13.627365</td>\n",
       "      <td>1.059518</td>\n",
       "      <td>11</td>\n",
       "      <td>1.877951</td>\n",
       "      <td>1.921452</td>\n",
       "      <td>1.317061</td>\n",
       "      <td>0</td>\n",
       "      <td>9.066668</td>\n",
       "      <td>0.539217</td>\n",
       "    </tr>\n",
       "    <tr>\n",
       "      <th>10047</th>\n",
       "      <td>NaN</td>\n",
       "      <td>NaN</td>\n",
       "      <td>2</td>\n",
       "      <td>NaN</td>\n",
       "      <td>NaN</td>\n",
       "      <td>NaN</td>\n",
       "      <td>NaN</td>\n",
       "      <td>NaN</td>\n",
       "      <td>NaN</td>\n",
       "      <td>0.787746</td>\n",
       "      <td>NaN</td>\n",
       "      <td>6.534844</td>\n",
       "      <td>NaN</td>\n",
       "      <td>10.760797</td>\n",
       "      <td>NaN</td>\n",
       "      <td>NaN</td>\n",
       "      <td>NaN</td>\n",
       "      <td>NaN</td>\n",
       "      <td>NaN</td>\n",
       "      <td>NaN</td>\n",
       "      <td>6.462235</td>\n",
       "      <td>5784</td>\n",
       "      <td>NaN</td>\n",
       "      <td>4</td>\n",
       "      <td>NaN</td>\n",
       "      <td>NaN</td>\n",
       "      <td>NaN</td>\n",
       "      <td>NaN</td>\n",
       "      <td>NaN</td>\n",
       "      <td>7</td>\n",
       "      <td>0</td>\n",
       "      <td>NaN</td>\n",
       "      <td>NaN</td>\n",
       "      <td>4.905688</td>\n",
       "      <td>NaN</td>\n",
       "      <td>NaN</td>\n",
       "      <td>NaN</td>\n",
       "      <td>0</td>\n",
       "      <td>NaN</td>\n",
       "      <td>11.736488</td>\n",
       "      <td>NaN</td>\n",
       "      <td>NaN</td>\n",
       "      <td>NaN</td>\n",
       "      <td>NaN</td>\n",
       "      <td>NaN</td>\n",
       "      <td>NaN</td>\n",
       "      <td>9</td>\n",
       "      <td>NaN</td>\n",
       "      <td>NaN</td>\n",
       "      <td>0.231825</td>\n",
       "      <td>NaN</td>\n",
       "      <td>7</td>\n",
       "      <td>NaN</td>\n",
       "      <td>NaN</td>\n",
       "      <td>NaN</td>\n",
       "      <td>46</td>\n",
       "      <td>NaN</td>\n",
       "      <td>NaN</td>\n",
       "      <td>NaN</td>\n",
       "      <td>NaN</td>\n",
       "      <td>NaN</td>\n",
       "      <td>1</td>\n",
       "      <td>NaN</td>\n",
       "      <td>NaN</td>\n",
       "      <td>NaN</td>\n",
       "      <td>0</td>\n",
       "      <td>NaN</td>\n",
       "      <td>NaN</td>\n",
       "      <td>NaN</td>\n",
       "      <td>NaN</td>\n",
       "      <td>3</td>\n",
       "      <td>1</td>\n",
       "      <td>NaN</td>\n",
       "      <td>1</td>\n",
       "      <td>3</td>\n",
       "      <td>NaN</td>\n",
       "      <td>NaN</td>\n",
       "      <td>NaN</td>\n",
       "      <td>7</td>\n",
       "      <td>NaN</td>\n",
       "      <td>NaN</td>\n",
       "      <td>NaN</td>\n",
       "      <td>NaN</td>\n",
       "      <td>NaN</td>\n",
       "      <td>NaN</td>\n",
       "      <td>NaN</td>\n",
       "      <td>NaN</td>\n",
       "      <td>NaN</td>\n",
       "      <td>NaN</td>\n",
       "      <td>NaN</td>\n",
       "      <td>0</td>\n",
       "      <td>NaN</td>\n",
       "      <td>NaN</td>\n",
       "      <td>NaN</td>\n",
       "      <td>NaN</td>\n",
       "      <td>NaN</td>\n",
       "      <td>NaN</td>\n",
       "      <td>NaN</td>\n",
       "      <td>NaN</td>\n",
       "      <td>NaN</td>\n",
       "      <td>NaN</td>\n",
       "      <td>NaN</td>\n",
       "      <td>NaN</td>\n",
       "      <td>NaN</td>\n",
       "      <td>NaN</td>\n",
       "      <td>NaN</td>\n",
       "      <td>4</td>\n",
       "      <td>NaN</td>\n",
       "      <td>NaN</td>\n",
       "      <td>0</td>\n",
       "      <td>NaN</td>\n",
       "      <td>3</td>\n",
       "      <td>11</td>\n",
       "      <td>12.313805</td>\n",
       "      <td>NaN</td>\n",
       "      <td>NaN</td>\n",
       "      <td>NaN</td>\n",
       "      <td>NaN</td>\n",
       "      <td>NaN</td>\n",
       "      <td>NaN</td>\n",
       "      <td>NaN</td>\n",
       "      <td>NaN</td>\n",
       "      <td>NaN</td>\n",
       "      <td>NaN</td>\n",
       "      <td>32</td>\n",
       "      <td>NaN</td>\n",
       "      <td>NaN</td>\n",
       "      <td>NaN</td>\n",
       "      <td>0</td>\n",
       "      <td>NaN</td>\n",
       "      <td>NaN</td>\n",
       "    </tr>\n",
       "    <tr>\n",
       "      <th>72228</th>\n",
       "      <td>0.700758</td>\n",
       "      <td>10.800212</td>\n",
       "      <td>2</td>\n",
       "      <td>5.266391</td>\n",
       "      <td>9.576327</td>\n",
       "      <td>2.727272</td>\n",
       "      <td>2.803030</td>\n",
       "      <td>0.022802</td>\n",
       "      <td>9.122807</td>\n",
       "      <td>1.312910</td>\n",
       "      <td>15.918368</td>\n",
       "      <td>6.586313</td>\n",
       "      <td>3.680840</td>\n",
       "      <td>11.636387</td>\n",
       "      <td>1.748252</td>\n",
       "      <td>5.000000</td>\n",
       "      <td>6.198846</td>\n",
       "      <td>0.151955</td>\n",
       "      <td>0.159729</td>\n",
       "      <td>18.970405</td>\n",
       "      <td>6.774524</td>\n",
       "      <td>2375</td>\n",
       "      <td>-1.716029e-07</td>\n",
       "      <td>4</td>\n",
       "      <td>0.141336</td>\n",
       "      <td>2.361112</td>\n",
       "      <td>2.234849</td>\n",
       "      <td>1.126791</td>\n",
       "      <td>10.833333</td>\n",
       "      <td>4</td>\n",
       "      <td>0</td>\n",
       "      <td>1.477272</td>\n",
       "      <td>0.606061</td>\n",
       "      <td>4.190255</td>\n",
       "      <td>7.954546</td>\n",
       "      <td>9.411064</td>\n",
       "      <td>0.270271</td>\n",
       "      <td>0</td>\n",
       "      <td>0.704449</td>\n",
       "      <td>13.396280</td>\n",
       "      <td>8.863637</td>\n",
       "      <td>14.280303</td>\n",
       "      <td>2.312925</td>\n",
       "      <td>10.140576</td>\n",
       "      <td>9.041939</td>\n",
       "      <td>0.135016</td>\n",
       "      <td>8</td>\n",
       "      <td>9.155966</td>\n",
       "      <td>9.318181</td>\n",
       "      <td>1.160589</td>\n",
       "      <td>4.776586</td>\n",
       "      <td>10</td>\n",
       "      <td>16.083916</td>\n",
       "      <td>0.153661</td>\n",
       "      <td>0.568181</td>\n",
       "      <td>40</td>\n",
       "      <td>5.909092</td>\n",
       "      <td>0.558140</td>\n",
       "      <td>13.356618</td>\n",
       "      <td>2.291667</td>\n",
       "      <td>17.490280</td>\n",
       "      <td>1</td>\n",
       "      <td>0.183141</td>\n",
       "      <td>10.006428</td>\n",
       "      <td>18.627206</td>\n",
       "      <td>0</td>\n",
       "      <td>11.136365</td>\n",
       "      <td>17.767441</td>\n",
       "      <td>12.500000</td>\n",
       "      <td>16.569633</td>\n",
       "      <td>1</td>\n",
       "      <td>1</td>\n",
       "      <td>1.842404</td>\n",
       "      <td>1</td>\n",
       "      <td>1</td>\n",
       "      <td>3.911597</td>\n",
       "      <td>9.772728</td>\n",
       "      <td>10.000000</td>\n",
       "      <td>2</td>\n",
       "      <td>0.701754</td>\n",
       "      <td>5.293048</td>\n",
       "      <td>7.810858</td>\n",
       "      <td>0.454545</td>\n",
       "      <td>0.454545</td>\n",
       "      <td>1.000000</td>\n",
       "      <td>1.363636</td>\n",
       "      <td>16.061417</td>\n",
       "      <td>2.121213</td>\n",
       "      <td>0.137451</td>\n",
       "      <td>1.114340</td>\n",
       "      <td>6</td>\n",
       "      <td>0.648287</td>\n",
       "      <td>7.675301</td>\n",
       "      <td>3.329872</td>\n",
       "      <td>0.659828</td>\n",
       "      <td>8.712121</td>\n",
       "      <td>8.918919</td>\n",
       "      <td>6.103996</td>\n",
       "      <td>1.319443</td>\n",
       "      <td>1.944186e+01</td>\n",
       "      <td>8.609722</td>\n",
       "      <td>3.495719</td>\n",
       "      <td>4.207224</td>\n",
       "      <td>2.353457</td>\n",
       "      <td>0.025101</td>\n",
       "      <td>16.657143</td>\n",
       "      <td>2</td>\n",
       "      <td>3.777067</td>\n",
       "      <td>10.460527</td>\n",
       "      <td>0</td>\n",
       "      <td>0.454546</td>\n",
       "      <td>5</td>\n",
       "      <td>15</td>\n",
       "      <td>11.159989</td>\n",
       "      <td>4.999999</td>\n",
       "      <td>2.307692</td>\n",
       "      <td>10.294886</td>\n",
       "      <td>9.189188</td>\n",
       "      <td>-7.285926e-07</td>\n",
       "      <td>1.674418</td>\n",
       "      <td>0.487804</td>\n",
       "      <td>8.421054</td>\n",
       "      <td>0.850855</td>\n",
       "      <td>0.109740</td>\n",
       "      <td>52</td>\n",
       "      <td>1.604905</td>\n",
       "      <td>1.207387</td>\n",
       "      <td>3.514110</td>\n",
       "      <td>0</td>\n",
       "      <td>0.432433</td>\n",
       "      <td>2.500000</td>\n",
       "    </tr>\n",
       "  </tbody>\n",
       "</table>\n",
       "</div>"
      ],
      "text/plain": [
       "             v1         v2  v3        v4        v5        v6        v7  \\\n",
       "25187       NaN        NaN   2       NaN       NaN       NaN       NaN   \n",
       "49725  2.825865   6.577360   2  5.116358  8.706349  2.912424  4.144602   \n",
       "43263  1.145834   2.189949   2  1.713692  7.096395  0.945946  1.013514   \n",
       "10047       NaN        NaN   2       NaN       NaN       NaN       NaN   \n",
       "72228  0.700758  10.800212   2  5.266391  9.576327  2.727272  2.803030   \n",
       "\n",
       "             v8        v9       v10        v11       v12       v13        v14  \\\n",
       "25187       NaN       NaN  3.916848        NaN  8.245722       NaN  14.263424   \n",
       "49725  1.385509  7.922705  1.312910  14.450402  6.787999  2.830338  12.148604   \n",
       "43263  3.734515  5.551724  1.291028  16.011289  6.545430  4.418399  10.810339   \n",
       "10047       NaN       NaN  0.787746        NaN  6.534844       NaN  10.760797   \n",
       "72228  0.022802  9.122807  1.312910  15.918368  6.586313  3.680840  11.636387   \n",
       "\n",
       "            v15       v16       v17       v18       v19        v20       v21  \\\n",
       "25187       NaN       NaN       NaN       NaN       NaN        NaN  8.193488   \n",
       "49725  2.151800  3.148148  4.995224  0.702524  0.180899  16.395621  7.288215   \n",
       "43263  2.003816  4.803922  1.158742  0.824087  0.685940  14.245262  5.940311   \n",
       "10047       NaN       NaN       NaN       NaN       NaN        NaN  6.462235   \n",
       "72228  1.748252  5.000000  6.198846  0.151955  0.159729  18.970405  6.774524   \n",
       "\n",
       "        v22           v23  v24       v25       v26       v27       v28  \\\n",
       "25187  7211           NaN    0       NaN       NaN       NaN       NaN   \n",
       "49725  1021 -2.975980e-07    1  1.365399  2.333673  4.826884  4.197134   \n",
       "43263  7211  1.982078e+01    4  3.841368  0.526465  1.525901  7.592473   \n",
       "10047  5784           NaN    4       NaN       NaN       NaN       NaN   \n",
       "72228  2375 -1.716029e-07    4  0.141336  2.361112  2.234849  1.126791   \n",
       "\n",
       "             v29  v30  v31       v32       v33       v34       v35        v36  \\\n",
       "25187        NaN    7    1       NaN       NaN  4.393416       NaN        NaN   \n",
       "49725   6.507129    2    0  1.252545  2.199592  6.630984  5.315681  15.279962   \n",
       "43263   3.688064    7    0  1.359796  4.594595  5.269484  6.959459  15.180575   \n",
       "10047        NaN    7    0       NaN       NaN  4.905688       NaN        NaN   \n",
       "72228  10.833333    4    0  1.477272  0.606061  4.190255  7.954546   9.411064   \n",
       "\n",
       "            v37  v38       v39        v40       v41        v42       v43  \\\n",
       "25187       NaN    0       NaN  15.695680       NaN        NaN       NaN   \n",
       "49725  0.737100    0  0.522413   9.536937  5.488798  12.871691  3.351206   \n",
       "43263  1.222222    0  0.074225  11.667753  4.791666  10.867118  0.959548   \n",
       "10047       NaN    0       NaN  11.736488       NaN        NaN       NaN   \n",
       "72228  0.270271    0  0.704449  13.396280  8.863637  14.280303  2.312925   \n",
       "\n",
       "             v44        v45       v46  v47        v48       v49       v50  \\\n",
       "25187        NaN        NaN       NaN    2        NaN       NaN  1.863399   \n",
       "49725  12.900823   6.052262  1.522021    6  10.918199  6.619144  0.600103   \n",
       "43263   5.538127  16.677464  4.376515    2  17.894271  6.587838  1.229550   \n",
       "10047        NaN        NaN       NaN    9        NaN       NaN  0.231825   \n",
       "72228  10.140576   9.041939  0.135016    8   9.155966  9.318181  1.160589   \n",
       "\n",
       "             v51  v52        v53       v54       v55  v56       v57  \\\n",
       "25187        NaN    7        NaN       NaN       NaN   21       NaN   \n",
       "49725   6.925277    6  14.491394  0.575708  1.344195   75  5.234216   \n",
       "43263  13.675419    0  16.824428  2.467520  3.243244   14  2.894145   \n",
       "10047        NaN    7        NaN       NaN       NaN   46       NaN   \n",
       "72228   4.776586   10  16.083916  0.153661  0.568181   40  5.909092   \n",
       "\n",
       "             v58        v59       v60        v61  v62       v63        v64  \\\n",
       "25187        NaN        NaN       NaN        NaN    0       NaN        NaN   \n",
       "49725   4.265593   8.699616  2.053631  15.756046    1  1.556873   8.233014   \n",
       "43263  19.914237   6.684546  0.412914   7.550922    1  4.323699   2.073609   \n",
       "10047        NaN        NaN       NaN        NaN    1       NaN        NaN   \n",
       "72228   0.558140  13.356618  2.291667  17.490280    1  0.183141  10.006428   \n",
       "\n",
       "             v65  v66        v67        v68        v69        v70  v71  v72  \\\n",
       "25187        NaN    2        NaN        NaN        NaN        NaN    1    1   \n",
       "49725  13.927760    1   7.596741  18.350100   8.148149  11.808217    3    1   \n",
       "43263   8.833283    0   5.985361  18.662092   9.411764  11.193605    3    1   \n",
       "10047        NaN    0        NaN        NaN        NaN        NaN    3    1   \n",
       "72228  18.627206    0  11.136365  17.767441  12.500000  16.569633    1    1   \n",
       "\n",
       "            v73  v74  v75       v76       v77        v78  v79       v80  \\\n",
       "25187       NaN    1    1       NaN       NaN        NaN    1       NaN   \n",
       "49725  2.289991    1    3  3.113825  6.079431  14.074074   11  1.642512   \n",
       "43263  3.155379    1    3  0.696516  3.614864  14.705883    4  3.379311   \n",
       "10047       NaN    1    3       NaN       NaN        NaN    7       NaN   \n",
       "72228  1.842404    1    1  3.911597  9.772728  10.000000    2  0.701754   \n",
       "\n",
       "            v81       v82       v83       v84       v85       v86        v87  \\\n",
       "25187       NaN       NaN       NaN       NaN       NaN       NaN        NaN   \n",
       "49725  7.975447  3.592984  2.321792  1.038697  2.012987  1.008146  10.340520   \n",
       "43263  9.868184  2.612931  5.067567  3.310810  7.372354  0.532095   7.646101   \n",
       "10047       NaN       NaN       NaN       NaN       NaN       NaN        NaN   \n",
       "72228  5.293048  7.810858  0.454545  0.454545  1.000000  1.363636  16.061417   \n",
       "\n",
       "            v88       v89       v90  v91       v92       v93       v94  \\\n",
       "25187       NaN       NaN       NaN    1       NaN       NaN       NaN   \n",
       "49725  1.120163  0.634189  0.844925    2  0.206155  6.137845  5.576123   \n",
       "43263  0.146396  4.302225  1.399488    5  0.604750  2.050426  5.170463   \n",
       "10047       NaN       NaN       NaN    0       NaN       NaN       NaN   \n",
       "72228  2.121213  0.137451  1.114340    6  0.648287  7.675301  3.329872   \n",
       "\n",
       "            v95       v96       v97       v98       v99          v100  \\\n",
       "25187       NaN       NaN       NaN       NaN       NaN           NaN   \n",
       "49725  0.253241  4.714867  5.405405  8.336216  1.586897  1.573441e+01   \n",
       "43263  1.026995  3.102477  4.444445  7.152940  0.175487 -9.206215e-07   \n",
       "10047       NaN       NaN       NaN       NaN       NaN           NaN   \n",
       "72228  0.659828  8.712121  8.918919  6.103996  1.319443  1.944186e+01   \n",
       "\n",
       "           v101      v102      v103      v104      v105       v106  v107  \\\n",
       "25187       NaN       NaN       NaN       NaN       NaN        NaN     1   \n",
       "49725  7.100506  2.047954  8.097404  2.297705  0.846749  14.330532     3   \n",
       "43263  2.276132  3.451085  7.959612  3.559757  1.935775   4.698264     0   \n",
       "10047       NaN       NaN       NaN       NaN       NaN        NaN     4   \n",
       "72228  8.609722  3.495719  4.207224  2.353457  0.025101  16.657143     2   \n",
       "\n",
       "           v108       v109  v110      v111  v112  v113       v114       v115  \\\n",
       "25187       NaN        NaN     1       NaN    13    34   8.940264        NaN   \n",
       "49725  1.625292   3.112685     0  3.849286     3     4  14.265961  11.666666   \n",
       "43263  1.564364   2.643341     1  7.297296    13    34  12.809363  10.588236   \n",
       "10047       NaN        NaN     0       NaN     3    11  12.313805        NaN   \n",
       "72228  3.777067  10.460527     0  0.454546     5    15  11.159989   4.999999   \n",
       "\n",
       "           v116       v117      v118          v119      v120      v121  \\\n",
       "25187       NaN        NaN       NaN           NaN       NaN       NaN   \n",
       "49725  3.442879   9.136719  6.142507  1.523002e+00  1.146881  3.507692   \n",
       "43263  1.221374   7.405999  5.666666  8.520679e+00  1.269298  7.692307   \n",
       "10047       NaN        NaN       NaN           NaN       NaN       NaN   \n",
       "72228  2.307692  10.294886  9.189188 -7.285926e-07  1.674418  0.487804   \n",
       "\n",
       "           v122       v123      v124  v125      v126      v127      v128  \\\n",
       "25187       NaN        NaN       NaN    11       NaN       NaN       NaN   \n",
       "49725  6.376811   4.182293  1.377853    86  2.234748  3.914206  1.649634   \n",
       "43263  2.172414  13.627365  1.059518    11  1.877951  1.921452  1.317061   \n",
       "10047       NaN        NaN       NaN    32       NaN       NaN       NaN   \n",
       "72228  8.421054   0.850855  0.109740    52  1.604905  1.207387  3.514110   \n",
       "\n",
       "       v129      v130      v131  \n",
       "25187     1       NaN       NaN  \n",
       "49725     0  1.061426  2.777777  \n",
       "43263     0  9.066668  0.539217  \n",
       "10047     0       NaN       NaN  \n",
       "72228     0  0.432433  2.500000  "
      ]
     },
     "metadata": {},
     "output_type": "display_data"
    }
   ],
   "source": [
    "\"\"\"\n",
    "参考: https://www.kaggle.com/wakamezake/neural-networks-product-classification-otto\n",
    "\"\"\"\n",
    "\n",
    "import numpy as np\n",
    "import pandas as pd\n",
    "from IPython.display import display\n",
    "\n",
    "from sklearn.model_selection import train_test_split\n",
    "\n",
    "pd.options.display.max_columns = None\n",
    "pd.options.display.max_rows = None\n",
    "\n",
    "# dataset の読み込み\n",
    "train_df = pd.read_csv('./data/train.csv')\n",
    "\n",
    "# テスト用にデータ数を少なくする\n",
    "\n",
    "train_df = train_df.sample(n=20000)\n",
    "\n",
    "# 不要なデータの削除\n",
    "train_df = train_df.drop(['ID'],axis=1)\n",
    "\n",
    "display(train_df.head())\n",
    "display(train_df.describe())\n",
    "print(train_df.shape)\n",
    "\n",
    "# 特微量の取り出し\n",
    "columns = train_df.columns[1:]\n",
    "print(columns)\n",
    "\n",
    "# 訓練データ\n",
    "X = train_df[columns]\n",
    "y = train_df[['target']]\n",
    "\n",
    "# カテゴリカラムを数値に変更する\n",
    "from sklearn import preprocessing \n",
    "for f in X.columns: \n",
    "    if X[f].dtype=='object': \n",
    "        lbl = preprocessing.LabelEncoder() \n",
    "        lbl.fit(list(X[f].values)) \n",
    "        X[f] = lbl.transform(list(X[f].values))\n",
    "\n",
    "display(X.head())"
   ]
  },
  {
   "cell_type": "code",
   "execution_count": 46,
   "metadata": {},
   "outputs": [
    {
     "name": "stdout",
     "output_type": "stream",
     "text": [
      "X_train_resampled.shape: (9634, 131), y_train_resampled: (9634, 1)\n"
     ]
    },
    {
     "data": {
      "text/plain": [
       "'Train Set Shape: (6454, 131), Test Set Shape: (3180, 131)'"
      ]
     },
     "metadata": {},
     "output_type": "display_data"
    }
   ],
   "source": [
    "from sklearn.impute import SimpleImputer\n",
    "from imblearn.under_sampling import RandomUnderSampler\n",
    "\n",
    "# 欠損値保管\n",
    "imp = SimpleImputer(missing_values=np.nan, strategy='median')\n",
    "imp = imp.fit(X)\n",
    "imputed_train = imp.transform(X)\n",
    "\n",
    "# ダウンサンプリング\n",
    "positive_count_train = len(y[y.target == 0].values)\n",
    "rus = RandomUnderSampler(ratio={0:positive_count_train, 1:positive_count_train}, random_state=0)\n",
    "imputed_train_resampled, y_resampled = rus.fit_sample(imputed_train, y)\n",
    "print('X_train_resampled.shape: {}, y_train_resampled: {}'.format(imputed_train_resampled.shape, y_resampled.shape))\n",
    "\n",
    "# 訓練データとテストデータの分割\n",
    "X_train, X_test, y_train, y_test = train_test_split(imputed_train_resampled, y_resampled, test_size=0.33, random_state=42)\n",
    "display(\"Train Set Shape: {}, Test Set Shape: {}\".format(X_train.shape, X_test.shape))"
   ]
  },
  {
   "cell_type": "code",
   "execution_count": 47,
   "metadata": {},
   "outputs": [
    {
     "name": "stderr",
     "output_type": "stream",
     "text": [
      "/Users/shohei.mitani/.pyenv/versions/anaconda3-5.3.1/lib/python3.6/site-packages/sklearn/preprocessing/label.py:219: DataConversionWarning: A column-vector y was passed when a 1d array was expected. Please change the shape of y to (n_samples, ), for example using ravel().\n",
      "  y = column_or_1d(y, warn=True)\n",
      "/Users/shohei.mitani/.pyenv/versions/anaconda3-5.3.1/lib/python3.6/site-packages/sklearn/preprocessing/label.py:252: DataConversionWarning: A column-vector y was passed when a 1d array was expected. Please change the shape of y to (n_samples, ), for example using ravel().\n",
      "  y = column_or_1d(y, warn=True)\n"
     ]
    },
    {
     "name": "stdout",
     "output_type": "stream",
     "text": [
      "Cross-Validation scores : [0.67839196 0.71356784 0.66834171 0.6080402  0.67254408 0.67506297\n",
      " 0.63224181 0.68513854]\n",
      "\n"
     ]
    }
   ],
   "source": [
    "import xgboost as xgb\n",
    "from sklearn import preprocessing\n",
    "from sklearn.model_selection import cross_val_score, KFold\n",
    "\n",
    "params = {\"objective\": \"multi:softprob\", \"eval_metric\":\"mlogloss\", \"num_class\": 9}\n",
    "\n",
    "xgb_model = xgb.XGBClassifier(**params)\n",
    "xgb_model.fit(X_train, y_train)\n",
    "\n",
    "kfold = KFold(n_splits=8)\n",
    "scores = cross_val_score(estimator=xgb_model, X=X_test, y=y_test, cv=kfold, n_jobs=-1)\n",
    "print(\"Cross-Validation scores : {}\\n\".format(scores))"
   ]
  },
  {
   "cell_type": "code",
   "execution_count": 59,
   "metadata": {},
   "outputs": [
    {
     "data": {
      "image/png": "[encoded data removed]",
      "text/plain": [
       "<Figure size 360x360 with 1 Axes>"
      ]
     },
     "metadata": {
      "needs_background": "light"
     },
     "output_type": "display_data"
    },
    {
     "data": {
      "text/plain": [
       "array([1054,  575,  469, 1082])"
      ]
     },
     "execution_count": 59,
     "metadata": {},
     "output_type": "execute_result"
    }
   ],
   "source": [
    "import matplotlib.pyplot as plt\n",
    "from sklearn.model_selection import validation_curve, learning_curve\n",
    "from sklearn.metrics import confusion_matrix\n",
    "\n",
    "def plot_confusion_matrix(estimator, X, y):\n",
    "    y_pred = estimator.predict(X)\n",
    "    confmat = confusion_matrix(y, y_pred)\n",
    "    fig, ax = plt.subplots(figsize=(5, 5))\n",
    "    ax.matshow(confmat, cmap=plt.cm.Blues, alpha=0.3)\n",
    "    for i in range(confmat.shape[0]):\n",
    "        for j in range(confmat.shape[1]):\n",
    "            ax.text(x=j, y=i, s=confmat[i, j], va='center', ha='center')\n",
    "\n",
    "    plt.title('Confusion matrix')\n",
    "    plt.xlabel('predicted label')\n",
    "    plt.ylabel('true label')\n",
    "    plt.tight_layout()\n",
    "    plt.show()\n",
    "    return confmat.ravel()\n",
    "\n",
    "# 混合行列の表示\n",
    "plot_confusion_matrix(xgb_model, X_test, y_test)\n"
   ]
  },
  {
   "cell_type": "code",
   "execution_count": 25,
   "metadata": {},
   "outputs": [
    {
     "name": "stderr",
     "output_type": "stream",
     "text": [
      "/Users/shohei.mitani/.pyenv/versions/anaconda3-5.3.1/lib/python3.6/site-packages/sklearn/utils/validation.py:761: DataConversionWarning: A column-vector y was passed when a 1d array was expected. Please change the shape of y to (n_samples, ), for example using ravel().\n",
      "  y = column_or_1d(y, warn=True)\n",
      "/Users/shohei.mitani/.pyenv/versions/anaconda3-5.3.1/lib/python3.6/site-packages/boruta/boruta_py.py:380: DataConversionWarning: A column-vector y was passed when a 1d array was expected. Please change the shape of y to (n_samples,), for example using ravel().\n",
      "  self.estimator.fit(X, y)\n"
     ]
    },
    {
     "name": "stdout",
     "output_type": "stream",
     "text": [
      "Iteration: \t1 / 500\n",
      "Confirmed: \t0\n",
      "Tentative: \t130\n",
      "Rejected: \t0\n"
     ]
    },
    {
     "name": "stderr",
     "output_type": "stream",
     "text": [
      "/Users/shohei.mitani/.pyenv/versions/anaconda3-5.3.1/lib/python3.6/site-packages/boruta/boruta_py.py:380: DataConversionWarning: A column-vector y was passed when a 1d array was expected. Please change the shape of y to (n_samples,), for example using ravel().\n",
      "  self.estimator.fit(X, y)\n"
     ]
    },
    {
     "name": "stdout",
     "output_type": "stream",
     "text": [
      "Iteration: \t2 / 500\n",
      "Confirmed: \t0\n",
      "Tentative: \t130\n",
      "Rejected: \t0\n"
     ]
    },
    {
     "name": "stderr",
     "output_type": "stream",
     "text": [
      "/Users/shohei.mitani/.pyenv/versions/anaconda3-5.3.1/lib/python3.6/site-packages/boruta/boruta_py.py:380: DataConversionWarning: A column-vector y was passed when a 1d array was expected. Please change the shape of y to (n_samples,), for example using ravel().\n",
      "  self.estimator.fit(X, y)\n"
     ]
    },
    {
     "name": "stdout",
     "output_type": "stream",
     "text": [
      "Iteration: \t3 / 500\n",
      "Confirmed: \t0\n",
      "Tentative: \t130\n",
      "Rejected: \t0\n"
     ]
    },
    {
     "name": "stderr",
     "output_type": "stream",
     "text": [
      "/Users/shohei.mitani/.pyenv/versions/anaconda3-5.3.1/lib/python3.6/site-packages/boruta/boruta_py.py:380: DataConversionWarning: A column-vector y was passed when a 1d array was expected. Please change the shape of y to (n_samples,), for example using ravel().\n",
      "  self.estimator.fit(X, y)\n"
     ]
    },
    {
     "name": "stdout",
     "output_type": "stream",
     "text": [
      "Iteration: \t4 / 500\n",
      "Confirmed: \t0\n",
      "Tentative: \t130\n",
      "Rejected: \t0\n"
     ]
    },
    {
     "name": "stderr",
     "output_type": "stream",
     "text": [
      "/Users/shohei.mitani/.pyenv/versions/anaconda3-5.3.1/lib/python3.6/site-packages/boruta/boruta_py.py:380: DataConversionWarning: A column-vector y was passed when a 1d array was expected. Please change the shape of y to (n_samples,), for example using ravel().\n",
      "  self.estimator.fit(X, y)\n"
     ]
    },
    {
     "name": "stdout",
     "output_type": "stream",
     "text": [
      "Iteration: \t5 / 500\n",
      "Confirmed: \t0\n",
      "Tentative: \t130\n",
      "Rejected: \t0\n"
     ]
    },
    {
     "name": "stderr",
     "output_type": "stream",
     "text": [
      "/Users/shohei.mitani/.pyenv/versions/anaconda3-5.3.1/lib/python3.6/site-packages/boruta/boruta_py.py:380: DataConversionWarning: A column-vector y was passed when a 1d array was expected. Please change the shape of y to (n_samples,), for example using ravel().\n",
      "  self.estimator.fit(X, y)\n"
     ]
    },
    {
     "name": "stdout",
     "output_type": "stream",
     "text": [
      "Iteration: \t6 / 500\n",
      "Confirmed: \t0\n",
      "Tentative: \t130\n",
      "Rejected: \t0\n"
     ]
    },
    {
     "name": "stderr",
     "output_type": "stream",
     "text": [
      "/Users/shohei.mitani/.pyenv/versions/anaconda3-5.3.1/lib/python3.6/site-packages/boruta/boruta_py.py:380: DataConversionWarning: A column-vector y was passed when a 1d array was expected. Please change the shape of y to (n_samples,), for example using ravel().\n",
      "  self.estimator.fit(X, y)\n"
     ]
    },
    {
     "name": "stdout",
     "output_type": "stream",
     "text": [
      "Iteration: \t7 / 500\n",
      "Confirmed: \t0\n",
      "Tentative: \t130\n",
      "Rejected: \t0\n"
     ]
    },
    {
     "name": "stderr",
     "output_type": "stream",
     "text": [
      "/Users/shohei.mitani/.pyenv/versions/anaconda3-5.3.1/lib/python3.6/site-packages/boruta/boruta_py.py:380: DataConversionWarning: A column-vector y was passed when a 1d array was expected. Please change the shape of y to (n_samples,), for example using ravel().\n",
      "  self.estimator.fit(X, y)\n"
     ]
    },
    {
     "name": "stdout",
     "output_type": "stream",
     "text": [
      "Iteration: \t8 / 500\n",
      "Confirmed: \t0\n",
      "Tentative: \t130\n",
      "Rejected: \t0\n"
     ]
    },
    {
     "name": "stderr",
     "output_type": "stream",
     "text": [
      "/Users/shohei.mitani/.pyenv/versions/anaconda3-5.3.1/lib/python3.6/site-packages/boruta/boruta_py.py:380: DataConversionWarning: A column-vector y was passed when a 1d array was expected. Please change the shape of y to (n_samples,), for example using ravel().\n",
      "  self.estimator.fit(X, y)\n"
     ]
    },
    {
     "name": "stdout",
     "output_type": "stream",
     "text": [
      "Iteration: \t9 / 500\n",
      "Confirmed: \t0\n",
      "Tentative: \t130\n",
      "Rejected: \t0\n"
     ]
    },
    {
     "name": "stderr",
     "output_type": "stream",
     "text": [
      "/Users/shohei.mitani/.pyenv/versions/anaconda3-5.3.1/lib/python3.6/site-packages/boruta/boruta_py.py:380: DataConversionWarning: A column-vector y was passed when a 1d array was expected. Please change the shape of y to (n_samples,), for example using ravel().\n",
      "  self.estimator.fit(X, y)\n"
     ]
    },
    {
     "name": "stdout",
     "output_type": "stream",
     "text": [
      "Iteration: \t10 / 500\n",
      "Confirmed: \t0\n",
      "Tentative: \t130\n",
      "Rejected: \t0\n"
     ]
    },
    {
     "name": "stderr",
     "output_type": "stream",
     "text": [
      "/Users/shohei.mitani/.pyenv/versions/anaconda3-5.3.1/lib/python3.6/site-packages/boruta/boruta_py.py:380: DataConversionWarning: A column-vector y was passed when a 1d array was expected. Please change the shape of y to (n_samples,), for example using ravel().\n",
      "  self.estimator.fit(X, y)\n"
     ]
    },
    {
     "name": "stdout",
     "output_type": "stream",
     "text": [
      "Iteration: \t11 / 500\n",
      "Confirmed: \t0\n",
      "Tentative: \t130\n",
      "Rejected: \t0\n"
     ]
    },
    {
     "name": "stderr",
     "output_type": "stream",
     "text": [
      "/Users/shohei.mitani/.pyenv/versions/anaconda3-5.3.1/lib/python3.6/site-packages/boruta/boruta_py.py:380: DataConversionWarning: A column-vector y was passed when a 1d array was expected. Please change the shape of y to (n_samples,), for example using ravel().\n",
      "  self.estimator.fit(X, y)\n"
     ]
    },
    {
     "name": "stdout",
     "output_type": "stream",
     "text": [
      "Iteration: \t12 / 500\n",
      "Confirmed: \t18\n",
      "Tentative: \t43\n",
      "Rejected: \t69\n"
     ]
    },
    {
     "name": "stderr",
     "output_type": "stream",
     "text": [
      "/Users/shohei.mitani/.pyenv/versions/anaconda3-5.3.1/lib/python3.6/site-packages/boruta/boruta_py.py:380: DataConversionWarning: A column-vector y was passed when a 1d array was expected. Please change the shape of y to (n_samples,), for example using ravel().\n",
      "  self.estimator.fit(X, y)\n",
      "/Users/shohei.mitani/.pyenv/versions/anaconda3-5.3.1/lib/python3.6/site-packages/boruta/boruta_py.py:418: RuntimeWarning: invalid value encountered in greater\n",
      "  hits = np.where(cur_imp[0] > imp_sha_max)[0]\n",
      "/Users/shohei.mitani/.pyenv/versions/anaconda3-5.3.1/lib/python3.6/site-packages/boruta/boruta_py.py:380: DataConversionWarning: A column-vector y was passed when a 1d array was expected. Please change the shape of y to (n_samples,), for example using ravel().\n",
      "  self.estimator.fit(X, y)\n"
     ]
    },
    {
     "name": "stdout",
     "output_type": "stream",
     "text": [
      "Iteration: \t13 / 500\n",
      "Confirmed: \t18\n",
      "Tentative: \t43\n",
      "Rejected: \t69\n"
     ]
    },
    {
     "name": "stderr",
     "output_type": "stream",
     "text": [
      "/Users/shohei.mitani/.pyenv/versions/anaconda3-5.3.1/lib/python3.6/site-packages/boruta/boruta_py.py:418: RuntimeWarning: invalid value encountered in greater\n",
      "  hits = np.where(cur_imp[0] > imp_sha_max)[0]\n",
      "/Users/shohei.mitani/.pyenv/versions/anaconda3-5.3.1/lib/python3.6/site-packages/boruta/boruta_py.py:380: DataConversionWarning: A column-vector y was passed when a 1d array was expected. Please change the shape of y to (n_samples,), for example using ravel().\n",
      "  self.estimator.fit(X, y)\n"
     ]
    },
    {
     "name": "stdout",
     "output_type": "stream",
     "text": [
      "Iteration: \t14 / 500\n",
      "Confirmed: \t18\n",
      "Tentative: \t43\n",
      "Rejected: \t69\n"
     ]
    },
    {
     "name": "stderr",
     "output_type": "stream",
     "text": [
      "/Users/shohei.mitani/.pyenv/versions/anaconda3-5.3.1/lib/python3.6/site-packages/boruta/boruta_py.py:418: RuntimeWarning: invalid value encountered in greater\n",
      "  hits = np.where(cur_imp[0] > imp_sha_max)[0]\n",
      "/Users/shohei.mitani/.pyenv/versions/anaconda3-5.3.1/lib/python3.6/site-packages/boruta/boruta_py.py:380: DataConversionWarning: A column-vector y was passed when a 1d array was expected. Please change the shape of y to (n_samples,), for example using ravel().\n",
      "  self.estimator.fit(X, y)\n"
     ]
    },
    {
     "name": "stdout",
     "output_type": "stream",
     "text": [
      "Iteration: \t15 / 500\n",
      "Confirmed: \t18\n",
      "Tentative: \t43\n",
      "Rejected: \t69\n"
     ]
    },
    {
     "name": "stderr",
     "output_type": "stream",
     "text": [
      "/Users/shohei.mitani/.pyenv/versions/anaconda3-5.3.1/lib/python3.6/site-packages/boruta/boruta_py.py:418: RuntimeWarning: invalid value encountered in greater\n",
      "  hits = np.where(cur_imp[0] > imp_sha_max)[0]\n",
      "/Users/shohei.mitani/.pyenv/versions/anaconda3-5.3.1/lib/python3.6/site-packages/boruta/boruta_py.py:380: DataConversionWarning: A column-vector y was passed when a 1d array was expected. Please change the shape of y to (n_samples,), for example using ravel().\n",
      "  self.estimator.fit(X, y)\n"
     ]
    },
    {
     "name": "stdout",
     "output_type": "stream",
     "text": [
      "Iteration: \t16 / 500\n",
      "Confirmed: \t18\n",
      "Tentative: \t29\n",
      "Rejected: \t83\n"
     ]
    },
    {
     "name": "stderr",
     "output_type": "stream",
     "text": [
      "/Users/shohei.mitani/.pyenv/versions/anaconda3-5.3.1/lib/python3.6/site-packages/boruta/boruta_py.py:418: RuntimeWarning: invalid value encountered in greater\n",
      "  hits = np.where(cur_imp[0] > imp_sha_max)[0]\n",
      "/Users/shohei.mitani/.pyenv/versions/anaconda3-5.3.1/lib/python3.6/site-packages/boruta/boruta_py.py:380: DataConversionWarning: A column-vector y was passed when a 1d array was expected. Please change the shape of y to (n_samples,), for example using ravel().\n",
      "  self.estimator.fit(X, y)\n"
     ]
    },
    {
     "name": "stdout",
     "output_type": "stream",
     "text": [
      "Iteration: \t17 / 500\n",
      "Confirmed: \t18\n",
      "Tentative: \t29\n",
      "Rejected: \t83\n"
     ]
    },
    {
     "name": "stderr",
     "output_type": "stream",
     "text": [
      "/Users/shohei.mitani/.pyenv/versions/anaconda3-5.3.1/lib/python3.6/site-packages/boruta/boruta_py.py:418: RuntimeWarning: invalid value encountered in greater\n",
      "  hits = np.where(cur_imp[0] > imp_sha_max)[0]\n",
      "/Users/shohei.mitani/.pyenv/versions/anaconda3-5.3.1/lib/python3.6/site-packages/boruta/boruta_py.py:380: DataConversionWarning: A column-vector y was passed when a 1d array was expected. Please change the shape of y to (n_samples,), for example using ravel().\n",
      "  self.estimator.fit(X, y)\n"
     ]
    },
    {
     "name": "stdout",
     "output_type": "stream",
     "text": [
      "Iteration: \t18 / 500\n",
      "Confirmed: \t18\n",
      "Tentative: \t29\n",
      "Rejected: \t83\n"
     ]
    },
    {
     "name": "stderr",
     "output_type": "stream",
     "text": [
      "/Users/shohei.mitani/.pyenv/versions/anaconda3-5.3.1/lib/python3.6/site-packages/boruta/boruta_py.py:418: RuntimeWarning: invalid value encountered in greater\n",
      "  hits = np.where(cur_imp[0] > imp_sha_max)[0]\n",
      "/Users/shohei.mitani/.pyenv/versions/anaconda3-5.3.1/lib/python3.6/site-packages/boruta/boruta_py.py:380: DataConversionWarning: A column-vector y was passed when a 1d array was expected. Please change the shape of y to (n_samples,), for example using ravel().\n",
      "  self.estimator.fit(X, y)\n"
     ]
    },
    {
     "name": "stdout",
     "output_type": "stream",
     "text": [
      "Iteration: \t19 / 500\n",
      "Confirmed: \t18\n",
      "Tentative: \t23\n",
      "Rejected: \t89\n"
     ]
    },
    {
     "name": "stderr",
     "output_type": "stream",
     "text": [
      "/Users/shohei.mitani/.pyenv/versions/anaconda3-5.3.1/lib/python3.6/site-packages/boruta/boruta_py.py:418: RuntimeWarning: invalid value encountered in greater\n",
      "  hits = np.where(cur_imp[0] > imp_sha_max)[0]\n",
      "/Users/shohei.mitani/.pyenv/versions/anaconda3-5.3.1/lib/python3.6/site-packages/boruta/boruta_py.py:380: DataConversionWarning: A column-vector y was passed when a 1d array was expected. Please change the shape of y to (n_samples,), for example using ravel().\n",
      "  self.estimator.fit(X, y)\n"
     ]
    },
    {
     "name": "stdout",
     "output_type": "stream",
     "text": [
      "Iteration: \t20 / 500\n",
      "Confirmed: \t18\n",
      "Tentative: \t23\n",
      "Rejected: \t89\n"
     ]
    },
    {
     "name": "stderr",
     "output_type": "stream",
     "text": [
      "/Users/shohei.mitani/.pyenv/versions/anaconda3-5.3.1/lib/python3.6/site-packages/boruta/boruta_py.py:418: RuntimeWarning: invalid value encountered in greater\n",
      "  hits = np.where(cur_imp[0] > imp_sha_max)[0]\n",
      "/Users/shohei.mitani/.pyenv/versions/anaconda3-5.3.1/lib/python3.6/site-packages/boruta/boruta_py.py:380: DataConversionWarning: A column-vector y was passed when a 1d array was expected. Please change the shape of y to (n_samples,), for example using ravel().\n",
      "  self.estimator.fit(X, y)\n"
     ]
    },
    {
     "name": "stdout",
     "output_type": "stream",
     "text": [
      "Iteration: \t21 / 500\n",
      "Confirmed: \t18\n",
      "Tentative: \t23\n",
      "Rejected: \t89\n"
     ]
    },
    {
     "name": "stderr",
     "output_type": "stream",
     "text": [
      "/Users/shohei.mitani/.pyenv/versions/anaconda3-5.3.1/lib/python3.6/site-packages/boruta/boruta_py.py:418: RuntimeWarning: invalid value encountered in greater\n",
      "  hits = np.where(cur_imp[0] > imp_sha_max)[0]\n",
      "/Users/shohei.mitani/.pyenv/versions/anaconda3-5.3.1/lib/python3.6/site-packages/boruta/boruta_py.py:380: DataConversionWarning: A column-vector y was passed when a 1d array was expected. Please change the shape of y to (n_samples,), for example using ravel().\n",
      "  self.estimator.fit(X, y)\n"
     ]
    },
    {
     "name": "stdout",
     "output_type": "stream",
     "text": [
      "Iteration: \t22 / 500\n",
      "Confirmed: \t18\n",
      "Tentative: \t23\n",
      "Rejected: \t89\n"
     ]
    },
    {
     "name": "stderr",
     "output_type": "stream",
     "text": [
      "/Users/shohei.mitani/.pyenv/versions/anaconda3-5.3.1/lib/python3.6/site-packages/boruta/boruta_py.py:418: RuntimeWarning: invalid value encountered in greater\n",
      "  hits = np.where(cur_imp[0] > imp_sha_max)[0]\n",
      "/Users/shohei.mitani/.pyenv/versions/anaconda3-5.3.1/lib/python3.6/site-packages/boruta/boruta_py.py:380: DataConversionWarning: A column-vector y was passed when a 1d array was expected. Please change the shape of y to (n_samples,), for example using ravel().\n",
      "  self.estimator.fit(X, y)\n"
     ]
    },
    {
     "name": "stdout",
     "output_type": "stream",
     "text": [
      "Iteration: \t23 / 500\n",
      "Confirmed: \t18\n",
      "Tentative: \t20\n",
      "Rejected: \t92\n"
     ]
    },
    {
     "name": "stderr",
     "output_type": "stream",
     "text": [
      "/Users/shohei.mitani/.pyenv/versions/anaconda3-5.3.1/lib/python3.6/site-packages/boruta/boruta_py.py:418: RuntimeWarning: invalid value encountered in greater\n",
      "  hits = np.where(cur_imp[0] > imp_sha_max)[0]\n",
      "/Users/shohei.mitani/.pyenv/versions/anaconda3-5.3.1/lib/python3.6/site-packages/boruta/boruta_py.py:380: DataConversionWarning: A column-vector y was passed when a 1d array was expected. Please change the shape of y to (n_samples,), for example using ravel().\n",
      "  self.estimator.fit(X, y)\n"
     ]
    },
    {
     "name": "stdout",
     "output_type": "stream",
     "text": [
      "Iteration: \t24 / 500\n",
      "Confirmed: \t18\n",
      "Tentative: \t20\n",
      "Rejected: \t92\n"
     ]
    },
    {
     "name": "stderr",
     "output_type": "stream",
     "text": [
      "/Users/shohei.mitani/.pyenv/versions/anaconda3-5.3.1/lib/python3.6/site-packages/boruta/boruta_py.py:418: RuntimeWarning: invalid value encountered in greater\n",
      "  hits = np.where(cur_imp[0] > imp_sha_max)[0]\n",
      "/Users/shohei.mitani/.pyenv/versions/anaconda3-5.3.1/lib/python3.6/site-packages/boruta/boruta_py.py:380: DataConversionWarning: A column-vector y was passed when a 1d array was expected. Please change the shape of y to (n_samples,), for example using ravel().\n",
      "  self.estimator.fit(X, y)\n"
     ]
    },
    {
     "name": "stdout",
     "output_type": "stream",
     "text": [
      "Iteration: \t25 / 500\n",
      "Confirmed: \t18\n",
      "Tentative: \t20\n",
      "Rejected: \t92\n"
     ]
    },
    {
     "name": "stderr",
     "output_type": "stream",
     "text": [
      "/Users/shohei.mitani/.pyenv/versions/anaconda3-5.3.1/lib/python3.6/site-packages/boruta/boruta_py.py:418: RuntimeWarning: invalid value encountered in greater\n",
      "  hits = np.where(cur_imp[0] > imp_sha_max)[0]\n",
      "/Users/shohei.mitani/.pyenv/versions/anaconda3-5.3.1/lib/python3.6/site-packages/boruta/boruta_py.py:380: DataConversionWarning: A column-vector y was passed when a 1d array was expected. Please change the shape of y to (n_samples,), for example using ravel().\n",
      "  self.estimator.fit(X, y)\n"
     ]
    },
    {
     "name": "stdout",
     "output_type": "stream",
     "text": [
      "Iteration: \t26 / 500\n",
      "Confirmed: \t18\n",
      "Tentative: \t19\n",
      "Rejected: \t93\n"
     ]
    },
    {
     "name": "stderr",
     "output_type": "stream",
     "text": [
      "/Users/shohei.mitani/.pyenv/versions/anaconda3-5.3.1/lib/python3.6/site-packages/boruta/boruta_py.py:418: RuntimeWarning: invalid value encountered in greater\n",
      "  hits = np.where(cur_imp[0] > imp_sha_max)[0]\n",
      "/Users/shohei.mitani/.pyenv/versions/anaconda3-5.3.1/lib/python3.6/site-packages/boruta/boruta_py.py:380: DataConversionWarning: A column-vector y was passed when a 1d array was expected. Please change the shape of y to (n_samples,), for example using ravel().\n",
      "  self.estimator.fit(X, y)\n"
     ]
    },
    {
     "name": "stdout",
     "output_type": "stream",
     "text": [
      "Iteration: \t27 / 500\n",
      "Confirmed: \t18\n",
      "Tentative: \t19\n",
      "Rejected: \t93\n"
     ]
    },
    {
     "name": "stderr",
     "output_type": "stream",
     "text": [
      "/Users/shohei.mitani/.pyenv/versions/anaconda3-5.3.1/lib/python3.6/site-packages/boruta/boruta_py.py:418: RuntimeWarning: invalid value encountered in greater\n",
      "  hits = np.where(cur_imp[0] > imp_sha_max)[0]\n",
      "/Users/shohei.mitani/.pyenv/versions/anaconda3-5.3.1/lib/python3.6/site-packages/boruta/boruta_py.py:380: DataConversionWarning: A column-vector y was passed when a 1d array was expected. Please change the shape of y to (n_samples,), for example using ravel().\n",
      "  self.estimator.fit(X, y)\n"
     ]
    },
    {
     "name": "stdout",
     "output_type": "stream",
     "text": [
      "Iteration: \t28 / 500\n",
      "Confirmed: \t18\n",
      "Tentative: \t19\n",
      "Rejected: \t93\n"
     ]
    },
    {
     "name": "stderr",
     "output_type": "stream",
     "text": [
      "/Users/shohei.mitani/.pyenv/versions/anaconda3-5.3.1/lib/python3.6/site-packages/boruta/boruta_py.py:418: RuntimeWarning: invalid value encountered in greater\n",
      "  hits = np.where(cur_imp[0] > imp_sha_max)[0]\n",
      "/Users/shohei.mitani/.pyenv/versions/anaconda3-5.3.1/lib/python3.6/site-packages/boruta/boruta_py.py:380: DataConversionWarning: A column-vector y was passed when a 1d array was expected. Please change the shape of y to (n_samples,), for example using ravel().\n",
      "  self.estimator.fit(X, y)\n"
     ]
    },
    {
     "name": "stdout",
     "output_type": "stream",
     "text": [
      "Iteration: \t29 / 500\n",
      "Confirmed: \t18\n",
      "Tentative: \t17\n",
      "Rejected: \t95\n"
     ]
    },
    {
     "name": "stderr",
     "output_type": "stream",
     "text": [
      "/Users/shohei.mitani/.pyenv/versions/anaconda3-5.3.1/lib/python3.6/site-packages/boruta/boruta_py.py:418: RuntimeWarning: invalid value encountered in greater\n",
      "  hits = np.where(cur_imp[0] > imp_sha_max)[0]\n",
      "/Users/shohei.mitani/.pyenv/versions/anaconda3-5.3.1/lib/python3.6/site-packages/boruta/boruta_py.py:380: DataConversionWarning: A column-vector y was passed when a 1d array was expected. Please change the shape of y to (n_samples,), for example using ravel().\n",
      "  self.estimator.fit(X, y)\n"
     ]
    },
    {
     "name": "stdout",
     "output_type": "stream",
     "text": [
      "Iteration: \t30 / 500\n",
      "Confirmed: \t18\n",
      "Tentative: \t17\n",
      "Rejected: \t95\n"
     ]
    },
    {
     "name": "stderr",
     "output_type": "stream",
     "text": [
      "/Users/shohei.mitani/.pyenv/versions/anaconda3-5.3.1/lib/python3.6/site-packages/boruta/boruta_py.py:418: RuntimeWarning: invalid value encountered in greater\n",
      "  hits = np.where(cur_imp[0] > imp_sha_max)[0]\n",
      "/Users/shohei.mitani/.pyenv/versions/anaconda3-5.3.1/lib/python3.6/site-packages/boruta/boruta_py.py:380: DataConversionWarning: A column-vector y was passed when a 1d array was expected. Please change the shape of y to (n_samples,), for example using ravel().\n",
      "  self.estimator.fit(X, y)\n"
     ]
    },
    {
     "name": "stdout",
     "output_type": "stream",
     "text": [
      "Iteration: \t31 / 500\n",
      "Confirmed: \t18\n",
      "Tentative: \t17\n",
      "Rejected: \t95\n"
     ]
    },
    {
     "name": "stderr",
     "output_type": "stream",
     "text": [
      "/Users/shohei.mitani/.pyenv/versions/anaconda3-5.3.1/lib/python3.6/site-packages/boruta/boruta_py.py:418: RuntimeWarning: invalid value encountered in greater\n",
      "  hits = np.where(cur_imp[0] > imp_sha_max)[0]\n",
      "/Users/shohei.mitani/.pyenv/versions/anaconda3-5.3.1/lib/python3.6/site-packages/boruta/boruta_py.py:380: DataConversionWarning: A column-vector y was passed when a 1d array was expected. Please change the shape of y to (n_samples,), for example using ravel().\n",
      "  self.estimator.fit(X, y)\n"
     ]
    },
    {
     "name": "stdout",
     "output_type": "stream",
     "text": [
      "Iteration: \t32 / 500\n",
      "Confirmed: \t18\n",
      "Tentative: \t16\n",
      "Rejected: \t96\n"
     ]
    },
    {
     "name": "stderr",
     "output_type": "stream",
     "text": [
      "/Users/shohei.mitani/.pyenv/versions/anaconda3-5.3.1/lib/python3.6/site-packages/boruta/boruta_py.py:418: RuntimeWarning: invalid value encountered in greater\n",
      "  hits = np.where(cur_imp[0] > imp_sha_max)[0]\n",
      "/Users/shohei.mitani/.pyenv/versions/anaconda3-5.3.1/lib/python3.6/site-packages/boruta/boruta_py.py:380: DataConversionWarning: A column-vector y was passed when a 1d array was expected. Please change the shape of y to (n_samples,), for example using ravel().\n",
      "  self.estimator.fit(X, y)\n"
     ]
    },
    {
     "name": "stdout",
     "output_type": "stream",
     "text": [
      "Iteration: \t33 / 500\n",
      "Confirmed: \t18\n",
      "Tentative: \t16\n",
      "Rejected: \t96\n"
     ]
    },
    {
     "name": "stderr",
     "output_type": "stream",
     "text": [
      "/Users/shohei.mitani/.pyenv/versions/anaconda3-5.3.1/lib/python3.6/site-packages/boruta/boruta_py.py:418: RuntimeWarning: invalid value encountered in greater\n",
      "  hits = np.where(cur_imp[0] > imp_sha_max)[0]\n",
      "/Users/shohei.mitani/.pyenv/versions/anaconda3-5.3.1/lib/python3.6/site-packages/boruta/boruta_py.py:380: DataConversionWarning: A column-vector y was passed when a 1d array was expected. Please change the shape of y to (n_samples,), for example using ravel().\n",
      "  self.estimator.fit(X, y)\n"
     ]
    },
    {
     "name": "stdout",
     "output_type": "stream",
     "text": [
      "Iteration: \t34 / 500\n",
      "Confirmed: \t18\n",
      "Tentative: \t16\n",
      "Rejected: \t96\n"
     ]
    },
    {
     "name": "stderr",
     "output_type": "stream",
     "text": [
      "/Users/shohei.mitani/.pyenv/versions/anaconda3-5.3.1/lib/python3.6/site-packages/boruta/boruta_py.py:418: RuntimeWarning: invalid value encountered in greater\n",
      "  hits = np.where(cur_imp[0] > imp_sha_max)[0]\n",
      "/Users/shohei.mitani/.pyenv/versions/anaconda3-5.3.1/lib/python3.6/site-packages/boruta/boruta_py.py:380: DataConversionWarning: A column-vector y was passed when a 1d array was expected. Please change the shape of y to (n_samples,), for example using ravel().\n",
      "  self.estimator.fit(X, y)\n"
     ]
    },
    {
     "name": "stdout",
     "output_type": "stream",
     "text": [
      "Iteration: \t35 / 500\n",
      "Confirmed: \t18\n",
      "Tentative: \t16\n",
      "Rejected: \t96\n"
     ]
    },
    {
     "name": "stderr",
     "output_type": "stream",
     "text": [
      "/Users/shohei.mitani/.pyenv/versions/anaconda3-5.3.1/lib/python3.6/site-packages/boruta/boruta_py.py:418: RuntimeWarning: invalid value encountered in greater\n",
      "  hits = np.where(cur_imp[0] > imp_sha_max)[0]\n",
      "/Users/shohei.mitani/.pyenv/versions/anaconda3-5.3.1/lib/python3.6/site-packages/boruta/boruta_py.py:380: DataConversionWarning: A column-vector y was passed when a 1d array was expected. Please change the shape of y to (n_samples,), for example using ravel().\n",
      "  self.estimator.fit(X, y)\n"
     ]
    },
    {
     "name": "stdout",
     "output_type": "stream",
     "text": [
      "Iteration: \t36 / 500\n",
      "Confirmed: \t18\n",
      "Tentative: \t16\n",
      "Rejected: \t96\n"
     ]
    },
    {
     "name": "stderr",
     "output_type": "stream",
     "text": [
      "/Users/shohei.mitani/.pyenv/versions/anaconda3-5.3.1/lib/python3.6/site-packages/boruta/boruta_py.py:418: RuntimeWarning: invalid value encountered in greater\n",
      "  hits = np.where(cur_imp[0] > imp_sha_max)[0]\n",
      "/Users/shohei.mitani/.pyenv/versions/anaconda3-5.3.1/lib/python3.6/site-packages/boruta/boruta_py.py:380: DataConversionWarning: A column-vector y was passed when a 1d array was expected. Please change the shape of y to (n_samples,), for example using ravel().\n",
      "  self.estimator.fit(X, y)\n"
     ]
    },
    {
     "name": "stdout",
     "output_type": "stream",
     "text": [
      "Iteration: \t37 / 500\n",
      "Confirmed: \t18\n",
      "Tentative: \t16\n",
      "Rejected: \t96\n"
     ]
    },
    {
     "name": "stderr",
     "output_type": "stream",
     "text": [
      "/Users/shohei.mitani/.pyenv/versions/anaconda3-5.3.1/lib/python3.6/site-packages/boruta/boruta_py.py:418: RuntimeWarning: invalid value encountered in greater\n",
      "  hits = np.where(cur_imp[0] > imp_sha_max)[0]\n",
      "/Users/shohei.mitani/.pyenv/versions/anaconda3-5.3.1/lib/python3.6/site-packages/boruta/boruta_py.py:380: DataConversionWarning: A column-vector y was passed when a 1d array was expected. Please change the shape of y to (n_samples,), for example using ravel().\n",
      "  self.estimator.fit(X, y)\n"
     ]
    },
    {
     "name": "stdout",
     "output_type": "stream",
     "text": [
      "Iteration: \t38 / 500\n",
      "Confirmed: \t18\n",
      "Tentative: \t16\n",
      "Rejected: \t96\n"
     ]
    },
    {
     "name": "stderr",
     "output_type": "stream",
     "text": [
      "/Users/shohei.mitani/.pyenv/versions/anaconda3-5.3.1/lib/python3.6/site-packages/boruta/boruta_py.py:418: RuntimeWarning: invalid value encountered in greater\n",
      "  hits = np.where(cur_imp[0] > imp_sha_max)[0]\n",
      "/Users/shohei.mitani/.pyenv/versions/anaconda3-5.3.1/lib/python3.6/site-packages/boruta/boruta_py.py:380: DataConversionWarning: A column-vector y was passed when a 1d array was expected. Please change the shape of y to (n_samples,), for example using ravel().\n",
      "  self.estimator.fit(X, y)\n"
     ]
    },
    {
     "name": "stdout",
     "output_type": "stream",
     "text": [
      "Iteration: \t39 / 500\n",
      "Confirmed: \t18\n",
      "Tentative: \t16\n",
      "Rejected: \t96\n"
     ]
    },
    {
     "name": "stderr",
     "output_type": "stream",
     "text": [
      "/Users/shohei.mitani/.pyenv/versions/anaconda3-5.3.1/lib/python3.6/site-packages/boruta/boruta_py.py:418: RuntimeWarning: invalid value encountered in greater\n",
      "  hits = np.where(cur_imp[0] > imp_sha_max)[0]\n",
      "/Users/shohei.mitani/.pyenv/versions/anaconda3-5.3.1/lib/python3.6/site-packages/boruta/boruta_py.py:380: DataConversionWarning: A column-vector y was passed when a 1d array was expected. Please change the shape of y to (n_samples,), for example using ravel().\n",
      "  self.estimator.fit(X, y)\n"
     ]
    },
    {
     "name": "stdout",
     "output_type": "stream",
     "text": [
      "Iteration: \t40 / 500\n",
      "Confirmed: \t18\n",
      "Tentative: \t14\n",
      "Rejected: \t98\n"
     ]
    },
    {
     "name": "stderr",
     "output_type": "stream",
     "text": [
      "/Users/shohei.mitani/.pyenv/versions/anaconda3-5.3.1/lib/python3.6/site-packages/boruta/boruta_py.py:418: RuntimeWarning: invalid value encountered in greater\n",
      "  hits = np.where(cur_imp[0] > imp_sha_max)[0]\n",
      "/Users/shohei.mitani/.pyenv/versions/anaconda3-5.3.1/lib/python3.6/site-packages/boruta/boruta_py.py:380: DataConversionWarning: A column-vector y was passed when a 1d array was expected. Please change the shape of y to (n_samples,), for example using ravel().\n",
      "  self.estimator.fit(X, y)\n"
     ]
    },
    {
     "name": "stdout",
     "output_type": "stream",
     "text": [
      "Iteration: \t41 / 500\n",
      "Confirmed: \t18\n",
      "Tentative: \t14\n",
      "Rejected: \t98\n"
     ]
    },
    {
     "name": "stderr",
     "output_type": "stream",
     "text": [
      "/Users/shohei.mitani/.pyenv/versions/anaconda3-5.3.1/lib/python3.6/site-packages/boruta/boruta_py.py:418: RuntimeWarning: invalid value encountered in greater\n",
      "  hits = np.where(cur_imp[0] > imp_sha_max)[0]\n",
      "/Users/shohei.mitani/.pyenv/versions/anaconda3-5.3.1/lib/python3.6/site-packages/boruta/boruta_py.py:380: DataConversionWarning: A column-vector y was passed when a 1d array was expected. Please change the shape of y to (n_samples,), for example using ravel().\n",
      "  self.estimator.fit(X, y)\n"
     ]
    },
    {
     "name": "stdout",
     "output_type": "stream",
     "text": [
      "Iteration: \t42 / 500\n",
      "Confirmed: \t18\n",
      "Tentative: \t14\n",
      "Rejected: \t98\n"
     ]
    },
    {
     "name": "stderr",
     "output_type": "stream",
     "text": [
      "/Users/shohei.mitani/.pyenv/versions/anaconda3-5.3.1/lib/python3.6/site-packages/boruta/boruta_py.py:418: RuntimeWarning: invalid value encountered in greater\n",
      "  hits = np.where(cur_imp[0] > imp_sha_max)[0]\n",
      "/Users/shohei.mitani/.pyenv/versions/anaconda3-5.3.1/lib/python3.6/site-packages/boruta/boruta_py.py:380: DataConversionWarning: A column-vector y was passed when a 1d array was expected. Please change the shape of y to (n_samples,), for example using ravel().\n",
      "  self.estimator.fit(X, y)\n"
     ]
    },
    {
     "name": "stdout",
     "output_type": "stream",
     "text": [
      "Iteration: \t43 / 500\n",
      "Confirmed: \t18\n",
      "Tentative: \t14\n",
      "Rejected: \t98\n"
     ]
    },
    {
     "name": "stderr",
     "output_type": "stream",
     "text": [
      "/Users/shohei.mitani/.pyenv/versions/anaconda3-5.3.1/lib/python3.6/site-packages/boruta/boruta_py.py:418: RuntimeWarning: invalid value encountered in greater\n",
      "  hits = np.where(cur_imp[0] > imp_sha_max)[0]\n",
      "/Users/shohei.mitani/.pyenv/versions/anaconda3-5.3.1/lib/python3.6/site-packages/boruta/boruta_py.py:380: DataConversionWarning: A column-vector y was passed when a 1d array was expected. Please change the shape of y to (n_samples,), for example using ravel().\n",
      "  self.estimator.fit(X, y)\n"
     ]
    },
    {
     "name": "stdout",
     "output_type": "stream",
     "text": [
      "Iteration: \t44 / 500\n",
      "Confirmed: \t18\n",
      "Tentative: \t14\n",
      "Rejected: \t98\n"
     ]
    },
    {
     "name": "stderr",
     "output_type": "stream",
     "text": [
      "/Users/shohei.mitani/.pyenv/versions/anaconda3-5.3.1/lib/python3.6/site-packages/boruta/boruta_py.py:418: RuntimeWarning: invalid value encountered in greater\n",
      "  hits = np.where(cur_imp[0] > imp_sha_max)[0]\n",
      "/Users/shohei.mitani/.pyenv/versions/anaconda3-5.3.1/lib/python3.6/site-packages/boruta/boruta_py.py:380: DataConversionWarning: A column-vector y was passed when a 1d array was expected. Please change the shape of y to (n_samples,), for example using ravel().\n",
      "  self.estimator.fit(X, y)\n"
     ]
    },
    {
     "name": "stdout",
     "output_type": "stream",
     "text": [
      "Iteration: \t45 / 500\n",
      "Confirmed: \t18\n",
      "Tentative: \t14\n",
      "Rejected: \t98\n"
     ]
    },
    {
     "name": "stderr",
     "output_type": "stream",
     "text": [
      "/Users/shohei.mitani/.pyenv/versions/anaconda3-5.3.1/lib/python3.6/site-packages/boruta/boruta_py.py:418: RuntimeWarning: invalid value encountered in greater\n",
      "  hits = np.where(cur_imp[0] > imp_sha_max)[0]\n",
      "/Users/shohei.mitani/.pyenv/versions/anaconda3-5.3.1/lib/python3.6/site-packages/boruta/boruta_py.py:380: DataConversionWarning: A column-vector y was passed when a 1d array was expected. Please change the shape of y to (n_samples,), for example using ravel().\n",
      "  self.estimator.fit(X, y)\n"
     ]
    },
    {
     "name": "stdout",
     "output_type": "stream",
     "text": [
      "Iteration: \t46 / 500\n",
      "Confirmed: \t18\n",
      "Tentative: \t12\n",
      "Rejected: \t100\n"
     ]
    },
    {
     "name": "stderr",
     "output_type": "stream",
     "text": [
      "/Users/shohei.mitani/.pyenv/versions/anaconda3-5.3.1/lib/python3.6/site-packages/boruta/boruta_py.py:418: RuntimeWarning: invalid value encountered in greater\n",
      "  hits = np.where(cur_imp[0] > imp_sha_max)[0]\n",
      "/Users/shohei.mitani/.pyenv/versions/anaconda3-5.3.1/lib/python3.6/site-packages/boruta/boruta_py.py:380: DataConversionWarning: A column-vector y was passed when a 1d array was expected. Please change the shape of y to (n_samples,), for example using ravel().\n",
      "  self.estimator.fit(X, y)\n"
     ]
    },
    {
     "name": "stdout",
     "output_type": "stream",
     "text": [
      "Iteration: \t47 / 500\n",
      "Confirmed: \t18\n",
      "Tentative: \t12\n",
      "Rejected: \t100\n"
     ]
    },
    {
     "name": "stderr",
     "output_type": "stream",
     "text": [
      "/Users/shohei.mitani/.pyenv/versions/anaconda3-5.3.1/lib/python3.6/site-packages/boruta/boruta_py.py:418: RuntimeWarning: invalid value encountered in greater\n",
      "  hits = np.where(cur_imp[0] > imp_sha_max)[0]\n",
      "/Users/shohei.mitani/.pyenv/versions/anaconda3-5.3.1/lib/python3.6/site-packages/boruta/boruta_py.py:380: DataConversionWarning: A column-vector y was passed when a 1d array was expected. Please change the shape of y to (n_samples,), for example using ravel().\n",
      "  self.estimator.fit(X, y)\n"
     ]
    },
    {
     "name": "stdout",
     "output_type": "stream",
     "text": [
      "Iteration: \t48 / 500\n",
      "Confirmed: \t18\n",
      "Tentative: \t12\n",
      "Rejected: \t100\n"
     ]
    },
    {
     "name": "stderr",
     "output_type": "stream",
     "text": [
      "/Users/shohei.mitani/.pyenv/versions/anaconda3-5.3.1/lib/python3.6/site-packages/boruta/boruta_py.py:418: RuntimeWarning: invalid value encountered in greater\n",
      "  hits = np.where(cur_imp[0] > imp_sha_max)[0]\n",
      "/Users/shohei.mitani/.pyenv/versions/anaconda3-5.3.1/lib/python3.6/site-packages/boruta/boruta_py.py:380: DataConversionWarning: A column-vector y was passed when a 1d array was expected. Please change the shape of y to (n_samples,), for example using ravel().\n",
      "  self.estimator.fit(X, y)\n"
     ]
    },
    {
     "name": "stdout",
     "output_type": "stream",
     "text": [
      "Iteration: \t49 / 500\n",
      "Confirmed: \t18\n",
      "Tentative: \t12\n",
      "Rejected: \t100\n"
     ]
    },
    {
     "name": "stderr",
     "output_type": "stream",
     "text": [
      "/Users/shohei.mitani/.pyenv/versions/anaconda3-5.3.1/lib/python3.6/site-packages/boruta/boruta_py.py:418: RuntimeWarning: invalid value encountered in greater\n",
      "  hits = np.where(cur_imp[0] > imp_sha_max)[0]\n",
      "/Users/shohei.mitani/.pyenv/versions/anaconda3-5.3.1/lib/python3.6/site-packages/boruta/boruta_py.py:380: DataConversionWarning: A column-vector y was passed when a 1d array was expected. Please change the shape of y to (n_samples,), for example using ravel().\n",
      "  self.estimator.fit(X, y)\n"
     ]
    },
    {
     "name": "stdout",
     "output_type": "stream",
     "text": [
      "Iteration: \t50 / 500\n",
      "Confirmed: \t18\n",
      "Tentative: \t12\n",
      "Rejected: \t100\n"
     ]
    },
    {
     "name": "stderr",
     "output_type": "stream",
     "text": [
      "/Users/shohei.mitani/.pyenv/versions/anaconda3-5.3.1/lib/python3.6/site-packages/boruta/boruta_py.py:418: RuntimeWarning: invalid value encountered in greater\n",
      "  hits = np.where(cur_imp[0] > imp_sha_max)[0]\n",
      "/Users/shohei.mitani/.pyenv/versions/anaconda3-5.3.1/lib/python3.6/site-packages/boruta/boruta_py.py:380: DataConversionWarning: A column-vector y was passed when a 1d array was expected. Please change the shape of y to (n_samples,), for example using ravel().\n",
      "  self.estimator.fit(X, y)\n"
     ]
    },
    {
     "name": "stdout",
     "output_type": "stream",
     "text": [
      "Iteration: \t51 / 500\n",
      "Confirmed: \t18\n",
      "Tentative: \t12\n",
      "Rejected: \t100\n"
     ]
    },
    {
     "name": "stderr",
     "output_type": "stream",
     "text": [
      "/Users/shohei.mitani/.pyenv/versions/anaconda3-5.3.1/lib/python3.6/site-packages/boruta/boruta_py.py:418: RuntimeWarning: invalid value encountered in greater\n",
      "  hits = np.where(cur_imp[0] > imp_sha_max)[0]\n",
      "/Users/shohei.mitani/.pyenv/versions/anaconda3-5.3.1/lib/python3.6/site-packages/boruta/boruta_py.py:380: DataConversionWarning: A column-vector y was passed when a 1d array was expected. Please change the shape of y to (n_samples,), for example using ravel().\n",
      "  self.estimator.fit(X, y)\n"
     ]
    },
    {
     "name": "stdout",
     "output_type": "stream",
     "text": [
      "Iteration: \t52 / 500\n",
      "Confirmed: \t18\n",
      "Tentative: \t12\n",
      "Rejected: \t100\n"
     ]
    },
    {
     "name": "stderr",
     "output_type": "stream",
     "text": [
      "/Users/shohei.mitani/.pyenv/versions/anaconda3-5.3.1/lib/python3.6/site-packages/boruta/boruta_py.py:418: RuntimeWarning: invalid value encountered in greater\n",
      "  hits = np.where(cur_imp[0] > imp_sha_max)[0]\n",
      "/Users/shohei.mitani/.pyenv/versions/anaconda3-5.3.1/lib/python3.6/site-packages/boruta/boruta_py.py:380: DataConversionWarning: A column-vector y was passed when a 1d array was expected. Please change the shape of y to (n_samples,), for example using ravel().\n",
      "  self.estimator.fit(X, y)\n"
     ]
    },
    {
     "name": "stdout",
     "output_type": "stream",
     "text": [
      "Iteration: \t53 / 500\n",
      "Confirmed: \t18\n",
      "Tentative: \t12\n",
      "Rejected: \t100\n"
     ]
    },
    {
     "name": "stderr",
     "output_type": "stream",
     "text": [
      "/Users/shohei.mitani/.pyenv/versions/anaconda3-5.3.1/lib/python3.6/site-packages/boruta/boruta_py.py:418: RuntimeWarning: invalid value encountered in greater\n",
      "  hits = np.where(cur_imp[0] > imp_sha_max)[0]\n",
      "/Users/shohei.mitani/.pyenv/versions/anaconda3-5.3.1/lib/python3.6/site-packages/boruta/boruta_py.py:380: DataConversionWarning: A column-vector y was passed when a 1d array was expected. Please change the shape of y to (n_samples,), for example using ravel().\n",
      "  self.estimator.fit(X, y)\n"
     ]
    },
    {
     "name": "stdout",
     "output_type": "stream",
     "text": [
      "Iteration: \t54 / 500\n",
      "Confirmed: \t18\n",
      "Tentative: \t12\n",
      "Rejected: \t100\n"
     ]
    },
    {
     "name": "stderr",
     "output_type": "stream",
     "text": [
      "/Users/shohei.mitani/.pyenv/versions/anaconda3-5.3.1/lib/python3.6/site-packages/boruta/boruta_py.py:418: RuntimeWarning: invalid value encountered in greater\n",
      "  hits = np.where(cur_imp[0] > imp_sha_max)[0]\n",
      "/Users/shohei.mitani/.pyenv/versions/anaconda3-5.3.1/lib/python3.6/site-packages/boruta/boruta_py.py:380: DataConversionWarning: A column-vector y was passed when a 1d array was expected. Please change the shape of y to (n_samples,), for example using ravel().\n",
      "  self.estimator.fit(X, y)\n"
     ]
    },
    {
     "name": "stdout",
     "output_type": "stream",
     "text": [
      "Iteration: \t55 / 500\n",
      "Confirmed: \t18\n",
      "Tentative: \t12\n",
      "Rejected: \t100\n"
     ]
    },
    {
     "name": "stderr",
     "output_type": "stream",
     "text": [
      "/Users/shohei.mitani/.pyenv/versions/anaconda3-5.3.1/lib/python3.6/site-packages/boruta/boruta_py.py:418: RuntimeWarning: invalid value encountered in greater\n",
      "  hits = np.where(cur_imp[0] > imp_sha_max)[0]\n",
      "/Users/shohei.mitani/.pyenv/versions/anaconda3-5.3.1/lib/python3.6/site-packages/boruta/boruta_py.py:380: DataConversionWarning: A column-vector y was passed when a 1d array was expected. Please change the shape of y to (n_samples,), for example using ravel().\n",
      "  self.estimator.fit(X, y)\n"
     ]
    },
    {
     "name": "stdout",
     "output_type": "stream",
     "text": [
      "Iteration: \t56 / 500\n",
      "Confirmed: \t18\n",
      "Tentative: \t11\n",
      "Rejected: \t101\n"
     ]
    },
    {
     "name": "stderr",
     "output_type": "stream",
     "text": [
      "/Users/shohei.mitani/.pyenv/versions/anaconda3-5.3.1/lib/python3.6/site-packages/boruta/boruta_py.py:418: RuntimeWarning: invalid value encountered in greater\n",
      "  hits = np.where(cur_imp[0] > imp_sha_max)[0]\n",
      "/Users/shohei.mitani/.pyenv/versions/anaconda3-5.3.1/lib/python3.6/site-packages/boruta/boruta_py.py:380: DataConversionWarning: A column-vector y was passed when a 1d array was expected. Please change the shape of y to (n_samples,), for example using ravel().\n",
      "  self.estimator.fit(X, y)\n"
     ]
    },
    {
     "name": "stdout",
     "output_type": "stream",
     "text": [
      "Iteration: \t57 / 500\n",
      "Confirmed: \t18\n",
      "Tentative: \t11\n",
      "Rejected: \t101\n"
     ]
    },
    {
     "name": "stderr",
     "output_type": "stream",
     "text": [
      "/Users/shohei.mitani/.pyenv/versions/anaconda3-5.3.1/lib/python3.6/site-packages/boruta/boruta_py.py:418: RuntimeWarning: invalid value encountered in greater\n",
      "  hits = np.where(cur_imp[0] > imp_sha_max)[0]\n",
      "/Users/shohei.mitani/.pyenv/versions/anaconda3-5.3.1/lib/python3.6/site-packages/boruta/boruta_py.py:380: DataConversionWarning: A column-vector y was passed when a 1d array was expected. Please change the shape of y to (n_samples,), for example using ravel().\n",
      "  self.estimator.fit(X, y)\n"
     ]
    },
    {
     "name": "stdout",
     "output_type": "stream",
     "text": [
      "Iteration: \t58 / 500\n",
      "Confirmed: \t18\n",
      "Tentative: \t11\n",
      "Rejected: \t101\n"
     ]
    },
    {
     "name": "stderr",
     "output_type": "stream",
     "text": [
      "/Users/shohei.mitani/.pyenv/versions/anaconda3-5.3.1/lib/python3.6/site-packages/boruta/boruta_py.py:418: RuntimeWarning: invalid value encountered in greater\n",
      "  hits = np.where(cur_imp[0] > imp_sha_max)[0]\n",
      "/Users/shohei.mitani/.pyenv/versions/anaconda3-5.3.1/lib/python3.6/site-packages/boruta/boruta_py.py:380: DataConversionWarning: A column-vector y was passed when a 1d array was expected. Please change the shape of y to (n_samples,), for example using ravel().\n",
      "  self.estimator.fit(X, y)\n"
     ]
    },
    {
     "name": "stdout",
     "output_type": "stream",
     "text": [
      "Iteration: \t59 / 500\n",
      "Confirmed: \t18\n",
      "Tentative: \t11\n",
      "Rejected: \t101\n"
     ]
    },
    {
     "name": "stderr",
     "output_type": "stream",
     "text": [
      "/Users/shohei.mitani/.pyenv/versions/anaconda3-5.3.1/lib/python3.6/site-packages/boruta/boruta_py.py:418: RuntimeWarning: invalid value encountered in greater\n",
      "  hits = np.where(cur_imp[0] > imp_sha_max)[0]\n",
      "/Users/shohei.mitani/.pyenv/versions/anaconda3-5.3.1/lib/python3.6/site-packages/boruta/boruta_py.py:380: DataConversionWarning: A column-vector y was passed when a 1d array was expected. Please change the shape of y to (n_samples,), for example using ravel().\n",
      "  self.estimator.fit(X, y)\n"
     ]
    },
    {
     "name": "stdout",
     "output_type": "stream",
     "text": [
      "Iteration: \t60 / 500\n",
      "Confirmed: \t18\n",
      "Tentative: \t11\n",
      "Rejected: \t101\n"
     ]
    },
    {
     "name": "stderr",
     "output_type": "stream",
     "text": [
      "/Users/shohei.mitani/.pyenv/versions/anaconda3-5.3.1/lib/python3.6/site-packages/boruta/boruta_py.py:418: RuntimeWarning: invalid value encountered in greater\n",
      "  hits = np.where(cur_imp[0] > imp_sha_max)[0]\n",
      "/Users/shohei.mitani/.pyenv/versions/anaconda3-5.3.1/lib/python3.6/site-packages/boruta/boruta_py.py:380: DataConversionWarning: A column-vector y was passed when a 1d array was expected. Please change the shape of y to (n_samples,), for example using ravel().\n",
      "  self.estimator.fit(X, y)\n"
     ]
    },
    {
     "name": "stdout",
     "output_type": "stream",
     "text": [
      "Iteration: \t61 / 500\n",
      "Confirmed: \t18\n",
      "Tentative: \t10\n",
      "Rejected: \t102\n"
     ]
    },
    {
     "name": "stderr",
     "output_type": "stream",
     "text": [
      "/Users/shohei.mitani/.pyenv/versions/anaconda3-5.3.1/lib/python3.6/site-packages/boruta/boruta_py.py:418: RuntimeWarning: invalid value encountered in greater\n",
      "  hits = np.where(cur_imp[0] > imp_sha_max)[0]\n",
      "/Users/shohei.mitani/.pyenv/versions/anaconda3-5.3.1/lib/python3.6/site-packages/boruta/boruta_py.py:380: DataConversionWarning: A column-vector y was passed when a 1d array was expected. Please change the shape of y to (n_samples,), for example using ravel().\n",
      "  self.estimator.fit(X, y)\n"
     ]
    },
    {
     "name": "stdout",
     "output_type": "stream",
     "text": [
      "Iteration: \t62 / 500\n",
      "Confirmed: \t18\n",
      "Tentative: \t10\n",
      "Rejected: \t102\n"
     ]
    },
    {
     "name": "stderr",
     "output_type": "stream",
     "text": [
      "/Users/shohei.mitani/.pyenv/versions/anaconda3-5.3.1/lib/python3.6/site-packages/boruta/boruta_py.py:418: RuntimeWarning: invalid value encountered in greater\n",
      "  hits = np.where(cur_imp[0] > imp_sha_max)[0]\n",
      "/Users/shohei.mitani/.pyenv/versions/anaconda3-5.3.1/lib/python3.6/site-packages/boruta/boruta_py.py:380: DataConversionWarning: A column-vector y was passed when a 1d array was expected. Please change the shape of y to (n_samples,), for example using ravel().\n",
      "  self.estimator.fit(X, y)\n"
     ]
    },
    {
     "name": "stdout",
     "output_type": "stream",
     "text": [
      "Iteration: \t63 / 500\n",
      "Confirmed: \t18\n",
      "Tentative: \t10\n",
      "Rejected: \t102\n"
     ]
    },
    {
     "name": "stderr",
     "output_type": "stream",
     "text": [
      "/Users/shohei.mitani/.pyenv/versions/anaconda3-5.3.1/lib/python3.6/site-packages/boruta/boruta_py.py:418: RuntimeWarning: invalid value encountered in greater\n",
      "  hits = np.where(cur_imp[0] > imp_sha_max)[0]\n",
      "/Users/shohei.mitani/.pyenv/versions/anaconda3-5.3.1/lib/python3.6/site-packages/boruta/boruta_py.py:380: DataConversionWarning: A column-vector y was passed when a 1d array was expected. Please change the shape of y to (n_samples,), for example using ravel().\n",
      "  self.estimator.fit(X, y)\n"
     ]
    },
    {
     "name": "stdout",
     "output_type": "stream",
     "text": [
      "Iteration: \t64 / 500\n",
      "Confirmed: \t18\n",
      "Tentative: \t9\n",
      "Rejected: \t103\n"
     ]
    },
    {
     "name": "stderr",
     "output_type": "stream",
     "text": [
      "/Users/shohei.mitani/.pyenv/versions/anaconda3-5.3.1/lib/python3.6/site-packages/boruta/boruta_py.py:418: RuntimeWarning: invalid value encountered in greater\n",
      "  hits = np.where(cur_imp[0] > imp_sha_max)[0]\n",
      "/Users/shohei.mitani/.pyenv/versions/anaconda3-5.3.1/lib/python3.6/site-packages/boruta/boruta_py.py:380: DataConversionWarning: A column-vector y was passed when a 1d array was expected. Please change the shape of y to (n_samples,), for example using ravel().\n",
      "  self.estimator.fit(X, y)\n"
     ]
    },
    {
     "name": "stdout",
     "output_type": "stream",
     "text": [
      "Iteration: \t65 / 500\n",
      "Confirmed: \t18\n",
      "Tentative: \t9\n",
      "Rejected: \t103\n"
     ]
    },
    {
     "name": "stderr",
     "output_type": "stream",
     "text": [
      "/Users/shohei.mitani/.pyenv/versions/anaconda3-5.3.1/lib/python3.6/site-packages/boruta/boruta_py.py:418: RuntimeWarning: invalid value encountered in greater\n",
      "  hits = np.where(cur_imp[0] > imp_sha_max)[0]\n",
      "/Users/shohei.mitani/.pyenv/versions/anaconda3-5.3.1/lib/python3.6/site-packages/boruta/boruta_py.py:380: DataConversionWarning: A column-vector y was passed when a 1d array was expected. Please change the shape of y to (n_samples,), for example using ravel().\n",
      "  self.estimator.fit(X, y)\n"
     ]
    },
    {
     "name": "stdout",
     "output_type": "stream",
     "text": [
      "Iteration: \t66 / 500\n",
      "Confirmed: \t18\n",
      "Tentative: \t9\n",
      "Rejected: \t103\n"
     ]
    },
    {
     "name": "stderr",
     "output_type": "stream",
     "text": [
      "/Users/shohei.mitani/.pyenv/versions/anaconda3-5.3.1/lib/python3.6/site-packages/boruta/boruta_py.py:418: RuntimeWarning: invalid value encountered in greater\n",
      "  hits = np.where(cur_imp[0] > imp_sha_max)[0]\n",
      "/Users/shohei.mitani/.pyenv/versions/anaconda3-5.3.1/lib/python3.6/site-packages/boruta/boruta_py.py:380: DataConversionWarning: A column-vector y was passed when a 1d array was expected. Please change the shape of y to (n_samples,), for example using ravel().\n",
      "  self.estimator.fit(X, y)\n"
     ]
    },
    {
     "name": "stdout",
     "output_type": "stream",
     "text": [
      "Iteration: \t67 / 500\n",
      "Confirmed: \t18\n",
      "Tentative: \t9\n",
      "Rejected: \t103\n"
     ]
    },
    {
     "name": "stderr",
     "output_type": "stream",
     "text": [
      "/Users/shohei.mitani/.pyenv/versions/anaconda3-5.3.1/lib/python3.6/site-packages/boruta/boruta_py.py:418: RuntimeWarning: invalid value encountered in greater\n",
      "  hits = np.where(cur_imp[0] > imp_sha_max)[0]\n",
      "/Users/shohei.mitani/.pyenv/versions/anaconda3-5.3.1/lib/python3.6/site-packages/boruta/boruta_py.py:380: DataConversionWarning: A column-vector y was passed when a 1d array was expected. Please change the shape of y to (n_samples,), for example using ravel().\n",
      "  self.estimator.fit(X, y)\n"
     ]
    },
    {
     "name": "stdout",
     "output_type": "stream",
     "text": [
      "Iteration: \t68 / 500\n",
      "Confirmed: \t18\n",
      "Tentative: \t9\n",
      "Rejected: \t103\n"
     ]
    },
    {
     "name": "stderr",
     "output_type": "stream",
     "text": [
      "/Users/shohei.mitani/.pyenv/versions/anaconda3-5.3.1/lib/python3.6/site-packages/boruta/boruta_py.py:418: RuntimeWarning: invalid value encountered in greater\n",
      "  hits = np.where(cur_imp[0] > imp_sha_max)[0]\n",
      "/Users/shohei.mitani/.pyenv/versions/anaconda3-5.3.1/lib/python3.6/site-packages/boruta/boruta_py.py:380: DataConversionWarning: A column-vector y was passed when a 1d array was expected. Please change the shape of y to (n_samples,), for example using ravel().\n",
      "  self.estimator.fit(X, y)\n"
     ]
    },
    {
     "name": "stdout",
     "output_type": "stream",
     "text": [
      "Iteration: \t69 / 500\n",
      "Confirmed: \t18\n",
      "Tentative: \t9\n",
      "Rejected: \t103\n"
     ]
    },
    {
     "name": "stderr",
     "output_type": "stream",
     "text": [
      "/Users/shohei.mitani/.pyenv/versions/anaconda3-5.3.1/lib/python3.6/site-packages/boruta/boruta_py.py:418: RuntimeWarning: invalid value encountered in greater\n",
      "  hits = np.where(cur_imp[0] > imp_sha_max)[0]\n",
      "/Users/shohei.mitani/.pyenv/versions/anaconda3-5.3.1/lib/python3.6/site-packages/boruta/boruta_py.py:380: DataConversionWarning: A column-vector y was passed when a 1d array was expected. Please change the shape of y to (n_samples,), for example using ravel().\n",
      "  self.estimator.fit(X, y)\n"
     ]
    },
    {
     "name": "stdout",
     "output_type": "stream",
     "text": [
      "Iteration: \t70 / 500\n",
      "Confirmed: \t18\n",
      "Tentative: \t9\n",
      "Rejected: \t103\n"
     ]
    },
    {
     "name": "stderr",
     "output_type": "stream",
     "text": [
      "/Users/shohei.mitani/.pyenv/versions/anaconda3-5.3.1/lib/python3.6/site-packages/boruta/boruta_py.py:418: RuntimeWarning: invalid value encountered in greater\n",
      "  hits = np.where(cur_imp[0] > imp_sha_max)[0]\n",
      "/Users/shohei.mitani/.pyenv/versions/anaconda3-5.3.1/lib/python3.6/site-packages/boruta/boruta_py.py:380: DataConversionWarning: A column-vector y was passed when a 1d array was expected. Please change the shape of y to (n_samples,), for example using ravel().\n",
      "  self.estimator.fit(X, y)\n"
     ]
    },
    {
     "name": "stdout",
     "output_type": "stream",
     "text": [
      "Iteration: \t71 / 500\n",
      "Confirmed: \t18\n",
      "Tentative: \t9\n",
      "Rejected: \t103\n"
     ]
    },
    {
     "name": "stderr",
     "output_type": "stream",
     "text": [
      "/Users/shohei.mitani/.pyenv/versions/anaconda3-5.3.1/lib/python3.6/site-packages/boruta/boruta_py.py:418: RuntimeWarning: invalid value encountered in greater\n",
      "  hits = np.where(cur_imp[0] > imp_sha_max)[0]\n",
      "/Users/shohei.mitani/.pyenv/versions/anaconda3-5.3.1/lib/python3.6/site-packages/boruta/boruta_py.py:380: DataConversionWarning: A column-vector y was passed when a 1d array was expected. Please change the shape of y to (n_samples,), for example using ravel().\n",
      "  self.estimator.fit(X, y)\n"
     ]
    },
    {
     "name": "stdout",
     "output_type": "stream",
     "text": [
      "Iteration: \t72 / 500\n",
      "Confirmed: \t18\n",
      "Tentative: \t9\n",
      "Rejected: \t103\n"
     ]
    },
    {
     "name": "stderr",
     "output_type": "stream",
     "text": [
      "/Users/shohei.mitani/.pyenv/versions/anaconda3-5.3.1/lib/python3.6/site-packages/boruta/boruta_py.py:418: RuntimeWarning: invalid value encountered in greater\n",
      "  hits = np.where(cur_imp[0] > imp_sha_max)[0]\n",
      "/Users/shohei.mitani/.pyenv/versions/anaconda3-5.3.1/lib/python3.6/site-packages/boruta/boruta_py.py:380: DataConversionWarning: A column-vector y was passed when a 1d array was expected. Please change the shape of y to (n_samples,), for example using ravel().\n",
      "  self.estimator.fit(X, y)\n"
     ]
    },
    {
     "name": "stdout",
     "output_type": "stream",
     "text": [
      "Iteration: \t73 / 500\n",
      "Confirmed: \t18\n",
      "Tentative: \t9\n",
      "Rejected: \t103\n"
     ]
    },
    {
     "name": "stderr",
     "output_type": "stream",
     "text": [
      "/Users/shohei.mitani/.pyenv/versions/anaconda3-5.3.1/lib/python3.6/site-packages/boruta/boruta_py.py:418: RuntimeWarning: invalid value encountered in greater\n",
      "  hits = np.where(cur_imp[0] > imp_sha_max)[0]\n",
      "/Users/shohei.mitani/.pyenv/versions/anaconda3-5.3.1/lib/python3.6/site-packages/boruta/boruta_py.py:380: DataConversionWarning: A column-vector y was passed when a 1d array was expected. Please change the shape of y to (n_samples,), for example using ravel().\n",
      "  self.estimator.fit(X, y)\n"
     ]
    },
    {
     "name": "stdout",
     "output_type": "stream",
     "text": [
      "Iteration: \t74 / 500\n",
      "Confirmed: \t18\n",
      "Tentative: \t9\n",
      "Rejected: \t103\n"
     ]
    },
    {
     "name": "stderr",
     "output_type": "stream",
     "text": [
      "/Users/shohei.mitani/.pyenv/versions/anaconda3-5.3.1/lib/python3.6/site-packages/boruta/boruta_py.py:418: RuntimeWarning: invalid value encountered in greater\n",
      "  hits = np.where(cur_imp[0] > imp_sha_max)[0]\n",
      "/Users/shohei.mitani/.pyenv/versions/anaconda3-5.3.1/lib/python3.6/site-packages/boruta/boruta_py.py:380: DataConversionWarning: A column-vector y was passed when a 1d array was expected. Please change the shape of y to (n_samples,), for example using ravel().\n",
      "  self.estimator.fit(X, y)\n"
     ]
    },
    {
     "name": "stdout",
     "output_type": "stream",
     "text": [
      "Iteration: \t75 / 500\n",
      "Confirmed: \t18\n",
      "Tentative: \t9\n",
      "Rejected: \t103\n"
     ]
    },
    {
     "name": "stderr",
     "output_type": "stream",
     "text": [
      "/Users/shohei.mitani/.pyenv/versions/anaconda3-5.3.1/lib/python3.6/site-packages/boruta/boruta_py.py:418: RuntimeWarning: invalid value encountered in greater\n",
      "  hits = np.where(cur_imp[0] > imp_sha_max)[0]\n",
      "/Users/shohei.mitani/.pyenv/versions/anaconda3-5.3.1/lib/python3.6/site-packages/boruta/boruta_py.py:380: DataConversionWarning: A column-vector y was passed when a 1d array was expected. Please change the shape of y to (n_samples,), for example using ravel().\n",
      "  self.estimator.fit(X, y)\n"
     ]
    },
    {
     "name": "stdout",
     "output_type": "stream",
     "text": [
      "Iteration: \t76 / 500\n",
      "Confirmed: \t18\n",
      "Tentative: \t9\n",
      "Rejected: \t103\n"
     ]
    },
    {
     "name": "stderr",
     "output_type": "stream",
     "text": [
      "/Users/shohei.mitani/.pyenv/versions/anaconda3-5.3.1/lib/python3.6/site-packages/boruta/boruta_py.py:418: RuntimeWarning: invalid value encountered in greater\n",
      "  hits = np.where(cur_imp[0] > imp_sha_max)[0]\n",
      "/Users/shohei.mitani/.pyenv/versions/anaconda3-5.3.1/lib/python3.6/site-packages/boruta/boruta_py.py:380: DataConversionWarning: A column-vector y was passed when a 1d array was expected. Please change the shape of y to (n_samples,), for example using ravel().\n",
      "  self.estimator.fit(X, y)\n"
     ]
    },
    {
     "name": "stdout",
     "output_type": "stream",
     "text": [
      "Iteration: \t77 / 500\n",
      "Confirmed: \t18\n",
      "Tentative: \t9\n",
      "Rejected: \t103\n"
     ]
    },
    {
     "name": "stderr",
     "output_type": "stream",
     "text": [
      "/Users/shohei.mitani/.pyenv/versions/anaconda3-5.3.1/lib/python3.6/site-packages/boruta/boruta_py.py:418: RuntimeWarning: invalid value encountered in greater\n",
      "  hits = np.where(cur_imp[0] > imp_sha_max)[0]\n",
      "/Users/shohei.mitani/.pyenv/versions/anaconda3-5.3.1/lib/python3.6/site-packages/boruta/boruta_py.py:380: DataConversionWarning: A column-vector y was passed when a 1d array was expected. Please change the shape of y to (n_samples,), for example using ravel().\n",
      "  self.estimator.fit(X, y)\n"
     ]
    },
    {
     "name": "stdout",
     "output_type": "stream",
     "text": [
      "Iteration: \t78 / 500\n",
      "Confirmed: \t18\n",
      "Tentative: \t9\n",
      "Rejected: \t103\n"
     ]
    },
    {
     "name": "stderr",
     "output_type": "stream",
     "text": [
      "/Users/shohei.mitani/.pyenv/versions/anaconda3-5.3.1/lib/python3.6/site-packages/boruta/boruta_py.py:418: RuntimeWarning: invalid value encountered in greater\n",
      "  hits = np.where(cur_imp[0] > imp_sha_max)[0]\n",
      "/Users/shohei.mitani/.pyenv/versions/anaconda3-5.3.1/lib/python3.6/site-packages/boruta/boruta_py.py:380: DataConversionWarning: A column-vector y was passed when a 1d array was expected. Please change the shape of y to (n_samples,), for example using ravel().\n",
      "  self.estimator.fit(X, y)\n"
     ]
    },
    {
     "name": "stdout",
     "output_type": "stream",
     "text": [
      "Iteration: \t79 / 500\n",
      "Confirmed: \t18\n",
      "Tentative: \t9\n",
      "Rejected: \t103\n"
     ]
    },
    {
     "name": "stderr",
     "output_type": "stream",
     "text": [
      "/Users/shohei.mitani/.pyenv/versions/anaconda3-5.3.1/lib/python3.6/site-packages/boruta/boruta_py.py:418: RuntimeWarning: invalid value encountered in greater\n",
      "  hits = np.where(cur_imp[0] > imp_sha_max)[0]\n",
      "/Users/shohei.mitani/.pyenv/versions/anaconda3-5.3.1/lib/python3.6/site-packages/boruta/boruta_py.py:380: DataConversionWarning: A column-vector y was passed when a 1d array was expected. Please change the shape of y to (n_samples,), for example using ravel().\n",
      "  self.estimator.fit(X, y)\n"
     ]
    },
    {
     "name": "stdout",
     "output_type": "stream",
     "text": [
      "Iteration: \t80 / 500\n",
      "Confirmed: \t18\n",
      "Tentative: \t9\n",
      "Rejected: \t103\n"
     ]
    },
    {
     "name": "stderr",
     "output_type": "stream",
     "text": [
      "/Users/shohei.mitani/.pyenv/versions/anaconda3-5.3.1/lib/python3.6/site-packages/boruta/boruta_py.py:418: RuntimeWarning: invalid value encountered in greater\n",
      "  hits = np.where(cur_imp[0] > imp_sha_max)[0]\n",
      "/Users/shohei.mitani/.pyenv/versions/anaconda3-5.3.1/lib/python3.6/site-packages/boruta/boruta_py.py:380: DataConversionWarning: A column-vector y was passed when a 1d array was expected. Please change the shape of y to (n_samples,), for example using ravel().\n",
      "  self.estimator.fit(X, y)\n"
     ]
    },
    {
     "name": "stdout",
     "output_type": "stream",
     "text": [
      "Iteration: \t81 / 500\n",
      "Confirmed: \t18\n",
      "Tentative: \t9\n",
      "Rejected: \t103\n"
     ]
    },
    {
     "name": "stderr",
     "output_type": "stream",
     "text": [
      "/Users/shohei.mitani/.pyenv/versions/anaconda3-5.3.1/lib/python3.6/site-packages/boruta/boruta_py.py:418: RuntimeWarning: invalid value encountered in greater\n",
      "  hits = np.where(cur_imp[0] > imp_sha_max)[0]\n",
      "/Users/shohei.mitani/.pyenv/versions/anaconda3-5.3.1/lib/python3.6/site-packages/boruta/boruta_py.py:380: DataConversionWarning: A column-vector y was passed when a 1d array was expected. Please change the shape of y to (n_samples,), for example using ravel().\n",
      "  self.estimator.fit(X, y)\n"
     ]
    },
    {
     "name": "stdout",
     "output_type": "stream",
     "text": [
      "Iteration: \t82 / 500\n",
      "Confirmed: \t18\n",
      "Tentative: \t9\n",
      "Rejected: \t103\n"
     ]
    },
    {
     "name": "stderr",
     "output_type": "stream",
     "text": [
      "/Users/shohei.mitani/.pyenv/versions/anaconda3-5.3.1/lib/python3.6/site-packages/boruta/boruta_py.py:418: RuntimeWarning: invalid value encountered in greater\n",
      "  hits = np.where(cur_imp[0] > imp_sha_max)[0]\n",
      "/Users/shohei.mitani/.pyenv/versions/anaconda3-5.3.1/lib/python3.6/site-packages/boruta/boruta_py.py:380: DataConversionWarning: A column-vector y was passed when a 1d array was expected. Please change the shape of y to (n_samples,), for example using ravel().\n",
      "  self.estimator.fit(X, y)\n"
     ]
    },
    {
     "name": "stdout",
     "output_type": "stream",
     "text": [
      "Iteration: \t83 / 500\n",
      "Confirmed: \t18\n",
      "Tentative: \t9\n",
      "Rejected: \t103\n"
     ]
    },
    {
     "name": "stderr",
     "output_type": "stream",
     "text": [
      "/Users/shohei.mitani/.pyenv/versions/anaconda3-5.3.1/lib/python3.6/site-packages/boruta/boruta_py.py:418: RuntimeWarning: invalid value encountered in greater\n",
      "  hits = np.where(cur_imp[0] > imp_sha_max)[0]\n",
      "/Users/shohei.mitani/.pyenv/versions/anaconda3-5.3.1/lib/python3.6/site-packages/boruta/boruta_py.py:380: DataConversionWarning: A column-vector y was passed when a 1d array was expected. Please change the shape of y to (n_samples,), for example using ravel().\n",
      "  self.estimator.fit(X, y)\n"
     ]
    },
    {
     "name": "stdout",
     "output_type": "stream",
     "text": [
      "Iteration: \t84 / 500\n",
      "Confirmed: \t18\n",
      "Tentative: \t9\n",
      "Rejected: \t103\n"
     ]
    },
    {
     "name": "stderr",
     "output_type": "stream",
     "text": [
      "/Users/shohei.mitani/.pyenv/versions/anaconda3-5.3.1/lib/python3.6/site-packages/boruta/boruta_py.py:418: RuntimeWarning: invalid value encountered in greater\n",
      "  hits = np.where(cur_imp[0] > imp_sha_max)[0]\n",
      "/Users/shohei.mitani/.pyenv/versions/anaconda3-5.3.1/lib/python3.6/site-packages/boruta/boruta_py.py:380: DataConversionWarning: A column-vector y was passed when a 1d array was expected. Please change the shape of y to (n_samples,), for example using ravel().\n",
      "  self.estimator.fit(X, y)\n"
     ]
    },
    {
     "name": "stdout",
     "output_type": "stream",
     "text": [
      "Iteration: \t85 / 500\n",
      "Confirmed: \t18\n",
      "Tentative: \t9\n",
      "Rejected: \t103\n"
     ]
    },
    {
     "name": "stderr",
     "output_type": "stream",
     "text": [
      "/Users/shohei.mitani/.pyenv/versions/anaconda3-5.3.1/lib/python3.6/site-packages/boruta/boruta_py.py:418: RuntimeWarning: invalid value encountered in greater\n",
      "  hits = np.where(cur_imp[0] > imp_sha_max)[0]\n",
      "/Users/shohei.mitani/.pyenv/versions/anaconda3-5.3.1/lib/python3.6/site-packages/boruta/boruta_py.py:380: DataConversionWarning: A column-vector y was passed when a 1d array was expected. Please change the shape of y to (n_samples,), for example using ravel().\n",
      "  self.estimator.fit(X, y)\n"
     ]
    },
    {
     "name": "stdout",
     "output_type": "stream",
     "text": [
      "Iteration: \t86 / 500\n",
      "Confirmed: \t18\n",
      "Tentative: \t8\n",
      "Rejected: \t104\n"
     ]
    },
    {
     "name": "stderr",
     "output_type": "stream",
     "text": [
      "/Users/shohei.mitani/.pyenv/versions/anaconda3-5.3.1/lib/python3.6/site-packages/boruta/boruta_py.py:418: RuntimeWarning: invalid value encountered in greater\n",
      "  hits = np.where(cur_imp[0] > imp_sha_max)[0]\n",
      "/Users/shohei.mitani/.pyenv/versions/anaconda3-5.3.1/lib/python3.6/site-packages/boruta/boruta_py.py:380: DataConversionWarning: A column-vector y was passed when a 1d array was expected. Please change the shape of y to (n_samples,), for example using ravel().\n",
      "  self.estimator.fit(X, y)\n"
     ]
    },
    {
     "name": "stdout",
     "output_type": "stream",
     "text": [
      "Iteration: \t87 / 500\n",
      "Confirmed: \t18\n",
      "Tentative: \t8\n",
      "Rejected: \t104\n"
     ]
    },
    {
     "name": "stderr",
     "output_type": "stream",
     "text": [
      "/Users/shohei.mitani/.pyenv/versions/anaconda3-5.3.1/lib/python3.6/site-packages/boruta/boruta_py.py:418: RuntimeWarning: invalid value encountered in greater\n",
      "  hits = np.where(cur_imp[0] > imp_sha_max)[0]\n",
      "/Users/shohei.mitani/.pyenv/versions/anaconda3-5.3.1/lib/python3.6/site-packages/boruta/boruta_py.py:380: DataConversionWarning: A column-vector y was passed when a 1d array was expected. Please change the shape of y to (n_samples,), for example using ravel().\n",
      "  self.estimator.fit(X, y)\n"
     ]
    },
    {
     "name": "stdout",
     "output_type": "stream",
     "text": [
      "Iteration: \t88 / 500\n",
      "Confirmed: \t18\n",
      "Tentative: \t8\n",
      "Rejected: \t104\n"
     ]
    },
    {
     "name": "stderr",
     "output_type": "stream",
     "text": [
      "/Users/shohei.mitani/.pyenv/versions/anaconda3-5.3.1/lib/python3.6/site-packages/boruta/boruta_py.py:418: RuntimeWarning: invalid value encountered in greater\n",
      "  hits = np.where(cur_imp[0] > imp_sha_max)[0]\n",
      "/Users/shohei.mitani/.pyenv/versions/anaconda3-5.3.1/lib/python3.6/site-packages/boruta/boruta_py.py:380: DataConversionWarning: A column-vector y was passed when a 1d array was expected. Please change the shape of y to (n_samples,), for example using ravel().\n",
      "  self.estimator.fit(X, y)\n"
     ]
    },
    {
     "name": "stdout",
     "output_type": "stream",
     "text": [
      "Iteration: \t89 / 500\n",
      "Confirmed: \t18\n",
      "Tentative: \t8\n",
      "Rejected: \t104\n"
     ]
    },
    {
     "name": "stderr",
     "output_type": "stream",
     "text": [
      "/Users/shohei.mitani/.pyenv/versions/anaconda3-5.3.1/lib/python3.6/site-packages/boruta/boruta_py.py:418: RuntimeWarning: invalid value encountered in greater\n",
      "  hits = np.where(cur_imp[0] > imp_sha_max)[0]\n",
      "/Users/shohei.mitani/.pyenv/versions/anaconda3-5.3.1/lib/python3.6/site-packages/boruta/boruta_py.py:380: DataConversionWarning: A column-vector y was passed when a 1d array was expected. Please change the shape of y to (n_samples,), for example using ravel().\n",
      "  self.estimator.fit(X, y)\n"
     ]
    },
    {
     "name": "stdout",
     "output_type": "stream",
     "text": [
      "Iteration: \t90 / 500\n",
      "Confirmed: \t18\n",
      "Tentative: \t8\n",
      "Rejected: \t104\n"
     ]
    },
    {
     "name": "stderr",
     "output_type": "stream",
     "text": [
      "/Users/shohei.mitani/.pyenv/versions/anaconda3-5.3.1/lib/python3.6/site-packages/boruta/boruta_py.py:418: RuntimeWarning: invalid value encountered in greater\n",
      "  hits = np.where(cur_imp[0] > imp_sha_max)[0]\n",
      "/Users/shohei.mitani/.pyenv/versions/anaconda3-5.3.1/lib/python3.6/site-packages/boruta/boruta_py.py:380: DataConversionWarning: A column-vector y was passed when a 1d array was expected. Please change the shape of y to (n_samples,), for example using ravel().\n",
      "  self.estimator.fit(X, y)\n"
     ]
    },
    {
     "name": "stdout",
     "output_type": "stream",
     "text": [
      "Iteration: \t91 / 500\n",
      "Confirmed: \t18\n",
      "Tentative: \t8\n",
      "Rejected: \t104\n"
     ]
    },
    {
     "name": "stderr",
     "output_type": "stream",
     "text": [
      "/Users/shohei.mitani/.pyenv/versions/anaconda3-5.3.1/lib/python3.6/site-packages/boruta/boruta_py.py:418: RuntimeWarning: invalid value encountered in greater\n",
      "  hits = np.where(cur_imp[0] > imp_sha_max)[0]\n",
      "/Users/shohei.mitani/.pyenv/versions/anaconda3-5.3.1/lib/python3.6/site-packages/boruta/boruta_py.py:380: DataConversionWarning: A column-vector y was passed when a 1d array was expected. Please change the shape of y to (n_samples,), for example using ravel().\n",
      "  self.estimator.fit(X, y)\n"
     ]
    },
    {
     "name": "stdout",
     "output_type": "stream",
     "text": [
      "Iteration: \t92 / 500\n",
      "Confirmed: \t18\n",
      "Tentative: \t8\n",
      "Rejected: \t104\n"
     ]
    },
    {
     "name": "stderr",
     "output_type": "stream",
     "text": [
      "/Users/shohei.mitani/.pyenv/versions/anaconda3-5.3.1/lib/python3.6/site-packages/boruta/boruta_py.py:418: RuntimeWarning: invalid value encountered in greater\n",
      "  hits = np.where(cur_imp[0] > imp_sha_max)[0]\n",
      "/Users/shohei.mitani/.pyenv/versions/anaconda3-5.3.1/lib/python3.6/site-packages/boruta/boruta_py.py:380: DataConversionWarning: A column-vector y was passed when a 1d array was expected. Please change the shape of y to (n_samples,), for example using ravel().\n",
      "  self.estimator.fit(X, y)\n"
     ]
    },
    {
     "name": "stdout",
     "output_type": "stream",
     "text": [
      "Iteration: \t93 / 500\n",
      "Confirmed: \t18\n",
      "Tentative: \t8\n",
      "Rejected: \t104\n"
     ]
    },
    {
     "name": "stderr",
     "output_type": "stream",
     "text": [
      "/Users/shohei.mitani/.pyenv/versions/anaconda3-5.3.1/lib/python3.6/site-packages/boruta/boruta_py.py:418: RuntimeWarning: invalid value encountered in greater\n",
      "  hits = np.where(cur_imp[0] > imp_sha_max)[0]\n",
      "/Users/shohei.mitani/.pyenv/versions/anaconda3-5.3.1/lib/python3.6/site-packages/boruta/boruta_py.py:380: DataConversionWarning: A column-vector y was passed when a 1d array was expected. Please change the shape of y to (n_samples,), for example using ravel().\n",
      "  self.estimator.fit(X, y)\n"
     ]
    },
    {
     "name": "stdout",
     "output_type": "stream",
     "text": [
      "Iteration: \t94 / 500\n",
      "Confirmed: \t18\n",
      "Tentative: \t8\n",
      "Rejected: \t104\n"
     ]
    },
    {
     "name": "stderr",
     "output_type": "stream",
     "text": [
      "/Users/shohei.mitani/.pyenv/versions/anaconda3-5.3.1/lib/python3.6/site-packages/boruta/boruta_py.py:418: RuntimeWarning: invalid value encountered in greater\n",
      "  hits = np.where(cur_imp[0] > imp_sha_max)[0]\n",
      "/Users/shohei.mitani/.pyenv/versions/anaconda3-5.3.1/lib/python3.6/site-packages/boruta/boruta_py.py:380: DataConversionWarning: A column-vector y was passed when a 1d array was expected. Please change the shape of y to (n_samples,), for example using ravel().\n",
      "  self.estimator.fit(X, y)\n"
     ]
    },
    {
     "name": "stdout",
     "output_type": "stream",
     "text": [
      "Iteration: \t95 / 500\n",
      "Confirmed: \t18\n",
      "Tentative: \t8\n",
      "Rejected: \t104\n"
     ]
    },
    {
     "name": "stderr",
     "output_type": "stream",
     "text": [
      "/Users/shohei.mitani/.pyenv/versions/anaconda3-5.3.1/lib/python3.6/site-packages/boruta/boruta_py.py:418: RuntimeWarning: invalid value encountered in greater\n",
      "  hits = np.where(cur_imp[0] > imp_sha_max)[0]\n",
      "/Users/shohei.mitani/.pyenv/versions/anaconda3-5.3.1/lib/python3.6/site-packages/boruta/boruta_py.py:380: DataConversionWarning: A column-vector y was passed when a 1d array was expected. Please change the shape of y to (n_samples,), for example using ravel().\n",
      "  self.estimator.fit(X, y)\n"
     ]
    },
    {
     "name": "stdout",
     "output_type": "stream",
     "text": [
      "Iteration: \t96 / 500\n",
      "Confirmed: \t18\n",
      "Tentative: \t8\n",
      "Rejected: \t104\n"
     ]
    },
    {
     "name": "stderr",
     "output_type": "stream",
     "text": [
      "/Users/shohei.mitani/.pyenv/versions/anaconda3-5.3.1/lib/python3.6/site-packages/boruta/boruta_py.py:418: RuntimeWarning: invalid value encountered in greater\n",
      "  hits = np.where(cur_imp[0] > imp_sha_max)[0]\n",
      "/Users/shohei.mitani/.pyenv/versions/anaconda3-5.3.1/lib/python3.6/site-packages/boruta/boruta_py.py:380: DataConversionWarning: A column-vector y was passed when a 1d array was expected. Please change the shape of y to (n_samples,), for example using ravel().\n",
      "  self.estimator.fit(X, y)\n"
     ]
    },
    {
     "name": "stdout",
     "output_type": "stream",
     "text": [
      "Iteration: \t97 / 500\n",
      "Confirmed: \t18\n",
      "Tentative: \t8\n",
      "Rejected: \t104\n"
     ]
    },
    {
     "name": "stderr",
     "output_type": "stream",
     "text": [
      "/Users/shohei.mitani/.pyenv/versions/anaconda3-5.3.1/lib/python3.6/site-packages/boruta/boruta_py.py:418: RuntimeWarning: invalid value encountered in greater\n",
      "  hits = np.where(cur_imp[0] > imp_sha_max)[0]\n",
      "/Users/shohei.mitani/.pyenv/versions/anaconda3-5.3.1/lib/python3.6/site-packages/boruta/boruta_py.py:380: DataConversionWarning: A column-vector y was passed when a 1d array was expected. Please change the shape of y to (n_samples,), for example using ravel().\n",
      "  self.estimator.fit(X, y)\n"
     ]
    },
    {
     "name": "stdout",
     "output_type": "stream",
     "text": [
      "Iteration: \t98 / 500\n",
      "Confirmed: \t18\n",
      "Tentative: \t8\n",
      "Rejected: \t104\n"
     ]
    },
    {
     "name": "stderr",
     "output_type": "stream",
     "text": [
      "/Users/shohei.mitani/.pyenv/versions/anaconda3-5.3.1/lib/python3.6/site-packages/boruta/boruta_py.py:418: RuntimeWarning: invalid value encountered in greater\n",
      "  hits = np.where(cur_imp[0] > imp_sha_max)[0]\n",
      "/Users/shohei.mitani/.pyenv/versions/anaconda3-5.3.1/lib/python3.6/site-packages/boruta/boruta_py.py:380: DataConversionWarning: A column-vector y was passed when a 1d array was expected. Please change the shape of y to (n_samples,), for example using ravel().\n",
      "  self.estimator.fit(X, y)\n"
     ]
    },
    {
     "name": "stdout",
     "output_type": "stream",
     "text": [
      "Iteration: \t99 / 500\n",
      "Confirmed: \t18\n",
      "Tentative: \t8\n",
      "Rejected: \t104\n"
     ]
    },
    {
     "name": "stderr",
     "output_type": "stream",
     "text": [
      "/Users/shohei.mitani/.pyenv/versions/anaconda3-5.3.1/lib/python3.6/site-packages/boruta/boruta_py.py:418: RuntimeWarning: invalid value encountered in greater\n",
      "  hits = np.where(cur_imp[0] > imp_sha_max)[0]\n",
      "/Users/shohei.mitani/.pyenv/versions/anaconda3-5.3.1/lib/python3.6/site-packages/boruta/boruta_py.py:380: DataConversionWarning: A column-vector y was passed when a 1d array was expected. Please change the shape of y to (n_samples,), for example using ravel().\n",
      "  self.estimator.fit(X, y)\n"
     ]
    },
    {
     "name": "stdout",
     "output_type": "stream",
     "text": [
      "Iteration: \t100 / 500\n",
      "Confirmed: \t18\n",
      "Tentative: \t8\n",
      "Rejected: \t104\n"
     ]
    },
    {
     "name": "stderr",
     "output_type": "stream",
     "text": [
      "/Users/shohei.mitani/.pyenv/versions/anaconda3-5.3.1/lib/python3.6/site-packages/boruta/boruta_py.py:418: RuntimeWarning: invalid value encountered in greater\n",
      "  hits = np.where(cur_imp[0] > imp_sha_max)[0]\n",
      "/Users/shohei.mitani/.pyenv/versions/anaconda3-5.3.1/lib/python3.6/site-packages/boruta/boruta_py.py:380: DataConversionWarning: A column-vector y was passed when a 1d array was expected. Please change the shape of y to (n_samples,), for example using ravel().\n",
      "  self.estimator.fit(X, y)\n"
     ]
    },
    {
     "name": "stdout",
     "output_type": "stream",
     "text": [
      "Iteration: \t101 / 500\n",
      "Confirmed: \t18\n",
      "Tentative: \t8\n",
      "Rejected: \t104\n"
     ]
    },
    {
     "name": "stderr",
     "output_type": "stream",
     "text": [
      "/Users/shohei.mitani/.pyenv/versions/anaconda3-5.3.1/lib/python3.6/site-packages/boruta/boruta_py.py:418: RuntimeWarning: invalid value encountered in greater\n",
      "  hits = np.where(cur_imp[0] > imp_sha_max)[0]\n",
      "/Users/shohei.mitani/.pyenv/versions/anaconda3-5.3.1/lib/python3.6/site-packages/boruta/boruta_py.py:380: DataConversionWarning: A column-vector y was passed when a 1d array was expected. Please change the shape of y to (n_samples,), for example using ravel().\n",
      "  self.estimator.fit(X, y)\n"
     ]
    },
    {
     "name": "stdout",
     "output_type": "stream",
     "text": [
      "Iteration: \t102 / 500\n",
      "Confirmed: \t18\n",
      "Tentative: \t8\n",
      "Rejected: \t104\n"
     ]
    },
    {
     "name": "stderr",
     "output_type": "stream",
     "text": [
      "/Users/shohei.mitani/.pyenv/versions/anaconda3-5.3.1/lib/python3.6/site-packages/boruta/boruta_py.py:418: RuntimeWarning: invalid value encountered in greater\n",
      "  hits = np.where(cur_imp[0] > imp_sha_max)[0]\n",
      "/Users/shohei.mitani/.pyenv/versions/anaconda3-5.3.1/lib/python3.6/site-packages/boruta/boruta_py.py:380: DataConversionWarning: A column-vector y was passed when a 1d array was expected. Please change the shape of y to (n_samples,), for example using ravel().\n",
      "  self.estimator.fit(X, y)\n"
     ]
    },
    {
     "name": "stdout",
     "output_type": "stream",
     "text": [
      "Iteration: \t103 / 500\n",
      "Confirmed: \t18\n",
      "Tentative: \t8\n",
      "Rejected: \t104\n"
     ]
    },
    {
     "name": "stderr",
     "output_type": "stream",
     "text": [
      "/Users/shohei.mitani/.pyenv/versions/anaconda3-5.3.1/lib/python3.6/site-packages/boruta/boruta_py.py:418: RuntimeWarning: invalid value encountered in greater\n",
      "  hits = np.where(cur_imp[0] > imp_sha_max)[0]\n",
      "/Users/shohei.mitani/.pyenv/versions/anaconda3-5.3.1/lib/python3.6/site-packages/boruta/boruta_py.py:380: DataConversionWarning: A column-vector y was passed when a 1d array was expected. Please change the shape of y to (n_samples,), for example using ravel().\n",
      "  self.estimator.fit(X, y)\n"
     ]
    },
    {
     "name": "stdout",
     "output_type": "stream",
     "text": [
      "Iteration: \t104 / 500\n",
      "Confirmed: \t18\n",
      "Tentative: \t8\n",
      "Rejected: \t104\n"
     ]
    },
    {
     "name": "stderr",
     "output_type": "stream",
     "text": [
      "/Users/shohei.mitani/.pyenv/versions/anaconda3-5.3.1/lib/python3.6/site-packages/boruta/boruta_py.py:418: RuntimeWarning: invalid value encountered in greater\n",
      "  hits = np.where(cur_imp[0] > imp_sha_max)[0]\n",
      "/Users/shohei.mitani/.pyenv/versions/anaconda3-5.3.1/lib/python3.6/site-packages/boruta/boruta_py.py:380: DataConversionWarning: A column-vector y was passed when a 1d array was expected. Please change the shape of y to (n_samples,), for example using ravel().\n",
      "  self.estimator.fit(X, y)\n"
     ]
    },
    {
     "name": "stdout",
     "output_type": "stream",
     "text": [
      "Iteration: \t105 / 500\n",
      "Confirmed: \t18\n",
      "Tentative: \t8\n",
      "Rejected: \t104\n"
     ]
    },
    {
     "name": "stderr",
     "output_type": "stream",
     "text": [
      "/Users/shohei.mitani/.pyenv/versions/anaconda3-5.3.1/lib/python3.6/site-packages/boruta/boruta_py.py:418: RuntimeWarning: invalid value encountered in greater\n",
      "  hits = np.where(cur_imp[0] > imp_sha_max)[0]\n",
      "/Users/shohei.mitani/.pyenv/versions/anaconda3-5.3.1/lib/python3.6/site-packages/boruta/boruta_py.py:380: DataConversionWarning: A column-vector y was passed when a 1d array was expected. Please change the shape of y to (n_samples,), for example using ravel().\n",
      "  self.estimator.fit(X, y)\n"
     ]
    },
    {
     "name": "stdout",
     "output_type": "stream",
     "text": [
      "Iteration: \t106 / 500\n",
      "Confirmed: \t19\n",
      "Tentative: \t7\n",
      "Rejected: \t104\n"
     ]
    },
    {
     "name": "stderr",
     "output_type": "stream",
     "text": [
      "/Users/shohei.mitani/.pyenv/versions/anaconda3-5.3.1/lib/python3.6/site-packages/boruta/boruta_py.py:418: RuntimeWarning: invalid value encountered in greater\n",
      "  hits = np.where(cur_imp[0] > imp_sha_max)[0]\n",
      "/Users/shohei.mitani/.pyenv/versions/anaconda3-5.3.1/lib/python3.6/site-packages/boruta/boruta_py.py:380: DataConversionWarning: A column-vector y was passed when a 1d array was expected. Please change the shape of y to (n_samples,), for example using ravel().\n",
      "  self.estimator.fit(X, y)\n"
     ]
    },
    {
     "name": "stdout",
     "output_type": "stream",
     "text": [
      "Iteration: \t107 / 500\n",
      "Confirmed: \t19\n",
      "Tentative: \t7\n",
      "Rejected: \t104\n"
     ]
    },
    {
     "name": "stderr",
     "output_type": "stream",
     "text": [
      "/Users/shohei.mitani/.pyenv/versions/anaconda3-5.3.1/lib/python3.6/site-packages/boruta/boruta_py.py:418: RuntimeWarning: invalid value encountered in greater\n",
      "  hits = np.where(cur_imp[0] > imp_sha_max)[0]\n",
      "/Users/shohei.mitani/.pyenv/versions/anaconda3-5.3.1/lib/python3.6/site-packages/boruta/boruta_py.py:380: DataConversionWarning: A column-vector y was passed when a 1d array was expected. Please change the shape of y to (n_samples,), for example using ravel().\n",
      "  self.estimator.fit(X, y)\n"
     ]
    },
    {
     "name": "stdout",
     "output_type": "stream",
     "text": [
      "Iteration: \t108 / 500\n",
      "Confirmed: \t19\n",
      "Tentative: \t7\n",
      "Rejected: \t104\n"
     ]
    },
    {
     "name": "stderr",
     "output_type": "stream",
     "text": [
      "/Users/shohei.mitani/.pyenv/versions/anaconda3-5.3.1/lib/python3.6/site-packages/boruta/boruta_py.py:418: RuntimeWarning: invalid value encountered in greater\n",
      "  hits = np.where(cur_imp[0] > imp_sha_max)[0]\n",
      "/Users/shohei.mitani/.pyenv/versions/anaconda3-5.3.1/lib/python3.6/site-packages/boruta/boruta_py.py:380: DataConversionWarning: A column-vector y was passed when a 1d array was expected. Please change the shape of y to (n_samples,), for example using ravel().\n",
      "  self.estimator.fit(X, y)\n"
     ]
    },
    {
     "name": "stdout",
     "output_type": "stream",
     "text": [
      "Iteration: \t109 / 500\n",
      "Confirmed: \t19\n",
      "Tentative: \t7\n",
      "Rejected: \t104\n"
     ]
    },
    {
     "name": "stderr",
     "output_type": "stream",
     "text": [
      "/Users/shohei.mitani/.pyenv/versions/anaconda3-5.3.1/lib/python3.6/site-packages/boruta/boruta_py.py:418: RuntimeWarning: invalid value encountered in greater\n",
      "  hits = np.where(cur_imp[0] > imp_sha_max)[0]\n",
      "/Users/shohei.mitani/.pyenv/versions/anaconda3-5.3.1/lib/python3.6/site-packages/boruta/boruta_py.py:380: DataConversionWarning: A column-vector y was passed when a 1d array was expected. Please change the shape of y to (n_samples,), for example using ravel().\n",
      "  self.estimator.fit(X, y)\n"
     ]
    },
    {
     "name": "stdout",
     "output_type": "stream",
     "text": [
      "Iteration: \t110 / 500\n",
      "Confirmed: \t19\n",
      "Tentative: \t7\n",
      "Rejected: \t104\n"
     ]
    },
    {
     "name": "stderr",
     "output_type": "stream",
     "text": [
      "/Users/shohei.mitani/.pyenv/versions/anaconda3-5.3.1/lib/python3.6/site-packages/boruta/boruta_py.py:418: RuntimeWarning: invalid value encountered in greater\n",
      "  hits = np.where(cur_imp[0] > imp_sha_max)[0]\n",
      "/Users/shohei.mitani/.pyenv/versions/anaconda3-5.3.1/lib/python3.6/site-packages/boruta/boruta_py.py:380: DataConversionWarning: A column-vector y was passed when a 1d array was expected. Please change the shape of y to (n_samples,), for example using ravel().\n",
      "  self.estimator.fit(X, y)\n"
     ]
    },
    {
     "name": "stdout",
     "output_type": "stream",
     "text": [
      "Iteration: \t111 / 500\n",
      "Confirmed: \t19\n",
      "Tentative: \t7\n",
      "Rejected: \t104\n"
     ]
    },
    {
     "name": "stderr",
     "output_type": "stream",
     "text": [
      "/Users/shohei.mitani/.pyenv/versions/anaconda3-5.3.1/lib/python3.6/site-packages/boruta/boruta_py.py:418: RuntimeWarning: invalid value encountered in greater\n",
      "  hits = np.where(cur_imp[0] > imp_sha_max)[0]\n",
      "/Users/shohei.mitani/.pyenv/versions/anaconda3-5.3.1/lib/python3.6/site-packages/boruta/boruta_py.py:380: DataConversionWarning: A column-vector y was passed when a 1d array was expected. Please change the shape of y to (n_samples,), for example using ravel().\n",
      "  self.estimator.fit(X, y)\n"
     ]
    },
    {
     "name": "stdout",
     "output_type": "stream",
     "text": [
      "Iteration: \t112 / 500\n",
      "Confirmed: \t19\n",
      "Tentative: \t7\n",
      "Rejected: \t104\n"
     ]
    },
    {
     "name": "stderr",
     "output_type": "stream",
     "text": [
      "/Users/shohei.mitani/.pyenv/versions/anaconda3-5.3.1/lib/python3.6/site-packages/boruta/boruta_py.py:418: RuntimeWarning: invalid value encountered in greater\n",
      "  hits = np.where(cur_imp[0] > imp_sha_max)[0]\n",
      "/Users/shohei.mitani/.pyenv/versions/anaconda3-5.3.1/lib/python3.6/site-packages/boruta/boruta_py.py:380: DataConversionWarning: A column-vector y was passed when a 1d array was expected. Please change the shape of y to (n_samples,), for example using ravel().\n",
      "  self.estimator.fit(X, y)\n"
     ]
    },
    {
     "name": "stdout",
     "output_type": "stream",
     "text": [
      "Iteration: \t113 / 500\n",
      "Confirmed: \t19\n",
      "Tentative: \t7\n",
      "Rejected: \t104\n"
     ]
    },
    {
     "name": "stderr",
     "output_type": "stream",
     "text": [
      "/Users/shohei.mitani/.pyenv/versions/anaconda3-5.3.1/lib/python3.6/site-packages/boruta/boruta_py.py:418: RuntimeWarning: invalid value encountered in greater\n",
      "  hits = np.where(cur_imp[0] > imp_sha_max)[0]\n",
      "/Users/shohei.mitani/.pyenv/versions/anaconda3-5.3.1/lib/python3.6/site-packages/boruta/boruta_py.py:380: DataConversionWarning: A column-vector y was passed when a 1d array was expected. Please change the shape of y to (n_samples,), for example using ravel().\n",
      "  self.estimator.fit(X, y)\n"
     ]
    },
    {
     "name": "stdout",
     "output_type": "stream",
     "text": [
      "Iteration: \t114 / 500\n",
      "Confirmed: \t19\n",
      "Tentative: \t7\n",
      "Rejected: \t104\n"
     ]
    },
    {
     "name": "stderr",
     "output_type": "stream",
     "text": [
      "/Users/shohei.mitani/.pyenv/versions/anaconda3-5.3.1/lib/python3.6/site-packages/boruta/boruta_py.py:418: RuntimeWarning: invalid value encountered in greater\n",
      "  hits = np.where(cur_imp[0] > imp_sha_max)[0]\n",
      "/Users/shohei.mitani/.pyenv/versions/anaconda3-5.3.1/lib/python3.6/site-packages/boruta/boruta_py.py:380: DataConversionWarning: A column-vector y was passed when a 1d array was expected. Please change the shape of y to (n_samples,), for example using ravel().\n",
      "  self.estimator.fit(X, y)\n"
     ]
    },
    {
     "name": "stdout",
     "output_type": "stream",
     "text": [
      "Iteration: \t115 / 500\n",
      "Confirmed: \t19\n",
      "Tentative: \t7\n",
      "Rejected: \t104\n"
     ]
    },
    {
     "name": "stderr",
     "output_type": "stream",
     "text": [
      "/Users/shohei.mitani/.pyenv/versions/anaconda3-5.3.1/lib/python3.6/site-packages/boruta/boruta_py.py:418: RuntimeWarning: invalid value encountered in greater\n",
      "  hits = np.where(cur_imp[0] > imp_sha_max)[0]\n",
      "/Users/shohei.mitani/.pyenv/versions/anaconda3-5.3.1/lib/python3.6/site-packages/boruta/boruta_py.py:380: DataConversionWarning: A column-vector y was passed when a 1d array was expected. Please change the shape of y to (n_samples,), for example using ravel().\n",
      "  self.estimator.fit(X, y)\n"
     ]
    },
    {
     "name": "stdout",
     "output_type": "stream",
     "text": [
      "Iteration: \t116 / 500\n",
      "Confirmed: \t19\n",
      "Tentative: \t7\n",
      "Rejected: \t104\n"
     ]
    },
    {
     "name": "stderr",
     "output_type": "stream",
     "text": [
      "/Users/shohei.mitani/.pyenv/versions/anaconda3-5.3.1/lib/python3.6/site-packages/boruta/boruta_py.py:418: RuntimeWarning: invalid value encountered in greater\n",
      "  hits = np.where(cur_imp[0] > imp_sha_max)[0]\n",
      "/Users/shohei.mitani/.pyenv/versions/anaconda3-5.3.1/lib/python3.6/site-packages/boruta/boruta_py.py:380: DataConversionWarning: A column-vector y was passed when a 1d array was expected. Please change the shape of y to (n_samples,), for example using ravel().\n",
      "  self.estimator.fit(X, y)\n"
     ]
    },
    {
     "name": "stdout",
     "output_type": "stream",
     "text": [
      "Iteration: \t117 / 500\n",
      "Confirmed: \t19\n",
      "Tentative: \t7\n",
      "Rejected: \t104\n"
     ]
    },
    {
     "name": "stderr",
     "output_type": "stream",
     "text": [
      "/Users/shohei.mitani/.pyenv/versions/anaconda3-5.3.1/lib/python3.6/site-packages/boruta/boruta_py.py:418: RuntimeWarning: invalid value encountered in greater\n",
      "  hits = np.where(cur_imp[0] > imp_sha_max)[0]\n",
      "/Users/shohei.mitani/.pyenv/versions/anaconda3-5.3.1/lib/python3.6/site-packages/boruta/boruta_py.py:380: DataConversionWarning: A column-vector y was passed when a 1d array was expected. Please change the shape of y to (n_samples,), for example using ravel().\n",
      "  self.estimator.fit(X, y)\n"
     ]
    },
    {
     "name": "stdout",
     "output_type": "stream",
     "text": [
      "Iteration: \t118 / 500\n",
      "Confirmed: \t19\n",
      "Tentative: \t7\n",
      "Rejected: \t104\n"
     ]
    },
    {
     "name": "stderr",
     "output_type": "stream",
     "text": [
      "/Users/shohei.mitani/.pyenv/versions/anaconda3-5.3.1/lib/python3.6/site-packages/boruta/boruta_py.py:418: RuntimeWarning: invalid value encountered in greater\n",
      "  hits = np.where(cur_imp[0] > imp_sha_max)[0]\n",
      "/Users/shohei.mitani/.pyenv/versions/anaconda3-5.3.1/lib/python3.6/site-packages/boruta/boruta_py.py:380: DataConversionWarning: A column-vector y was passed when a 1d array was expected. Please change the shape of y to (n_samples,), for example using ravel().\n",
      "  self.estimator.fit(X, y)\n"
     ]
    },
    {
     "name": "stdout",
     "output_type": "stream",
     "text": [
      "Iteration: \t119 / 500\n",
      "Confirmed: \t19\n",
      "Tentative: \t7\n",
      "Rejected: \t104\n"
     ]
    },
    {
     "name": "stderr",
     "output_type": "stream",
     "text": [
      "/Users/shohei.mitani/.pyenv/versions/anaconda3-5.3.1/lib/python3.6/site-packages/boruta/boruta_py.py:418: RuntimeWarning: invalid value encountered in greater\n",
      "  hits = np.where(cur_imp[0] > imp_sha_max)[0]\n",
      "/Users/shohei.mitani/.pyenv/versions/anaconda3-5.3.1/lib/python3.6/site-packages/boruta/boruta_py.py:380: DataConversionWarning: A column-vector y was passed when a 1d array was expected. Please change the shape of y to (n_samples,), for example using ravel().\n",
      "  self.estimator.fit(X, y)\n"
     ]
    },
    {
     "name": "stdout",
     "output_type": "stream",
     "text": [
      "Iteration: \t120 / 500\n",
      "Confirmed: \t19\n",
      "Tentative: \t7\n",
      "Rejected: \t104\n"
     ]
    },
    {
     "name": "stderr",
     "output_type": "stream",
     "text": [
      "/Users/shohei.mitani/.pyenv/versions/anaconda3-5.3.1/lib/python3.6/site-packages/boruta/boruta_py.py:418: RuntimeWarning: invalid value encountered in greater\n",
      "  hits = np.where(cur_imp[0] > imp_sha_max)[0]\n",
      "/Users/shohei.mitani/.pyenv/versions/anaconda3-5.3.1/lib/python3.6/site-packages/boruta/boruta_py.py:380: DataConversionWarning: A column-vector y was passed when a 1d array was expected. Please change the shape of y to (n_samples,), for example using ravel().\n",
      "  self.estimator.fit(X, y)\n"
     ]
    },
    {
     "name": "stdout",
     "output_type": "stream",
     "text": [
      "Iteration: \t121 / 500\n",
      "Confirmed: \t19\n",
      "Tentative: \t7\n",
      "Rejected: \t104\n"
     ]
    },
    {
     "name": "stderr",
     "output_type": "stream",
     "text": [
      "/Users/shohei.mitani/.pyenv/versions/anaconda3-5.3.1/lib/python3.6/site-packages/boruta/boruta_py.py:418: RuntimeWarning: invalid value encountered in greater\n",
      "  hits = np.where(cur_imp[0] > imp_sha_max)[0]\n",
      "/Users/shohei.mitani/.pyenv/versions/anaconda3-5.3.1/lib/python3.6/site-packages/boruta/boruta_py.py:380: DataConversionWarning: A column-vector y was passed when a 1d array was expected. Please change the shape of y to (n_samples,), for example using ravel().\n",
      "  self.estimator.fit(X, y)\n"
     ]
    },
    {
     "name": "stdout",
     "output_type": "stream",
     "text": [
      "Iteration: \t122 / 500\n",
      "Confirmed: \t19\n",
      "Tentative: \t6\n",
      "Rejected: \t105\n"
     ]
    },
    {
     "name": "stderr",
     "output_type": "stream",
     "text": [
      "/Users/shohei.mitani/.pyenv/versions/anaconda3-5.3.1/lib/python3.6/site-packages/boruta/boruta_py.py:418: RuntimeWarning: invalid value encountered in greater\n",
      "  hits = np.where(cur_imp[0] > imp_sha_max)[0]\n",
      "/Users/shohei.mitani/.pyenv/versions/anaconda3-5.3.1/lib/python3.6/site-packages/boruta/boruta_py.py:380: DataConversionWarning: A column-vector y was passed when a 1d array was expected. Please change the shape of y to (n_samples,), for example using ravel().\n",
      "  self.estimator.fit(X, y)\n"
     ]
    },
    {
     "name": "stdout",
     "output_type": "stream",
     "text": [
      "Iteration: \t123 / 500\n",
      "Confirmed: \t19\n",
      "Tentative: \t6\n",
      "Rejected: \t105\n"
     ]
    },
    {
     "name": "stderr",
     "output_type": "stream",
     "text": [
      "/Users/shohei.mitani/.pyenv/versions/anaconda3-5.3.1/lib/python3.6/site-packages/boruta/boruta_py.py:418: RuntimeWarning: invalid value encountered in greater\n",
      "  hits = np.where(cur_imp[0] > imp_sha_max)[0]\n",
      "/Users/shohei.mitani/.pyenv/versions/anaconda3-5.3.1/lib/python3.6/site-packages/boruta/boruta_py.py:380: DataConversionWarning: A column-vector y was passed when a 1d array was expected. Please change the shape of y to (n_samples,), for example using ravel().\n",
      "  self.estimator.fit(X, y)\n"
     ]
    },
    {
     "name": "stdout",
     "output_type": "stream",
     "text": [
      "Iteration: \t124 / 500\n",
      "Confirmed: \t19\n",
      "Tentative: \t6\n",
      "Rejected: \t105\n"
     ]
    },
    {
     "name": "stderr",
     "output_type": "stream",
     "text": [
      "/Users/shohei.mitani/.pyenv/versions/anaconda3-5.3.1/lib/python3.6/site-packages/boruta/boruta_py.py:418: RuntimeWarning: invalid value encountered in greater\n",
      "  hits = np.where(cur_imp[0] > imp_sha_max)[0]\n",
      "/Users/shohei.mitani/.pyenv/versions/anaconda3-5.3.1/lib/python3.6/site-packages/boruta/boruta_py.py:380: DataConversionWarning: A column-vector y was passed when a 1d array was expected. Please change the shape of y to (n_samples,), for example using ravel().\n",
      "  self.estimator.fit(X, y)\n"
     ]
    },
    {
     "name": "stdout",
     "output_type": "stream",
     "text": [
      "Iteration: \t125 / 500\n",
      "Confirmed: \t19\n",
      "Tentative: \t6\n",
      "Rejected: \t105\n"
     ]
    },
    {
     "name": "stderr",
     "output_type": "stream",
     "text": [
      "/Users/shohei.mitani/.pyenv/versions/anaconda3-5.3.1/lib/python3.6/site-packages/boruta/boruta_py.py:418: RuntimeWarning: invalid value encountered in greater\n",
      "  hits = np.where(cur_imp[0] > imp_sha_max)[0]\n",
      "/Users/shohei.mitani/.pyenv/versions/anaconda3-5.3.1/lib/python3.6/site-packages/boruta/boruta_py.py:380: DataConversionWarning: A column-vector y was passed when a 1d array was expected. Please change the shape of y to (n_samples,), for example using ravel().\n",
      "  self.estimator.fit(X, y)\n"
     ]
    },
    {
     "name": "stdout",
     "output_type": "stream",
     "text": [
      "Iteration: \t126 / 500\n",
      "Confirmed: \t19\n",
      "Tentative: \t6\n",
      "Rejected: \t105\n"
     ]
    },
    {
     "name": "stderr",
     "output_type": "stream",
     "text": [
      "/Users/shohei.mitani/.pyenv/versions/anaconda3-5.3.1/lib/python3.6/site-packages/boruta/boruta_py.py:418: RuntimeWarning: invalid value encountered in greater\n",
      "  hits = np.where(cur_imp[0] > imp_sha_max)[0]\n",
      "/Users/shohei.mitani/.pyenv/versions/anaconda3-5.3.1/lib/python3.6/site-packages/boruta/boruta_py.py:380: DataConversionWarning: A column-vector y was passed when a 1d array was expected. Please change the shape of y to (n_samples,), for example using ravel().\n",
      "  self.estimator.fit(X, y)\n"
     ]
    },
    {
     "name": "stdout",
     "output_type": "stream",
     "text": [
      "Iteration: \t127 / 500\n",
      "Confirmed: \t19\n",
      "Tentative: \t6\n",
      "Rejected: \t105\n"
     ]
    },
    {
     "name": "stderr",
     "output_type": "stream",
     "text": [
      "/Users/shohei.mitani/.pyenv/versions/anaconda3-5.3.1/lib/python3.6/site-packages/boruta/boruta_py.py:418: RuntimeWarning: invalid value encountered in greater\n",
      "  hits = np.where(cur_imp[0] > imp_sha_max)[0]\n",
      "/Users/shohei.mitani/.pyenv/versions/anaconda3-5.3.1/lib/python3.6/site-packages/boruta/boruta_py.py:380: DataConversionWarning: A column-vector y was passed when a 1d array was expected. Please change the shape of y to (n_samples,), for example using ravel().\n",
      "  self.estimator.fit(X, y)\n"
     ]
    },
    {
     "name": "stdout",
     "output_type": "stream",
     "text": [
      "Iteration: \t128 / 500\n",
      "Confirmed: \t19\n",
      "Tentative: \t6\n",
      "Rejected: \t105\n"
     ]
    },
    {
     "name": "stderr",
     "output_type": "stream",
     "text": [
      "/Users/shohei.mitani/.pyenv/versions/anaconda3-5.3.1/lib/python3.6/site-packages/boruta/boruta_py.py:418: RuntimeWarning: invalid value encountered in greater\n",
      "  hits = np.where(cur_imp[0] > imp_sha_max)[0]\n",
      "/Users/shohei.mitani/.pyenv/versions/anaconda3-5.3.1/lib/python3.6/site-packages/boruta/boruta_py.py:380: DataConversionWarning: A column-vector y was passed when a 1d array was expected. Please change the shape of y to (n_samples,), for example using ravel().\n",
      "  self.estimator.fit(X, y)\n"
     ]
    },
    {
     "name": "stdout",
     "output_type": "stream",
     "text": [
      "Iteration: \t129 / 500\n",
      "Confirmed: \t19\n",
      "Tentative: \t6\n",
      "Rejected: \t105\n"
     ]
    },
    {
     "name": "stderr",
     "output_type": "stream",
     "text": [
      "/Users/shohei.mitani/.pyenv/versions/anaconda3-5.3.1/lib/python3.6/site-packages/boruta/boruta_py.py:418: RuntimeWarning: invalid value encountered in greater\n",
      "  hits = np.where(cur_imp[0] > imp_sha_max)[0]\n",
      "/Users/shohei.mitani/.pyenv/versions/anaconda3-5.3.1/lib/python3.6/site-packages/boruta/boruta_py.py:380: DataConversionWarning: A column-vector y was passed when a 1d array was expected. Please change the shape of y to (n_samples,), for example using ravel().\n",
      "  self.estimator.fit(X, y)\n"
     ]
    },
    {
     "name": "stdout",
     "output_type": "stream",
     "text": [
      "Iteration: \t130 / 500\n",
      "Confirmed: \t19\n",
      "Tentative: \t6\n",
      "Rejected: \t105\n"
     ]
    },
    {
     "name": "stderr",
     "output_type": "stream",
     "text": [
      "/Users/shohei.mitani/.pyenv/versions/anaconda3-5.3.1/lib/python3.6/site-packages/boruta/boruta_py.py:418: RuntimeWarning: invalid value encountered in greater\n",
      "  hits = np.where(cur_imp[0] > imp_sha_max)[0]\n",
      "/Users/shohei.mitani/.pyenv/versions/anaconda3-5.3.1/lib/python3.6/site-packages/boruta/boruta_py.py:380: DataConversionWarning: A column-vector y was passed when a 1d array was expected. Please change the shape of y to (n_samples,), for example using ravel().\n",
      "  self.estimator.fit(X, y)\n"
     ]
    },
    {
     "name": "stdout",
     "output_type": "stream",
     "text": [
      "Iteration: \t131 / 500\n",
      "Confirmed: \t19\n",
      "Tentative: \t6\n",
      "Rejected: \t105\n"
     ]
    },
    {
     "name": "stderr",
     "output_type": "stream",
     "text": [
      "/Users/shohei.mitani/.pyenv/versions/anaconda3-5.3.1/lib/python3.6/site-packages/boruta/boruta_py.py:418: RuntimeWarning: invalid value encountered in greater\n",
      "  hits = np.where(cur_imp[0] > imp_sha_max)[0]\n",
      "/Users/shohei.mitani/.pyenv/versions/anaconda3-5.3.1/lib/python3.6/site-packages/boruta/boruta_py.py:380: DataConversionWarning: A column-vector y was passed when a 1d array was expected. Please change the shape of y to (n_samples,), for example using ravel().\n",
      "  self.estimator.fit(X, y)\n"
     ]
    },
    {
     "name": "stdout",
     "output_type": "stream",
     "text": [
      "Iteration: \t132 / 500\n",
      "Confirmed: \t19\n",
      "Tentative: \t6\n",
      "Rejected: \t105\n"
     ]
    },
    {
     "name": "stderr",
     "output_type": "stream",
     "text": [
      "/Users/shohei.mitani/.pyenv/versions/anaconda3-5.3.1/lib/python3.6/site-packages/boruta/boruta_py.py:418: RuntimeWarning: invalid value encountered in greater\n",
      "  hits = np.where(cur_imp[0] > imp_sha_max)[0]\n",
      "/Users/shohei.mitani/.pyenv/versions/anaconda3-5.3.1/lib/python3.6/site-packages/boruta/boruta_py.py:380: DataConversionWarning: A column-vector y was passed when a 1d array was expected. Please change the shape of y to (n_samples,), for example using ravel().\n",
      "  self.estimator.fit(X, y)\n"
     ]
    },
    {
     "name": "stdout",
     "output_type": "stream",
     "text": [
      "Iteration: \t133 / 500\n",
      "Confirmed: \t19\n",
      "Tentative: \t6\n",
      "Rejected: \t105\n"
     ]
    },
    {
     "name": "stderr",
     "output_type": "stream",
     "text": [
      "/Users/shohei.mitani/.pyenv/versions/anaconda3-5.3.1/lib/python3.6/site-packages/boruta/boruta_py.py:418: RuntimeWarning: invalid value encountered in greater\n",
      "  hits = np.where(cur_imp[0] > imp_sha_max)[0]\n",
      "/Users/shohei.mitani/.pyenv/versions/anaconda3-5.3.1/lib/python3.6/site-packages/boruta/boruta_py.py:380: DataConversionWarning: A column-vector y was passed when a 1d array was expected. Please change the shape of y to (n_samples,), for example using ravel().\n",
      "  self.estimator.fit(X, y)\n"
     ]
    },
    {
     "name": "stdout",
     "output_type": "stream",
     "text": [
      "Iteration: \t134 / 500\n",
      "Confirmed: \t19\n",
      "Tentative: \t6\n",
      "Rejected: \t105\n"
     ]
    },
    {
     "name": "stderr",
     "output_type": "stream",
     "text": [
      "/Users/shohei.mitani/.pyenv/versions/anaconda3-5.3.1/lib/python3.6/site-packages/boruta/boruta_py.py:418: RuntimeWarning: invalid value encountered in greater\n",
      "  hits = np.where(cur_imp[0] > imp_sha_max)[0]\n",
      "/Users/shohei.mitani/.pyenv/versions/anaconda3-5.3.1/lib/python3.6/site-packages/boruta/boruta_py.py:380: DataConversionWarning: A column-vector y was passed when a 1d array was expected. Please change the shape of y to (n_samples,), for example using ravel().\n",
      "  self.estimator.fit(X, y)\n"
     ]
    },
    {
     "name": "stdout",
     "output_type": "stream",
     "text": [
      "Iteration: \t135 / 500\n",
      "Confirmed: \t19\n",
      "Tentative: \t6\n",
      "Rejected: \t105\n"
     ]
    },
    {
     "name": "stderr",
     "output_type": "stream",
     "text": [
      "/Users/shohei.mitani/.pyenv/versions/anaconda3-5.3.1/lib/python3.6/site-packages/boruta/boruta_py.py:418: RuntimeWarning: invalid value encountered in greater\n",
      "  hits = np.where(cur_imp[0] > imp_sha_max)[0]\n",
      "/Users/shohei.mitani/.pyenv/versions/anaconda3-5.3.1/lib/python3.6/site-packages/boruta/boruta_py.py:380: DataConversionWarning: A column-vector y was passed when a 1d array was expected. Please change the shape of y to (n_samples,), for example using ravel().\n",
      "  self.estimator.fit(X, y)\n"
     ]
    },
    {
     "name": "stdout",
     "output_type": "stream",
     "text": [
      "Iteration: \t136 / 500\n",
      "Confirmed: \t19\n",
      "Tentative: \t6\n",
      "Rejected: \t105\n"
     ]
    },
    {
     "name": "stderr",
     "output_type": "stream",
     "text": [
      "/Users/shohei.mitani/.pyenv/versions/anaconda3-5.3.1/lib/python3.6/site-packages/boruta/boruta_py.py:418: RuntimeWarning: invalid value encountered in greater\n",
      "  hits = np.where(cur_imp[0] > imp_sha_max)[0]\n",
      "/Users/shohei.mitani/.pyenv/versions/anaconda3-5.3.1/lib/python3.6/site-packages/boruta/boruta_py.py:380: DataConversionWarning: A column-vector y was passed when a 1d array was expected. Please change the shape of y to (n_samples,), for example using ravel().\n",
      "  self.estimator.fit(X, y)\n"
     ]
    },
    {
     "name": "stdout",
     "output_type": "stream",
     "text": [
      "Iteration: \t137 / 500\n",
      "Confirmed: \t19\n",
      "Tentative: \t6\n",
      "Rejected: \t105\n"
     ]
    },
    {
     "name": "stderr",
     "output_type": "stream",
     "text": [
      "/Users/shohei.mitani/.pyenv/versions/anaconda3-5.3.1/lib/python3.6/site-packages/boruta/boruta_py.py:418: RuntimeWarning: invalid value encountered in greater\n",
      "  hits = np.where(cur_imp[0] > imp_sha_max)[0]\n",
      "/Users/shohei.mitani/.pyenv/versions/anaconda3-5.3.1/lib/python3.6/site-packages/boruta/boruta_py.py:380: DataConversionWarning: A column-vector y was passed when a 1d array was expected. Please change the shape of y to (n_samples,), for example using ravel().\n",
      "  self.estimator.fit(X, y)\n"
     ]
    },
    {
     "name": "stdout",
     "output_type": "stream",
     "text": [
      "Iteration: \t138 / 500\n",
      "Confirmed: \t19\n",
      "Tentative: \t6\n",
      "Rejected: \t105\n"
     ]
    },
    {
     "name": "stderr",
     "output_type": "stream",
     "text": [
      "/Users/shohei.mitani/.pyenv/versions/anaconda3-5.3.1/lib/python3.6/site-packages/boruta/boruta_py.py:418: RuntimeWarning: invalid value encountered in greater\n",
      "  hits = np.where(cur_imp[0] > imp_sha_max)[0]\n",
      "/Users/shohei.mitani/.pyenv/versions/anaconda3-5.3.1/lib/python3.6/site-packages/boruta/boruta_py.py:380: DataConversionWarning: A column-vector y was passed when a 1d array was expected. Please change the shape of y to (n_samples,), for example using ravel().\n",
      "  self.estimator.fit(X, y)\n"
     ]
    },
    {
     "name": "stdout",
     "output_type": "stream",
     "text": [
      "Iteration: \t139 / 500\n",
      "Confirmed: \t19\n",
      "Tentative: \t6\n",
      "Rejected: \t105\n"
     ]
    },
    {
     "name": "stderr",
     "output_type": "stream",
     "text": [
      "/Users/shohei.mitani/.pyenv/versions/anaconda3-5.3.1/lib/python3.6/site-packages/boruta/boruta_py.py:418: RuntimeWarning: invalid value encountered in greater\n",
      "  hits = np.where(cur_imp[0] > imp_sha_max)[0]\n",
      "/Users/shohei.mitani/.pyenv/versions/anaconda3-5.3.1/lib/python3.6/site-packages/boruta/boruta_py.py:380: DataConversionWarning: A column-vector y was passed when a 1d array was expected. Please change the shape of y to (n_samples,), for example using ravel().\n",
      "  self.estimator.fit(X, y)\n"
     ]
    },
    {
     "name": "stdout",
     "output_type": "stream",
     "text": [
      "Iteration: \t140 / 500\n",
      "Confirmed: \t19\n",
      "Tentative: \t6\n",
      "Rejected: \t105\n"
     ]
    },
    {
     "name": "stderr",
     "output_type": "stream",
     "text": [
      "/Users/shohei.mitani/.pyenv/versions/anaconda3-5.3.1/lib/python3.6/site-packages/boruta/boruta_py.py:418: RuntimeWarning: invalid value encountered in greater\n",
      "  hits = np.where(cur_imp[0] > imp_sha_max)[0]\n",
      "/Users/shohei.mitani/.pyenv/versions/anaconda3-5.3.1/lib/python3.6/site-packages/boruta/boruta_py.py:380: DataConversionWarning: A column-vector y was passed when a 1d array was expected. Please change the shape of y to (n_samples,), for example using ravel().\n",
      "  self.estimator.fit(X, y)\n"
     ]
    },
    {
     "name": "stdout",
     "output_type": "stream",
     "text": [
      "Iteration: \t141 / 500\n",
      "Confirmed: \t19\n",
      "Tentative: \t6\n",
      "Rejected: \t105\n"
     ]
    },
    {
     "name": "stderr",
     "output_type": "stream",
     "text": [
      "/Users/shohei.mitani/.pyenv/versions/anaconda3-5.3.1/lib/python3.6/site-packages/boruta/boruta_py.py:418: RuntimeWarning: invalid value encountered in greater\n",
      "  hits = np.where(cur_imp[0] > imp_sha_max)[0]\n",
      "/Users/shohei.mitani/.pyenv/versions/anaconda3-5.3.1/lib/python3.6/site-packages/boruta/boruta_py.py:380: DataConversionWarning: A column-vector y was passed when a 1d array was expected. Please change the shape of y to (n_samples,), for example using ravel().\n",
      "  self.estimator.fit(X, y)\n"
     ]
    },
    {
     "name": "stdout",
     "output_type": "stream",
     "text": [
      "Iteration: \t142 / 500\n",
      "Confirmed: \t19\n",
      "Tentative: \t6\n",
      "Rejected: \t105\n"
     ]
    },
    {
     "name": "stderr",
     "output_type": "stream",
     "text": [
      "/Users/shohei.mitani/.pyenv/versions/anaconda3-5.3.1/lib/python3.6/site-packages/boruta/boruta_py.py:418: RuntimeWarning: invalid value encountered in greater\n",
      "  hits = np.where(cur_imp[0] > imp_sha_max)[0]\n",
      "/Users/shohei.mitani/.pyenv/versions/anaconda3-5.3.1/lib/python3.6/site-packages/boruta/boruta_py.py:380: DataConversionWarning: A column-vector y was passed when a 1d array was expected. Please change the shape of y to (n_samples,), for example using ravel().\n",
      "  self.estimator.fit(X, y)\n"
     ]
    },
    {
     "name": "stdout",
     "output_type": "stream",
     "text": [
      "Iteration: \t143 / 500\n",
      "Confirmed: \t19\n",
      "Tentative: \t6\n",
      "Rejected: \t105\n"
     ]
    },
    {
     "name": "stderr",
     "output_type": "stream",
     "text": [
      "/Users/shohei.mitani/.pyenv/versions/anaconda3-5.3.1/lib/python3.6/site-packages/boruta/boruta_py.py:418: RuntimeWarning: invalid value encountered in greater\n",
      "  hits = np.where(cur_imp[0] > imp_sha_max)[0]\n",
      "/Users/shohei.mitani/.pyenv/versions/anaconda3-5.3.1/lib/python3.6/site-packages/boruta/boruta_py.py:380: DataConversionWarning: A column-vector y was passed when a 1d array was expected. Please change the shape of y to (n_samples,), for example using ravel().\n",
      "  self.estimator.fit(X, y)\n"
     ]
    },
    {
     "name": "stdout",
     "output_type": "stream",
     "text": [
      "Iteration: \t144 / 500\n",
      "Confirmed: \t19\n",
      "Tentative: \t6\n",
      "Rejected: \t105\n"
     ]
    },
    {
     "name": "stderr",
     "output_type": "stream",
     "text": [
      "/Users/shohei.mitani/.pyenv/versions/anaconda3-5.3.1/lib/python3.6/site-packages/boruta/boruta_py.py:418: RuntimeWarning: invalid value encountered in greater\n",
      "  hits = np.where(cur_imp[0] > imp_sha_max)[0]\n",
      "/Users/shohei.mitani/.pyenv/versions/anaconda3-5.3.1/lib/python3.6/site-packages/boruta/boruta_py.py:380: DataConversionWarning: A column-vector y was passed when a 1d array was expected. Please change the shape of y to (n_samples,), for example using ravel().\n",
      "  self.estimator.fit(X, y)\n"
     ]
    },
    {
     "name": "stdout",
     "output_type": "stream",
     "text": [
      "Iteration: \t145 / 500\n",
      "Confirmed: \t19\n",
      "Tentative: \t6\n",
      "Rejected: \t105\n"
     ]
    },
    {
     "name": "stderr",
     "output_type": "stream",
     "text": [
      "/Users/shohei.mitani/.pyenv/versions/anaconda3-5.3.1/lib/python3.6/site-packages/boruta/boruta_py.py:418: RuntimeWarning: invalid value encountered in greater\n",
      "  hits = np.where(cur_imp[0] > imp_sha_max)[0]\n",
      "/Users/shohei.mitani/.pyenv/versions/anaconda3-5.3.1/lib/python3.6/site-packages/boruta/boruta_py.py:380: DataConversionWarning: A column-vector y was passed when a 1d array was expected. Please change the shape of y to (n_samples,), for example using ravel().\n",
      "  self.estimator.fit(X, y)\n"
     ]
    },
    {
     "name": "stdout",
     "output_type": "stream",
     "text": [
      "Iteration: \t146 / 500\n",
      "Confirmed: \t19\n",
      "Tentative: \t6\n",
      "Rejected: \t105\n"
     ]
    },
    {
     "name": "stderr",
     "output_type": "stream",
     "text": [
      "/Users/shohei.mitani/.pyenv/versions/anaconda3-5.3.1/lib/python3.6/site-packages/boruta/boruta_py.py:418: RuntimeWarning: invalid value encountered in greater\n",
      "  hits = np.where(cur_imp[0] > imp_sha_max)[0]\n",
      "/Users/shohei.mitani/.pyenv/versions/anaconda3-5.3.1/lib/python3.6/site-packages/boruta/boruta_py.py:380: DataConversionWarning: A column-vector y was passed when a 1d array was expected. Please change the shape of y to (n_samples,), for example using ravel().\n",
      "  self.estimator.fit(X, y)\n"
     ]
    },
    {
     "name": "stdout",
     "output_type": "stream",
     "text": [
      "Iteration: \t147 / 500\n",
      "Confirmed: \t19\n",
      "Tentative: \t6\n",
      "Rejected: \t105\n"
     ]
    },
    {
     "name": "stderr",
     "output_type": "stream",
     "text": [
      "/Users/shohei.mitani/.pyenv/versions/anaconda3-5.3.1/lib/python3.6/site-packages/boruta/boruta_py.py:418: RuntimeWarning: invalid value encountered in greater\n",
      "  hits = np.where(cur_imp[0] > imp_sha_max)[0]\n",
      "/Users/shohei.mitani/.pyenv/versions/anaconda3-5.3.1/lib/python3.6/site-packages/boruta/boruta_py.py:380: DataConversionWarning: A column-vector y was passed when a 1d array was expected. Please change the shape of y to (n_samples,), for example using ravel().\n",
      "  self.estimator.fit(X, y)\n"
     ]
    },
    {
     "name": "stdout",
     "output_type": "stream",
     "text": [
      "Iteration: \t148 / 500\n",
      "Confirmed: \t19\n",
      "Tentative: \t6\n",
      "Rejected: \t105\n"
     ]
    },
    {
     "name": "stderr",
     "output_type": "stream",
     "text": [
      "/Users/shohei.mitani/.pyenv/versions/anaconda3-5.3.1/lib/python3.6/site-packages/boruta/boruta_py.py:418: RuntimeWarning: invalid value encountered in greater\n",
      "  hits = np.where(cur_imp[0] > imp_sha_max)[0]\n",
      "/Users/shohei.mitani/.pyenv/versions/anaconda3-5.3.1/lib/python3.6/site-packages/boruta/boruta_py.py:380: DataConversionWarning: A column-vector y was passed when a 1d array was expected. Please change the shape of y to (n_samples,), for example using ravel().\n",
      "  self.estimator.fit(X, y)\n"
     ]
    },
    {
     "name": "stdout",
     "output_type": "stream",
     "text": [
      "Iteration: \t149 / 500\n",
      "Confirmed: \t19\n",
      "Tentative: \t6\n",
      "Rejected: \t105\n"
     ]
    },
    {
     "name": "stderr",
     "output_type": "stream",
     "text": [
      "/Users/shohei.mitani/.pyenv/versions/anaconda3-5.3.1/lib/python3.6/site-packages/boruta/boruta_py.py:418: RuntimeWarning: invalid value encountered in greater\n",
      "  hits = np.where(cur_imp[0] > imp_sha_max)[0]\n",
      "/Users/shohei.mitani/.pyenv/versions/anaconda3-5.3.1/lib/python3.6/site-packages/boruta/boruta_py.py:380: DataConversionWarning: A column-vector y was passed when a 1d array was expected. Please change the shape of y to (n_samples,), for example using ravel().\n",
      "  self.estimator.fit(X, y)\n"
     ]
    },
    {
     "name": "stdout",
     "output_type": "stream",
     "text": [
      "Iteration: \t150 / 500\n",
      "Confirmed: \t19\n",
      "Tentative: \t6\n",
      "Rejected: \t105\n"
     ]
    },
    {
     "name": "stderr",
     "output_type": "stream",
     "text": [
      "/Users/shohei.mitani/.pyenv/versions/anaconda3-5.3.1/lib/python3.6/site-packages/boruta/boruta_py.py:418: RuntimeWarning: invalid value encountered in greater\n",
      "  hits = np.where(cur_imp[0] > imp_sha_max)[0]\n",
      "/Users/shohei.mitani/.pyenv/versions/anaconda3-5.3.1/lib/python3.6/site-packages/boruta/boruta_py.py:380: DataConversionWarning: A column-vector y was passed when a 1d array was expected. Please change the shape of y to (n_samples,), for example using ravel().\n",
      "  self.estimator.fit(X, y)\n"
     ]
    },
    {
     "name": "stdout",
     "output_type": "stream",
     "text": [
      "Iteration: \t151 / 500\n",
      "Confirmed: \t19\n",
      "Tentative: \t6\n",
      "Rejected: \t105\n"
     ]
    },
    {
     "name": "stderr",
     "output_type": "stream",
     "text": [
      "/Users/shohei.mitani/.pyenv/versions/anaconda3-5.3.1/lib/python3.6/site-packages/boruta/boruta_py.py:418: RuntimeWarning: invalid value encountered in greater\n",
      "  hits = np.where(cur_imp[0] > imp_sha_max)[0]\n",
      "/Users/shohei.mitani/.pyenv/versions/anaconda3-5.3.1/lib/python3.6/site-packages/boruta/boruta_py.py:380: DataConversionWarning: A column-vector y was passed when a 1d array was expected. Please change the shape of y to (n_samples,), for example using ravel().\n",
      "  self.estimator.fit(X, y)\n"
     ]
    },
    {
     "name": "stdout",
     "output_type": "stream",
     "text": [
      "Iteration: \t152 / 500\n",
      "Confirmed: \t19\n",
      "Tentative: \t6\n",
      "Rejected: \t105\n"
     ]
    },
    {
     "name": "stderr",
     "output_type": "stream",
     "text": [
      "/Users/shohei.mitani/.pyenv/versions/anaconda3-5.3.1/lib/python3.6/site-packages/boruta/boruta_py.py:418: RuntimeWarning: invalid value encountered in greater\n",
      "  hits = np.where(cur_imp[0] > imp_sha_max)[0]\n",
      "/Users/shohei.mitani/.pyenv/versions/anaconda3-5.3.1/lib/python3.6/site-packages/boruta/boruta_py.py:380: DataConversionWarning: A column-vector y was passed when a 1d array was expected. Please change the shape of y to (n_samples,), for example using ravel().\n",
      "  self.estimator.fit(X, y)\n"
     ]
    },
    {
     "name": "stdout",
     "output_type": "stream",
     "text": [
      "Iteration: \t153 / 500\n",
      "Confirmed: \t19\n",
      "Tentative: \t6\n",
      "Rejected: \t105\n"
     ]
    },
    {
     "name": "stderr",
     "output_type": "stream",
     "text": [
      "/Users/shohei.mitani/.pyenv/versions/anaconda3-5.3.1/lib/python3.6/site-packages/boruta/boruta_py.py:418: RuntimeWarning: invalid value encountered in greater\n",
      "  hits = np.where(cur_imp[0] > imp_sha_max)[0]\n",
      "/Users/shohei.mitani/.pyenv/versions/anaconda3-5.3.1/lib/python3.6/site-packages/boruta/boruta_py.py:380: DataConversionWarning: A column-vector y was passed when a 1d array was expected. Please change the shape of y to (n_samples,), for example using ravel().\n",
      "  self.estimator.fit(X, y)\n"
     ]
    },
    {
     "name": "stdout",
     "output_type": "stream",
     "text": [
      "Iteration: \t154 / 500\n",
      "Confirmed: \t19\n",
      "Tentative: \t6\n",
      "Rejected: \t105\n"
     ]
    },
    {
     "name": "stderr",
     "output_type": "stream",
     "text": [
      "/Users/shohei.mitani/.pyenv/versions/anaconda3-5.3.1/lib/python3.6/site-packages/boruta/boruta_py.py:418: RuntimeWarning: invalid value encountered in greater\n",
      "  hits = np.where(cur_imp[0] > imp_sha_max)[0]\n",
      "/Users/shohei.mitani/.pyenv/versions/anaconda3-5.3.1/lib/python3.6/site-packages/boruta/boruta_py.py:380: DataConversionWarning: A column-vector y was passed when a 1d array was expected. Please change the shape of y to (n_samples,), for example using ravel().\n",
      "  self.estimator.fit(X, y)\n"
     ]
    },
    {
     "name": "stdout",
     "output_type": "stream",
     "text": [
      "Iteration: \t155 / 500\n",
      "Confirmed: \t19\n",
      "Tentative: \t6\n",
      "Rejected: \t105\n"
     ]
    },
    {
     "name": "stderr",
     "output_type": "stream",
     "text": [
      "/Users/shohei.mitani/.pyenv/versions/anaconda3-5.3.1/lib/python3.6/site-packages/boruta/boruta_py.py:418: RuntimeWarning: invalid value encountered in greater\n",
      "  hits = np.where(cur_imp[0] > imp_sha_max)[0]\n",
      "/Users/shohei.mitani/.pyenv/versions/anaconda3-5.3.1/lib/python3.6/site-packages/boruta/boruta_py.py:380: DataConversionWarning: A column-vector y was passed when a 1d array was expected. Please change the shape of y to (n_samples,), for example using ravel().\n",
      "  self.estimator.fit(X, y)\n"
     ]
    },
    {
     "name": "stdout",
     "output_type": "stream",
     "text": [
      "Iteration: \t156 / 500\n",
      "Confirmed: \t19\n",
      "Tentative: \t6\n",
      "Rejected: \t105\n"
     ]
    },
    {
     "name": "stderr",
     "output_type": "stream",
     "text": [
      "/Users/shohei.mitani/.pyenv/versions/anaconda3-5.3.1/lib/python3.6/site-packages/boruta/boruta_py.py:418: RuntimeWarning: invalid value encountered in greater\n",
      "  hits = np.where(cur_imp[0] > imp_sha_max)[0]\n",
      "/Users/shohei.mitani/.pyenv/versions/anaconda3-5.3.1/lib/python3.6/site-packages/boruta/boruta_py.py:380: DataConversionWarning: A column-vector y was passed when a 1d array was expected. Please change the shape of y to (n_samples,), for example using ravel().\n",
      "  self.estimator.fit(X, y)\n"
     ]
    },
    {
     "name": "stdout",
     "output_type": "stream",
     "text": [
      "Iteration: \t157 / 500\n",
      "Confirmed: \t19\n",
      "Tentative: \t6\n",
      "Rejected: \t105\n"
     ]
    },
    {
     "name": "stderr",
     "output_type": "stream",
     "text": [
      "/Users/shohei.mitani/.pyenv/versions/anaconda3-5.3.1/lib/python3.6/site-packages/boruta/boruta_py.py:418: RuntimeWarning: invalid value encountered in greater\n",
      "  hits = np.where(cur_imp[0] > imp_sha_max)[0]\n",
      "/Users/shohei.mitani/.pyenv/versions/anaconda3-5.3.1/lib/python3.6/site-packages/boruta/boruta_py.py:380: DataConversionWarning: A column-vector y was passed when a 1d array was expected. Please change the shape of y to (n_samples,), for example using ravel().\n",
      "  self.estimator.fit(X, y)\n"
     ]
    },
    {
     "name": "stdout",
     "output_type": "stream",
     "text": [
      "Iteration: \t158 / 500\n",
      "Confirmed: \t19\n",
      "Tentative: \t6\n",
      "Rejected: \t105\n"
     ]
    },
    {
     "name": "stderr",
     "output_type": "stream",
     "text": [
      "/Users/shohei.mitani/.pyenv/versions/anaconda3-5.3.1/lib/python3.6/site-packages/boruta/boruta_py.py:418: RuntimeWarning: invalid value encountered in greater\n",
      "  hits = np.where(cur_imp[0] > imp_sha_max)[0]\n",
      "/Users/shohei.mitani/.pyenv/versions/anaconda3-5.3.1/lib/python3.6/site-packages/boruta/boruta_py.py:380: DataConversionWarning: A column-vector y was passed when a 1d array was expected. Please change the shape of y to (n_samples,), for example using ravel().\n",
      "  self.estimator.fit(X, y)\n"
     ]
    },
    {
     "name": "stdout",
     "output_type": "stream",
     "text": [
      "Iteration: \t159 / 500\n",
      "Confirmed: \t19\n",
      "Tentative: \t6\n",
      "Rejected: \t105\n"
     ]
    },
    {
     "name": "stderr",
     "output_type": "stream",
     "text": [
      "/Users/shohei.mitani/.pyenv/versions/anaconda3-5.3.1/lib/python3.6/site-packages/boruta/boruta_py.py:418: RuntimeWarning: invalid value encountered in greater\n",
      "  hits = np.where(cur_imp[0] > imp_sha_max)[0]\n",
      "/Users/shohei.mitani/.pyenv/versions/anaconda3-5.3.1/lib/python3.6/site-packages/boruta/boruta_py.py:380: DataConversionWarning: A column-vector y was passed when a 1d array was expected. Please change the shape of y to (n_samples,), for example using ravel().\n",
      "  self.estimator.fit(X, y)\n"
     ]
    },
    {
     "name": "stdout",
     "output_type": "stream",
     "text": [
      "Iteration: \t160 / 500\n",
      "Confirmed: \t19\n",
      "Tentative: \t6\n",
      "Rejected: \t105\n"
     ]
    },
    {
     "name": "stderr",
     "output_type": "stream",
     "text": [
      "/Users/shohei.mitani/.pyenv/versions/anaconda3-5.3.1/lib/python3.6/site-packages/boruta/boruta_py.py:418: RuntimeWarning: invalid value encountered in greater\n",
      "  hits = np.where(cur_imp[0] > imp_sha_max)[0]\n",
      "/Users/shohei.mitani/.pyenv/versions/anaconda3-5.3.1/lib/python3.6/site-packages/boruta/boruta_py.py:380: DataConversionWarning: A column-vector y was passed when a 1d array was expected. Please change the shape of y to (n_samples,), for example using ravel().\n",
      "  self.estimator.fit(X, y)\n"
     ]
    },
    {
     "name": "stdout",
     "output_type": "stream",
     "text": [
      "Iteration: \t161 / 500\n",
      "Confirmed: \t19\n",
      "Tentative: \t6\n",
      "Rejected: \t105\n"
     ]
    },
    {
     "name": "stderr",
     "output_type": "stream",
     "text": [
      "/Users/shohei.mitani/.pyenv/versions/anaconda3-5.3.1/lib/python3.6/site-packages/boruta/boruta_py.py:418: RuntimeWarning: invalid value encountered in greater\n",
      "  hits = np.where(cur_imp[0] > imp_sha_max)[0]\n",
      "/Users/shohei.mitani/.pyenv/versions/anaconda3-5.3.1/lib/python3.6/site-packages/boruta/boruta_py.py:380: DataConversionWarning: A column-vector y was passed when a 1d array was expected. Please change the shape of y to (n_samples,), for example using ravel().\n",
      "  self.estimator.fit(X, y)\n"
     ]
    },
    {
     "name": "stdout",
     "output_type": "stream",
     "text": [
      "Iteration: \t162 / 500\n",
      "Confirmed: \t19\n",
      "Tentative: \t6\n",
      "Rejected: \t105\n"
     ]
    },
    {
     "name": "stderr",
     "output_type": "stream",
     "text": [
      "/Users/shohei.mitani/.pyenv/versions/anaconda3-5.3.1/lib/python3.6/site-packages/boruta/boruta_py.py:418: RuntimeWarning: invalid value encountered in greater\n",
      "  hits = np.where(cur_imp[0] > imp_sha_max)[0]\n",
      "/Users/shohei.mitani/.pyenv/versions/anaconda3-5.3.1/lib/python3.6/site-packages/boruta/boruta_py.py:380: DataConversionWarning: A column-vector y was passed when a 1d array was expected. Please change the shape of y to (n_samples,), for example using ravel().\n",
      "  self.estimator.fit(X, y)\n"
     ]
    },
    {
     "name": "stdout",
     "output_type": "stream",
     "text": [
      "Iteration: \t163 / 500\n",
      "Confirmed: \t19\n",
      "Tentative: \t6\n",
      "Rejected: \t105\n"
     ]
    },
    {
     "name": "stderr",
     "output_type": "stream",
     "text": [
      "/Users/shohei.mitani/.pyenv/versions/anaconda3-5.3.1/lib/python3.6/site-packages/boruta/boruta_py.py:418: RuntimeWarning: invalid value encountered in greater\n",
      "  hits = np.where(cur_imp[0] > imp_sha_max)[0]\n",
      "/Users/shohei.mitani/.pyenv/versions/anaconda3-5.3.1/lib/python3.6/site-packages/boruta/boruta_py.py:380: DataConversionWarning: A column-vector y was passed when a 1d array was expected. Please change the shape of y to (n_samples,), for example using ravel().\n",
      "  self.estimator.fit(X, y)\n"
     ]
    },
    {
     "name": "stdout",
     "output_type": "stream",
     "text": [
      "Iteration: \t164 / 500\n",
      "Confirmed: \t19\n",
      "Tentative: \t6\n",
      "Rejected: \t105\n"
     ]
    },
    {
     "name": "stderr",
     "output_type": "stream",
     "text": [
      "/Users/shohei.mitani/.pyenv/versions/anaconda3-5.3.1/lib/python3.6/site-packages/boruta/boruta_py.py:418: RuntimeWarning: invalid value encountered in greater\n",
      "  hits = np.where(cur_imp[0] > imp_sha_max)[0]\n",
      "/Users/shohei.mitani/.pyenv/versions/anaconda3-5.3.1/lib/python3.6/site-packages/boruta/boruta_py.py:380: DataConversionWarning: A column-vector y was passed when a 1d array was expected. Please change the shape of y to (n_samples,), for example using ravel().\n",
      "  self.estimator.fit(X, y)\n"
     ]
    },
    {
     "name": "stdout",
     "output_type": "stream",
     "text": [
      "Iteration: \t165 / 500\n",
      "Confirmed: \t19\n",
      "Tentative: \t6\n",
      "Rejected: \t105\n"
     ]
    },
    {
     "name": "stderr",
     "output_type": "stream",
     "text": [
      "/Users/shohei.mitani/.pyenv/versions/anaconda3-5.3.1/lib/python3.6/site-packages/boruta/boruta_py.py:418: RuntimeWarning: invalid value encountered in greater\n",
      "  hits = np.where(cur_imp[0] > imp_sha_max)[0]\n",
      "/Users/shohei.mitani/.pyenv/versions/anaconda3-5.3.1/lib/python3.6/site-packages/boruta/boruta_py.py:380: DataConversionWarning: A column-vector y was passed when a 1d array was expected. Please change the shape of y to (n_samples,), for example using ravel().\n",
      "  self.estimator.fit(X, y)\n"
     ]
    },
    {
     "name": "stdout",
     "output_type": "stream",
     "text": [
      "Iteration: \t166 / 500\n",
      "Confirmed: \t19\n",
      "Tentative: \t6\n",
      "Rejected: \t105\n"
     ]
    },
    {
     "name": "stderr",
     "output_type": "stream",
     "text": [
      "/Users/shohei.mitani/.pyenv/versions/anaconda3-5.3.1/lib/python3.6/site-packages/boruta/boruta_py.py:418: RuntimeWarning: invalid value encountered in greater\n",
      "  hits = np.where(cur_imp[0] > imp_sha_max)[0]\n",
      "/Users/shohei.mitani/.pyenv/versions/anaconda3-5.3.1/lib/python3.6/site-packages/boruta/boruta_py.py:380: DataConversionWarning: A column-vector y was passed when a 1d array was expected. Please change the shape of y to (n_samples,), for example using ravel().\n",
      "  self.estimator.fit(X, y)\n"
     ]
    },
    {
     "name": "stdout",
     "output_type": "stream",
     "text": [
      "Iteration: \t167 / 500\n",
      "Confirmed: \t19\n",
      "Tentative: \t6\n",
      "Rejected: \t105\n"
     ]
    },
    {
     "name": "stderr",
     "output_type": "stream",
     "text": [
      "/Users/shohei.mitani/.pyenv/versions/anaconda3-5.3.1/lib/python3.6/site-packages/boruta/boruta_py.py:418: RuntimeWarning: invalid value encountered in greater\n",
      "  hits = np.where(cur_imp[0] > imp_sha_max)[0]\n",
      "/Users/shohei.mitani/.pyenv/versions/anaconda3-5.3.1/lib/python3.6/site-packages/boruta/boruta_py.py:380: DataConversionWarning: A column-vector y was passed when a 1d array was expected. Please change the shape of y to (n_samples,), for example using ravel().\n",
      "  self.estimator.fit(X, y)\n"
     ]
    },
    {
     "name": "stdout",
     "output_type": "stream",
     "text": [
      "Iteration: \t168 / 500\n",
      "Confirmed: \t19\n",
      "Tentative: \t6\n",
      "Rejected: \t105\n"
     ]
    },
    {
     "name": "stderr",
     "output_type": "stream",
     "text": [
      "/Users/shohei.mitani/.pyenv/versions/anaconda3-5.3.1/lib/python3.6/site-packages/boruta/boruta_py.py:418: RuntimeWarning: invalid value encountered in greater\n",
      "  hits = np.where(cur_imp[0] > imp_sha_max)[0]\n",
      "/Users/shohei.mitani/.pyenv/versions/anaconda3-5.3.1/lib/python3.6/site-packages/boruta/boruta_py.py:380: DataConversionWarning: A column-vector y was passed when a 1d array was expected. Please change the shape of y to (n_samples,), for example using ravel().\n",
      "  self.estimator.fit(X, y)\n"
     ]
    },
    {
     "name": "stdout",
     "output_type": "stream",
     "text": [
      "Iteration: \t169 / 500\n",
      "Confirmed: \t19\n",
      "Tentative: \t6\n",
      "Rejected: \t105\n"
     ]
    },
    {
     "name": "stderr",
     "output_type": "stream",
     "text": [
      "/Users/shohei.mitani/.pyenv/versions/anaconda3-5.3.1/lib/python3.6/site-packages/boruta/boruta_py.py:418: RuntimeWarning: invalid value encountered in greater\n",
      "  hits = np.where(cur_imp[0] > imp_sha_max)[0]\n",
      "/Users/shohei.mitani/.pyenv/versions/anaconda3-5.3.1/lib/python3.6/site-packages/boruta/boruta_py.py:380: DataConversionWarning: A column-vector y was passed when a 1d array was expected. Please change the shape of y to (n_samples,), for example using ravel().\n",
      "  self.estimator.fit(X, y)\n"
     ]
    },
    {
     "name": "stdout",
     "output_type": "stream",
     "text": [
      "Iteration: \t170 / 500\n",
      "Confirmed: \t19\n",
      "Tentative: \t6\n",
      "Rejected: \t105\n"
     ]
    },
    {
     "name": "stderr",
     "output_type": "stream",
     "text": [
      "/Users/shohei.mitani/.pyenv/versions/anaconda3-5.3.1/lib/python3.6/site-packages/boruta/boruta_py.py:418: RuntimeWarning: invalid value encountered in greater\n",
      "  hits = np.where(cur_imp[0] > imp_sha_max)[0]\n",
      "/Users/shohei.mitani/.pyenv/versions/anaconda3-5.3.1/lib/python3.6/site-packages/boruta/boruta_py.py:380: DataConversionWarning: A column-vector y was passed when a 1d array was expected. Please change the shape of y to (n_samples,), for example using ravel().\n",
      "  self.estimator.fit(X, y)\n"
     ]
    },
    {
     "name": "stdout",
     "output_type": "stream",
     "text": [
      "Iteration: \t171 / 500\n",
      "Confirmed: \t19\n",
      "Tentative: \t6\n",
      "Rejected: \t105\n"
     ]
    },
    {
     "name": "stderr",
     "output_type": "stream",
     "text": [
      "/Users/shohei.mitani/.pyenv/versions/anaconda3-5.3.1/lib/python3.6/site-packages/boruta/boruta_py.py:418: RuntimeWarning: invalid value encountered in greater\n",
      "  hits = np.where(cur_imp[0] > imp_sha_max)[0]\n",
      "/Users/shohei.mitani/.pyenv/versions/anaconda3-5.3.1/lib/python3.6/site-packages/boruta/boruta_py.py:380: DataConversionWarning: A column-vector y was passed when a 1d array was expected. Please change the shape of y to (n_samples,), for example using ravel().\n",
      "  self.estimator.fit(X, y)\n"
     ]
    },
    {
     "name": "stdout",
     "output_type": "stream",
     "text": [
      "Iteration: \t172 / 500\n",
      "Confirmed: \t19\n",
      "Tentative: \t6\n",
      "Rejected: \t105\n"
     ]
    },
    {
     "name": "stderr",
     "output_type": "stream",
     "text": [
      "/Users/shohei.mitani/.pyenv/versions/anaconda3-5.3.1/lib/python3.6/site-packages/boruta/boruta_py.py:418: RuntimeWarning: invalid value encountered in greater\n",
      "  hits = np.where(cur_imp[0] > imp_sha_max)[0]\n",
      "/Users/shohei.mitani/.pyenv/versions/anaconda3-5.3.1/lib/python3.6/site-packages/boruta/boruta_py.py:380: DataConversionWarning: A column-vector y was passed when a 1d array was expected. Please change the shape of y to (n_samples,), for example using ravel().\n",
      "  self.estimator.fit(X, y)\n"
     ]
    },
    {
     "name": "stdout",
     "output_type": "stream",
     "text": [
      "Iteration: \t173 / 500\n",
      "Confirmed: \t19\n",
      "Tentative: \t6\n",
      "Rejected: \t105\n"
     ]
    },
    {
     "name": "stderr",
     "output_type": "stream",
     "text": [
      "/Users/shohei.mitani/.pyenv/versions/anaconda3-5.3.1/lib/python3.6/site-packages/boruta/boruta_py.py:418: RuntimeWarning: invalid value encountered in greater\n",
      "  hits = np.where(cur_imp[0] > imp_sha_max)[0]\n",
      "/Users/shohei.mitani/.pyenv/versions/anaconda3-5.3.1/lib/python3.6/site-packages/boruta/boruta_py.py:380: DataConversionWarning: A column-vector y was passed when a 1d array was expected. Please change the shape of y to (n_samples,), for example using ravel().\n",
      "  self.estimator.fit(X, y)\n"
     ]
    },
    {
     "name": "stdout",
     "output_type": "stream",
     "text": [
      "Iteration: \t174 / 500\n",
      "Confirmed: \t19\n",
      "Tentative: \t6\n",
      "Rejected: \t105\n"
     ]
    },
    {
     "name": "stderr",
     "output_type": "stream",
     "text": [
      "/Users/shohei.mitani/.pyenv/versions/anaconda3-5.3.1/lib/python3.6/site-packages/boruta/boruta_py.py:418: RuntimeWarning: invalid value encountered in greater\n",
      "  hits = np.where(cur_imp[0] > imp_sha_max)[0]\n",
      "/Users/shohei.mitani/.pyenv/versions/anaconda3-5.3.1/lib/python3.6/site-packages/boruta/boruta_py.py:380: DataConversionWarning: A column-vector y was passed when a 1d array was expected. Please change the shape of y to (n_samples,), for example using ravel().\n",
      "  self.estimator.fit(X, y)\n"
     ]
    },
    {
     "name": "stdout",
     "output_type": "stream",
     "text": [
      "Iteration: \t175 / 500\n",
      "Confirmed: \t19\n",
      "Tentative: \t6\n",
      "Rejected: \t105\n"
     ]
    },
    {
     "name": "stderr",
     "output_type": "stream",
     "text": [
      "/Users/shohei.mitani/.pyenv/versions/anaconda3-5.3.1/lib/python3.6/site-packages/boruta/boruta_py.py:418: RuntimeWarning: invalid value encountered in greater\n",
      "  hits = np.where(cur_imp[0] > imp_sha_max)[0]\n",
      "/Users/shohei.mitani/.pyenv/versions/anaconda3-5.3.1/lib/python3.6/site-packages/boruta/boruta_py.py:380: DataConversionWarning: A column-vector y was passed when a 1d array was expected. Please change the shape of y to (n_samples,), for example using ravel().\n",
      "  self.estimator.fit(X, y)\n"
     ]
    },
    {
     "name": "stdout",
     "output_type": "stream",
     "text": [
      "Iteration: \t176 / 500\n",
      "Confirmed: \t19\n",
      "Tentative: \t6\n",
      "Rejected: \t105\n"
     ]
    },
    {
     "name": "stderr",
     "output_type": "stream",
     "text": [
      "/Users/shohei.mitani/.pyenv/versions/anaconda3-5.3.1/lib/python3.6/site-packages/boruta/boruta_py.py:418: RuntimeWarning: invalid value encountered in greater\n",
      "  hits = np.where(cur_imp[0] > imp_sha_max)[0]\n",
      "/Users/shohei.mitani/.pyenv/versions/anaconda3-5.3.1/lib/python3.6/site-packages/boruta/boruta_py.py:380: DataConversionWarning: A column-vector y was passed when a 1d array was expected. Please change the shape of y to (n_samples,), for example using ravel().\n",
      "  self.estimator.fit(X, y)\n"
     ]
    },
    {
     "name": "stdout",
     "output_type": "stream",
     "text": [
      "Iteration: \t177 / 500\n",
      "Confirmed: \t19\n",
      "Tentative: \t6\n",
      "Rejected: \t105\n"
     ]
    },
    {
     "name": "stderr",
     "output_type": "stream",
     "text": [
      "/Users/shohei.mitani/.pyenv/versions/anaconda3-5.3.1/lib/python3.6/site-packages/boruta/boruta_py.py:418: RuntimeWarning: invalid value encountered in greater\n",
      "  hits = np.where(cur_imp[0] > imp_sha_max)[0]\n",
      "/Users/shohei.mitani/.pyenv/versions/anaconda3-5.3.1/lib/python3.6/site-packages/boruta/boruta_py.py:380: DataConversionWarning: A column-vector y was passed when a 1d array was expected. Please change the shape of y to (n_samples,), for example using ravel().\n",
      "  self.estimator.fit(X, y)\n"
     ]
    },
    {
     "name": "stdout",
     "output_type": "stream",
     "text": [
      "Iteration: \t178 / 500\n",
      "Confirmed: \t19\n",
      "Tentative: \t6\n",
      "Rejected: \t105\n"
     ]
    },
    {
     "name": "stderr",
     "output_type": "stream",
     "text": [
      "/Users/shohei.mitani/.pyenv/versions/anaconda3-5.3.1/lib/python3.6/site-packages/boruta/boruta_py.py:418: RuntimeWarning: invalid value encountered in greater\n",
      "  hits = np.where(cur_imp[0] > imp_sha_max)[0]\n",
      "/Users/shohei.mitani/.pyenv/versions/anaconda3-5.3.1/lib/python3.6/site-packages/boruta/boruta_py.py:380: DataConversionWarning: A column-vector y was passed when a 1d array was expected. Please change the shape of y to (n_samples,), for example using ravel().\n",
      "  self.estimator.fit(X, y)\n"
     ]
    },
    {
     "name": "stdout",
     "output_type": "stream",
     "text": [
      "Iteration: \t179 / 500\n",
      "Confirmed: \t19\n",
      "Tentative: \t6\n",
      "Rejected: \t105\n"
     ]
    },
    {
     "name": "stderr",
     "output_type": "stream",
     "text": [
      "/Users/shohei.mitani/.pyenv/versions/anaconda3-5.3.1/lib/python3.6/site-packages/boruta/boruta_py.py:418: RuntimeWarning: invalid value encountered in greater\n",
      "  hits = np.where(cur_imp[0] > imp_sha_max)[0]\n",
      "/Users/shohei.mitani/.pyenv/versions/anaconda3-5.3.1/lib/python3.6/site-packages/boruta/boruta_py.py:380: DataConversionWarning: A column-vector y was passed when a 1d array was expected. Please change the shape of y to (n_samples,), for example using ravel().\n",
      "  self.estimator.fit(X, y)\n"
     ]
    },
    {
     "name": "stdout",
     "output_type": "stream",
     "text": [
      "Iteration: \t180 / 500\n",
      "Confirmed: \t19\n",
      "Tentative: \t6\n",
      "Rejected: \t105\n"
     ]
    },
    {
     "name": "stderr",
     "output_type": "stream",
     "text": [
      "/Users/shohei.mitani/.pyenv/versions/anaconda3-5.3.1/lib/python3.6/site-packages/boruta/boruta_py.py:418: RuntimeWarning: invalid value encountered in greater\n",
      "  hits = np.where(cur_imp[0] > imp_sha_max)[0]\n",
      "/Users/shohei.mitani/.pyenv/versions/anaconda3-5.3.1/lib/python3.6/site-packages/boruta/boruta_py.py:380: DataConversionWarning: A column-vector y was passed when a 1d array was expected. Please change the shape of y to (n_samples,), for example using ravel().\n",
      "  self.estimator.fit(X, y)\n"
     ]
    },
    {
     "name": "stdout",
     "output_type": "stream",
     "text": [
      "Iteration: \t181 / 500\n",
      "Confirmed: \t19\n",
      "Tentative: \t6\n",
      "Rejected: \t105\n"
     ]
    },
    {
     "name": "stderr",
     "output_type": "stream",
     "text": [
      "/Users/shohei.mitani/.pyenv/versions/anaconda3-5.3.1/lib/python3.6/site-packages/boruta/boruta_py.py:418: RuntimeWarning: invalid value encountered in greater\n",
      "  hits = np.where(cur_imp[0] > imp_sha_max)[0]\n",
      "/Users/shohei.mitani/.pyenv/versions/anaconda3-5.3.1/lib/python3.6/site-packages/boruta/boruta_py.py:380: DataConversionWarning: A column-vector y was passed when a 1d array was expected. Please change the shape of y to (n_samples,), for example using ravel().\n",
      "  self.estimator.fit(X, y)\n"
     ]
    },
    {
     "name": "stdout",
     "output_type": "stream",
     "text": [
      "Iteration: \t182 / 500\n",
      "Confirmed: \t19\n",
      "Tentative: \t6\n",
      "Rejected: \t105\n"
     ]
    },
    {
     "name": "stderr",
     "output_type": "stream",
     "text": [
      "/Users/shohei.mitani/.pyenv/versions/anaconda3-5.3.1/lib/python3.6/site-packages/boruta/boruta_py.py:418: RuntimeWarning: invalid value encountered in greater\n",
      "  hits = np.where(cur_imp[0] > imp_sha_max)[0]\n",
      "/Users/shohei.mitani/.pyenv/versions/anaconda3-5.3.1/lib/python3.6/site-packages/boruta/boruta_py.py:380: DataConversionWarning: A column-vector y was passed when a 1d array was expected. Please change the shape of y to (n_samples,), for example using ravel().\n",
      "  self.estimator.fit(X, y)\n"
     ]
    },
    {
     "name": "stdout",
     "output_type": "stream",
     "text": [
      "Iteration: \t183 / 500\n",
      "Confirmed: \t19\n",
      "Tentative: \t6\n",
      "Rejected: \t105\n"
     ]
    },
    {
     "name": "stderr",
     "output_type": "stream",
     "text": [
      "/Users/shohei.mitani/.pyenv/versions/anaconda3-5.3.1/lib/python3.6/site-packages/boruta/boruta_py.py:418: RuntimeWarning: invalid value encountered in greater\n",
      "  hits = np.where(cur_imp[0] > imp_sha_max)[0]\n",
      "/Users/shohei.mitani/.pyenv/versions/anaconda3-5.3.1/lib/python3.6/site-packages/boruta/boruta_py.py:380: DataConversionWarning: A column-vector y was passed when a 1d array was expected. Please change the shape of y to (n_samples,), for example using ravel().\n",
      "  self.estimator.fit(X, y)\n"
     ]
    },
    {
     "name": "stdout",
     "output_type": "stream",
     "text": [
      "Iteration: \t184 / 500\n",
      "Confirmed: \t19\n",
      "Tentative: \t6\n",
      "Rejected: \t105\n"
     ]
    },
    {
     "name": "stderr",
     "output_type": "stream",
     "text": [
      "/Users/shohei.mitani/.pyenv/versions/anaconda3-5.3.1/lib/python3.6/site-packages/boruta/boruta_py.py:418: RuntimeWarning: invalid value encountered in greater\n",
      "  hits = np.where(cur_imp[0] > imp_sha_max)[0]\n",
      "/Users/shohei.mitani/.pyenv/versions/anaconda3-5.3.1/lib/python3.6/site-packages/boruta/boruta_py.py:380: DataConversionWarning: A column-vector y was passed when a 1d array was expected. Please change the shape of y to (n_samples,), for example using ravel().\n",
      "  self.estimator.fit(X, y)\n"
     ]
    },
    {
     "name": "stdout",
     "output_type": "stream",
     "text": [
      "Iteration: \t185 / 500\n",
      "Confirmed: \t19\n",
      "Tentative: \t6\n",
      "Rejected: \t105\n"
     ]
    },
    {
     "name": "stderr",
     "output_type": "stream",
     "text": [
      "/Users/shohei.mitani/.pyenv/versions/anaconda3-5.3.1/lib/python3.6/site-packages/boruta/boruta_py.py:418: RuntimeWarning: invalid value encountered in greater\n",
      "  hits = np.where(cur_imp[0] > imp_sha_max)[0]\n",
      "/Users/shohei.mitani/.pyenv/versions/anaconda3-5.3.1/lib/python3.6/site-packages/boruta/boruta_py.py:380: DataConversionWarning: A column-vector y was passed when a 1d array was expected. Please change the shape of y to (n_samples,), for example using ravel().\n",
      "  self.estimator.fit(X, y)\n"
     ]
    },
    {
     "name": "stdout",
     "output_type": "stream",
     "text": [
      "Iteration: \t186 / 500\n",
      "Confirmed: \t19\n",
      "Tentative: \t6\n",
      "Rejected: \t105\n"
     ]
    },
    {
     "name": "stderr",
     "output_type": "stream",
     "text": [
      "/Users/shohei.mitani/.pyenv/versions/anaconda3-5.3.1/lib/python3.6/site-packages/boruta/boruta_py.py:418: RuntimeWarning: invalid value encountered in greater\n",
      "  hits = np.where(cur_imp[0] > imp_sha_max)[0]\n",
      "/Users/shohei.mitani/.pyenv/versions/anaconda3-5.3.1/lib/python3.6/site-packages/boruta/boruta_py.py:380: DataConversionWarning: A column-vector y was passed when a 1d array was expected. Please change the shape of y to (n_samples,), for example using ravel().\n",
      "  self.estimator.fit(X, y)\n"
     ]
    },
    {
     "name": "stdout",
     "output_type": "stream",
     "text": [
      "Iteration: \t187 / 500\n",
      "Confirmed: \t19\n",
      "Tentative: \t6\n",
      "Rejected: \t105\n"
     ]
    },
    {
     "name": "stderr",
     "output_type": "stream",
     "text": [
      "/Users/shohei.mitani/.pyenv/versions/anaconda3-5.3.1/lib/python3.6/site-packages/boruta/boruta_py.py:418: RuntimeWarning: invalid value encountered in greater\n",
      "  hits = np.where(cur_imp[0] > imp_sha_max)[0]\n",
      "/Users/shohei.mitani/.pyenv/versions/anaconda3-5.3.1/lib/python3.6/site-packages/boruta/boruta_py.py:380: DataConversionWarning: A column-vector y was passed when a 1d array was expected. Please change the shape of y to (n_samples,), for example using ravel().\n",
      "  self.estimator.fit(X, y)\n"
     ]
    },
    {
     "name": "stdout",
     "output_type": "stream",
     "text": [
      "Iteration: \t188 / 500\n",
      "Confirmed: \t19\n",
      "Tentative: \t6\n",
      "Rejected: \t105\n"
     ]
    },
    {
     "name": "stderr",
     "output_type": "stream",
     "text": [
      "/Users/shohei.mitani/.pyenv/versions/anaconda3-5.3.1/lib/python3.6/site-packages/boruta/boruta_py.py:418: RuntimeWarning: invalid value encountered in greater\n",
      "  hits = np.where(cur_imp[0] > imp_sha_max)[0]\n",
      "/Users/shohei.mitani/.pyenv/versions/anaconda3-5.3.1/lib/python3.6/site-packages/boruta/boruta_py.py:380: DataConversionWarning: A column-vector y was passed when a 1d array was expected. Please change the shape of y to (n_samples,), for example using ravel().\n",
      "  self.estimator.fit(X, y)\n"
     ]
    },
    {
     "name": "stdout",
     "output_type": "stream",
     "text": [
      "Iteration: \t189 / 500\n",
      "Confirmed: \t19\n",
      "Tentative: \t6\n",
      "Rejected: \t105\n"
     ]
    },
    {
     "name": "stderr",
     "output_type": "stream",
     "text": [
      "/Users/shohei.mitani/.pyenv/versions/anaconda3-5.3.1/lib/python3.6/site-packages/boruta/boruta_py.py:418: RuntimeWarning: invalid value encountered in greater\n",
      "  hits = np.where(cur_imp[0] > imp_sha_max)[0]\n",
      "/Users/shohei.mitani/.pyenv/versions/anaconda3-5.3.1/lib/python3.6/site-packages/boruta/boruta_py.py:380: DataConversionWarning: A column-vector y was passed when a 1d array was expected. Please change the shape of y to (n_samples,), for example using ravel().\n",
      "  self.estimator.fit(X, y)\n"
     ]
    },
    {
     "name": "stdout",
     "output_type": "stream",
     "text": [
      "Iteration: \t190 / 500\n",
      "Confirmed: \t19\n",
      "Tentative: \t6\n",
      "Rejected: \t105\n"
     ]
    },
    {
     "name": "stderr",
     "output_type": "stream",
     "text": [
      "/Users/shohei.mitani/.pyenv/versions/anaconda3-5.3.1/lib/python3.6/site-packages/boruta/boruta_py.py:418: RuntimeWarning: invalid value encountered in greater\n",
      "  hits = np.where(cur_imp[0] > imp_sha_max)[0]\n",
      "/Users/shohei.mitani/.pyenv/versions/anaconda3-5.3.1/lib/python3.6/site-packages/boruta/boruta_py.py:380: DataConversionWarning: A column-vector y was passed when a 1d array was expected. Please change the shape of y to (n_samples,), for example using ravel().\n",
      "  self.estimator.fit(X, y)\n"
     ]
    },
    {
     "name": "stdout",
     "output_type": "stream",
     "text": [
      "Iteration: \t191 / 500\n",
      "Confirmed: \t19\n",
      "Tentative: \t6\n",
      "Rejected: \t105\n"
     ]
    },
    {
     "name": "stderr",
     "output_type": "stream",
     "text": [
      "/Users/shohei.mitani/.pyenv/versions/anaconda3-5.3.1/lib/python3.6/site-packages/boruta/boruta_py.py:418: RuntimeWarning: invalid value encountered in greater\n",
      "  hits = np.where(cur_imp[0] > imp_sha_max)[0]\n",
      "/Users/shohei.mitani/.pyenv/versions/anaconda3-5.3.1/lib/python3.6/site-packages/boruta/boruta_py.py:380: DataConversionWarning: A column-vector y was passed when a 1d array was expected. Please change the shape of y to (n_samples,), for example using ravel().\n",
      "  self.estimator.fit(X, y)\n"
     ]
    },
    {
     "name": "stdout",
     "output_type": "stream",
     "text": [
      "Iteration: \t192 / 500\n",
      "Confirmed: \t19\n",
      "Tentative: \t6\n",
      "Rejected: \t105\n"
     ]
    },
    {
     "name": "stderr",
     "output_type": "stream",
     "text": [
      "/Users/shohei.mitani/.pyenv/versions/anaconda3-5.3.1/lib/python3.6/site-packages/boruta/boruta_py.py:418: RuntimeWarning: invalid value encountered in greater\n",
      "  hits = np.where(cur_imp[0] > imp_sha_max)[0]\n",
      "/Users/shohei.mitani/.pyenv/versions/anaconda3-5.3.1/lib/python3.6/site-packages/boruta/boruta_py.py:380: DataConversionWarning: A column-vector y was passed when a 1d array was expected. Please change the shape of y to (n_samples,), for example using ravel().\n",
      "  self.estimator.fit(X, y)\n"
     ]
    },
    {
     "name": "stdout",
     "output_type": "stream",
     "text": [
      "Iteration: \t193 / 500\n",
      "Confirmed: \t19\n",
      "Tentative: \t6\n",
      "Rejected: \t105\n"
     ]
    },
    {
     "name": "stderr",
     "output_type": "stream",
     "text": [
      "/Users/shohei.mitani/.pyenv/versions/anaconda3-5.3.1/lib/python3.6/site-packages/boruta/boruta_py.py:418: RuntimeWarning: invalid value encountered in greater\n",
      "  hits = np.where(cur_imp[0] > imp_sha_max)[0]\n",
      "/Users/shohei.mitani/.pyenv/versions/anaconda3-5.3.1/lib/python3.6/site-packages/boruta/boruta_py.py:380: DataConversionWarning: A column-vector y was passed when a 1d array was expected. Please change the shape of y to (n_samples,), for example using ravel().\n",
      "  self.estimator.fit(X, y)\n"
     ]
    },
    {
     "name": "stdout",
     "output_type": "stream",
     "text": [
      "Iteration: \t194 / 500\n",
      "Confirmed: \t19\n",
      "Tentative: \t6\n",
      "Rejected: \t105\n"
     ]
    },
    {
     "name": "stderr",
     "output_type": "stream",
     "text": [
      "/Users/shohei.mitani/.pyenv/versions/anaconda3-5.3.1/lib/python3.6/site-packages/boruta/boruta_py.py:418: RuntimeWarning: invalid value encountered in greater\n",
      "  hits = np.where(cur_imp[0] > imp_sha_max)[0]\n",
      "/Users/shohei.mitani/.pyenv/versions/anaconda3-5.3.1/lib/python3.6/site-packages/boruta/boruta_py.py:380: DataConversionWarning: A column-vector y was passed when a 1d array was expected. Please change the shape of y to (n_samples,), for example using ravel().\n",
      "  self.estimator.fit(X, y)\n"
     ]
    },
    {
     "name": "stdout",
     "output_type": "stream",
     "text": [
      "Iteration: \t195 / 500\n",
      "Confirmed: \t19\n",
      "Tentative: \t6\n",
      "Rejected: \t105\n"
     ]
    },
    {
     "name": "stderr",
     "output_type": "stream",
     "text": [
      "/Users/shohei.mitani/.pyenv/versions/anaconda3-5.3.1/lib/python3.6/site-packages/boruta/boruta_py.py:418: RuntimeWarning: invalid value encountered in greater\n",
      "  hits = np.where(cur_imp[0] > imp_sha_max)[0]\n",
      "/Users/shohei.mitani/.pyenv/versions/anaconda3-5.3.1/lib/python3.6/site-packages/boruta/boruta_py.py:380: DataConversionWarning: A column-vector y was passed when a 1d array was expected. Please change the shape of y to (n_samples,), for example using ravel().\n",
      "  self.estimator.fit(X, y)\n"
     ]
    },
    {
     "name": "stdout",
     "output_type": "stream",
     "text": [
      "Iteration: \t196 / 500\n",
      "Confirmed: \t19\n",
      "Tentative: \t6\n",
      "Rejected: \t105\n"
     ]
    },
    {
     "name": "stderr",
     "output_type": "stream",
     "text": [
      "/Users/shohei.mitani/.pyenv/versions/anaconda3-5.3.1/lib/python3.6/site-packages/boruta/boruta_py.py:418: RuntimeWarning: invalid value encountered in greater\n",
      "  hits = np.where(cur_imp[0] > imp_sha_max)[0]\n",
      "/Users/shohei.mitani/.pyenv/versions/anaconda3-5.3.1/lib/python3.6/site-packages/boruta/boruta_py.py:380: DataConversionWarning: A column-vector y was passed when a 1d array was expected. Please change the shape of y to (n_samples,), for example using ravel().\n",
      "  self.estimator.fit(X, y)\n"
     ]
    },
    {
     "name": "stdout",
     "output_type": "stream",
     "text": [
      "Iteration: \t197 / 500\n",
      "Confirmed: \t19\n",
      "Tentative: \t6\n",
      "Rejected: \t105\n"
     ]
    },
    {
     "name": "stderr",
     "output_type": "stream",
     "text": [
      "/Users/shohei.mitani/.pyenv/versions/anaconda3-5.3.1/lib/python3.6/site-packages/boruta/boruta_py.py:418: RuntimeWarning: invalid value encountered in greater\n",
      "  hits = np.where(cur_imp[0] > imp_sha_max)[0]\n",
      "/Users/shohei.mitani/.pyenv/versions/anaconda3-5.3.1/lib/python3.6/site-packages/boruta/boruta_py.py:380: DataConversionWarning: A column-vector y was passed when a 1d array was expected. Please change the shape of y to (n_samples,), for example using ravel().\n",
      "  self.estimator.fit(X, y)\n"
     ]
    },
    {
     "name": "stdout",
     "output_type": "stream",
     "text": [
      "Iteration: \t198 / 500\n",
      "Confirmed: \t19\n",
      "Tentative: \t6\n",
      "Rejected: \t105\n"
     ]
    },
    {
     "name": "stderr",
     "output_type": "stream",
     "text": [
      "/Users/shohei.mitani/.pyenv/versions/anaconda3-5.3.1/lib/python3.6/site-packages/boruta/boruta_py.py:418: RuntimeWarning: invalid value encountered in greater\n",
      "  hits = np.where(cur_imp[0] > imp_sha_max)[0]\n",
      "/Users/shohei.mitani/.pyenv/versions/anaconda3-5.3.1/lib/python3.6/site-packages/boruta/boruta_py.py:380: DataConversionWarning: A column-vector y was passed when a 1d array was expected. Please change the shape of y to (n_samples,), for example using ravel().\n",
      "  self.estimator.fit(X, y)\n"
     ]
    },
    {
     "name": "stdout",
     "output_type": "stream",
     "text": [
      "Iteration: \t199 / 500\n",
      "Confirmed: \t19\n",
      "Tentative: \t6\n",
      "Rejected: \t105\n"
     ]
    },
    {
     "name": "stderr",
     "output_type": "stream",
     "text": [
      "/Users/shohei.mitani/.pyenv/versions/anaconda3-5.3.1/lib/python3.6/site-packages/boruta/boruta_py.py:418: RuntimeWarning: invalid value encountered in greater\n",
      "  hits = np.where(cur_imp[0] > imp_sha_max)[0]\n",
      "/Users/shohei.mitani/.pyenv/versions/anaconda3-5.3.1/lib/python3.6/site-packages/boruta/boruta_py.py:380: DataConversionWarning: A column-vector y was passed when a 1d array was expected. Please change the shape of y to (n_samples,), for example using ravel().\n",
      "  self.estimator.fit(X, y)\n"
     ]
    },
    {
     "name": "stdout",
     "output_type": "stream",
     "text": [
      "Iteration: \t200 / 500\n",
      "Confirmed: \t19\n",
      "Tentative: \t6\n",
      "Rejected: \t105\n"
     ]
    },
    {
     "name": "stderr",
     "output_type": "stream",
     "text": [
      "/Users/shohei.mitani/.pyenv/versions/anaconda3-5.3.1/lib/python3.6/site-packages/boruta/boruta_py.py:418: RuntimeWarning: invalid value encountered in greater\n",
      "  hits = np.where(cur_imp[0] > imp_sha_max)[0]\n",
      "/Users/shohei.mitani/.pyenv/versions/anaconda3-5.3.1/lib/python3.6/site-packages/boruta/boruta_py.py:380: DataConversionWarning: A column-vector y was passed when a 1d array was expected. Please change the shape of y to (n_samples,), for example using ravel().\n",
      "  self.estimator.fit(X, y)\n"
     ]
    },
    {
     "name": "stdout",
     "output_type": "stream",
     "text": [
      "Iteration: \t201 / 500\n",
      "Confirmed: \t19\n",
      "Tentative: \t6\n",
      "Rejected: \t105\n"
     ]
    },
    {
     "name": "stderr",
     "output_type": "stream",
     "text": [
      "/Users/shohei.mitani/.pyenv/versions/anaconda3-5.3.1/lib/python3.6/site-packages/boruta/boruta_py.py:418: RuntimeWarning: invalid value encountered in greater\n",
      "  hits = np.where(cur_imp[0] > imp_sha_max)[0]\n",
      "/Users/shohei.mitani/.pyenv/versions/anaconda3-5.3.1/lib/python3.6/site-packages/boruta/boruta_py.py:380: DataConversionWarning: A column-vector y was passed when a 1d array was expected. Please change the shape of y to (n_samples,), for example using ravel().\n",
      "  self.estimator.fit(X, y)\n"
     ]
    },
    {
     "name": "stdout",
     "output_type": "stream",
     "text": [
      "Iteration: \t202 / 500\n",
      "Confirmed: \t19\n",
      "Tentative: \t6\n",
      "Rejected: \t105\n"
     ]
    },
    {
     "name": "stderr",
     "output_type": "stream",
     "text": [
      "/Users/shohei.mitani/.pyenv/versions/anaconda3-5.3.1/lib/python3.6/site-packages/boruta/boruta_py.py:418: RuntimeWarning: invalid value encountered in greater\n",
      "  hits = np.where(cur_imp[0] > imp_sha_max)[0]\n",
      "/Users/shohei.mitani/.pyenv/versions/anaconda3-5.3.1/lib/python3.6/site-packages/boruta/boruta_py.py:380: DataConversionWarning: A column-vector y was passed when a 1d array was expected. Please change the shape of y to (n_samples,), for example using ravel().\n",
      "  self.estimator.fit(X, y)\n"
     ]
    },
    {
     "name": "stdout",
     "output_type": "stream",
     "text": [
      "Iteration: \t203 / 500\n",
      "Confirmed: \t19\n",
      "Tentative: \t6\n",
      "Rejected: \t105\n"
     ]
    },
    {
     "name": "stderr",
     "output_type": "stream",
     "text": [
      "/Users/shohei.mitani/.pyenv/versions/anaconda3-5.3.1/lib/python3.6/site-packages/boruta/boruta_py.py:418: RuntimeWarning: invalid value encountered in greater\n",
      "  hits = np.where(cur_imp[0] > imp_sha_max)[0]\n",
      "/Users/shohei.mitani/.pyenv/versions/anaconda3-5.3.1/lib/python3.6/site-packages/boruta/boruta_py.py:380: DataConversionWarning: A column-vector y was passed when a 1d array was expected. Please change the shape of y to (n_samples,), for example using ravel().\n",
      "  self.estimator.fit(X, y)\n"
     ]
    },
    {
     "name": "stdout",
     "output_type": "stream",
     "text": [
      "Iteration: \t204 / 500\n",
      "Confirmed: \t19\n",
      "Tentative: \t6\n",
      "Rejected: \t105\n"
     ]
    },
    {
     "name": "stderr",
     "output_type": "stream",
     "text": [
      "/Users/shohei.mitani/.pyenv/versions/anaconda3-5.3.1/lib/python3.6/site-packages/boruta/boruta_py.py:418: RuntimeWarning: invalid value encountered in greater\n",
      "  hits = np.where(cur_imp[0] > imp_sha_max)[0]\n",
      "/Users/shohei.mitani/.pyenv/versions/anaconda3-5.3.1/lib/python3.6/site-packages/boruta/boruta_py.py:380: DataConversionWarning: A column-vector y was passed when a 1d array was expected. Please change the shape of y to (n_samples,), for example using ravel().\n",
      "  self.estimator.fit(X, y)\n"
     ]
    },
    {
     "name": "stdout",
     "output_type": "stream",
     "text": [
      "Iteration: \t205 / 500\n",
      "Confirmed: \t19\n",
      "Tentative: \t6\n",
      "Rejected: \t105\n"
     ]
    },
    {
     "name": "stderr",
     "output_type": "stream",
     "text": [
      "/Users/shohei.mitani/.pyenv/versions/anaconda3-5.3.1/lib/python3.6/site-packages/boruta/boruta_py.py:418: RuntimeWarning: invalid value encountered in greater\n",
      "  hits = np.where(cur_imp[0] > imp_sha_max)[0]\n",
      "/Users/shohei.mitani/.pyenv/versions/anaconda3-5.3.1/lib/python3.6/site-packages/boruta/boruta_py.py:380: DataConversionWarning: A column-vector y was passed when a 1d array was expected. Please change the shape of y to (n_samples,), for example using ravel().\n",
      "  self.estimator.fit(X, y)\n"
     ]
    },
    {
     "name": "stdout",
     "output_type": "stream",
     "text": [
      "Iteration: \t206 / 500\n",
      "Confirmed: \t19\n",
      "Tentative: \t6\n",
      "Rejected: \t105\n"
     ]
    },
    {
     "name": "stderr",
     "output_type": "stream",
     "text": [
      "/Users/shohei.mitani/.pyenv/versions/anaconda3-5.3.1/lib/python3.6/site-packages/boruta/boruta_py.py:418: RuntimeWarning: invalid value encountered in greater\n",
      "  hits = np.where(cur_imp[0] > imp_sha_max)[0]\n",
      "/Users/shohei.mitani/.pyenv/versions/anaconda3-5.3.1/lib/python3.6/site-packages/boruta/boruta_py.py:380: DataConversionWarning: A column-vector y was passed when a 1d array was expected. Please change the shape of y to (n_samples,), for example using ravel().\n",
      "  self.estimator.fit(X, y)\n"
     ]
    },
    {
     "name": "stdout",
     "output_type": "stream",
     "text": [
      "Iteration: \t207 / 500\n",
      "Confirmed: \t19\n",
      "Tentative: \t6\n",
      "Rejected: \t105\n"
     ]
    },
    {
     "name": "stderr",
     "output_type": "stream",
     "text": [
      "/Users/shohei.mitani/.pyenv/versions/anaconda3-5.3.1/lib/python3.6/site-packages/boruta/boruta_py.py:418: RuntimeWarning: invalid value encountered in greater\n",
      "  hits = np.where(cur_imp[0] > imp_sha_max)[0]\n",
      "/Users/shohei.mitani/.pyenv/versions/anaconda3-5.3.1/lib/python3.6/site-packages/boruta/boruta_py.py:380: DataConversionWarning: A column-vector y was passed when a 1d array was expected. Please change the shape of y to (n_samples,), for example using ravel().\n",
      "  self.estimator.fit(X, y)\n"
     ]
    },
    {
     "name": "stdout",
     "output_type": "stream",
     "text": [
      "Iteration: \t208 / 500\n",
      "Confirmed: \t19\n",
      "Tentative: \t6\n",
      "Rejected: \t105\n"
     ]
    },
    {
     "name": "stderr",
     "output_type": "stream",
     "text": [
      "/Users/shohei.mitani/.pyenv/versions/anaconda3-5.3.1/lib/python3.6/site-packages/boruta/boruta_py.py:418: RuntimeWarning: invalid value encountered in greater\n",
      "  hits = np.where(cur_imp[0] > imp_sha_max)[0]\n",
      "/Users/shohei.mitani/.pyenv/versions/anaconda3-5.3.1/lib/python3.6/site-packages/boruta/boruta_py.py:380: DataConversionWarning: A column-vector y was passed when a 1d array was expected. Please change the shape of y to (n_samples,), for example using ravel().\n",
      "  self.estimator.fit(X, y)\n"
     ]
    },
    {
     "name": "stdout",
     "output_type": "stream",
     "text": [
      "Iteration: \t209 / 500\n",
      "Confirmed: \t19\n",
      "Tentative: \t6\n",
      "Rejected: \t105\n"
     ]
    },
    {
     "name": "stderr",
     "output_type": "stream",
     "text": [
      "/Users/shohei.mitani/.pyenv/versions/anaconda3-5.3.1/lib/python3.6/site-packages/boruta/boruta_py.py:418: RuntimeWarning: invalid value encountered in greater\n",
      "  hits = np.where(cur_imp[0] > imp_sha_max)[0]\n",
      "/Users/shohei.mitani/.pyenv/versions/anaconda3-5.3.1/lib/python3.6/site-packages/boruta/boruta_py.py:380: DataConversionWarning: A column-vector y was passed when a 1d array was expected. Please change the shape of y to (n_samples,), for example using ravel().\n",
      "  self.estimator.fit(X, y)\n"
     ]
    },
    {
     "name": "stdout",
     "output_type": "stream",
     "text": [
      "Iteration: \t210 / 500\n",
      "Confirmed: \t19\n",
      "Tentative: \t6\n",
      "Rejected: \t105\n"
     ]
    },
    {
     "name": "stderr",
     "output_type": "stream",
     "text": [
      "/Users/shohei.mitani/.pyenv/versions/anaconda3-5.3.1/lib/python3.6/site-packages/boruta/boruta_py.py:418: RuntimeWarning: invalid value encountered in greater\n",
      "  hits = np.where(cur_imp[0] > imp_sha_max)[0]\n",
      "/Users/shohei.mitani/.pyenv/versions/anaconda3-5.3.1/lib/python3.6/site-packages/boruta/boruta_py.py:380: DataConversionWarning: A column-vector y was passed when a 1d array was expected. Please change the shape of y to (n_samples,), for example using ravel().\n",
      "  self.estimator.fit(X, y)\n"
     ]
    },
    {
     "name": "stdout",
     "output_type": "stream",
     "text": [
      "Iteration: \t211 / 500\n",
      "Confirmed: \t19\n",
      "Tentative: \t6\n",
      "Rejected: \t105\n"
     ]
    },
    {
     "name": "stderr",
     "output_type": "stream",
     "text": [
      "/Users/shohei.mitani/.pyenv/versions/anaconda3-5.3.1/lib/python3.6/site-packages/boruta/boruta_py.py:418: RuntimeWarning: invalid value encountered in greater\n",
      "  hits = np.where(cur_imp[0] > imp_sha_max)[0]\n",
      "/Users/shohei.mitani/.pyenv/versions/anaconda3-5.3.1/lib/python3.6/site-packages/boruta/boruta_py.py:380: DataConversionWarning: A column-vector y was passed when a 1d array was expected. Please change the shape of y to (n_samples,), for example using ravel().\n",
      "  self.estimator.fit(X, y)\n"
     ]
    },
    {
     "name": "stdout",
     "output_type": "stream",
     "text": [
      "Iteration: \t212 / 500\n",
      "Confirmed: \t19\n",
      "Tentative: \t6\n",
      "Rejected: \t105\n"
     ]
    },
    {
     "name": "stderr",
     "output_type": "stream",
     "text": [
      "/Users/shohei.mitani/.pyenv/versions/anaconda3-5.3.1/lib/python3.6/site-packages/boruta/boruta_py.py:418: RuntimeWarning: invalid value encountered in greater\n",
      "  hits = np.where(cur_imp[0] > imp_sha_max)[0]\n",
      "/Users/shohei.mitani/.pyenv/versions/anaconda3-5.3.1/lib/python3.6/site-packages/boruta/boruta_py.py:380: DataConversionWarning: A column-vector y was passed when a 1d array was expected. Please change the shape of y to (n_samples,), for example using ravel().\n",
      "  self.estimator.fit(X, y)\n"
     ]
    },
    {
     "name": "stdout",
     "output_type": "stream",
     "text": [
      "Iteration: \t213 / 500\n",
      "Confirmed: \t19\n",
      "Tentative: \t6\n",
      "Rejected: \t105\n"
     ]
    },
    {
     "name": "stderr",
     "output_type": "stream",
     "text": [
      "/Users/shohei.mitani/.pyenv/versions/anaconda3-5.3.1/lib/python3.6/site-packages/boruta/boruta_py.py:418: RuntimeWarning: invalid value encountered in greater\n",
      "  hits = np.where(cur_imp[0] > imp_sha_max)[0]\n",
      "/Users/shohei.mitani/.pyenv/versions/anaconda3-5.3.1/lib/python3.6/site-packages/boruta/boruta_py.py:380: DataConversionWarning: A column-vector y was passed when a 1d array was expected. Please change the shape of y to (n_samples,), for example using ravel().\n",
      "  self.estimator.fit(X, y)\n"
     ]
    },
    {
     "name": "stdout",
     "output_type": "stream",
     "text": [
      "Iteration: \t214 / 500\n",
      "Confirmed: \t19\n",
      "Tentative: \t6\n",
      "Rejected: \t105\n"
     ]
    },
    {
     "name": "stderr",
     "output_type": "stream",
     "text": [
      "/Users/shohei.mitani/.pyenv/versions/anaconda3-5.3.1/lib/python3.6/site-packages/boruta/boruta_py.py:418: RuntimeWarning: invalid value encountered in greater\n",
      "  hits = np.where(cur_imp[0] > imp_sha_max)[0]\n",
      "/Users/shohei.mitani/.pyenv/versions/anaconda3-5.3.1/lib/python3.6/site-packages/boruta/boruta_py.py:380: DataConversionWarning: A column-vector y was passed when a 1d array was expected. Please change the shape of y to (n_samples,), for example using ravel().\n",
      "  self.estimator.fit(X, y)\n"
     ]
    },
    {
     "name": "stdout",
     "output_type": "stream",
     "text": [
      "Iteration: \t215 / 500\n",
      "Confirmed: \t19\n",
      "Tentative: \t6\n",
      "Rejected: \t105\n"
     ]
    },
    {
     "name": "stderr",
     "output_type": "stream",
     "text": [
      "/Users/shohei.mitani/.pyenv/versions/anaconda3-5.3.1/lib/python3.6/site-packages/boruta/boruta_py.py:418: RuntimeWarning: invalid value encountered in greater\n",
      "  hits = np.where(cur_imp[0] > imp_sha_max)[0]\n",
      "/Users/shohei.mitani/.pyenv/versions/anaconda3-5.3.1/lib/python3.6/site-packages/boruta/boruta_py.py:380: DataConversionWarning: A column-vector y was passed when a 1d array was expected. Please change the shape of y to (n_samples,), for example using ravel().\n",
      "  self.estimator.fit(X, y)\n"
     ]
    },
    {
     "name": "stdout",
     "output_type": "stream",
     "text": [
      "Iteration: \t216 / 500\n",
      "Confirmed: \t19\n",
      "Tentative: \t6\n",
      "Rejected: \t105\n"
     ]
    },
    {
     "name": "stderr",
     "output_type": "stream",
     "text": [
      "/Users/shohei.mitani/.pyenv/versions/anaconda3-5.3.1/lib/python3.6/site-packages/boruta/boruta_py.py:418: RuntimeWarning: invalid value encountered in greater\n",
      "  hits = np.where(cur_imp[0] > imp_sha_max)[0]\n",
      "/Users/shohei.mitani/.pyenv/versions/anaconda3-5.3.1/lib/python3.6/site-packages/boruta/boruta_py.py:380: DataConversionWarning: A column-vector y was passed when a 1d array was expected. Please change the shape of y to (n_samples,), for example using ravel().\n",
      "  self.estimator.fit(X, y)\n"
     ]
    },
    {
     "name": "stdout",
     "output_type": "stream",
     "text": [
      "Iteration: \t217 / 500\n",
      "Confirmed: \t19\n",
      "Tentative: \t6\n",
      "Rejected: \t105\n"
     ]
    },
    {
     "name": "stderr",
     "output_type": "stream",
     "text": [
      "/Users/shohei.mitani/.pyenv/versions/anaconda3-5.3.1/lib/python3.6/site-packages/boruta/boruta_py.py:418: RuntimeWarning: invalid value encountered in greater\n",
      "  hits = np.where(cur_imp[0] > imp_sha_max)[0]\n",
      "/Users/shohei.mitani/.pyenv/versions/anaconda3-5.3.1/lib/python3.6/site-packages/boruta/boruta_py.py:380: DataConversionWarning: A column-vector y was passed when a 1d array was expected. Please change the shape of y to (n_samples,), for example using ravel().\n",
      "  self.estimator.fit(X, y)\n"
     ]
    },
    {
     "name": "stdout",
     "output_type": "stream",
     "text": [
      "Iteration: \t218 / 500\n",
      "Confirmed: \t19\n",
      "Tentative: \t6\n",
      "Rejected: \t105\n"
     ]
    },
    {
     "name": "stderr",
     "output_type": "stream",
     "text": [
      "/Users/shohei.mitani/.pyenv/versions/anaconda3-5.3.1/lib/python3.6/site-packages/boruta/boruta_py.py:418: RuntimeWarning: invalid value encountered in greater\n",
      "  hits = np.where(cur_imp[0] > imp_sha_max)[0]\n",
      "/Users/shohei.mitani/.pyenv/versions/anaconda3-5.3.1/lib/python3.6/site-packages/boruta/boruta_py.py:380: DataConversionWarning: A column-vector y was passed when a 1d array was expected. Please change the shape of y to (n_samples,), for example using ravel().\n",
      "  self.estimator.fit(X, y)\n"
     ]
    },
    {
     "name": "stdout",
     "output_type": "stream",
     "text": [
      "Iteration: \t219 / 500\n",
      "Confirmed: \t19\n",
      "Tentative: \t6\n",
      "Rejected: \t105\n"
     ]
    },
    {
     "name": "stderr",
     "output_type": "stream",
     "text": [
      "/Users/shohei.mitani/.pyenv/versions/anaconda3-5.3.1/lib/python3.6/site-packages/boruta/boruta_py.py:418: RuntimeWarning: invalid value encountered in greater\n",
      "  hits = np.where(cur_imp[0] > imp_sha_max)[0]\n",
      "/Users/shohei.mitani/.pyenv/versions/anaconda3-5.3.1/lib/python3.6/site-packages/boruta/boruta_py.py:380: DataConversionWarning: A column-vector y was passed when a 1d array was expected. Please change the shape of y to (n_samples,), for example using ravel().\n",
      "  self.estimator.fit(X, y)\n"
     ]
    },
    {
     "name": "stdout",
     "output_type": "stream",
     "text": [
      "Iteration: \t220 / 500\n",
      "Confirmed: \t19\n",
      "Tentative: \t6\n",
      "Rejected: \t105\n"
     ]
    },
    {
     "name": "stderr",
     "output_type": "stream",
     "text": [
      "/Users/shohei.mitani/.pyenv/versions/anaconda3-5.3.1/lib/python3.6/site-packages/boruta/boruta_py.py:418: RuntimeWarning: invalid value encountered in greater\n",
      "  hits = np.where(cur_imp[0] > imp_sha_max)[0]\n",
      "/Users/shohei.mitani/.pyenv/versions/anaconda3-5.3.1/lib/python3.6/site-packages/boruta/boruta_py.py:380: DataConversionWarning: A column-vector y was passed when a 1d array was expected. Please change the shape of y to (n_samples,), for example using ravel().\n",
      "  self.estimator.fit(X, y)\n"
     ]
    },
    {
     "name": "stdout",
     "output_type": "stream",
     "text": [
      "Iteration: \t221 / 500\n",
      "Confirmed: \t19\n",
      "Tentative: \t6\n",
      "Rejected: \t105\n"
     ]
    },
    {
     "name": "stderr",
     "output_type": "stream",
     "text": [
      "/Users/shohei.mitani/.pyenv/versions/anaconda3-5.3.1/lib/python3.6/site-packages/boruta/boruta_py.py:418: RuntimeWarning: invalid value encountered in greater\n",
      "  hits = np.where(cur_imp[0] > imp_sha_max)[0]\n",
      "/Users/shohei.mitani/.pyenv/versions/anaconda3-5.3.1/lib/python3.6/site-packages/boruta/boruta_py.py:380: DataConversionWarning: A column-vector y was passed when a 1d array was expected. Please change the shape of y to (n_samples,), for example using ravel().\n",
      "  self.estimator.fit(X, y)\n"
     ]
    },
    {
     "name": "stdout",
     "output_type": "stream",
     "text": [
      "Iteration: \t222 / 500\n",
      "Confirmed: \t19\n",
      "Tentative: \t6\n",
      "Rejected: \t105\n"
     ]
    },
    {
     "name": "stderr",
     "output_type": "stream",
     "text": [
      "/Users/shohei.mitani/.pyenv/versions/anaconda3-5.3.1/lib/python3.6/site-packages/boruta/boruta_py.py:418: RuntimeWarning: invalid value encountered in greater\n",
      "  hits = np.where(cur_imp[0] > imp_sha_max)[0]\n",
      "/Users/shohei.mitani/.pyenv/versions/anaconda3-5.3.1/lib/python3.6/site-packages/boruta/boruta_py.py:380: DataConversionWarning: A column-vector y was passed when a 1d array was expected. Please change the shape of y to (n_samples,), for example using ravel().\n",
      "  self.estimator.fit(X, y)\n"
     ]
    },
    {
     "name": "stdout",
     "output_type": "stream",
     "text": [
      "Iteration: \t223 / 500\n",
      "Confirmed: \t19\n",
      "Tentative: \t6\n",
      "Rejected: \t105\n"
     ]
    },
    {
     "name": "stderr",
     "output_type": "stream",
     "text": [
      "/Users/shohei.mitani/.pyenv/versions/anaconda3-5.3.1/lib/python3.6/site-packages/boruta/boruta_py.py:418: RuntimeWarning: invalid value encountered in greater\n",
      "  hits = np.where(cur_imp[0] > imp_sha_max)[0]\n",
      "/Users/shohei.mitani/.pyenv/versions/anaconda3-5.3.1/lib/python3.6/site-packages/boruta/boruta_py.py:380: DataConversionWarning: A column-vector y was passed when a 1d array was expected. Please change the shape of y to (n_samples,), for example using ravel().\n",
      "  self.estimator.fit(X, y)\n"
     ]
    },
    {
     "name": "stdout",
     "output_type": "stream",
     "text": [
      "Iteration: \t224 / 500\n",
      "Confirmed: \t19\n",
      "Tentative: \t6\n",
      "Rejected: \t105\n"
     ]
    },
    {
     "name": "stderr",
     "output_type": "stream",
     "text": [
      "/Users/shohei.mitani/.pyenv/versions/anaconda3-5.3.1/lib/python3.6/site-packages/boruta/boruta_py.py:418: RuntimeWarning: invalid value encountered in greater\n",
      "  hits = np.where(cur_imp[0] > imp_sha_max)[0]\n",
      "/Users/shohei.mitani/.pyenv/versions/anaconda3-5.3.1/lib/python3.6/site-packages/boruta/boruta_py.py:380: DataConversionWarning: A column-vector y was passed when a 1d array was expected. Please change the shape of y to (n_samples,), for example using ravel().\n",
      "  self.estimator.fit(X, y)\n"
     ]
    },
    {
     "name": "stdout",
     "output_type": "stream",
     "text": [
      "Iteration: \t225 / 500\n",
      "Confirmed: \t19\n",
      "Tentative: \t6\n",
      "Rejected: \t105\n"
     ]
    },
    {
     "name": "stderr",
     "output_type": "stream",
     "text": [
      "/Users/shohei.mitani/.pyenv/versions/anaconda3-5.3.1/lib/python3.6/site-packages/boruta/boruta_py.py:418: RuntimeWarning: invalid value encountered in greater\n",
      "  hits = np.where(cur_imp[0] > imp_sha_max)[0]\n",
      "/Users/shohei.mitani/.pyenv/versions/anaconda3-5.3.1/lib/python3.6/site-packages/boruta/boruta_py.py:380: DataConversionWarning: A column-vector y was passed when a 1d array was expected. Please change the shape of y to (n_samples,), for example using ravel().\n",
      "  self.estimator.fit(X, y)\n"
     ]
    },
    {
     "name": "stdout",
     "output_type": "stream",
     "text": [
      "Iteration: \t226 / 500\n",
      "Confirmed: \t19\n",
      "Tentative: \t6\n",
      "Rejected: \t105\n"
     ]
    },
    {
     "name": "stderr",
     "output_type": "stream",
     "text": [
      "/Users/shohei.mitani/.pyenv/versions/anaconda3-5.3.1/lib/python3.6/site-packages/boruta/boruta_py.py:418: RuntimeWarning: invalid value encountered in greater\n",
      "  hits = np.where(cur_imp[0] > imp_sha_max)[0]\n",
      "/Users/shohei.mitani/.pyenv/versions/anaconda3-5.3.1/lib/python3.6/site-packages/boruta/boruta_py.py:380: DataConversionWarning: A column-vector y was passed when a 1d array was expected. Please change the shape of y to (n_samples,), for example using ravel().\n",
      "  self.estimator.fit(X, y)\n"
     ]
    },
    {
     "name": "stdout",
     "output_type": "stream",
     "text": [
      "Iteration: \t227 / 500\n",
      "Confirmed: \t19\n",
      "Tentative: \t6\n",
      "Rejected: \t105\n"
     ]
    },
    {
     "name": "stderr",
     "output_type": "stream",
     "text": [
      "/Users/shohei.mitani/.pyenv/versions/anaconda3-5.3.1/lib/python3.6/site-packages/boruta/boruta_py.py:418: RuntimeWarning: invalid value encountered in greater\n",
      "  hits = np.where(cur_imp[0] > imp_sha_max)[0]\n",
      "/Users/shohei.mitani/.pyenv/versions/anaconda3-5.3.1/lib/python3.6/site-packages/boruta/boruta_py.py:380: DataConversionWarning: A column-vector y was passed when a 1d array was expected. Please change the shape of y to (n_samples,), for example using ravel().\n",
      "  self.estimator.fit(X, y)\n"
     ]
    },
    {
     "name": "stdout",
     "output_type": "stream",
     "text": [
      "Iteration: \t228 / 500\n",
      "Confirmed: \t20\n",
      "Tentative: \t5\n",
      "Rejected: \t105\n"
     ]
    },
    {
     "name": "stderr",
     "output_type": "stream",
     "text": [
      "/Users/shohei.mitani/.pyenv/versions/anaconda3-5.3.1/lib/python3.6/site-packages/boruta/boruta_py.py:418: RuntimeWarning: invalid value encountered in greater\n",
      "  hits = np.where(cur_imp[0] > imp_sha_max)[0]\n",
      "/Users/shohei.mitani/.pyenv/versions/anaconda3-5.3.1/lib/python3.6/site-packages/boruta/boruta_py.py:380: DataConversionWarning: A column-vector y was passed when a 1d array was expected. Please change the shape of y to (n_samples,), for example using ravel().\n",
      "  self.estimator.fit(X, y)\n"
     ]
    },
    {
     "name": "stdout",
     "output_type": "stream",
     "text": [
      "Iteration: \t229 / 500\n",
      "Confirmed: \t20\n",
      "Tentative: \t5\n",
      "Rejected: \t105\n"
     ]
    },
    {
     "name": "stderr",
     "output_type": "stream",
     "text": [
      "/Users/shohei.mitani/.pyenv/versions/anaconda3-5.3.1/lib/python3.6/site-packages/boruta/boruta_py.py:418: RuntimeWarning: invalid value encountered in greater\n",
      "  hits = np.where(cur_imp[0] > imp_sha_max)[0]\n",
      "/Users/shohei.mitani/.pyenv/versions/anaconda3-5.3.1/lib/python3.6/site-packages/boruta/boruta_py.py:380: DataConversionWarning: A column-vector y was passed when a 1d array was expected. Please change the shape of y to (n_samples,), for example using ravel().\n",
      "  self.estimator.fit(X, y)\n"
     ]
    },
    {
     "name": "stdout",
     "output_type": "stream",
     "text": [
      "Iteration: \t230 / 500\n",
      "Confirmed: \t20\n",
      "Tentative: \t5\n",
      "Rejected: \t105\n"
     ]
    },
    {
     "name": "stderr",
     "output_type": "stream",
     "text": [
      "/Users/shohei.mitani/.pyenv/versions/anaconda3-5.3.1/lib/python3.6/site-packages/boruta/boruta_py.py:418: RuntimeWarning: invalid value encountered in greater\n",
      "  hits = np.where(cur_imp[0] > imp_sha_max)[0]\n",
      "/Users/shohei.mitani/.pyenv/versions/anaconda3-5.3.1/lib/python3.6/site-packages/boruta/boruta_py.py:380: DataConversionWarning: A column-vector y was passed when a 1d array was expected. Please change the shape of y to (n_samples,), for example using ravel().\n",
      "  self.estimator.fit(X, y)\n"
     ]
    },
    {
     "name": "stdout",
     "output_type": "stream",
     "text": [
      "Iteration: \t231 / 500\n",
      "Confirmed: \t20\n",
      "Tentative: \t5\n",
      "Rejected: \t105\n"
     ]
    },
    {
     "name": "stderr",
     "output_type": "stream",
     "text": [
      "/Users/shohei.mitani/.pyenv/versions/anaconda3-5.3.1/lib/python3.6/site-packages/boruta/boruta_py.py:418: RuntimeWarning: invalid value encountered in greater\n",
      "  hits = np.where(cur_imp[0] > imp_sha_max)[0]\n",
      "/Users/shohei.mitani/.pyenv/versions/anaconda3-5.3.1/lib/python3.6/site-packages/boruta/boruta_py.py:380: DataConversionWarning: A column-vector y was passed when a 1d array was expected. Please change the shape of y to (n_samples,), for example using ravel().\n",
      "  self.estimator.fit(X, y)\n"
     ]
    },
    {
     "name": "stdout",
     "output_type": "stream",
     "text": [
      "Iteration: \t232 / 500\n",
      "Confirmed: \t20\n",
      "Tentative: \t5\n",
      "Rejected: \t105\n"
     ]
    },
    {
     "name": "stderr",
     "output_type": "stream",
     "text": [
      "/Users/shohei.mitani/.pyenv/versions/anaconda3-5.3.1/lib/python3.6/site-packages/boruta/boruta_py.py:418: RuntimeWarning: invalid value encountered in greater\n",
      "  hits = np.where(cur_imp[0] > imp_sha_max)[0]\n",
      "/Users/shohei.mitani/.pyenv/versions/anaconda3-5.3.1/lib/python3.6/site-packages/boruta/boruta_py.py:380: DataConversionWarning: A column-vector y was passed when a 1d array was expected. Please change the shape of y to (n_samples,), for example using ravel().\n",
      "  self.estimator.fit(X, y)\n"
     ]
    },
    {
     "name": "stdout",
     "output_type": "stream",
     "text": [
      "Iteration: \t233 / 500\n",
      "Confirmed: \t20\n",
      "Tentative: \t5\n",
      "Rejected: \t105\n"
     ]
    },
    {
     "name": "stderr",
     "output_type": "stream",
     "text": [
      "/Users/shohei.mitani/.pyenv/versions/anaconda3-5.3.1/lib/python3.6/site-packages/boruta/boruta_py.py:418: RuntimeWarning: invalid value encountered in greater\n",
      "  hits = np.where(cur_imp[0] > imp_sha_max)[0]\n",
      "/Users/shohei.mitani/.pyenv/versions/anaconda3-5.3.1/lib/python3.6/site-packages/boruta/boruta_py.py:380: DataConversionWarning: A column-vector y was passed when a 1d array was expected. Please change the shape of y to (n_samples,), for example using ravel().\n",
      "  self.estimator.fit(X, y)\n"
     ]
    },
    {
     "name": "stdout",
     "output_type": "stream",
     "text": [
      "Iteration: \t234 / 500\n",
      "Confirmed: \t20\n",
      "Tentative: \t5\n",
      "Rejected: \t105\n"
     ]
    },
    {
     "name": "stderr",
     "output_type": "stream",
     "text": [
      "/Users/shohei.mitani/.pyenv/versions/anaconda3-5.3.1/lib/python3.6/site-packages/boruta/boruta_py.py:418: RuntimeWarning: invalid value encountered in greater\n",
      "  hits = np.where(cur_imp[0] > imp_sha_max)[0]\n",
      "/Users/shohei.mitani/.pyenv/versions/anaconda3-5.3.1/lib/python3.6/site-packages/boruta/boruta_py.py:380: DataConversionWarning: A column-vector y was passed when a 1d array was expected. Please change the shape of y to (n_samples,), for example using ravel().\n",
      "  self.estimator.fit(X, y)\n"
     ]
    },
    {
     "name": "stdout",
     "output_type": "stream",
     "text": [
      "Iteration: \t235 / 500\n",
      "Confirmed: \t20\n",
      "Tentative: \t5\n",
      "Rejected: \t105\n"
     ]
    },
    {
     "name": "stderr",
     "output_type": "stream",
     "text": [
      "/Users/shohei.mitani/.pyenv/versions/anaconda3-5.3.1/lib/python3.6/site-packages/boruta/boruta_py.py:418: RuntimeWarning: invalid value encountered in greater\n",
      "  hits = np.where(cur_imp[0] > imp_sha_max)[0]\n",
      "/Users/shohei.mitani/.pyenv/versions/anaconda3-5.3.1/lib/python3.6/site-packages/boruta/boruta_py.py:380: DataConversionWarning: A column-vector y was passed when a 1d array was expected. Please change the shape of y to (n_samples,), for example using ravel().\n",
      "  self.estimator.fit(X, y)\n"
     ]
    },
    {
     "name": "stdout",
     "output_type": "stream",
     "text": [
      "Iteration: \t236 / 500\n",
      "Confirmed: \t20\n",
      "Tentative: \t5\n",
      "Rejected: \t105\n"
     ]
    },
    {
     "name": "stderr",
     "output_type": "stream",
     "text": [
      "/Users/shohei.mitani/.pyenv/versions/anaconda3-5.3.1/lib/python3.6/site-packages/boruta/boruta_py.py:418: RuntimeWarning: invalid value encountered in greater\n",
      "  hits = np.where(cur_imp[0] > imp_sha_max)[0]\n",
      "/Users/shohei.mitani/.pyenv/versions/anaconda3-5.3.1/lib/python3.6/site-packages/boruta/boruta_py.py:380: DataConversionWarning: A column-vector y was passed when a 1d array was expected. Please change the shape of y to (n_samples,), for example using ravel().\n",
      "  self.estimator.fit(X, y)\n"
     ]
    },
    {
     "name": "stdout",
     "output_type": "stream",
     "text": [
      "Iteration: \t237 / 500\n",
      "Confirmed: \t20\n",
      "Tentative: \t5\n",
      "Rejected: \t105\n"
     ]
    },
    {
     "name": "stderr",
     "output_type": "stream",
     "text": [
      "/Users/shohei.mitani/.pyenv/versions/anaconda3-5.3.1/lib/python3.6/site-packages/boruta/boruta_py.py:418: RuntimeWarning: invalid value encountered in greater\n",
      "  hits = np.where(cur_imp[0] > imp_sha_max)[0]\n",
      "/Users/shohei.mitani/.pyenv/versions/anaconda3-5.3.1/lib/python3.6/site-packages/boruta/boruta_py.py:380: DataConversionWarning: A column-vector y was passed when a 1d array was expected. Please change the shape of y to (n_samples,), for example using ravel().\n",
      "  self.estimator.fit(X, y)\n"
     ]
    },
    {
     "name": "stdout",
     "output_type": "stream",
     "text": [
      "Iteration: \t238 / 500\n",
      "Confirmed: \t20\n",
      "Tentative: \t5\n",
      "Rejected: \t105\n"
     ]
    },
    {
     "name": "stderr",
     "output_type": "stream",
     "text": [
      "/Users/shohei.mitani/.pyenv/versions/anaconda3-5.3.1/lib/python3.6/site-packages/boruta/boruta_py.py:418: RuntimeWarning: invalid value encountered in greater\n",
      "  hits = np.where(cur_imp[0] > imp_sha_max)[0]\n",
      "/Users/shohei.mitani/.pyenv/versions/anaconda3-5.3.1/lib/python3.6/site-packages/boruta/boruta_py.py:380: DataConversionWarning: A column-vector y was passed when a 1d array was expected. Please change the shape of y to (n_samples,), for example using ravel().\n",
      "  self.estimator.fit(X, y)\n"
     ]
    },
    {
     "name": "stdout",
     "output_type": "stream",
     "text": [
      "Iteration: \t239 / 500\n",
      "Confirmed: \t20\n",
      "Tentative: \t5\n",
      "Rejected: \t105\n"
     ]
    },
    {
     "name": "stderr",
     "output_type": "stream",
     "text": [
      "/Users/shohei.mitani/.pyenv/versions/anaconda3-5.3.1/lib/python3.6/site-packages/boruta/boruta_py.py:418: RuntimeWarning: invalid value encountered in greater\n",
      "  hits = np.where(cur_imp[0] > imp_sha_max)[0]\n",
      "/Users/shohei.mitani/.pyenv/versions/anaconda3-5.3.1/lib/python3.6/site-packages/boruta/boruta_py.py:380: DataConversionWarning: A column-vector y was passed when a 1d array was expected. Please change the shape of y to (n_samples,), for example using ravel().\n",
      "  self.estimator.fit(X, y)\n"
     ]
    },
    {
     "name": "stdout",
     "output_type": "stream",
     "text": [
      "Iteration: \t240 / 500\n",
      "Confirmed: \t20\n",
      "Tentative: \t5\n",
      "Rejected: \t105\n"
     ]
    },
    {
     "name": "stderr",
     "output_type": "stream",
     "text": [
      "/Users/shohei.mitani/.pyenv/versions/anaconda3-5.3.1/lib/python3.6/site-packages/boruta/boruta_py.py:418: RuntimeWarning: invalid value encountered in greater\n",
      "  hits = np.where(cur_imp[0] > imp_sha_max)[0]\n",
      "/Users/shohei.mitani/.pyenv/versions/anaconda3-5.3.1/lib/python3.6/site-packages/boruta/boruta_py.py:380: DataConversionWarning: A column-vector y was passed when a 1d array was expected. Please change the shape of y to (n_samples,), for example using ravel().\n",
      "  self.estimator.fit(X, y)\n"
     ]
    },
    {
     "name": "stdout",
     "output_type": "stream",
     "text": [
      "Iteration: \t241 / 500\n",
      "Confirmed: \t20\n",
      "Tentative: \t5\n",
      "Rejected: \t105\n"
     ]
    },
    {
     "name": "stderr",
     "output_type": "stream",
     "text": [
      "/Users/shohei.mitani/.pyenv/versions/anaconda3-5.3.1/lib/python3.6/site-packages/boruta/boruta_py.py:418: RuntimeWarning: invalid value encountered in greater\n",
      "  hits = np.where(cur_imp[0] > imp_sha_max)[0]\n",
      "/Users/shohei.mitani/.pyenv/versions/anaconda3-5.3.1/lib/python3.6/site-packages/boruta/boruta_py.py:380: DataConversionWarning: A column-vector y was passed when a 1d array was expected. Please change the shape of y to (n_samples,), for example using ravel().\n",
      "  self.estimator.fit(X, y)\n"
     ]
    },
    {
     "name": "stdout",
     "output_type": "stream",
     "text": [
      "Iteration: \t242 / 500\n",
      "Confirmed: \t20\n",
      "Tentative: \t5\n",
      "Rejected: \t105\n"
     ]
    },
    {
     "name": "stderr",
     "output_type": "stream",
     "text": [
      "/Users/shohei.mitani/.pyenv/versions/anaconda3-5.3.1/lib/python3.6/site-packages/boruta/boruta_py.py:418: RuntimeWarning: invalid value encountered in greater\n",
      "  hits = np.where(cur_imp[0] > imp_sha_max)[0]\n",
      "/Users/shohei.mitani/.pyenv/versions/anaconda3-5.3.1/lib/python3.6/site-packages/boruta/boruta_py.py:380: DataConversionWarning: A column-vector y was passed when a 1d array was expected. Please change the shape of y to (n_samples,), for example using ravel().\n",
      "  self.estimator.fit(X, y)\n"
     ]
    },
    {
     "name": "stdout",
     "output_type": "stream",
     "text": [
      "Iteration: \t243 / 500\n",
      "Confirmed: \t20\n",
      "Tentative: \t5\n",
      "Rejected: \t105\n"
     ]
    },
    {
     "name": "stderr",
     "output_type": "stream",
     "text": [
      "/Users/shohei.mitani/.pyenv/versions/anaconda3-5.3.1/lib/python3.6/site-packages/boruta/boruta_py.py:418: RuntimeWarning: invalid value encountered in greater\n",
      "  hits = np.where(cur_imp[0] > imp_sha_max)[0]\n",
      "/Users/shohei.mitani/.pyenv/versions/anaconda3-5.3.1/lib/python3.6/site-packages/boruta/boruta_py.py:380: DataConversionWarning: A column-vector y was passed when a 1d array was expected. Please change the shape of y to (n_samples,), for example using ravel().\n",
      "  self.estimator.fit(X, y)\n"
     ]
    },
    {
     "name": "stdout",
     "output_type": "stream",
     "text": [
      "Iteration: \t244 / 500\n",
      "Confirmed: \t20\n",
      "Tentative: \t5\n",
      "Rejected: \t105\n"
     ]
    },
    {
     "name": "stderr",
     "output_type": "stream",
     "text": [
      "/Users/shohei.mitani/.pyenv/versions/anaconda3-5.3.1/lib/python3.6/site-packages/boruta/boruta_py.py:418: RuntimeWarning: invalid value encountered in greater\n",
      "  hits = np.where(cur_imp[0] > imp_sha_max)[0]\n",
      "/Users/shohei.mitani/.pyenv/versions/anaconda3-5.3.1/lib/python3.6/site-packages/boruta/boruta_py.py:380: DataConversionWarning: A column-vector y was passed when a 1d array was expected. Please change the shape of y to (n_samples,), for example using ravel().\n",
      "  self.estimator.fit(X, y)\n"
     ]
    },
    {
     "name": "stdout",
     "output_type": "stream",
     "text": [
      "Iteration: \t245 / 500\n",
      "Confirmed: \t20\n",
      "Tentative: \t5\n",
      "Rejected: \t105\n"
     ]
    },
    {
     "name": "stderr",
     "output_type": "stream",
     "text": [
      "/Users/shohei.mitani/.pyenv/versions/anaconda3-5.3.1/lib/python3.6/site-packages/boruta/boruta_py.py:418: RuntimeWarning: invalid value encountered in greater\n",
      "  hits = np.where(cur_imp[0] > imp_sha_max)[0]\n",
      "/Users/shohei.mitani/.pyenv/versions/anaconda3-5.3.1/lib/python3.6/site-packages/boruta/boruta_py.py:380: DataConversionWarning: A column-vector y was passed when a 1d array was expected. Please change the shape of y to (n_samples,), for example using ravel().\n",
      "  self.estimator.fit(X, y)\n"
     ]
    },
    {
     "name": "stdout",
     "output_type": "stream",
     "text": [
      "Iteration: \t246 / 500\n",
      "Confirmed: \t20\n",
      "Tentative: \t5\n",
      "Rejected: \t105\n"
     ]
    },
    {
     "name": "stderr",
     "output_type": "stream",
     "text": [
      "/Users/shohei.mitani/.pyenv/versions/anaconda3-5.3.1/lib/python3.6/site-packages/boruta/boruta_py.py:418: RuntimeWarning: invalid value encountered in greater\n",
      "  hits = np.where(cur_imp[0] > imp_sha_max)[0]\n",
      "/Users/shohei.mitani/.pyenv/versions/anaconda3-5.3.1/lib/python3.6/site-packages/boruta/boruta_py.py:380: DataConversionWarning: A column-vector y was passed when a 1d array was expected. Please change the shape of y to (n_samples,), for example using ravel().\n",
      "  self.estimator.fit(X, y)\n"
     ]
    },
    {
     "name": "stdout",
     "output_type": "stream",
     "text": [
      "Iteration: \t247 / 500\n",
      "Confirmed: \t20\n",
      "Tentative: \t5\n",
      "Rejected: \t105\n"
     ]
    },
    {
     "name": "stderr",
     "output_type": "stream",
     "text": [
      "/Users/shohei.mitani/.pyenv/versions/anaconda3-5.3.1/lib/python3.6/site-packages/boruta/boruta_py.py:418: RuntimeWarning: invalid value encountered in greater\n",
      "  hits = np.where(cur_imp[0] > imp_sha_max)[0]\n",
      "/Users/shohei.mitani/.pyenv/versions/anaconda3-5.3.1/lib/python3.6/site-packages/boruta/boruta_py.py:380: DataConversionWarning: A column-vector y was passed when a 1d array was expected. Please change the shape of y to (n_samples,), for example using ravel().\n",
      "  self.estimator.fit(X, y)\n"
     ]
    },
    {
     "name": "stdout",
     "output_type": "stream",
     "text": [
      "Iteration: \t248 / 500\n",
      "Confirmed: \t20\n",
      "Tentative: \t5\n",
      "Rejected: \t105\n"
     ]
    },
    {
     "name": "stderr",
     "output_type": "stream",
     "text": [
      "/Users/shohei.mitani/.pyenv/versions/anaconda3-5.3.1/lib/python3.6/site-packages/boruta/boruta_py.py:418: RuntimeWarning: invalid value encountered in greater\n",
      "  hits = np.where(cur_imp[0] > imp_sha_max)[0]\n",
      "/Users/shohei.mitani/.pyenv/versions/anaconda3-5.3.1/lib/python3.6/site-packages/boruta/boruta_py.py:380: DataConversionWarning: A column-vector y was passed when a 1d array was expected. Please change the shape of y to (n_samples,), for example using ravel().\n",
      "  self.estimator.fit(X, y)\n"
     ]
    },
    {
     "name": "stdout",
     "output_type": "stream",
     "text": [
      "Iteration: \t249 / 500\n",
      "Confirmed: \t20\n",
      "Tentative: \t5\n",
      "Rejected: \t105\n"
     ]
    },
    {
     "name": "stderr",
     "output_type": "stream",
     "text": [
      "/Users/shohei.mitani/.pyenv/versions/anaconda3-5.3.1/lib/python3.6/site-packages/boruta/boruta_py.py:418: RuntimeWarning: invalid value encountered in greater\n",
      "  hits = np.where(cur_imp[0] > imp_sha_max)[0]\n",
      "/Users/shohei.mitani/.pyenv/versions/anaconda3-5.3.1/lib/python3.6/site-packages/boruta/boruta_py.py:380: DataConversionWarning: A column-vector y was passed when a 1d array was expected. Please change the shape of y to (n_samples,), for example using ravel().\n",
      "  self.estimator.fit(X, y)\n"
     ]
    },
    {
     "name": "stdout",
     "output_type": "stream",
     "text": [
      "Iteration: \t250 / 500\n",
      "Confirmed: \t20\n",
      "Tentative: \t4\n",
      "Rejected: \t106\n"
     ]
    },
    {
     "name": "stderr",
     "output_type": "stream",
     "text": [
      "/Users/shohei.mitani/.pyenv/versions/anaconda3-5.3.1/lib/python3.6/site-packages/boruta/boruta_py.py:418: RuntimeWarning: invalid value encountered in greater\n",
      "  hits = np.where(cur_imp[0] > imp_sha_max)[0]\n",
      "/Users/shohei.mitani/.pyenv/versions/anaconda3-5.3.1/lib/python3.6/site-packages/boruta/boruta_py.py:380: DataConversionWarning: A column-vector y was passed when a 1d array was expected. Please change the shape of y to (n_samples,), for example using ravel().\n",
      "  self.estimator.fit(X, y)\n"
     ]
    },
    {
     "name": "stdout",
     "output_type": "stream",
     "text": [
      "Iteration: \t251 / 500\n",
      "Confirmed: \t20\n",
      "Tentative: \t4\n",
      "Rejected: \t106\n"
     ]
    },
    {
     "name": "stderr",
     "output_type": "stream",
     "text": [
      "/Users/shohei.mitani/.pyenv/versions/anaconda3-5.3.1/lib/python3.6/site-packages/boruta/boruta_py.py:418: RuntimeWarning: invalid value encountered in greater\n",
      "  hits = np.where(cur_imp[0] > imp_sha_max)[0]\n",
      "/Users/shohei.mitani/.pyenv/versions/anaconda3-5.3.1/lib/python3.6/site-packages/boruta/boruta_py.py:380: DataConversionWarning: A column-vector y was passed when a 1d array was expected. Please change the shape of y to (n_samples,), for example using ravel().\n",
      "  self.estimator.fit(X, y)\n"
     ]
    },
    {
     "name": "stdout",
     "output_type": "stream",
     "text": [
      "Iteration: \t252 / 500\n",
      "Confirmed: \t20\n",
      "Tentative: \t4\n",
      "Rejected: \t106\n"
     ]
    },
    {
     "name": "stderr",
     "output_type": "stream",
     "text": [
      "/Users/shohei.mitani/.pyenv/versions/anaconda3-5.3.1/lib/python3.6/site-packages/boruta/boruta_py.py:418: RuntimeWarning: invalid value encountered in greater\n",
      "  hits = np.where(cur_imp[0] > imp_sha_max)[0]\n",
      "/Users/shohei.mitani/.pyenv/versions/anaconda3-5.3.1/lib/python3.6/site-packages/boruta/boruta_py.py:380: DataConversionWarning: A column-vector y was passed when a 1d array was expected. Please change the shape of y to (n_samples,), for example using ravel().\n",
      "  self.estimator.fit(X, y)\n"
     ]
    },
    {
     "name": "stdout",
     "output_type": "stream",
     "text": [
      "Iteration: \t253 / 500\n",
      "Confirmed: \t20\n",
      "Tentative: \t4\n",
      "Rejected: \t106\n"
     ]
    },
    {
     "name": "stderr",
     "output_type": "stream",
     "text": [
      "/Users/shohei.mitani/.pyenv/versions/anaconda3-5.3.1/lib/python3.6/site-packages/boruta/boruta_py.py:418: RuntimeWarning: invalid value encountered in greater\n",
      "  hits = np.where(cur_imp[0] > imp_sha_max)[0]\n",
      "/Users/shohei.mitani/.pyenv/versions/anaconda3-5.3.1/lib/python3.6/site-packages/boruta/boruta_py.py:380: DataConversionWarning: A column-vector y was passed when a 1d array was expected. Please change the shape of y to (n_samples,), for example using ravel().\n",
      "  self.estimator.fit(X, y)\n"
     ]
    },
    {
     "name": "stdout",
     "output_type": "stream",
     "text": [
      "Iteration: \t254 / 500\n",
      "Confirmed: \t20\n",
      "Tentative: \t4\n",
      "Rejected: \t106\n"
     ]
    },
    {
     "name": "stderr",
     "output_type": "stream",
     "text": [
      "/Users/shohei.mitani/.pyenv/versions/anaconda3-5.3.1/lib/python3.6/site-packages/boruta/boruta_py.py:418: RuntimeWarning: invalid value encountered in greater\n",
      "  hits = np.where(cur_imp[0] > imp_sha_max)[0]\n",
      "/Users/shohei.mitani/.pyenv/versions/anaconda3-5.3.1/lib/python3.6/site-packages/boruta/boruta_py.py:380: DataConversionWarning: A column-vector y was passed when a 1d array was expected. Please change the shape of y to (n_samples,), for example using ravel().\n",
      "  self.estimator.fit(X, y)\n"
     ]
    },
    {
     "name": "stdout",
     "output_type": "stream",
     "text": [
      "Iteration: \t255 / 500\n",
      "Confirmed: \t20\n",
      "Tentative: \t4\n",
      "Rejected: \t106\n"
     ]
    },
    {
     "name": "stderr",
     "output_type": "stream",
     "text": [
      "/Users/shohei.mitani/.pyenv/versions/anaconda3-5.3.1/lib/python3.6/site-packages/boruta/boruta_py.py:418: RuntimeWarning: invalid value encountered in greater\n",
      "  hits = np.where(cur_imp[0] > imp_sha_max)[0]\n",
      "/Users/shohei.mitani/.pyenv/versions/anaconda3-5.3.1/lib/python3.6/site-packages/boruta/boruta_py.py:380: DataConversionWarning: A column-vector y was passed when a 1d array was expected. Please change the shape of y to (n_samples,), for example using ravel().\n",
      "  self.estimator.fit(X, y)\n"
     ]
    },
    {
     "name": "stdout",
     "output_type": "stream",
     "text": [
      "Iteration: \t256 / 500\n",
      "Confirmed: \t20\n",
      "Tentative: \t4\n",
      "Rejected: \t106\n"
     ]
    },
    {
     "name": "stderr",
     "output_type": "stream",
     "text": [
      "/Users/shohei.mitani/.pyenv/versions/anaconda3-5.3.1/lib/python3.6/site-packages/boruta/boruta_py.py:418: RuntimeWarning: invalid value encountered in greater\n",
      "  hits = np.where(cur_imp[0] > imp_sha_max)[0]\n",
      "/Users/shohei.mitani/.pyenv/versions/anaconda3-5.3.1/lib/python3.6/site-packages/boruta/boruta_py.py:380: DataConversionWarning: A column-vector y was passed when a 1d array was expected. Please change the shape of y to (n_samples,), for example using ravel().\n",
      "  self.estimator.fit(X, y)\n"
     ]
    },
    {
     "name": "stdout",
     "output_type": "stream",
     "text": [
      "Iteration: \t257 / 500\n",
      "Confirmed: \t20\n",
      "Tentative: \t4\n",
      "Rejected: \t106\n"
     ]
    },
    {
     "name": "stderr",
     "output_type": "stream",
     "text": [
      "/Users/shohei.mitani/.pyenv/versions/anaconda3-5.3.1/lib/python3.6/site-packages/boruta/boruta_py.py:418: RuntimeWarning: invalid value encountered in greater\n",
      "  hits = np.where(cur_imp[0] > imp_sha_max)[0]\n",
      "/Users/shohei.mitani/.pyenv/versions/anaconda3-5.3.1/lib/python3.6/site-packages/boruta/boruta_py.py:380: DataConversionWarning: A column-vector y was passed when a 1d array was expected. Please change the shape of y to (n_samples,), for example using ravel().\n",
      "  self.estimator.fit(X, y)\n"
     ]
    },
    {
     "name": "stdout",
     "output_type": "stream",
     "text": [
      "Iteration: \t258 / 500\n",
      "Confirmed: \t20\n",
      "Tentative: \t4\n",
      "Rejected: \t106\n"
     ]
    },
    {
     "name": "stderr",
     "output_type": "stream",
     "text": [
      "/Users/shohei.mitani/.pyenv/versions/anaconda3-5.3.1/lib/python3.6/site-packages/boruta/boruta_py.py:418: RuntimeWarning: invalid value encountered in greater\n",
      "  hits = np.where(cur_imp[0] > imp_sha_max)[0]\n",
      "/Users/shohei.mitani/.pyenv/versions/anaconda3-5.3.1/lib/python3.6/site-packages/boruta/boruta_py.py:380: DataConversionWarning: A column-vector y was passed when a 1d array was expected. Please change the shape of y to (n_samples,), for example using ravel().\n",
      "  self.estimator.fit(X, y)\n"
     ]
    },
    {
     "name": "stdout",
     "output_type": "stream",
     "text": [
      "Iteration: \t259 / 500\n",
      "Confirmed: \t20\n",
      "Tentative: \t4\n",
      "Rejected: \t106\n"
     ]
    },
    {
     "name": "stderr",
     "output_type": "stream",
     "text": [
      "/Users/shohei.mitani/.pyenv/versions/anaconda3-5.3.1/lib/python3.6/site-packages/boruta/boruta_py.py:418: RuntimeWarning: invalid value encountered in greater\n",
      "  hits = np.where(cur_imp[0] > imp_sha_max)[0]\n",
      "/Users/shohei.mitani/.pyenv/versions/anaconda3-5.3.1/lib/python3.6/site-packages/boruta/boruta_py.py:380: DataConversionWarning: A column-vector y was passed when a 1d array was expected. Please change the shape of y to (n_samples,), for example using ravel().\n",
      "  self.estimator.fit(X, y)\n"
     ]
    },
    {
     "name": "stdout",
     "output_type": "stream",
     "text": [
      "Iteration: \t260 / 500\n",
      "Confirmed: \t20\n",
      "Tentative: \t4\n",
      "Rejected: \t106\n"
     ]
    },
    {
     "name": "stderr",
     "output_type": "stream",
     "text": [
      "/Users/shohei.mitani/.pyenv/versions/anaconda3-5.3.1/lib/python3.6/site-packages/boruta/boruta_py.py:418: RuntimeWarning: invalid value encountered in greater\n",
      "  hits = np.where(cur_imp[0] > imp_sha_max)[0]\n",
      "/Users/shohei.mitani/.pyenv/versions/anaconda3-5.3.1/lib/python3.6/site-packages/boruta/boruta_py.py:380: DataConversionWarning: A column-vector y was passed when a 1d array was expected. Please change the shape of y to (n_samples,), for example using ravel().\n",
      "  self.estimator.fit(X, y)\n"
     ]
    },
    {
     "name": "stdout",
     "output_type": "stream",
     "text": [
      "Iteration: \t261 / 500\n",
      "Confirmed: \t20\n",
      "Tentative: \t4\n",
      "Rejected: \t106\n"
     ]
    },
    {
     "name": "stderr",
     "output_type": "stream",
     "text": [
      "/Users/shohei.mitani/.pyenv/versions/anaconda3-5.3.1/lib/python3.6/site-packages/boruta/boruta_py.py:418: RuntimeWarning: invalid value encountered in greater\n",
      "  hits = np.where(cur_imp[0] > imp_sha_max)[0]\n",
      "/Users/shohei.mitani/.pyenv/versions/anaconda3-5.3.1/lib/python3.6/site-packages/boruta/boruta_py.py:380: DataConversionWarning: A column-vector y was passed when a 1d array was expected. Please change the shape of y to (n_samples,), for example using ravel().\n",
      "  self.estimator.fit(X, y)\n"
     ]
    },
    {
     "name": "stdout",
     "output_type": "stream",
     "text": [
      "Iteration: \t262 / 500\n",
      "Confirmed: \t20\n",
      "Tentative: \t4\n",
      "Rejected: \t106\n"
     ]
    },
    {
     "name": "stderr",
     "output_type": "stream",
     "text": [
      "/Users/shohei.mitani/.pyenv/versions/anaconda3-5.3.1/lib/python3.6/site-packages/boruta/boruta_py.py:418: RuntimeWarning: invalid value encountered in greater\n",
      "  hits = np.where(cur_imp[0] > imp_sha_max)[0]\n",
      "/Users/shohei.mitani/.pyenv/versions/anaconda3-5.3.1/lib/python3.6/site-packages/boruta/boruta_py.py:380: DataConversionWarning: A column-vector y was passed when a 1d array was expected. Please change the shape of y to (n_samples,), for example using ravel().\n",
      "  self.estimator.fit(X, y)\n"
     ]
    },
    {
     "name": "stdout",
     "output_type": "stream",
     "text": [
      "Iteration: \t263 / 500\n",
      "Confirmed: \t20\n",
      "Tentative: \t4\n",
      "Rejected: \t106\n"
     ]
    },
    {
     "name": "stderr",
     "output_type": "stream",
     "text": [
      "/Users/shohei.mitani/.pyenv/versions/anaconda3-5.3.1/lib/python3.6/site-packages/boruta/boruta_py.py:418: RuntimeWarning: invalid value encountered in greater\n",
      "  hits = np.where(cur_imp[0] > imp_sha_max)[0]\n",
      "/Users/shohei.mitani/.pyenv/versions/anaconda3-5.3.1/lib/python3.6/site-packages/boruta/boruta_py.py:380: DataConversionWarning: A column-vector y was passed when a 1d array was expected. Please change the shape of y to (n_samples,), for example using ravel().\n",
      "  self.estimator.fit(X, y)\n"
     ]
    },
    {
     "name": "stdout",
     "output_type": "stream",
     "text": [
      "Iteration: \t264 / 500\n",
      "Confirmed: \t20\n",
      "Tentative: \t4\n",
      "Rejected: \t106\n"
     ]
    },
    {
     "name": "stderr",
     "output_type": "stream",
     "text": [
      "/Users/shohei.mitani/.pyenv/versions/anaconda3-5.3.1/lib/python3.6/site-packages/boruta/boruta_py.py:418: RuntimeWarning: invalid value encountered in greater\n",
      "  hits = np.where(cur_imp[0] > imp_sha_max)[0]\n",
      "/Users/shohei.mitani/.pyenv/versions/anaconda3-5.3.1/lib/python3.6/site-packages/boruta/boruta_py.py:380: DataConversionWarning: A column-vector y was passed when a 1d array was expected. Please change the shape of y to (n_samples,), for example using ravel().\n",
      "  self.estimator.fit(X, y)\n"
     ]
    },
    {
     "name": "stdout",
     "output_type": "stream",
     "text": [
      "Iteration: \t265 / 500\n",
      "Confirmed: \t20\n",
      "Tentative: \t4\n",
      "Rejected: \t106\n"
     ]
    },
    {
     "name": "stderr",
     "output_type": "stream",
     "text": [
      "/Users/shohei.mitani/.pyenv/versions/anaconda3-5.3.1/lib/python3.6/site-packages/boruta/boruta_py.py:418: RuntimeWarning: invalid value encountered in greater\n",
      "  hits = np.where(cur_imp[0] > imp_sha_max)[0]\n",
      "/Users/shohei.mitani/.pyenv/versions/anaconda3-5.3.1/lib/python3.6/site-packages/boruta/boruta_py.py:380: DataConversionWarning: A column-vector y was passed when a 1d array was expected. Please change the shape of y to (n_samples,), for example using ravel().\n",
      "  self.estimator.fit(X, y)\n"
     ]
    },
    {
     "name": "stdout",
     "output_type": "stream",
     "text": [
      "Iteration: \t266 / 500\n",
      "Confirmed: \t20\n",
      "Tentative: \t4\n",
      "Rejected: \t106\n"
     ]
    },
    {
     "name": "stderr",
     "output_type": "stream",
     "text": [
      "/Users/shohei.mitani/.pyenv/versions/anaconda3-5.3.1/lib/python3.6/site-packages/boruta/boruta_py.py:418: RuntimeWarning: invalid value encountered in greater\n",
      "  hits = np.where(cur_imp[0] > imp_sha_max)[0]\n",
      "/Users/shohei.mitani/.pyenv/versions/anaconda3-5.3.1/lib/python3.6/site-packages/boruta/boruta_py.py:380: DataConversionWarning: A column-vector y was passed when a 1d array was expected. Please change the shape of y to (n_samples,), for example using ravel().\n",
      "  self.estimator.fit(X, y)\n"
     ]
    },
    {
     "name": "stdout",
     "output_type": "stream",
     "text": [
      "Iteration: \t267 / 500\n",
      "Confirmed: \t20\n",
      "Tentative: \t4\n",
      "Rejected: \t106\n"
     ]
    },
    {
     "name": "stderr",
     "output_type": "stream",
     "text": [
      "/Users/shohei.mitani/.pyenv/versions/anaconda3-5.3.1/lib/python3.6/site-packages/boruta/boruta_py.py:418: RuntimeWarning: invalid value encountered in greater\n",
      "  hits = np.where(cur_imp[0] > imp_sha_max)[0]\n",
      "/Users/shohei.mitani/.pyenv/versions/anaconda3-5.3.1/lib/python3.6/site-packages/boruta/boruta_py.py:380: DataConversionWarning: A column-vector y was passed when a 1d array was expected. Please change the shape of y to (n_samples,), for example using ravel().\n",
      "  self.estimator.fit(X, y)\n"
     ]
    },
    {
     "name": "stdout",
     "output_type": "stream",
     "text": [
      "Iteration: \t268 / 500\n",
      "Confirmed: \t20\n",
      "Tentative: \t4\n",
      "Rejected: \t106\n"
     ]
    },
    {
     "name": "stderr",
     "output_type": "stream",
     "text": [
      "/Users/shohei.mitani/.pyenv/versions/anaconda3-5.3.1/lib/python3.6/site-packages/boruta/boruta_py.py:418: RuntimeWarning: invalid value encountered in greater\n",
      "  hits = np.where(cur_imp[0] > imp_sha_max)[0]\n",
      "/Users/shohei.mitani/.pyenv/versions/anaconda3-5.3.1/lib/python3.6/site-packages/boruta/boruta_py.py:380: DataConversionWarning: A column-vector y was passed when a 1d array was expected. Please change the shape of y to (n_samples,), for example using ravel().\n",
      "  self.estimator.fit(X, y)\n"
     ]
    },
    {
     "name": "stdout",
     "output_type": "stream",
     "text": [
      "Iteration: \t269 / 500\n",
      "Confirmed: \t20\n",
      "Tentative: \t4\n",
      "Rejected: \t106\n"
     ]
    },
    {
     "name": "stderr",
     "output_type": "stream",
     "text": [
      "/Users/shohei.mitani/.pyenv/versions/anaconda3-5.3.1/lib/python3.6/site-packages/boruta/boruta_py.py:418: RuntimeWarning: invalid value encountered in greater\n",
      "  hits = np.where(cur_imp[0] > imp_sha_max)[0]\n",
      "/Users/shohei.mitani/.pyenv/versions/anaconda3-5.3.1/lib/python3.6/site-packages/boruta/boruta_py.py:380: DataConversionWarning: A column-vector y was passed when a 1d array was expected. Please change the shape of y to (n_samples,), for example using ravel().\n",
      "  self.estimator.fit(X, y)\n"
     ]
    },
    {
     "name": "stdout",
     "output_type": "stream",
     "text": [
      "Iteration: \t270 / 500\n",
      "Confirmed: \t20\n",
      "Tentative: \t4\n",
      "Rejected: \t106\n"
     ]
    },
    {
     "name": "stderr",
     "output_type": "stream",
     "text": [
      "/Users/shohei.mitani/.pyenv/versions/anaconda3-5.3.1/lib/python3.6/site-packages/boruta/boruta_py.py:418: RuntimeWarning: invalid value encountered in greater\n",
      "  hits = np.where(cur_imp[0] > imp_sha_max)[0]\n",
      "/Users/shohei.mitani/.pyenv/versions/anaconda3-5.3.1/lib/python3.6/site-packages/boruta/boruta_py.py:380: DataConversionWarning: A column-vector y was passed when a 1d array was expected. Please change the shape of y to (n_samples,), for example using ravel().\n",
      "  self.estimator.fit(X, y)\n"
     ]
    },
    {
     "name": "stdout",
     "output_type": "stream",
     "text": [
      "Iteration: \t271 / 500\n",
      "Confirmed: \t20\n",
      "Tentative: \t4\n",
      "Rejected: \t106\n"
     ]
    },
    {
     "name": "stderr",
     "output_type": "stream",
     "text": [
      "/Users/shohei.mitani/.pyenv/versions/anaconda3-5.3.1/lib/python3.6/site-packages/boruta/boruta_py.py:418: RuntimeWarning: invalid value encountered in greater\n",
      "  hits = np.where(cur_imp[0] > imp_sha_max)[0]\n",
      "/Users/shohei.mitani/.pyenv/versions/anaconda3-5.3.1/lib/python3.6/site-packages/boruta/boruta_py.py:380: DataConversionWarning: A column-vector y was passed when a 1d array was expected. Please change the shape of y to (n_samples,), for example using ravel().\n",
      "  self.estimator.fit(X, y)\n"
     ]
    },
    {
     "name": "stdout",
     "output_type": "stream",
     "text": [
      "Iteration: \t272 / 500\n",
      "Confirmed: \t20\n",
      "Tentative: \t4\n",
      "Rejected: \t106\n"
     ]
    },
    {
     "name": "stderr",
     "output_type": "stream",
     "text": [
      "/Users/shohei.mitani/.pyenv/versions/anaconda3-5.3.1/lib/python3.6/site-packages/boruta/boruta_py.py:418: RuntimeWarning: invalid value encountered in greater\n",
      "  hits = np.where(cur_imp[0] > imp_sha_max)[0]\n",
      "/Users/shohei.mitani/.pyenv/versions/anaconda3-5.3.1/lib/python3.6/site-packages/boruta/boruta_py.py:380: DataConversionWarning: A column-vector y was passed when a 1d array was expected. Please change the shape of y to (n_samples,), for example using ravel().\n",
      "  self.estimator.fit(X, y)\n"
     ]
    },
    {
     "name": "stdout",
     "output_type": "stream",
     "text": [
      "Iteration: \t273 / 500\n",
      "Confirmed: \t20\n",
      "Tentative: \t4\n",
      "Rejected: \t106\n"
     ]
    },
    {
     "name": "stderr",
     "output_type": "stream",
     "text": [
      "/Users/shohei.mitani/.pyenv/versions/anaconda3-5.3.1/lib/python3.6/site-packages/boruta/boruta_py.py:418: RuntimeWarning: invalid value encountered in greater\n",
      "  hits = np.where(cur_imp[0] > imp_sha_max)[0]\n",
      "/Users/shohei.mitani/.pyenv/versions/anaconda3-5.3.1/lib/python3.6/site-packages/boruta/boruta_py.py:380: DataConversionWarning: A column-vector y was passed when a 1d array was expected. Please change the shape of y to (n_samples,), for example using ravel().\n",
      "  self.estimator.fit(X, y)\n"
     ]
    },
    {
     "name": "stdout",
     "output_type": "stream",
     "text": [
      "Iteration: \t274 / 500\n",
      "Confirmed: \t20\n",
      "Tentative: \t4\n",
      "Rejected: \t106\n"
     ]
    },
    {
     "name": "stderr",
     "output_type": "stream",
     "text": [
      "/Users/shohei.mitani/.pyenv/versions/anaconda3-5.3.1/lib/python3.6/site-packages/boruta/boruta_py.py:418: RuntimeWarning: invalid value encountered in greater\n",
      "  hits = np.where(cur_imp[0] > imp_sha_max)[0]\n",
      "/Users/shohei.mitani/.pyenv/versions/anaconda3-5.3.1/lib/python3.6/site-packages/boruta/boruta_py.py:380: DataConversionWarning: A column-vector y was passed when a 1d array was expected. Please change the shape of y to (n_samples,), for example using ravel().\n",
      "  self.estimator.fit(X, y)\n"
     ]
    },
    {
     "name": "stdout",
     "output_type": "stream",
     "text": [
      "Iteration: \t275 / 500\n",
      "Confirmed: \t20\n",
      "Tentative: \t4\n",
      "Rejected: \t106\n"
     ]
    },
    {
     "name": "stderr",
     "output_type": "stream",
     "text": [
      "/Users/shohei.mitani/.pyenv/versions/anaconda3-5.3.1/lib/python3.6/site-packages/boruta/boruta_py.py:418: RuntimeWarning: invalid value encountered in greater\n",
      "  hits = np.where(cur_imp[0] > imp_sha_max)[0]\n",
      "/Users/shohei.mitani/.pyenv/versions/anaconda3-5.3.1/lib/python3.6/site-packages/boruta/boruta_py.py:380: DataConversionWarning: A column-vector y was passed when a 1d array was expected. Please change the shape of y to (n_samples,), for example using ravel().\n",
      "  self.estimator.fit(X, y)\n"
     ]
    },
    {
     "name": "stdout",
     "output_type": "stream",
     "text": [
      "Iteration: \t276 / 500\n",
      "Confirmed: \t20\n",
      "Tentative: \t4\n",
      "Rejected: \t106\n"
     ]
    },
    {
     "name": "stderr",
     "output_type": "stream",
     "text": [
      "/Users/shohei.mitani/.pyenv/versions/anaconda3-5.3.1/lib/python3.6/site-packages/boruta/boruta_py.py:418: RuntimeWarning: invalid value encountered in greater\n",
      "  hits = np.where(cur_imp[0] > imp_sha_max)[0]\n",
      "/Users/shohei.mitani/.pyenv/versions/anaconda3-5.3.1/lib/python3.6/site-packages/boruta/boruta_py.py:380: DataConversionWarning: A column-vector y was passed when a 1d array was expected. Please change the shape of y to (n_samples,), for example using ravel().\n",
      "  self.estimator.fit(X, y)\n"
     ]
    },
    {
     "name": "stdout",
     "output_type": "stream",
     "text": [
      "Iteration: \t277 / 500\n",
      "Confirmed: \t20\n",
      "Tentative: \t4\n",
      "Rejected: \t106\n"
     ]
    },
    {
     "name": "stderr",
     "output_type": "stream",
     "text": [
      "/Users/shohei.mitani/.pyenv/versions/anaconda3-5.3.1/lib/python3.6/site-packages/boruta/boruta_py.py:418: RuntimeWarning: invalid value encountered in greater\n",
      "  hits = np.where(cur_imp[0] > imp_sha_max)[0]\n",
      "/Users/shohei.mitani/.pyenv/versions/anaconda3-5.3.1/lib/python3.6/site-packages/boruta/boruta_py.py:380: DataConversionWarning: A column-vector y was passed when a 1d array was expected. Please change the shape of y to (n_samples,), for example using ravel().\n",
      "  self.estimator.fit(X, y)\n"
     ]
    },
    {
     "name": "stdout",
     "output_type": "stream",
     "text": [
      "Iteration: \t278 / 500\n",
      "Confirmed: \t20\n",
      "Tentative: \t4\n",
      "Rejected: \t106\n"
     ]
    },
    {
     "name": "stderr",
     "output_type": "stream",
     "text": [
      "/Users/shohei.mitani/.pyenv/versions/anaconda3-5.3.1/lib/python3.6/site-packages/boruta/boruta_py.py:418: RuntimeWarning: invalid value encountered in greater\n",
      "  hits = np.where(cur_imp[0] > imp_sha_max)[0]\n",
      "/Users/shohei.mitani/.pyenv/versions/anaconda3-5.3.1/lib/python3.6/site-packages/boruta/boruta_py.py:380: DataConversionWarning: A column-vector y was passed when a 1d array was expected. Please change the shape of y to (n_samples,), for example using ravel().\n",
      "  self.estimator.fit(X, y)\n"
     ]
    },
    {
     "name": "stdout",
     "output_type": "stream",
     "text": [
      "Iteration: \t279 / 500\n",
      "Confirmed: \t20\n",
      "Tentative: \t4\n",
      "Rejected: \t106\n"
     ]
    },
    {
     "name": "stderr",
     "output_type": "stream",
     "text": [
      "/Users/shohei.mitani/.pyenv/versions/anaconda3-5.3.1/lib/python3.6/site-packages/boruta/boruta_py.py:418: RuntimeWarning: invalid value encountered in greater\n",
      "  hits = np.where(cur_imp[0] > imp_sha_max)[0]\n",
      "/Users/shohei.mitani/.pyenv/versions/anaconda3-5.3.1/lib/python3.6/site-packages/boruta/boruta_py.py:380: DataConversionWarning: A column-vector y was passed when a 1d array was expected. Please change the shape of y to (n_samples,), for example using ravel().\n",
      "  self.estimator.fit(X, y)\n"
     ]
    },
    {
     "name": "stdout",
     "output_type": "stream",
     "text": [
      "Iteration: \t280 / 500\n",
      "Confirmed: \t20\n",
      "Tentative: \t4\n",
      "Rejected: \t106\n"
     ]
    },
    {
     "name": "stderr",
     "output_type": "stream",
     "text": [
      "/Users/shohei.mitani/.pyenv/versions/anaconda3-5.3.1/lib/python3.6/site-packages/boruta/boruta_py.py:418: RuntimeWarning: invalid value encountered in greater\n",
      "  hits = np.where(cur_imp[0] > imp_sha_max)[0]\n",
      "/Users/shohei.mitani/.pyenv/versions/anaconda3-5.3.1/lib/python3.6/site-packages/boruta/boruta_py.py:380: DataConversionWarning: A column-vector y was passed when a 1d array was expected. Please change the shape of y to (n_samples,), for example using ravel().\n",
      "  self.estimator.fit(X, y)\n"
     ]
    },
    {
     "name": "stdout",
     "output_type": "stream",
     "text": [
      "Iteration: \t281 / 500\n",
      "Confirmed: \t20\n",
      "Tentative: \t4\n",
      "Rejected: \t106\n"
     ]
    },
    {
     "name": "stderr",
     "output_type": "stream",
     "text": [
      "/Users/shohei.mitani/.pyenv/versions/anaconda3-5.3.1/lib/python3.6/site-packages/boruta/boruta_py.py:418: RuntimeWarning: invalid value encountered in greater\n",
      "  hits = np.where(cur_imp[0] > imp_sha_max)[0]\n",
      "/Users/shohei.mitani/.pyenv/versions/anaconda3-5.3.1/lib/python3.6/site-packages/boruta/boruta_py.py:380: DataConversionWarning: A column-vector y was passed when a 1d array was expected. Please change the shape of y to (n_samples,), for example using ravel().\n",
      "  self.estimator.fit(X, y)\n"
     ]
    },
    {
     "name": "stdout",
     "output_type": "stream",
     "text": [
      "Iteration: \t282 / 500\n",
      "Confirmed: \t20\n",
      "Tentative: \t4\n",
      "Rejected: \t106\n"
     ]
    },
    {
     "name": "stderr",
     "output_type": "stream",
     "text": [
      "/Users/shohei.mitani/.pyenv/versions/anaconda3-5.3.1/lib/python3.6/site-packages/boruta/boruta_py.py:418: RuntimeWarning: invalid value encountered in greater\n",
      "  hits = np.where(cur_imp[0] > imp_sha_max)[0]\n",
      "/Users/shohei.mitani/.pyenv/versions/anaconda3-5.3.1/lib/python3.6/site-packages/boruta/boruta_py.py:380: DataConversionWarning: A column-vector y was passed when a 1d array was expected. Please change the shape of y to (n_samples,), for example using ravel().\n",
      "  self.estimator.fit(X, y)\n"
     ]
    },
    {
     "name": "stdout",
     "output_type": "stream",
     "text": [
      "Iteration: \t283 / 500\n",
      "Confirmed: \t20\n",
      "Tentative: \t4\n",
      "Rejected: \t106\n"
     ]
    },
    {
     "name": "stderr",
     "output_type": "stream",
     "text": [
      "/Users/shohei.mitani/.pyenv/versions/anaconda3-5.3.1/lib/python3.6/site-packages/boruta/boruta_py.py:418: RuntimeWarning: invalid value encountered in greater\n",
      "  hits = np.where(cur_imp[0] > imp_sha_max)[0]\n",
      "/Users/shohei.mitani/.pyenv/versions/anaconda3-5.3.1/lib/python3.6/site-packages/boruta/boruta_py.py:380: DataConversionWarning: A column-vector y was passed when a 1d array was expected. Please change the shape of y to (n_samples,), for example using ravel().\n",
      "  self.estimator.fit(X, y)\n"
     ]
    },
    {
     "name": "stdout",
     "output_type": "stream",
     "text": [
      "Iteration: \t284 / 500\n",
      "Confirmed: \t20\n",
      "Tentative: \t4\n",
      "Rejected: \t106\n"
     ]
    },
    {
     "name": "stderr",
     "output_type": "stream",
     "text": [
      "/Users/shohei.mitani/.pyenv/versions/anaconda3-5.3.1/lib/python3.6/site-packages/boruta/boruta_py.py:418: RuntimeWarning: invalid value encountered in greater\n",
      "  hits = np.where(cur_imp[0] > imp_sha_max)[0]\n",
      "/Users/shohei.mitani/.pyenv/versions/anaconda3-5.3.1/lib/python3.6/site-packages/boruta/boruta_py.py:380: DataConversionWarning: A column-vector y was passed when a 1d array was expected. Please change the shape of y to (n_samples,), for example using ravel().\n",
      "  self.estimator.fit(X, y)\n"
     ]
    },
    {
     "name": "stdout",
     "output_type": "stream",
     "text": [
      "Iteration: \t285 / 500\n",
      "Confirmed: \t20\n",
      "Tentative: \t4\n",
      "Rejected: \t106\n"
     ]
    },
    {
     "name": "stderr",
     "output_type": "stream",
     "text": [
      "/Users/shohei.mitani/.pyenv/versions/anaconda3-5.3.1/lib/python3.6/site-packages/boruta/boruta_py.py:418: RuntimeWarning: invalid value encountered in greater\n",
      "  hits = np.where(cur_imp[0] > imp_sha_max)[0]\n",
      "/Users/shohei.mitani/.pyenv/versions/anaconda3-5.3.1/lib/python3.6/site-packages/boruta/boruta_py.py:380: DataConversionWarning: A column-vector y was passed when a 1d array was expected. Please change the shape of y to (n_samples,), for example using ravel().\n",
      "  self.estimator.fit(X, y)\n"
     ]
    },
    {
     "name": "stdout",
     "output_type": "stream",
     "text": [
      "Iteration: \t286 / 500\n",
      "Confirmed: \t20\n",
      "Tentative: \t4\n",
      "Rejected: \t106\n"
     ]
    },
    {
     "name": "stderr",
     "output_type": "stream",
     "text": [
      "/Users/shohei.mitani/.pyenv/versions/anaconda3-5.3.1/lib/python3.6/site-packages/boruta/boruta_py.py:418: RuntimeWarning: invalid value encountered in greater\n",
      "  hits = np.where(cur_imp[0] > imp_sha_max)[0]\n",
      "/Users/shohei.mitani/.pyenv/versions/anaconda3-5.3.1/lib/python3.6/site-packages/boruta/boruta_py.py:380: DataConversionWarning: A column-vector y was passed when a 1d array was expected. Please change the shape of y to (n_samples,), for example using ravel().\n",
      "  self.estimator.fit(X, y)\n"
     ]
    },
    {
     "name": "stdout",
     "output_type": "stream",
     "text": [
      "Iteration: \t287 / 500\n",
      "Confirmed: \t20\n",
      "Tentative: \t4\n",
      "Rejected: \t106\n"
     ]
    },
    {
     "name": "stderr",
     "output_type": "stream",
     "text": [
      "/Users/shohei.mitani/.pyenv/versions/anaconda3-5.3.1/lib/python3.6/site-packages/boruta/boruta_py.py:418: RuntimeWarning: invalid value encountered in greater\n",
      "  hits = np.where(cur_imp[0] > imp_sha_max)[0]\n",
      "/Users/shohei.mitani/.pyenv/versions/anaconda3-5.3.1/lib/python3.6/site-packages/boruta/boruta_py.py:380: DataConversionWarning: A column-vector y was passed when a 1d array was expected. Please change the shape of y to (n_samples,), for example using ravel().\n",
      "  self.estimator.fit(X, y)\n"
     ]
    },
    {
     "name": "stdout",
     "output_type": "stream",
     "text": [
      "Iteration: \t288 / 500\n",
      "Confirmed: \t20\n",
      "Tentative: \t4\n",
      "Rejected: \t106\n"
     ]
    },
    {
     "name": "stderr",
     "output_type": "stream",
     "text": [
      "/Users/shohei.mitani/.pyenv/versions/anaconda3-5.3.1/lib/python3.6/site-packages/boruta/boruta_py.py:418: RuntimeWarning: invalid value encountered in greater\n",
      "  hits = np.where(cur_imp[0] > imp_sha_max)[0]\n",
      "/Users/shohei.mitani/.pyenv/versions/anaconda3-5.3.1/lib/python3.6/site-packages/boruta/boruta_py.py:380: DataConversionWarning: A column-vector y was passed when a 1d array was expected. Please change the shape of y to (n_samples,), for example using ravel().\n",
      "  self.estimator.fit(X, y)\n"
     ]
    },
    {
     "name": "stdout",
     "output_type": "stream",
     "text": [
      "Iteration: \t289 / 500\n",
      "Confirmed: \t20\n",
      "Tentative: \t4\n",
      "Rejected: \t106\n"
     ]
    },
    {
     "name": "stderr",
     "output_type": "stream",
     "text": [
      "/Users/shohei.mitani/.pyenv/versions/anaconda3-5.3.1/lib/python3.6/site-packages/boruta/boruta_py.py:418: RuntimeWarning: invalid value encountered in greater\n",
      "  hits = np.where(cur_imp[0] > imp_sha_max)[0]\n",
      "/Users/shohei.mitani/.pyenv/versions/anaconda3-5.3.1/lib/python3.6/site-packages/boruta/boruta_py.py:380: DataConversionWarning: A column-vector y was passed when a 1d array was expected. Please change the shape of y to (n_samples,), for example using ravel().\n",
      "  self.estimator.fit(X, y)\n"
     ]
    },
    {
     "name": "stdout",
     "output_type": "stream",
     "text": [
      "Iteration: \t290 / 500\n",
      "Confirmed: \t20\n",
      "Tentative: \t4\n",
      "Rejected: \t106\n"
     ]
    },
    {
     "name": "stderr",
     "output_type": "stream",
     "text": [
      "/Users/shohei.mitani/.pyenv/versions/anaconda3-5.3.1/lib/python3.6/site-packages/boruta/boruta_py.py:418: RuntimeWarning: invalid value encountered in greater\n",
      "  hits = np.where(cur_imp[0] > imp_sha_max)[0]\n",
      "/Users/shohei.mitani/.pyenv/versions/anaconda3-5.3.1/lib/python3.6/site-packages/boruta/boruta_py.py:380: DataConversionWarning: A column-vector y was passed when a 1d array was expected. Please change the shape of y to (n_samples,), for example using ravel().\n",
      "  self.estimator.fit(X, y)\n"
     ]
    },
    {
     "name": "stdout",
     "output_type": "stream",
     "text": [
      "Iteration: \t291 / 500\n",
      "Confirmed: \t20\n",
      "Tentative: \t4\n",
      "Rejected: \t106\n"
     ]
    },
    {
     "name": "stderr",
     "output_type": "stream",
     "text": [
      "/Users/shohei.mitani/.pyenv/versions/anaconda3-5.3.1/lib/python3.6/site-packages/boruta/boruta_py.py:418: RuntimeWarning: invalid value encountered in greater\n",
      "  hits = np.where(cur_imp[0] > imp_sha_max)[0]\n",
      "/Users/shohei.mitani/.pyenv/versions/anaconda3-5.3.1/lib/python3.6/site-packages/boruta/boruta_py.py:380: DataConversionWarning: A column-vector y was passed when a 1d array was expected. Please change the shape of y to (n_samples,), for example using ravel().\n",
      "  self.estimator.fit(X, y)\n"
     ]
    },
    {
     "name": "stdout",
     "output_type": "stream",
     "text": [
      "Iteration: \t292 / 500\n",
      "Confirmed: \t20\n",
      "Tentative: \t4\n",
      "Rejected: \t106\n"
     ]
    },
    {
     "name": "stderr",
     "output_type": "stream",
     "text": [
      "/Users/shohei.mitani/.pyenv/versions/anaconda3-5.3.1/lib/python3.6/site-packages/boruta/boruta_py.py:418: RuntimeWarning: invalid value encountered in greater\n",
      "  hits = np.where(cur_imp[0] > imp_sha_max)[0]\n",
      "/Users/shohei.mitani/.pyenv/versions/anaconda3-5.3.1/lib/python3.6/site-packages/boruta/boruta_py.py:380: DataConversionWarning: A column-vector y was passed when a 1d array was expected. Please change the shape of y to (n_samples,), for example using ravel().\n",
      "  self.estimator.fit(X, y)\n"
     ]
    },
    {
     "name": "stdout",
     "output_type": "stream",
     "text": [
      "Iteration: \t293 / 500\n",
      "Confirmed: \t20\n",
      "Tentative: \t4\n",
      "Rejected: \t106\n"
     ]
    },
    {
     "name": "stderr",
     "output_type": "stream",
     "text": [
      "/Users/shohei.mitani/.pyenv/versions/anaconda3-5.3.1/lib/python3.6/site-packages/boruta/boruta_py.py:418: RuntimeWarning: invalid value encountered in greater\n",
      "  hits = np.where(cur_imp[0] > imp_sha_max)[0]\n",
      "/Users/shohei.mitani/.pyenv/versions/anaconda3-5.3.1/lib/python3.6/site-packages/boruta/boruta_py.py:380: DataConversionWarning: A column-vector y was passed when a 1d array was expected. Please change the shape of y to (n_samples,), for example using ravel().\n",
      "  self.estimator.fit(X, y)\n"
     ]
    },
    {
     "name": "stdout",
     "output_type": "stream",
     "text": [
      "Iteration: \t294 / 500\n",
      "Confirmed: \t20\n",
      "Tentative: \t4\n",
      "Rejected: \t106\n"
     ]
    },
    {
     "name": "stderr",
     "output_type": "stream",
     "text": [
      "/Users/shohei.mitani/.pyenv/versions/anaconda3-5.3.1/lib/python3.6/site-packages/boruta/boruta_py.py:418: RuntimeWarning: invalid value encountered in greater\n",
      "  hits = np.where(cur_imp[0] > imp_sha_max)[0]\n",
      "/Users/shohei.mitani/.pyenv/versions/anaconda3-5.3.1/lib/python3.6/site-packages/boruta/boruta_py.py:380: DataConversionWarning: A column-vector y was passed when a 1d array was expected. Please change the shape of y to (n_samples,), for example using ravel().\n",
      "  self.estimator.fit(X, y)\n"
     ]
    },
    {
     "name": "stdout",
     "output_type": "stream",
     "text": [
      "Iteration: \t295 / 500\n",
      "Confirmed: \t20\n",
      "Tentative: \t4\n",
      "Rejected: \t106\n"
     ]
    },
    {
     "name": "stderr",
     "output_type": "stream",
     "text": [
      "/Users/shohei.mitani/.pyenv/versions/anaconda3-5.3.1/lib/python3.6/site-packages/boruta/boruta_py.py:418: RuntimeWarning: invalid value encountered in greater\n",
      "  hits = np.where(cur_imp[0] > imp_sha_max)[0]\n",
      "/Users/shohei.mitani/.pyenv/versions/anaconda3-5.3.1/lib/python3.6/site-packages/boruta/boruta_py.py:380: DataConversionWarning: A column-vector y was passed when a 1d array was expected. Please change the shape of y to (n_samples,), for example using ravel().\n",
      "  self.estimator.fit(X, y)\n"
     ]
    },
    {
     "name": "stdout",
     "output_type": "stream",
     "text": [
      "Iteration: \t296 / 500\n",
      "Confirmed: \t20\n",
      "Tentative: \t4\n",
      "Rejected: \t106\n"
     ]
    },
    {
     "name": "stderr",
     "output_type": "stream",
     "text": [
      "/Users/shohei.mitani/.pyenv/versions/anaconda3-5.3.1/lib/python3.6/site-packages/boruta/boruta_py.py:418: RuntimeWarning: invalid value encountered in greater\n",
      "  hits = np.where(cur_imp[0] > imp_sha_max)[0]\n",
      "/Users/shohei.mitani/.pyenv/versions/anaconda3-5.3.1/lib/python3.6/site-packages/boruta/boruta_py.py:380: DataConversionWarning: A column-vector y was passed when a 1d array was expected. Please change the shape of y to (n_samples,), for example using ravel().\n",
      "  self.estimator.fit(X, y)\n"
     ]
    },
    {
     "name": "stdout",
     "output_type": "stream",
     "text": [
      "Iteration: \t297 / 500\n",
      "Confirmed: \t20\n",
      "Tentative: \t4\n",
      "Rejected: \t106\n"
     ]
    },
    {
     "name": "stderr",
     "output_type": "stream",
     "text": [
      "/Users/shohei.mitani/.pyenv/versions/anaconda3-5.3.1/lib/python3.6/site-packages/boruta/boruta_py.py:418: RuntimeWarning: invalid value encountered in greater\n",
      "  hits = np.where(cur_imp[0] > imp_sha_max)[0]\n",
      "/Users/shohei.mitani/.pyenv/versions/anaconda3-5.3.1/lib/python3.6/site-packages/boruta/boruta_py.py:380: DataConversionWarning: A column-vector y was passed when a 1d array was expected. Please change the shape of y to (n_samples,), for example using ravel().\n",
      "  self.estimator.fit(X, y)\n"
     ]
    },
    {
     "name": "stdout",
     "output_type": "stream",
     "text": [
      "Iteration: \t298 / 500\n",
      "Confirmed: \t20\n",
      "Tentative: \t4\n",
      "Rejected: \t106\n"
     ]
    },
    {
     "name": "stderr",
     "output_type": "stream",
     "text": [
      "/Users/shohei.mitani/.pyenv/versions/anaconda3-5.3.1/lib/python3.6/site-packages/boruta/boruta_py.py:418: RuntimeWarning: invalid value encountered in greater\n",
      "  hits = np.where(cur_imp[0] > imp_sha_max)[0]\n",
      "/Users/shohei.mitani/.pyenv/versions/anaconda3-5.3.1/lib/python3.6/site-packages/boruta/boruta_py.py:380: DataConversionWarning: A column-vector y was passed when a 1d array was expected. Please change the shape of y to (n_samples,), for example using ravel().\n",
      "  self.estimator.fit(X, y)\n"
     ]
    },
    {
     "name": "stdout",
     "output_type": "stream",
     "text": [
      "Iteration: \t299 / 500\n",
      "Confirmed: \t20\n",
      "Tentative: \t4\n",
      "Rejected: \t106\n"
     ]
    },
    {
     "name": "stderr",
     "output_type": "stream",
     "text": [
      "/Users/shohei.mitani/.pyenv/versions/anaconda3-5.3.1/lib/python3.6/site-packages/boruta/boruta_py.py:418: RuntimeWarning: invalid value encountered in greater\n",
      "  hits = np.where(cur_imp[0] > imp_sha_max)[0]\n",
      "/Users/shohei.mitani/.pyenv/versions/anaconda3-5.3.1/lib/python3.6/site-packages/boruta/boruta_py.py:380: DataConversionWarning: A column-vector y was passed when a 1d array was expected. Please change the shape of y to (n_samples,), for example using ravel().\n",
      "  self.estimator.fit(X, y)\n"
     ]
    },
    {
     "name": "stdout",
     "output_type": "stream",
     "text": [
      "Iteration: \t300 / 500\n",
      "Confirmed: \t20\n",
      "Tentative: \t4\n",
      "Rejected: \t106\n"
     ]
    },
    {
     "name": "stderr",
     "output_type": "stream",
     "text": [
      "/Users/shohei.mitani/.pyenv/versions/anaconda3-5.3.1/lib/python3.6/site-packages/boruta/boruta_py.py:418: RuntimeWarning: invalid value encountered in greater\n",
      "  hits = np.where(cur_imp[0] > imp_sha_max)[0]\n",
      "/Users/shohei.mitani/.pyenv/versions/anaconda3-5.3.1/lib/python3.6/site-packages/boruta/boruta_py.py:380: DataConversionWarning: A column-vector y was passed when a 1d array was expected. Please change the shape of y to (n_samples,), for example using ravel().\n",
      "  self.estimator.fit(X, y)\n"
     ]
    },
    {
     "name": "stdout",
     "output_type": "stream",
     "text": [
      "Iteration: \t301 / 500\n",
      "Confirmed: \t20\n",
      "Tentative: \t4\n",
      "Rejected: \t106\n"
     ]
    },
    {
     "name": "stderr",
     "output_type": "stream",
     "text": [
      "/Users/shohei.mitani/.pyenv/versions/anaconda3-5.3.1/lib/python3.6/site-packages/boruta/boruta_py.py:418: RuntimeWarning: invalid value encountered in greater\n",
      "  hits = np.where(cur_imp[0] > imp_sha_max)[0]\n",
      "/Users/shohei.mitani/.pyenv/versions/anaconda3-5.3.1/lib/python3.6/site-packages/boruta/boruta_py.py:380: DataConversionWarning: A column-vector y was passed when a 1d array was expected. Please change the shape of y to (n_samples,), for example using ravel().\n",
      "  self.estimator.fit(X, y)\n"
     ]
    },
    {
     "name": "stdout",
     "output_type": "stream",
     "text": [
      "Iteration: \t302 / 500\n",
      "Confirmed: \t20\n",
      "Tentative: \t4\n",
      "Rejected: \t106\n"
     ]
    },
    {
     "name": "stderr",
     "output_type": "stream",
     "text": [
      "/Users/shohei.mitani/.pyenv/versions/anaconda3-5.3.1/lib/python3.6/site-packages/boruta/boruta_py.py:418: RuntimeWarning: invalid value encountered in greater\n",
      "  hits = np.where(cur_imp[0] > imp_sha_max)[0]\n",
      "/Users/shohei.mitani/.pyenv/versions/anaconda3-5.3.1/lib/python3.6/site-packages/boruta/boruta_py.py:380: DataConversionWarning: A column-vector y was passed when a 1d array was expected. Please change the shape of y to (n_samples,), for example using ravel().\n",
      "  self.estimator.fit(X, y)\n"
     ]
    },
    {
     "name": "stdout",
     "output_type": "stream",
     "text": [
      "Iteration: \t303 / 500\n",
      "Confirmed: \t20\n",
      "Tentative: \t4\n",
      "Rejected: \t106\n"
     ]
    },
    {
     "name": "stderr",
     "output_type": "stream",
     "text": [
      "/Users/shohei.mitani/.pyenv/versions/anaconda3-5.3.1/lib/python3.6/site-packages/boruta/boruta_py.py:418: RuntimeWarning: invalid value encountered in greater\n",
      "  hits = np.where(cur_imp[0] > imp_sha_max)[0]\n",
      "/Users/shohei.mitani/.pyenv/versions/anaconda3-5.3.1/lib/python3.6/site-packages/boruta/boruta_py.py:380: DataConversionWarning: A column-vector y was passed when a 1d array was expected. Please change the shape of y to (n_samples,), for example using ravel().\n",
      "  self.estimator.fit(X, y)\n"
     ]
    },
    {
     "name": "stdout",
     "output_type": "stream",
     "text": [
      "Iteration: \t304 / 500\n",
      "Confirmed: \t20\n",
      "Tentative: \t4\n",
      "Rejected: \t106\n"
     ]
    },
    {
     "name": "stderr",
     "output_type": "stream",
     "text": [
      "/Users/shohei.mitani/.pyenv/versions/anaconda3-5.3.1/lib/python3.6/site-packages/boruta/boruta_py.py:418: RuntimeWarning: invalid value encountered in greater\n",
      "  hits = np.where(cur_imp[0] > imp_sha_max)[0]\n",
      "/Users/shohei.mitani/.pyenv/versions/anaconda3-5.3.1/lib/python3.6/site-packages/boruta/boruta_py.py:380: DataConversionWarning: A column-vector y was passed when a 1d array was expected. Please change the shape of y to (n_samples,), for example using ravel().\n",
      "  self.estimator.fit(X, y)\n"
     ]
    },
    {
     "name": "stdout",
     "output_type": "stream",
     "text": [
      "Iteration: \t305 / 500\n",
      "Confirmed: \t20\n",
      "Tentative: \t4\n",
      "Rejected: \t106\n"
     ]
    },
    {
     "name": "stderr",
     "output_type": "stream",
     "text": [
      "/Users/shohei.mitani/.pyenv/versions/anaconda3-5.3.1/lib/python3.6/site-packages/boruta/boruta_py.py:418: RuntimeWarning: invalid value encountered in greater\n",
      "  hits = np.where(cur_imp[0] > imp_sha_max)[0]\n",
      "/Users/shohei.mitani/.pyenv/versions/anaconda3-5.3.1/lib/python3.6/site-packages/boruta/boruta_py.py:380: DataConversionWarning: A column-vector y was passed when a 1d array was expected. Please change the shape of y to (n_samples,), for example using ravel().\n",
      "  self.estimator.fit(X, y)\n"
     ]
    },
    {
     "name": "stdout",
     "output_type": "stream",
     "text": [
      "Iteration: \t306 / 500\n",
      "Confirmed: \t20\n",
      "Tentative: \t4\n",
      "Rejected: \t106\n"
     ]
    },
    {
     "name": "stderr",
     "output_type": "stream",
     "text": [
      "/Users/shohei.mitani/.pyenv/versions/anaconda3-5.3.1/lib/python3.6/site-packages/boruta/boruta_py.py:418: RuntimeWarning: invalid value encountered in greater\n",
      "  hits = np.where(cur_imp[0] > imp_sha_max)[0]\n",
      "/Users/shohei.mitani/.pyenv/versions/anaconda3-5.3.1/lib/python3.6/site-packages/boruta/boruta_py.py:380: DataConversionWarning: A column-vector y was passed when a 1d array was expected. Please change the shape of y to (n_samples,), for example using ravel().\n",
      "  self.estimator.fit(X, y)\n"
     ]
    },
    {
     "name": "stdout",
     "output_type": "stream",
     "text": [
      "Iteration: \t307 / 500\n",
      "Confirmed: \t20\n",
      "Tentative: \t4\n",
      "Rejected: \t106\n"
     ]
    },
    {
     "name": "stderr",
     "output_type": "stream",
     "text": [
      "/Users/shohei.mitani/.pyenv/versions/anaconda3-5.3.1/lib/python3.6/site-packages/boruta/boruta_py.py:418: RuntimeWarning: invalid value encountered in greater\n",
      "  hits = np.where(cur_imp[0] > imp_sha_max)[0]\n",
      "/Users/shohei.mitani/.pyenv/versions/anaconda3-5.3.1/lib/python3.6/site-packages/boruta/boruta_py.py:380: DataConversionWarning: A column-vector y was passed when a 1d array was expected. Please change the shape of y to (n_samples,), for example using ravel().\n",
      "  self.estimator.fit(X, y)\n"
     ]
    },
    {
     "name": "stdout",
     "output_type": "stream",
     "text": [
      "Iteration: \t308 / 500\n",
      "Confirmed: \t20\n",
      "Tentative: \t4\n",
      "Rejected: \t106\n"
     ]
    },
    {
     "name": "stderr",
     "output_type": "stream",
     "text": [
      "/Users/shohei.mitani/.pyenv/versions/anaconda3-5.3.1/lib/python3.6/site-packages/boruta/boruta_py.py:418: RuntimeWarning: invalid value encountered in greater\n",
      "  hits = np.where(cur_imp[0] > imp_sha_max)[0]\n",
      "/Users/shohei.mitani/.pyenv/versions/anaconda3-5.3.1/lib/python3.6/site-packages/boruta/boruta_py.py:380: DataConversionWarning: A column-vector y was passed when a 1d array was expected. Please change the shape of y to (n_samples,), for example using ravel().\n",
      "  self.estimator.fit(X, y)\n"
     ]
    },
    {
     "name": "stdout",
     "output_type": "stream",
     "text": [
      "Iteration: \t309 / 500\n",
      "Confirmed: \t20\n",
      "Tentative: \t4\n",
      "Rejected: \t106\n"
     ]
    },
    {
     "name": "stderr",
     "output_type": "stream",
     "text": [
      "/Users/shohei.mitani/.pyenv/versions/anaconda3-5.3.1/lib/python3.6/site-packages/boruta/boruta_py.py:418: RuntimeWarning: invalid value encountered in greater\n",
      "  hits = np.where(cur_imp[0] > imp_sha_max)[0]\n",
      "/Users/shohei.mitani/.pyenv/versions/anaconda3-5.3.1/lib/python3.6/site-packages/boruta/boruta_py.py:380: DataConversionWarning: A column-vector y was passed when a 1d array was expected. Please change the shape of y to (n_samples,), for example using ravel().\n",
      "  self.estimator.fit(X, y)\n"
     ]
    },
    {
     "name": "stdout",
     "output_type": "stream",
     "text": [
      "Iteration: \t310 / 500\n",
      "Confirmed: \t20\n",
      "Tentative: \t4\n",
      "Rejected: \t106\n"
     ]
    },
    {
     "name": "stderr",
     "output_type": "stream",
     "text": [
      "/Users/shohei.mitani/.pyenv/versions/anaconda3-5.3.1/lib/python3.6/site-packages/boruta/boruta_py.py:418: RuntimeWarning: invalid value encountered in greater\n",
      "  hits = np.where(cur_imp[0] > imp_sha_max)[0]\n",
      "/Users/shohei.mitani/.pyenv/versions/anaconda3-5.3.1/lib/python3.6/site-packages/boruta/boruta_py.py:380: DataConversionWarning: A column-vector y was passed when a 1d array was expected. Please change the shape of y to (n_samples,), for example using ravel().\n",
      "  self.estimator.fit(X, y)\n"
     ]
    },
    {
     "name": "stdout",
     "output_type": "stream",
     "text": [
      "Iteration: \t311 / 500\n",
      "Confirmed: \t20\n",
      "Tentative: \t4\n",
      "Rejected: \t106\n"
     ]
    },
    {
     "name": "stderr",
     "output_type": "stream",
     "text": [
      "/Users/shohei.mitani/.pyenv/versions/anaconda3-5.3.1/lib/python3.6/site-packages/boruta/boruta_py.py:418: RuntimeWarning: invalid value encountered in greater\n",
      "  hits = np.where(cur_imp[0] > imp_sha_max)[0]\n",
      "/Users/shohei.mitani/.pyenv/versions/anaconda3-5.3.1/lib/python3.6/site-packages/boruta/boruta_py.py:380: DataConversionWarning: A column-vector y was passed when a 1d array was expected. Please change the shape of y to (n_samples,), for example using ravel().\n",
      "  self.estimator.fit(X, y)\n"
     ]
    },
    {
     "name": "stdout",
     "output_type": "stream",
     "text": [
      "Iteration: \t312 / 500\n",
      "Confirmed: \t20\n",
      "Tentative: \t4\n",
      "Rejected: \t106\n"
     ]
    },
    {
     "name": "stderr",
     "output_type": "stream",
     "text": [
      "/Users/shohei.mitani/.pyenv/versions/anaconda3-5.3.1/lib/python3.6/site-packages/boruta/boruta_py.py:418: RuntimeWarning: invalid value encountered in greater\n",
      "  hits = np.where(cur_imp[0] > imp_sha_max)[0]\n",
      "/Users/shohei.mitani/.pyenv/versions/anaconda3-5.3.1/lib/python3.6/site-packages/boruta/boruta_py.py:380: DataConversionWarning: A column-vector y was passed when a 1d array was expected. Please change the shape of y to (n_samples,), for example using ravel().\n",
      "  self.estimator.fit(X, y)\n"
     ]
    },
    {
     "name": "stdout",
     "output_type": "stream",
     "text": [
      "Iteration: \t313 / 500\n",
      "Confirmed: \t20\n",
      "Tentative: \t4\n",
      "Rejected: \t106\n"
     ]
    },
    {
     "name": "stderr",
     "output_type": "stream",
     "text": [
      "/Users/shohei.mitani/.pyenv/versions/anaconda3-5.3.1/lib/python3.6/site-packages/boruta/boruta_py.py:418: RuntimeWarning: invalid value encountered in greater\n",
      "  hits = np.where(cur_imp[0] > imp_sha_max)[0]\n",
      "/Users/shohei.mitani/.pyenv/versions/anaconda3-5.3.1/lib/python3.6/site-packages/boruta/boruta_py.py:380: DataConversionWarning: A column-vector y was passed when a 1d array was expected. Please change the shape of y to (n_samples,), for example using ravel().\n",
      "  self.estimator.fit(X, y)\n"
     ]
    },
    {
     "name": "stdout",
     "output_type": "stream",
     "text": [
      "Iteration: \t314 / 500\n",
      "Confirmed: \t20\n",
      "Tentative: \t4\n",
      "Rejected: \t106\n"
     ]
    },
    {
     "name": "stderr",
     "output_type": "stream",
     "text": [
      "/Users/shohei.mitani/.pyenv/versions/anaconda3-5.3.1/lib/python3.6/site-packages/boruta/boruta_py.py:418: RuntimeWarning: invalid value encountered in greater\n",
      "  hits = np.where(cur_imp[0] > imp_sha_max)[0]\n",
      "/Users/shohei.mitani/.pyenv/versions/anaconda3-5.3.1/lib/python3.6/site-packages/boruta/boruta_py.py:380: DataConversionWarning: A column-vector y was passed when a 1d array was expected. Please change the shape of y to (n_samples,), for example using ravel().\n",
      "  self.estimator.fit(X, y)\n"
     ]
    },
    {
     "name": "stdout",
     "output_type": "stream",
     "text": [
      "Iteration: \t315 / 500\n",
      "Confirmed: \t20\n",
      "Tentative: \t4\n",
      "Rejected: \t106\n"
     ]
    },
    {
     "name": "stderr",
     "output_type": "stream",
     "text": [
      "/Users/shohei.mitani/.pyenv/versions/anaconda3-5.3.1/lib/python3.6/site-packages/boruta/boruta_py.py:418: RuntimeWarning: invalid value encountered in greater\n",
      "  hits = np.where(cur_imp[0] > imp_sha_max)[0]\n",
      "/Users/shohei.mitani/.pyenv/versions/anaconda3-5.3.1/lib/python3.6/site-packages/boruta/boruta_py.py:380: DataConversionWarning: A column-vector y was passed when a 1d array was expected. Please change the shape of y to (n_samples,), for example using ravel().\n",
      "  self.estimator.fit(X, y)\n"
     ]
    },
    {
     "name": "stdout",
     "output_type": "stream",
     "text": [
      "Iteration: \t316 / 500\n",
      "Confirmed: \t20\n",
      "Tentative: \t4\n",
      "Rejected: \t106\n"
     ]
    },
    {
     "name": "stderr",
     "output_type": "stream",
     "text": [
      "/Users/shohei.mitani/.pyenv/versions/anaconda3-5.3.1/lib/python3.6/site-packages/boruta/boruta_py.py:418: RuntimeWarning: invalid value encountered in greater\n",
      "  hits = np.where(cur_imp[0] > imp_sha_max)[0]\n",
      "/Users/shohei.mitani/.pyenv/versions/anaconda3-5.3.1/lib/python3.6/site-packages/boruta/boruta_py.py:380: DataConversionWarning: A column-vector y was passed when a 1d array was expected. Please change the shape of y to (n_samples,), for example using ravel().\n",
      "  self.estimator.fit(X, y)\n"
     ]
    },
    {
     "name": "stdout",
     "output_type": "stream",
     "text": [
      "Iteration: \t317 / 500\n",
      "Confirmed: \t20\n",
      "Tentative: \t4\n",
      "Rejected: \t106\n"
     ]
    },
    {
     "name": "stderr",
     "output_type": "stream",
     "text": [
      "/Users/shohei.mitani/.pyenv/versions/anaconda3-5.3.1/lib/python3.6/site-packages/boruta/boruta_py.py:418: RuntimeWarning: invalid value encountered in greater\n",
      "  hits = np.where(cur_imp[0] > imp_sha_max)[0]\n",
      "/Users/shohei.mitani/.pyenv/versions/anaconda3-5.3.1/lib/python3.6/site-packages/boruta/boruta_py.py:380: DataConversionWarning: A column-vector y was passed when a 1d array was expected. Please change the shape of y to (n_samples,), for example using ravel().\n",
      "  self.estimator.fit(X, y)\n"
     ]
    },
    {
     "name": "stdout",
     "output_type": "stream",
     "text": [
      "Iteration: \t318 / 500\n",
      "Confirmed: \t20\n",
      "Tentative: \t4\n",
      "Rejected: \t106\n"
     ]
    },
    {
     "name": "stderr",
     "output_type": "stream",
     "text": [
      "/Users/shohei.mitani/.pyenv/versions/anaconda3-5.3.1/lib/python3.6/site-packages/boruta/boruta_py.py:418: RuntimeWarning: invalid value encountered in greater\n",
      "  hits = np.where(cur_imp[0] > imp_sha_max)[0]\n",
      "/Users/shohei.mitani/.pyenv/versions/anaconda3-5.3.1/lib/python3.6/site-packages/boruta/boruta_py.py:380: DataConversionWarning: A column-vector y was passed when a 1d array was expected. Please change the shape of y to (n_samples,), for example using ravel().\n",
      "  self.estimator.fit(X, y)\n"
     ]
    },
    {
     "name": "stdout",
     "output_type": "stream",
     "text": [
      "Iteration: \t319 / 500\n",
      "Confirmed: \t20\n",
      "Tentative: \t4\n",
      "Rejected: \t106\n"
     ]
    },
    {
     "name": "stderr",
     "output_type": "stream",
     "text": [
      "/Users/shohei.mitani/.pyenv/versions/anaconda3-5.3.1/lib/python3.6/site-packages/boruta/boruta_py.py:418: RuntimeWarning: invalid value encountered in greater\n",
      "  hits = np.where(cur_imp[0] > imp_sha_max)[0]\n",
      "/Users/shohei.mitani/.pyenv/versions/anaconda3-5.3.1/lib/python3.6/site-packages/boruta/boruta_py.py:380: DataConversionWarning: A column-vector y was passed when a 1d array was expected. Please change the shape of y to (n_samples,), for example using ravel().\n",
      "  self.estimator.fit(X, y)\n"
     ]
    },
    {
     "name": "stdout",
     "output_type": "stream",
     "text": [
      "Iteration: \t320 / 500\n",
      "Confirmed: \t20\n",
      "Tentative: \t4\n",
      "Rejected: \t106\n"
     ]
    },
    {
     "name": "stderr",
     "output_type": "stream",
     "text": [
      "/Users/shohei.mitani/.pyenv/versions/anaconda3-5.3.1/lib/python3.6/site-packages/boruta/boruta_py.py:418: RuntimeWarning: invalid value encountered in greater\n",
      "  hits = np.where(cur_imp[0] > imp_sha_max)[0]\n",
      "/Users/shohei.mitani/.pyenv/versions/anaconda3-5.3.1/lib/python3.6/site-packages/boruta/boruta_py.py:380: DataConversionWarning: A column-vector y was passed when a 1d array was expected. Please change the shape of y to (n_samples,), for example using ravel().\n",
      "  self.estimator.fit(X, y)\n"
     ]
    },
    {
     "name": "stdout",
     "output_type": "stream",
     "text": [
      "Iteration: \t321 / 500\n",
      "Confirmed: \t20\n",
      "Tentative: \t4\n",
      "Rejected: \t106\n"
     ]
    },
    {
     "name": "stderr",
     "output_type": "stream",
     "text": [
      "/Users/shohei.mitani/.pyenv/versions/anaconda3-5.3.1/lib/python3.6/site-packages/boruta/boruta_py.py:418: RuntimeWarning: invalid value encountered in greater\n",
      "  hits = np.where(cur_imp[0] > imp_sha_max)[0]\n",
      "/Users/shohei.mitani/.pyenv/versions/anaconda3-5.3.1/lib/python3.6/site-packages/boruta/boruta_py.py:380: DataConversionWarning: A column-vector y was passed when a 1d array was expected. Please change the shape of y to (n_samples,), for example using ravel().\n",
      "  self.estimator.fit(X, y)\n"
     ]
    },
    {
     "name": "stdout",
     "output_type": "stream",
     "text": [
      "Iteration: \t322 / 500\n",
      "Confirmed: \t20\n",
      "Tentative: \t4\n",
      "Rejected: \t106\n"
     ]
    },
    {
     "name": "stderr",
     "output_type": "stream",
     "text": [
      "/Users/shohei.mitani/.pyenv/versions/anaconda3-5.3.1/lib/python3.6/site-packages/boruta/boruta_py.py:418: RuntimeWarning: invalid value encountered in greater\n",
      "  hits = np.where(cur_imp[0] > imp_sha_max)[0]\n",
      "/Users/shohei.mitani/.pyenv/versions/anaconda3-5.3.1/lib/python3.6/site-packages/boruta/boruta_py.py:380: DataConversionWarning: A column-vector y was passed when a 1d array was expected. Please change the shape of y to (n_samples,), for example using ravel().\n",
      "  self.estimator.fit(X, y)\n"
     ]
    },
    {
     "name": "stdout",
     "output_type": "stream",
     "text": [
      "Iteration: \t323 / 500\n",
      "Confirmed: \t20\n",
      "Tentative: \t4\n",
      "Rejected: \t106\n"
     ]
    },
    {
     "name": "stderr",
     "output_type": "stream",
     "text": [
      "/Users/shohei.mitani/.pyenv/versions/anaconda3-5.3.1/lib/python3.6/site-packages/boruta/boruta_py.py:418: RuntimeWarning: invalid value encountered in greater\n",
      "  hits = np.where(cur_imp[0] > imp_sha_max)[0]\n",
      "/Users/shohei.mitani/.pyenv/versions/anaconda3-5.3.1/lib/python3.6/site-packages/boruta/boruta_py.py:380: DataConversionWarning: A column-vector y was passed when a 1d array was expected. Please change the shape of y to (n_samples,), for example using ravel().\n",
      "  self.estimator.fit(X, y)\n"
     ]
    },
    {
     "name": "stdout",
     "output_type": "stream",
     "text": [
      "Iteration: \t324 / 500\n",
      "Confirmed: \t20\n",
      "Tentative: \t4\n",
      "Rejected: \t106\n"
     ]
    },
    {
     "name": "stderr",
     "output_type": "stream",
     "text": [
      "/Users/shohei.mitani/.pyenv/versions/anaconda3-5.3.1/lib/python3.6/site-packages/boruta/boruta_py.py:418: RuntimeWarning: invalid value encountered in greater\n",
      "  hits = np.where(cur_imp[0] > imp_sha_max)[0]\n",
      "/Users/shohei.mitani/.pyenv/versions/anaconda3-5.3.1/lib/python3.6/site-packages/boruta/boruta_py.py:380: DataConversionWarning: A column-vector y was passed when a 1d array was expected. Please change the shape of y to (n_samples,), for example using ravel().\n",
      "  self.estimator.fit(X, y)\n"
     ]
    },
    {
     "name": "stdout",
     "output_type": "stream",
     "text": [
      "Iteration: \t325 / 500\n",
      "Confirmed: \t20\n",
      "Tentative: \t4\n",
      "Rejected: \t106\n"
     ]
    },
    {
     "name": "stderr",
     "output_type": "stream",
     "text": [
      "/Users/shohei.mitani/.pyenv/versions/anaconda3-5.3.1/lib/python3.6/site-packages/boruta/boruta_py.py:418: RuntimeWarning: invalid value encountered in greater\n",
      "  hits = np.where(cur_imp[0] > imp_sha_max)[0]\n",
      "/Users/shohei.mitani/.pyenv/versions/anaconda3-5.3.1/lib/python3.6/site-packages/boruta/boruta_py.py:380: DataConversionWarning: A column-vector y was passed when a 1d array was expected. Please change the shape of y to (n_samples,), for example using ravel().\n",
      "  self.estimator.fit(X, y)\n"
     ]
    },
    {
     "name": "stdout",
     "output_type": "stream",
     "text": [
      "Iteration: \t326 / 500\n",
      "Confirmed: \t20\n",
      "Tentative: \t4\n",
      "Rejected: \t106\n"
     ]
    },
    {
     "name": "stderr",
     "output_type": "stream",
     "text": [
      "/Users/shohei.mitani/.pyenv/versions/anaconda3-5.3.1/lib/python3.6/site-packages/boruta/boruta_py.py:418: RuntimeWarning: invalid value encountered in greater\n",
      "  hits = np.where(cur_imp[0] > imp_sha_max)[0]\n",
      "/Users/shohei.mitani/.pyenv/versions/anaconda3-5.3.1/lib/python3.6/site-packages/boruta/boruta_py.py:380: DataConversionWarning: A column-vector y was passed when a 1d array was expected. Please change the shape of y to (n_samples,), for example using ravel().\n",
      "  self.estimator.fit(X, y)\n"
     ]
    },
    {
     "name": "stdout",
     "output_type": "stream",
     "text": [
      "Iteration: \t327 / 500\n",
      "Confirmed: \t20\n",
      "Tentative: \t4\n",
      "Rejected: \t106\n"
     ]
    },
    {
     "name": "stderr",
     "output_type": "stream",
     "text": [
      "/Users/shohei.mitani/.pyenv/versions/anaconda3-5.3.1/lib/python3.6/site-packages/boruta/boruta_py.py:418: RuntimeWarning: invalid value encountered in greater\n",
      "  hits = np.where(cur_imp[0] > imp_sha_max)[0]\n",
      "/Users/shohei.mitani/.pyenv/versions/anaconda3-5.3.1/lib/python3.6/site-packages/boruta/boruta_py.py:380: DataConversionWarning: A column-vector y was passed when a 1d array was expected. Please change the shape of y to (n_samples,), for example using ravel().\n",
      "  self.estimator.fit(X, y)\n"
     ]
    },
    {
     "name": "stdout",
     "output_type": "stream",
     "text": [
      "Iteration: \t328 / 500\n",
      "Confirmed: \t20\n",
      "Tentative: \t4\n",
      "Rejected: \t106\n"
     ]
    },
    {
     "name": "stderr",
     "output_type": "stream",
     "text": [
      "/Users/shohei.mitani/.pyenv/versions/anaconda3-5.3.1/lib/python3.6/site-packages/boruta/boruta_py.py:418: RuntimeWarning: invalid value encountered in greater\n",
      "  hits = np.where(cur_imp[0] > imp_sha_max)[0]\n",
      "/Users/shohei.mitani/.pyenv/versions/anaconda3-5.3.1/lib/python3.6/site-packages/boruta/boruta_py.py:380: DataConversionWarning: A column-vector y was passed when a 1d array was expected. Please change the shape of y to (n_samples,), for example using ravel().\n",
      "  self.estimator.fit(X, y)\n"
     ]
    },
    {
     "name": "stdout",
     "output_type": "stream",
     "text": [
      "Iteration: \t329 / 500\n",
      "Confirmed: \t20\n",
      "Tentative: \t4\n",
      "Rejected: \t106\n"
     ]
    },
    {
     "name": "stderr",
     "output_type": "stream",
     "text": [
      "/Users/shohei.mitani/.pyenv/versions/anaconda3-5.3.1/lib/python3.6/site-packages/boruta/boruta_py.py:418: RuntimeWarning: invalid value encountered in greater\n",
      "  hits = np.where(cur_imp[0] > imp_sha_max)[0]\n",
      "/Users/shohei.mitani/.pyenv/versions/anaconda3-5.3.1/lib/python3.6/site-packages/boruta/boruta_py.py:380: DataConversionWarning: A column-vector y was passed when a 1d array was expected. Please change the shape of y to (n_samples,), for example using ravel().\n",
      "  self.estimator.fit(X, y)\n"
     ]
    },
    {
     "name": "stdout",
     "output_type": "stream",
     "text": [
      "Iteration: \t330 / 500\n",
      "Confirmed: \t20\n",
      "Tentative: \t4\n",
      "Rejected: \t106\n"
     ]
    },
    {
     "name": "stderr",
     "output_type": "stream",
     "text": [
      "/Users/shohei.mitani/.pyenv/versions/anaconda3-5.3.1/lib/python3.6/site-packages/boruta/boruta_py.py:418: RuntimeWarning: invalid value encountered in greater\n",
      "  hits = np.where(cur_imp[0] > imp_sha_max)[0]\n",
      "/Users/shohei.mitani/.pyenv/versions/anaconda3-5.3.1/lib/python3.6/site-packages/boruta/boruta_py.py:380: DataConversionWarning: A column-vector y was passed when a 1d array was expected. Please change the shape of y to (n_samples,), for example using ravel().\n",
      "  self.estimator.fit(X, y)\n"
     ]
    },
    {
     "name": "stdout",
     "output_type": "stream",
     "text": [
      "Iteration: \t331 / 500\n",
      "Confirmed: \t20\n",
      "Tentative: \t4\n",
      "Rejected: \t106\n"
     ]
    },
    {
     "name": "stderr",
     "output_type": "stream",
     "text": [
      "/Users/shohei.mitani/.pyenv/versions/anaconda3-5.3.1/lib/python3.6/site-packages/boruta/boruta_py.py:418: RuntimeWarning: invalid value encountered in greater\n",
      "  hits = np.where(cur_imp[0] > imp_sha_max)[0]\n",
      "/Users/shohei.mitani/.pyenv/versions/anaconda3-5.3.1/lib/python3.6/site-packages/boruta/boruta_py.py:380: DataConversionWarning: A column-vector y was passed when a 1d array was expected. Please change the shape of y to (n_samples,), for example using ravel().\n",
      "  self.estimator.fit(X, y)\n"
     ]
    },
    {
     "name": "stdout",
     "output_type": "stream",
     "text": [
      "Iteration: \t332 / 500\n",
      "Confirmed: \t20\n",
      "Tentative: \t4\n",
      "Rejected: \t106\n"
     ]
    },
    {
     "name": "stderr",
     "output_type": "stream",
     "text": [
      "/Users/shohei.mitani/.pyenv/versions/anaconda3-5.3.1/lib/python3.6/site-packages/boruta/boruta_py.py:418: RuntimeWarning: invalid value encountered in greater\n",
      "  hits = np.where(cur_imp[0] > imp_sha_max)[0]\n",
      "/Users/shohei.mitani/.pyenv/versions/anaconda3-5.3.1/lib/python3.6/site-packages/boruta/boruta_py.py:380: DataConversionWarning: A column-vector y was passed when a 1d array was expected. Please change the shape of y to (n_samples,), for example using ravel().\n",
      "  self.estimator.fit(X, y)\n"
     ]
    },
    {
     "name": "stdout",
     "output_type": "stream",
     "text": [
      "Iteration: \t333 / 500\n",
      "Confirmed: \t20\n",
      "Tentative: \t4\n",
      "Rejected: \t106\n"
     ]
    },
    {
     "name": "stderr",
     "output_type": "stream",
     "text": [
      "/Users/shohei.mitani/.pyenv/versions/anaconda3-5.3.1/lib/python3.6/site-packages/boruta/boruta_py.py:418: RuntimeWarning: invalid value encountered in greater\n",
      "  hits = np.where(cur_imp[0] > imp_sha_max)[0]\n",
      "/Users/shohei.mitani/.pyenv/versions/anaconda3-5.3.1/lib/python3.6/site-packages/boruta/boruta_py.py:380: DataConversionWarning: A column-vector y was passed when a 1d array was expected. Please change the shape of y to (n_samples,), for example using ravel().\n",
      "  self.estimator.fit(X, y)\n"
     ]
    },
    {
     "name": "stdout",
     "output_type": "stream",
     "text": [
      "Iteration: \t334 / 500\n",
      "Confirmed: \t20\n",
      "Tentative: \t4\n",
      "Rejected: \t106\n"
     ]
    },
    {
     "name": "stderr",
     "output_type": "stream",
     "text": [
      "/Users/shohei.mitani/.pyenv/versions/anaconda3-5.3.1/lib/python3.6/site-packages/boruta/boruta_py.py:418: RuntimeWarning: invalid value encountered in greater\n",
      "  hits = np.where(cur_imp[0] > imp_sha_max)[0]\n",
      "/Users/shohei.mitani/.pyenv/versions/anaconda3-5.3.1/lib/python3.6/site-packages/boruta/boruta_py.py:380: DataConversionWarning: A column-vector y was passed when a 1d array was expected. Please change the shape of y to (n_samples,), for example using ravel().\n",
      "  self.estimator.fit(X, y)\n"
     ]
    },
    {
     "name": "stdout",
     "output_type": "stream",
     "text": [
      "Iteration: \t335 / 500\n",
      "Confirmed: \t20\n",
      "Tentative: \t4\n",
      "Rejected: \t106\n"
     ]
    },
    {
     "name": "stderr",
     "output_type": "stream",
     "text": [
      "/Users/shohei.mitani/.pyenv/versions/anaconda3-5.3.1/lib/python3.6/site-packages/boruta/boruta_py.py:418: RuntimeWarning: invalid value encountered in greater\n",
      "  hits = np.where(cur_imp[0] > imp_sha_max)[0]\n",
      "/Users/shohei.mitani/.pyenv/versions/anaconda3-5.3.1/lib/python3.6/site-packages/boruta/boruta_py.py:380: DataConversionWarning: A column-vector y was passed when a 1d array was expected. Please change the shape of y to (n_samples,), for example using ravel().\n",
      "  self.estimator.fit(X, y)\n"
     ]
    },
    {
     "name": "stdout",
     "output_type": "stream",
     "text": [
      "Iteration: \t336 / 500\n",
      "Confirmed: \t20\n",
      "Tentative: \t4\n",
      "Rejected: \t106\n"
     ]
    },
    {
     "name": "stderr",
     "output_type": "stream",
     "text": [
      "/Users/shohei.mitani/.pyenv/versions/anaconda3-5.3.1/lib/python3.6/site-packages/boruta/boruta_py.py:418: RuntimeWarning: invalid value encountered in greater\n",
      "  hits = np.where(cur_imp[0] > imp_sha_max)[0]\n",
      "/Users/shohei.mitani/.pyenv/versions/anaconda3-5.3.1/lib/python3.6/site-packages/boruta/boruta_py.py:380: DataConversionWarning: A column-vector y was passed when a 1d array was expected. Please change the shape of y to (n_samples,), for example using ravel().\n",
      "  self.estimator.fit(X, y)\n"
     ]
    },
    {
     "name": "stdout",
     "output_type": "stream",
     "text": [
      "Iteration: \t337 / 500\n",
      "Confirmed: \t20\n",
      "Tentative: \t4\n",
      "Rejected: \t106\n"
     ]
    },
    {
     "name": "stderr",
     "output_type": "stream",
     "text": [
      "/Users/shohei.mitani/.pyenv/versions/anaconda3-5.3.1/lib/python3.6/site-packages/boruta/boruta_py.py:418: RuntimeWarning: invalid value encountered in greater\n",
      "  hits = np.where(cur_imp[0] > imp_sha_max)[0]\n",
      "/Users/shohei.mitani/.pyenv/versions/anaconda3-5.3.1/lib/python3.6/site-packages/boruta/boruta_py.py:380: DataConversionWarning: A column-vector y was passed when a 1d array was expected. Please change the shape of y to (n_samples,), for example using ravel().\n",
      "  self.estimator.fit(X, y)\n"
     ]
    },
    {
     "name": "stdout",
     "output_type": "stream",
     "text": [
      "Iteration: \t338 / 500\n",
      "Confirmed: \t20\n",
      "Tentative: \t4\n",
      "Rejected: \t106\n"
     ]
    },
    {
     "name": "stderr",
     "output_type": "stream",
     "text": [
      "/Users/shohei.mitani/.pyenv/versions/anaconda3-5.3.1/lib/python3.6/site-packages/boruta/boruta_py.py:418: RuntimeWarning: invalid value encountered in greater\n",
      "  hits = np.where(cur_imp[0] > imp_sha_max)[0]\n",
      "/Users/shohei.mitani/.pyenv/versions/anaconda3-5.3.1/lib/python3.6/site-packages/boruta/boruta_py.py:380: DataConversionWarning: A column-vector y was passed when a 1d array was expected. Please change the shape of y to (n_samples,), for example using ravel().\n",
      "  self.estimator.fit(X, y)\n"
     ]
    },
    {
     "name": "stdout",
     "output_type": "stream",
     "text": [
      "Iteration: \t339 / 500\n",
      "Confirmed: \t20\n",
      "Tentative: \t4\n",
      "Rejected: \t106\n"
     ]
    },
    {
     "name": "stderr",
     "output_type": "stream",
     "text": [
      "/Users/shohei.mitani/.pyenv/versions/anaconda3-5.3.1/lib/python3.6/site-packages/boruta/boruta_py.py:418: RuntimeWarning: invalid value encountered in greater\n",
      "  hits = np.where(cur_imp[0] > imp_sha_max)[0]\n",
      "/Users/shohei.mitani/.pyenv/versions/anaconda3-5.3.1/lib/python3.6/site-packages/boruta/boruta_py.py:380: DataConversionWarning: A column-vector y was passed when a 1d array was expected. Please change the shape of y to (n_samples,), for example using ravel().\n",
      "  self.estimator.fit(X, y)\n"
     ]
    },
    {
     "name": "stdout",
     "output_type": "stream",
     "text": [
      "Iteration: \t340 / 500\n",
      "Confirmed: \t20\n",
      "Tentative: \t4\n",
      "Rejected: \t106\n"
     ]
    },
    {
     "name": "stderr",
     "output_type": "stream",
     "text": [
      "/Users/shohei.mitani/.pyenv/versions/anaconda3-5.3.1/lib/python3.6/site-packages/boruta/boruta_py.py:418: RuntimeWarning: invalid value encountered in greater\n",
      "  hits = np.where(cur_imp[0] > imp_sha_max)[0]\n",
      "/Users/shohei.mitani/.pyenv/versions/anaconda3-5.3.1/lib/python3.6/site-packages/boruta/boruta_py.py:380: DataConversionWarning: A column-vector y was passed when a 1d array was expected. Please change the shape of y to (n_samples,), for example using ravel().\n",
      "  self.estimator.fit(X, y)\n"
     ]
    },
    {
     "name": "stdout",
     "output_type": "stream",
     "text": [
      "Iteration: \t341 / 500\n",
      "Confirmed: \t20\n",
      "Tentative: \t4\n",
      "Rejected: \t106\n"
     ]
    },
    {
     "name": "stderr",
     "output_type": "stream",
     "text": [
      "/Users/shohei.mitani/.pyenv/versions/anaconda3-5.3.1/lib/python3.6/site-packages/boruta/boruta_py.py:418: RuntimeWarning: invalid value encountered in greater\n",
      "  hits = np.where(cur_imp[0] > imp_sha_max)[0]\n",
      "/Users/shohei.mitani/.pyenv/versions/anaconda3-5.3.1/lib/python3.6/site-packages/boruta/boruta_py.py:380: DataConversionWarning: A column-vector y was passed when a 1d array was expected. Please change the shape of y to (n_samples,), for example using ravel().\n",
      "  self.estimator.fit(X, y)\n"
     ]
    },
    {
     "name": "stdout",
     "output_type": "stream",
     "text": [
      "Iteration: \t342 / 500\n",
      "Confirmed: \t20\n",
      "Tentative: \t4\n",
      "Rejected: \t106\n"
     ]
    },
    {
     "name": "stderr",
     "output_type": "stream",
     "text": [
      "/Users/shohei.mitani/.pyenv/versions/anaconda3-5.3.1/lib/python3.6/site-packages/boruta/boruta_py.py:418: RuntimeWarning: invalid value encountered in greater\n",
      "  hits = np.where(cur_imp[0] > imp_sha_max)[0]\n",
      "/Users/shohei.mitani/.pyenv/versions/anaconda3-5.3.1/lib/python3.6/site-packages/boruta/boruta_py.py:380: DataConversionWarning: A column-vector y was passed when a 1d array was expected. Please change the shape of y to (n_samples,), for example using ravel().\n",
      "  self.estimator.fit(X, y)\n"
     ]
    },
    {
     "name": "stdout",
     "output_type": "stream",
     "text": [
      "Iteration: \t343 / 500\n",
      "Confirmed: \t20\n",
      "Tentative: \t4\n",
      "Rejected: \t106\n"
     ]
    },
    {
     "name": "stderr",
     "output_type": "stream",
     "text": [
      "/Users/shohei.mitani/.pyenv/versions/anaconda3-5.3.1/lib/python3.6/site-packages/boruta/boruta_py.py:418: RuntimeWarning: invalid value encountered in greater\n",
      "  hits = np.where(cur_imp[0] > imp_sha_max)[0]\n",
      "/Users/shohei.mitani/.pyenv/versions/anaconda3-5.3.1/lib/python3.6/site-packages/boruta/boruta_py.py:380: DataConversionWarning: A column-vector y was passed when a 1d array was expected. Please change the shape of y to (n_samples,), for example using ravel().\n",
      "  self.estimator.fit(X, y)\n"
     ]
    },
    {
     "name": "stdout",
     "output_type": "stream",
     "text": [
      "Iteration: \t344 / 500\n",
      "Confirmed: \t20\n",
      "Tentative: \t4\n",
      "Rejected: \t106\n"
     ]
    },
    {
     "name": "stderr",
     "output_type": "stream",
     "text": [
      "/Users/shohei.mitani/.pyenv/versions/anaconda3-5.3.1/lib/python3.6/site-packages/boruta/boruta_py.py:418: RuntimeWarning: invalid value encountered in greater\n",
      "  hits = np.where(cur_imp[0] > imp_sha_max)[0]\n",
      "/Users/shohei.mitani/.pyenv/versions/anaconda3-5.3.1/lib/python3.6/site-packages/boruta/boruta_py.py:380: DataConversionWarning: A column-vector y was passed when a 1d array was expected. Please change the shape of y to (n_samples,), for example using ravel().\n",
      "  self.estimator.fit(X, y)\n"
     ]
    },
    {
     "name": "stdout",
     "output_type": "stream",
     "text": [
      "Iteration: \t345 / 500\n",
      "Confirmed: \t20\n",
      "Tentative: \t4\n",
      "Rejected: \t106\n"
     ]
    },
    {
     "name": "stderr",
     "output_type": "stream",
     "text": [
      "/Users/shohei.mitani/.pyenv/versions/anaconda3-5.3.1/lib/python3.6/site-packages/boruta/boruta_py.py:418: RuntimeWarning: invalid value encountered in greater\n",
      "  hits = np.where(cur_imp[0] > imp_sha_max)[0]\n",
      "/Users/shohei.mitani/.pyenv/versions/anaconda3-5.3.1/lib/python3.6/site-packages/boruta/boruta_py.py:380: DataConversionWarning: A column-vector y was passed when a 1d array was expected. Please change the shape of y to (n_samples,), for example using ravel().\n",
      "  self.estimator.fit(X, y)\n"
     ]
    },
    {
     "name": "stdout",
     "output_type": "stream",
     "text": [
      "Iteration: \t346 / 500\n",
      "Confirmed: \t20\n",
      "Tentative: \t4\n",
      "Rejected: \t106\n"
     ]
    },
    {
     "name": "stderr",
     "output_type": "stream",
     "text": [
      "/Users/shohei.mitani/.pyenv/versions/anaconda3-5.3.1/lib/python3.6/site-packages/boruta/boruta_py.py:418: RuntimeWarning: invalid value encountered in greater\n",
      "  hits = np.where(cur_imp[0] > imp_sha_max)[0]\n",
      "/Users/shohei.mitani/.pyenv/versions/anaconda3-5.3.1/lib/python3.6/site-packages/boruta/boruta_py.py:380: DataConversionWarning: A column-vector y was passed when a 1d array was expected. Please change the shape of y to (n_samples,), for example using ravel().\n",
      "  self.estimator.fit(X, y)\n"
     ]
    },
    {
     "name": "stdout",
     "output_type": "stream",
     "text": [
      "Iteration: \t347 / 500\n",
      "Confirmed: \t20\n",
      "Tentative: \t4\n",
      "Rejected: \t106\n"
     ]
    },
    {
     "name": "stderr",
     "output_type": "stream",
     "text": [
      "/Users/shohei.mitani/.pyenv/versions/anaconda3-5.3.1/lib/python3.6/site-packages/boruta/boruta_py.py:418: RuntimeWarning: invalid value encountered in greater\n",
      "  hits = np.where(cur_imp[0] > imp_sha_max)[0]\n",
      "/Users/shohei.mitani/.pyenv/versions/anaconda3-5.3.1/lib/python3.6/site-packages/boruta/boruta_py.py:380: DataConversionWarning: A column-vector y was passed when a 1d array was expected. Please change the shape of y to (n_samples,), for example using ravel().\n",
      "  self.estimator.fit(X, y)\n"
     ]
    },
    {
     "name": "stdout",
     "output_type": "stream",
     "text": [
      "Iteration: \t348 / 500\n",
      "Confirmed: \t20\n",
      "Tentative: \t4\n",
      "Rejected: \t106\n"
     ]
    },
    {
     "name": "stderr",
     "output_type": "stream",
     "text": [
      "/Users/shohei.mitani/.pyenv/versions/anaconda3-5.3.1/lib/python3.6/site-packages/boruta/boruta_py.py:418: RuntimeWarning: invalid value encountered in greater\n",
      "  hits = np.where(cur_imp[0] > imp_sha_max)[0]\n",
      "/Users/shohei.mitani/.pyenv/versions/anaconda3-5.3.1/lib/python3.6/site-packages/boruta/boruta_py.py:380: DataConversionWarning: A column-vector y was passed when a 1d array was expected. Please change the shape of y to (n_samples,), for example using ravel().\n",
      "  self.estimator.fit(X, y)\n"
     ]
    },
    {
     "name": "stdout",
     "output_type": "stream",
     "text": [
      "Iteration: \t349 / 500\n",
      "Confirmed: \t20\n",
      "Tentative: \t4\n",
      "Rejected: \t106\n"
     ]
    },
    {
     "name": "stderr",
     "output_type": "stream",
     "text": [
      "/Users/shohei.mitani/.pyenv/versions/anaconda3-5.3.1/lib/python3.6/site-packages/boruta/boruta_py.py:418: RuntimeWarning: invalid value encountered in greater\n",
      "  hits = np.where(cur_imp[0] > imp_sha_max)[0]\n",
      "/Users/shohei.mitani/.pyenv/versions/anaconda3-5.3.1/lib/python3.6/site-packages/boruta/boruta_py.py:380: DataConversionWarning: A column-vector y was passed when a 1d array was expected. Please change the shape of y to (n_samples,), for example using ravel().\n",
      "  self.estimator.fit(X, y)\n"
     ]
    },
    {
     "name": "stdout",
     "output_type": "stream",
     "text": [
      "Iteration: \t350 / 500\n",
      "Confirmed: \t20\n",
      "Tentative: \t4\n",
      "Rejected: \t106\n"
     ]
    },
    {
     "name": "stderr",
     "output_type": "stream",
     "text": [
      "/Users/shohei.mitani/.pyenv/versions/anaconda3-5.3.1/lib/python3.6/site-packages/boruta/boruta_py.py:418: RuntimeWarning: invalid value encountered in greater\n",
      "  hits = np.where(cur_imp[0] > imp_sha_max)[0]\n",
      "/Users/shohei.mitani/.pyenv/versions/anaconda3-5.3.1/lib/python3.6/site-packages/boruta/boruta_py.py:380: DataConversionWarning: A column-vector y was passed when a 1d array was expected. Please change the shape of y to (n_samples,), for example using ravel().\n",
      "  self.estimator.fit(X, y)\n"
     ]
    },
    {
     "name": "stdout",
     "output_type": "stream",
     "text": [
      "Iteration: \t351 / 500\n",
      "Confirmed: \t20\n",
      "Tentative: \t4\n",
      "Rejected: \t106\n"
     ]
    },
    {
     "name": "stderr",
     "output_type": "stream",
     "text": [
      "/Users/shohei.mitani/.pyenv/versions/anaconda3-5.3.1/lib/python3.6/site-packages/boruta/boruta_py.py:418: RuntimeWarning: invalid value encountered in greater\n",
      "  hits = np.where(cur_imp[0] > imp_sha_max)[0]\n",
      "/Users/shohei.mitani/.pyenv/versions/anaconda3-5.3.1/lib/python3.6/site-packages/boruta/boruta_py.py:380: DataConversionWarning: A column-vector y was passed when a 1d array was expected. Please change the shape of y to (n_samples,), for example using ravel().\n",
      "  self.estimator.fit(X, y)\n"
     ]
    },
    {
     "name": "stdout",
     "output_type": "stream",
     "text": [
      "Iteration: \t352 / 500\n",
      "Confirmed: \t20\n",
      "Tentative: \t4\n",
      "Rejected: \t106\n"
     ]
    },
    {
     "name": "stderr",
     "output_type": "stream",
     "text": [
      "/Users/shohei.mitani/.pyenv/versions/anaconda3-5.3.1/lib/python3.6/site-packages/boruta/boruta_py.py:418: RuntimeWarning: invalid value encountered in greater\n",
      "  hits = np.where(cur_imp[0] > imp_sha_max)[0]\n",
      "/Users/shohei.mitani/.pyenv/versions/anaconda3-5.3.1/lib/python3.6/site-packages/boruta/boruta_py.py:380: DataConversionWarning: A column-vector y was passed when a 1d array was expected. Please change the shape of y to (n_samples,), for example using ravel().\n",
      "  self.estimator.fit(X, y)\n"
     ]
    },
    {
     "name": "stdout",
     "output_type": "stream",
     "text": [
      "Iteration: \t353 / 500\n",
      "Confirmed: \t20\n",
      "Tentative: \t4\n",
      "Rejected: \t106\n"
     ]
    },
    {
     "name": "stderr",
     "output_type": "stream",
     "text": [
      "/Users/shohei.mitani/.pyenv/versions/anaconda3-5.3.1/lib/python3.6/site-packages/boruta/boruta_py.py:418: RuntimeWarning: invalid value encountered in greater\n",
      "  hits = np.where(cur_imp[0] > imp_sha_max)[0]\n",
      "/Users/shohei.mitani/.pyenv/versions/anaconda3-5.3.1/lib/python3.6/site-packages/boruta/boruta_py.py:380: DataConversionWarning: A column-vector y was passed when a 1d array was expected. Please change the shape of y to (n_samples,), for example using ravel().\n",
      "  self.estimator.fit(X, y)\n"
     ]
    },
    {
     "name": "stdout",
     "output_type": "stream",
     "text": [
      "Iteration: \t354 / 500\n",
      "Confirmed: \t20\n",
      "Tentative: \t4\n",
      "Rejected: \t106\n"
     ]
    },
    {
     "name": "stderr",
     "output_type": "stream",
     "text": [
      "/Users/shohei.mitani/.pyenv/versions/anaconda3-5.3.1/lib/python3.6/site-packages/boruta/boruta_py.py:418: RuntimeWarning: invalid value encountered in greater\n",
      "  hits = np.where(cur_imp[0] > imp_sha_max)[0]\n",
      "/Users/shohei.mitani/.pyenv/versions/anaconda3-5.3.1/lib/python3.6/site-packages/boruta/boruta_py.py:380: DataConversionWarning: A column-vector y was passed when a 1d array was expected. Please change the shape of y to (n_samples,), for example using ravel().\n",
      "  self.estimator.fit(X, y)\n"
     ]
    },
    {
     "name": "stdout",
     "output_type": "stream",
     "text": [
      "Iteration: \t355 / 500\n",
      "Confirmed: \t20\n",
      "Tentative: \t4\n",
      "Rejected: \t106\n"
     ]
    },
    {
     "name": "stderr",
     "output_type": "stream",
     "text": [
      "/Users/shohei.mitani/.pyenv/versions/anaconda3-5.3.1/lib/python3.6/site-packages/boruta/boruta_py.py:418: RuntimeWarning: invalid value encountered in greater\n",
      "  hits = np.where(cur_imp[0] > imp_sha_max)[0]\n",
      "/Users/shohei.mitani/.pyenv/versions/anaconda3-5.3.1/lib/python3.6/site-packages/boruta/boruta_py.py:380: DataConversionWarning: A column-vector y was passed when a 1d array was expected. Please change the shape of y to (n_samples,), for example using ravel().\n",
      "  self.estimator.fit(X, y)\n"
     ]
    },
    {
     "name": "stdout",
     "output_type": "stream",
     "text": [
      "Iteration: \t356 / 500\n",
      "Confirmed: \t20\n",
      "Tentative: \t4\n",
      "Rejected: \t106\n"
     ]
    },
    {
     "name": "stderr",
     "output_type": "stream",
     "text": [
      "/Users/shohei.mitani/.pyenv/versions/anaconda3-5.3.1/lib/python3.6/site-packages/boruta/boruta_py.py:418: RuntimeWarning: invalid value encountered in greater\n",
      "  hits = np.where(cur_imp[0] > imp_sha_max)[0]\n",
      "/Users/shohei.mitani/.pyenv/versions/anaconda3-5.3.1/lib/python3.6/site-packages/boruta/boruta_py.py:380: DataConversionWarning: A column-vector y was passed when a 1d array was expected. Please change the shape of y to (n_samples,), for example using ravel().\n",
      "  self.estimator.fit(X, y)\n"
     ]
    },
    {
     "name": "stdout",
     "output_type": "stream",
     "text": [
      "Iteration: \t357 / 500\n",
      "Confirmed: \t20\n",
      "Tentative: \t4\n",
      "Rejected: \t106\n"
     ]
    },
    {
     "name": "stderr",
     "output_type": "stream",
     "text": [
      "/Users/shohei.mitani/.pyenv/versions/anaconda3-5.3.1/lib/python3.6/site-packages/boruta/boruta_py.py:418: RuntimeWarning: invalid value encountered in greater\n",
      "  hits = np.where(cur_imp[0] > imp_sha_max)[0]\n",
      "/Users/shohei.mitani/.pyenv/versions/anaconda3-5.3.1/lib/python3.6/site-packages/boruta/boruta_py.py:380: DataConversionWarning: A column-vector y was passed when a 1d array was expected. Please change the shape of y to (n_samples,), for example using ravel().\n",
      "  self.estimator.fit(X, y)\n"
     ]
    },
    {
     "name": "stdout",
     "output_type": "stream",
     "text": [
      "Iteration: \t358 / 500\n",
      "Confirmed: \t20\n",
      "Tentative: \t4\n",
      "Rejected: \t106\n"
     ]
    },
    {
     "name": "stderr",
     "output_type": "stream",
     "text": [
      "/Users/shohei.mitani/.pyenv/versions/anaconda3-5.3.1/lib/python3.6/site-packages/boruta/boruta_py.py:418: RuntimeWarning: invalid value encountered in greater\n",
      "  hits = np.where(cur_imp[0] > imp_sha_max)[0]\n",
      "/Users/shohei.mitani/.pyenv/versions/anaconda3-5.3.1/lib/python3.6/site-packages/boruta/boruta_py.py:380: DataConversionWarning: A column-vector y was passed when a 1d array was expected. Please change the shape of y to (n_samples,), for example using ravel().\n",
      "  self.estimator.fit(X, y)\n"
     ]
    },
    {
     "name": "stdout",
     "output_type": "stream",
     "text": [
      "Iteration: \t359 / 500\n",
      "Confirmed: \t20\n",
      "Tentative: \t4\n",
      "Rejected: \t106\n"
     ]
    },
    {
     "name": "stderr",
     "output_type": "stream",
     "text": [
      "/Users/shohei.mitani/.pyenv/versions/anaconda3-5.3.1/lib/python3.6/site-packages/boruta/boruta_py.py:418: RuntimeWarning: invalid value encountered in greater\n",
      "  hits = np.where(cur_imp[0] > imp_sha_max)[0]\n",
      "/Users/shohei.mitani/.pyenv/versions/anaconda3-5.3.1/lib/python3.6/site-packages/boruta/boruta_py.py:380: DataConversionWarning: A column-vector y was passed when a 1d array was expected. Please change the shape of y to (n_samples,), for example using ravel().\n",
      "  self.estimator.fit(X, y)\n"
     ]
    },
    {
     "name": "stdout",
     "output_type": "stream",
     "text": [
      "Iteration: \t360 / 500\n",
      "Confirmed: \t20\n",
      "Tentative: \t4\n",
      "Rejected: \t106\n"
     ]
    },
    {
     "name": "stderr",
     "output_type": "stream",
     "text": [
      "/Users/shohei.mitani/.pyenv/versions/anaconda3-5.3.1/lib/python3.6/site-packages/boruta/boruta_py.py:418: RuntimeWarning: invalid value encountered in greater\n",
      "  hits = np.where(cur_imp[0] > imp_sha_max)[0]\n",
      "/Users/shohei.mitani/.pyenv/versions/anaconda3-5.3.1/lib/python3.6/site-packages/boruta/boruta_py.py:380: DataConversionWarning: A column-vector y was passed when a 1d array was expected. Please change the shape of y to (n_samples,), for example using ravel().\n",
      "  self.estimator.fit(X, y)\n"
     ]
    },
    {
     "name": "stdout",
     "output_type": "stream",
     "text": [
      "Iteration: \t361 / 500\n",
      "Confirmed: \t20\n",
      "Tentative: \t4\n",
      "Rejected: \t106\n"
     ]
    },
    {
     "name": "stderr",
     "output_type": "stream",
     "text": [
      "/Users/shohei.mitani/.pyenv/versions/anaconda3-5.3.1/lib/python3.6/site-packages/boruta/boruta_py.py:418: RuntimeWarning: invalid value encountered in greater\n",
      "  hits = np.where(cur_imp[0] > imp_sha_max)[0]\n",
      "/Users/shohei.mitani/.pyenv/versions/anaconda3-5.3.1/lib/python3.6/site-packages/boruta/boruta_py.py:380: DataConversionWarning: A column-vector y was passed when a 1d array was expected. Please change the shape of y to (n_samples,), for example using ravel().\n",
      "  self.estimator.fit(X, y)\n"
     ]
    },
    {
     "name": "stdout",
     "output_type": "stream",
     "text": [
      "Iteration: \t362 / 500\n",
      "Confirmed: \t20\n",
      "Tentative: \t4\n",
      "Rejected: \t106\n"
     ]
    },
    {
     "name": "stderr",
     "output_type": "stream",
     "text": [
      "/Users/shohei.mitani/.pyenv/versions/anaconda3-5.3.1/lib/python3.6/site-packages/boruta/boruta_py.py:418: RuntimeWarning: invalid value encountered in greater\n",
      "  hits = np.where(cur_imp[0] > imp_sha_max)[0]\n",
      "/Users/shohei.mitani/.pyenv/versions/anaconda3-5.3.1/lib/python3.6/site-packages/boruta/boruta_py.py:380: DataConversionWarning: A column-vector y was passed when a 1d array was expected. Please change the shape of y to (n_samples,), for example using ravel().\n",
      "  self.estimator.fit(X, y)\n"
     ]
    },
    {
     "name": "stdout",
     "output_type": "stream",
     "text": [
      "Iteration: \t363 / 500\n",
      "Confirmed: \t20\n",
      "Tentative: \t4\n",
      "Rejected: \t106\n"
     ]
    },
    {
     "name": "stderr",
     "output_type": "stream",
     "text": [
      "/Users/shohei.mitani/.pyenv/versions/anaconda3-5.3.1/lib/python3.6/site-packages/boruta/boruta_py.py:418: RuntimeWarning: invalid value encountered in greater\n",
      "  hits = np.where(cur_imp[0] > imp_sha_max)[0]\n",
      "/Users/shohei.mitani/.pyenv/versions/anaconda3-5.3.1/lib/python3.6/site-packages/boruta/boruta_py.py:380: DataConversionWarning: A column-vector y was passed when a 1d array was expected. Please change the shape of y to (n_samples,), for example using ravel().\n",
      "  self.estimator.fit(X, y)\n"
     ]
    },
    {
     "name": "stdout",
     "output_type": "stream",
     "text": [
      "Iteration: \t364 / 500\n",
      "Confirmed: \t20\n",
      "Tentative: \t4\n",
      "Rejected: \t106\n"
     ]
    },
    {
     "name": "stderr",
     "output_type": "stream",
     "text": [
      "/Users/shohei.mitani/.pyenv/versions/anaconda3-5.3.1/lib/python3.6/site-packages/boruta/boruta_py.py:418: RuntimeWarning: invalid value encountered in greater\n",
      "  hits = np.where(cur_imp[0] > imp_sha_max)[0]\n",
      "/Users/shohei.mitani/.pyenv/versions/anaconda3-5.3.1/lib/python3.6/site-packages/boruta/boruta_py.py:380: DataConversionWarning: A column-vector y was passed when a 1d array was expected. Please change the shape of y to (n_samples,), for example using ravel().\n",
      "  self.estimator.fit(X, y)\n"
     ]
    },
    {
     "name": "stdout",
     "output_type": "stream",
     "text": [
      "Iteration: \t365 / 500\n",
      "Confirmed: \t20\n",
      "Tentative: \t4\n",
      "Rejected: \t106\n"
     ]
    },
    {
     "name": "stderr",
     "output_type": "stream",
     "text": [
      "/Users/shohei.mitani/.pyenv/versions/anaconda3-5.3.1/lib/python3.6/site-packages/boruta/boruta_py.py:418: RuntimeWarning: invalid value encountered in greater\n",
      "  hits = np.where(cur_imp[0] > imp_sha_max)[0]\n",
      "/Users/shohei.mitani/.pyenv/versions/anaconda3-5.3.1/lib/python3.6/site-packages/boruta/boruta_py.py:380: DataConversionWarning: A column-vector y was passed when a 1d array was expected. Please change the shape of y to (n_samples,), for example using ravel().\n",
      "  self.estimator.fit(X, y)\n"
     ]
    },
    {
     "name": "stdout",
     "output_type": "stream",
     "text": [
      "Iteration: \t366 / 500\n",
      "Confirmed: \t20\n",
      "Tentative: \t4\n",
      "Rejected: \t106\n"
     ]
    },
    {
     "name": "stderr",
     "output_type": "stream",
     "text": [
      "/Users/shohei.mitani/.pyenv/versions/anaconda3-5.3.1/lib/python3.6/site-packages/boruta/boruta_py.py:418: RuntimeWarning: invalid value encountered in greater\n",
      "  hits = np.where(cur_imp[0] > imp_sha_max)[0]\n",
      "/Users/shohei.mitani/.pyenv/versions/anaconda3-5.3.1/lib/python3.6/site-packages/boruta/boruta_py.py:380: DataConversionWarning: A column-vector y was passed when a 1d array was expected. Please change the shape of y to (n_samples,), for example using ravel().\n",
      "  self.estimator.fit(X, y)\n"
     ]
    },
    {
     "name": "stdout",
     "output_type": "stream",
     "text": [
      "Iteration: \t367 / 500\n",
      "Confirmed: \t20\n",
      "Tentative: \t4\n",
      "Rejected: \t106\n"
     ]
    },
    {
     "name": "stderr",
     "output_type": "stream",
     "text": [
      "/Users/shohei.mitani/.pyenv/versions/anaconda3-5.3.1/lib/python3.6/site-packages/boruta/boruta_py.py:418: RuntimeWarning: invalid value encountered in greater\n",
      "  hits = np.where(cur_imp[0] > imp_sha_max)[0]\n",
      "/Users/shohei.mitani/.pyenv/versions/anaconda3-5.3.1/lib/python3.6/site-packages/boruta/boruta_py.py:380: DataConversionWarning: A column-vector y was passed when a 1d array was expected. Please change the shape of y to (n_samples,), for example using ravel().\n",
      "  self.estimator.fit(X, y)\n"
     ]
    },
    {
     "name": "stdout",
     "output_type": "stream",
     "text": [
      "Iteration: \t368 / 500\n",
      "Confirmed: \t20\n",
      "Tentative: \t3\n",
      "Rejected: \t107\n"
     ]
    },
    {
     "name": "stderr",
     "output_type": "stream",
     "text": [
      "/Users/shohei.mitani/.pyenv/versions/anaconda3-5.3.1/lib/python3.6/site-packages/boruta/boruta_py.py:418: RuntimeWarning: invalid value encountered in greater\n",
      "  hits = np.where(cur_imp[0] > imp_sha_max)[0]\n",
      "/Users/shohei.mitani/.pyenv/versions/anaconda3-5.3.1/lib/python3.6/site-packages/boruta/boruta_py.py:380: DataConversionWarning: A column-vector y was passed when a 1d array was expected. Please change the shape of y to (n_samples,), for example using ravel().\n",
      "  self.estimator.fit(X, y)\n"
     ]
    },
    {
     "name": "stdout",
     "output_type": "stream",
     "text": [
      "Iteration: \t369 / 500\n",
      "Confirmed: \t20\n",
      "Tentative: \t3\n",
      "Rejected: \t107\n"
     ]
    },
    {
     "name": "stderr",
     "output_type": "stream",
     "text": [
      "/Users/shohei.mitani/.pyenv/versions/anaconda3-5.3.1/lib/python3.6/site-packages/boruta/boruta_py.py:418: RuntimeWarning: invalid value encountered in greater\n",
      "  hits = np.where(cur_imp[0] > imp_sha_max)[0]\n",
      "/Users/shohei.mitani/.pyenv/versions/anaconda3-5.3.1/lib/python3.6/site-packages/boruta/boruta_py.py:380: DataConversionWarning: A column-vector y was passed when a 1d array was expected. Please change the shape of y to (n_samples,), for example using ravel().\n",
      "  self.estimator.fit(X, y)\n"
     ]
    },
    {
     "name": "stdout",
     "output_type": "stream",
     "text": [
      "Iteration: \t370 / 500\n",
      "Confirmed: \t20\n",
      "Tentative: \t3\n",
      "Rejected: \t107\n"
     ]
    },
    {
     "name": "stderr",
     "output_type": "stream",
     "text": [
      "/Users/shohei.mitani/.pyenv/versions/anaconda3-5.3.1/lib/python3.6/site-packages/boruta/boruta_py.py:418: RuntimeWarning: invalid value encountered in greater\n",
      "  hits = np.where(cur_imp[0] > imp_sha_max)[0]\n",
      "/Users/shohei.mitani/.pyenv/versions/anaconda3-5.3.1/lib/python3.6/site-packages/boruta/boruta_py.py:380: DataConversionWarning: A column-vector y was passed when a 1d array was expected. Please change the shape of y to (n_samples,), for example using ravel().\n",
      "  self.estimator.fit(X, y)\n"
     ]
    },
    {
     "name": "stdout",
     "output_type": "stream",
     "text": [
      "Iteration: \t371 / 500\n",
      "Confirmed: \t20\n",
      "Tentative: \t3\n",
      "Rejected: \t107\n"
     ]
    },
    {
     "name": "stderr",
     "output_type": "stream",
     "text": [
      "/Users/shohei.mitani/.pyenv/versions/anaconda3-5.3.1/lib/python3.6/site-packages/boruta/boruta_py.py:418: RuntimeWarning: invalid value encountered in greater\n",
      "  hits = np.where(cur_imp[0] > imp_sha_max)[0]\n",
      "/Users/shohei.mitani/.pyenv/versions/anaconda3-5.3.1/lib/python3.6/site-packages/boruta/boruta_py.py:380: DataConversionWarning: A column-vector y was passed when a 1d array was expected. Please change the shape of y to (n_samples,), for example using ravel().\n",
      "  self.estimator.fit(X, y)\n"
     ]
    },
    {
     "name": "stdout",
     "output_type": "stream",
     "text": [
      "Iteration: \t372 / 500\n",
      "Confirmed: \t20\n",
      "Tentative: \t3\n",
      "Rejected: \t107\n"
     ]
    },
    {
     "name": "stderr",
     "output_type": "stream",
     "text": [
      "/Users/shohei.mitani/.pyenv/versions/anaconda3-5.3.1/lib/python3.6/site-packages/boruta/boruta_py.py:418: RuntimeWarning: invalid value encountered in greater\n",
      "  hits = np.where(cur_imp[0] > imp_sha_max)[0]\n",
      "/Users/shohei.mitani/.pyenv/versions/anaconda3-5.3.1/lib/python3.6/site-packages/boruta/boruta_py.py:380: DataConversionWarning: A column-vector y was passed when a 1d array was expected. Please change the shape of y to (n_samples,), for example using ravel().\n",
      "  self.estimator.fit(X, y)\n"
     ]
    },
    {
     "name": "stdout",
     "output_type": "stream",
     "text": [
      "Iteration: \t373 / 500\n",
      "Confirmed: \t20\n",
      "Tentative: \t3\n",
      "Rejected: \t107\n"
     ]
    },
    {
     "name": "stderr",
     "output_type": "stream",
     "text": [
      "/Users/shohei.mitani/.pyenv/versions/anaconda3-5.3.1/lib/python3.6/site-packages/boruta/boruta_py.py:418: RuntimeWarning: invalid value encountered in greater\n",
      "  hits = np.where(cur_imp[0] > imp_sha_max)[0]\n",
      "/Users/shohei.mitani/.pyenv/versions/anaconda3-5.3.1/lib/python3.6/site-packages/boruta/boruta_py.py:380: DataConversionWarning: A column-vector y was passed when a 1d array was expected. Please change the shape of y to (n_samples,), for example using ravel().\n",
      "  self.estimator.fit(X, y)\n"
     ]
    },
    {
     "name": "stdout",
     "output_type": "stream",
     "text": [
      "Iteration: \t374 / 500\n",
      "Confirmed: \t20\n",
      "Tentative: \t3\n",
      "Rejected: \t107\n"
     ]
    },
    {
     "name": "stderr",
     "output_type": "stream",
     "text": [
      "/Users/shohei.mitani/.pyenv/versions/anaconda3-5.3.1/lib/python3.6/site-packages/boruta/boruta_py.py:418: RuntimeWarning: invalid value encountered in greater\n",
      "  hits = np.where(cur_imp[0] > imp_sha_max)[0]\n",
      "/Users/shohei.mitani/.pyenv/versions/anaconda3-5.3.1/lib/python3.6/site-packages/boruta/boruta_py.py:380: DataConversionWarning: A column-vector y was passed when a 1d array was expected. Please change the shape of y to (n_samples,), for example using ravel().\n",
      "  self.estimator.fit(X, y)\n"
     ]
    },
    {
     "name": "stdout",
     "output_type": "stream",
     "text": [
      "Iteration: \t375 / 500\n",
      "Confirmed: \t20\n",
      "Tentative: \t3\n",
      "Rejected: \t107\n"
     ]
    },
    {
     "name": "stderr",
     "output_type": "stream",
     "text": [
      "/Users/shohei.mitani/.pyenv/versions/anaconda3-5.3.1/lib/python3.6/site-packages/boruta/boruta_py.py:418: RuntimeWarning: invalid value encountered in greater\n",
      "  hits = np.where(cur_imp[0] > imp_sha_max)[0]\n",
      "/Users/shohei.mitani/.pyenv/versions/anaconda3-5.3.1/lib/python3.6/site-packages/boruta/boruta_py.py:380: DataConversionWarning: A column-vector y was passed when a 1d array was expected. Please change the shape of y to (n_samples,), for example using ravel().\n",
      "  self.estimator.fit(X, y)\n"
     ]
    },
    {
     "name": "stdout",
     "output_type": "stream",
     "text": [
      "Iteration: \t376 / 500\n",
      "Confirmed: \t20\n",
      "Tentative: \t3\n",
      "Rejected: \t107\n"
     ]
    },
    {
     "name": "stderr",
     "output_type": "stream",
     "text": [
      "/Users/shohei.mitani/.pyenv/versions/anaconda3-5.3.1/lib/python3.6/site-packages/boruta/boruta_py.py:418: RuntimeWarning: invalid value encountered in greater\n",
      "  hits = np.where(cur_imp[0] > imp_sha_max)[0]\n",
      "/Users/shohei.mitani/.pyenv/versions/anaconda3-5.3.1/lib/python3.6/site-packages/boruta/boruta_py.py:380: DataConversionWarning: A column-vector y was passed when a 1d array was expected. Please change the shape of y to (n_samples,), for example using ravel().\n",
      "  self.estimator.fit(X, y)\n"
     ]
    },
    {
     "name": "stdout",
     "output_type": "stream",
     "text": [
      "Iteration: \t377 / 500\n",
      "Confirmed: \t20\n",
      "Tentative: \t3\n",
      "Rejected: \t107\n"
     ]
    },
    {
     "name": "stderr",
     "output_type": "stream",
     "text": [
      "/Users/shohei.mitani/.pyenv/versions/anaconda3-5.3.1/lib/python3.6/site-packages/boruta/boruta_py.py:418: RuntimeWarning: invalid value encountered in greater\n",
      "  hits = np.where(cur_imp[0] > imp_sha_max)[0]\n",
      "/Users/shohei.mitani/.pyenv/versions/anaconda3-5.3.1/lib/python3.6/site-packages/boruta/boruta_py.py:380: DataConversionWarning: A column-vector y was passed when a 1d array was expected. Please change the shape of y to (n_samples,), for example using ravel().\n",
      "  self.estimator.fit(X, y)\n"
     ]
    },
    {
     "name": "stdout",
     "output_type": "stream",
     "text": [
      "Iteration: \t378 / 500\n",
      "Confirmed: \t20\n",
      "Tentative: \t3\n",
      "Rejected: \t107\n"
     ]
    },
    {
     "name": "stderr",
     "output_type": "stream",
     "text": [
      "/Users/shohei.mitani/.pyenv/versions/anaconda3-5.3.1/lib/python3.6/site-packages/boruta/boruta_py.py:418: RuntimeWarning: invalid value encountered in greater\n",
      "  hits = np.where(cur_imp[0] > imp_sha_max)[0]\n",
      "/Users/shohei.mitani/.pyenv/versions/anaconda3-5.3.1/lib/python3.6/site-packages/boruta/boruta_py.py:380: DataConversionWarning: A column-vector y was passed when a 1d array was expected. Please change the shape of y to (n_samples,), for example using ravel().\n",
      "  self.estimator.fit(X, y)\n"
     ]
    },
    {
     "name": "stdout",
     "output_type": "stream",
     "text": [
      "Iteration: \t379 / 500\n",
      "Confirmed: \t20\n",
      "Tentative: \t3\n",
      "Rejected: \t107\n"
     ]
    },
    {
     "name": "stderr",
     "output_type": "stream",
     "text": [
      "/Users/shohei.mitani/.pyenv/versions/anaconda3-5.3.1/lib/python3.6/site-packages/boruta/boruta_py.py:418: RuntimeWarning: invalid value encountered in greater\n",
      "  hits = np.where(cur_imp[0] > imp_sha_max)[0]\n",
      "/Users/shohei.mitani/.pyenv/versions/anaconda3-5.3.1/lib/python3.6/site-packages/boruta/boruta_py.py:380: DataConversionWarning: A column-vector y was passed when a 1d array was expected. Please change the shape of y to (n_samples,), for example using ravel().\n",
      "  self.estimator.fit(X, y)\n"
     ]
    },
    {
     "name": "stdout",
     "output_type": "stream",
     "text": [
      "Iteration: \t380 / 500\n",
      "Confirmed: \t20\n",
      "Tentative: \t3\n",
      "Rejected: \t107\n"
     ]
    },
    {
     "name": "stderr",
     "output_type": "stream",
     "text": [
      "/Users/shohei.mitani/.pyenv/versions/anaconda3-5.3.1/lib/python3.6/site-packages/boruta/boruta_py.py:418: RuntimeWarning: invalid value encountered in greater\n",
      "  hits = np.where(cur_imp[0] > imp_sha_max)[0]\n",
      "/Users/shohei.mitani/.pyenv/versions/anaconda3-5.3.1/lib/python3.6/site-packages/boruta/boruta_py.py:380: DataConversionWarning: A column-vector y was passed when a 1d array was expected. Please change the shape of y to (n_samples,), for example using ravel().\n",
      "  self.estimator.fit(X, y)\n"
     ]
    },
    {
     "name": "stdout",
     "output_type": "stream",
     "text": [
      "Iteration: \t381 / 500\n",
      "Confirmed: \t20\n",
      "Tentative: \t3\n",
      "Rejected: \t107\n"
     ]
    },
    {
     "name": "stderr",
     "output_type": "stream",
     "text": [
      "/Users/shohei.mitani/.pyenv/versions/anaconda3-5.3.1/lib/python3.6/site-packages/boruta/boruta_py.py:418: RuntimeWarning: invalid value encountered in greater\n",
      "  hits = np.where(cur_imp[0] > imp_sha_max)[0]\n",
      "/Users/shohei.mitani/.pyenv/versions/anaconda3-5.3.1/lib/python3.6/site-packages/boruta/boruta_py.py:380: DataConversionWarning: A column-vector y was passed when a 1d array was expected. Please change the shape of y to (n_samples,), for example using ravel().\n",
      "  self.estimator.fit(X, y)\n"
     ]
    },
    {
     "name": "stdout",
     "output_type": "stream",
     "text": [
      "Iteration: \t382 / 500\n",
      "Confirmed: \t20\n",
      "Tentative: \t3\n",
      "Rejected: \t107\n"
     ]
    },
    {
     "name": "stderr",
     "output_type": "stream",
     "text": [
      "/Users/shohei.mitani/.pyenv/versions/anaconda3-5.3.1/lib/python3.6/site-packages/boruta/boruta_py.py:418: RuntimeWarning: invalid value encountered in greater\n",
      "  hits = np.where(cur_imp[0] > imp_sha_max)[0]\n",
      "/Users/shohei.mitani/.pyenv/versions/anaconda3-5.3.1/lib/python3.6/site-packages/boruta/boruta_py.py:380: DataConversionWarning: A column-vector y was passed when a 1d array was expected. Please change the shape of y to (n_samples,), for example using ravel().\n",
      "  self.estimator.fit(X, y)\n"
     ]
    },
    {
     "name": "stdout",
     "output_type": "stream",
     "text": [
      "Iteration: \t383 / 500\n",
      "Confirmed: \t20\n",
      "Tentative: \t3\n",
      "Rejected: \t107\n"
     ]
    },
    {
     "name": "stderr",
     "output_type": "stream",
     "text": [
      "/Users/shohei.mitani/.pyenv/versions/anaconda3-5.3.1/lib/python3.6/site-packages/boruta/boruta_py.py:418: RuntimeWarning: invalid value encountered in greater\n",
      "  hits = np.where(cur_imp[0] > imp_sha_max)[0]\n",
      "/Users/shohei.mitani/.pyenv/versions/anaconda3-5.3.1/lib/python3.6/site-packages/boruta/boruta_py.py:380: DataConversionWarning: A column-vector y was passed when a 1d array was expected. Please change the shape of y to (n_samples,), for example using ravel().\n",
      "  self.estimator.fit(X, y)\n"
     ]
    },
    {
     "name": "stdout",
     "output_type": "stream",
     "text": [
      "Iteration: \t384 / 500\n",
      "Confirmed: \t20\n",
      "Tentative: \t3\n",
      "Rejected: \t107\n"
     ]
    },
    {
     "name": "stderr",
     "output_type": "stream",
     "text": [
      "/Users/shohei.mitani/.pyenv/versions/anaconda3-5.3.1/lib/python3.6/site-packages/boruta/boruta_py.py:418: RuntimeWarning: invalid value encountered in greater\n",
      "  hits = np.where(cur_imp[0] > imp_sha_max)[0]\n",
      "/Users/shohei.mitani/.pyenv/versions/anaconda3-5.3.1/lib/python3.6/site-packages/boruta/boruta_py.py:380: DataConversionWarning: A column-vector y was passed when a 1d array was expected. Please change the shape of y to (n_samples,), for example using ravel().\n",
      "  self.estimator.fit(X, y)\n"
     ]
    },
    {
     "name": "stdout",
     "output_type": "stream",
     "text": [
      "Iteration: \t385 / 500\n",
      "Confirmed: \t20\n",
      "Tentative: \t3\n",
      "Rejected: \t107\n"
     ]
    },
    {
     "name": "stderr",
     "output_type": "stream",
     "text": [
      "/Users/shohei.mitani/.pyenv/versions/anaconda3-5.3.1/lib/python3.6/site-packages/boruta/boruta_py.py:418: RuntimeWarning: invalid value encountered in greater\n",
      "  hits = np.where(cur_imp[0] > imp_sha_max)[0]\n",
      "/Users/shohei.mitani/.pyenv/versions/anaconda3-5.3.1/lib/python3.6/site-packages/boruta/boruta_py.py:380: DataConversionWarning: A column-vector y was passed when a 1d array was expected. Please change the shape of y to (n_samples,), for example using ravel().\n",
      "  self.estimator.fit(X, y)\n"
     ]
    },
    {
     "name": "stdout",
     "output_type": "stream",
     "text": [
      "Iteration: \t386 / 500\n",
      "Confirmed: \t20\n",
      "Tentative: \t3\n",
      "Rejected: \t107\n"
     ]
    },
    {
     "name": "stderr",
     "output_type": "stream",
     "text": [
      "/Users/shohei.mitani/.pyenv/versions/anaconda3-5.3.1/lib/python3.6/site-packages/boruta/boruta_py.py:418: RuntimeWarning: invalid value encountered in greater\n",
      "  hits = np.where(cur_imp[0] > imp_sha_max)[0]\n",
      "/Users/shohei.mitani/.pyenv/versions/anaconda3-5.3.1/lib/python3.6/site-packages/boruta/boruta_py.py:380: DataConversionWarning: A column-vector y was passed when a 1d array was expected. Please change the shape of y to (n_samples,), for example using ravel().\n",
      "  self.estimator.fit(X, y)\n"
     ]
    },
    {
     "name": "stdout",
     "output_type": "stream",
     "text": [
      "Iteration: \t387 / 500\n",
      "Confirmed: \t20\n",
      "Tentative: \t3\n",
      "Rejected: \t107\n"
     ]
    },
    {
     "name": "stderr",
     "output_type": "stream",
     "text": [
      "/Users/shohei.mitani/.pyenv/versions/anaconda3-5.3.1/lib/python3.6/site-packages/boruta/boruta_py.py:418: RuntimeWarning: invalid value encountered in greater\n",
      "  hits = np.where(cur_imp[0] > imp_sha_max)[0]\n",
      "/Users/shohei.mitani/.pyenv/versions/anaconda3-5.3.1/lib/python3.6/site-packages/boruta/boruta_py.py:380: DataConversionWarning: A column-vector y was passed when a 1d array was expected. Please change the shape of y to (n_samples,), for example using ravel().\n",
      "  self.estimator.fit(X, y)\n"
     ]
    },
    {
     "name": "stdout",
     "output_type": "stream",
     "text": [
      "Iteration: \t388 / 500\n",
      "Confirmed: \t20\n",
      "Tentative: \t3\n",
      "Rejected: \t107\n"
     ]
    },
    {
     "name": "stderr",
     "output_type": "stream",
     "text": [
      "/Users/shohei.mitani/.pyenv/versions/anaconda3-5.3.1/lib/python3.6/site-packages/boruta/boruta_py.py:418: RuntimeWarning: invalid value encountered in greater\n",
      "  hits = np.where(cur_imp[0] > imp_sha_max)[0]\n",
      "/Users/shohei.mitani/.pyenv/versions/anaconda3-5.3.1/lib/python3.6/site-packages/boruta/boruta_py.py:380: DataConversionWarning: A column-vector y was passed when a 1d array was expected. Please change the shape of y to (n_samples,), for example using ravel().\n",
      "  self.estimator.fit(X, y)\n"
     ]
    },
    {
     "name": "stdout",
     "output_type": "stream",
     "text": [
      "Iteration: \t389 / 500\n",
      "Confirmed: \t20\n",
      "Tentative: \t3\n",
      "Rejected: \t107\n"
     ]
    },
    {
     "name": "stderr",
     "output_type": "stream",
     "text": [
      "/Users/shohei.mitani/.pyenv/versions/anaconda3-5.3.1/lib/python3.6/site-packages/boruta/boruta_py.py:418: RuntimeWarning: invalid value encountered in greater\n",
      "  hits = np.where(cur_imp[0] > imp_sha_max)[0]\n",
      "/Users/shohei.mitani/.pyenv/versions/anaconda3-5.3.1/lib/python3.6/site-packages/boruta/boruta_py.py:380: DataConversionWarning: A column-vector y was passed when a 1d array was expected. Please change the shape of y to (n_samples,), for example using ravel().\n",
      "  self.estimator.fit(X, y)\n"
     ]
    },
    {
     "name": "stdout",
     "output_type": "stream",
     "text": [
      "Iteration: \t390 / 500\n",
      "Confirmed: \t20\n",
      "Tentative: \t3\n",
      "Rejected: \t107\n"
     ]
    },
    {
     "name": "stderr",
     "output_type": "stream",
     "text": [
      "/Users/shohei.mitani/.pyenv/versions/anaconda3-5.3.1/lib/python3.6/site-packages/boruta/boruta_py.py:418: RuntimeWarning: invalid value encountered in greater\n",
      "  hits = np.where(cur_imp[0] > imp_sha_max)[0]\n",
      "/Users/shohei.mitani/.pyenv/versions/anaconda3-5.3.1/lib/python3.6/site-packages/boruta/boruta_py.py:380: DataConversionWarning: A column-vector y was passed when a 1d array was expected. Please change the shape of y to (n_samples,), for example using ravel().\n",
      "  self.estimator.fit(X, y)\n"
     ]
    },
    {
     "name": "stdout",
     "output_type": "stream",
     "text": [
      "Iteration: \t391 / 500\n",
      "Confirmed: \t20\n",
      "Tentative: \t3\n",
      "Rejected: \t107\n"
     ]
    },
    {
     "name": "stderr",
     "output_type": "stream",
     "text": [
      "/Users/shohei.mitani/.pyenv/versions/anaconda3-5.3.1/lib/python3.6/site-packages/boruta/boruta_py.py:418: RuntimeWarning: invalid value encountered in greater\n",
      "  hits = np.where(cur_imp[0] > imp_sha_max)[0]\n",
      "/Users/shohei.mitani/.pyenv/versions/anaconda3-5.3.1/lib/python3.6/site-packages/boruta/boruta_py.py:380: DataConversionWarning: A column-vector y was passed when a 1d array was expected. Please change the shape of y to (n_samples,), for example using ravel().\n",
      "  self.estimator.fit(X, y)\n"
     ]
    },
    {
     "name": "stdout",
     "output_type": "stream",
     "text": [
      "Iteration: \t392 / 500\n",
      "Confirmed: \t20\n",
      "Tentative: \t3\n",
      "Rejected: \t107\n"
     ]
    },
    {
     "name": "stderr",
     "output_type": "stream",
     "text": [
      "/Users/shohei.mitani/.pyenv/versions/anaconda3-5.3.1/lib/python3.6/site-packages/boruta/boruta_py.py:418: RuntimeWarning: invalid value encountered in greater\n",
      "  hits = np.where(cur_imp[0] > imp_sha_max)[0]\n",
      "/Users/shohei.mitani/.pyenv/versions/anaconda3-5.3.1/lib/python3.6/site-packages/boruta/boruta_py.py:380: DataConversionWarning: A column-vector y was passed when a 1d array was expected. Please change the shape of y to (n_samples,), for example using ravel().\n",
      "  self.estimator.fit(X, y)\n"
     ]
    },
    {
     "name": "stdout",
     "output_type": "stream",
     "text": [
      "Iteration: \t393 / 500\n",
      "Confirmed: \t20\n",
      "Tentative: \t3\n",
      "Rejected: \t107\n"
     ]
    },
    {
     "name": "stderr",
     "output_type": "stream",
     "text": [
      "/Users/shohei.mitani/.pyenv/versions/anaconda3-5.3.1/lib/python3.6/site-packages/boruta/boruta_py.py:418: RuntimeWarning: invalid value encountered in greater\n",
      "  hits = np.where(cur_imp[0] > imp_sha_max)[0]\n",
      "/Users/shohei.mitani/.pyenv/versions/anaconda3-5.3.1/lib/python3.6/site-packages/boruta/boruta_py.py:380: DataConversionWarning: A column-vector y was passed when a 1d array was expected. Please change the shape of y to (n_samples,), for example using ravel().\n",
      "  self.estimator.fit(X, y)\n"
     ]
    },
    {
     "name": "stdout",
     "output_type": "stream",
     "text": [
      "Iteration: \t394 / 500\n",
      "Confirmed: \t20\n",
      "Tentative: \t3\n",
      "Rejected: \t107\n"
     ]
    },
    {
     "name": "stderr",
     "output_type": "stream",
     "text": [
      "/Users/shohei.mitani/.pyenv/versions/anaconda3-5.3.1/lib/python3.6/site-packages/boruta/boruta_py.py:418: RuntimeWarning: invalid value encountered in greater\n",
      "  hits = np.where(cur_imp[0] > imp_sha_max)[0]\n",
      "/Users/shohei.mitani/.pyenv/versions/anaconda3-5.3.1/lib/python3.6/site-packages/boruta/boruta_py.py:380: DataConversionWarning: A column-vector y was passed when a 1d array was expected. Please change the shape of y to (n_samples,), for example using ravel().\n",
      "  self.estimator.fit(X, y)\n"
     ]
    },
    {
     "name": "stdout",
     "output_type": "stream",
     "text": [
      "Iteration: \t395 / 500\n",
      "Confirmed: \t20\n",
      "Tentative: \t3\n",
      "Rejected: \t107\n"
     ]
    },
    {
     "name": "stderr",
     "output_type": "stream",
     "text": [
      "/Users/shohei.mitani/.pyenv/versions/anaconda3-5.3.1/lib/python3.6/site-packages/boruta/boruta_py.py:418: RuntimeWarning: invalid value encountered in greater\n",
      "  hits = np.where(cur_imp[0] > imp_sha_max)[0]\n",
      "/Users/shohei.mitani/.pyenv/versions/anaconda3-5.3.1/lib/python3.6/site-packages/boruta/boruta_py.py:380: DataConversionWarning: A column-vector y was passed when a 1d array was expected. Please change the shape of y to (n_samples,), for example using ravel().\n",
      "  self.estimator.fit(X, y)\n"
     ]
    },
    {
     "name": "stdout",
     "output_type": "stream",
     "text": [
      "Iteration: \t396 / 500\n",
      "Confirmed: \t20\n",
      "Tentative: \t3\n",
      "Rejected: \t107\n"
     ]
    },
    {
     "name": "stderr",
     "output_type": "stream",
     "text": [
      "/Users/shohei.mitani/.pyenv/versions/anaconda3-5.3.1/lib/python3.6/site-packages/boruta/boruta_py.py:418: RuntimeWarning: invalid value encountered in greater\n",
      "  hits = np.where(cur_imp[0] > imp_sha_max)[0]\n",
      "/Users/shohei.mitani/.pyenv/versions/anaconda3-5.3.1/lib/python3.6/site-packages/boruta/boruta_py.py:380: DataConversionWarning: A column-vector y was passed when a 1d array was expected. Please change the shape of y to (n_samples,), for example using ravel().\n",
      "  self.estimator.fit(X, y)\n"
     ]
    },
    {
     "name": "stdout",
     "output_type": "stream",
     "text": [
      "Iteration: \t397 / 500\n",
      "Confirmed: \t20\n",
      "Tentative: \t3\n",
      "Rejected: \t107\n"
     ]
    },
    {
     "name": "stderr",
     "output_type": "stream",
     "text": [
      "/Users/shohei.mitani/.pyenv/versions/anaconda3-5.3.1/lib/python3.6/site-packages/boruta/boruta_py.py:418: RuntimeWarning: invalid value encountered in greater\n",
      "  hits = np.where(cur_imp[0] > imp_sha_max)[0]\n",
      "/Users/shohei.mitani/.pyenv/versions/anaconda3-5.3.1/lib/python3.6/site-packages/boruta/boruta_py.py:380: DataConversionWarning: A column-vector y was passed when a 1d array was expected. Please change the shape of y to (n_samples,), for example using ravel().\n",
      "  self.estimator.fit(X, y)\n"
     ]
    },
    {
     "name": "stdout",
     "output_type": "stream",
     "text": [
      "Iteration: \t398 / 500\n",
      "Confirmed: \t20\n",
      "Tentative: \t3\n",
      "Rejected: \t107\n"
     ]
    },
    {
     "name": "stderr",
     "output_type": "stream",
     "text": [
      "/Users/shohei.mitani/.pyenv/versions/anaconda3-5.3.1/lib/python3.6/site-packages/boruta/boruta_py.py:418: RuntimeWarning: invalid value encountered in greater\n",
      "  hits = np.where(cur_imp[0] > imp_sha_max)[0]\n",
      "/Users/shohei.mitani/.pyenv/versions/anaconda3-5.3.1/lib/python3.6/site-packages/boruta/boruta_py.py:380: DataConversionWarning: A column-vector y was passed when a 1d array was expected. Please change the shape of y to (n_samples,), for example using ravel().\n",
      "  self.estimator.fit(X, y)\n"
     ]
    },
    {
     "name": "stdout",
     "output_type": "stream",
     "text": [
      "Iteration: \t399 / 500\n",
      "Confirmed: \t20\n",
      "Tentative: \t3\n",
      "Rejected: \t107\n"
     ]
    },
    {
     "name": "stderr",
     "output_type": "stream",
     "text": [
      "/Users/shohei.mitani/.pyenv/versions/anaconda3-5.3.1/lib/python3.6/site-packages/boruta/boruta_py.py:418: RuntimeWarning: invalid value encountered in greater\n",
      "  hits = np.where(cur_imp[0] > imp_sha_max)[0]\n",
      "/Users/shohei.mitani/.pyenv/versions/anaconda3-5.3.1/lib/python3.6/site-packages/boruta/boruta_py.py:380: DataConversionWarning: A column-vector y was passed when a 1d array was expected. Please change the shape of y to (n_samples,), for example using ravel().\n",
      "  self.estimator.fit(X, y)\n"
     ]
    },
    {
     "name": "stdout",
     "output_type": "stream",
     "text": [
      "Iteration: \t400 / 500\n",
      "Confirmed: \t20\n",
      "Tentative: \t3\n",
      "Rejected: \t107\n"
     ]
    },
    {
     "name": "stderr",
     "output_type": "stream",
     "text": [
      "/Users/shohei.mitani/.pyenv/versions/anaconda3-5.3.1/lib/python3.6/site-packages/boruta/boruta_py.py:418: RuntimeWarning: invalid value encountered in greater\n",
      "  hits = np.where(cur_imp[0] > imp_sha_max)[0]\n",
      "/Users/shohei.mitani/.pyenv/versions/anaconda3-5.3.1/lib/python3.6/site-packages/boruta/boruta_py.py:380: DataConversionWarning: A column-vector y was passed when a 1d array was expected. Please change the shape of y to (n_samples,), for example using ravel().\n",
      "  self.estimator.fit(X, y)\n"
     ]
    },
    {
     "name": "stdout",
     "output_type": "stream",
     "text": [
      "Iteration: \t401 / 500\n",
      "Confirmed: \t20\n",
      "Tentative: \t3\n",
      "Rejected: \t107\n"
     ]
    },
    {
     "name": "stderr",
     "output_type": "stream",
     "text": [
      "/Users/shohei.mitani/.pyenv/versions/anaconda3-5.3.1/lib/python3.6/site-packages/boruta/boruta_py.py:418: RuntimeWarning: invalid value encountered in greater\n",
      "  hits = np.where(cur_imp[0] > imp_sha_max)[0]\n",
      "/Users/shohei.mitani/.pyenv/versions/anaconda3-5.3.1/lib/python3.6/site-packages/boruta/boruta_py.py:380: DataConversionWarning: A column-vector y was passed when a 1d array was expected. Please change the shape of y to (n_samples,), for example using ravel().\n",
      "  self.estimator.fit(X, y)\n"
     ]
    },
    {
     "name": "stdout",
     "output_type": "stream",
     "text": [
      "Iteration: \t402 / 500\n",
      "Confirmed: \t20\n",
      "Tentative: \t3\n",
      "Rejected: \t107\n"
     ]
    },
    {
     "name": "stderr",
     "output_type": "stream",
     "text": [
      "/Users/shohei.mitani/.pyenv/versions/anaconda3-5.3.1/lib/python3.6/site-packages/boruta/boruta_py.py:418: RuntimeWarning: invalid value encountered in greater\n",
      "  hits = np.where(cur_imp[0] > imp_sha_max)[0]\n",
      "/Users/shohei.mitani/.pyenv/versions/anaconda3-5.3.1/lib/python3.6/site-packages/boruta/boruta_py.py:380: DataConversionWarning: A column-vector y was passed when a 1d array was expected. Please change the shape of y to (n_samples,), for example using ravel().\n",
      "  self.estimator.fit(X, y)\n"
     ]
    },
    {
     "name": "stdout",
     "output_type": "stream",
     "text": [
      "Iteration: \t403 / 500\n",
      "Confirmed: \t20\n",
      "Tentative: \t3\n",
      "Rejected: \t107\n"
     ]
    },
    {
     "name": "stderr",
     "output_type": "stream",
     "text": [
      "/Users/shohei.mitani/.pyenv/versions/anaconda3-5.3.1/lib/python3.6/site-packages/boruta/boruta_py.py:418: RuntimeWarning: invalid value encountered in greater\n",
      "  hits = np.where(cur_imp[0] > imp_sha_max)[0]\n",
      "/Users/shohei.mitani/.pyenv/versions/anaconda3-5.3.1/lib/python3.6/site-packages/boruta/boruta_py.py:380: DataConversionWarning: A column-vector y was passed when a 1d array was expected. Please change the shape of y to (n_samples,), for example using ravel().\n",
      "  self.estimator.fit(X, y)\n"
     ]
    },
    {
     "name": "stdout",
     "output_type": "stream",
     "text": [
      "Iteration: \t404 / 500\n",
      "Confirmed: \t20\n",
      "Tentative: \t3\n",
      "Rejected: \t107\n"
     ]
    },
    {
     "name": "stderr",
     "output_type": "stream",
     "text": [
      "/Users/shohei.mitani/.pyenv/versions/anaconda3-5.3.1/lib/python3.6/site-packages/boruta/boruta_py.py:418: RuntimeWarning: invalid value encountered in greater\n",
      "  hits = np.where(cur_imp[0] > imp_sha_max)[0]\n",
      "/Users/shohei.mitani/.pyenv/versions/anaconda3-5.3.1/lib/python3.6/site-packages/boruta/boruta_py.py:380: DataConversionWarning: A column-vector y was passed when a 1d array was expected. Please change the shape of y to (n_samples,), for example using ravel().\n",
      "  self.estimator.fit(X, y)\n"
     ]
    },
    {
     "name": "stdout",
     "output_type": "stream",
     "text": [
      "Iteration: \t405 / 500\n",
      "Confirmed: \t21\n",
      "Tentative: \t2\n",
      "Rejected: \t107\n"
     ]
    },
    {
     "name": "stderr",
     "output_type": "stream",
     "text": [
      "/Users/shohei.mitani/.pyenv/versions/anaconda3-5.3.1/lib/python3.6/site-packages/boruta/boruta_py.py:418: RuntimeWarning: invalid value encountered in greater\n",
      "  hits = np.where(cur_imp[0] > imp_sha_max)[0]\n",
      "/Users/shohei.mitani/.pyenv/versions/anaconda3-5.3.1/lib/python3.6/site-packages/boruta/boruta_py.py:380: DataConversionWarning: A column-vector y was passed when a 1d array was expected. Please change the shape of y to (n_samples,), for example using ravel().\n",
      "  self.estimator.fit(X, y)\n"
     ]
    },
    {
     "name": "stdout",
     "output_type": "stream",
     "text": [
      "Iteration: \t406 / 500\n",
      "Confirmed: \t21\n",
      "Tentative: \t2\n",
      "Rejected: \t107\n"
     ]
    },
    {
     "name": "stderr",
     "output_type": "stream",
     "text": [
      "/Users/shohei.mitani/.pyenv/versions/anaconda3-5.3.1/lib/python3.6/site-packages/boruta/boruta_py.py:418: RuntimeWarning: invalid value encountered in greater\n",
      "  hits = np.where(cur_imp[0] > imp_sha_max)[0]\n",
      "/Users/shohei.mitani/.pyenv/versions/anaconda3-5.3.1/lib/python3.6/site-packages/boruta/boruta_py.py:380: DataConversionWarning: A column-vector y was passed when a 1d array was expected. Please change the shape of y to (n_samples,), for example using ravel().\n",
      "  self.estimator.fit(X, y)\n"
     ]
    },
    {
     "name": "stdout",
     "output_type": "stream",
     "text": [
      "Iteration: \t407 / 500\n",
      "Confirmed: \t21\n",
      "Tentative: \t2\n",
      "Rejected: \t107\n"
     ]
    },
    {
     "name": "stderr",
     "output_type": "stream",
     "text": [
      "/Users/shohei.mitani/.pyenv/versions/anaconda3-5.3.1/lib/python3.6/site-packages/boruta/boruta_py.py:418: RuntimeWarning: invalid value encountered in greater\n",
      "  hits = np.where(cur_imp[0] > imp_sha_max)[0]\n",
      "/Users/shohei.mitani/.pyenv/versions/anaconda3-5.3.1/lib/python3.6/site-packages/boruta/boruta_py.py:380: DataConversionWarning: A column-vector y was passed when a 1d array was expected. Please change the shape of y to (n_samples,), for example using ravel().\n",
      "  self.estimator.fit(X, y)\n"
     ]
    },
    {
     "name": "stdout",
     "output_type": "stream",
     "text": [
      "Iteration: \t408 / 500\n",
      "Confirmed: \t21\n",
      "Tentative: \t2\n",
      "Rejected: \t107\n"
     ]
    },
    {
     "name": "stderr",
     "output_type": "stream",
     "text": [
      "/Users/shohei.mitani/.pyenv/versions/anaconda3-5.3.1/lib/python3.6/site-packages/boruta/boruta_py.py:418: RuntimeWarning: invalid value encountered in greater\n",
      "  hits = np.where(cur_imp[0] > imp_sha_max)[0]\n",
      "/Users/shohei.mitani/.pyenv/versions/anaconda3-5.3.1/lib/python3.6/site-packages/boruta/boruta_py.py:380: DataConversionWarning: A column-vector y was passed when a 1d array was expected. Please change the shape of y to (n_samples,), for example using ravel().\n",
      "  self.estimator.fit(X, y)\n"
     ]
    },
    {
     "name": "stdout",
     "output_type": "stream",
     "text": [
      "Iteration: \t409 / 500\n",
      "Confirmed: \t21\n",
      "Tentative: \t2\n",
      "Rejected: \t107\n"
     ]
    },
    {
     "name": "stderr",
     "output_type": "stream",
     "text": [
      "/Users/shohei.mitani/.pyenv/versions/anaconda3-5.3.1/lib/python3.6/site-packages/boruta/boruta_py.py:418: RuntimeWarning: invalid value encountered in greater\n",
      "  hits = np.where(cur_imp[0] > imp_sha_max)[0]\n",
      "/Users/shohei.mitani/.pyenv/versions/anaconda3-5.3.1/lib/python3.6/site-packages/boruta/boruta_py.py:380: DataConversionWarning: A column-vector y was passed when a 1d array was expected. Please change the shape of y to (n_samples,), for example using ravel().\n",
      "  self.estimator.fit(X, y)\n"
     ]
    },
    {
     "name": "stdout",
     "output_type": "stream",
     "text": [
      "Iteration: \t410 / 500\n",
      "Confirmed: \t21\n",
      "Tentative: \t2\n",
      "Rejected: \t107\n"
     ]
    },
    {
     "name": "stderr",
     "output_type": "stream",
     "text": [
      "/Users/shohei.mitani/.pyenv/versions/anaconda3-5.3.1/lib/python3.6/site-packages/boruta/boruta_py.py:418: RuntimeWarning: invalid value encountered in greater\n",
      "  hits = np.where(cur_imp[0] > imp_sha_max)[0]\n",
      "/Users/shohei.mitani/.pyenv/versions/anaconda3-5.3.1/lib/python3.6/site-packages/boruta/boruta_py.py:380: DataConversionWarning: A column-vector y was passed when a 1d array was expected. Please change the shape of y to (n_samples,), for example using ravel().\n",
      "  self.estimator.fit(X, y)\n"
     ]
    },
    {
     "name": "stdout",
     "output_type": "stream",
     "text": [
      "Iteration: \t411 / 500\n",
      "Confirmed: \t21\n",
      "Tentative: \t2\n",
      "Rejected: \t107\n"
     ]
    },
    {
     "name": "stderr",
     "output_type": "stream",
     "text": [
      "/Users/shohei.mitani/.pyenv/versions/anaconda3-5.3.1/lib/python3.6/site-packages/boruta/boruta_py.py:418: RuntimeWarning: invalid value encountered in greater\n",
      "  hits = np.where(cur_imp[0] > imp_sha_max)[0]\n",
      "/Users/shohei.mitani/.pyenv/versions/anaconda3-5.3.1/lib/python3.6/site-packages/boruta/boruta_py.py:380: DataConversionWarning: A column-vector y was passed when a 1d array was expected. Please change the shape of y to (n_samples,), for example using ravel().\n",
      "  self.estimator.fit(X, y)\n"
     ]
    },
    {
     "name": "stdout",
     "output_type": "stream",
     "text": [
      "Iteration: \t412 / 500\n",
      "Confirmed: \t21\n",
      "Tentative: \t2\n",
      "Rejected: \t107\n"
     ]
    },
    {
     "name": "stderr",
     "output_type": "stream",
     "text": [
      "/Users/shohei.mitani/.pyenv/versions/anaconda3-5.3.1/lib/python3.6/site-packages/boruta/boruta_py.py:418: RuntimeWarning: invalid value encountered in greater\n",
      "  hits = np.where(cur_imp[0] > imp_sha_max)[0]\n",
      "/Users/shohei.mitani/.pyenv/versions/anaconda3-5.3.1/lib/python3.6/site-packages/boruta/boruta_py.py:380: DataConversionWarning: A column-vector y was passed when a 1d array was expected. Please change the shape of y to (n_samples,), for example using ravel().\n",
      "  self.estimator.fit(X, y)\n"
     ]
    },
    {
     "name": "stdout",
     "output_type": "stream",
     "text": [
      "Iteration: \t413 / 500\n",
      "Confirmed: \t21\n",
      "Tentative: \t2\n",
      "Rejected: \t107\n"
     ]
    },
    {
     "name": "stderr",
     "output_type": "stream",
     "text": [
      "/Users/shohei.mitani/.pyenv/versions/anaconda3-5.3.1/lib/python3.6/site-packages/boruta/boruta_py.py:418: RuntimeWarning: invalid value encountered in greater\n",
      "  hits = np.where(cur_imp[0] > imp_sha_max)[0]\n",
      "/Users/shohei.mitani/.pyenv/versions/anaconda3-5.3.1/lib/python3.6/site-packages/boruta/boruta_py.py:380: DataConversionWarning: A column-vector y was passed when a 1d array was expected. Please change the shape of y to (n_samples,), for example using ravel().\n",
      "  self.estimator.fit(X, y)\n"
     ]
    },
    {
     "name": "stdout",
     "output_type": "stream",
     "text": [
      "Iteration: \t414 / 500\n",
      "Confirmed: \t22\n",
      "Tentative: \t1\n",
      "Rejected: \t107\n"
     ]
    },
    {
     "name": "stderr",
     "output_type": "stream",
     "text": [
      "/Users/shohei.mitani/.pyenv/versions/anaconda3-5.3.1/lib/python3.6/site-packages/boruta/boruta_py.py:418: RuntimeWarning: invalid value encountered in greater\n",
      "  hits = np.where(cur_imp[0] > imp_sha_max)[0]\n",
      "/Users/shohei.mitani/.pyenv/versions/anaconda3-5.3.1/lib/python3.6/site-packages/boruta/boruta_py.py:380: DataConversionWarning: A column-vector y was passed when a 1d array was expected. Please change the shape of y to (n_samples,), for example using ravel().\n",
      "  self.estimator.fit(X, y)\n"
     ]
    },
    {
     "name": "stdout",
     "output_type": "stream",
     "text": [
      "Iteration: \t415 / 500\n",
      "Confirmed: \t22\n",
      "Tentative: \t1\n",
      "Rejected: \t107\n"
     ]
    },
    {
     "name": "stderr",
     "output_type": "stream",
     "text": [
      "/Users/shohei.mitani/.pyenv/versions/anaconda3-5.3.1/lib/python3.6/site-packages/boruta/boruta_py.py:418: RuntimeWarning: invalid value encountered in greater\n",
      "  hits = np.where(cur_imp[0] > imp_sha_max)[0]\n",
      "/Users/shohei.mitani/.pyenv/versions/anaconda3-5.3.1/lib/python3.6/site-packages/boruta/boruta_py.py:380: DataConversionWarning: A column-vector y was passed when a 1d array was expected. Please change the shape of y to (n_samples,), for example using ravel().\n",
      "  self.estimator.fit(X, y)\n"
     ]
    },
    {
     "name": "stdout",
     "output_type": "stream",
     "text": [
      "Iteration: \t416 / 500\n",
      "Confirmed: \t22\n",
      "Tentative: \t1\n",
      "Rejected: \t107\n"
     ]
    },
    {
     "name": "stderr",
     "output_type": "stream",
     "text": [
      "/Users/shohei.mitani/.pyenv/versions/anaconda3-5.3.1/lib/python3.6/site-packages/boruta/boruta_py.py:418: RuntimeWarning: invalid value encountered in greater\n",
      "  hits = np.where(cur_imp[0] > imp_sha_max)[0]\n",
      "/Users/shohei.mitani/.pyenv/versions/anaconda3-5.3.1/lib/python3.6/site-packages/boruta/boruta_py.py:380: DataConversionWarning: A column-vector y was passed when a 1d array was expected. Please change the shape of y to (n_samples,), for example using ravel().\n",
      "  self.estimator.fit(X, y)\n"
     ]
    },
    {
     "name": "stdout",
     "output_type": "stream",
     "text": [
      "Iteration: \t417 / 500\n",
      "Confirmed: \t22\n",
      "Tentative: \t1\n",
      "Rejected: \t107\n"
     ]
    },
    {
     "name": "stderr",
     "output_type": "stream",
     "text": [
      "/Users/shohei.mitani/.pyenv/versions/anaconda3-5.3.1/lib/python3.6/site-packages/boruta/boruta_py.py:418: RuntimeWarning: invalid value encountered in greater\n",
      "  hits = np.where(cur_imp[0] > imp_sha_max)[0]\n",
      "/Users/shohei.mitani/.pyenv/versions/anaconda3-5.3.1/lib/python3.6/site-packages/boruta/boruta_py.py:380: DataConversionWarning: A column-vector y was passed when a 1d array was expected. Please change the shape of y to (n_samples,), for example using ravel().\n",
      "  self.estimator.fit(X, y)\n"
     ]
    },
    {
     "name": "stdout",
     "output_type": "stream",
     "text": [
      "Iteration: \t418 / 500\n",
      "Confirmed: \t22\n",
      "Tentative: \t1\n",
      "Rejected: \t107\n"
     ]
    },
    {
     "name": "stderr",
     "output_type": "stream",
     "text": [
      "/Users/shohei.mitani/.pyenv/versions/anaconda3-5.3.1/lib/python3.6/site-packages/boruta/boruta_py.py:418: RuntimeWarning: invalid value encountered in greater\n",
      "  hits = np.where(cur_imp[0] > imp_sha_max)[0]\n",
      "/Users/shohei.mitani/.pyenv/versions/anaconda3-5.3.1/lib/python3.6/site-packages/boruta/boruta_py.py:380: DataConversionWarning: A column-vector y was passed when a 1d array was expected. Please change the shape of y to (n_samples,), for example using ravel().\n",
      "  self.estimator.fit(X, y)\n"
     ]
    },
    {
     "name": "stdout",
     "output_type": "stream",
     "text": [
      "Iteration: \t419 / 500\n",
      "Confirmed: \t22\n",
      "Tentative: \t1\n",
      "Rejected: \t107\n"
     ]
    },
    {
     "name": "stderr",
     "output_type": "stream",
     "text": [
      "/Users/shohei.mitani/.pyenv/versions/anaconda3-5.3.1/lib/python3.6/site-packages/boruta/boruta_py.py:418: RuntimeWarning: invalid value encountered in greater\n",
      "  hits = np.where(cur_imp[0] > imp_sha_max)[0]\n",
      "/Users/shohei.mitani/.pyenv/versions/anaconda3-5.3.1/lib/python3.6/site-packages/boruta/boruta_py.py:380: DataConversionWarning: A column-vector y was passed when a 1d array was expected. Please change the shape of y to (n_samples,), for example using ravel().\n",
      "  self.estimator.fit(X, y)\n"
     ]
    },
    {
     "name": "stdout",
     "output_type": "stream",
     "text": [
      "Iteration: \t420 / 500\n",
      "Confirmed: \t22\n",
      "Tentative: \t1\n",
      "Rejected: \t107\n"
     ]
    },
    {
     "name": "stderr",
     "output_type": "stream",
     "text": [
      "/Users/shohei.mitani/.pyenv/versions/anaconda3-5.3.1/lib/python3.6/site-packages/boruta/boruta_py.py:418: RuntimeWarning: invalid value encountered in greater\n",
      "  hits = np.where(cur_imp[0] > imp_sha_max)[0]\n",
      "/Users/shohei.mitani/.pyenv/versions/anaconda3-5.3.1/lib/python3.6/site-packages/boruta/boruta_py.py:380: DataConversionWarning: A column-vector y was passed when a 1d array was expected. Please change the shape of y to (n_samples,), for example using ravel().\n",
      "  self.estimator.fit(X, y)\n"
     ]
    },
    {
     "name": "stdout",
     "output_type": "stream",
     "text": [
      "Iteration: \t421 / 500\n",
      "Confirmed: \t22\n",
      "Tentative: \t1\n",
      "Rejected: \t107\n"
     ]
    },
    {
     "name": "stderr",
     "output_type": "stream",
     "text": [
      "/Users/shohei.mitani/.pyenv/versions/anaconda3-5.3.1/lib/python3.6/site-packages/boruta/boruta_py.py:418: RuntimeWarning: invalid value encountered in greater\n",
      "  hits = np.where(cur_imp[0] > imp_sha_max)[0]\n",
      "/Users/shohei.mitani/.pyenv/versions/anaconda3-5.3.1/lib/python3.6/site-packages/boruta/boruta_py.py:380: DataConversionWarning: A column-vector y was passed when a 1d array was expected. Please change the shape of y to (n_samples,), for example using ravel().\n",
      "  self.estimator.fit(X, y)\n"
     ]
    },
    {
     "name": "stdout",
     "output_type": "stream",
     "text": [
      "Iteration: \t422 / 500\n",
      "Confirmed: \t22\n",
      "Tentative: \t1\n",
      "Rejected: \t107\n"
     ]
    },
    {
     "name": "stderr",
     "output_type": "stream",
     "text": [
      "/Users/shohei.mitani/.pyenv/versions/anaconda3-5.3.1/lib/python3.6/site-packages/boruta/boruta_py.py:418: RuntimeWarning: invalid value encountered in greater\n",
      "  hits = np.where(cur_imp[0] > imp_sha_max)[0]\n",
      "/Users/shohei.mitani/.pyenv/versions/anaconda3-5.3.1/lib/python3.6/site-packages/boruta/boruta_py.py:380: DataConversionWarning: A column-vector y was passed when a 1d array was expected. Please change the shape of y to (n_samples,), for example using ravel().\n",
      "  self.estimator.fit(X, y)\n"
     ]
    },
    {
     "name": "stdout",
     "output_type": "stream",
     "text": [
      "Iteration: \t423 / 500\n",
      "Confirmed: \t22\n",
      "Tentative: \t1\n",
      "Rejected: \t107\n"
     ]
    },
    {
     "name": "stderr",
     "output_type": "stream",
     "text": [
      "/Users/shohei.mitani/.pyenv/versions/anaconda3-5.3.1/lib/python3.6/site-packages/boruta/boruta_py.py:418: RuntimeWarning: invalid value encountered in greater\n",
      "  hits = np.where(cur_imp[0] > imp_sha_max)[0]\n",
      "/Users/shohei.mitani/.pyenv/versions/anaconda3-5.3.1/lib/python3.6/site-packages/boruta/boruta_py.py:380: DataConversionWarning: A column-vector y was passed when a 1d array was expected. Please change the shape of y to (n_samples,), for example using ravel().\n",
      "  self.estimator.fit(X, y)\n"
     ]
    },
    {
     "name": "stdout",
     "output_type": "stream",
     "text": [
      "Iteration: \t424 / 500\n",
      "Confirmed: \t22\n",
      "Tentative: \t1\n",
      "Rejected: \t107\n"
     ]
    },
    {
     "name": "stderr",
     "output_type": "stream",
     "text": [
      "/Users/shohei.mitani/.pyenv/versions/anaconda3-5.3.1/lib/python3.6/site-packages/boruta/boruta_py.py:418: RuntimeWarning: invalid value encountered in greater\n",
      "  hits = np.where(cur_imp[0] > imp_sha_max)[0]\n",
      "/Users/shohei.mitani/.pyenv/versions/anaconda3-5.3.1/lib/python3.6/site-packages/boruta/boruta_py.py:380: DataConversionWarning: A column-vector y was passed when a 1d array was expected. Please change the shape of y to (n_samples,), for example using ravel().\n",
      "  self.estimator.fit(X, y)\n"
     ]
    },
    {
     "name": "stdout",
     "output_type": "stream",
     "text": [
      "Iteration: \t425 / 500\n",
      "Confirmed: \t22\n",
      "Tentative: \t1\n",
      "Rejected: \t107\n"
     ]
    },
    {
     "name": "stderr",
     "output_type": "stream",
     "text": [
      "/Users/shohei.mitani/.pyenv/versions/anaconda3-5.3.1/lib/python3.6/site-packages/boruta/boruta_py.py:418: RuntimeWarning: invalid value encountered in greater\n",
      "  hits = np.where(cur_imp[0] > imp_sha_max)[0]\n",
      "/Users/shohei.mitani/.pyenv/versions/anaconda3-5.3.1/lib/python3.6/site-packages/boruta/boruta_py.py:380: DataConversionWarning: A column-vector y was passed when a 1d array was expected. Please change the shape of y to (n_samples,), for example using ravel().\n",
      "  self.estimator.fit(X, y)\n"
     ]
    },
    {
     "name": "stdout",
     "output_type": "stream",
     "text": [
      "Iteration: \t426 / 500\n",
      "Confirmed: \t22\n",
      "Tentative: \t1\n",
      "Rejected: \t107\n"
     ]
    },
    {
     "name": "stderr",
     "output_type": "stream",
     "text": [
      "/Users/shohei.mitani/.pyenv/versions/anaconda3-5.3.1/lib/python3.6/site-packages/boruta/boruta_py.py:418: RuntimeWarning: invalid value encountered in greater\n",
      "  hits = np.where(cur_imp[0] > imp_sha_max)[0]\n",
      "/Users/shohei.mitani/.pyenv/versions/anaconda3-5.3.1/lib/python3.6/site-packages/boruta/boruta_py.py:380: DataConversionWarning: A column-vector y was passed when a 1d array was expected. Please change the shape of y to (n_samples,), for example using ravel().\n",
      "  self.estimator.fit(X, y)\n"
     ]
    },
    {
     "name": "stdout",
     "output_type": "stream",
     "text": [
      "Iteration: \t427 / 500\n",
      "Confirmed: \t22\n",
      "Tentative: \t1\n",
      "Rejected: \t107\n"
     ]
    },
    {
     "name": "stderr",
     "output_type": "stream",
     "text": [
      "/Users/shohei.mitani/.pyenv/versions/anaconda3-5.3.1/lib/python3.6/site-packages/boruta/boruta_py.py:418: RuntimeWarning: invalid value encountered in greater\n",
      "  hits = np.where(cur_imp[0] > imp_sha_max)[0]\n",
      "/Users/shohei.mitani/.pyenv/versions/anaconda3-5.3.1/lib/python3.6/site-packages/boruta/boruta_py.py:380: DataConversionWarning: A column-vector y was passed when a 1d array was expected. Please change the shape of y to (n_samples,), for example using ravel().\n",
      "  self.estimator.fit(X, y)\n"
     ]
    },
    {
     "name": "stdout",
     "output_type": "stream",
     "text": [
      "Iteration: \t428 / 500\n",
      "Confirmed: \t22\n",
      "Tentative: \t1\n",
      "Rejected: \t107\n"
     ]
    },
    {
     "name": "stderr",
     "output_type": "stream",
     "text": [
      "/Users/shohei.mitani/.pyenv/versions/anaconda3-5.3.1/lib/python3.6/site-packages/boruta/boruta_py.py:418: RuntimeWarning: invalid value encountered in greater\n",
      "  hits = np.where(cur_imp[0] > imp_sha_max)[0]\n",
      "/Users/shohei.mitani/.pyenv/versions/anaconda3-5.3.1/lib/python3.6/site-packages/boruta/boruta_py.py:380: DataConversionWarning: A column-vector y was passed when a 1d array was expected. Please change the shape of y to (n_samples,), for example using ravel().\n",
      "  self.estimator.fit(X, y)\n"
     ]
    },
    {
     "name": "stdout",
     "output_type": "stream",
     "text": [
      "Iteration: \t429 / 500\n",
      "Confirmed: \t22\n",
      "Tentative: \t1\n",
      "Rejected: \t107\n"
     ]
    },
    {
     "name": "stderr",
     "output_type": "stream",
     "text": [
      "/Users/shohei.mitani/.pyenv/versions/anaconda3-5.3.1/lib/python3.6/site-packages/boruta/boruta_py.py:418: RuntimeWarning: invalid value encountered in greater\n",
      "  hits = np.where(cur_imp[0] > imp_sha_max)[0]\n",
      "/Users/shohei.mitani/.pyenv/versions/anaconda3-5.3.1/lib/python3.6/site-packages/boruta/boruta_py.py:380: DataConversionWarning: A column-vector y was passed when a 1d array was expected. Please change the shape of y to (n_samples,), for example using ravel().\n",
      "  self.estimator.fit(X, y)\n"
     ]
    },
    {
     "name": "stdout",
     "output_type": "stream",
     "text": [
      "Iteration: \t430 / 500\n",
      "Confirmed: \t22\n",
      "Tentative: \t1\n",
      "Rejected: \t107\n"
     ]
    },
    {
     "name": "stderr",
     "output_type": "stream",
     "text": [
      "/Users/shohei.mitani/.pyenv/versions/anaconda3-5.3.1/lib/python3.6/site-packages/boruta/boruta_py.py:418: RuntimeWarning: invalid value encountered in greater\n",
      "  hits = np.where(cur_imp[0] > imp_sha_max)[0]\n",
      "/Users/shohei.mitani/.pyenv/versions/anaconda3-5.3.1/lib/python3.6/site-packages/boruta/boruta_py.py:380: DataConversionWarning: A column-vector y was passed when a 1d array was expected. Please change the shape of y to (n_samples,), for example using ravel().\n",
      "  self.estimator.fit(X, y)\n"
     ]
    },
    {
     "name": "stdout",
     "output_type": "stream",
     "text": [
      "Iteration: \t431 / 500\n",
      "Confirmed: \t22\n",
      "Tentative: \t1\n",
      "Rejected: \t107\n"
     ]
    },
    {
     "name": "stderr",
     "output_type": "stream",
     "text": [
      "/Users/shohei.mitani/.pyenv/versions/anaconda3-5.3.1/lib/python3.6/site-packages/boruta/boruta_py.py:418: RuntimeWarning: invalid value encountered in greater\n",
      "  hits = np.where(cur_imp[0] > imp_sha_max)[0]\n",
      "/Users/shohei.mitani/.pyenv/versions/anaconda3-5.3.1/lib/python3.6/site-packages/boruta/boruta_py.py:380: DataConversionWarning: A column-vector y was passed when a 1d array was expected. Please change the shape of y to (n_samples,), for example using ravel().\n",
      "  self.estimator.fit(X, y)\n"
     ]
    },
    {
     "name": "stdout",
     "output_type": "stream",
     "text": [
      "Iteration: \t432 / 500\n",
      "Confirmed: \t22\n",
      "Tentative: \t1\n",
      "Rejected: \t107\n"
     ]
    },
    {
     "name": "stderr",
     "output_type": "stream",
     "text": [
      "/Users/shohei.mitani/.pyenv/versions/anaconda3-5.3.1/lib/python3.6/site-packages/boruta/boruta_py.py:418: RuntimeWarning: invalid value encountered in greater\n",
      "  hits = np.where(cur_imp[0] > imp_sha_max)[0]\n",
      "/Users/shohei.mitani/.pyenv/versions/anaconda3-5.3.1/lib/python3.6/site-packages/boruta/boruta_py.py:380: DataConversionWarning: A column-vector y was passed when a 1d array was expected. Please change the shape of y to (n_samples,), for example using ravel().\n",
      "  self.estimator.fit(X, y)\n"
     ]
    },
    {
     "name": "stdout",
     "output_type": "stream",
     "text": [
      "Iteration: \t433 / 500\n",
      "Confirmed: \t22\n",
      "Tentative: \t1\n",
      "Rejected: \t107\n"
     ]
    },
    {
     "name": "stderr",
     "output_type": "stream",
     "text": [
      "/Users/shohei.mitani/.pyenv/versions/anaconda3-5.3.1/lib/python3.6/site-packages/boruta/boruta_py.py:418: RuntimeWarning: invalid value encountered in greater\n",
      "  hits = np.where(cur_imp[0] > imp_sha_max)[0]\n",
      "/Users/shohei.mitani/.pyenv/versions/anaconda3-5.3.1/lib/python3.6/site-packages/boruta/boruta_py.py:380: DataConversionWarning: A column-vector y was passed when a 1d array was expected. Please change the shape of y to (n_samples,), for example using ravel().\n",
      "  self.estimator.fit(X, y)\n"
     ]
    },
    {
     "name": "stdout",
     "output_type": "stream",
     "text": [
      "Iteration: \t434 / 500\n",
      "Confirmed: \t22\n",
      "Tentative: \t1\n",
      "Rejected: \t107\n"
     ]
    },
    {
     "name": "stderr",
     "output_type": "stream",
     "text": [
      "/Users/shohei.mitani/.pyenv/versions/anaconda3-5.3.1/lib/python3.6/site-packages/boruta/boruta_py.py:418: RuntimeWarning: invalid value encountered in greater\n",
      "  hits = np.where(cur_imp[0] > imp_sha_max)[0]\n",
      "/Users/shohei.mitani/.pyenv/versions/anaconda3-5.3.1/lib/python3.6/site-packages/boruta/boruta_py.py:380: DataConversionWarning: A column-vector y was passed when a 1d array was expected. Please change the shape of y to (n_samples,), for example using ravel().\n",
      "  self.estimator.fit(X, y)\n"
     ]
    },
    {
     "name": "stdout",
     "output_type": "stream",
     "text": [
      "Iteration: \t435 / 500\n",
      "Confirmed: \t22\n",
      "Tentative: \t1\n",
      "Rejected: \t107\n"
     ]
    },
    {
     "name": "stderr",
     "output_type": "stream",
     "text": [
      "/Users/shohei.mitani/.pyenv/versions/anaconda3-5.3.1/lib/python3.6/site-packages/boruta/boruta_py.py:418: RuntimeWarning: invalid value encountered in greater\n",
      "  hits = np.where(cur_imp[0] > imp_sha_max)[0]\n",
      "/Users/shohei.mitani/.pyenv/versions/anaconda3-5.3.1/lib/python3.6/site-packages/boruta/boruta_py.py:380: DataConversionWarning: A column-vector y was passed when a 1d array was expected. Please change the shape of y to (n_samples,), for example using ravel().\n",
      "  self.estimator.fit(X, y)\n"
     ]
    },
    {
     "name": "stdout",
     "output_type": "stream",
     "text": [
      "Iteration: \t436 / 500\n",
      "Confirmed: \t22\n",
      "Tentative: \t1\n",
      "Rejected: \t107\n"
     ]
    },
    {
     "name": "stderr",
     "output_type": "stream",
     "text": [
      "/Users/shohei.mitani/.pyenv/versions/anaconda3-5.3.1/lib/python3.6/site-packages/boruta/boruta_py.py:418: RuntimeWarning: invalid value encountered in greater\n",
      "  hits = np.where(cur_imp[0] > imp_sha_max)[0]\n",
      "/Users/shohei.mitani/.pyenv/versions/anaconda3-5.3.1/lib/python3.6/site-packages/boruta/boruta_py.py:380: DataConversionWarning: A column-vector y was passed when a 1d array was expected. Please change the shape of y to (n_samples,), for example using ravel().\n",
      "  self.estimator.fit(X, y)\n"
     ]
    },
    {
     "name": "stdout",
     "output_type": "stream",
     "text": [
      "Iteration: \t437 / 500\n",
      "Confirmed: \t22\n",
      "Tentative: \t1\n",
      "Rejected: \t107\n"
     ]
    },
    {
     "name": "stderr",
     "output_type": "stream",
     "text": [
      "/Users/shohei.mitani/.pyenv/versions/anaconda3-5.3.1/lib/python3.6/site-packages/boruta/boruta_py.py:418: RuntimeWarning: invalid value encountered in greater\n",
      "  hits = np.where(cur_imp[0] > imp_sha_max)[0]\n",
      "/Users/shohei.mitani/.pyenv/versions/anaconda3-5.3.1/lib/python3.6/site-packages/boruta/boruta_py.py:380: DataConversionWarning: A column-vector y was passed when a 1d array was expected. Please change the shape of y to (n_samples,), for example using ravel().\n",
      "  self.estimator.fit(X, y)\n"
     ]
    },
    {
     "name": "stdout",
     "output_type": "stream",
     "text": [
      "Iteration: \t438 / 500\n",
      "Confirmed: \t22\n",
      "Tentative: \t1\n",
      "Rejected: \t107\n"
     ]
    },
    {
     "name": "stderr",
     "output_type": "stream",
     "text": [
      "/Users/shohei.mitani/.pyenv/versions/anaconda3-5.3.1/lib/python3.6/site-packages/boruta/boruta_py.py:418: RuntimeWarning: invalid value encountered in greater\n",
      "  hits = np.where(cur_imp[0] > imp_sha_max)[0]\n",
      "/Users/shohei.mitani/.pyenv/versions/anaconda3-5.3.1/lib/python3.6/site-packages/boruta/boruta_py.py:380: DataConversionWarning: A column-vector y was passed when a 1d array was expected. Please change the shape of y to (n_samples,), for example using ravel().\n",
      "  self.estimator.fit(X, y)\n"
     ]
    },
    {
     "name": "stdout",
     "output_type": "stream",
     "text": [
      "Iteration: \t439 / 500\n",
      "Confirmed: \t22\n",
      "Tentative: \t1\n",
      "Rejected: \t107\n"
     ]
    },
    {
     "name": "stderr",
     "output_type": "stream",
     "text": [
      "/Users/shohei.mitani/.pyenv/versions/anaconda3-5.3.1/lib/python3.6/site-packages/boruta/boruta_py.py:418: RuntimeWarning: invalid value encountered in greater\n",
      "  hits = np.where(cur_imp[0] > imp_sha_max)[0]\n",
      "/Users/shohei.mitani/.pyenv/versions/anaconda3-5.3.1/lib/python3.6/site-packages/boruta/boruta_py.py:380: DataConversionWarning: A column-vector y was passed when a 1d array was expected. Please change the shape of y to (n_samples,), for example using ravel().\n",
      "  self.estimator.fit(X, y)\n"
     ]
    },
    {
     "name": "stdout",
     "output_type": "stream",
     "text": [
      "Iteration: \t440 / 500\n",
      "Confirmed: \t22\n",
      "Tentative: \t1\n",
      "Rejected: \t107\n"
     ]
    },
    {
     "name": "stderr",
     "output_type": "stream",
     "text": [
      "/Users/shohei.mitani/.pyenv/versions/anaconda3-5.3.1/lib/python3.6/site-packages/boruta/boruta_py.py:418: RuntimeWarning: invalid value encountered in greater\n",
      "  hits = np.where(cur_imp[0] > imp_sha_max)[0]\n",
      "/Users/shohei.mitani/.pyenv/versions/anaconda3-5.3.1/lib/python3.6/site-packages/boruta/boruta_py.py:380: DataConversionWarning: A column-vector y was passed when a 1d array was expected. Please change the shape of y to (n_samples,), for example using ravel().\n",
      "  self.estimator.fit(X, y)\n"
     ]
    },
    {
     "name": "stdout",
     "output_type": "stream",
     "text": [
      "Iteration: \t441 / 500\n",
      "Confirmed: \t22\n",
      "Tentative: \t1\n",
      "Rejected: \t107\n"
     ]
    },
    {
     "name": "stderr",
     "output_type": "stream",
     "text": [
      "/Users/shohei.mitani/.pyenv/versions/anaconda3-5.3.1/lib/python3.6/site-packages/boruta/boruta_py.py:418: RuntimeWarning: invalid value encountered in greater\n",
      "  hits = np.where(cur_imp[0] > imp_sha_max)[0]\n",
      "/Users/shohei.mitani/.pyenv/versions/anaconda3-5.3.1/lib/python3.6/site-packages/boruta/boruta_py.py:380: DataConversionWarning: A column-vector y was passed when a 1d array was expected. Please change the shape of y to (n_samples,), for example using ravel().\n",
      "  self.estimator.fit(X, y)\n"
     ]
    },
    {
     "name": "stdout",
     "output_type": "stream",
     "text": [
      "Iteration: \t442 / 500\n",
      "Confirmed: \t22\n",
      "Tentative: \t1\n",
      "Rejected: \t107\n"
     ]
    },
    {
     "name": "stderr",
     "output_type": "stream",
     "text": [
      "/Users/shohei.mitani/.pyenv/versions/anaconda3-5.3.1/lib/python3.6/site-packages/boruta/boruta_py.py:418: RuntimeWarning: invalid value encountered in greater\n",
      "  hits = np.where(cur_imp[0] > imp_sha_max)[0]\n",
      "/Users/shohei.mitani/.pyenv/versions/anaconda3-5.3.1/lib/python3.6/site-packages/boruta/boruta_py.py:380: DataConversionWarning: A column-vector y was passed when a 1d array was expected. Please change the shape of y to (n_samples,), for example using ravel().\n",
      "  self.estimator.fit(X, y)\n"
     ]
    },
    {
     "name": "stdout",
     "output_type": "stream",
     "text": [
      "Iteration: \t443 / 500\n",
      "Confirmed: \t22\n",
      "Tentative: \t1\n",
      "Rejected: \t107\n"
     ]
    },
    {
     "name": "stderr",
     "output_type": "stream",
     "text": [
      "/Users/shohei.mitani/.pyenv/versions/anaconda3-5.3.1/lib/python3.6/site-packages/boruta/boruta_py.py:418: RuntimeWarning: invalid value encountered in greater\n",
      "  hits = np.where(cur_imp[0] > imp_sha_max)[0]\n",
      "/Users/shohei.mitani/.pyenv/versions/anaconda3-5.3.1/lib/python3.6/site-packages/boruta/boruta_py.py:380: DataConversionWarning: A column-vector y was passed when a 1d array was expected. Please change the shape of y to (n_samples,), for example using ravel().\n",
      "  self.estimator.fit(X, y)\n"
     ]
    },
    {
     "name": "stdout",
     "output_type": "stream",
     "text": [
      "Iteration: \t444 / 500\n",
      "Confirmed: \t22\n",
      "Tentative: \t1\n",
      "Rejected: \t107\n"
     ]
    },
    {
     "name": "stderr",
     "output_type": "stream",
     "text": [
      "/Users/shohei.mitani/.pyenv/versions/anaconda3-5.3.1/lib/python3.6/site-packages/boruta/boruta_py.py:418: RuntimeWarning: invalid value encountered in greater\n",
      "  hits = np.where(cur_imp[0] > imp_sha_max)[0]\n",
      "/Users/shohei.mitani/.pyenv/versions/anaconda3-5.3.1/lib/python3.6/site-packages/boruta/boruta_py.py:380: DataConversionWarning: A column-vector y was passed when a 1d array was expected. Please change the shape of y to (n_samples,), for example using ravel().\n",
      "  self.estimator.fit(X, y)\n"
     ]
    },
    {
     "name": "stdout",
     "output_type": "stream",
     "text": [
      "Iteration: \t445 / 500\n",
      "Confirmed: \t22\n",
      "Tentative: \t1\n",
      "Rejected: \t107\n"
     ]
    },
    {
     "name": "stderr",
     "output_type": "stream",
     "text": [
      "/Users/shohei.mitani/.pyenv/versions/anaconda3-5.3.1/lib/python3.6/site-packages/boruta/boruta_py.py:418: RuntimeWarning: invalid value encountered in greater\n",
      "  hits = np.where(cur_imp[0] > imp_sha_max)[0]\n",
      "/Users/shohei.mitani/.pyenv/versions/anaconda3-5.3.1/lib/python3.6/site-packages/boruta/boruta_py.py:380: DataConversionWarning: A column-vector y was passed when a 1d array was expected. Please change the shape of y to (n_samples,), for example using ravel().\n",
      "  self.estimator.fit(X, y)\n"
     ]
    },
    {
     "name": "stdout",
     "output_type": "stream",
     "text": [
      "Iteration: \t446 / 500\n",
      "Confirmed: \t22\n",
      "Tentative: \t1\n",
      "Rejected: \t107\n"
     ]
    },
    {
     "name": "stderr",
     "output_type": "stream",
     "text": [
      "/Users/shohei.mitani/.pyenv/versions/anaconda3-5.3.1/lib/python3.6/site-packages/boruta/boruta_py.py:418: RuntimeWarning: invalid value encountered in greater\n",
      "  hits = np.where(cur_imp[0] > imp_sha_max)[0]\n",
      "/Users/shohei.mitani/.pyenv/versions/anaconda3-5.3.1/lib/python3.6/site-packages/boruta/boruta_py.py:380: DataConversionWarning: A column-vector y was passed when a 1d array was expected. Please change the shape of y to (n_samples,), for example using ravel().\n",
      "  self.estimator.fit(X, y)\n"
     ]
    },
    {
     "name": "stdout",
     "output_type": "stream",
     "text": [
      "Iteration: \t447 / 500\n",
      "Confirmed: \t22\n",
      "Tentative: \t1\n",
      "Rejected: \t107\n"
     ]
    },
    {
     "name": "stderr",
     "output_type": "stream",
     "text": [
      "/Users/shohei.mitani/.pyenv/versions/anaconda3-5.3.1/lib/python3.6/site-packages/boruta/boruta_py.py:418: RuntimeWarning: invalid value encountered in greater\n",
      "  hits = np.where(cur_imp[0] > imp_sha_max)[0]\n",
      "/Users/shohei.mitani/.pyenv/versions/anaconda3-5.3.1/lib/python3.6/site-packages/boruta/boruta_py.py:380: DataConversionWarning: A column-vector y was passed when a 1d array was expected. Please change the shape of y to (n_samples,), for example using ravel().\n",
      "  self.estimator.fit(X, y)\n"
     ]
    },
    {
     "name": "stdout",
     "output_type": "stream",
     "text": [
      "Iteration: \t448 / 500\n",
      "Confirmed: \t22\n",
      "Tentative: \t1\n",
      "Rejected: \t107\n"
     ]
    },
    {
     "name": "stderr",
     "output_type": "stream",
     "text": [
      "/Users/shohei.mitani/.pyenv/versions/anaconda3-5.3.1/lib/python3.6/site-packages/boruta/boruta_py.py:418: RuntimeWarning: invalid value encountered in greater\n",
      "  hits = np.where(cur_imp[0] > imp_sha_max)[0]\n",
      "/Users/shohei.mitani/.pyenv/versions/anaconda3-5.3.1/lib/python3.6/site-packages/boruta/boruta_py.py:380: DataConversionWarning: A column-vector y was passed when a 1d array was expected. Please change the shape of y to (n_samples,), for example using ravel().\n",
      "  self.estimator.fit(X, y)\n"
     ]
    },
    {
     "name": "stdout",
     "output_type": "stream",
     "text": [
      "Iteration: \t449 / 500\n",
      "Confirmed: \t22\n",
      "Tentative: \t1\n",
      "Rejected: \t107\n"
     ]
    },
    {
     "name": "stderr",
     "output_type": "stream",
     "text": [
      "/Users/shohei.mitani/.pyenv/versions/anaconda3-5.3.1/lib/python3.6/site-packages/boruta/boruta_py.py:418: RuntimeWarning: invalid value encountered in greater\n",
      "  hits = np.where(cur_imp[0] > imp_sha_max)[0]\n",
      "/Users/shohei.mitani/.pyenv/versions/anaconda3-5.3.1/lib/python3.6/site-packages/boruta/boruta_py.py:380: DataConversionWarning: A column-vector y was passed when a 1d array was expected. Please change the shape of y to (n_samples,), for example using ravel().\n",
      "  self.estimator.fit(X, y)\n"
     ]
    },
    {
     "name": "stdout",
     "output_type": "stream",
     "text": [
      "Iteration: \t450 / 500\n",
      "Confirmed: \t22\n",
      "Tentative: \t1\n",
      "Rejected: \t107\n"
     ]
    },
    {
     "name": "stderr",
     "output_type": "stream",
     "text": [
      "/Users/shohei.mitani/.pyenv/versions/anaconda3-5.3.1/lib/python3.6/site-packages/boruta/boruta_py.py:418: RuntimeWarning: invalid value encountered in greater\n",
      "  hits = np.where(cur_imp[0] > imp_sha_max)[0]\n",
      "/Users/shohei.mitani/.pyenv/versions/anaconda3-5.3.1/lib/python3.6/site-packages/boruta/boruta_py.py:380: DataConversionWarning: A column-vector y was passed when a 1d array was expected. Please change the shape of y to (n_samples,), for example using ravel().\n",
      "  self.estimator.fit(X, y)\n"
     ]
    },
    {
     "name": "stdout",
     "output_type": "stream",
     "text": [
      "Iteration: \t451 / 500\n",
      "Confirmed: \t22\n",
      "Tentative: \t1\n",
      "Rejected: \t107\n"
     ]
    },
    {
     "name": "stderr",
     "output_type": "stream",
     "text": [
      "/Users/shohei.mitani/.pyenv/versions/anaconda3-5.3.1/lib/python3.6/site-packages/boruta/boruta_py.py:418: RuntimeWarning: invalid value encountered in greater\n",
      "  hits = np.where(cur_imp[0] > imp_sha_max)[0]\n",
      "/Users/shohei.mitani/.pyenv/versions/anaconda3-5.3.1/lib/python3.6/site-packages/boruta/boruta_py.py:380: DataConversionWarning: A column-vector y was passed when a 1d array was expected. Please change the shape of y to (n_samples,), for example using ravel().\n",
      "  self.estimator.fit(X, y)\n"
     ]
    },
    {
     "name": "stdout",
     "output_type": "stream",
     "text": [
      "Iteration: \t452 / 500\n",
      "Confirmed: \t22\n",
      "Tentative: \t1\n",
      "Rejected: \t107\n"
     ]
    },
    {
     "name": "stderr",
     "output_type": "stream",
     "text": [
      "/Users/shohei.mitani/.pyenv/versions/anaconda3-5.3.1/lib/python3.6/site-packages/boruta/boruta_py.py:418: RuntimeWarning: invalid value encountered in greater\n",
      "  hits = np.where(cur_imp[0] > imp_sha_max)[0]\n",
      "/Users/shohei.mitani/.pyenv/versions/anaconda3-5.3.1/lib/python3.6/site-packages/boruta/boruta_py.py:380: DataConversionWarning: A column-vector y was passed when a 1d array was expected. Please change the shape of y to (n_samples,), for example using ravel().\n",
      "  self.estimator.fit(X, y)\n"
     ]
    },
    {
     "name": "stdout",
     "output_type": "stream",
     "text": [
      "Iteration: \t453 / 500\n",
      "Confirmed: \t22\n",
      "Tentative: \t1\n",
      "Rejected: \t107\n"
     ]
    },
    {
     "name": "stderr",
     "output_type": "stream",
     "text": [
      "/Users/shohei.mitani/.pyenv/versions/anaconda3-5.3.1/lib/python3.6/site-packages/boruta/boruta_py.py:418: RuntimeWarning: invalid value encountered in greater\n",
      "  hits = np.where(cur_imp[0] > imp_sha_max)[0]\n",
      "/Users/shohei.mitani/.pyenv/versions/anaconda3-5.3.1/lib/python3.6/site-packages/boruta/boruta_py.py:380: DataConversionWarning: A column-vector y was passed when a 1d array was expected. Please change the shape of y to (n_samples,), for example using ravel().\n",
      "  self.estimator.fit(X, y)\n"
     ]
    },
    {
     "name": "stdout",
     "output_type": "stream",
     "text": [
      "Iteration: \t454 / 500\n",
      "Confirmed: \t22\n",
      "Tentative: \t1\n",
      "Rejected: \t107\n"
     ]
    },
    {
     "name": "stderr",
     "output_type": "stream",
     "text": [
      "/Users/shohei.mitani/.pyenv/versions/anaconda3-5.3.1/lib/python3.6/site-packages/boruta/boruta_py.py:418: RuntimeWarning: invalid value encountered in greater\n",
      "  hits = np.where(cur_imp[0] > imp_sha_max)[0]\n",
      "/Users/shohei.mitani/.pyenv/versions/anaconda3-5.3.1/lib/python3.6/site-packages/boruta/boruta_py.py:380: DataConversionWarning: A column-vector y was passed when a 1d array was expected. Please change the shape of y to (n_samples,), for example using ravel().\n",
      "  self.estimator.fit(X, y)\n"
     ]
    },
    {
     "name": "stdout",
     "output_type": "stream",
     "text": [
      "Iteration: \t455 / 500\n",
      "Confirmed: \t22\n",
      "Tentative: \t1\n",
      "Rejected: \t107\n"
     ]
    },
    {
     "name": "stderr",
     "output_type": "stream",
     "text": [
      "/Users/shohei.mitani/.pyenv/versions/anaconda3-5.3.1/lib/python3.6/site-packages/boruta/boruta_py.py:418: RuntimeWarning: invalid value encountered in greater\n",
      "  hits = np.where(cur_imp[0] > imp_sha_max)[0]\n",
      "/Users/shohei.mitani/.pyenv/versions/anaconda3-5.3.1/lib/python3.6/site-packages/boruta/boruta_py.py:380: DataConversionWarning: A column-vector y was passed when a 1d array was expected. Please change the shape of y to (n_samples,), for example using ravel().\n",
      "  self.estimator.fit(X, y)\n"
     ]
    },
    {
     "name": "stdout",
     "output_type": "stream",
     "text": [
      "Iteration: \t456 / 500\n",
      "Confirmed: \t22\n",
      "Tentative: \t1\n",
      "Rejected: \t107\n"
     ]
    },
    {
     "name": "stderr",
     "output_type": "stream",
     "text": [
      "/Users/shohei.mitani/.pyenv/versions/anaconda3-5.3.1/lib/python3.6/site-packages/boruta/boruta_py.py:418: RuntimeWarning: invalid value encountered in greater\n",
      "  hits = np.where(cur_imp[0] > imp_sha_max)[0]\n",
      "/Users/shohei.mitani/.pyenv/versions/anaconda3-5.3.1/lib/python3.6/site-packages/boruta/boruta_py.py:380: DataConversionWarning: A column-vector y was passed when a 1d array was expected. Please change the shape of y to (n_samples,), for example using ravel().\n",
      "  self.estimator.fit(X, y)\n"
     ]
    },
    {
     "name": "stdout",
     "output_type": "stream",
     "text": [
      "Iteration: \t457 / 500\n",
      "Confirmed: \t22\n",
      "Tentative: \t1\n",
      "Rejected: \t107\n"
     ]
    },
    {
     "name": "stderr",
     "output_type": "stream",
     "text": [
      "/Users/shohei.mitani/.pyenv/versions/anaconda3-5.3.1/lib/python3.6/site-packages/boruta/boruta_py.py:418: RuntimeWarning: invalid value encountered in greater\n",
      "  hits = np.where(cur_imp[0] > imp_sha_max)[0]\n",
      "/Users/shohei.mitani/.pyenv/versions/anaconda3-5.3.1/lib/python3.6/site-packages/boruta/boruta_py.py:380: DataConversionWarning: A column-vector y was passed when a 1d array was expected. Please change the shape of y to (n_samples,), for example using ravel().\n",
      "  self.estimator.fit(X, y)\n"
     ]
    },
    {
     "name": "stdout",
     "output_type": "stream",
     "text": [
      "Iteration: \t458 / 500\n",
      "Confirmed: \t22\n",
      "Tentative: \t1\n",
      "Rejected: \t107\n"
     ]
    },
    {
     "name": "stderr",
     "output_type": "stream",
     "text": [
      "/Users/shohei.mitani/.pyenv/versions/anaconda3-5.3.1/lib/python3.6/site-packages/boruta/boruta_py.py:418: RuntimeWarning: invalid value encountered in greater\n",
      "  hits = np.where(cur_imp[0] > imp_sha_max)[0]\n",
      "/Users/shohei.mitani/.pyenv/versions/anaconda3-5.3.1/lib/python3.6/site-packages/boruta/boruta_py.py:380: DataConversionWarning: A column-vector y was passed when a 1d array was expected. Please change the shape of y to (n_samples,), for example using ravel().\n",
      "  self.estimator.fit(X, y)\n"
     ]
    },
    {
     "name": "stdout",
     "output_type": "stream",
     "text": [
      "Iteration: \t459 / 500\n",
      "Confirmed: \t22\n",
      "Tentative: \t1\n",
      "Rejected: \t107\n"
     ]
    },
    {
     "name": "stderr",
     "output_type": "stream",
     "text": [
      "/Users/shohei.mitani/.pyenv/versions/anaconda3-5.3.1/lib/python3.6/site-packages/boruta/boruta_py.py:418: RuntimeWarning: invalid value encountered in greater\n",
      "  hits = np.where(cur_imp[0] > imp_sha_max)[0]\n",
      "/Users/shohei.mitani/.pyenv/versions/anaconda3-5.3.1/lib/python3.6/site-packages/boruta/boruta_py.py:380: DataConversionWarning: A column-vector y was passed when a 1d array was expected. Please change the shape of y to (n_samples,), for example using ravel().\n",
      "  self.estimator.fit(X, y)\n"
     ]
    },
    {
     "name": "stdout",
     "output_type": "stream",
     "text": [
      "Iteration: \t460 / 500\n",
      "Confirmed: \t22\n",
      "Tentative: \t1\n",
      "Rejected: \t107\n"
     ]
    },
    {
     "name": "stderr",
     "output_type": "stream",
     "text": [
      "/Users/shohei.mitani/.pyenv/versions/anaconda3-5.3.1/lib/python3.6/site-packages/boruta/boruta_py.py:418: RuntimeWarning: invalid value encountered in greater\n",
      "  hits = np.where(cur_imp[0] > imp_sha_max)[0]\n",
      "/Users/shohei.mitani/.pyenv/versions/anaconda3-5.3.1/lib/python3.6/site-packages/boruta/boruta_py.py:380: DataConversionWarning: A column-vector y was passed when a 1d array was expected. Please change the shape of y to (n_samples,), for example using ravel().\n",
      "  self.estimator.fit(X, y)\n"
     ]
    },
    {
     "name": "stdout",
     "output_type": "stream",
     "text": [
      "Iteration: \t461 / 500\n",
      "Confirmed: \t22\n",
      "Tentative: \t1\n",
      "Rejected: \t107\n"
     ]
    },
    {
     "name": "stderr",
     "output_type": "stream",
     "text": [
      "/Users/shohei.mitani/.pyenv/versions/anaconda3-5.3.1/lib/python3.6/site-packages/boruta/boruta_py.py:418: RuntimeWarning: invalid value encountered in greater\n",
      "  hits = np.where(cur_imp[0] > imp_sha_max)[0]\n",
      "/Users/shohei.mitani/.pyenv/versions/anaconda3-5.3.1/lib/python3.6/site-packages/boruta/boruta_py.py:380: DataConversionWarning: A column-vector y was passed when a 1d array was expected. Please change the shape of y to (n_samples,), for example using ravel().\n",
      "  self.estimator.fit(X, y)\n"
     ]
    },
    {
     "name": "stdout",
     "output_type": "stream",
     "text": [
      "Iteration: \t462 / 500\n",
      "Confirmed: \t22\n",
      "Tentative: \t1\n",
      "Rejected: \t107\n"
     ]
    },
    {
     "name": "stderr",
     "output_type": "stream",
     "text": [
      "/Users/shohei.mitani/.pyenv/versions/anaconda3-5.3.1/lib/python3.6/site-packages/boruta/boruta_py.py:418: RuntimeWarning: invalid value encountered in greater\n",
      "  hits = np.where(cur_imp[0] > imp_sha_max)[0]\n",
      "/Users/shohei.mitani/.pyenv/versions/anaconda3-5.3.1/lib/python3.6/site-packages/boruta/boruta_py.py:380: DataConversionWarning: A column-vector y was passed when a 1d array was expected. Please change the shape of y to (n_samples,), for example using ravel().\n",
      "  self.estimator.fit(X, y)\n"
     ]
    },
    {
     "name": "stdout",
     "output_type": "stream",
     "text": [
      "Iteration: \t463 / 500\n",
      "Confirmed: \t22\n",
      "Tentative: \t1\n",
      "Rejected: \t107\n"
     ]
    },
    {
     "name": "stderr",
     "output_type": "stream",
     "text": [
      "/Users/shohei.mitani/.pyenv/versions/anaconda3-5.3.1/lib/python3.6/site-packages/boruta/boruta_py.py:418: RuntimeWarning: invalid value encountered in greater\n",
      "  hits = np.where(cur_imp[0] > imp_sha_max)[0]\n",
      "/Users/shohei.mitani/.pyenv/versions/anaconda3-5.3.1/lib/python3.6/site-packages/boruta/boruta_py.py:380: DataConversionWarning: A column-vector y was passed when a 1d array was expected. Please change the shape of y to (n_samples,), for example using ravel().\n",
      "  self.estimator.fit(X, y)\n"
     ]
    },
    {
     "name": "stdout",
     "output_type": "stream",
     "text": [
      "Iteration: \t464 / 500\n",
      "Confirmed: \t22\n",
      "Tentative: \t1\n",
      "Rejected: \t107\n"
     ]
    },
    {
     "name": "stderr",
     "output_type": "stream",
     "text": [
      "/Users/shohei.mitani/.pyenv/versions/anaconda3-5.3.1/lib/python3.6/site-packages/boruta/boruta_py.py:418: RuntimeWarning: invalid value encountered in greater\n",
      "  hits = np.where(cur_imp[0] > imp_sha_max)[0]\n",
      "/Users/shohei.mitani/.pyenv/versions/anaconda3-5.3.1/lib/python3.6/site-packages/boruta/boruta_py.py:380: DataConversionWarning: A column-vector y was passed when a 1d array was expected. Please change the shape of y to (n_samples,), for example using ravel().\n",
      "  self.estimator.fit(X, y)\n"
     ]
    },
    {
     "name": "stdout",
     "output_type": "stream",
     "text": [
      "Iteration: \t465 / 500\n",
      "Confirmed: \t22\n",
      "Tentative: \t1\n",
      "Rejected: \t107\n"
     ]
    },
    {
     "name": "stderr",
     "output_type": "stream",
     "text": [
      "/Users/shohei.mitani/.pyenv/versions/anaconda3-5.3.1/lib/python3.6/site-packages/boruta/boruta_py.py:418: RuntimeWarning: invalid value encountered in greater\n",
      "  hits = np.where(cur_imp[0] > imp_sha_max)[0]\n",
      "/Users/shohei.mitani/.pyenv/versions/anaconda3-5.3.1/lib/python3.6/site-packages/boruta/boruta_py.py:380: DataConversionWarning: A column-vector y was passed when a 1d array was expected. Please change the shape of y to (n_samples,), for example using ravel().\n",
      "  self.estimator.fit(X, y)\n"
     ]
    },
    {
     "name": "stdout",
     "output_type": "stream",
     "text": [
      "Iteration: \t466 / 500\n",
      "Confirmed: \t22\n",
      "Tentative: \t1\n",
      "Rejected: \t107\n"
     ]
    },
    {
     "name": "stderr",
     "output_type": "stream",
     "text": [
      "/Users/shohei.mitani/.pyenv/versions/anaconda3-5.3.1/lib/python3.6/site-packages/boruta/boruta_py.py:418: RuntimeWarning: invalid value encountered in greater\n",
      "  hits = np.where(cur_imp[0] > imp_sha_max)[0]\n",
      "/Users/shohei.mitani/.pyenv/versions/anaconda3-5.3.1/lib/python3.6/site-packages/boruta/boruta_py.py:380: DataConversionWarning: A column-vector y was passed when a 1d array was expected. Please change the shape of y to (n_samples,), for example using ravel().\n",
      "  self.estimator.fit(X, y)\n"
     ]
    },
    {
     "name": "stdout",
     "output_type": "stream",
     "text": [
      "Iteration: \t467 / 500\n",
      "Confirmed: \t22\n",
      "Tentative: \t1\n",
      "Rejected: \t107\n"
     ]
    },
    {
     "name": "stderr",
     "output_type": "stream",
     "text": [
      "/Users/shohei.mitani/.pyenv/versions/anaconda3-5.3.1/lib/python3.6/site-packages/boruta/boruta_py.py:418: RuntimeWarning: invalid value encountered in greater\n",
      "  hits = np.where(cur_imp[0] > imp_sha_max)[0]\n",
      "/Users/shohei.mitani/.pyenv/versions/anaconda3-5.3.1/lib/python3.6/site-packages/boruta/boruta_py.py:380: DataConversionWarning: A column-vector y was passed when a 1d array was expected. Please change the shape of y to (n_samples,), for example using ravel().\n",
      "  self.estimator.fit(X, y)\n"
     ]
    },
    {
     "name": "stdout",
     "output_type": "stream",
     "text": [
      "Iteration: \t468 / 500\n",
      "Confirmed: \t22\n",
      "Tentative: \t1\n",
      "Rejected: \t107\n"
     ]
    },
    {
     "name": "stderr",
     "output_type": "stream",
     "text": [
      "/Users/shohei.mitani/.pyenv/versions/anaconda3-5.3.1/lib/python3.6/site-packages/boruta/boruta_py.py:418: RuntimeWarning: invalid value encountered in greater\n",
      "  hits = np.where(cur_imp[0] > imp_sha_max)[0]\n",
      "/Users/shohei.mitani/.pyenv/versions/anaconda3-5.3.1/lib/python3.6/site-packages/boruta/boruta_py.py:380: DataConversionWarning: A column-vector y was passed when a 1d array was expected. Please change the shape of y to (n_samples,), for example using ravel().\n",
      "  self.estimator.fit(X, y)\n"
     ]
    },
    {
     "name": "stdout",
     "output_type": "stream",
     "text": [
      "Iteration: \t469 / 500\n",
      "Confirmed: \t22\n",
      "Tentative: \t1\n",
      "Rejected: \t107\n"
     ]
    },
    {
     "name": "stderr",
     "output_type": "stream",
     "text": [
      "/Users/shohei.mitani/.pyenv/versions/anaconda3-5.3.1/lib/python3.6/site-packages/boruta/boruta_py.py:418: RuntimeWarning: invalid value encountered in greater\n",
      "  hits = np.where(cur_imp[0] > imp_sha_max)[0]\n",
      "/Users/shohei.mitani/.pyenv/versions/anaconda3-5.3.1/lib/python3.6/site-packages/boruta/boruta_py.py:380: DataConversionWarning: A column-vector y was passed when a 1d array was expected. Please change the shape of y to (n_samples,), for example using ravel().\n",
      "  self.estimator.fit(X, y)\n"
     ]
    },
    {
     "name": "stdout",
     "output_type": "stream",
     "text": [
      "Iteration: \t470 / 500\n",
      "Confirmed: \t22\n",
      "Tentative: \t1\n",
      "Rejected: \t107\n"
     ]
    },
    {
     "name": "stderr",
     "output_type": "stream",
     "text": [
      "/Users/shohei.mitani/.pyenv/versions/anaconda3-5.3.1/lib/python3.6/site-packages/boruta/boruta_py.py:418: RuntimeWarning: invalid value encountered in greater\n",
      "  hits = np.where(cur_imp[0] > imp_sha_max)[0]\n",
      "/Users/shohei.mitani/.pyenv/versions/anaconda3-5.3.1/lib/python3.6/site-packages/boruta/boruta_py.py:380: DataConversionWarning: A column-vector y was passed when a 1d array was expected. Please change the shape of y to (n_samples,), for example using ravel().\n",
      "  self.estimator.fit(X, y)\n"
     ]
    },
    {
     "name": "stdout",
     "output_type": "stream",
     "text": [
      "Iteration: \t471 / 500\n",
      "Confirmed: \t22\n",
      "Tentative: \t1\n",
      "Rejected: \t107\n"
     ]
    },
    {
     "name": "stderr",
     "output_type": "stream",
     "text": [
      "/Users/shohei.mitani/.pyenv/versions/anaconda3-5.3.1/lib/python3.6/site-packages/boruta/boruta_py.py:418: RuntimeWarning: invalid value encountered in greater\n",
      "  hits = np.where(cur_imp[0] > imp_sha_max)[0]\n",
      "/Users/shohei.mitani/.pyenv/versions/anaconda3-5.3.1/lib/python3.6/site-packages/boruta/boruta_py.py:380: DataConversionWarning: A column-vector y was passed when a 1d array was expected. Please change the shape of y to (n_samples,), for example using ravel().\n",
      "  self.estimator.fit(X, y)\n"
     ]
    },
    {
     "name": "stdout",
     "output_type": "stream",
     "text": [
      "Iteration: \t472 / 500\n",
      "Confirmed: \t22\n",
      "Tentative: \t1\n",
      "Rejected: \t107\n"
     ]
    },
    {
     "name": "stderr",
     "output_type": "stream",
     "text": [
      "/Users/shohei.mitani/.pyenv/versions/anaconda3-5.3.1/lib/python3.6/site-packages/boruta/boruta_py.py:418: RuntimeWarning: invalid value encountered in greater\n",
      "  hits = np.where(cur_imp[0] > imp_sha_max)[0]\n",
      "/Users/shohei.mitani/.pyenv/versions/anaconda3-5.3.1/lib/python3.6/site-packages/boruta/boruta_py.py:380: DataConversionWarning: A column-vector y was passed when a 1d array was expected. Please change the shape of y to (n_samples,), for example using ravel().\n",
      "  self.estimator.fit(X, y)\n"
     ]
    },
    {
     "name": "stdout",
     "output_type": "stream",
     "text": [
      "Iteration: \t473 / 500\n",
      "Confirmed: \t22\n",
      "Tentative: \t1\n",
      "Rejected: \t107\n"
     ]
    },
    {
     "name": "stderr",
     "output_type": "stream",
     "text": [
      "/Users/shohei.mitani/.pyenv/versions/anaconda3-5.3.1/lib/python3.6/site-packages/boruta/boruta_py.py:418: RuntimeWarning: invalid value encountered in greater\n",
      "  hits = np.where(cur_imp[0] > imp_sha_max)[0]\n",
      "/Users/shohei.mitani/.pyenv/versions/anaconda3-5.3.1/lib/python3.6/site-packages/boruta/boruta_py.py:380: DataConversionWarning: A column-vector y was passed when a 1d array was expected. Please change the shape of y to (n_samples,), for example using ravel().\n",
      "  self.estimator.fit(X, y)\n"
     ]
    },
    {
     "name": "stdout",
     "output_type": "stream",
     "text": [
      "Iteration: \t474 / 500\n",
      "Confirmed: \t22\n",
      "Tentative: \t1\n",
      "Rejected: \t107\n"
     ]
    },
    {
     "name": "stderr",
     "output_type": "stream",
     "text": [
      "/Users/shohei.mitani/.pyenv/versions/anaconda3-5.3.1/lib/python3.6/site-packages/boruta/boruta_py.py:418: RuntimeWarning: invalid value encountered in greater\n",
      "  hits = np.where(cur_imp[0] > imp_sha_max)[0]\n",
      "/Users/shohei.mitani/.pyenv/versions/anaconda3-5.3.1/lib/python3.6/site-packages/boruta/boruta_py.py:380: DataConversionWarning: A column-vector y was passed when a 1d array was expected. Please change the shape of y to (n_samples,), for example using ravel().\n",
      "  self.estimator.fit(X, y)\n"
     ]
    },
    {
     "name": "stdout",
     "output_type": "stream",
     "text": [
      "Iteration: \t475 / 500\n",
      "Confirmed: \t22\n",
      "Tentative: \t1\n",
      "Rejected: \t107\n"
     ]
    },
    {
     "name": "stderr",
     "output_type": "stream",
     "text": [
      "/Users/shohei.mitani/.pyenv/versions/anaconda3-5.3.1/lib/python3.6/site-packages/boruta/boruta_py.py:418: RuntimeWarning: invalid value encountered in greater\n",
      "  hits = np.where(cur_imp[0] > imp_sha_max)[0]\n",
      "/Users/shohei.mitani/.pyenv/versions/anaconda3-5.3.1/lib/python3.6/site-packages/boruta/boruta_py.py:380: DataConversionWarning: A column-vector y was passed when a 1d array was expected. Please change the shape of y to (n_samples,), for example using ravel().\n",
      "  self.estimator.fit(X, y)\n"
     ]
    },
    {
     "name": "stdout",
     "output_type": "stream",
     "text": [
      "Iteration: \t476 / 500\n",
      "Confirmed: \t22\n",
      "Tentative: \t1\n",
      "Rejected: \t107\n"
     ]
    },
    {
     "name": "stderr",
     "output_type": "stream",
     "text": [
      "/Users/shohei.mitani/.pyenv/versions/anaconda3-5.3.1/lib/python3.6/site-packages/boruta/boruta_py.py:418: RuntimeWarning: invalid value encountered in greater\n",
      "  hits = np.where(cur_imp[0] > imp_sha_max)[0]\n",
      "/Users/shohei.mitani/.pyenv/versions/anaconda3-5.3.1/lib/python3.6/site-packages/boruta/boruta_py.py:380: DataConversionWarning: A column-vector y was passed when a 1d array was expected. Please change the shape of y to (n_samples,), for example using ravel().\n",
      "  self.estimator.fit(X, y)\n"
     ]
    },
    {
     "name": "stdout",
     "output_type": "stream",
     "text": [
      "Iteration: \t477 / 500\n",
      "Confirmed: \t22\n",
      "Tentative: \t1\n",
      "Rejected: \t107\n"
     ]
    },
    {
     "name": "stderr",
     "output_type": "stream",
     "text": [
      "/Users/shohei.mitani/.pyenv/versions/anaconda3-5.3.1/lib/python3.6/site-packages/boruta/boruta_py.py:418: RuntimeWarning: invalid value encountered in greater\n",
      "  hits = np.where(cur_imp[0] > imp_sha_max)[0]\n",
      "/Users/shohei.mitani/.pyenv/versions/anaconda3-5.3.1/lib/python3.6/site-packages/boruta/boruta_py.py:380: DataConversionWarning: A column-vector y was passed when a 1d array was expected. Please change the shape of y to (n_samples,), for example using ravel().\n",
      "  self.estimator.fit(X, y)\n"
     ]
    },
    {
     "name": "stdout",
     "output_type": "stream",
     "text": [
      "Iteration: \t478 / 500\n",
      "Confirmed: \t22\n",
      "Tentative: \t1\n",
      "Rejected: \t107\n"
     ]
    },
    {
     "name": "stderr",
     "output_type": "stream",
     "text": [
      "/Users/shohei.mitani/.pyenv/versions/anaconda3-5.3.1/lib/python3.6/site-packages/boruta/boruta_py.py:418: RuntimeWarning: invalid value encountered in greater\n",
      "  hits = np.where(cur_imp[0] > imp_sha_max)[0]\n",
      "/Users/shohei.mitani/.pyenv/versions/anaconda3-5.3.1/lib/python3.6/site-packages/boruta/boruta_py.py:380: DataConversionWarning: A column-vector y was passed when a 1d array was expected. Please change the shape of y to (n_samples,), for example using ravel().\n",
      "  self.estimator.fit(X, y)\n"
     ]
    },
    {
     "name": "stdout",
     "output_type": "stream",
     "text": [
      "Iteration: \t479 / 500\n",
      "Confirmed: \t22\n",
      "Tentative: \t1\n",
      "Rejected: \t107\n"
     ]
    },
    {
     "name": "stderr",
     "output_type": "stream",
     "text": [
      "/Users/shohei.mitani/.pyenv/versions/anaconda3-5.3.1/lib/python3.6/site-packages/boruta/boruta_py.py:418: RuntimeWarning: invalid value encountered in greater\n",
      "  hits = np.where(cur_imp[0] > imp_sha_max)[0]\n",
      "/Users/shohei.mitani/.pyenv/versions/anaconda3-5.3.1/lib/python3.6/site-packages/boruta/boruta_py.py:380: DataConversionWarning: A column-vector y was passed when a 1d array was expected. Please change the shape of y to (n_samples,), for example using ravel().\n",
      "  self.estimator.fit(X, y)\n"
     ]
    },
    {
     "name": "stdout",
     "output_type": "stream",
     "text": [
      "Iteration: \t480 / 500\n",
      "Confirmed: \t22\n",
      "Tentative: \t1\n",
      "Rejected: \t107\n"
     ]
    },
    {
     "name": "stderr",
     "output_type": "stream",
     "text": [
      "/Users/shohei.mitani/.pyenv/versions/anaconda3-5.3.1/lib/python3.6/site-packages/boruta/boruta_py.py:418: RuntimeWarning: invalid value encountered in greater\n",
      "  hits = np.where(cur_imp[0] > imp_sha_max)[0]\n",
      "/Users/shohei.mitani/.pyenv/versions/anaconda3-5.3.1/lib/python3.6/site-packages/boruta/boruta_py.py:380: DataConversionWarning: A column-vector y was passed when a 1d array was expected. Please change the shape of y to (n_samples,), for example using ravel().\n",
      "  self.estimator.fit(X, y)\n"
     ]
    },
    {
     "name": "stdout",
     "output_type": "stream",
     "text": [
      "Iteration: \t481 / 500\n",
      "Confirmed: \t22\n",
      "Tentative: \t1\n",
      "Rejected: \t107\n"
     ]
    },
    {
     "name": "stderr",
     "output_type": "stream",
     "text": [
      "/Users/shohei.mitani/.pyenv/versions/anaconda3-5.3.1/lib/python3.6/site-packages/boruta/boruta_py.py:418: RuntimeWarning: invalid value encountered in greater\n",
      "  hits = np.where(cur_imp[0] > imp_sha_max)[0]\n",
      "/Users/shohei.mitani/.pyenv/versions/anaconda3-5.3.1/lib/python3.6/site-packages/boruta/boruta_py.py:380: DataConversionWarning: A column-vector y was passed when a 1d array was expected. Please change the shape of y to (n_samples,), for example using ravel().\n",
      "  self.estimator.fit(X, y)\n"
     ]
    },
    {
     "name": "stdout",
     "output_type": "stream",
     "text": [
      "Iteration: \t482 / 500\n",
      "Confirmed: \t22\n",
      "Tentative: \t1\n",
      "Rejected: \t107\n"
     ]
    },
    {
     "name": "stderr",
     "output_type": "stream",
     "text": [
      "/Users/shohei.mitani/.pyenv/versions/anaconda3-5.3.1/lib/python3.6/site-packages/boruta/boruta_py.py:418: RuntimeWarning: invalid value encountered in greater\n",
      "  hits = np.where(cur_imp[0] > imp_sha_max)[0]\n",
      "/Users/shohei.mitani/.pyenv/versions/anaconda3-5.3.1/lib/python3.6/site-packages/boruta/boruta_py.py:380: DataConversionWarning: A column-vector y was passed when a 1d array was expected. Please change the shape of y to (n_samples,), for example using ravel().\n",
      "  self.estimator.fit(X, y)\n"
     ]
    },
    {
     "name": "stdout",
     "output_type": "stream",
     "text": [
      "Iteration: \t483 / 500\n",
      "Confirmed: \t22\n",
      "Tentative: \t1\n",
      "Rejected: \t107\n"
     ]
    },
    {
     "name": "stderr",
     "output_type": "stream",
     "text": [
      "/Users/shohei.mitani/.pyenv/versions/anaconda3-5.3.1/lib/python3.6/site-packages/boruta/boruta_py.py:418: RuntimeWarning: invalid value encountered in greater\n",
      "  hits = np.where(cur_imp[0] > imp_sha_max)[0]\n",
      "/Users/shohei.mitani/.pyenv/versions/anaconda3-5.3.1/lib/python3.6/site-packages/boruta/boruta_py.py:380: DataConversionWarning: A column-vector y was passed when a 1d array was expected. Please change the shape of y to (n_samples,), for example using ravel().\n",
      "  self.estimator.fit(X, y)\n"
     ]
    },
    {
     "name": "stdout",
     "output_type": "stream",
     "text": [
      "Iteration: \t484 / 500\n",
      "Confirmed: \t22\n",
      "Tentative: \t1\n",
      "Rejected: \t107\n"
     ]
    },
    {
     "name": "stderr",
     "output_type": "stream",
     "text": [
      "/Users/shohei.mitani/.pyenv/versions/anaconda3-5.3.1/lib/python3.6/site-packages/boruta/boruta_py.py:418: RuntimeWarning: invalid value encountered in greater\n",
      "  hits = np.where(cur_imp[0] > imp_sha_max)[0]\n",
      "/Users/shohei.mitani/.pyenv/versions/anaconda3-5.3.1/lib/python3.6/site-packages/boruta/boruta_py.py:380: DataConversionWarning: A column-vector y was passed when a 1d array was expected. Please change the shape of y to (n_samples,), for example using ravel().\n",
      "  self.estimator.fit(X, y)\n"
     ]
    },
    {
     "name": "stdout",
     "output_type": "stream",
     "text": [
      "Iteration: \t485 / 500\n",
      "Confirmed: \t22\n",
      "Tentative: \t1\n",
      "Rejected: \t107\n"
     ]
    },
    {
     "name": "stderr",
     "output_type": "stream",
     "text": [
      "/Users/shohei.mitani/.pyenv/versions/anaconda3-5.3.1/lib/python3.6/site-packages/boruta/boruta_py.py:418: RuntimeWarning: invalid value encountered in greater\n",
      "  hits = np.where(cur_imp[0] > imp_sha_max)[0]\n",
      "/Users/shohei.mitani/.pyenv/versions/anaconda3-5.3.1/lib/python3.6/site-packages/boruta/boruta_py.py:380: DataConversionWarning: A column-vector y was passed when a 1d array was expected. Please change the shape of y to (n_samples,), for example using ravel().\n",
      "  self.estimator.fit(X, y)\n"
     ]
    },
    {
     "name": "stdout",
     "output_type": "stream",
     "text": [
      "Iteration: \t486 / 500\n",
      "Confirmed: \t22\n",
      "Tentative: \t1\n",
      "Rejected: \t107\n"
     ]
    },
    {
     "name": "stderr",
     "output_type": "stream",
     "text": [
      "/Users/shohei.mitani/.pyenv/versions/anaconda3-5.3.1/lib/python3.6/site-packages/boruta/boruta_py.py:418: RuntimeWarning: invalid value encountered in greater\n",
      "  hits = np.where(cur_imp[0] > imp_sha_max)[0]\n",
      "/Users/shohei.mitani/.pyenv/versions/anaconda3-5.3.1/lib/python3.6/site-packages/boruta/boruta_py.py:380: DataConversionWarning: A column-vector y was passed when a 1d array was expected. Please change the shape of y to (n_samples,), for example using ravel().\n",
      "  self.estimator.fit(X, y)\n"
     ]
    },
    {
     "name": "stdout",
     "output_type": "stream",
     "text": [
      "Iteration: \t487 / 500\n",
      "Confirmed: \t22\n",
      "Tentative: \t1\n",
      "Rejected: \t107\n"
     ]
    },
    {
     "name": "stderr",
     "output_type": "stream",
     "text": [
      "/Users/shohei.mitani/.pyenv/versions/anaconda3-5.3.1/lib/python3.6/site-packages/boruta/boruta_py.py:418: RuntimeWarning: invalid value encountered in greater\n",
      "  hits = np.where(cur_imp[0] > imp_sha_max)[0]\n",
      "/Users/shohei.mitani/.pyenv/versions/anaconda3-5.3.1/lib/python3.6/site-packages/boruta/boruta_py.py:380: DataConversionWarning: A column-vector y was passed when a 1d array was expected. Please change the shape of y to (n_samples,), for example using ravel().\n",
      "  self.estimator.fit(X, y)\n"
     ]
    },
    {
     "name": "stdout",
     "output_type": "stream",
     "text": [
      "Iteration: \t488 / 500\n",
      "Confirmed: \t22\n",
      "Tentative: \t1\n",
      "Rejected: \t107\n"
     ]
    },
    {
     "name": "stderr",
     "output_type": "stream",
     "text": [
      "/Users/shohei.mitani/.pyenv/versions/anaconda3-5.3.1/lib/python3.6/site-packages/boruta/boruta_py.py:418: RuntimeWarning: invalid value encountered in greater\n",
      "  hits = np.where(cur_imp[0] > imp_sha_max)[0]\n",
      "/Users/shohei.mitani/.pyenv/versions/anaconda3-5.3.1/lib/python3.6/site-packages/boruta/boruta_py.py:380: DataConversionWarning: A column-vector y was passed when a 1d array was expected. Please change the shape of y to (n_samples,), for example using ravel().\n",
      "  self.estimator.fit(X, y)\n"
     ]
    },
    {
     "name": "stdout",
     "output_type": "stream",
     "text": [
      "Iteration: \t489 / 500\n",
      "Confirmed: \t22\n",
      "Tentative: \t1\n",
      "Rejected: \t107\n"
     ]
    },
    {
     "name": "stderr",
     "output_type": "stream",
     "text": [
      "/Users/shohei.mitani/.pyenv/versions/anaconda3-5.3.1/lib/python3.6/site-packages/boruta/boruta_py.py:418: RuntimeWarning: invalid value encountered in greater\n",
      "  hits = np.where(cur_imp[0] > imp_sha_max)[0]\n",
      "/Users/shohei.mitani/.pyenv/versions/anaconda3-5.3.1/lib/python3.6/site-packages/boruta/boruta_py.py:380: DataConversionWarning: A column-vector y was passed when a 1d array was expected. Please change the shape of y to (n_samples,), for example using ravel().\n",
      "  self.estimator.fit(X, y)\n"
     ]
    },
    {
     "name": "stdout",
     "output_type": "stream",
     "text": [
      "Iteration: \t490 / 500\n",
      "Confirmed: \t22\n",
      "Tentative: \t1\n",
      "Rejected: \t107\n"
     ]
    },
    {
     "name": "stderr",
     "output_type": "stream",
     "text": [
      "/Users/shohei.mitani/.pyenv/versions/anaconda3-5.3.1/lib/python3.6/site-packages/boruta/boruta_py.py:418: RuntimeWarning: invalid value encountered in greater\n",
      "  hits = np.where(cur_imp[0] > imp_sha_max)[0]\n",
      "/Users/shohei.mitani/.pyenv/versions/anaconda3-5.3.1/lib/python3.6/site-packages/boruta/boruta_py.py:380: DataConversionWarning: A column-vector y was passed when a 1d array was expected. Please change the shape of y to (n_samples,), for example using ravel().\n",
      "  self.estimator.fit(X, y)\n"
     ]
    },
    {
     "name": "stdout",
     "output_type": "stream",
     "text": [
      "Iteration: \t491 / 500\n",
      "Confirmed: \t22\n",
      "Tentative: \t1\n",
      "Rejected: \t107\n"
     ]
    },
    {
     "name": "stderr",
     "output_type": "stream",
     "text": [
      "/Users/shohei.mitani/.pyenv/versions/anaconda3-5.3.1/lib/python3.6/site-packages/boruta/boruta_py.py:418: RuntimeWarning: invalid value encountered in greater\n",
      "  hits = np.where(cur_imp[0] > imp_sha_max)[0]\n",
      "/Users/shohei.mitani/.pyenv/versions/anaconda3-5.3.1/lib/python3.6/site-packages/boruta/boruta_py.py:380: DataConversionWarning: A column-vector y was passed when a 1d array was expected. Please change the shape of y to (n_samples,), for example using ravel().\n",
      "  self.estimator.fit(X, y)\n"
     ]
    },
    {
     "name": "stdout",
     "output_type": "stream",
     "text": [
      "Iteration: \t492 / 500\n",
      "Confirmed: \t22\n",
      "Tentative: \t1\n",
      "Rejected: \t107\n"
     ]
    },
    {
     "name": "stderr",
     "output_type": "stream",
     "text": [
      "/Users/shohei.mitani/.pyenv/versions/anaconda3-5.3.1/lib/python3.6/site-packages/boruta/boruta_py.py:418: RuntimeWarning: invalid value encountered in greater\n",
      "  hits = np.where(cur_imp[0] > imp_sha_max)[0]\n",
      "/Users/shohei.mitani/.pyenv/versions/anaconda3-5.3.1/lib/python3.6/site-packages/boruta/boruta_py.py:380: DataConversionWarning: A column-vector y was passed when a 1d array was expected. Please change the shape of y to (n_samples,), for example using ravel().\n",
      "  self.estimator.fit(X, y)\n"
     ]
    },
    {
     "name": "stdout",
     "output_type": "stream",
     "text": [
      "Iteration: \t493 / 500\n",
      "Confirmed: \t22\n",
      "Tentative: \t1\n",
      "Rejected: \t107\n"
     ]
    },
    {
     "name": "stderr",
     "output_type": "stream",
     "text": [
      "/Users/shohei.mitani/.pyenv/versions/anaconda3-5.3.1/lib/python3.6/site-packages/boruta/boruta_py.py:418: RuntimeWarning: invalid value encountered in greater\n",
      "  hits = np.where(cur_imp[0] > imp_sha_max)[0]\n",
      "/Users/shohei.mitani/.pyenv/versions/anaconda3-5.3.1/lib/python3.6/site-packages/boruta/boruta_py.py:380: DataConversionWarning: A column-vector y was passed when a 1d array was expected. Please change the shape of y to (n_samples,), for example using ravel().\n",
      "  self.estimator.fit(X, y)\n"
     ]
    },
    {
     "name": "stdout",
     "output_type": "stream",
     "text": [
      "Iteration: \t494 / 500\n",
      "Confirmed: \t22\n",
      "Tentative: \t1\n",
      "Rejected: \t107\n"
     ]
    },
    {
     "name": "stderr",
     "output_type": "stream",
     "text": [
      "/Users/shohei.mitani/.pyenv/versions/anaconda3-5.3.1/lib/python3.6/site-packages/boruta/boruta_py.py:418: RuntimeWarning: invalid value encountered in greater\n",
      "  hits = np.where(cur_imp[0] > imp_sha_max)[0]\n",
      "/Users/shohei.mitani/.pyenv/versions/anaconda3-5.3.1/lib/python3.6/site-packages/boruta/boruta_py.py:380: DataConversionWarning: A column-vector y was passed when a 1d array was expected. Please change the shape of y to (n_samples,), for example using ravel().\n",
      "  self.estimator.fit(X, y)\n"
     ]
    },
    {
     "name": "stdout",
     "output_type": "stream",
     "text": [
      "Iteration: \t495 / 500\n",
      "Confirmed: \t22\n",
      "Tentative: \t1\n",
      "Rejected: \t107\n"
     ]
    },
    {
     "name": "stderr",
     "output_type": "stream",
     "text": [
      "/Users/shohei.mitani/.pyenv/versions/anaconda3-5.3.1/lib/python3.6/site-packages/boruta/boruta_py.py:418: RuntimeWarning: invalid value encountered in greater\n",
      "  hits = np.where(cur_imp[0] > imp_sha_max)[0]\n",
      "/Users/shohei.mitani/.pyenv/versions/anaconda3-5.3.1/lib/python3.6/site-packages/boruta/boruta_py.py:380: DataConversionWarning: A column-vector y was passed when a 1d array was expected. Please change the shape of y to (n_samples,), for example using ravel().\n",
      "  self.estimator.fit(X, y)\n"
     ]
    },
    {
     "name": "stdout",
     "output_type": "stream",
     "text": [
      "Iteration: \t496 / 500\n",
      "Confirmed: \t22\n",
      "Tentative: \t1\n",
      "Rejected: \t107\n"
     ]
    },
    {
     "name": "stderr",
     "output_type": "stream",
     "text": [
      "/Users/shohei.mitani/.pyenv/versions/anaconda3-5.3.1/lib/python3.6/site-packages/boruta/boruta_py.py:418: RuntimeWarning: invalid value encountered in greater\n",
      "  hits = np.where(cur_imp[0] > imp_sha_max)[0]\n",
      "/Users/shohei.mitani/.pyenv/versions/anaconda3-5.3.1/lib/python3.6/site-packages/boruta/boruta_py.py:380: DataConversionWarning: A column-vector y was passed when a 1d array was expected. Please change the shape of y to (n_samples,), for example using ravel().\n",
      "  self.estimator.fit(X, y)\n"
     ]
    },
    {
     "name": "stdout",
     "output_type": "stream",
     "text": [
      "Iteration: \t497 / 500\n",
      "Confirmed: \t22\n",
      "Tentative: \t1\n",
      "Rejected: \t107\n"
     ]
    },
    {
     "name": "stderr",
     "output_type": "stream",
     "text": [
      "/Users/shohei.mitani/.pyenv/versions/anaconda3-5.3.1/lib/python3.6/site-packages/boruta/boruta_py.py:418: RuntimeWarning: invalid value encountered in greater\n",
      "  hits = np.where(cur_imp[0] > imp_sha_max)[0]\n",
      "/Users/shohei.mitani/.pyenv/versions/anaconda3-5.3.1/lib/python3.6/site-packages/boruta/boruta_py.py:380: DataConversionWarning: A column-vector y was passed when a 1d array was expected. Please change the shape of y to (n_samples,), for example using ravel().\n",
      "  self.estimator.fit(X, y)\n"
     ]
    },
    {
     "name": "stdout",
     "output_type": "stream",
     "text": [
      "Iteration: \t498 / 500\n",
      "Confirmed: \t22\n",
      "Tentative: \t1\n",
      "Rejected: \t107\n",
      "Iteration: \t499 / 500\n",
      "Confirmed: \t22\n",
      "Tentative: \t1\n",
      "Rejected: \t107\n",
      "\n",
      "\n",
      "BorutaPy finished running.\n",
      "\n",
      "Iteration: \t500 / 500\n",
      "Confirmed: \t22\n",
      "Tentative: \t1\n",
      "Rejected: \t107\n"
     ]
    },
    {
     "name": "stderr",
     "output_type": "stream",
     "text": [
      "/Users/shohei.mitani/.pyenv/versions/anaconda3-5.3.1/lib/python3.6/site-packages/boruta/boruta_py.py:418: RuntimeWarning: invalid value encountered in greater\n",
      "  hits = np.where(cur_imp[0] > imp_sha_max)[0]\n"
     ]
    },
    {
     "data": {
      "text/plain": [
       "BorutaPy(alpha=0.05,\n",
       "     estimator=RandomForestClassifier(bootstrap=True, class_weight=None, criterion='gini',\n",
       "            max_depth=7, max_features='auto', max_leaf_nodes=None,\n",
       "            min_impurity_decrease=0.0, min_impurity_split=None,\n",
       "            min_samples_leaf=1, min_samples_split=2,\n",
       "            min_weight_fraction_leaf=0.0, n_estimators=96, n_jobs=-1,\n",
       "            oob_score=False,\n",
       "            random_state=<mtrand.RandomState object at 0x1a20d23d38>,\n",
       "            verbose=0, warm_start=False),\n",
       "     max_iter=500, n_estimators='auto', perc=80,\n",
       "     random_state=<mtrand.RandomState object at 0x1a20d23d38>,\n",
       "     two_step=False, verbose=2)"
      ]
     },
     "execution_count": 25,
     "metadata": {},
     "output_type": "execute_result"
    }
   ],
   "source": [
    "from boruta import BorutaPy\n",
    "from sklearn.ensemble import RandomForestClassifier\n",
    "\n",
    "rf = RandomForestClassifier(n_jobs=-1, max_depth=7)\n",
    "\n",
    "feat_selector = BorutaPy(rf, n_estimators='auto', perc = 80, max_iter=500, two_step=False,verbose=2, random_state=42)\n",
    "# two_stepがない方、つまりBonferroniを用いたほうがうまくいく\n",
    "\n",
    "# データの二度漬けになるので特徴量選択する際にもtestを含めてはいけない\n",
    "feat_selector.fit(X_train, y_train)"
   ]
  },
  {
   "cell_type": "code",
   "execution_count": 66,
   "metadata": {},
   "outputs": [
    {
     "name": "stderr",
     "output_type": "stream",
     "text": [
      "/Users/shohei.mitani/.pyenv/versions/anaconda3-5.3.1/lib/python3.6/site-packages/sklearn/preprocessing/label.py:219: DataConversionWarning: A column-vector y was passed when a 1d array was expected. Please change the shape of y to (n_samples, ), for example using ravel().\n",
      "  y = column_or_1d(y, warn=True)\n",
      "/Users/shohei.mitani/.pyenv/versions/anaconda3-5.3.1/lib/python3.6/site-packages/sklearn/preprocessing/label.py:252: DataConversionWarning: A column-vector y was passed when a 1d array was expected. Please change the shape of y to (n_samples, ), for example using ravel().\n",
      "  y = column_or_1d(y, warn=True)\n"
     ]
    },
    {
     "name": "stdout",
     "output_type": "stream",
     "text": [
      "Cross-Validation scores : [0.66582915 0.70100503 0.67336683 0.61809045 0.66498741 0.68765743\n",
      " 0.6372796  0.68010076]\n",
      "\n"
     ]
    }
   ],
   "source": [
    "X_train_selected = pd.DataFrame(X_train).iloc[:,feat_selector.support_]\n",
    "X_test_selected = pd.DataFrame(X_test).iloc[:,feat_selector.support_]\n",
    "\n",
    "xgb_model = xgb.XGBClassifier(**params)\n",
    "xgb_model.fit(X_train_selected, y_train)\n",
    "\n",
    "kfold = KFold(n_splits=8)\n",
    "scores = cross_val_score(estimator=xgb_model, X=X_test_selected, y=y_test, cv=kfold, n_jobs=-1)\n",
    "print(\"Cross-Validation scores : {}\\n\".format(scores))\n"
   ]
  },
  {
   "cell_type": "code",
   "execution_count": 65,
   "metadata": {},
   "outputs": [
    {
     "name": "stderr",
     "output_type": "stream",
     "text": [
      "/Users/shohei.mitani/.pyenv/versions/anaconda3-5.3.1/lib/python3.6/site-packages/ipykernel_launcher.py:19: SettingWithCopyWarning: \n",
      "A value is trying to be set on a copy of a slice from a DataFrame.\n",
      "Try using .loc[row_indexer,col_indexer] = value instead\n",
      "\n",
      "See the caveats in the documentation: http://pandas.pydata.org/pandas-docs/stable/indexing.html#indexing-view-versus-copy\n"
     ]
    },
    {
     "name": "stdout",
     "output_type": "stream",
     "text": [
      "[0 1]\n",
      "[9.1552496e-01 8.1850283e-02 3.7497017e-04 3.7497017e-04 3.7497017e-04\n",
      " 3.7497017e-04 3.7497017e-04 3.7497017e-04 3.7497017e-04]\n",
      "Class_1\n"
     ]
    }
   ],
   "source": [
    "\"\"\"\n",
    "testデータを使ってscoreを作成する\n",
    "\"\"\"\n",
    "\n",
    "test_df = pd.read_csv(\"./data/test.csv\")\n",
    "submit_df = pd.read_csv(\"./data/sample_submission.csv\")\n",
    "\n",
    "# score作成用結果ラベル\n",
    "labels = np.unique(np.ravel(y))\n",
    "\n",
    "# score用データ\n",
    "_test = test_df[columns]\n",
    "\n",
    "# カテゴリカラムを数値に変更する\n",
    "for f in _test.columns: \n",
    "    if _test[f].dtype=='object': \n",
    "        lbl = preprocessing.LabelEncoder() \n",
    "        lbl.fit(list(_test[f].values)) \n",
    "        _test[f] = lbl.transform(list(_test[f].values))\n",
    "\n",
    "# 欠損値保管\n",
    "imp = SimpleImputer(missing_values=np.nan, strategy='median')\n",
    "imp = imp.fit(_test)\n",
    "imputed_test = imp.transform(_test)\n",
    "\n",
    "# テストデータを使ってどの出力ラベルになりうるか予測する\n",
    "# predict_probaは出力ラベルそれぞれの確立を吐き出す\n",
    "test_prob = xgb_model.predict_proba(imputed_test)\n",
    "\n",
    "# 試しにあるデータの出力結果を見てみる\n",
    "# 出力ラベルは 9種類のラベル\n",
    "print(labels)\n",
    "# それぞれ9種類のどれにあたるか、それぞれの確立が出力にあたる\n",
    "print(test_prob[0])\n",
    "# 今回の場合 class4 が予測結果になる\n",
    "print(\"Class_{}\".format(np.argmax(test_prob[0])+1))\n",
    "\n",
    "id_test = test_df['ID'].values\n",
    "pd.DataFrame({\"ID\": id_test, \"PredictedProb\": test_prob[:,1]}).to_csv('./output/prediction.csv',index=False)\n",
    "\n",
    "# submit_df[labels] = test_prob\n",
    "# display(submit_df.head())\n",
    "# submit_df.to_csv('./output/prediction.csv', index = False)"
   ]
  },
  {
   "cell_type": "code",
   "execution_count": 70,
   "metadata": {},
   "outputs": [],
   "source": [
    "test_selected = pd.DataFrame(imputed_test).iloc[:,feat_selector.support_]\n",
    "test_prob = xgb_model.predict_proba(test_selected)\n",
    "id_test = test_df['ID'].values\n",
    "pd.DataFrame({\"ID\": id_test, \"PredictedProb\": test_prob[:,1]}).to_csv('./output/prediction.csv',index=False)"
   ]
  },
  {
   "cell_type": "code",
   "execution_count": 64,
   "metadata": {},
   "outputs": [
    {
     "data": {
      "text/plain": [
       "array([[9.1552496e-01, 8.1850283e-02, 3.7497017e-04, ..., 3.7497017e-04,\n",
       "        3.7497017e-04, 3.7497017e-04],\n",
       "       [2.7850232e-01, 7.1786481e-01, 5.1898108e-04, ..., 5.1898108e-04,\n",
       "        5.1898108e-04, 5.1898108e-04],\n",
       "       [3.7715256e-01, 6.1867273e-01, 5.9637858e-04, ..., 5.9637858e-04,\n",
       "        5.9637858e-04, 5.9637858e-04],\n",
       "       ...,\n",
       "       [4.1403973e-01, 5.8207119e-01, 5.5558007e-04, ..., 5.5558007e-04,\n",
       "        5.5558007e-04, 5.5558007e-04],\n",
       "       [2.9604751e-01, 7.0040846e-01, 5.0629192e-04, ..., 5.0629192e-04,\n",
       "        5.0629192e-04, 5.0629192e-04],\n",
       "       [8.0772400e-01, 1.8935162e-01, 4.1776340e-04, ..., 4.1776340e-04,\n",
       "        4.1776340e-04, 4.1776340e-04]], dtype=float32)"
      ]
     },
     "execution_count": 64,
     "metadata": {},
     "output_type": "execute_result"
    }
   ],
   "source": [
    "test_prob"
   ]
  },
  {
   "cell_type": "code",
   "execution_count": null,
   "metadata": {},
   "outputs": [],
   "source": []
  }
 ],
 "metadata": {
  "kernelspec": {
   "display_name": "Python 3",
   "language": "python",
   "name": "python3"
  },
  "language_info": {
   "codemirror_mode": {
    "name": "ipython",
    "version": 3
   },
   "file_extension": ".py",
   "mimetype": "text/x-python",
   "name": "python",
   "nbconvert_exporter": "python",
   "pygments_lexer": "ipython3",
   "version": "3.6.8"
  }
 },
 "nbformat": 4,
 "nbformat_minor": 2
}
